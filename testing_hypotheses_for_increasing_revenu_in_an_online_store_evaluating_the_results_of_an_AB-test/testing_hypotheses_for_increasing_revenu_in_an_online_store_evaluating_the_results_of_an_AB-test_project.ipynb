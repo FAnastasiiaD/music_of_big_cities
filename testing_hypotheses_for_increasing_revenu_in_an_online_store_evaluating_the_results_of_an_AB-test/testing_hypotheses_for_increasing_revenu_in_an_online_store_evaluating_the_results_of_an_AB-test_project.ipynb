{
 "cells": [
  {
   "cell_type": "markdown",
   "metadata": {},
   "source": [
    "# Проверка гипотез по увеличению выручки в интернет-магазине — оценка результатов A/B теста"
   ]
  },
  {
   "cell_type": "markdown",
   "metadata": {},
   "source": [
    "## Шаг 1. Обзор данных"
   ]
  },
  {
   "cell_type": "code",
   "execution_count": 1,
   "metadata": {},
   "outputs": [],
   "source": [
    "# выгрузка необходимых библиотек для работы с данными\n",
    "import pandas as pd \n",
    "from scipy import stats as st\n",
    "import numpy as np\n",
    "import math as mth\n",
    "import datetime as dt\n",
    "import matplotlib.pyplot as plt\n",
    "from pandas.plotting import register_matplotlib_converters\n",
    "import warnings"
   ]
  },
  {
   "cell_type": "code",
   "execution_count": 9,
   "metadata": {},
   "outputs": [],
   "source": [
    "# функция для просмотра информации и первых строк таблиц\n",
    "def inform(df):\n",
    "    df.info()\n",
    "    print(' '*50)\n",
    "    display(df.head())\n",
    "    return"
   ]
  },
  {
   "cell_type": "code",
   "execution_count": 10,
   "metadata": {},
   "outputs": [],
   "source": [
    "# загрузка данных о гипотезах, заказах и посетителях в переменные\n",
    "hypothesis, orders, visitors = (\n",
    "    pd.read_csv('/datasets/hypothesis.csv'),\n",
    "    pd.read_csv('/datasets/orders.csv'),\n",
    "    pd.read_csv('/datasets/visitors.csv')\n",
    ")"
   ]
  },
  {
   "cell_type": "code",
   "execution_count": 12,
   "metadata": {},
   "outputs": [
    {
     "name": "stdout",
     "output_type": "stream",
     "text": [
      "<class 'pandas.core.frame.DataFrame'>\n",
      "RangeIndex: 9 entries, 0 to 8\n",
      "Data columns (total 5 columns):\n",
      " #   Column      Non-Null Count  Dtype \n",
      "---  ------      --------------  ----- \n",
      " 0   Hypothesis  9 non-null      object\n",
      " 1   Reach       9 non-null      int64 \n",
      " 2   Impact      9 non-null      int64 \n",
      " 3   Confidence  9 non-null      int64 \n",
      " 4   Efforts     9 non-null      int64 \n",
      "dtypes: int64(4), object(1)\n",
      "memory usage: 488.0+ bytes\n",
      "                                                  \n"
     ]
    },
    {
     "data": {
      "text/html": [
       "<div>\n",
       "<style scoped>\n",
       "    .dataframe tbody tr th:only-of-type {\n",
       "        vertical-align: middle;\n",
       "    }\n",
       "\n",
       "    .dataframe tbody tr th {\n",
       "        vertical-align: top;\n",
       "    }\n",
       "\n",
       "    .dataframe thead th {\n",
       "        text-align: right;\n",
       "    }\n",
       "</style>\n",
       "<table border=\"1\" class=\"dataframe\">\n",
       "  <thead>\n",
       "    <tr style=\"text-align: right;\">\n",
       "      <th></th>\n",
       "      <th>Hypothesis</th>\n",
       "      <th>Reach</th>\n",
       "      <th>Impact</th>\n",
       "      <th>Confidence</th>\n",
       "      <th>Efforts</th>\n",
       "    </tr>\n",
       "  </thead>\n",
       "  <tbody>\n",
       "    <tr>\n",
       "      <th>0</th>\n",
       "      <td>Добавить два новых канала привлечения трафика,...</td>\n",
       "      <td>3</td>\n",
       "      <td>10</td>\n",
       "      <td>8</td>\n",
       "      <td>6</td>\n",
       "    </tr>\n",
       "    <tr>\n",
       "      <th>1</th>\n",
       "      <td>Запустить собственную службу доставки, что сок...</td>\n",
       "      <td>2</td>\n",
       "      <td>5</td>\n",
       "      <td>4</td>\n",
       "      <td>10</td>\n",
       "    </tr>\n",
       "    <tr>\n",
       "      <th>2</th>\n",
       "      <td>Добавить блоки рекомендаций товаров на сайт ин...</td>\n",
       "      <td>8</td>\n",
       "      <td>3</td>\n",
       "      <td>7</td>\n",
       "      <td>3</td>\n",
       "    </tr>\n",
       "    <tr>\n",
       "      <th>3</th>\n",
       "      <td>Изменить структура категорий, что увеличит кон...</td>\n",
       "      <td>8</td>\n",
       "      <td>3</td>\n",
       "      <td>3</td>\n",
       "      <td>8</td>\n",
       "    </tr>\n",
       "    <tr>\n",
       "      <th>4</th>\n",
       "      <td>Изменить цвет фона главной страницы, чтобы уве...</td>\n",
       "      <td>3</td>\n",
       "      <td>1</td>\n",
       "      <td>1</td>\n",
       "      <td>1</td>\n",
       "    </tr>\n",
       "  </tbody>\n",
       "</table>\n",
       "</div>"
      ],
      "text/plain": [
       "                                          Hypothesis  Reach  Impact  \\\n",
       "0  Добавить два новых канала привлечения трафика,...      3      10   \n",
       "1  Запустить собственную службу доставки, что сок...      2       5   \n",
       "2  Добавить блоки рекомендаций товаров на сайт ин...      8       3   \n",
       "3  Изменить структура категорий, что увеличит кон...      8       3   \n",
       "4  Изменить цвет фона главной страницы, чтобы уве...      3       1   \n",
       "\n",
       "   Confidence  Efforts  \n",
       "0           8        6  \n",
       "1           4       10  \n",
       "2           7        3  \n",
       "3           3        8  \n",
       "4           1        1  "
      ]
     },
     "metadata": {},
     "output_type": "display_data"
    },
    {
     "name": "stdout",
     "output_type": "stream",
     "text": [
      "****************************************************************************************************\n",
      "<class 'pandas.core.frame.DataFrame'>\n",
      "RangeIndex: 1197 entries, 0 to 1196\n",
      "Data columns (total 5 columns):\n",
      " #   Column         Non-Null Count  Dtype \n",
      "---  ------         --------------  ----- \n",
      " 0   transactionId  1197 non-null   int64 \n",
      " 1   visitorId      1197 non-null   int64 \n",
      " 2   date           1197 non-null   object\n",
      " 3   revenue        1197 non-null   int64 \n",
      " 4   group          1197 non-null   object\n",
      "dtypes: int64(3), object(2)\n",
      "memory usage: 46.9+ KB\n",
      "                                                  \n"
     ]
    },
    {
     "data": {
      "text/html": [
       "<div>\n",
       "<style scoped>\n",
       "    .dataframe tbody tr th:only-of-type {\n",
       "        vertical-align: middle;\n",
       "    }\n",
       "\n",
       "    .dataframe tbody tr th {\n",
       "        vertical-align: top;\n",
       "    }\n",
       "\n",
       "    .dataframe thead th {\n",
       "        text-align: right;\n",
       "    }\n",
       "</style>\n",
       "<table border=\"1\" class=\"dataframe\">\n",
       "  <thead>\n",
       "    <tr style=\"text-align: right;\">\n",
       "      <th></th>\n",
       "      <th>transactionId</th>\n",
       "      <th>visitorId</th>\n",
       "      <th>date</th>\n",
       "      <th>revenue</th>\n",
       "      <th>group</th>\n",
       "    </tr>\n",
       "  </thead>\n",
       "  <tbody>\n",
       "    <tr>\n",
       "      <th>0</th>\n",
       "      <td>3667963787</td>\n",
       "      <td>3312258926</td>\n",
       "      <td>2019-08-15</td>\n",
       "      <td>1650</td>\n",
       "      <td>B</td>\n",
       "    </tr>\n",
       "    <tr>\n",
       "      <th>1</th>\n",
       "      <td>2804400009</td>\n",
       "      <td>3642806036</td>\n",
       "      <td>2019-08-15</td>\n",
       "      <td>730</td>\n",
       "      <td>B</td>\n",
       "    </tr>\n",
       "    <tr>\n",
       "      <th>2</th>\n",
       "      <td>2961555356</td>\n",
       "      <td>4069496402</td>\n",
       "      <td>2019-08-15</td>\n",
       "      <td>400</td>\n",
       "      <td>A</td>\n",
       "    </tr>\n",
       "    <tr>\n",
       "      <th>3</th>\n",
       "      <td>3797467345</td>\n",
       "      <td>1196621759</td>\n",
       "      <td>2019-08-15</td>\n",
       "      <td>9759</td>\n",
       "      <td>B</td>\n",
       "    </tr>\n",
       "    <tr>\n",
       "      <th>4</th>\n",
       "      <td>2282983706</td>\n",
       "      <td>2322279887</td>\n",
       "      <td>2019-08-15</td>\n",
       "      <td>2308</td>\n",
       "      <td>B</td>\n",
       "    </tr>\n",
       "  </tbody>\n",
       "</table>\n",
       "</div>"
      ],
      "text/plain": [
       "   transactionId   visitorId        date  revenue group\n",
       "0     3667963787  3312258926  2019-08-15     1650     B\n",
       "1     2804400009  3642806036  2019-08-15      730     B\n",
       "2     2961555356  4069496402  2019-08-15      400     A\n",
       "3     3797467345  1196621759  2019-08-15     9759     B\n",
       "4     2282983706  2322279887  2019-08-15     2308     B"
      ]
     },
     "metadata": {},
     "output_type": "display_data"
    },
    {
     "name": "stdout",
     "output_type": "stream",
     "text": [
      "****************************************************************************************************\n",
      "<class 'pandas.core.frame.DataFrame'>\n",
      "RangeIndex: 62 entries, 0 to 61\n",
      "Data columns (total 3 columns):\n",
      " #   Column    Non-Null Count  Dtype \n",
      "---  ------    --------------  ----- \n",
      " 0   date      62 non-null     object\n",
      " 1   group     62 non-null     object\n",
      " 2   visitors  62 non-null     int64 \n",
      "dtypes: int64(1), object(2)\n",
      "memory usage: 1.6+ KB\n",
      "                                                  \n"
     ]
    },
    {
     "data": {
      "text/html": [
       "<div>\n",
       "<style scoped>\n",
       "    .dataframe tbody tr th:only-of-type {\n",
       "        vertical-align: middle;\n",
       "    }\n",
       "\n",
       "    .dataframe tbody tr th {\n",
       "        vertical-align: top;\n",
       "    }\n",
       "\n",
       "    .dataframe thead th {\n",
       "        text-align: right;\n",
       "    }\n",
       "</style>\n",
       "<table border=\"1\" class=\"dataframe\">\n",
       "  <thead>\n",
       "    <tr style=\"text-align: right;\">\n",
       "      <th></th>\n",
       "      <th>date</th>\n",
       "      <th>group</th>\n",
       "      <th>visitors</th>\n",
       "    </tr>\n",
       "  </thead>\n",
       "  <tbody>\n",
       "    <tr>\n",
       "      <th>0</th>\n",
       "      <td>2019-08-01</td>\n",
       "      <td>A</td>\n",
       "      <td>719</td>\n",
       "    </tr>\n",
       "    <tr>\n",
       "      <th>1</th>\n",
       "      <td>2019-08-02</td>\n",
       "      <td>A</td>\n",
       "      <td>619</td>\n",
       "    </tr>\n",
       "    <tr>\n",
       "      <th>2</th>\n",
       "      <td>2019-08-03</td>\n",
       "      <td>A</td>\n",
       "      <td>507</td>\n",
       "    </tr>\n",
       "    <tr>\n",
       "      <th>3</th>\n",
       "      <td>2019-08-04</td>\n",
       "      <td>A</td>\n",
       "      <td>717</td>\n",
       "    </tr>\n",
       "    <tr>\n",
       "      <th>4</th>\n",
       "      <td>2019-08-05</td>\n",
       "      <td>A</td>\n",
       "      <td>756</td>\n",
       "    </tr>\n",
       "  </tbody>\n",
       "</table>\n",
       "</div>"
      ],
      "text/plain": [
       "         date group  visitors\n",
       "0  2019-08-01     A       719\n",
       "1  2019-08-02     A       619\n",
       "2  2019-08-03     A       507\n",
       "3  2019-08-04     A       717\n",
       "4  2019-08-05     A       756"
      ]
     },
     "metadata": {},
     "output_type": "display_data"
    },
    {
     "name": "stdout",
     "output_type": "stream",
     "text": [
      "****************************************************************************************************\n"
     ]
    }
   ],
   "source": [
    "# общая информация и первые 5 строк таблиц\n",
    "tables = [hypothesis, orders, visitors]\n",
    "\n",
    "for df in tables:\n",
    "    inform(df)\n",
    "    print('*'*100)"
   ]
  },
  {
   "cell_type": "markdown",
   "metadata": {},
   "source": [
    "**Описание данных таблицы `hypothesis`:**\n",
    "\n",
    "- `Hypothesis` — краткое описание гипотезы;\n",
    "- `Reach` — охват пользователей по 10-балльной шкале;\n",
    "- `Impact` — влияние на пользователей по 10-балльной шкале;\n",
    "- `Confidence` — уверенность в гипотезе по 10-балльной шкале;\n",
    "- `Efforts` — затраты ресурсов на проверку гипотезы по 10-балльной шкале. Чем больше значение Efforts, тем дороже проверка гипотезы.\n",
    "\n",
    "**Описание данных таблицы `orders`:**\n",
    "\n",
    "- `transactionId` — идентификатор заказа;\n",
    "- `visitorId` — идентификатор пользователя, совершившего заказ;\n",
    "- `date` — дата, когда был совершён заказ;\n",
    "- `revenue` — выручка заказа;\n",
    "- `group` — группа A/B-теста, в которую попал заказ.\n",
    "\n",
    "**Описание данных таблицы `visitors`:**\n",
    "\n",
    "- `date` — дата;\n",
    "- `group` — группа A/B-теста;\n",
    "- `visitors` — количество пользователей в указанную дату в указанной группе A/B-теста"
   ]
  },
  {
   "cell_type": "markdown",
   "metadata": {},
   "source": [
    "В названиях столбцов присутствует 2 нарушения стиля:\n",
    "1. Строчные буквы сочетаются с прописными.\n",
    "2. Несколько слов следует записывать \"змеиным_регистром\"\n",
    "\n",
    "Также будет изменен тип данных в столбцах с датой для всех таблиц в DateTime для удобства при проведении анализа."
   ]
  },
  {
   "cell_type": "markdown",
   "metadata": {},
   "source": [
    "## Шаг 2. Предобработка данных"
   ]
  },
  {
   "cell_type": "markdown",
   "metadata": {},
   "source": [
    "### Стиль заголовков"
   ]
  },
  {
   "cell_type": "code",
   "execution_count": 13,
   "metadata": {},
   "outputs": [
    {
     "name": "stdout",
     "output_type": "stream",
     "text": [
      "Index(['hypothesis', 'reach', 'impact', 'confidence', 'efforts'], dtype='object')\n"
     ]
    }
   ],
   "source": [
    "# приведение названий столбцов к общему (нижнему) регистру в таблице hypothesis\n",
    "hypothesis.columns = [x.lower() for x in hypothesis.columns]\n",
    "print(hypothesis.columns)"
   ]
  },
  {
   "cell_type": "code",
   "execution_count": 14,
   "metadata": {},
   "outputs": [
    {
     "name": "stdout",
     "output_type": "stream",
     "text": [
      "Index(['transaction_id', 'visitor_id', 'date', 'revenue', 'group'], dtype='object')\n"
     ]
    }
   ],
   "source": [
    "# приведение названий столбцов к нужным регистрам в таблице orders\n",
    "orders.columns = ['transaction_id', 'visitor_id', 'date', 'revenue', 'group']\n",
    "print(orders.columns)"
   ]
  },
  {
   "cell_type": "markdown",
   "metadata": {},
   "source": [
    "### Преобразование данных о времени"
   ]
  },
  {
   "cell_type": "code",
   "execution_count": 15,
   "metadata": {},
   "outputs": [],
   "source": [
    "# преобразование данных о времени в таблице orders\n",
    "orders['date'] = pd.to_datetime(orders['date'])"
   ]
  },
  {
   "cell_type": "code",
   "execution_count": 16,
   "metadata": {},
   "outputs": [],
   "source": [
    "# преобразование данных о времени в таблице visitors\n",
    "visitors['date'] = pd.to_datetime(visitors['date'])"
   ]
  },
  {
   "cell_type": "markdown",
   "metadata": {},
   "source": [
    "###  Корректность разбиения пользователей на группы"
   ]
  },
  {
   "cell_type": "code",
   "execution_count": 17,
   "metadata": {},
   "outputs": [
    {
     "name": "stdout",
     "output_type": "stream",
     "text": [
      "Пользователи, попавшие в группу А и В:group    58\n",
      "dtype: int64\n",
      "Количество уникальных пользователей: 1031\n",
      "Пользователи попавшие в группу А и В: group    5.625606\n",
      "dtype: float64\n"
     ]
    }
   ],
   "source": [
    "# подсчет пользователей, попавших в группы А и В\n",
    "ab = orders.groupby('visitor_id').agg({'group': 'nunique'}).query('group == 2').count()\n",
    "print(f'Пользователи, попавшие в группу А и В:{ab}')\n",
    "\n",
    "# подсчет уникальных пользователей\n",
    "uni = len(orders['visitor_id'].unique())\n",
    "print(f'Количество уникальных пользователей: {uni}')\n",
    "\n",
    "# процент пользователей, попавших в группы А и В\n",
    "print(f'Пользователи попавшие в группу А и В: {(ab / uni) * 100}')"
   ]
  },
  {
   "cell_type": "code",
   "execution_count": 18,
   "metadata": {},
   "outputs": [
    {
     "data": {
      "text/html": [
       "<div>\n",
       "<style scoped>\n",
       "    .dataframe tbody tr th:only-of-type {\n",
       "        vertical-align: middle;\n",
       "    }\n",
       "\n",
       "    .dataframe tbody tr th {\n",
       "        vertical-align: top;\n",
       "    }\n",
       "\n",
       "    .dataframe thead th {\n",
       "        text-align: right;\n",
       "    }\n",
       "</style>\n",
       "<table border=\"1\" class=\"dataframe\">\n",
       "  <thead>\n",
       "    <tr style=\"text-align: right;\">\n",
       "      <th></th>\n",
       "      <th>transaction_id</th>\n",
       "      <th>visitor_id</th>\n",
       "      <th>date</th>\n",
       "      <th>revenue</th>\n",
       "      <th>group</th>\n",
       "    </tr>\n",
       "  </thead>\n",
       "  <tbody>\n",
       "    <tr>\n",
       "      <th>0</th>\n",
       "      <td>3667963787</td>\n",
       "      <td>3312258926</td>\n",
       "      <td>2019-08-15</td>\n",
       "      <td>1650</td>\n",
       "      <td>B</td>\n",
       "    </tr>\n",
       "    <tr>\n",
       "      <th>1</th>\n",
       "      <td>2804400009</td>\n",
       "      <td>3642806036</td>\n",
       "      <td>2019-08-15</td>\n",
       "      <td>730</td>\n",
       "      <td>B</td>\n",
       "    </tr>\n",
       "    <tr>\n",
       "      <th>3</th>\n",
       "      <td>3797467345</td>\n",
       "      <td>1196621759</td>\n",
       "      <td>2019-08-15</td>\n",
       "      <td>9759</td>\n",
       "      <td>B</td>\n",
       "    </tr>\n",
       "    <tr>\n",
       "      <th>4</th>\n",
       "      <td>2282983706</td>\n",
       "      <td>2322279887</td>\n",
       "      <td>2019-08-15</td>\n",
       "      <td>2308</td>\n",
       "      <td>B</td>\n",
       "    </tr>\n",
       "    <tr>\n",
       "      <th>5</th>\n",
       "      <td>182168103</td>\n",
       "      <td>935554773</td>\n",
       "      <td>2019-08-15</td>\n",
       "      <td>2210</td>\n",
       "      <td>B</td>\n",
       "    </tr>\n",
       "    <tr>\n",
       "      <th>...</th>\n",
       "      <td>...</td>\n",
       "      <td>...</td>\n",
       "      <td>...</td>\n",
       "      <td>...</td>\n",
       "      <td>...</td>\n",
       "    </tr>\n",
       "    <tr>\n",
       "      <th>1191</th>\n",
       "      <td>3592955527</td>\n",
       "      <td>608641596</td>\n",
       "      <td>2019-08-14</td>\n",
       "      <td>16490</td>\n",
       "      <td>B</td>\n",
       "    </tr>\n",
       "    <tr>\n",
       "      <th>1192</th>\n",
       "      <td>2662137336</td>\n",
       "      <td>3733762160</td>\n",
       "      <td>2019-08-14</td>\n",
       "      <td>6490</td>\n",
       "      <td>B</td>\n",
       "    </tr>\n",
       "    <tr>\n",
       "      <th>1193</th>\n",
       "      <td>2203539145</td>\n",
       "      <td>370388673</td>\n",
       "      <td>2019-08-14</td>\n",
       "      <td>3190</td>\n",
       "      <td>A</td>\n",
       "    </tr>\n",
       "    <tr>\n",
       "      <th>1194</th>\n",
       "      <td>1807773912</td>\n",
       "      <td>573423106</td>\n",
       "      <td>2019-08-14</td>\n",
       "      <td>10550</td>\n",
       "      <td>A</td>\n",
       "    </tr>\n",
       "    <tr>\n",
       "      <th>1196</th>\n",
       "      <td>3936777065</td>\n",
       "      <td>2108080724</td>\n",
       "      <td>2019-08-15</td>\n",
       "      <td>202740</td>\n",
       "      <td>B</td>\n",
       "    </tr>\n",
       "  </tbody>\n",
       "</table>\n",
       "<p>1016 rows × 5 columns</p>\n",
       "</div>"
      ],
      "text/plain": [
       "      transaction_id  visitor_id       date  revenue group\n",
       "0         3667963787  3312258926 2019-08-15     1650     B\n",
       "1         2804400009  3642806036 2019-08-15      730     B\n",
       "3         3797467345  1196621759 2019-08-15     9759     B\n",
       "4         2282983706  2322279887 2019-08-15     2308     B\n",
       "5          182168103   935554773 2019-08-15     2210     B\n",
       "...              ...         ...        ...      ...   ...\n",
       "1191      3592955527   608641596 2019-08-14    16490     B\n",
       "1192      2662137336  3733762160 2019-08-14     6490     B\n",
       "1193      2203539145   370388673 2019-08-14     3190     A\n",
       "1194      1807773912   573423106 2019-08-14    10550     A\n",
       "1196      3936777065  2108080724 2019-08-15   202740     B\n",
       "\n",
       "[1016 rows x 5 columns]"
      ]
     },
     "metadata": {},
     "output_type": "display_data"
    }
   ],
   "source": [
    "# удаление пользователей, попавших в группы А и В\n",
    "filt = orders.groupby('visitor_id').agg({'group': 'nunique'}).query('group == 2').reset_index()['visitor_id']\n",
    "\n",
    "orders = orders.query('visitor_id not in @filt')\n",
    "display(orders)"
   ]
  },
  {
   "cell_type": "markdown",
   "metadata": {},
   "source": [
    "**Вывод**\n",
    "\n",
    "При предобработке данных было обнаружено и исправлено:\n",
    "\n",
    "- Нарушение стиля в названиях столбцов - все названия столбцов были приведены к общему (нижнему) регистру, несколько слов на \"змеиный_регистр\";\n",
    "- Данные в таблицах для столбцов с датой - изменены на тип DateTime;\n",
    "- Пользователи попавшие в обе группы - удалены."
   ]
  },
  {
   "cell_type": "markdown",
   "metadata": {},
   "source": [
    "## Шаг 3. Часть 1 - Приоретизация гипотез"
   ]
  },
  {
   "cell_type": "markdown",
   "metadata": {},
   "source": [
    "ICE — один из самых популярных способов приоритизации задач.\n",
    "\n",
    "Расчитывается по формуле:\n",
    "\n",
    "ICE = impact * confidence / efforts\n",
    "\n",
    "Фреймворк RICE состоит из четырёх компонентов:\n",
    "- Reach — скольких пользователей затронет изменение, которое вы хотите внести;\n",
    "- Impact — насколько сильно изменение повлияет на пользователей, их опыт и удовлетворение от продукта;\n",
    "- Confidence — насколько вы уверены, что это изменение повлияет на пользователей именно так;\n",
    "- Efforts — сколько стоит протестировать эту гипотезу.\n",
    "\n",
    "Расчитывается по формуле:\n",
    "\n",
    "RICE = reach * impact * confidence / efforts"
   ]
  },
  {
   "cell_type": "markdown",
   "metadata": {},
   "source": [
    "### Применение фреймворка ICE для приоритизации гипотез"
   ]
  },
  {
   "cell_type": "code",
   "execution_count": 19,
   "metadata": {},
   "outputs": [],
   "source": [
    "# рассчет ICE для гипотез и добаление нового столбца\n",
    "hypothesis['ice'] = hypothesis['impact'] * hypothesis['confidence'] / hypothesis['efforts']"
   ]
  },
  {
   "cell_type": "markdown",
   "metadata": {},
   "source": [
    "Сортировка по убыванию приоритета."
   ]
  },
  {
   "cell_type": "code",
   "execution_count": 25,
   "metadata": {},
   "outputs": [
    {
     "data": {
      "text/html": [
       "<div>\n",
       "<style scoped>\n",
       "    .dataframe tbody tr th:only-of-type {\n",
       "        vertical-align: middle;\n",
       "    }\n",
       "\n",
       "    .dataframe tbody tr th {\n",
       "        vertical-align: top;\n",
       "    }\n",
       "\n",
       "    .dataframe thead th {\n",
       "        text-align: right;\n",
       "    }\n",
       "</style>\n",
       "<table border=\"1\" class=\"dataframe\">\n",
       "  <thead>\n",
       "    <tr style=\"text-align: right;\">\n",
       "      <th></th>\n",
       "      <th>hypothesis</th>\n",
       "      <th>ice</th>\n",
       "    </tr>\n",
       "  </thead>\n",
       "  <tbody>\n",
       "    <tr>\n",
       "      <th>8</th>\n",
       "      <td>Запустить акцию, дающую скидку на товар в день рождения</td>\n",
       "      <td>16.200</td>\n",
       "    </tr>\n",
       "    <tr>\n",
       "      <th>0</th>\n",
       "      <td>Добавить два новых канала привлечения трафика, что позволит привлекать на 30% больше пользователей</td>\n",
       "      <td>13.333</td>\n",
       "    </tr>\n",
       "    <tr>\n",
       "      <th>7</th>\n",
       "      <td>Добавить форму подписки на все основные страницы, чтобы собрать базу клиентов для email-рассылок</td>\n",
       "      <td>11.200</td>\n",
       "    </tr>\n",
       "    <tr>\n",
       "      <th>6</th>\n",
       "      <td>Показать на главной странице баннеры с актуальными акциями и распродажами, чтобы увеличить конверсию</td>\n",
       "      <td>8.000</td>\n",
       "    </tr>\n",
       "    <tr>\n",
       "      <th>2</th>\n",
       "      <td>Добавить блоки рекомендаций товаров на сайт интернет магазина, чтобы повысить конверсию и средний чек заказа</td>\n",
       "      <td>7.000</td>\n",
       "    </tr>\n",
       "    <tr>\n",
       "      <th>1</th>\n",
       "      <td>Запустить собственную службу доставки, что сократит срок доставки заказов</td>\n",
       "      <td>2.000</td>\n",
       "    </tr>\n",
       "    <tr>\n",
       "      <th>5</th>\n",
       "      <td>Добавить страницу отзывов клиентов о магазине, что позволит увеличить количество заказов</td>\n",
       "      <td>1.333</td>\n",
       "    </tr>\n",
       "    <tr>\n",
       "      <th>3</th>\n",
       "      <td>Изменить структура категорий, что увеличит конверсию, т.к. пользователи быстрее найдут нужный товар</td>\n",
       "      <td>1.125</td>\n",
       "    </tr>\n",
       "    <tr>\n",
       "      <th>4</th>\n",
       "      <td>Изменить цвет фона главной страницы, чтобы увеличить вовлеченность пользователей</td>\n",
       "      <td>1.000</td>\n",
       "    </tr>\n",
       "  </tbody>\n",
       "</table>\n",
       "</div>"
      ],
      "text/plain": [
       "                                                                                                     hypothesis  \\\n",
       "8                                                       Запустить акцию, дающую скидку на товар в день рождения   \n",
       "0            Добавить два новых канала привлечения трафика, что позволит привлекать на 30% больше пользователей   \n",
       "7              Добавить форму подписки на все основные страницы, чтобы собрать базу клиентов для email-рассылок   \n",
       "6          Показать на главной странице баннеры с актуальными акциями и распродажами, чтобы увеличить конверсию   \n",
       "2  Добавить блоки рекомендаций товаров на сайт интернет магазина, чтобы повысить конверсию и средний чек заказа   \n",
       "1                                     Запустить собственную службу доставки, что сократит срок доставки заказов   \n",
       "5                      Добавить страницу отзывов клиентов о магазине, что позволит увеличить количество заказов   \n",
       "3           Изменить структура категорий, что увеличит конверсию, т.к. пользователи быстрее найдут нужный товар   \n",
       "4                              Изменить цвет фона главной страницы, чтобы увеличить вовлеченность пользователей   \n",
       "\n",
       "      ice  \n",
       "8  16.200  \n",
       "0  13.333  \n",
       "7  11.200  \n",
       "6   8.000  \n",
       "2   7.000  \n",
       "1   2.000  \n",
       "5   1.333  \n",
       "3   1.125  \n",
       "4   1.000  "
      ]
     },
     "metadata": {},
     "output_type": "display_data"
    }
   ],
   "source": [
    "display(hypothesis[['hypothesis', 'ice']].sort_values(by='ice', ascending=False).round(3))\n",
    "pd.options.display.max_colwidth = 400"
   ]
  },
  {
   "cell_type": "markdown",
   "metadata": {},
   "source": [
    "Наиболее перспективные гипотезы по ICE: гипотезы с индексами - 8, 0, 7, 6 и 2."
   ]
  },
  {
   "cell_type": "markdown",
   "metadata": {},
   "source": [
    "### Применение фреймворка RICE для приоритизации гипотез"
   ]
  },
  {
   "cell_type": "code",
   "execution_count": 26,
   "metadata": {},
   "outputs": [],
   "source": [
    "# рассчет RICE для гипотез и добаление нового столбца\n",
    "hypothesis['rice'] = hypothesis['reach'] * hypothesis['impact'] * hypothesis['confidence'] / hypothesis['efforts']"
   ]
  },
  {
   "cell_type": "code",
   "execution_count": 29,
   "metadata": {},
   "outputs": [
    {
     "data": {
      "text/html": [
       "<div>\n",
       "<style scoped>\n",
       "    .dataframe tbody tr th:only-of-type {\n",
       "        vertical-align: middle;\n",
       "    }\n",
       "\n",
       "    .dataframe tbody tr th {\n",
       "        vertical-align: top;\n",
       "    }\n",
       "\n",
       "    .dataframe thead th {\n",
       "        text-align: right;\n",
       "    }\n",
       "</style>\n",
       "<table border=\"1\" class=\"dataframe\">\n",
       "  <thead>\n",
       "    <tr style=\"text-align: right;\">\n",
       "      <th></th>\n",
       "      <th>hypothesis</th>\n",
       "      <th>rice</th>\n",
       "    </tr>\n",
       "  </thead>\n",
       "  <tbody>\n",
       "    <tr>\n",
       "      <th>7</th>\n",
       "      <td>Добавить форму подписки на все основные страницы, чтобы собрать базу клиентов для email-рассылок</td>\n",
       "      <td>112.0</td>\n",
       "    </tr>\n",
       "    <tr>\n",
       "      <th>2</th>\n",
       "      <td>Добавить блоки рекомендаций товаров на сайт интернет магазина, чтобы повысить конверсию и средний чек заказа</td>\n",
       "      <td>56.0</td>\n",
       "    </tr>\n",
       "    <tr>\n",
       "      <th>0</th>\n",
       "      <td>Добавить два новых канала привлечения трафика, что позволит привлекать на 30% больше пользователей</td>\n",
       "      <td>40.0</td>\n",
       "    </tr>\n",
       "    <tr>\n",
       "      <th>6</th>\n",
       "      <td>Показать на главной странице баннеры с актуальными акциями и распродажами, чтобы увеличить конверсию</td>\n",
       "      <td>40.0</td>\n",
       "    </tr>\n",
       "    <tr>\n",
       "      <th>8</th>\n",
       "      <td>Запустить акцию, дающую скидку на товар в день рождения</td>\n",
       "      <td>16.2</td>\n",
       "    </tr>\n",
       "    <tr>\n",
       "      <th>3</th>\n",
       "      <td>Изменить структура категорий, что увеличит конверсию, т.к. пользователи быстрее найдут нужный товар</td>\n",
       "      <td>9.0</td>\n",
       "    </tr>\n",
       "    <tr>\n",
       "      <th>1</th>\n",
       "      <td>Запустить собственную службу доставки, что сократит срок доставки заказов</td>\n",
       "      <td>4.0</td>\n",
       "    </tr>\n",
       "    <tr>\n",
       "      <th>5</th>\n",
       "      <td>Добавить страницу отзывов клиентов о магазине, что позволит увеличить количество заказов</td>\n",
       "      <td>4.0</td>\n",
       "    </tr>\n",
       "    <tr>\n",
       "      <th>4</th>\n",
       "      <td>Изменить цвет фона главной страницы, чтобы увеличить вовлеченность пользователей</td>\n",
       "      <td>3.0</td>\n",
       "    </tr>\n",
       "  </tbody>\n",
       "</table>\n",
       "</div>"
      ],
      "text/plain": [
       "                                                                                                     hypothesis  \\\n",
       "7              Добавить форму подписки на все основные страницы, чтобы собрать базу клиентов для email-рассылок   \n",
       "2  Добавить блоки рекомендаций товаров на сайт интернет магазина, чтобы повысить конверсию и средний чек заказа   \n",
       "0            Добавить два новых канала привлечения трафика, что позволит привлекать на 30% больше пользователей   \n",
       "6          Показать на главной странице баннеры с актуальными акциями и распродажами, чтобы увеличить конверсию   \n",
       "8                                                       Запустить акцию, дающую скидку на товар в день рождения   \n",
       "3           Изменить структура категорий, что увеличит конверсию, т.к. пользователи быстрее найдут нужный товар   \n",
       "1                                     Запустить собственную службу доставки, что сократит срок доставки заказов   \n",
       "5                      Добавить страницу отзывов клиентов о магазине, что позволит увеличить количество заказов   \n",
       "4                              Изменить цвет фона главной страницы, чтобы увеличить вовлеченность пользователей   \n",
       "\n",
       "    rice  \n",
       "7  112.0  \n",
       "2   56.0  \n",
       "0   40.0  \n",
       "6   40.0  \n",
       "8   16.2  \n",
       "3    9.0  \n",
       "1    4.0  \n",
       "5    4.0  \n",
       "4    3.0  "
      ]
     },
     "metadata": {},
     "output_type": "display_data"
    }
   ],
   "source": [
    "display(hypothesis[['hypothesis', 'rice']].sort_values(by='rice', ascending=False))\n",
    "pd.options.display.max_colwidth = 400"
   ]
  },
  {
   "cell_type": "markdown",
   "metadata": {},
   "source": [
    "Наиболее перспективные гипотезы по RICE: гипотезы с индексами - 7, 2, 0, 6 и 8."
   ]
  },
  {
   "cell_type": "markdown",
   "metadata": {},
   "source": [
    "**Вывод**\n",
    "\n",
    "В сравнении с приоретизацией по ICE гипотеза с индексом 7 (\"Добавить форму подписки на все основные страницы, чтобы собрать базу клиентов для email-рассылок\") переместилась с третьего на первое место, это произошло из-за параметра `reach` равному 10, в то время как у других гипотез он меньше.\n",
    "Кроме силы гипотезы, необзодимо учитывать и то, как много пользователей она затронет."
   ]
  },
  {
   "cell_type": "markdown",
   "metadata": {},
   "source": [
    "## Шаг 4. Часть 2 - Анализ A/B-теста"
   ]
  },
  {
   "cell_type": "markdown",
   "metadata": {},
   "source": [
    "### Построение графика кумулятивной выручки по группам"
   ]
  },
  {
   "cell_type": "code",
   "execution_count": 33,
   "metadata": {},
   "outputs": [
    {
     "data": {
      "text/html": [
       "<div>\n",
       "<style scoped>\n",
       "    .dataframe tbody tr th:only-of-type {\n",
       "        vertical-align: middle;\n",
       "    }\n",
       "\n",
       "    .dataframe tbody tr th {\n",
       "        vertical-align: top;\n",
       "    }\n",
       "\n",
       "    .dataframe thead th {\n",
       "        text-align: right;\n",
       "    }\n",
       "</style>\n",
       "<table border=\"1\" class=\"dataframe\">\n",
       "  <thead>\n",
       "    <tr style=\"text-align: right;\">\n",
       "      <th></th>\n",
       "      <th>date</th>\n",
       "      <th>group</th>\n",
       "      <th>transactions</th>\n",
       "      <th>buyers</th>\n",
       "      <th>revenue</th>\n",
       "      <th>visitors</th>\n",
       "    </tr>\n",
       "  </thead>\n",
       "  <tbody>\n",
       "    <tr>\n",
       "      <th>0</th>\n",
       "      <td>2019-08-01</td>\n",
       "      <td>A</td>\n",
       "      <td>23</td>\n",
       "      <td>19</td>\n",
       "      <td>142779</td>\n",
       "      <td>719</td>\n",
       "    </tr>\n",
       "    <tr>\n",
       "      <th>1</th>\n",
       "      <td>2019-08-01</td>\n",
       "      <td>B</td>\n",
       "      <td>17</td>\n",
       "      <td>17</td>\n",
       "      <td>59758</td>\n",
       "      <td>713</td>\n",
       "    </tr>\n",
       "    <tr>\n",
       "      <th>2</th>\n",
       "      <td>2019-08-02</td>\n",
       "      <td>A</td>\n",
       "      <td>42</td>\n",
       "      <td>36</td>\n",
       "      <td>234381</td>\n",
       "      <td>1338</td>\n",
       "    </tr>\n",
       "    <tr>\n",
       "      <th>3</th>\n",
       "      <td>2019-08-02</td>\n",
       "      <td>B</td>\n",
       "      <td>40</td>\n",
       "      <td>39</td>\n",
       "      <td>221801</td>\n",
       "      <td>1294</td>\n",
       "    </tr>\n",
       "    <tr>\n",
       "      <th>4</th>\n",
       "      <td>2019-08-03</td>\n",
       "      <td>A</td>\n",
       "      <td>66</td>\n",
       "      <td>60</td>\n",
       "      <td>346854</td>\n",
       "      <td>1845</td>\n",
       "    </tr>\n",
       "  </tbody>\n",
       "</table>\n",
       "</div>"
      ],
      "text/plain": [
       "        date group  transactions  buyers  revenue  visitors\n",
       "0 2019-08-01     A            23      19   142779       719\n",
       "1 2019-08-01     B            17      17    59758       713\n",
       "2 2019-08-02     A            42      36   234381      1338\n",
       "3 2019-08-02     B            40      39   221801      1294\n",
       "4 2019-08-03     A            66      60   346854      1845"
      ]
     },
     "metadata": {},
     "output_type": "display_data"
    }
   ],
   "source": [
    "# создание массива уникальных пар значений дат и групп теста\n",
    "dates_groups = orders[['date','group']].drop_duplicates()\n",
    "\n",
    "# получение агрегированных кумулятивных по дням данные о заказах \n",
    "transactions_aggregated = dates_groups.apply(\n",
    "    lambda x: orders[np.logical_and(orders['date'] <= x['date'], orders['group'] == x['group'])]\n",
    "    .agg({'date' : 'max', 'group' : 'max', 'transaction_id' : 'nunique', 'visitor_id' : 'nunique', 'revenue' : 'sum'}), \n",
    "    axis=1).sort_values(by=['date','group'])\n",
    "\n",
    "# получение агрегированных кумулятивных по дням данные о посетителях интернет-магазина \n",
    "visitors_aggregated = dates_groups.apply(\n",
    "    lambda x: visitors[np.logical_and(visitors['date'] <= x['date'], visitors['group'] == x['group'])]\n",
    "    .agg({'date' : 'max', 'group' : 'max', 'visitors' : 'sum'}), \n",
    "    axis=1).sort_values(by=['date','group'])\n",
    "\n",
    "# объединение кумулятивных данных в одной таблице и присвоение ее столбцам понятные названия\n",
    "cumulative_data = transactions_aggregated.merge(visitors_aggregated, left_on=['date', 'group'], right_on=['date', 'group'])\n",
    "cumulative_data.columns = ['date', 'group', 'transactions', 'buyers', 'revenue', 'visitors']\n",
    "\n",
    "display(cumulative_data.head(5))"
   ]
  },
  {
   "cell_type": "code",
   "execution_count": 34,
   "metadata": {},
   "outputs": [
    {
     "data": {
      "image/png": "[encoded data removed]",
      "text/plain": [
       "<Figure size 432x288 with 1 Axes>"
      ]
     },
     "metadata": {
      "needs_background": "light"
     },
     "output_type": "display_data"
    }
   ],
   "source": [
    "# датафрейм с кумулятивным количеством заказов и кумулятивной выручкой по дням в группе А\n",
    "cumulative_revenue_a = cumulative_data[cumulative_data['group']=='A'][['date','revenue', 'transactions']]\n",
    "\n",
    "# датафрейм с кумулятивным количеством заказов и кумулятивной выручкой по дням в группе B\n",
    "cumulative_revenue_b = cumulative_data[cumulative_data['group']=='B'][['date','revenue', 'transactions']]\n",
    "\n",
    "# построение графика выручки группы А\n",
    "plt.plot(cumulative_revenue_a['date'], cumulative_revenue_a['revenue'], label='A')\n",
    "\n",
    "# построение графика выручки группы B\n",
    "plt.plot(cumulative_revenue_b['date'], cumulative_revenue_b['revenue'], label='B')\n",
    "\n",
    "# изменение положения подписей на оси X и добавление легенды\n",
    "plt.xticks(rotation=90)\n",
    "plt.legend()\n",
    "plt.ylabel('Выручка')\n",
    "plt.xlabel('Дата')\n",
    "plt.title('Динамика кумулятивной выручки группы A и B')\n",
    "plt.show()"
   ]
  },
  {
   "cell_type": "markdown",
   "metadata": {},
   "source": [
    "**Выводы и предположения**\n",
    "\n",
    "С 1-го по 17-е число выручка почти равномерно увеличивается, увеличение происходит и в течение всего теста. Хороший знак.\n",
    "Однако график выручки группы `B` резко растет, более плавный рост наблюдается для группы `A`. Это может сигнализировать о всплесках числа заказов, либо о появлении очень дорогих заказов в выборке."
   ]
  },
  {
   "cell_type": "markdown",
   "metadata": {},
   "source": [
    "### Построение графика кумулятивного среднего чека по группам"
   ]
  },
  {
   "cell_type": "code",
   "execution_count": 35,
   "metadata": {},
   "outputs": [
    {
     "data": {
      "image/png": "[encoded data removed]",
      "text/plain": [
       "<Figure size 432x288 with 1 Axes>"
      ]
     },
     "metadata": {
      "needs_background": "light"
     },
     "output_type": "display_data"
    }
   ],
   "source": [
    "plt.plot(cumulative_revenue_a['date'], cumulative_revenue_a['revenue']/cumulative_revenue_a['transactions'], label='A')\n",
    "plt.plot(cumulative_revenue_b['date'], cumulative_revenue_b['revenue']/cumulative_revenue_b['transactions'], label='B')\n",
    "\n",
    "# изменение положения подписей на оси X и добавление легенды\n",
    "plt.xticks(rotation=90)\n",
    "plt.legend()\n",
    "plt.ylabel('Выручка среднего чека')\n",
    "plt.xlabel('Дата')\n",
    "plt.title('Динамика кумулятивного среднего чека группы A и B')\n",
    "plt.show()"
   ]
  },
  {
   "cell_type": "markdown",
   "metadata": {},
   "source": [
    "**Выводы и предположения**\n",
    "\n",
    "Куммулятивное значение среднего чека продолжает колебаться. Принимать решения по этой метрике рано. Требуется дополнительный анализ выбросов, которые так сильно искажают результаты."
   ]
  },
  {
   "cell_type": "markdown",
   "metadata": {},
   "source": [
    "### Построение графика относительного изменения кумулятивного среднего чека группы B к группе A"
   ]
  },
  {
   "cell_type": "code",
   "execution_count": 36,
   "metadata": {},
   "outputs": [
    {
     "data": {
      "image/png": "[encoded data removed]",
      "text/plain": [
       "<Figure size 432x288 with 1 Axes>"
      ]
     },
     "metadata": {
      "needs_background": "light"
     },
     "output_type": "display_data"
    }
   ],
   "source": [
    "# сбор данных в одном датафрейме\n",
    "merged_cumulative_revenue = (cumulative_revenue_a\n",
    "                             .merge(cumulative_revenue_b, left_on='date', right_on='date', how='left', suffixes=['A', 'B'])\n",
    "                            )\n",
    "\n",
    "# построение отношения средних чеков\n",
    "plt.plot(\n",
    "    merged_cumulative_revenue['date'], \n",
    "    (merged_cumulative_revenue['revenueB'] / merged_cumulative_revenue['transactionsB']) / \n",
    "    (merged_cumulative_revenue['revenueA']/merged_cumulative_revenue['transactionsA'])-1\n",
    ")\n",
    "\n",
    "# изменение положения подписей на оси\n",
    "plt.xticks(rotation=90)\n",
    "\n",
    "# добавление оси X\n",
    "plt.axhline(y=0, color='black', linestyle='--')\n",
    "\n",
    "plt.ylabel('Выручка среднего чека')\n",
    "plt.xlabel('Дата')\n",
    "plt.title('Динамика относительного изменения кумулятивного среднего чека группы B к группе A')\n",
    "plt.show()"
   ]
  },
  {
   "cell_type": "markdown",
   "metadata": {},
   "source": [
    "**Выводы и предположения**\n",
    "\n",
    "Результаты теста значительно и резко менялись в несколько дат. Видимо именно тогда были совершены аномальные заказы."
   ]
  },
  {
   "cell_type": "markdown",
   "metadata": {},
   "source": [
    "### Построение графика кумулятивной конверсии по группам"
   ]
  },
  {
   "cell_type": "code",
   "execution_count": 37,
   "metadata": {},
   "outputs": [
    {
     "data": {
      "image/png": "[encoded data removed]",
      "text/plain": [
       "<Figure size 432x288 with 1 Axes>"
      ]
     },
     "metadata": {
      "needs_background": "light"
     },
     "output_type": "display_data"
    }
   ],
   "source": [
    "# расчет кумулятивной конверсии\n",
    "cumulative_data['conversion'] = cumulative_data['transactions'] / cumulative_data['visitors']\n",
    "\n",
    "# отделение данных по группе A\n",
    "cumulative_data_a = cumulative_data[cumulative_data['group']=='A']\n",
    "\n",
    "# отделение данных по группе B\n",
    "cumulative_data_b = cumulative_data[cumulative_data['group']=='B']\n",
    "\n",
    "# построение графиков\n",
    "plt.plot(cumulative_data_a['date'], cumulative_data_a['conversion'], label='A')\n",
    "plt.plot(cumulative_data_b['date'], cumulative_data_b['conversion'], label='B')\n",
    "\n",
    "# масштаб осей\n",
    "plt.axis([dt.datetime(2019, 8, 1), dt.datetime(2019, 9, 2), 0, 0.06])\n",
    "\n",
    "# изменение положения подписей на оси X и добавление легенды\n",
    "plt.xticks(rotation=90)\n",
    "plt.legend()\n",
    "\n",
    "plt.ylabel('Кумулятивная конверсия')\n",
    "plt.xlabel('Дата')\n",
    "plt.title('Динамика кумулятивной конверсии группы A и B')\n",
    "plt.show()"
   ]
  },
  {
   "cell_type": "markdown",
   "metadata": {},
   "source": [
    "**Выводы и предположения**\n",
    "\n",
    "В начале теста сегмент `A` имел большую конверсию, конверсия сегмента `B`, после значительного падения, стала возрастать и стала выше конверсии сегмента `A`. Абсолютное колебание в начале и в конце теста не слишком большое: от 3% до 4%."
   ]
  },
  {
   "cell_type": "markdown",
   "metadata": {},
   "source": [
    "### Построение графика относительного изменения кумулятивной конверсии группы B к группе A"
   ]
  },
  {
   "cell_type": "code",
   "execution_count": 38,
   "metadata": {},
   "outputs": [
    {
     "data": {
      "image/png": "[encoded data removed]",
      "text/plain": [
       "<Figure size 432x288 with 1 Axes>"
      ]
     },
     "metadata": {
      "needs_background": "light"
     },
     "output_type": "display_data"
    }
   ],
   "source": [
    "# подготовка данных\n",
    "merged_cumulative_conversions = (cumulative_data_a[['date','conversion']]\n",
    "                                 .merge(cumulative_data_b[['date','conversion']]\n",
    "                                        , left_on='date', right_on='date', how='left', suffixes=['A', 'B'])\n",
    "                                )\n",
    "\n",
    "# построение графика\n",
    "plt.plot(merged_cumulative_conversions['date'], \n",
    "         merged_cumulative_conversions['conversionB'] / merged_cumulative_conversions['conversionA']-1, \n",
    "         label=\"Относительный прирост конверсии группы B относительно группы A\"\n",
    "        )\n",
    "\n",
    "# изменение положения подписей на оси X и добавление легенды\n",
    "plt.xticks(rotation=90)\n",
    "plt.legend()\n",
    "\n",
    "# добавление осей X и масштаб осей\n",
    "plt.axhline(y=0, color='black', linestyle='--')\n",
    "plt.axhline(y=0.1, color='grey', linestyle='--')\n",
    "plt.axis([dt.datetime(2019, 8, 1), dt.datetime(2019, 9, 2), -0.3, 0.3])\n",
    "\n",
    "plt.ylabel('Кумулятивная конверсия')\n",
    "plt.xlabel('Дата')\n",
    "plt.title('Динамика относительного изменения кумулятивной конверсии группы B к группе A')\n",
    "plt.show()"
   ]
  },
  {
   "cell_type": "markdown",
   "metadata": {},
   "source": [
    "**Выводы и предположения**\n",
    "\n",
    "Почти с самого начала теста, после небольшого падения, группа `B` лидирует по конверсии: заметен значительный прирост, после - зафиксироварась около прироста в 10%, далее снова заметно небольшое возрастание относительно группы `A`."
   ]
  },
  {
   "cell_type": "markdown",
   "metadata": {},
   "source": [
    "### Построение точечного графика количества заказов по пользователям"
   ]
  },
  {
   "cell_type": "code",
   "execution_count": 40,
   "metadata": {},
   "outputs": [
    {
     "data": {
      "text/html": [
       "<div>\n",
       "<style scoped>\n",
       "    .dataframe tbody tr th:only-of-type {\n",
       "        vertical-align: middle;\n",
       "    }\n",
       "\n",
       "    .dataframe tbody tr th {\n",
       "        vertical-align: top;\n",
       "    }\n",
       "\n",
       "    .dataframe thead th {\n",
       "        text-align: right;\n",
       "    }\n",
       "</style>\n",
       "<table border=\"1\" class=\"dataframe\">\n",
       "  <thead>\n",
       "    <tr style=\"text-align: right;\">\n",
       "      <th></th>\n",
       "      <th>visitor_id</th>\n",
       "      <th>transactions</th>\n",
       "    </tr>\n",
       "  </thead>\n",
       "  <tbody>\n",
       "    <tr>\n",
       "      <th>908</th>\n",
       "      <td>3967698036</td>\n",
       "      <td>3</td>\n",
       "    </tr>\n",
       "    <tr>\n",
       "      <th>55</th>\n",
       "      <td>249864742</td>\n",
       "      <td>3</td>\n",
       "    </tr>\n",
       "    <tr>\n",
       "      <th>478</th>\n",
       "      <td>2108163459</td>\n",
       "      <td>3</td>\n",
       "    </tr>\n",
       "    <tr>\n",
       "      <th>687</th>\n",
       "      <td>2988190573</td>\n",
       "      <td>3</td>\n",
       "    </tr>\n",
       "    <tr>\n",
       "      <th>890</th>\n",
       "      <td>3908431265</td>\n",
       "      <td>3</td>\n",
       "    </tr>\n",
       "    <tr>\n",
       "      <th>138</th>\n",
       "      <td>611059232</td>\n",
       "      <td>3</td>\n",
       "    </tr>\n",
       "    <tr>\n",
       "      <th>632</th>\n",
       "      <td>2742574263</td>\n",
       "      <td>3</td>\n",
       "    </tr>\n",
       "    <tr>\n",
       "      <th>157</th>\n",
       "      <td>678354126</td>\n",
       "      <td>2</td>\n",
       "    </tr>\n",
       "    <tr>\n",
       "      <th>323</th>\n",
       "      <td>1404560065</td>\n",
       "      <td>2</td>\n",
       "    </tr>\n",
       "    <tr>\n",
       "      <th>452</th>\n",
       "      <td>1985475298</td>\n",
       "      <td>2</td>\n",
       "    </tr>\n",
       "  </tbody>\n",
       "</table>\n",
       "</div>"
      ],
      "text/plain": [
       "     visitor_id  transactions\n",
       "908  3967698036             3\n",
       "55    249864742             3\n",
       "478  2108163459             3\n",
       "687  2988190573             3\n",
       "890  3908431265             3\n",
       "138   611059232             3\n",
       "632  2742574263             3\n",
       "157   678354126             2\n",
       "323  1404560065             2\n",
       "452  1985475298             2"
      ]
     },
     "metadata": {},
     "output_type": "display_data"
    }
   ],
   "source": [
    "# подсчет количества заказов по пользователям\n",
    "transactions_by_visitors = (\n",
    "    orders.groupby('visitor_id', as_index=False)\n",
    "    .agg({'transaction_id': 'nunique'})\n",
    ")\n",
    "\n",
    "transactions_by_visitors.columns = ['visitor_id', 'transactions']\n",
    "\n",
    "display(transactions_by_visitors.sort_values(by='transactions', ascending=False).head(10))"
   ]
  },
  {
   "cell_type": "code",
   "execution_count": 41,
   "metadata": {},
   "outputs": [
    {
     "data": {
      "image/png": "[encoded data removed]",
      "text/plain": [
       "<Figure size 432x288 with 1 Axes>"
      ]
     },
     "metadata": {
      "needs_background": "light"
     },
     "output_type": "display_data"
    }
   ],
   "source": [
    "x_values = pd.Series(range(0,len(transactions_by_visitors)))\n",
    "\n",
    "plt.scatter(x_values, transactions_by_visitors['transactions'])\n",
    "\n",
    "# подписи осей и название графика\n",
    "plt.ylabel('Количество заказов')\n",
    "plt.xlabel('Пользователи')\n",
    "plt.title('Количество заказов по пользователям')\n",
    "plt.show()"
   ]
  },
  {
   "cell_type": "markdown",
   "metadata": {},
   "source": [
    "**Выводы и предположения**\n",
    "\n",
    "Большинство покупателей заказывали только один раз. Однако доля пользователей с 2-3 заказами тоже значительна."
   ]
  },
  {
   "cell_type": "markdown",
   "metadata": {},
   "source": [
    "### Расчет 95-й и 99-й перцентили количества заказов на пользователя"
   ]
  },
  {
   "cell_type": "code",
   "execution_count": 42,
   "metadata": {},
   "outputs": [
    {
     "name": "stdout",
     "output_type": "stream",
     "text": [
      "[1. 2.]\n"
     ]
    }
   ],
   "source": [
    "print(np.percentile(transactions_by_visitors['transactions'], [95, 99]))"
   ]
  },
  {
   "cell_type": "markdown",
   "metadata": {},
   "source": [
    "Не более 5% пользователей оформляли больше чем 1 заказ. И 1% пользователей заказывали более 2 раз. В данном случае, разумно выбрать 1 заказ на одного пользователя за нижнюю границу числа заказов, и отсеять аномальных пользователей по ней."
   ]
  },
  {
   "cell_type": "markdown",
   "metadata": {},
   "source": [
    "### Построение точечного графика стоимостей заказов"
   ]
  },
  {
   "cell_type": "code",
   "execution_count": 44,
   "metadata": {},
   "outputs": [
    {
     "data": {
      "image/png": "[encoded data removed]",
      "text/plain": [
       "<Figure size 432x288 with 1 Axes>"
      ]
     },
     "metadata": {
      "needs_background": "light"
     },
     "output_type": "display_data"
    }
   ],
   "source": [
    "x_values = pd.Series(range(0,len(orders['revenue'])))\n",
    "\n",
    "plt.scatter(x_values, orders['revenue'])\n",
    "\n",
    "# подписи осей и название графика\n",
    "plt.ylabel('Стоимость заказов')\n",
    "plt.xlabel('Пользователи')\n",
    "plt.title('Стоимость заказов')\n",
    "plt.show()"
   ]
  },
  {
   "cell_type": "markdown",
   "metadata": {},
   "source": [
    "**Выводы и предположения**\n",
    "\n",
    "В основном все заказы распределены, приблизительно, около 50 000 рублей. Есть несколько аномальных выбросов в районе 200 000 рублей и в районе 1 300 000."
   ]
  },
  {
   "cell_type": "markdown",
   "metadata": {},
   "source": [
    "### Подсчет 95-й и 99-й перцентили стоимости заказов"
   ]
  },
  {
   "cell_type": "code",
   "execution_count": 45,
   "metadata": {},
   "outputs": [
    {
     "name": "stdout",
     "output_type": "stream",
     "text": [
      "[26785. 53904.]\n"
     ]
    }
   ],
   "source": [
    "print(np.percentile(orders['revenue'], [95, 99]))"
   ]
  },
  {
   "cell_type": "markdown",
   "metadata": {},
   "source": [
    "Не более 5% заказов дороже 26 785 рублей и не более 1% дороже 53 904 рублей."
   ]
  },
  {
   "cell_type": "markdown",
   "metadata": {},
   "source": [
    "### Расчет статистической значимости различий в конверсии между группами по «сырым» данным"
   ]
  },
  {
   "cell_type": "code",
   "execution_count": 46,
   "metadata": {},
   "outputs": [
    {
     "data": {
      "text/html": [
       "<div>\n",
       "<style scoped>\n",
       "    .dataframe tbody tr th:only-of-type {\n",
       "        vertical-align: middle;\n",
       "    }\n",
       "\n",
       "    .dataframe tbody tr th {\n",
       "        vertical-align: top;\n",
       "    }\n",
       "\n",
       "    .dataframe thead th {\n",
       "        text-align: right;\n",
       "    }\n",
       "</style>\n",
       "<table border=\"1\" class=\"dataframe\">\n",
       "  <thead>\n",
       "    <tr style=\"text-align: right;\">\n",
       "      <th></th>\n",
       "      <th>date</th>\n",
       "      <th>transactions_per_date_a</th>\n",
       "      <th>revenue_per_date_a</th>\n",
       "      <th>transactions_per_date_b</th>\n",
       "      <th>revenue_per_date_b</th>\n",
       "      <th>transactions_cummulative_a</th>\n",
       "      <th>revenue_cummulative_a</th>\n",
       "      <th>transactions_cummulative_b</th>\n",
       "      <th>revenue_cummulative_b</th>\n",
       "      <th>visitors_per_date_a</th>\n",
       "      <th>visitors_per_date_b</th>\n",
       "      <th>visitors_cummulative_a</th>\n",
       "      <th>visitors_cummulative_b</th>\n",
       "    </tr>\n",
       "  </thead>\n",
       "  <tbody>\n",
       "    <tr>\n",
       "      <th>0</th>\n",
       "      <td>2019-08-01</td>\n",
       "      <td>23</td>\n",
       "      <td>142779</td>\n",
       "      <td>17</td>\n",
       "      <td>59758</td>\n",
       "      <td>23</td>\n",
       "      <td>142779</td>\n",
       "      <td>17</td>\n",
       "      <td>59758</td>\n",
       "      <td>719</td>\n",
       "      <td>713</td>\n",
       "      <td>719</td>\n",
       "      <td>713</td>\n",
       "    </tr>\n",
       "    <tr>\n",
       "      <th>1</th>\n",
       "      <td>2019-08-02</td>\n",
       "      <td>19</td>\n",
       "      <td>91602</td>\n",
       "      <td>23</td>\n",
       "      <td>162043</td>\n",
       "      <td>42</td>\n",
       "      <td>234381</td>\n",
       "      <td>40</td>\n",
       "      <td>221801</td>\n",
       "      <td>619</td>\n",
       "      <td>581</td>\n",
       "      <td>1338</td>\n",
       "      <td>1294</td>\n",
       "    </tr>\n",
       "    <tr>\n",
       "      <th>2</th>\n",
       "      <td>2019-08-03</td>\n",
       "      <td>24</td>\n",
       "      <td>112473</td>\n",
       "      <td>14</td>\n",
       "      <td>67049</td>\n",
       "      <td>66</td>\n",
       "      <td>346854</td>\n",
       "      <td>54</td>\n",
       "      <td>288850</td>\n",
       "      <td>507</td>\n",
       "      <td>509</td>\n",
       "      <td>1845</td>\n",
       "      <td>1803</td>\n",
       "    </tr>\n",
       "    <tr>\n",
       "      <th>3</th>\n",
       "      <td>2019-08-04</td>\n",
       "      <td>11</td>\n",
       "      <td>41176</td>\n",
       "      <td>14</td>\n",
       "      <td>96890</td>\n",
       "      <td>77</td>\n",
       "      <td>388030</td>\n",
       "      <td>68</td>\n",
       "      <td>385740</td>\n",
       "      <td>717</td>\n",
       "      <td>770</td>\n",
       "      <td>2562</td>\n",
       "      <td>2573</td>\n",
       "    </tr>\n",
       "    <tr>\n",
       "      <th>4</th>\n",
       "      <td>2019-08-05</td>\n",
       "      <td>22</td>\n",
       "      <td>86383</td>\n",
       "      <td>21</td>\n",
       "      <td>89908</td>\n",
       "      <td>99</td>\n",
       "      <td>474413</td>\n",
       "      <td>89</td>\n",
       "      <td>475648</td>\n",
       "      <td>756</td>\n",
       "      <td>707</td>\n",
       "      <td>3318</td>\n",
       "      <td>3280</td>\n",
       "    </tr>\n",
       "  </tbody>\n",
       "</table>\n",
       "</div>"
      ],
      "text/plain": [
       "        date  transactions_per_date_a  revenue_per_date_a  \\\n",
       "0 2019-08-01                       23              142779   \n",
       "1 2019-08-02                       19               91602   \n",
       "2 2019-08-03                       24              112473   \n",
       "3 2019-08-04                       11               41176   \n",
       "4 2019-08-05                       22               86383   \n",
       "\n",
       "   transactions_per_date_b  revenue_per_date_b  transactions_cummulative_a  \\\n",
       "0                       17               59758                          23   \n",
       "1                       23              162043                          42   \n",
       "2                       14               67049                          66   \n",
       "3                       14               96890                          77   \n",
       "4                       21               89908                          99   \n",
       "\n",
       "   revenue_cummulative_a  transactions_cummulative_b  revenue_cummulative_b  \\\n",
       "0                 142779                          17                  59758   \n",
       "1                 234381                          40                 221801   \n",
       "2                 346854                          54                 288850   \n",
       "3                 388030                          68                 385740   \n",
       "4                 474413                          89                 475648   \n",
       "\n",
       "   visitors_per_date_a  visitors_per_date_b  visitors_cummulative_a  \\\n",
       "0                  719                  713                     719   \n",
       "1                  619                  581                    1338   \n",
       "2                  507                  509                    1845   \n",
       "3                  717                  770                    2562   \n",
       "4                  756                  707                    3318   \n",
       "\n",
       "   visitors_cummulative_b  \n",
       "0                     713  \n",
       "1                    1294  \n",
       "2                    1803  \n",
       "3                    2573  \n",
       "4                    3280  "
      ]
     },
     "metadata": {},
     "output_type": "display_data"
    }
   ],
   "source": [
    "# подготовка данных\n",
    "visitors_a_daily = visitors[visitors['group'] == 'A'][['date', 'visitors']]\n",
    "visitors_a_daily.columns = ['date', 'visitors_per_date_a']\n",
    "\n",
    "visitors_a_cummulative = visitors_a_daily.apply(\n",
    "    lambda x: visitors_a_daily[visitors_a_daily['date'] <= x['date']].agg(\n",
    "        {'date': 'max', 'visitors_per_date_a': 'sum'}),axis=1,\n",
    ")\n",
    "visitors_a_cummulative.columns = ['date', 'visitors_cummulative_a']\n",
    "\n",
    "visitors_b_daily = visitors[visitors['group'] == 'B'][['date', 'visitors']]\n",
    "visitors_b_daily.columns = ['date', 'visitors_per_date_b']\n",
    "\n",
    "visitors_b_cummulative = visitors_b_daily.apply(\n",
    "    lambda x: visitors_b_daily[visitors_b_daily['date'] <= x['date']].agg(\n",
    "        {'date': 'max', 'visitors_per_date_b': 'sum'}),axis=1\n",
    ")\n",
    "visitors_b_cummulative.columns = ['date', 'visitors_cummulative_b']\n",
    "\n",
    "transactions_a_daily = (\n",
    "    orders[orders['group'] == 'A'][['date', 'transaction_id', 'visitor_id', 'revenue']]\n",
    "    .groupby('date', as_index=False)\n",
    "    .agg({'transaction_id': pd.Series.nunique, 'revenue': 'sum'})\n",
    ")\n",
    "transactions_a_daily.columns = ['date', 'transactions_per_date_a', 'revenue_per_date_a']\n",
    "\n",
    "transactions_a_cummulative = transactions_a_daily.apply(\n",
    "    lambda x: transactions_a_daily[transactions_a_daily['date'] <= x['date']].agg(\n",
    "        {'date': 'max', 'transactions_per_date_a': 'sum', 'revenue_per_date_a': 'sum'}\n",
    "    ),axis=1).sort_values(by=['date'])\n",
    "\n",
    "transactions_a_cummulative.columns = ['date', 'transactions_cummulative_a', 'revenue_cummulative_a']\n",
    "\n",
    "transactions_b_daily = (\n",
    "    orders[orders['group'] == 'B'][['date', 'transaction_id', 'visitor_id', 'revenue']]\n",
    "    .groupby('date', as_index=False)\n",
    "    .agg({'transaction_id': pd.Series.nunique, 'revenue': 'sum'})\n",
    ")\n",
    "transactions_b_daily.columns = ['date', 'transactions_per_date_b', 'revenue_per_date_b']\n",
    "\n",
    "transactions_b_cummulative = transactions_b_daily.apply(\n",
    "    lambda x: transactions_b_daily[transactions_b_daily['date'] <= x['date']].agg(\n",
    "        {'date': 'max', 'transactions_per_date_b': 'sum', 'revenue_per_date_b': 'sum'}),axis=1,).sort_values(by=['date'])\n",
    "transactions_b_cummulative.columns = ['date', 'transactions_cummulative_b', 'revenue_cummulative_b']\n",
    "\n",
    "data = (\n",
    "    transactions_a_daily.merge(\n",
    "        transactions_b_daily, left_on='date', right_on='date', how='left'\n",
    "    )\n",
    "    .merge(transactions_a_cummulative, left_on='date', right_on='date', how='left')\n",
    "    .merge(transactions_b_cummulative, left_on='date', right_on='date', how='left')\n",
    "    .merge(visitors_a_daily, left_on='date', right_on='date', how='left')\n",
    "    .merge(visitors_b_daily, left_on='date', right_on='date', how='left')\n",
    "    .merge(visitors_a_cummulative, left_on='date', right_on='date', how='left')\n",
    "    .merge(visitors_b_cummulative, left_on='date', right_on='date', how='left')\n",
    ")\n",
    "\n",
    "display(data.head(5))"
   ]
  },
  {
   "cell_type": "markdown",
   "metadata": {},
   "source": [
    "***Описание данных таблицы `data`:***\n",
    "\n",
    "- `transactions_per_date_a` — количество заказов в выбранную дату в группе A;\n",
    "- `revenue_per_date_a` — суммарная выручка в выбранную дату в группе A;\n",
    "- `transactions_per_date_b` — количество заказов в выбранную дату в группе B;\n",
    "- `revenue_per_date_b` — суммарная выручка в выбранную дату в группе B;\n",
    "- `transactions_cummulative_a` — суммарное число заказов до выбранной даты включительно в группе A;\n",
    "- `revenue_cummulative_a` — суммарная выручка до выбранной даты включительно в группе A;\n",
    "- `transactions_cummulative_b` — суммарное количество заказов до выбранной даты включительно в группе B;\n",
    "- `revenue_cummulative_b` — суммарная выручка до выбранной даты включительно в группе B;\n",
    "- `visitors_per_date_a` — количество пользователей в выбранную дату в группе A;\n",
    "- `visitors_per_date_b` — количество пользователей в выбранную дату в группе B;\n",
    "- `visitors_cummulative_a` — количество пользователей до выбранной даты включительно в группе A;\n",
    "- `visitors_cummulative_b` — количество пользователей до выбранной даты включительно в группе B."
   ]
  },
  {
   "cell_type": "markdown",
   "metadata": {},
   "source": [
    "*Гипотеза №1: В конверсии между группами по «сырым» данным отсутствуют статистически значимые различия:*\n",
    "\n",
    "H₀: В конверсии между группами `A` и `B` отсутствуют статистически значимые различия;\n",
    "\n",
    "H₁: В конверсии между группами `A` и `B` присутствуют статистически значимые различия.\n",
    "\n",
    "Исходя из формулировки гипотезы о том, что в конверсии между группами по «сырым» данным отсутствуют статистически значимые различия, были сформулированы нулевая(H₀) и альтернативная гипотезы(H₁), для нулевой сделано предположение о том, что в конверсии между группами `A` и `B` отсутствуют статистически значимые различия, а для альтернативной, наоборот, в конверсии между группами `A` и `B` присутствуют статистически значимые различия."
   ]
  },
  {
   "cell_type": "code",
   "execution_count": 49,
   "metadata": {},
   "outputs": [
    {
     "name": "stdout",
     "output_type": "stream",
     "text": [
      "0.011\n",
      "-0.138\n"
     ]
    }
   ],
   "source": [
    "# расчет статистической значимости конверсии\n",
    "transactions_by_visitors_a = (\n",
    "    orders[orders['group'] == 'A']\n",
    "    .groupby('visitor_id', as_index=False)\n",
    "    .agg({'transaction_id': pd.Series.nunique})\n",
    ")\n",
    "transactions_by_visitors_a.columns = ['visitor_id', 'transactions']\n",
    "\n",
    "transactions_by_visitors_b = (\n",
    "    orders[orders['group'] == 'B']\n",
    "    .groupby('visitor_id', as_index=False)\n",
    "    .agg({'transaction_id': pd.Series.nunique})\n",
    ")\n",
    "transactions_by_visitors_b.columns = ['visitor_id', 'transactions']\n",
    "\n",
    "sample_a = pd.concat(\n",
    "    [transactions_by_visitors_a['transactions'], pd.Series(0, index=np.arange(\n",
    "        data['visitors_per_date_a'].sum() - len(transactions_by_visitors_a['transactions'])\n",
    "            ), name='transactions')], axis=0\n",
    ")\n",
    "\n",
    "sample_b = pd.concat(\n",
    "    [transactions_by_visitors_b['transactions'], pd.Series(0, index=np.arange(\n",
    "        data['visitors_per_date_b'].sum() - len(transactions_by_visitors_b['transactions'])\n",
    "            ),name='transactions')], axis=0\n",
    ")\n",
    "\n",
    "print(\"{0:.3f}\".format(st.mannwhitneyu(sample_a, sample_b)[1]))\n",
    "\n",
    "print(\"{0:.3f}\".format(sample_a.mean() / sample_b.mean() - 1))"
   ]
  },
  {
   "cell_type": "markdown",
   "metadata": {},
   "source": [
    "**Выводы и предположения**\n",
    "\n",
    "P-value = 0.011, меньше 0.05, поэтому гипотеза о том, что конверсии между группами по «сырым» данным отсутствуют статистически значимые различия, отвергается. Относительный проигрыш группы `B` равен  13.8%."
   ]
  },
  {
   "cell_type": "markdown",
   "metadata": {},
   "source": [
    "### Расчет статистической значимости различий в среднем чеке заказа между группами по «сырым» данным"
   ]
  },
  {
   "cell_type": "markdown",
   "metadata": {},
   "source": [
    "*Гипотеза №2: В среднем чеке между группами по «сырым» данным отсутствуют статистически значимые различия:*\n",
    "\n",
    "H₀: В среднем чеке между группами `A` и `B` отсутствуют статистически значимые различия;\n",
    "\n",
    "H₁: В среднем чеке между группами `A` и `B` присутствуют статистически значимые различия.\n",
    "\n",
    "Исходя из формулировки гипотезы о том, что в среднем чеке между группами по «сырым» данным отсутствуют статистически значимые различия, были сформулированы нулевая(H₀) и альтернативная гипотезы(H₁), для нулевой сделано предположение о том, что в среднем чеке между группами `A` и `B` отсутствуют статистически значимые различия, а для альтернативной, наоборот, в среднем чеке между группами `A` и `B` присутствуют статистически значимые различия."
   ]
  },
  {
   "cell_type": "code",
   "execution_count": 50,
   "metadata": {},
   "outputs": [
    {
     "name": "stdout",
     "output_type": "stream",
     "text": [
      "0.829\n",
      "0.287\n"
     ]
    }
   ],
   "source": [
    "print('{0:.3f}'.format(\n",
    "    st.mannwhitneyu(orders[orders['group']=='A']['revenue'], \n",
    "                       orders[orders['group']=='B']['revenue'])[1])\n",
    "     )\n",
    "print('{0:.3f}'.format(\n",
    "    orders[orders['group']=='B']['revenue']\n",
    "    .mean()/orders[orders['group']=='A']['revenue'].mean()-1)\n",
    "     )"
   ]
  },
  {
   "cell_type": "markdown",
   "metadata": {},
   "source": [
    "**Выводы и предположения**\n",
    "\n",
    "P-value значительно больше 0.05. Значит, причин отвергать нулевую гипотезу и считать, что среднем чеке между группами по «сырым» данным отсутствуют статистически значимые различия, нет. Наблюдаемое различие в 28,7% - не является статистически значимым."
   ]
  },
  {
   "cell_type": "markdown",
   "metadata": {},
   "source": [
    "### Расчет статистической значимости различий в конверсии между группами по «очищенным» данным"
   ]
  },
  {
   "cell_type": "code",
   "execution_count": 51,
   "metadata": {},
   "outputs": [
    {
     "data": {
      "text/plain": [
       "568     113298937\n",
       "1099    148427295\n",
       "928     204675465\n",
       "33      249864742\n",
       "684     358944393\n",
       "Name: visitor_id, dtype: int64"
      ]
     },
     "metadata": {},
     "output_type": "display_data"
    },
    {
     "name": "stdout",
     "output_type": "stream",
     "text": [
      "86\n"
     ]
    }
   ],
   "source": [
    "# аномальные пользователи\n",
    "visitors_with_many_transactions = pd.concat(\n",
    "    [\n",
    "        transactions_by_visitors_a[transactions_by_visitors_a['transactions'] > 1]['visitor_id'],\n",
    "        transactions_by_visitors_b[transactions_by_visitors_b['transactions'] > 1]['visitor_id'],\n",
    "    ],\n",
    "    axis=0,\n",
    ")\n",
    "\n",
    "revenue_lim = np.percentile(orders['revenue'], 95)\n",
    "\n",
    "visitors_with_expensive_transactions = orders[orders['revenue'] > revenue_lim]['visitor_id']\n",
    "\n",
    "abnormal_visitors = (\n",
    "    pd.concat([visitors_with_many_transactions, visitors_with_expensive_transactions], axis=0)\n",
    "    .drop_duplicates()\n",
    "    .sort_values()\n",
    ")\n",
    "\n",
    "display(abnormal_visitors.head(5))\n",
    "print(abnormal_visitors.shape[0])"
   ]
  },
  {
   "cell_type": "markdown",
   "metadata": {},
   "source": [
    "Всего 86 аномальных пользователя."
   ]
  },
  {
   "cell_type": "markdown",
   "metadata": {},
   "source": [
    "*Гипотеза №3: В конверсии между группами по «очищенным» данным отсутствуют статистически значимые различия:*\n",
    "\n",
    "H₀: В конверсии между группами `A` и `B` отсутствуют статистически значимые различия;\n",
    "\n",
    "H₁: В конверсии между группами `A` и `B` присутствуют статистически значимые различия.\n",
    "\n",
    "Исходя из формулировки гипотезы о том, что в конверсии между группами по «очищенным» данным отсутствуют статистически значимые различия, были сформулированы нулевая(H₀) и альтернативная гипотезы(H₁), для нулевой сделано предположение о том, что в конверсии между группами `A` и `B` отсутствуют статистически значимые различия, а для альтернативной, наоборот, в конверсии между группами `A` и `B` присутствуют статистически значимые различия."
   ]
  },
  {
   "cell_type": "code",
   "execution_count": 52,
   "metadata": {},
   "outputs": [
    {
     "name": "stdout",
     "output_type": "stream",
     "text": [
      "0.016\n",
      "0.174\n"
     ]
    }
   ],
   "source": [
    "# расчет статистической значимости различий в среднем чеке заказа\n",
    "sample_a_filtered = pd.concat(\n",
    "    [transactions_by_visitors_a[np.logical_not(transactions_by_visitors_a['visitor_id'].isin(abnormal_visitors))\n",
    "                               ]['transactions'], pd.Series(\n",
    "        0, index=np.arange(data['visitors_per_date_a'].sum() - len(transactions_by_visitors_a['transactions'])\n",
    "                          ), name='transactions')\n",
    "    ], axis=0\n",
    ")\n",
    "\n",
    "sample_b_filtered = pd.concat(\n",
    "    [transactions_by_visitors_b[np.logical_not(transactions_by_visitors_b['visitor_id'].isin(abnormal_visitors))\n",
    "                               ]['transactions'], pd.Series(\n",
    "        0, index=np.arange(data['visitors_per_date_b'].sum() - len(transactions_by_visitors_b['transactions'])\n",
    "                          ), name='transactions')\n",
    "    ], axis=0\n",
    ")\n",
    "\n",
    "print('{0:.3f}'.format(st.mannwhitneyu(sample_a_filtered, sample_b_filtered)[1]))\n",
    "print('{0:.3f}'.format(sample_b_filtered.mean()/sample_a_filtered.mean()-1))"
   ]
  },
  {
   "cell_type": "markdown",
   "metadata": {},
   "source": [
    "**Выводы и предположения**\n",
    "\n",
    "P-value = 0.016, меньше 0.05. Как и в конверсии по «сырым» данных, в «очищеных» данных гипотеза о том, что конверсии между группами по «очищенным» данным отсутствуют статистически значимые различия, отвергается. Относительный проигрыш группы `B` равен  17.4%."
   ]
  },
  {
   "cell_type": "markdown",
   "metadata": {},
   "source": [
    "### Расчет статистической значимости различий в среднем чеке заказа между группами по «очищенным» данным"
   ]
  },
  {
   "cell_type": "markdown",
   "metadata": {},
   "source": [
    "*Гипотеза №4: В среднем чеке между группами по «очищенным» данным отсутствуют статистически значимые различия:*\n",
    "\n",
    "H₀: В среднем чеке между группами `A` и `B` отсутствуют статистически значимые различия;\n",
    "\n",
    "H₁: В среднем чеке между группами `A` и `B` присутствуют статистически значимые различия.\n",
    "\n",
    "Исходя из формулировки гипотезы о том, что в среднем чеке между группами по «очищенным» данным отсутствуют статистически значимые различия, были сформулированы нулевая(H₀) и альтернативная гипотезы(H₁), для нулевой сделано предположение о том, что в среднем чеке между группами `A` и `B` отсутствуют статистически значимые различия, а для альтернативной, наоборот, в среднем чеке между группами `A` и `B` присутствуют статистически значимые различия."
   ]
  },
  {
   "cell_type": "code",
   "execution_count": 53,
   "metadata": {},
   "outputs": [
    {
     "name": "stdout",
     "output_type": "stream",
     "text": [
      "0.727\n",
      "-0.034\n"
     ]
    }
   ],
   "source": [
    "print('{0:.3f}'.format(\n",
    "    st.mannwhitneyu(orders[np.logical_and(\n",
    "        orders['group'] == 'A', np.logical_not(orders['visitor_id'].isin(abnormal_visitors)))]['revenue'],\n",
    "                    orders[np.logical_and(orders['group'] == 'B',np.logical_not(\n",
    "                        orders['visitor_id'].isin(abnormal_visitors)))]['revenue'])[1]\n",
    ")\n",
    "     )\n",
    "\n",
    "print(\"{0:.3f}\".format(\n",
    "    orders[np.logical_and(orders['group'] == 'B', np.logical_not(orders['visitor_id'].isin(abnormal_visitors)))]\n",
    "    ['revenue'].mean() / orders[np.logical_and(orders['group'] == 'A', np.logical_not(\n",
    "        orders['visitor_id'].isin(abnormal_visitors)))\n",
    "        ]['revenue'].mean()- 1\n",
    ")\n",
    "     ) "
   ]
  },
  {
   "cell_type": "markdown",
   "metadata": {},
   "source": [
    "**Выводы и предположения**\n",
    "\n",
    "P-value значительно больше 0.05 как и в случае с «сырыми» данными. Гипотеза о том, что в среднем чеке между группами по «очищенным» данным отсутствуют статистически значимые различия - не отвергается. Наблюдаемое различие, значительно сократилось в отличии от «сырых» данных и составляет 3,4% - не является статистически значимым."
   ]
  },
  {
   "cell_type": "markdown",
   "metadata": {},
   "source": [
    "## Шаг 5. Решение по результатам теста"
   ]
  },
  {
   "cell_type": "markdown",
   "metadata": {},
   "source": [
    "- Есть статистически значимое различие по конверсии между группами как по «сырым» данным, так и по «очищенным» данным;\n",
    "- Нет статистически значимого различия по среднему чеку между группами как по «сырым» данным, так и по «очищенным» данным;\n",
    "- График различия конверсии между группами сообщает, что результаты группы `B` лучше группы `A`;\n",
    "- График различия среднего чека говорит о том, что результаты группы `B` улучшаются день ото дня.\n",
    "\n",
    "Решение: Остановить тест, группа `B` показывает лучшие результаты, чем группа `A`."
   ]
  }
 ],
 "metadata": {
  "ExecuteTimeLog": [
   {
    "duration": 1211,
    "start_time": "2022-05-08T12:09:53.020Z"
   },
   {
    "duration": 87,
    "start_time": "2022-05-08T14:21:44.361Z"
   },
   {
    "duration": 15,
    "start_time": "2022-05-08T14:30:08.731Z"
   },
   {
    "duration": 1769,
    "start_time": "2022-05-08T14:30:14.963Z"
   },
   {
    "duration": 6,
    "start_time": "2022-05-08T14:30:59.875Z"
   },
   {
    "duration": 9,
    "start_time": "2022-05-08T14:32:09.112Z"
   },
   {
    "duration": 13,
    "start_time": "2022-05-08T14:32:15.821Z"
   },
   {
    "duration": 8,
    "start_time": "2022-05-08T14:32:26.755Z"
   },
   {
    "duration": 23,
    "start_time": "2022-05-08T14:33:50.455Z"
   },
   {
    "duration": 20,
    "start_time": "2022-05-08T14:39:33.766Z"
   },
   {
    "duration": 8,
    "start_time": "2022-05-08T14:43:25.432Z"
   },
   {
    "duration": 14,
    "start_time": "2022-05-08T14:43:29.035Z"
   },
   {
    "duration": 12,
    "start_time": "2022-05-08T14:43:31.165Z"
   },
   {
    "duration": 4,
    "start_time": "2022-05-08T14:46:19.299Z"
   },
   {
    "duration": 2,
    "start_time": "2022-05-08T14:46:40.565Z"
   },
   {
    "duration": 7,
    "start_time": "2022-05-08T14:46:57.661Z"
   },
   {
    "duration": 5,
    "start_time": "2022-05-08T14:47:29.160Z"
   },
   {
    "duration": 5,
    "start_time": "2022-05-08T14:48:44.247Z"
   },
   {
    "duration": 1383,
    "start_time": "2022-05-08T14:49:00.583Z"
   },
   {
    "duration": 5,
    "start_time": "2022-05-08T14:49:28.998Z"
   },
   {
    "duration": 4,
    "start_time": "2022-05-08T14:49:42.949Z"
   },
   {
    "duration": 7,
    "start_time": "2022-05-08T14:50:06.374Z"
   },
   {
    "duration": 5,
    "start_time": "2022-05-08T14:54:12.469Z"
   },
   {
    "duration": 8,
    "start_time": "2022-05-08T14:54:39.478Z"
   },
   {
    "duration": 28,
    "start_time": "2022-05-08T15:43:24.484Z"
   },
   {
    "duration": 11,
    "start_time": "2022-05-08T15:43:41.964Z"
   },
   {
    "duration": 1323,
    "start_time": "2022-05-08T15:46:27.773Z"
   },
   {
    "duration": 363,
    "start_time": "2022-05-08T15:46:51.628Z"
   },
   {
    "duration": 341,
    "start_time": "2022-05-08T15:47:13.123Z"
   },
   {
    "duration": 6,
    "start_time": "2022-05-08T15:49:19.123Z"
   },
   {
    "duration": 10,
    "start_time": "2022-05-08T15:49:35.775Z"
   },
   {
    "duration": 86,
    "start_time": "2022-05-08T15:55:26.086Z"
   },
   {
    "duration": 8,
    "start_time": "2022-05-08T15:55:53.734Z"
   },
   {
    "duration": 366,
    "start_time": "2022-05-08T15:56:16.546Z"
   },
   {
    "duration": 5,
    "start_time": "2022-05-08T16:01:53.658Z"
   },
   {
    "duration": 19,
    "start_time": "2022-05-08T16:03:30.113Z"
   },
   {
    "duration": 10,
    "start_time": "2022-05-08T16:03:43.850Z"
   },
   {
    "duration": 4,
    "start_time": "2022-05-08T16:04:12.496Z"
   },
   {
    "duration": 16,
    "start_time": "2022-05-08T16:05:00.528Z"
   },
   {
    "duration": 12,
    "start_time": "2022-05-08T16:05:07.107Z"
   },
   {
    "duration": 5,
    "start_time": "2022-05-08T16:05:09.508Z"
   },
   {
    "duration": 27,
    "start_time": "2022-05-08T16:05:25.771Z"
   },
   {
    "duration": 10,
    "start_time": "2022-05-08T16:05:30.832Z"
   },
   {
    "duration": 5,
    "start_time": "2022-05-08T16:05:40.803Z"
   },
   {
    "duration": 5,
    "start_time": "2022-05-08T16:05:49.992Z"
   },
   {
    "duration": 15,
    "start_time": "2022-05-08T16:06:19.935Z"
   },
   {
    "duration": 11,
    "start_time": "2022-05-08T16:06:24.396Z"
   },
   {
    "duration": 5,
    "start_time": "2022-05-08T16:06:43.817Z"
   },
   {
    "duration": 5,
    "start_time": "2022-05-08T16:07:04.052Z"
   },
   {
    "duration": 8,
    "start_time": "2022-05-08T16:07:11.512Z"
   },
   {
    "duration": 4,
    "start_time": "2022-05-08T16:07:30.019Z"
   },
   {
    "duration": 8,
    "start_time": "2022-05-08T16:07:36.673Z"
   },
   {
    "duration": 35,
    "start_time": "2022-05-08T16:15:26.314Z"
   },
   {
    "duration": 9,
    "start_time": "2022-05-08T16:15:43.417Z"
   },
   {
    "duration": 10,
    "start_time": "2022-05-08T16:16:14.276Z"
   },
   {
    "duration": 9,
    "start_time": "2022-05-08T16:17:46.479Z"
   },
   {
    "duration": 26,
    "start_time": "2022-05-08T16:19:18.401Z"
   },
   {
    "duration": 32,
    "start_time": "2022-05-08T16:19:39.854Z"
   },
   {
    "duration": 24,
    "start_time": "2022-05-08T16:21:51.834Z"
   },
   {
    "duration": 6,
    "start_time": "2022-05-08T16:32:56.665Z"
   },
   {
    "duration": 6,
    "start_time": "2022-05-08T16:33:16.810Z"
   },
   {
    "duration": 1510,
    "start_time": "2022-05-08T16:37:39.999Z"
   },
   {
    "duration": 5,
    "start_time": "2022-05-08T16:38:02.786Z"
   },
   {
    "duration": 5,
    "start_time": "2022-05-08T16:38:03.657Z"
   },
   {
    "duration": 5,
    "start_time": "2022-05-08T16:38:05.271Z"
   },
   {
    "duration": 4,
    "start_time": "2022-05-08T16:38:05.510Z"
   },
   {
    "duration": 4,
    "start_time": "2022-05-08T16:38:08.962Z"
   },
   {
    "duration": 9,
    "start_time": "2022-05-08T16:38:15.585Z"
   },
   {
    "duration": 5,
    "start_time": "2022-05-08T16:38:19.049Z"
   },
   {
    "duration": 10,
    "start_time": "2022-05-08T16:38:20.061Z"
   },
   {
    "duration": 29,
    "start_time": "2022-05-08T16:53:59.780Z"
   },
   {
    "duration": 28,
    "start_time": "2022-05-08T16:54:34.845Z"
   },
   {
    "duration": 286,
    "start_time": "2022-05-08T16:56:31.742Z"
   },
   {
    "duration": 288,
    "start_time": "2022-05-08T17:02:03.878Z"
   },
   {
    "duration": 253,
    "start_time": "2022-05-08T17:04:40.072Z"
   },
   {
    "duration": 157,
    "start_time": "2022-05-08T17:05:58.697Z"
   },
   {
    "duration": 177,
    "start_time": "2022-05-08T17:07:45.285Z"
   },
   {
    "duration": 191,
    "start_time": "2022-05-08T17:08:48.004Z"
   },
   {
    "duration": 211,
    "start_time": "2022-05-08T17:09:48.870Z"
   },
   {
    "duration": 181,
    "start_time": "2022-05-08T17:10:03.683Z"
   },
   {
    "duration": 188,
    "start_time": "2022-05-08T17:13:07.224Z"
   },
   {
    "duration": 193,
    "start_time": "2022-05-08T17:13:19.517Z"
   },
   {
    "duration": 246,
    "start_time": "2022-05-08T17:13:28.566Z"
   },
   {
    "duration": 187,
    "start_time": "2022-05-08T17:13:34.503Z"
   },
   {
    "duration": 184,
    "start_time": "2022-05-08T17:13:42.267Z"
   },
   {
    "duration": 182,
    "start_time": "2022-05-08T17:13:56.761Z"
   },
   {
    "duration": 187,
    "start_time": "2022-05-08T17:30:15.982Z"
   },
   {
    "duration": 57,
    "start_time": "2022-05-09T08:36:29.193Z"
   },
   {
    "duration": 1215,
    "start_time": "2022-05-09T08:36:46.432Z"
   },
   {
    "duration": 95,
    "start_time": "2022-05-09T08:36:47.649Z"
   },
   {
    "duration": 11,
    "start_time": "2022-05-09T08:36:47.745Z"
   },
   {
    "duration": 23,
    "start_time": "2022-05-09T08:36:47.758Z"
   },
   {
    "duration": 9,
    "start_time": "2022-05-09T08:36:47.784Z"
   },
   {
    "duration": 10,
    "start_time": "2022-05-09T08:36:47.794Z"
   },
   {
    "duration": 11,
    "start_time": "2022-05-09T08:36:47.806Z"
   },
   {
    "duration": 7,
    "start_time": "2022-05-09T08:36:47.819Z"
   },
   {
    "duration": 9,
    "start_time": "2022-05-09T08:36:47.828Z"
   },
   {
    "duration": 9,
    "start_time": "2022-05-09T08:36:47.839Z"
   },
   {
    "duration": 14,
    "start_time": "2022-05-09T08:36:47.850Z"
   },
   {
    "duration": 13,
    "start_time": "2022-05-09T08:36:47.865Z"
   },
   {
    "duration": 387,
    "start_time": "2022-05-09T08:36:47.880Z"
   },
   {
    "duration": 335,
    "start_time": "2022-05-09T08:36:48.271Z"
   },
   {
    "duration": 178,
    "start_time": "2022-05-09T08:37:18.722Z"
   },
   {
    "duration": 180,
    "start_time": "2022-05-09T08:37:41.081Z"
   },
   {
    "duration": 164,
    "start_time": "2022-05-09T08:38:16.904Z"
   },
   {
    "duration": 175,
    "start_time": "2022-05-09T08:41:20.167Z"
   },
   {
    "duration": 167,
    "start_time": "2022-05-09T10:36:45.024Z"
   },
   {
    "duration": 336,
    "start_time": "2022-05-09T10:51:45.670Z"
   },
   {
    "duration": 295,
    "start_time": "2022-05-09T10:53:42.497Z"
   },
   {
    "duration": 295,
    "start_time": "2022-05-09T10:53:59.370Z"
   },
   {
    "duration": 254,
    "start_time": "2022-05-09T11:02:09.101Z"
   },
   {
    "duration": 184,
    "start_time": "2022-05-09T11:03:04.957Z"
   },
   {
    "duration": 209,
    "start_time": "2022-05-09T11:04:48.236Z"
   },
   {
    "duration": 194,
    "start_time": "2022-05-09T11:05:38.381Z"
   },
   {
    "duration": 188,
    "start_time": "2022-05-09T11:05:46.000Z"
   },
   {
    "duration": 175,
    "start_time": "2022-05-09T11:09:16.530Z"
   },
   {
    "duration": 103,
    "start_time": "2022-05-09T11:11:22.458Z"
   },
   {
    "duration": 505,
    "start_time": "2022-05-09T11:11:30.188Z"
   },
   {
    "duration": 445,
    "start_time": "2022-05-09T11:11:55.297Z"
   },
   {
    "duration": 1089,
    "start_time": "2022-05-09T11:12:04.062Z"
   },
   {
    "duration": 85,
    "start_time": "2022-05-09T11:12:05.153Z"
   },
   {
    "duration": 10,
    "start_time": "2022-05-09T11:12:05.240Z"
   },
   {
    "duration": 26,
    "start_time": "2022-05-09T11:12:05.252Z"
   },
   {
    "duration": 6,
    "start_time": "2022-05-09T11:12:05.280Z"
   },
   {
    "duration": 11,
    "start_time": "2022-05-09T11:12:05.287Z"
   },
   {
    "duration": 9,
    "start_time": "2022-05-09T11:12:05.299Z"
   },
   {
    "duration": 10,
    "start_time": "2022-05-09T11:12:05.310Z"
   },
   {
    "duration": 521,
    "start_time": "2022-05-09T11:12:05.322Z"
   },
   {
    "duration": 0,
    "start_time": "2022-05-09T11:12:05.845Z"
   },
   {
    "duration": 0,
    "start_time": "2022-05-09T11:12:05.846Z"
   },
   {
    "duration": 0,
    "start_time": "2022-05-09T11:12:05.847Z"
   },
   {
    "duration": 0,
    "start_time": "2022-05-09T11:12:05.848Z"
   },
   {
    "duration": 0,
    "start_time": "2022-05-09T11:12:05.850Z"
   },
   {
    "duration": 0,
    "start_time": "2022-05-09T11:12:05.851Z"
   },
   {
    "duration": 0,
    "start_time": "2022-05-09T11:12:05.852Z"
   },
   {
    "duration": 0,
    "start_time": "2022-05-09T11:12:05.853Z"
   },
   {
    "duration": 0,
    "start_time": "2022-05-09T11:12:05.854Z"
   },
   {
    "duration": 0,
    "start_time": "2022-05-09T11:12:05.855Z"
   },
   {
    "duration": 425,
    "start_time": "2022-05-09T11:13:50.476Z"
   },
   {
    "duration": 1046,
    "start_time": "2022-05-09T11:14:35.626Z"
   },
   {
    "duration": 83,
    "start_time": "2022-05-09T11:14:36.674Z"
   },
   {
    "duration": 11,
    "start_time": "2022-05-09T11:14:36.758Z"
   },
   {
    "duration": 23,
    "start_time": "2022-05-09T11:14:36.771Z"
   },
   {
    "duration": 5,
    "start_time": "2022-05-09T11:14:36.796Z"
   },
   {
    "duration": 8,
    "start_time": "2022-05-09T11:14:36.803Z"
   },
   {
    "duration": 3,
    "start_time": "2022-05-09T11:14:36.813Z"
   },
   {
    "duration": 3,
    "start_time": "2022-05-09T11:14:36.818Z"
   },
   {
    "duration": 7,
    "start_time": "2022-05-09T11:14:36.823Z"
   },
   {
    "duration": 9,
    "start_time": "2022-05-09T11:14:36.834Z"
   },
   {
    "duration": 9,
    "start_time": "2022-05-09T11:14:36.844Z"
   },
   {
    "duration": 38,
    "start_time": "2022-05-09T11:14:36.855Z"
   },
   {
    "duration": 271,
    "start_time": "2022-05-09T11:14:36.895Z"
   },
   {
    "duration": 257,
    "start_time": "2022-05-09T11:14:37.167Z"
   },
   {
    "duration": 241,
    "start_time": "2022-05-09T11:14:37.425Z"
   },
   {
    "duration": 356,
    "start_time": "2022-05-09T11:14:37.668Z"
   },
   {
    "duration": 167,
    "start_time": "2022-05-09T11:14:38.025Z"
   },
   {
    "duration": 1134,
    "start_time": "2022-05-09T11:15:35.194Z"
   },
   {
    "duration": 83,
    "start_time": "2022-05-09T11:15:36.331Z"
   },
   {
    "duration": 11,
    "start_time": "2022-05-09T11:15:36.416Z"
   },
   {
    "duration": 28,
    "start_time": "2022-05-09T11:15:36.429Z"
   },
   {
    "duration": 7,
    "start_time": "2022-05-09T11:15:36.459Z"
   },
   {
    "duration": 24,
    "start_time": "2022-05-09T11:15:36.467Z"
   },
   {
    "duration": 9,
    "start_time": "2022-05-09T11:15:36.493Z"
   },
   {
    "duration": 14,
    "start_time": "2022-05-09T11:15:36.504Z"
   },
   {
    "duration": 12,
    "start_time": "2022-05-09T11:15:36.519Z"
   },
   {
    "duration": 21,
    "start_time": "2022-05-09T11:15:36.533Z"
   },
   {
    "duration": 16,
    "start_time": "2022-05-09T11:15:36.555Z"
   },
   {
    "duration": 18,
    "start_time": "2022-05-09T11:15:36.573Z"
   },
   {
    "duration": 283,
    "start_time": "2022-05-09T11:15:36.593Z"
   },
   {
    "duration": 265,
    "start_time": "2022-05-09T11:15:36.878Z"
   },
   {
    "duration": 170,
    "start_time": "2022-05-09T11:15:37.145Z"
   },
   {
    "duration": 244,
    "start_time": "2022-05-09T11:15:37.317Z"
   },
   {
    "duration": 290,
    "start_time": "2022-05-09T11:15:37.562Z"
   },
   {
    "duration": 209,
    "start_time": "2022-05-09T11:23:42.183Z"
   },
   {
    "duration": 190,
    "start_time": "2022-05-09T11:23:50.013Z"
   },
   {
    "duration": 186,
    "start_time": "2022-05-09T11:23:53.224Z"
   },
   {
    "duration": 183,
    "start_time": "2022-05-09T11:23:57.421Z"
   },
   {
    "duration": 262,
    "start_time": "2022-05-09T11:24:35.026Z"
   },
   {
    "duration": 282,
    "start_time": "2022-05-09T11:24:46.885Z"
   },
   {
    "duration": 236,
    "start_time": "2022-05-09T11:31:17.310Z"
   },
   {
    "duration": 254,
    "start_time": "2022-05-09T11:32:27.809Z"
   },
   {
    "duration": 263,
    "start_time": "2022-05-09T11:34:55.876Z"
   },
   {
    "duration": 173,
    "start_time": "2022-05-09T11:50:03.634Z"
   },
   {
    "duration": 5,
    "start_time": "2022-05-09T11:50:20.259Z"
   },
   {
    "duration": 175,
    "start_time": "2022-05-09T11:50:27.817Z"
   },
   {
    "duration": 175,
    "start_time": "2022-05-09T11:50:46.290Z"
   },
   {
    "duration": 178,
    "start_time": "2022-05-09T11:51:10.265Z"
   },
   {
    "duration": 328,
    "start_time": "2022-05-09T11:58:54.148Z"
   },
   {
    "duration": 289,
    "start_time": "2022-05-09T11:59:21.811Z"
   },
   {
    "duration": 282,
    "start_time": "2022-05-09T11:59:29.592Z"
   },
   {
    "duration": 373,
    "start_time": "2022-05-09T11:59:39.423Z"
   },
   {
    "duration": 276,
    "start_time": "2022-05-09T12:00:02.501Z"
   },
   {
    "duration": 278,
    "start_time": "2022-05-09T12:01:56.603Z"
   },
   {
    "duration": 162,
    "start_time": "2022-05-09T12:07:29.610Z"
   },
   {
    "duration": 341,
    "start_time": "2022-05-09T12:08:44.077Z"
   },
   {
    "duration": 311,
    "start_time": "2022-05-09T12:08:53.886Z"
   },
   {
    "duration": 13,
    "start_time": "2022-05-09T12:18:53.834Z"
   },
   {
    "duration": 15,
    "start_time": "2022-05-09T12:19:04.959Z"
   },
   {
    "duration": 12,
    "start_time": "2022-05-09T12:19:52.698Z"
   },
   {
    "duration": 1023,
    "start_time": "2022-05-09T12:20:07.442Z"
   },
   {
    "duration": 88,
    "start_time": "2022-05-09T12:20:08.467Z"
   },
   {
    "duration": 10,
    "start_time": "2022-05-09T12:20:08.557Z"
   },
   {
    "duration": 32,
    "start_time": "2022-05-09T12:20:08.569Z"
   },
   {
    "duration": 8,
    "start_time": "2022-05-09T12:20:08.605Z"
   },
   {
    "duration": 8,
    "start_time": "2022-05-09T12:20:08.614Z"
   },
   {
    "duration": 10,
    "start_time": "2022-05-09T12:20:08.624Z"
   },
   {
    "duration": 8,
    "start_time": "2022-05-09T12:20:08.636Z"
   },
   {
    "duration": 8,
    "start_time": "2022-05-09T12:20:08.646Z"
   },
   {
    "duration": 8,
    "start_time": "2022-05-09T12:20:08.656Z"
   },
   {
    "duration": 7,
    "start_time": "2022-05-09T12:20:08.666Z"
   },
   {
    "duration": 22,
    "start_time": "2022-05-09T12:20:08.674Z"
   },
   {
    "duration": 391,
    "start_time": "2022-05-09T12:20:08.697Z"
   },
   {
    "duration": 368,
    "start_time": "2022-05-09T12:20:09.092Z"
   },
   {
    "duration": 238,
    "start_time": "2022-05-09T12:20:09.462Z"
   },
   {
    "duration": 321,
    "start_time": "2022-05-09T12:20:09.702Z"
   },
   {
    "duration": 238,
    "start_time": "2022-05-09T12:20:10.024Z"
   },
   {
    "duration": 339,
    "start_time": "2022-05-09T12:20:10.264Z"
   },
   {
    "duration": 99,
    "start_time": "2022-05-09T12:20:10.605Z"
   },
   {
    "duration": 10,
    "start_time": "2022-05-09T12:21:28.012Z"
   },
   {
    "duration": 114,
    "start_time": "2022-05-09T12:22:21.906Z"
   },
   {
    "duration": 4,
    "start_time": "2022-05-09T12:28:35.313Z"
   },
   {
    "duration": 120,
    "start_time": "2022-05-09T12:34:56.602Z"
   },
   {
    "duration": 4,
    "start_time": "2022-05-09T12:36:55.767Z"
   },
   {
    "duration": 5,
    "start_time": "2022-05-09T12:37:20.346Z"
   },
   {
    "duration": 4,
    "start_time": "2022-05-09T12:37:32.266Z"
   },
   {
    "duration": 125,
    "start_time": "2022-05-09T12:43:17.906Z"
   },
   {
    "duration": 4,
    "start_time": "2022-05-09T12:51:56.400Z"
   },
   {
    "duration": 207,
    "start_time": "2022-05-09T13:11:54.839Z"
   },
   {
    "duration": 117,
    "start_time": "2022-05-09T13:39:27.000Z"
   },
   {
    "duration": 321,
    "start_time": "2022-05-09T13:42:45.680Z"
   },
   {
    "duration": 319,
    "start_time": "2022-05-09T13:43:13.325Z"
   },
   {
    "duration": 228,
    "start_time": "2022-05-09T13:43:38.289Z"
   },
   {
    "duration": 297,
    "start_time": "2022-05-09T13:44:19.432Z"
   },
   {
    "duration": 146,
    "start_time": "2022-05-09T13:44:42.323Z"
   },
   {
    "duration": 160,
    "start_time": "2022-05-09T13:45:16.087Z"
   },
   {
    "duration": 171,
    "start_time": "2022-05-09T13:51:17.112Z"
   },
   {
    "duration": 311,
    "start_time": "2022-05-09T14:04:50.089Z"
   },
   {
    "duration": 298,
    "start_time": "2022-05-09T14:05:23.480Z"
   },
   {
    "duration": 10,
    "start_time": "2022-05-09T14:08:17.616Z"
   },
   {
    "duration": 13,
    "start_time": "2022-05-09T14:08:27.531Z"
   },
   {
    "duration": 1777,
    "start_time": "2022-05-09T14:23:11.562Z"
   },
   {
    "duration": 1743,
    "start_time": "2022-05-09T14:23:27.794Z"
   },
   {
    "duration": 214,
    "start_time": "2022-05-09T14:27:59.825Z"
   },
   {
    "duration": 158,
    "start_time": "2022-05-09T14:28:09.441Z"
   },
   {
    "duration": 13,
    "start_time": "2022-05-09T14:28:14.303Z"
   },
   {
    "duration": 1723,
    "start_time": "2022-05-09T14:28:18.436Z"
   },
   {
    "duration": 1804,
    "start_time": "2022-05-09T14:29:05.887Z"
   },
   {
    "duration": 1044,
    "start_time": "2022-05-09T14:31:10.639Z"
   },
   {
    "duration": 89,
    "start_time": "2022-05-09T14:31:11.685Z"
   },
   {
    "duration": 11,
    "start_time": "2022-05-09T14:31:11.775Z"
   },
   {
    "duration": 26,
    "start_time": "2022-05-09T14:31:11.788Z"
   },
   {
    "duration": 8,
    "start_time": "2022-05-09T14:31:11.816Z"
   },
   {
    "duration": 7,
    "start_time": "2022-05-09T14:31:11.826Z"
   },
   {
    "duration": 10,
    "start_time": "2022-05-09T14:31:11.835Z"
   },
   {
    "duration": 8,
    "start_time": "2022-05-09T14:31:11.846Z"
   },
   {
    "duration": 12,
    "start_time": "2022-05-09T14:31:11.855Z"
   },
   {
    "duration": 6,
    "start_time": "2022-05-09T14:31:11.870Z"
   },
   {
    "duration": 7,
    "start_time": "2022-05-09T14:31:11.895Z"
   },
   {
    "duration": 17,
    "start_time": "2022-05-09T14:31:11.903Z"
   },
   {
    "duration": 295,
    "start_time": "2022-05-09T14:31:11.922Z"
   },
   {
    "duration": 264,
    "start_time": "2022-05-09T14:31:12.219Z"
   },
   {
    "duration": 192,
    "start_time": "2022-05-09T14:31:12.485Z"
   },
   {
    "duration": 335,
    "start_time": "2022-05-09T14:31:12.679Z"
   },
   {
    "duration": 239,
    "start_time": "2022-05-09T14:31:13.016Z"
   },
   {
    "duration": 366,
    "start_time": "2022-05-09T14:31:13.257Z"
   },
   {
    "duration": 14,
    "start_time": "2022-05-09T14:31:13.625Z"
   },
   {
    "duration": 135,
    "start_time": "2022-05-09T14:31:13.641Z"
   },
   {
    "duration": 17,
    "start_time": "2022-05-09T14:31:13.778Z"
   },
   {
    "duration": 178,
    "start_time": "2022-05-09T14:31:13.797Z"
   },
   {
    "duration": 17,
    "start_time": "2022-05-09T14:31:13.977Z"
   },
   {
    "duration": 285,
    "start_time": "2022-05-09T14:31:13.996Z"
   },
   {
    "duration": 181,
    "start_time": "2022-05-09T14:31:14.282Z"
   },
   {
    "duration": 11,
    "start_time": "2022-05-09T14:31:14.464Z"
   },
   {
    "duration": 2070,
    "start_time": "2022-05-09T14:31:14.477Z"
   },
   {
    "duration": 1811,
    "start_time": "2022-05-09T14:34:46.420Z"
   },
   {
    "duration": 1978,
    "start_time": "2022-05-09T14:36:09.075Z"
   },
   {
    "duration": 2547,
    "start_time": "2022-05-09T14:36:58.619Z"
   },
   {
    "duration": 1991,
    "start_time": "2022-05-09T14:50:24.046Z"
   },
   {
    "duration": 2115,
    "start_time": "2022-05-09T14:56:57.222Z"
   },
   {
    "duration": 1936,
    "start_time": "2022-05-09T14:59:54.443Z"
   },
   {
    "duration": 2276,
    "start_time": "2022-05-09T15:16:40.311Z"
   },
   {
    "duration": 1100,
    "start_time": "2022-05-09T15:18:25.465Z"
   },
   {
    "duration": 112,
    "start_time": "2022-05-09T15:18:26.567Z"
   },
   {
    "duration": 11,
    "start_time": "2022-05-09T15:18:26.681Z"
   },
   {
    "duration": 28,
    "start_time": "2022-05-09T15:18:26.697Z"
   },
   {
    "duration": 14,
    "start_time": "2022-05-09T15:18:26.728Z"
   },
   {
    "duration": 5,
    "start_time": "2022-05-09T15:18:26.744Z"
   },
   {
    "duration": 8,
    "start_time": "2022-05-09T15:18:26.751Z"
   },
   {
    "duration": 7,
    "start_time": "2022-05-09T15:18:26.761Z"
   },
   {
    "duration": 7,
    "start_time": "2022-05-09T15:18:26.769Z"
   },
   {
    "duration": 25,
    "start_time": "2022-05-09T15:18:26.778Z"
   },
   {
    "duration": 26,
    "start_time": "2022-05-09T15:18:26.805Z"
   },
   {
    "duration": 10,
    "start_time": "2022-05-09T15:18:26.833Z"
   },
   {
    "duration": 326,
    "start_time": "2022-05-09T15:18:26.844Z"
   },
   {
    "duration": 301,
    "start_time": "2022-05-09T15:18:27.172Z"
   },
   {
    "duration": 208,
    "start_time": "2022-05-09T15:18:27.475Z"
   },
   {
    "duration": 293,
    "start_time": "2022-05-09T15:18:27.685Z"
   },
   {
    "duration": 215,
    "start_time": "2022-05-09T15:18:27.981Z"
   },
   {
    "duration": 323,
    "start_time": "2022-05-09T15:18:28.198Z"
   },
   {
    "duration": 11,
    "start_time": "2022-05-09T15:18:28.523Z"
   },
   {
    "duration": 133,
    "start_time": "2022-05-09T15:18:28.537Z"
   },
   {
    "duration": 22,
    "start_time": "2022-05-09T15:18:28.672Z"
   },
   {
    "duration": 159,
    "start_time": "2022-05-09T15:18:28.696Z"
   },
   {
    "duration": 5,
    "start_time": "2022-05-09T15:18:28.856Z"
   },
   {
    "duration": 261,
    "start_time": "2022-05-09T15:18:28.863Z"
   },
   {
    "duration": 219,
    "start_time": "2022-05-09T15:18:29.127Z"
   },
   {
    "duration": 11,
    "start_time": "2022-05-09T15:18:29.348Z"
   },
   {
    "duration": 2348,
    "start_time": "2022-05-09T15:18:29.361Z"
   },
   {
    "duration": 262,
    "start_time": "2022-05-09T15:50:35.696Z"
   },
   {
    "duration": 135,
    "start_time": "2022-05-09T15:55:52.966Z"
   },
   {
    "duration": 9,
    "start_time": "2022-05-09T15:56:10.395Z"
   },
   {
    "duration": 10,
    "start_time": "2022-05-09T15:56:48.438Z"
   },
   {
    "duration": 25,
    "start_time": "2022-05-09T15:56:56.817Z"
   },
   {
    "duration": 1996,
    "start_time": "2022-05-09T15:57:01.450Z"
   },
   {
    "duration": 2407,
    "start_time": "2022-05-09T15:57:26.081Z"
   },
   {
    "duration": 1900,
    "start_time": "2022-05-09T15:59:16.771Z"
   },
   {
    "duration": 326,
    "start_time": "2022-05-09T16:02:12.186Z"
   },
   {
    "duration": 235,
    "start_time": "2022-05-09T16:02:42.756Z"
   },
   {
    "duration": 392,
    "start_time": "2022-05-09T16:03:56.144Z"
   },
   {
    "duration": 176,
    "start_time": "2022-05-09T16:04:08.836Z"
   },
   {
    "duration": 172,
    "start_time": "2022-05-09T16:04:26.195Z"
   },
   {
    "duration": 2326,
    "start_time": "2022-05-09T16:05:02.834Z"
   },
   {
    "duration": 287,
    "start_time": "2022-05-09T16:06:01.636Z"
   },
   {
    "duration": 175,
    "start_time": "2022-05-09T16:07:43.465Z"
   },
   {
    "duration": 375,
    "start_time": "2022-05-09T16:08:11.665Z"
   },
   {
    "duration": 11,
    "start_time": "2022-05-09T16:10:40.214Z"
   },
   {
    "duration": 146,
    "start_time": "2022-05-09T16:11:10.709Z"
   },
   {
    "duration": 5,
    "start_time": "2022-05-09T16:11:33.000Z"
   },
   {
    "duration": 133,
    "start_time": "2022-05-09T16:11:53.820Z"
   },
   {
    "duration": 5,
    "start_time": "2022-05-09T16:12:00.194Z"
   },
   {
    "duration": 224,
    "start_time": "2022-05-09T16:16:31.208Z"
   },
   {
    "duration": 179,
    "start_time": "2022-05-09T16:21:33.463Z"
   },
   {
    "duration": 12,
    "start_time": "2022-05-09T16:22:01.055Z"
   },
   {
    "duration": 12,
    "start_time": "2022-05-09T16:25:08.078Z"
   },
   {
    "duration": 9,
    "start_time": "2022-05-09T16:28:19.419Z"
   },
   {
    "duration": 29,
    "start_time": "2022-05-09T16:28:30.241Z"
   },
   {
    "duration": 1713,
    "start_time": "2022-05-09T16:31:26.176Z"
   },
   {
    "duration": 16,
    "start_time": "2022-05-09T16:31:49.290Z"
   },
   {
    "duration": 12,
    "start_time": "2022-05-09T16:32:29.023Z"
   },
   {
    "duration": 13,
    "start_time": "2022-05-09T16:32:49.032Z"
   },
   {
    "duration": 18,
    "start_time": "2022-05-09T16:32:57.817Z"
   },
   {
    "duration": 20,
    "start_time": "2022-05-09T16:33:01.355Z"
   },
   {
    "duration": 34,
    "start_time": "2022-05-09T16:35:09.765Z"
   },
   {
    "duration": 1468,
    "start_time": "2022-05-11T12:07:41.269Z"
   },
   {
    "duration": 93,
    "start_time": "2022-05-11T12:07:42.740Z"
   },
   {
    "duration": 14,
    "start_time": "2022-05-11T12:07:42.836Z"
   },
   {
    "duration": 41,
    "start_time": "2022-05-11T12:07:42.854Z"
   },
   {
    "duration": 9,
    "start_time": "2022-05-11T12:07:42.898Z"
   },
   {
    "duration": 9,
    "start_time": "2022-05-11T12:07:42.909Z"
   },
   {
    "duration": 34,
    "start_time": "2022-05-11T12:07:42.920Z"
   },
   {
    "duration": 6,
    "start_time": "2022-05-11T12:07:42.957Z"
   },
   {
    "duration": 15,
    "start_time": "2022-05-11T12:07:42.965Z"
   },
   {
    "duration": 11,
    "start_time": "2022-05-11T12:07:42.982Z"
   },
   {
    "duration": 9,
    "start_time": "2022-05-11T12:07:42.995Z"
   },
   {
    "duration": 17,
    "start_time": "2022-05-11T12:07:43.007Z"
   },
   {
    "duration": 514,
    "start_time": "2022-05-11T12:07:43.027Z"
   },
   {
    "duration": 438,
    "start_time": "2022-05-11T12:07:43.546Z"
   },
   {
    "duration": 311,
    "start_time": "2022-05-11T12:07:43.986Z"
   },
   {
    "duration": 423,
    "start_time": "2022-05-11T12:07:44.300Z"
   },
   {
    "duration": 293,
    "start_time": "2022-05-11T12:07:44.725Z"
   },
   {
    "duration": 421,
    "start_time": "2022-05-11T12:07:45.020Z"
   },
   {
    "duration": 17,
    "start_time": "2022-05-11T12:07:45.443Z"
   },
   {
    "duration": 214,
    "start_time": "2022-05-11T12:07:45.463Z"
   },
   {
    "duration": 5,
    "start_time": "2022-05-11T12:07:45.679Z"
   },
   {
    "duration": 238,
    "start_time": "2022-05-11T12:07:45.687Z"
   },
   {
    "duration": 6,
    "start_time": "2022-05-11T12:07:45.928Z"
   },
   {
    "duration": 416,
    "start_time": "2022-05-11T12:07:45.936Z"
   },
   {
    "duration": 346,
    "start_time": "2022-05-11T12:07:46.355Z"
   },
   {
    "duration": 19,
    "start_time": "2022-05-11T12:07:46.704Z"
   },
   {
    "duration": 38,
    "start_time": "2022-05-11T12:07:46.725Z"
   },
   {
    "duration": 41,
    "start_time": "2022-05-11T12:07:46.767Z"
   },
   {
    "duration": 45,
    "start_time": "2022-05-11T12:07:46.811Z"
   },
   {
    "duration": 88,
    "start_time": "2022-05-11T12:12:27.808Z"
   },
   {
    "duration": 70,
    "start_time": "2022-05-11T17:55:37.405Z"
   },
   {
    "duration": 1360,
    "start_time": "2022-05-11T17:56:41.810Z"
   },
   {
    "duration": 146,
    "start_time": "2022-05-11T17:56:43.173Z"
   },
   {
    "duration": 11,
    "start_time": "2022-05-11T17:56:43.321Z"
   },
   {
    "duration": 57,
    "start_time": "2022-05-11T17:56:43.334Z"
   },
   {
    "duration": 46,
    "start_time": "2022-05-11T17:56:43.395Z"
   },
   {
    "duration": 25,
    "start_time": "2022-05-11T17:56:43.443Z"
   },
   {
    "duration": 24,
    "start_time": "2022-05-11T17:56:43.471Z"
   },
   {
    "duration": 34,
    "start_time": "2022-05-11T17:56:43.498Z"
   },
   {
    "duration": 39,
    "start_time": "2022-05-11T17:56:43.534Z"
   },
   {
    "duration": 31,
    "start_time": "2022-05-11T17:56:43.575Z"
   },
   {
    "duration": 14,
    "start_time": "2022-05-11T17:56:43.607Z"
   },
   {
    "duration": 51,
    "start_time": "2022-05-11T17:56:43.623Z"
   },
   {
    "duration": 438,
    "start_time": "2022-05-11T17:56:43.676Z"
   },
   {
    "duration": 463,
    "start_time": "2022-05-11T17:56:44.118Z"
   },
   {
    "duration": 294,
    "start_time": "2022-05-11T17:56:44.583Z"
   },
   {
    "duration": 366,
    "start_time": "2022-05-11T17:56:44.879Z"
   },
   {
    "duration": 196,
    "start_time": "2022-05-11T17:56:45.247Z"
   },
   {
    "duration": 309,
    "start_time": "2022-05-11T17:56:45.446Z"
   },
   {
    "duration": 12,
    "start_time": "2022-05-11T17:56:45.758Z"
   },
   {
    "duration": 142,
    "start_time": "2022-05-11T17:56:45.772Z"
   },
   {
    "duration": 4,
    "start_time": "2022-05-11T17:56:45.916Z"
   },
   {
    "duration": 158,
    "start_time": "2022-05-11T17:56:45.922Z"
   },
   {
    "duration": 5,
    "start_time": "2022-05-11T17:56:46.083Z"
   },
   {
    "duration": 265,
    "start_time": "2022-05-11T17:56:46.090Z"
   },
   {
    "duration": 178,
    "start_time": "2022-05-11T17:56:46.359Z"
   },
   {
    "duration": 14,
    "start_time": "2022-05-11T17:56:46.538Z"
   },
   {
    "duration": 25,
    "start_time": "2022-05-11T17:56:46.555Z"
   },
   {
    "duration": 33,
    "start_time": "2022-05-11T17:56:46.582Z"
   },
   {
    "duration": 27,
    "start_time": "2022-05-11T17:56:46.617Z"
   },
   {
    "duration": 13,
    "start_time": "2022-05-11T17:57:54.756Z"
   },
   {
    "duration": 10,
    "start_time": "2022-05-11T17:57:58.003Z"
   },
   {
    "duration": 124,
    "start_time": "2022-05-11T17:58:32.191Z"
   },
   {
    "duration": 10,
    "start_time": "2022-05-11T17:58:49.709Z"
   },
   {
    "duration": 11,
    "start_time": "2022-05-11T17:58:55.360Z"
   },
   {
    "duration": 9,
    "start_time": "2022-05-11T17:59:26.580Z"
   },
   {
    "duration": 72,
    "start_time": "2022-05-12T10:35:55.034Z"
   },
   {
    "duration": 1693,
    "start_time": "2022-05-12T10:36:02.771Z"
   },
   {
    "duration": 154,
    "start_time": "2022-05-12T10:36:04.468Z"
   },
   {
    "duration": 37,
    "start_time": "2022-05-12T10:36:04.624Z"
   },
   {
    "duration": 68,
    "start_time": "2022-05-12T10:36:04.663Z"
   },
   {
    "duration": 14,
    "start_time": "2022-05-12T10:36:04.735Z"
   },
   {
    "duration": 18,
    "start_time": "2022-05-12T10:36:04.751Z"
   },
   {
    "duration": 20,
    "start_time": "2022-05-12T10:36:04.771Z"
   },
   {
    "duration": 31,
    "start_time": "2022-05-12T10:36:04.793Z"
   },
   {
    "duration": 10,
    "start_time": "2022-05-12T10:36:04.827Z"
   },
   {
    "duration": 14,
    "start_time": "2022-05-12T10:36:04.840Z"
   },
   {
    "duration": 10,
    "start_time": "2022-05-12T10:36:04.857Z"
   },
   {
    "duration": 18,
    "start_time": "2022-05-12T10:36:04.870Z"
   },
   {
    "duration": 497,
    "start_time": "2022-05-12T10:36:04.891Z"
   },
   {
    "duration": 431,
    "start_time": "2022-05-12T10:36:05.392Z"
   },
   {
    "duration": 294,
    "start_time": "2022-05-12T10:36:05.825Z"
   },
   {
    "duration": 400,
    "start_time": "2022-05-12T10:36:06.124Z"
   },
   {
    "duration": 285,
    "start_time": "2022-05-12T10:36:06.526Z"
   },
   {
    "duration": 423,
    "start_time": "2022-05-12T10:36:06.814Z"
   },
   {
    "duration": 14,
    "start_time": "2022-05-12T10:36:07.239Z"
   },
   {
    "duration": 209,
    "start_time": "2022-05-12T10:36:07.255Z"
   },
   {
    "duration": 6,
    "start_time": "2022-05-12T10:36:07.466Z"
   },
   {
    "duration": 225,
    "start_time": "2022-05-12T10:36:07.474Z"
   },
   {
    "duration": 6,
    "start_time": "2022-05-12T10:36:07.701Z"
   },
   {
    "duration": 378,
    "start_time": "2022-05-12T10:36:07.725Z"
   },
   {
    "duration": 308,
    "start_time": "2022-05-12T10:36:08.105Z"
   },
   {
    "duration": 20,
    "start_time": "2022-05-12T10:36:08.415Z"
   },
   {
    "duration": 15,
    "start_time": "2022-05-12T10:36:08.437Z"
   },
   {
    "duration": 71,
    "start_time": "2022-05-12T10:36:08.454Z"
   },
   {
    "duration": 21,
    "start_time": "2022-05-12T10:36:08.527Z"
   },
   {
    "duration": 13,
    "start_time": "2022-05-12T10:36:43.519Z"
   },
   {
    "duration": 295,
    "start_time": "2022-05-12T11:06:11.263Z"
   },
   {
    "duration": 380,
    "start_time": "2022-05-12T11:07:24.371Z"
   },
   {
    "duration": 397,
    "start_time": "2022-05-12T11:08:31.884Z"
   },
   {
    "duration": 418,
    "start_time": "2022-05-12T11:11:28.325Z"
   },
   {
    "duration": 291,
    "start_time": "2022-05-12T11:12:49.452Z"
   },
   {
    "duration": 304,
    "start_time": "2022-05-12T11:13:07.764Z"
   },
   {
    "duration": 440,
    "start_time": "2022-05-12T11:14:14.105Z"
   },
   {
    "duration": 308,
    "start_time": "2022-05-12T11:14:21.338Z"
   },
   {
    "duration": 320,
    "start_time": "2022-05-12T11:14:33.387Z"
   },
   {
    "duration": 333,
    "start_time": "2022-05-12T11:15:27.469Z"
   },
   {
    "duration": 569,
    "start_time": "2022-05-12T11:16:38.171Z"
   },
   {
    "duration": 423,
    "start_time": "2022-05-12T11:17:21.322Z"
   },
   {
    "duration": 221,
    "start_time": "2022-05-12T11:21:26.911Z"
   },
   {
    "duration": 340,
    "start_time": "2022-05-12T11:22:17.727Z"
   },
   {
    "duration": 398,
    "start_time": "2022-05-12T11:22:46.865Z"
   },
   {
    "duration": 17,
    "start_time": "2022-05-12T11:24:16.662Z"
   },
   {
    "duration": 216,
    "start_time": "2022-05-12T12:32:56.368Z"
   },
   {
    "duration": 131,
    "start_time": "2022-05-12T12:33:12.145Z"
   },
   {
    "duration": 135,
    "start_time": "2022-05-12T12:33:22.289Z"
   },
   {
    "duration": 216,
    "start_time": "2022-05-12T12:33:25.507Z"
   },
   {
    "duration": 138,
    "start_time": "2022-05-12T12:35:14.096Z"
   },
   {
    "duration": 269,
    "start_time": "2022-05-12T12:38:29.256Z"
   },
   {
    "duration": 138,
    "start_time": "2022-05-12T12:38:37.401Z"
   },
   {
    "duration": 1155,
    "start_time": "2022-05-12T12:43:27.395Z"
   },
   {
    "duration": 1298,
    "start_time": "2022-05-12T12:44:17.207Z"
   },
   {
    "duration": 15,
    "start_time": "2022-05-12T12:44:30.697Z"
   },
   {
    "duration": 1393,
    "start_time": "2022-05-12T12:44:47.369Z"
   },
   {
    "duration": 119,
    "start_time": "2022-05-12T12:44:48.765Z"
   },
   {
    "duration": 33,
    "start_time": "2022-05-12T12:44:48.886Z"
   },
   {
    "duration": 35,
    "start_time": "2022-05-12T12:44:48.922Z"
   },
   {
    "duration": 9,
    "start_time": "2022-05-12T12:44:48.959Z"
   },
   {
    "duration": 10,
    "start_time": "2022-05-12T12:44:48.971Z"
   },
   {
    "duration": 11,
    "start_time": "2022-05-12T12:44:48.983Z"
   },
   {
    "duration": 29,
    "start_time": "2022-05-12T12:44:48.996Z"
   },
   {
    "duration": 131,
    "start_time": "2022-05-12T12:44:49.027Z"
   },
   {
    "duration": 161,
    "start_time": "2022-05-12T12:44:49.164Z"
   },
   {
    "duration": 0,
    "start_time": "2022-05-12T12:44:49.329Z"
   },
   {
    "duration": 0,
    "start_time": "2022-05-12T12:44:49.331Z"
   },
   {
    "duration": 0,
    "start_time": "2022-05-12T12:44:49.333Z"
   },
   {
    "duration": 0,
    "start_time": "2022-05-12T12:44:49.335Z"
   },
   {
    "duration": 0,
    "start_time": "2022-05-12T12:44:49.337Z"
   },
   {
    "duration": 0,
    "start_time": "2022-05-12T12:44:49.339Z"
   },
   {
    "duration": 1,
    "start_time": "2022-05-12T12:44:49.341Z"
   },
   {
    "duration": 0,
    "start_time": "2022-05-12T12:44:49.343Z"
   },
   {
    "duration": 0,
    "start_time": "2022-05-12T12:44:49.345Z"
   },
   {
    "duration": 0,
    "start_time": "2022-05-12T12:44:49.347Z"
   },
   {
    "duration": 0,
    "start_time": "2022-05-12T12:44:49.350Z"
   },
   {
    "duration": 0,
    "start_time": "2022-05-12T12:44:49.352Z"
   },
   {
    "duration": 0,
    "start_time": "2022-05-12T12:44:49.354Z"
   },
   {
    "duration": 0,
    "start_time": "2022-05-12T12:44:49.356Z"
   },
   {
    "duration": 0,
    "start_time": "2022-05-12T12:44:49.358Z"
   },
   {
    "duration": 0,
    "start_time": "2022-05-12T12:44:49.360Z"
   },
   {
    "duration": 0,
    "start_time": "2022-05-12T12:44:49.362Z"
   },
   {
    "duration": 0,
    "start_time": "2022-05-12T12:44:49.425Z"
   },
   {
    "duration": 0,
    "start_time": "2022-05-12T12:44:49.426Z"
   },
   {
    "duration": 1,
    "start_time": "2022-05-12T12:44:49.428Z"
   },
   {
    "duration": 0,
    "start_time": "2022-05-12T12:44:49.431Z"
   },
   {
    "duration": 15,
    "start_time": "2022-05-12T12:50:12.995Z"
   },
   {
    "duration": 1682,
    "start_time": "2022-05-12T12:51:04.922Z"
   },
   {
    "duration": 138,
    "start_time": "2022-05-12T12:51:31.954Z"
   },
   {
    "duration": 125,
    "start_time": "2022-05-12T12:52:04.001Z"
   },
   {
    "duration": 8,
    "start_time": "2022-05-12T12:52:43.888Z"
   },
   {
    "duration": 8,
    "start_time": "2022-05-12T12:52:52.488Z"
   },
   {
    "duration": 13,
    "start_time": "2022-05-12T12:53:10.602Z"
   },
   {
    "duration": 20,
    "start_time": "2022-05-12T12:53:26.433Z"
   },
   {
    "duration": 263,
    "start_time": "2022-05-12T12:53:41.466Z"
   },
   {
    "duration": 76,
    "start_time": "2022-05-12T13:07:45.108Z"
   },
   {
    "duration": 1709,
    "start_time": "2022-05-12T13:07:51.564Z"
   },
   {
    "duration": 134,
    "start_time": "2022-05-12T13:07:53.277Z"
   },
   {
    "duration": 32,
    "start_time": "2022-05-12T13:07:53.413Z"
   },
   {
    "duration": 36,
    "start_time": "2022-05-12T13:07:53.447Z"
   },
   {
    "duration": 38,
    "start_time": "2022-05-12T13:07:53.486Z"
   },
   {
    "duration": 7,
    "start_time": "2022-05-12T13:07:53.527Z"
   },
   {
    "duration": 11,
    "start_time": "2022-05-12T13:07:53.537Z"
   },
   {
    "duration": 11,
    "start_time": "2022-05-12T13:07:53.550Z"
   },
   {
    "duration": 172,
    "start_time": "2022-05-12T13:07:53.563Z"
   },
   {
    "duration": 8,
    "start_time": "2022-05-12T13:07:53.739Z"
   },
   {
    "duration": 11,
    "start_time": "2022-05-12T13:07:53.749Z"
   },
   {
    "duration": 22,
    "start_time": "2022-05-12T13:07:53.763Z"
   },
   {
    "duration": 35,
    "start_time": "2022-05-12T13:07:53.789Z"
   },
   {
    "duration": 15,
    "start_time": "2022-05-12T13:07:53.827Z"
   },
   {
    "duration": 475,
    "start_time": "2022-05-12T13:07:53.845Z"
   },
   {
    "duration": 485,
    "start_time": "2022-05-12T13:07:54.325Z"
   },
   {
    "duration": 290,
    "start_time": "2022-05-12T13:07:54.812Z"
   },
   {
    "duration": 493,
    "start_time": "2022-05-12T13:07:55.105Z"
   },
   {
    "duration": 415,
    "start_time": "2022-05-12T13:07:55.600Z"
   },
   {
    "duration": 456,
    "start_time": "2022-05-12T13:07:56.017Z"
   },
   {
    "duration": 18,
    "start_time": "2022-05-12T13:07:56.476Z"
   },
   {
    "duration": 249,
    "start_time": "2022-05-12T13:07:56.497Z"
   },
   {
    "duration": 6,
    "start_time": "2022-05-12T13:07:56.748Z"
   },
   {
    "duration": 231,
    "start_time": "2022-05-12T13:07:56.756Z"
   },
   {
    "duration": 5,
    "start_time": "2022-05-12T13:07:56.989Z"
   },
   {
    "duration": 403,
    "start_time": "2022-05-12T13:07:56.998Z"
   },
   {
    "duration": 371,
    "start_time": "2022-05-12T13:07:57.404Z"
   },
   {
    "duration": 15,
    "start_time": "2022-05-12T13:07:57.779Z"
   },
   {
    "duration": 38,
    "start_time": "2022-05-12T13:07:57.796Z"
   },
   {
    "duration": 51,
    "start_time": "2022-05-12T13:07:57.836Z"
   },
   {
    "duration": 37,
    "start_time": "2022-05-12T13:07:57.890Z"
   },
   {
    "duration": 20,
    "start_time": "2022-05-12T13:08:20.954Z"
   },
   {
    "duration": 306,
    "start_time": "2022-05-12T13:14:50.092Z"
   },
   {
    "duration": 1459,
    "start_time": "2022-05-12T13:15:43.325Z"
   },
   {
    "duration": 104,
    "start_time": "2022-05-12T13:15:44.787Z"
   },
   {
    "duration": 36,
    "start_time": "2022-05-12T13:15:44.893Z"
   },
   {
    "duration": 39,
    "start_time": "2022-05-12T13:15:44.932Z"
   },
   {
    "duration": 11,
    "start_time": "2022-05-12T13:15:44.973Z"
   },
   {
    "duration": 39,
    "start_time": "2022-05-12T13:15:44.987Z"
   },
   {
    "duration": 23,
    "start_time": "2022-05-12T13:15:45.029Z"
   },
   {
    "duration": 32,
    "start_time": "2022-05-12T13:15:45.054Z"
   },
   {
    "duration": 299,
    "start_time": "2022-05-12T13:15:45.088Z"
   },
   {
    "duration": 0,
    "start_time": "2022-05-12T13:15:45.392Z"
   },
   {
    "duration": 0,
    "start_time": "2022-05-12T13:15:45.394Z"
   },
   {
    "duration": 0,
    "start_time": "2022-05-12T13:15:45.396Z"
   },
   {
    "duration": 0,
    "start_time": "2022-05-12T13:15:45.398Z"
   },
   {
    "duration": 0,
    "start_time": "2022-05-12T13:15:45.400Z"
   },
   {
    "duration": 0,
    "start_time": "2022-05-12T13:15:45.402Z"
   },
   {
    "duration": 0,
    "start_time": "2022-05-12T13:15:45.425Z"
   },
   {
    "duration": 0,
    "start_time": "2022-05-12T13:15:45.427Z"
   },
   {
    "duration": 0,
    "start_time": "2022-05-12T13:15:45.430Z"
   },
   {
    "duration": 0,
    "start_time": "2022-05-12T13:15:45.431Z"
   },
   {
    "duration": 0,
    "start_time": "2022-05-12T13:15:45.434Z"
   },
   {
    "duration": 0,
    "start_time": "2022-05-12T13:15:45.435Z"
   },
   {
    "duration": 0,
    "start_time": "2022-05-12T13:15:45.436Z"
   },
   {
    "duration": 0,
    "start_time": "2022-05-12T13:15:45.438Z"
   },
   {
    "duration": 0,
    "start_time": "2022-05-12T13:15:45.440Z"
   },
   {
    "duration": 0,
    "start_time": "2022-05-12T13:15:45.442Z"
   },
   {
    "duration": 0,
    "start_time": "2022-05-12T13:15:45.443Z"
   },
   {
    "duration": 0,
    "start_time": "2022-05-12T13:15:45.445Z"
   },
   {
    "duration": 0,
    "start_time": "2022-05-12T13:15:45.446Z"
   },
   {
    "duration": 0,
    "start_time": "2022-05-12T13:15:45.448Z"
   },
   {
    "duration": 0,
    "start_time": "2022-05-12T13:15:45.450Z"
   },
   {
    "duration": 0,
    "start_time": "2022-05-12T13:15:45.451Z"
   },
   {
    "duration": 16,
    "start_time": "2022-05-12T13:19:52.637Z"
   },
   {
    "duration": 18,
    "start_time": "2022-05-12T13:20:02.133Z"
   },
   {
    "duration": 15,
    "start_time": "2022-05-12T13:20:19.284Z"
   },
   {
    "duration": 17,
    "start_time": "2022-05-12T13:24:36.267Z"
   },
   {
    "duration": 18,
    "start_time": "2022-05-12T13:26:40.749Z"
   },
   {
    "duration": 25,
    "start_time": "2022-05-12T13:29:36.119Z"
   },
   {
    "duration": 18,
    "start_time": "2022-05-12T13:29:49.998Z"
   },
   {
    "duration": 15,
    "start_time": "2022-05-12T13:35:01.742Z"
   },
   {
    "duration": 23,
    "start_time": "2022-05-12T13:35:12.466Z"
   },
   {
    "duration": 28,
    "start_time": "2022-05-12T13:35:17.595Z"
   },
   {
    "duration": 22,
    "start_time": "2022-05-12T13:35:27.675Z"
   },
   {
    "duration": 28,
    "start_time": "2022-05-12T13:35:40.948Z"
   },
   {
    "duration": 482,
    "start_time": "2022-05-12T13:36:40.834Z"
   },
   {
    "duration": 434,
    "start_time": "2022-05-12T13:36:45.710Z"
   },
   {
    "duration": 1997,
    "start_time": "2022-05-12T13:37:38.392Z"
   },
   {
    "duration": 105,
    "start_time": "2022-05-12T13:37:40.393Z"
   },
   {
    "duration": 31,
    "start_time": "2022-05-12T13:37:40.501Z"
   },
   {
    "duration": 38,
    "start_time": "2022-05-12T13:37:40.534Z"
   },
   {
    "duration": 6,
    "start_time": "2022-05-12T13:37:40.576Z"
   },
   {
    "duration": 42,
    "start_time": "2022-05-12T13:37:40.585Z"
   },
   {
    "duration": 19,
    "start_time": "2022-05-12T13:37:40.630Z"
   },
   {
    "duration": 13,
    "start_time": "2022-05-12T13:37:40.651Z"
   },
   {
    "duration": 58,
    "start_time": "2022-05-12T13:37:40.667Z"
   },
   {
    "duration": 29,
    "start_time": "2022-05-12T13:37:40.728Z"
   },
   {
    "duration": 6,
    "start_time": "2022-05-12T13:37:40.759Z"
   },
   {
    "duration": 17,
    "start_time": "2022-05-12T13:37:40.767Z"
   },
   {
    "duration": 38,
    "start_time": "2022-05-12T13:37:40.787Z"
   },
   {
    "duration": 14,
    "start_time": "2022-05-12T13:37:40.830Z"
   },
   {
    "duration": 519,
    "start_time": "2022-05-12T13:37:40.847Z"
   },
   {
    "duration": 456,
    "start_time": "2022-05-12T13:37:41.368Z"
   },
   {
    "duration": 438,
    "start_time": "2022-05-12T13:37:41.827Z"
   },
   {
    "duration": 459,
    "start_time": "2022-05-12T13:37:42.267Z"
   },
   {
    "duration": 331,
    "start_time": "2022-05-12T13:37:42.728Z"
   },
   {
    "duration": 487,
    "start_time": "2022-05-12T13:37:43.062Z"
   },
   {
    "duration": 16,
    "start_time": "2022-05-12T13:37:43.552Z"
   },
   {
    "duration": 249,
    "start_time": "2022-05-12T13:37:43.571Z"
   },
   {
    "duration": 6,
    "start_time": "2022-05-12T13:37:43.824Z"
   },
   {
    "duration": 232,
    "start_time": "2022-05-12T13:37:43.833Z"
   },
   {
    "duration": 6,
    "start_time": "2022-05-12T13:37:44.067Z"
   },
   {
    "duration": 638,
    "start_time": "2022-05-12T13:37:44.076Z"
   },
   {
    "duration": 325,
    "start_time": "2022-05-12T13:37:44.717Z"
   },
   {
    "duration": 14,
    "start_time": "2022-05-12T13:37:45.045Z"
   },
   {
    "duration": 16,
    "start_time": "2022-05-12T13:37:45.062Z"
   },
   {
    "duration": 74,
    "start_time": "2022-05-12T13:37:45.080Z"
   },
   {
    "duration": 21,
    "start_time": "2022-05-12T13:37:45.157Z"
   },
   {
    "duration": 13,
    "start_time": "2022-05-12T13:38:34.242Z"
   },
   {
    "duration": 307,
    "start_time": "2022-05-12T15:04:27.741Z"
   },
   {
    "duration": 18,
    "start_time": "2022-05-12T15:14:30.277Z"
   },
   {
    "duration": 39,
    "start_time": "2022-05-12T15:14:47.144Z"
   },
   {
    "duration": 24,
    "start_time": "2022-05-12T15:23:16.329Z"
   },
   {
    "duration": 1411,
    "start_time": "2022-05-12T16:23:24.708Z"
   },
   {
    "duration": 103,
    "start_time": "2022-05-12T16:23:26.123Z"
   },
   {
    "duration": 33,
    "start_time": "2022-05-12T16:23:26.228Z"
   },
   {
    "duration": 62,
    "start_time": "2022-05-12T16:23:26.264Z"
   },
   {
    "duration": 29,
    "start_time": "2022-05-12T16:23:26.328Z"
   },
   {
    "duration": 23,
    "start_time": "2022-05-12T16:23:26.359Z"
   },
   {
    "duration": 22,
    "start_time": "2022-05-12T16:23:26.384Z"
   },
   {
    "duration": 18,
    "start_time": "2022-05-12T16:23:26.409Z"
   },
   {
    "duration": 41,
    "start_time": "2022-05-12T16:23:26.430Z"
   },
   {
    "duration": 27,
    "start_time": "2022-05-12T16:23:26.476Z"
   },
   {
    "duration": 6,
    "start_time": "2022-05-12T16:23:26.505Z"
   },
   {
    "duration": 13,
    "start_time": "2022-05-12T16:23:26.524Z"
   },
   {
    "duration": 16,
    "start_time": "2022-05-12T16:23:26.539Z"
   },
   {
    "duration": 22,
    "start_time": "2022-05-12T16:23:26.557Z"
   },
   {
    "duration": 500,
    "start_time": "2022-05-12T16:23:26.582Z"
   },
   {
    "duration": 447,
    "start_time": "2022-05-12T16:23:27.085Z"
   },
   {
    "duration": 332,
    "start_time": "2022-05-12T16:23:27.534Z"
   },
   {
    "duration": 423,
    "start_time": "2022-05-12T16:23:27.868Z"
   },
   {
    "duration": 311,
    "start_time": "2022-05-12T16:23:28.293Z"
   },
   {
    "duration": 454,
    "start_time": "2022-05-12T16:23:28.606Z"
   },
   {
    "duration": 15,
    "start_time": "2022-05-12T16:23:29.062Z"
   },
   {
    "duration": 251,
    "start_time": "2022-05-12T16:23:29.080Z"
   },
   {
    "duration": 6,
    "start_time": "2022-05-12T16:23:29.333Z"
   },
   {
    "duration": 240,
    "start_time": "2022-05-12T16:23:29.342Z"
   },
   {
    "duration": 6,
    "start_time": "2022-05-12T16:23:29.584Z"
   },
   {
    "duration": 405,
    "start_time": "2022-05-12T16:23:29.593Z"
   },
   {
    "duration": 313,
    "start_time": "2022-05-12T16:23:30.013Z"
   },
   {
    "duration": 16,
    "start_time": "2022-05-12T16:23:30.332Z"
   },
   {
    "duration": 31,
    "start_time": "2022-05-12T16:23:30.350Z"
   },
   {
    "duration": 98,
    "start_time": "2022-05-12T16:23:30.383Z"
   },
   {
    "duration": 21,
    "start_time": "2022-05-12T16:23:30.484Z"
   },
   {
    "duration": 1392,
    "start_time": "2022-05-13T08:54:23.617Z"
   },
   {
    "duration": 108,
    "start_time": "2022-05-13T08:54:25.012Z"
   },
   {
    "duration": 39,
    "start_time": "2022-05-13T08:54:25.122Z"
   },
   {
    "duration": 61,
    "start_time": "2022-05-13T08:54:25.164Z"
   },
   {
    "duration": 9,
    "start_time": "2022-05-13T08:54:25.227Z"
   },
   {
    "duration": 19,
    "start_time": "2022-05-13T08:54:25.239Z"
   },
   {
    "duration": 17,
    "start_time": "2022-05-13T08:54:25.261Z"
   },
   {
    "duration": 7,
    "start_time": "2022-05-13T08:54:25.281Z"
   },
   {
    "duration": 52,
    "start_time": "2022-05-13T08:54:25.290Z"
   },
   {
    "duration": 29,
    "start_time": "2022-05-13T08:54:25.346Z"
   },
   {
    "duration": 5,
    "start_time": "2022-05-13T08:54:25.378Z"
   },
   {
    "duration": 49,
    "start_time": "2022-05-13T08:54:25.385Z"
   },
   {
    "duration": 12,
    "start_time": "2022-05-13T08:54:25.437Z"
   },
   {
    "duration": 16,
    "start_time": "2022-05-13T08:54:25.452Z"
   },
   {
    "duration": 518,
    "start_time": "2022-05-13T08:54:25.471Z"
   },
   {
    "duration": 466,
    "start_time": "2022-05-13T08:54:25.991Z"
   },
   {
    "duration": 342,
    "start_time": "2022-05-13T08:54:26.459Z"
   },
   {
    "duration": 417,
    "start_time": "2022-05-13T08:54:26.803Z"
   },
   {
    "duration": 328,
    "start_time": "2022-05-13T08:54:27.225Z"
   },
   {
    "duration": 511,
    "start_time": "2022-05-13T08:54:27.556Z"
   },
   {
    "duration": 14,
    "start_time": "2022-05-13T08:54:28.069Z"
   },
   {
    "duration": 268,
    "start_time": "2022-05-13T08:54:28.085Z"
   },
   {
    "duration": 7,
    "start_time": "2022-05-13T08:54:28.356Z"
   },
   {
    "duration": 279,
    "start_time": "2022-05-13T08:54:28.365Z"
   },
   {
    "duration": 6,
    "start_time": "2022-05-13T08:54:28.646Z"
   },
   {
    "duration": 411,
    "start_time": "2022-05-13T08:54:28.655Z"
   },
   {
    "duration": 308,
    "start_time": "2022-05-13T08:54:29.068Z"
   },
   {
    "duration": 15,
    "start_time": "2022-05-13T08:54:29.381Z"
   },
   {
    "duration": 56,
    "start_time": "2022-05-13T08:54:29.398Z"
   },
   {
    "duration": 60,
    "start_time": "2022-05-13T08:54:29.457Z"
   },
   {
    "duration": 24,
    "start_time": "2022-05-13T08:54:29.520Z"
   },
   {
    "duration": 1243,
    "start_time": "2022-09-06T22:46:56.396Z"
   },
   {
    "duration": 292,
    "start_time": "2022-09-06T22:46:57.641Z"
   },
   {
    "duration": 3,
    "start_time": "2022-09-06T22:53:06.829Z"
   },
   {
    "duration": 72,
    "start_time": "2022-09-06T22:53:10.064Z"
   },
   {
    "duration": 44,
    "start_time": "2022-09-06T22:54:55.378Z"
   },
   {
    "duration": 39,
    "start_time": "2022-09-06T22:55:28.491Z"
   },
   {
    "duration": 39,
    "start_time": "2022-09-06T22:55:45.434Z"
   },
   {
    "duration": 39,
    "start_time": "2022-09-06T22:55:51.064Z"
   },
   {
    "duration": 3,
    "start_time": "2022-09-06T22:56:44.174Z"
   },
   {
    "duration": 75,
    "start_time": "2022-09-06T22:56:45.107Z"
   },
   {
    "duration": 39,
    "start_time": "2022-09-06T22:56:45.855Z"
   },
   {
    "duration": 39,
    "start_time": "2022-09-06T22:56:51.658Z"
   },
   {
    "duration": 4,
    "start_time": "2022-09-06T23:03:28.092Z"
   },
   {
    "duration": 4,
    "start_time": "2022-09-06T23:03:34.973Z"
   },
   {
    "duration": 6,
    "start_time": "2022-09-06T23:03:40.329Z"
   },
   {
    "duration": 5,
    "start_time": "2022-09-06T23:03:41.220Z"
   },
   {
    "duration": 15,
    "start_time": "2022-09-06T23:03:53.363Z"
   },
   {
    "duration": 20,
    "start_time": "2022-09-06T23:04:02.765Z"
   },
   {
    "duration": 5,
    "start_time": "2022-09-06T23:05:34.263Z"
   },
   {
    "duration": 9,
    "start_time": "2022-09-06T23:05:37.364Z"
   },
   {
    "duration": 93,
    "start_time": "2022-09-06T23:05:54.930Z"
   },
   {
    "duration": 9,
    "start_time": "2022-09-06T23:05:59.531Z"
   },
   {
    "duration": 4,
    "start_time": "2022-09-06T23:06:19.266Z"
   },
   {
    "duration": 11,
    "start_time": "2022-09-06T23:06:19.994Z"
   },
   {
    "duration": 11,
    "start_time": "2022-09-06T23:06:50.557Z"
   },
   {
    "duration": 4,
    "start_time": "2022-09-06T23:06:57.827Z"
   },
   {
    "duration": 10,
    "start_time": "2022-09-06T23:06:58.479Z"
   },
   {
    "duration": 146,
    "start_time": "2022-09-06T23:10:25.597Z"
   },
   {
    "duration": 11,
    "start_time": "2022-09-06T23:10:33.601Z"
   },
   {
    "duration": 296,
    "start_time": "2022-09-06T23:10:51.464Z"
   },
   {
    "duration": 276,
    "start_time": "2022-09-06T23:10:55.865Z"
   },
   {
    "duration": 199,
    "start_time": "2022-09-06T23:11:19.086Z"
   },
   {
    "duration": 316,
    "start_time": "2022-09-06T23:12:21.370Z"
   },
   {
    "duration": 207,
    "start_time": "2022-09-06T23:12:23.911Z"
   },
   {
    "duration": 225,
    "start_time": "2022-09-06T23:12:36.709Z"
   },
   {
    "duration": 362,
    "start_time": "2022-09-06T23:12:58.075Z"
   },
   {
    "duration": 237,
    "start_time": "2022-09-06T23:13:18.900Z"
   },
   {
    "duration": 356,
    "start_time": "2022-09-06T23:13:30.260Z"
   },
   {
    "duration": 11,
    "start_time": "2022-09-06T23:14:11.193Z"
   },
   {
    "duration": 11,
    "start_time": "2022-09-06T23:14:24.266Z"
   },
   {
    "duration": 152,
    "start_time": "2022-09-06T23:15:12.219Z"
   },
   {
    "duration": 5,
    "start_time": "2022-09-06T23:15:22.459Z"
   },
   {
    "duration": 214,
    "start_time": "2022-09-06T23:15:34.454Z"
   },
   {
    "duration": 144,
    "start_time": "2022-09-06T23:16:49.054Z"
   },
   {
    "duration": 4,
    "start_time": "2022-09-06T23:16:53.864Z"
   },
   {
    "duration": 243,
    "start_time": "2022-09-06T23:17:10.212Z"
   },
   {
    "duration": 154,
    "start_time": "2022-09-06T23:18:06.016Z"
   },
   {
    "duration": 152,
    "start_time": "2022-09-06T23:18:14.731Z"
   },
   {
    "duration": 164,
    "start_time": "2022-09-06T23:19:52.265Z"
   },
   {
    "duration": 12,
    "start_time": "2022-09-06T23:21:21.324Z"
   },
   {
    "duration": 11,
    "start_time": "2022-09-06T23:21:36.341Z"
   },
   {
    "duration": 30,
    "start_time": "2022-09-06T23:22:00.663Z"
   },
   {
    "duration": 14,
    "start_time": "2022-09-06T23:22:14.065Z"
   }
  ],
  "kernelspec": {
   "display_name": "Python 3 (ipykernel)",
   "language": "python",
   "name": "python3"
  },
  "language_info": {
   "codemirror_mode": {
    "name": "ipython",
    "version": 3
   },
   "file_extension": ".py",
   "mimetype": "text/x-python",
   "name": "python",
   "nbconvert_exporter": "python",
   "pygments_lexer": "ipython3",
   "version": "3.9.7"
  },
  "toc": {
   "base_numbering": 1,
   "nav_menu": {},
   "number_sections": true,
   "sideBar": true,
   "skip_h1_title": true,
   "title_cell": "Table of Contents",
   "title_sidebar": "Contents",
   "toc_cell": false,
   "toc_position": {
    "height": "calc(100% - 180px)",
    "left": "10px",
    "top": "150px",
    "width": "220.91px"
   },
   "toc_section_display": true,
   "toc_window_display": true
  }
 },
 "nbformat": 4,
 "nbformat_minor": 2
}
