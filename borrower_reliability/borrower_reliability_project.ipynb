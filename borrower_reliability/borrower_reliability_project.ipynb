{
 "cells": [
  {
   "cell_type": "markdown",
   "id": "4f6378a8",
   "metadata": {},
   "source": [
    "# Исследование надежности заемщиков"
   ]
  },
  {
   "cell_type": "markdown",
   "id": "974cc578",
   "metadata": {},
   "source": [
    "## Шаг 1. Обзор данных"
   ]
  },
  {
   "cell_type": "markdown",
   "id": "8bbc197e",
   "metadata": {},
   "source": [
    "Составление первого представления о данных статистики о платежеспособности клиентов."
   ]
  },
  {
   "cell_type": "code",
   "execution_count": 1,
   "id": "0ae08e77",
   "metadata": {},
   "outputs": [],
   "source": [
    "# импорт библиотеки pandas\n",
    "import pandas as pd"
   ]
  },
  {
   "cell_type": "markdown",
   "id": "6dcaa4ab",
   "metadata": {},
   "source": [
    "Чтение файла data.csv и сохрание его в переменной df:"
   ]
  },
  {
   "cell_type": "code",
   "execution_count": 2,
   "id": "51035d59",
   "metadata": {},
   "outputs": [],
   "source": [
    "# чтение файла с данными и сохранение в df\n",
    "df = pd.read_csv('/datasets/data.csv')"
   ]
  },
  {
   "cell_type": "markdown",
   "id": "a211c5db",
   "metadata": {},
   "source": [
    "Вывод на экран первых десяти строк таблицы:"
   ]
  },
  {
   "cell_type": "code",
   "execution_count": 3,
   "id": "18b5c3a6",
   "metadata": {},
   "outputs": [
    {
     "data": {
      "text/html": [
       "<div>\n",
       "<style scoped>\n",
       "    .dataframe tbody tr th:only-of-type {\n",
       "        vertical-align: middle;\n",
       "    }\n",
       "\n",
       "    .dataframe tbody tr th {\n",
       "        vertical-align: top;\n",
       "    }\n",
       "\n",
       "    .dataframe thead th {\n",
       "        text-align: right;\n",
       "    }\n",
       "</style>\n",
       "<table border=\"1\" class=\"dataframe\">\n",
       "  <thead>\n",
       "    <tr style=\"text-align: right;\">\n",
       "      <th></th>\n",
       "      <th>children</th>\n",
       "      <th>days_employed</th>\n",
       "      <th>dob_years</th>\n",
       "      <th>education</th>\n",
       "      <th>education_id</th>\n",
       "      <th>family_status</th>\n",
       "      <th>family_status_id</th>\n",
       "      <th>gender</th>\n",
       "      <th>income_type</th>\n",
       "      <th>debt</th>\n",
       "      <th>total_income</th>\n",
       "      <th>purpose</th>\n",
       "    </tr>\n",
       "  </thead>\n",
       "  <tbody>\n",
       "    <tr>\n",
       "      <th>0</th>\n",
       "      <td>1</td>\n",
       "      <td>-8437.673028</td>\n",
       "      <td>42</td>\n",
       "      <td>высшее</td>\n",
       "      <td>0</td>\n",
       "      <td>женат / замужем</td>\n",
       "      <td>0</td>\n",
       "      <td>F</td>\n",
       "      <td>сотрудник</td>\n",
       "      <td>0</td>\n",
       "      <td>253875.639453</td>\n",
       "      <td>покупка жилья</td>\n",
       "    </tr>\n",
       "    <tr>\n",
       "      <th>1</th>\n",
       "      <td>1</td>\n",
       "      <td>-4024.803754</td>\n",
       "      <td>36</td>\n",
       "      <td>среднее</td>\n",
       "      <td>1</td>\n",
       "      <td>женат / замужем</td>\n",
       "      <td>0</td>\n",
       "      <td>F</td>\n",
       "      <td>сотрудник</td>\n",
       "      <td>0</td>\n",
       "      <td>112080.014102</td>\n",
       "      <td>приобретение автомобиля</td>\n",
       "    </tr>\n",
       "    <tr>\n",
       "      <th>2</th>\n",
       "      <td>0</td>\n",
       "      <td>-5623.422610</td>\n",
       "      <td>33</td>\n",
       "      <td>Среднее</td>\n",
       "      <td>1</td>\n",
       "      <td>женат / замужем</td>\n",
       "      <td>0</td>\n",
       "      <td>M</td>\n",
       "      <td>сотрудник</td>\n",
       "      <td>0</td>\n",
       "      <td>145885.952297</td>\n",
       "      <td>покупка жилья</td>\n",
       "    </tr>\n",
       "    <tr>\n",
       "      <th>3</th>\n",
       "      <td>3</td>\n",
       "      <td>-4124.747207</td>\n",
       "      <td>32</td>\n",
       "      <td>среднее</td>\n",
       "      <td>1</td>\n",
       "      <td>женат / замужем</td>\n",
       "      <td>0</td>\n",
       "      <td>M</td>\n",
       "      <td>сотрудник</td>\n",
       "      <td>0</td>\n",
       "      <td>267628.550329</td>\n",
       "      <td>дополнительное образование</td>\n",
       "    </tr>\n",
       "    <tr>\n",
       "      <th>4</th>\n",
       "      <td>0</td>\n",
       "      <td>340266.072047</td>\n",
       "      <td>53</td>\n",
       "      <td>среднее</td>\n",
       "      <td>1</td>\n",
       "      <td>гражданский брак</td>\n",
       "      <td>1</td>\n",
       "      <td>F</td>\n",
       "      <td>пенсионер</td>\n",
       "      <td>0</td>\n",
       "      <td>158616.077870</td>\n",
       "      <td>сыграть свадьбу</td>\n",
       "    </tr>\n",
       "    <tr>\n",
       "      <th>5</th>\n",
       "      <td>0</td>\n",
       "      <td>-926.185831</td>\n",
       "      <td>27</td>\n",
       "      <td>высшее</td>\n",
       "      <td>0</td>\n",
       "      <td>гражданский брак</td>\n",
       "      <td>1</td>\n",
       "      <td>M</td>\n",
       "      <td>компаньон</td>\n",
       "      <td>0</td>\n",
       "      <td>255763.565419</td>\n",
       "      <td>покупка жилья</td>\n",
       "    </tr>\n",
       "    <tr>\n",
       "      <th>6</th>\n",
       "      <td>0</td>\n",
       "      <td>-2879.202052</td>\n",
       "      <td>43</td>\n",
       "      <td>высшее</td>\n",
       "      <td>0</td>\n",
       "      <td>женат / замужем</td>\n",
       "      <td>0</td>\n",
       "      <td>F</td>\n",
       "      <td>компаньон</td>\n",
       "      <td>0</td>\n",
       "      <td>240525.971920</td>\n",
       "      <td>операции с жильем</td>\n",
       "    </tr>\n",
       "    <tr>\n",
       "      <th>7</th>\n",
       "      <td>0</td>\n",
       "      <td>-152.779569</td>\n",
       "      <td>50</td>\n",
       "      <td>СРЕДНЕЕ</td>\n",
       "      <td>1</td>\n",
       "      <td>женат / замужем</td>\n",
       "      <td>0</td>\n",
       "      <td>M</td>\n",
       "      <td>сотрудник</td>\n",
       "      <td>0</td>\n",
       "      <td>135823.934197</td>\n",
       "      <td>образование</td>\n",
       "    </tr>\n",
       "    <tr>\n",
       "      <th>8</th>\n",
       "      <td>2</td>\n",
       "      <td>-6929.865299</td>\n",
       "      <td>35</td>\n",
       "      <td>ВЫСШЕЕ</td>\n",
       "      <td>0</td>\n",
       "      <td>гражданский брак</td>\n",
       "      <td>1</td>\n",
       "      <td>F</td>\n",
       "      <td>сотрудник</td>\n",
       "      <td>0</td>\n",
       "      <td>95856.832424</td>\n",
       "      <td>на проведение свадьбы</td>\n",
       "    </tr>\n",
       "    <tr>\n",
       "      <th>9</th>\n",
       "      <td>0</td>\n",
       "      <td>-2188.756445</td>\n",
       "      <td>41</td>\n",
       "      <td>среднее</td>\n",
       "      <td>1</td>\n",
       "      <td>женат / замужем</td>\n",
       "      <td>0</td>\n",
       "      <td>M</td>\n",
       "      <td>сотрудник</td>\n",
       "      <td>0</td>\n",
       "      <td>144425.938277</td>\n",
       "      <td>покупка жилья для семьи</td>\n",
       "    </tr>\n",
       "  </tbody>\n",
       "</table>\n",
       "</div>"
      ],
      "text/plain": [
       "   children  days_employed  dob_years education  education_id  \\\n",
       "0         1   -8437.673028         42    высшее             0   \n",
       "1         1   -4024.803754         36   среднее             1   \n",
       "2         0   -5623.422610         33   Среднее             1   \n",
       "3         3   -4124.747207         32   среднее             1   \n",
       "4         0  340266.072047         53   среднее             1   \n",
       "5         0    -926.185831         27    высшее             0   \n",
       "6         0   -2879.202052         43    высшее             0   \n",
       "7         0    -152.779569         50   СРЕДНЕЕ             1   \n",
       "8         2   -6929.865299         35    ВЫСШЕЕ             0   \n",
       "9         0   -2188.756445         41   среднее             1   \n",
       "\n",
       "      family_status  family_status_id gender income_type  debt   total_income  \\\n",
       "0   женат / замужем                 0      F   сотрудник     0  253875.639453   \n",
       "1   женат / замужем                 0      F   сотрудник     0  112080.014102   \n",
       "2   женат / замужем                 0      M   сотрудник     0  145885.952297   \n",
       "3   женат / замужем                 0      M   сотрудник     0  267628.550329   \n",
       "4  гражданский брак                 1      F   пенсионер     0  158616.077870   \n",
       "5  гражданский брак                 1      M   компаньон     0  255763.565419   \n",
       "6   женат / замужем                 0      F   компаньон     0  240525.971920   \n",
       "7   женат / замужем                 0      M   сотрудник     0  135823.934197   \n",
       "8  гражданский брак                 1      F   сотрудник     0   95856.832424   \n",
       "9   женат / замужем                 0      M   сотрудник     0  144425.938277   \n",
       "\n",
       "                      purpose  \n",
       "0               покупка жилья  \n",
       "1     приобретение автомобиля  \n",
       "2               покупка жилья  \n",
       "3  дополнительное образование  \n",
       "4             сыграть свадьбу  \n",
       "5               покупка жилья  \n",
       "6           операции с жильем  \n",
       "7                 образование  \n",
       "8       на проведение свадьбы  \n",
       "9     покупка жилья для семьи  "
      ]
     },
     "metadata": {},
     "output_type": "display_data"
    }
   ],
   "source": [
    "# получение первых 10 строк таблицы df\n",
    "display(df.head(10))"
   ]
  },
  {
   "cell_type": "markdown",
   "id": "8443b09b",
   "metadata": {},
   "source": [
    "Общая информация о таблице:"
   ]
  },
  {
   "cell_type": "code",
   "execution_count": 4,
   "id": "f8bafeb1",
   "metadata": {},
   "outputs": [
    {
     "name": "stdout",
     "output_type": "stream",
     "text": [
      "<class 'pandas.core.frame.DataFrame'>\n",
      "RangeIndex: 21525 entries, 0 to 21524\n",
      "Data columns (total 12 columns):\n",
      " #   Column            Non-Null Count  Dtype  \n",
      "---  ------            --------------  -----  \n",
      " 0   children          21525 non-null  int64  \n",
      " 1   days_employed     19351 non-null  float64\n",
      " 2   dob_years         21525 non-null  int64  \n",
      " 3   education         21525 non-null  object \n",
      " 4   education_id      21525 non-null  int64  \n",
      " 5   family_status     21525 non-null  object \n",
      " 6   family_status_id  21525 non-null  int64  \n",
      " 7   gender            21525 non-null  object \n",
      " 8   income_type       21525 non-null  object \n",
      " 9   debt              21525 non-null  int64  \n",
      " 10  total_income      19351 non-null  float64\n",
      " 11  purpose           21525 non-null  object \n",
      "dtypes: float64(2), int64(5), object(5)\n",
      "memory usage: 2.0+ MB\n"
     ]
    }
   ],
   "source": [
    "# получение общей информации о данных в таблице df\n",
    "df.info()"
   ]
  },
  {
   "cell_type": "markdown",
   "id": "e1ca1b3a",
   "metadata": {},
   "source": [
    "Итак, в таблице двенадцать столбцов. Тип данных во всех столбцах разный и соответствует содержимому этих столбцов.\n",
    "\n",
    "Согласно документации к данным:\n",
    "\n",
    "* `children` — количество детей в семье;\n",
    "* `days_employed` — общий трудовой стаж в днях;\n",
    "* `dob_years` — возраст клиента в годах;\n",
    "* `education` — уровень образования клиента;\n",
    "* `education_id` — идентификатор уровня образования;\n",
    "* `family_status` — семейное положение;\n",
    "* `family_status_id` — идентификатор семейного положения;\n",
    "* `gender` — пол клиента;\n",
    "* `income_type` — тип занятости;\n",
    "* `debt` — имел ли задолженность по возврату кредитов;\n",
    "* `total_income` — ежемесячный доход;\n",
    "* `purpose` — цель получения кредита.\n",
    "\n",
    "В названиях столбцов не видно никаких нарушений стиля.\n",
    "\n",
    "А вот в столбце с данными об образовании `education` строчные буквы сочетаются с прописными. В некоторых столбцах, например в `days_employed` значения лучше заменить на целочисленные, а также выяснить причину появление отрицательных значений и исправить их.\n",
    "\n",
    "Количество значений в столбцах различается. Значит, в данных двух стобцов (`days_employed` и `total_income`) имеются пропущенные значения."
   ]
  },
  {
   "cell_type": "markdown",
   "id": "68df44d0",
   "metadata": {},
   "source": [
    "## Шаг 2. Предобработка данных"
   ]
  },
  {
   "cell_type": "markdown",
   "id": "590ab011",
   "metadata": {},
   "source": [
    "### Заполнение пропусков"
   ]
  },
  {
   "cell_type": "markdown",
   "id": "2497b684",
   "metadata": {},
   "source": [
    "В двух столбцах (`days_employed` и `total_income`) есть пропущенные значения, необходимо найти их:"
   ]
  },
  {
   "cell_type": "code",
   "execution_count": 5,
   "id": "3c49e792",
   "metadata": {},
   "outputs": [
    {
     "data": {
      "text/plain": [
       "children               0\n",
       "days_employed       2174\n",
       "dob_years              0\n",
       "education              0\n",
       "education_id           0\n",
       "family_status          0\n",
       "family_status_id       0\n",
       "gender                 0\n",
       "income_type            0\n",
       "debt                   0\n",
       "total_income        2174\n",
       "purpose                0\n",
       "dtype: int64"
      ]
     },
     "metadata": {},
     "output_type": "display_data"
    }
   ],
   "source": [
    "# подсчёт пропусков\n",
    "display(df.isna().sum())"
   ]
  },
  {
   "cell_type": "code",
   "execution_count": 6,
   "id": "de833ea2",
   "metadata": {},
   "outputs": [
    {
     "name": "stdout",
     "output_type": "stream",
     "text": [
      "Доля пропусков составляет 10%\n"
     ]
    }
   ],
   "source": [
    "# расчет доли пропусков в процентах от выборки: количество пропусков / общее количество строк\n",
    "miss_part = 2174 / 21525\n",
    "print(f'Доля пропусков составляет {miss_part:.0%}')"
   ]
  },
  {
   "cell_type": "markdown",
   "id": "c16be165",
   "metadata": {},
   "source": [
    "* Общий трудовой стаж в днях и ежемесячный доход — количественные переменные. Пропуски в таких переменных заполняют характерными значениями. Чтобы примерно оценить типичные значения выборки, используется среднее арифметическое или медиана.\n",
    "* Количество пропущеных значений в обоих столбцах одинаково и составляет 10% от выборки. \n",
    "* Пропуски могли появиться по технологическим причинам при перезаписи или переносе данных, либо из-за человеческого фактора. Возможно, по каким-то причинам данные не были предоставлены или были утеряны, хотя первое маловероятно при оформлении кредита.\n",
    "* Среднее значение некорректно характеризует данные, когда некоторые значения сильно выделяются среди большинства, что характерно для общего трудового стажа в днях и ежемесячного дохода. Поэтому медиана даст более объективную информацию при заполнении пропусков значений в этих столбцах, чем среднее значение. \n",
    "\n",
    "Пропуски необходимо заполнить медианным значением по столбцу:"
   ]
  },
  {
   "cell_type": "code",
   "execution_count": 7,
   "id": "41e48215",
   "metadata": {},
   "outputs": [],
   "source": [
    "# подсчет медианы для столбца `days_employed`\n",
    "days_employed_avg = df['days_employed'].median()\n",
    "\n",
    "# замена пропущенных значений в столбце `days_employed` на медианное значение этого столбца\n",
    "df['days_employed'] = df['days_employed'].fillna(value=days_employed_avg) \n",
    "\n",
    "# подсчет медианы для столбца `total_income`\n",
    "total_income_avg = df['total_income'].median()\n",
    "\n",
    "# замена пропущенных значений в столбце `total_income` на медианное значение этого столбца\n",
    "df['total_income'] = df['total_income'].fillna(value=total_income_avg)"
   ]
  },
  {
   "cell_type": "markdown",
   "id": "f4fd551d",
   "metadata": {},
   "source": [
    "Проверка, что в таблице не осталось пропусков. Для этого ещё раз произведен подсчет пропущенных значений."
   ]
  },
  {
   "cell_type": "code",
   "execution_count": 8,
   "id": "321c4574",
   "metadata": {},
   "outputs": [
    {
     "data": {
      "text/plain": [
       "children            0\n",
       "days_employed       0\n",
       "dob_years           0\n",
       "education           0\n",
       "education_id        0\n",
       "family_status       0\n",
       "family_status_id    0\n",
       "gender              0\n",
       "income_type         0\n",
       "debt                0\n",
       "total_income        0\n",
       "purpose             0\n",
       "dtype: int64"
      ]
     },
     "metadata": {},
     "output_type": "display_data"
    }
   ],
   "source": [
    "# подсчёт пропусков\n",
    "display(df.isna().sum())"
   ]
  },
  {
   "cell_type": "markdown",
   "id": "4a7dba46",
   "metadata": {},
   "source": [
    "### Проверка данных на аномалии и исправления"
   ]
  },
  {
   "cell_type": "code",
   "execution_count": 9,
   "id": "2041e849",
   "metadata": {},
   "outputs": [],
   "source": [
    "# функция для просмотра уникальных значений\n",
    "def uni(column):\n",
    "    return display(df[column].unique())"
   ]
  },
  {
   "cell_type": "markdown",
   "id": "73262d0b",
   "metadata": {},
   "source": [
    "Просмотр уникальных значений для столбца `children`, с целью выявления аномальных данных:"
   ]
  },
  {
   "cell_type": "code",
   "execution_count": 10,
   "id": "eb3d55ab",
   "metadata": {},
   "outputs": [
    {
     "data": {
      "text/plain": [
       "array([ 1,  0,  3,  2, -1,  4, 20,  5])"
      ]
     },
     "metadata": {},
     "output_type": "display_data"
    }
   ],
   "source": [
    "# просмотр уникальных значений в столбце `children`\n",
    "uni('children')"
   ]
  },
  {
   "cell_type": "markdown",
   "id": "ef77292f",
   "metadata": {},
   "source": [
    "В столбце `children` присутствуют такие значения как: -1 и 20, они, вероятнее всего, являются некорректными, возможно из-за опечатки при переносе данных.\n",
    "Определение количества повторений этих значений в данном столбце:"
   ]
  },
  {
   "cell_type": "code",
   "execution_count": 11,
   "id": "3f18d4be",
   "metadata": {},
   "outputs": [
    {
     "data": {
      "text/plain": [
       " 0     14149\n",
       " 1      4818\n",
       " 2      2055\n",
       " 3       330\n",
       " 20       76\n",
       "-1        47\n",
       " 4        41\n",
       " 5         9\n",
       "Name: children, dtype: int64"
      ]
     },
     "metadata": {},
     "output_type": "display_data"
    }
   ],
   "source": [
    "# подсчет колличества повторений уникальных значений в столбце `children`\n",
    "display(df['children'].value_counts())"
   ]
  },
  {
   "cell_type": "markdown",
   "id": "c1837835",
   "metadata": {},
   "source": [
    "Можно предположить, что -1 это 1, а 20 это 2, но предположение может оказаться неверным и повлиять на дальнейшее исследовние, проверка доли значений -1 и 20 для возможности дальнейшего удаления этих значений:"
   ]
  },
  {
   "cell_type": "code",
   "execution_count": 53,
   "id": "67635d32",
   "metadata": {},
   "outputs": [
    {
     "name": "stdout",
     "output_type": "stream",
     "text": [
      "Доля значения -1 составляет 0.22%\n",
      "Доля значения 20 составляет 0.35%\n"
     ]
    }
   ],
   "source": [
    "# расчет доли значения -1 в процентах от выборки: количество значений / общее количество строк\n",
    "part_m1 = 47 / len(df['children'])\n",
    "print(f'Доля значения -1 составляет {part_m1:.2%}')\n",
    "\n",
    "# расчет доли значения 20 в процентах от выборки: количество значений / общее количество строк\n",
    "part_20 = 76 / len(df['children'])\n",
    "print(f'Доля значения 20 составляет {part_20:.2%}')"
   ]
  },
  {
   "cell_type": "markdown",
   "id": "a05d0b3d",
   "metadata": {},
   "source": [
    "Доля значений -1 и 20 достаточно мала (менее 5%), значит удаление этих значений не окажет влияния на дальнейшее исследование.\n",
    "\n",
    "Удаление значений -1 и 20 из столбца `children`:"
   ]
  },
  {
   "cell_type": "code",
   "execution_count": 56,
   "id": "2dd32ecd",
   "metadata": {},
   "outputs": [],
   "source": [
    "# фильтрация значений, для избавления от значения -1\n",
    "df = df[df['children'] != -1]\n",
    "\n",
    "# фильтрация значений, для избавления от значения 20\n",
    "df = df[df['children'] != 20]"
   ]
  },
  {
   "cell_type": "markdown",
   "id": "e7a7b467",
   "metadata": {},
   "source": [
    "Проверка, что в столбце не осталось некорректных значений:"
   ]
  },
  {
   "cell_type": "code",
   "execution_count": 57,
   "id": "bd2da31e",
   "metadata": {},
   "outputs": [
    {
     "data": {
      "text/plain": [
       "0    14148\n",
       "1     4818\n",
       "2     2055\n",
       "3      330\n",
       "4       41\n",
       "5        9\n",
       "Name: children, dtype: int64"
      ]
     },
     "metadata": {},
     "output_type": "display_data"
    }
   ],
   "source": [
    "# проверка\n",
    "display(df['children'].value_counts())"
   ]
  },
  {
   "cell_type": "markdown",
   "id": "71dee7a8",
   "metadata": {},
   "source": [
    "В столбце `days_employed` присутствуют отрицательные и аномально большие значения количества дней трудового стажа. Вероятно данные, отчасти, записаны в часах. Причиной такой записи может быть то, что в данных встречается информация из двух систем, одна из которых записывает стаж в часах."
   ]
  },
  {
   "cell_type": "markdown",
   "id": "c4640d4e",
   "metadata": {},
   "source": [
    "Предположим, что в среднем человек работает 44,5 года, исходя из:"
   ]
  },
  {
   "cell_type": "code",
   "execution_count": 58,
   "id": "5fd1f81c",
   "metadata": {},
   "outputs": [
    {
     "name": "stdout",
     "output_type": "stream",
     "text": [
      "44.5\n"
     ]
    }
   ],
   "source": [
    "# расчет среднего возраста выхода на пенсию: исходя из 60 лет для женщин и 65 лет для мужчин\n",
    "work_end_avg = (60 + 65)/2\n",
    "\n",
    "# среднего возраста выхода на пенсию минус 18, возраст начала работы\n",
    "employed_avg = work_end_avg - 18\n",
    "print(employed_avg)"
   ]
  },
  {
   "cell_type": "code",
   "execution_count": 59,
   "id": "64df1a5a",
   "metadata": {},
   "outputs": [
    {
     "name": "stdout",
     "output_type": "stream",
     "text": [
      "16242.5\n"
     ]
    }
   ],
   "source": [
    "# расчет среднего количества рабочих дней\n",
    "days_employed_avg = employed_avg * 365\n",
    "print(days_employed_avg)"
   ]
  },
  {
   "cell_type": "markdown",
   "id": "0d8fa1cf",
   "metadata": {},
   "source": [
    "Таким образом получено среднее количество дней рабочего стажа.\n",
    "Исправление отрицательных и аномально больших значений:"
   ]
  },
  {
   "cell_type": "code",
   "execution_count": 60,
   "id": "d20ee4bc",
   "metadata": {},
   "outputs": [
    {
     "data": {
      "text/plain": [
       "0     8437.0\n",
       "1     4024.0\n",
       "2     5623.0\n",
       "3     4124.0\n",
       "4    14177.0\n",
       "Name: days_employed, dtype: float64"
      ]
     },
     "metadata": {},
     "output_type": "display_data"
    }
   ],
   "source": [
    "# взятие значения по модулю\n",
    "df['days_employed'] = df['days_employed'].apply(abs)\n",
    "\n",
    "# расчет\n",
    "df.loc[df['days_employed'] > days_employed_avg, 'days_employed'] = (df.loc[df['days_employed'] > days_employed_avg, \n",
    "                                                                           'days_employed'] / 24)\n",
    "\n",
    "# проверка\n",
    "display(df['days_employed'].head())"
   ]
  },
  {
   "cell_type": "markdown",
   "id": "6c99a85f",
   "metadata": {},
   "source": [
    "В столбце `days_employed` больше нет отрицательных и аномально больших значений."
   ]
  },
  {
   "cell_type": "markdown",
   "id": "71f7b91a",
   "metadata": {},
   "source": [
    "Просмотр уникальных значений для столбца `dob_years`, с целью выявления аномальных данных:"
   ]
  },
  {
   "cell_type": "code",
   "execution_count": 61,
   "id": "5df42950",
   "metadata": {},
   "outputs": [
    {
     "data": {
      "text/plain": [
       "42    692\n",
       "35    614\n",
       "41    603\n",
       "40    603\n",
       "34    597\n",
       "38    595\n",
       "33    577\n",
       "39    572\n",
       "31    556\n",
       "36    553\n",
       "44    543\n",
       "29    543\n",
       "48    536\n",
       "30    536\n",
       "37    531\n",
       "43    510\n",
       "50    509\n",
       "32    506\n",
       "49    505\n",
       "28    501\n",
       "45    494\n",
       "27    490\n",
       "52    483\n",
       "56    482\n",
       "47    480\n",
       "54    476\n",
       "46    469\n",
       "58    461\n",
       "57    457\n",
       "53    457\n",
       "51    446\n",
       "55    441\n",
       "59    441\n",
       "26    406\n",
       "60    376\n",
       "25    356\n",
       "61    353\n",
       "62    351\n",
       "63    268\n",
       "64    263\n",
       "24    262\n",
       "23    252\n",
       "65    194\n",
       "22    183\n",
       "66    183\n",
       "67    167\n",
       "21    110\n",
       "68     99\n",
       "69     83\n",
       "70     65\n",
       "71     58\n",
       "20     51\n",
       "72     33\n",
       "19     14\n",
       "73      8\n",
       "74      6\n",
       "75      1\n",
       "Name: dob_years, dtype: int64"
      ]
     },
     "metadata": {},
     "output_type": "display_data"
    }
   ],
   "source": [
    "# просмотр уникальных значений в столбце `dob_years`\n",
    "display(df['dob_years'].value_counts())"
   ]
  },
  {
   "cell_type": "markdown",
   "id": "297de680",
   "metadata": {},
   "source": [
    "В столбце `dob_years` присутствует значение 0, оно является некорректными, возможно из-за опечатки при переносе данных.\n",
    "Замена значения на медианное:"
   ]
  },
  {
   "cell_type": "code",
   "execution_count": 62,
   "id": "0d4553f0",
   "metadata": {},
   "outputs": [
    {
     "data": {
      "text/plain": [
       "42.0    692\n",
       "35.0    614\n",
       "41.0    603\n",
       "40.0    603\n",
       "34.0    597\n",
       "38.0    595\n",
       "33.0    577\n",
       "39.0    572\n",
       "31.0    556\n",
       "36.0    553\n",
       "29.0    543\n",
       "44.0    543\n",
       "48.0    536\n",
       "30.0    536\n",
       "37.0    531\n",
       "43.0    510\n",
       "50.0    509\n",
       "32.0    506\n",
       "49.0    505\n",
       "28.0    501\n",
       "45.0    494\n",
       "27.0    490\n",
       "52.0    483\n",
       "56.0    482\n",
       "47.0    480\n",
       "54.0    476\n",
       "46.0    469\n",
       "58.0    461\n",
       "53.0    457\n",
       "57.0    457\n",
       "51.0    446\n",
       "59.0    441\n",
       "55.0    441\n",
       "26.0    406\n",
       "60.0    376\n",
       "25.0    356\n",
       "61.0    353\n",
       "62.0    351\n",
       "63.0    268\n",
       "64.0    263\n",
       "24.0    262\n",
       "23.0    252\n",
       "65.0    194\n",
       "66.0    183\n",
       "22.0    183\n",
       "67.0    167\n",
       "21.0    110\n",
       "68.0     99\n",
       "69.0     83\n",
       "70.0     65\n",
       "71.0     58\n",
       "20.0     51\n",
       "72.0     33\n",
       "19.0     14\n",
       "73.0      8\n",
       "74.0      6\n",
       "75.0      1\n",
       "Name: dob_years, dtype: int64"
      ]
     },
     "metadata": {},
     "output_type": "display_data"
    }
   ],
   "source": [
    "# расчет медианы для столбца `dob_years`\n",
    "dob_years_median = df['dob_years'].median()\n",
    "\n",
    "# замена нулевых значений на медианное\n",
    "df.loc[df['dob_years'] == 0, 'dob_years'] = dob_years_median\n",
    "\n",
    "# проверка\n",
    "display(df['dob_years'].value_counts())"
   ]
  },
  {
   "cell_type": "markdown",
   "id": "f43dd907",
   "metadata": {},
   "source": [
    "Теперь в столбце нет клиентов с нулевым возрастом."
   ]
  },
  {
   "cell_type": "markdown",
   "id": "bb32383a",
   "metadata": {},
   "source": [
    "Просмотр уникальных значений для столбца `education_id`, с целью выявления аномальных данных:"
   ]
  },
  {
   "cell_type": "code",
   "execution_count": 63,
   "id": "28b704a4",
   "metadata": {},
   "outputs": [
    {
     "data": {
      "text/plain": [
       "array([0, 1, 2, 3, 4])"
      ]
     },
     "metadata": {},
     "output_type": "display_data"
    }
   ],
   "source": [
    "# просмотр уникальных названий в столбце `education_id`\n",
    "uni('education_id')"
   ]
  },
  {
   "cell_type": "markdown",
   "id": "ed13c6b8",
   "metadata": {},
   "source": [
    "Аномальных значений в столбце `education_id` - нет."
   ]
  },
  {
   "cell_type": "markdown",
   "id": "e9544e8a",
   "metadata": {},
   "source": [
    "Просмотр уникальных значений для столбца `family_status`, с целью выявления аномальных данных:"
   ]
  },
  {
   "cell_type": "code",
   "execution_count": 64,
   "id": "381c3a8f",
   "metadata": {},
   "outputs": [
    {
     "data": {
      "text/plain": [
       "array(['женат / замужем', 'гражданский брак', 'вдовец / вдова',\n",
       "       'в разводе', 'Не женат / не замужем'], dtype=object)"
      ]
     },
     "metadata": {},
     "output_type": "display_data"
    }
   ],
   "source": [
    "# просмотр уникальных названий в столбце `family_status`\n",
    "uni('family_status')"
   ]
  },
  {
   "cell_type": "markdown",
   "id": "e831feef",
   "metadata": {},
   "source": [
    "Аномальных значений в столбце `family_status` - нет. Не смотря на то, что 'Не женат / не замужем', указано с большой буквы, невных дубликатов нет, поэтому данные этого столбца будут оставлены в таком виде."
   ]
  },
  {
   "cell_type": "markdown",
   "id": "b7189b3c",
   "metadata": {},
   "source": [
    "Просмотр уникальных значений для столбца `family_status_id`, с целью выявления аномальных данных:"
   ]
  },
  {
   "cell_type": "code",
   "execution_count": 65,
   "id": "531120b1",
   "metadata": {},
   "outputs": [
    {
     "data": {
      "text/plain": [
       "array([0, 1, 2, 3, 4])"
      ]
     },
     "metadata": {},
     "output_type": "display_data"
    }
   ],
   "source": [
    "# просмотр уникальных названий в столбце `family_status_id`\n",
    "uni('family_status_id')"
   ]
  },
  {
   "cell_type": "markdown",
   "id": "425345fc",
   "metadata": {},
   "source": [
    "Аномальных значений в столбце `family_status_id` - нет."
   ]
  },
  {
   "cell_type": "markdown",
   "id": "ac08f633",
   "metadata": {},
   "source": [
    "Просмотр уникальных значений для столбца `gender`, с целью выявления аномальных данных:"
   ]
  },
  {
   "cell_type": "code",
   "execution_count": 66,
   "id": "c0dd0799",
   "metadata": {},
   "outputs": [
    {
     "data": {
      "text/plain": [
       "array(['F', 'M'], dtype=object)"
      ]
     },
     "metadata": {},
     "output_type": "display_data"
    }
   ],
   "source": [
    "# просмотр уникальных названий в столбце `gender`\n",
    "uni('gender')"
   ]
  },
  {
   "cell_type": "markdown",
   "id": "9722fa03",
   "metadata": {},
   "source": [
    "В столбце `gender` присутствует значения XNA, вероятнее всего данные отсутствовали. Определение количества повторений этого значения в данном столбце:"
   ]
  },
  {
   "cell_type": "code",
   "execution_count": 67,
   "id": "e0aeca2b",
   "metadata": {},
   "outputs": [
    {
     "data": {
      "text/plain": [
       "F    14154\n",
       "M     7247\n",
       "Name: gender, dtype: int64"
      ]
     },
     "metadata": {},
     "output_type": "display_data"
    }
   ],
   "source": [
    "# подсчет повторений уникальных значений\n",
    "display(df['gender'].value_counts())"
   ]
  },
  {
   "cell_type": "markdown",
   "id": "4df4bca6",
   "metadata": {},
   "source": [
    "Значение XNA повторяется в столбце всего лишь один раз, это очень маленькая доля от всей выборки, значит строку с этим значением можно просто убрать:"
   ]
  },
  {
   "cell_type": "code",
   "execution_count": 69,
   "id": "977a7952",
   "metadata": {},
   "outputs": [
    {
     "data": {
      "text/plain": [
       "F    14154\n",
       "M     7247\n",
       "Name: gender, dtype: int64"
      ]
     },
     "metadata": {},
     "output_type": "display_data"
    }
   ],
   "source": [
    "# фильтрация значений, для избавления от значения XNA\n",
    "df = df[df['gender'] != 'XNA']\n",
    "\n",
    "# проверка\n",
    "display(df['gender'].value_counts())"
   ]
  },
  {
   "cell_type": "markdown",
   "id": "fe1c38ab",
   "metadata": {},
   "source": [
    "Теперь в столбце `gender` у всех есть пол, а строки с неопределенным полом больше нет."
   ]
  },
  {
   "cell_type": "markdown",
   "id": "ef91204f",
   "metadata": {},
   "source": [
    "Просмотр уникальных значений для столбцов `income_type`, `debt` и `purpose`, с целью выявления аномальных данных:"
   ]
  },
  {
   "cell_type": "code",
   "execution_count": 70,
   "id": "620c4b6e",
   "metadata": {},
   "outputs": [
    {
     "data": {
      "text/plain": [
       "array(['сотрудник', 'пенсионер', 'компаньон', 'госслужащий',\n",
       "       'безработный', 'предприниматель', 'студент', 'в декрете'],\n",
       "      dtype=object)"
      ]
     },
     "metadata": {},
     "output_type": "display_data"
    }
   ],
   "source": [
    "# просмотр уникальных названий в столбце `income_type`\n",
    "uni('income_type')"
   ]
  },
  {
   "cell_type": "code",
   "execution_count": 71,
   "id": "51752199",
   "metadata": {},
   "outputs": [
    {
     "data": {
      "text/plain": [
       "array([0, 1])"
      ]
     },
     "metadata": {},
     "output_type": "display_data"
    }
   ],
   "source": [
    "# просмотр уникальных названий в столбце `debt`\n",
    "uni('debt') "
   ]
  },
  {
   "cell_type": "code",
   "execution_count": 72,
   "id": "f5bfc00a",
   "metadata": {},
   "outputs": [
    {
     "data": {
      "text/plain": [
       "array(['покупка жилья', 'приобретение автомобиля',\n",
       "       'дополнительное образование', 'сыграть свадьбу',\n",
       "       'операции с жильем', 'образование', 'на проведение свадьбы',\n",
       "       'покупка жилья для семьи', 'покупка недвижимости',\n",
       "       'покупка коммерческой недвижимости', 'покупка жилой недвижимости',\n",
       "       'строительство собственной недвижимости', 'недвижимость',\n",
       "       'строительство недвижимости', 'на покупку подержанного автомобиля',\n",
       "       'на покупку своего автомобиля',\n",
       "       'операции с коммерческой недвижимостью',\n",
       "       'строительство жилой недвижимости', 'жилье',\n",
       "       'операции со своей недвижимостью', 'автомобили',\n",
       "       'заняться образованием', 'сделка с подержанным автомобилем',\n",
       "       'получение образования', 'автомобиль', 'свадьба',\n",
       "       'получение дополнительного образования', 'покупка своего жилья',\n",
       "       'операции с недвижимостью', 'получение высшего образования',\n",
       "       'свой автомобиль', 'сделка с автомобилем',\n",
       "       'профильное образование', 'высшее образование',\n",
       "       'покупка жилья для сдачи', 'на покупку автомобиля', 'ремонт жилью',\n",
       "       'заняться высшим образованием'], dtype=object)"
      ]
     },
     "metadata": {},
     "output_type": "display_data"
    }
   ],
   "source": [
    "# просмотр уникальных названий в столбце `purpose`\n",
    "uni('purpose')"
   ]
  },
  {
   "cell_type": "markdown",
   "id": "a5a281ab",
   "metadata": {},
   "source": [
    "Аномальных значений в столбцах `income_type`, `debt` и `purpose` - нет."
   ]
  },
  {
   "cell_type": "markdown",
   "id": "e65898da",
   "metadata": {},
   "source": [
    "### Изменение типов данных"
   ]
  },
  {
   "cell_type": "markdown",
   "id": "849d6272",
   "metadata": {},
   "source": [
    "При замене нулевых значений на медианное в столбце `dob_years` тип данных изменился на float, так как медианное значение было типа float.\n",
    "Изменение типа данных в столбце на int:"
   ]
  },
  {
   "cell_type": "code",
   "execution_count": 73,
   "id": "e636ed04",
   "metadata": {},
   "outputs": [
    {
     "data": {
      "text/plain": [
       "42    692\n",
       "35    614\n",
       "41    603\n",
       "40    603\n",
       "34    597\n",
       "Name: dob_years, dtype: int64"
      ]
     },
     "metadata": {},
     "output_type": "display_data"
    }
   ],
   "source": [
    "# изменение типа данных с float на int\n",
    "df['dob_years'] = df['dob_years'].astype(int)\n",
    "\n",
    "# проверка \n",
    "display(df['dob_years'].value_counts().head())"
   ]
  },
  {
   "cell_type": "markdown",
   "id": "06c970c9",
   "metadata": {},
   "source": [
    "В столбце `total_income` значения представленны в виде вещественного типа данных.\n",
    "Произведена замена на целочисленный:"
   ]
  },
  {
   "cell_type": "code",
   "execution_count": 74,
   "id": "ba33d01c",
   "metadata": {},
   "outputs": [
    {
     "data": {
      "text/plain": [
       "0    253875\n",
       "1    112080\n",
       "2    145885\n",
       "3    267628\n",
       "4    158616\n",
       "Name: total_income, dtype: int64"
      ]
     },
     "metadata": {},
     "output_type": "display_data"
    }
   ],
   "source": [
    "# изменение типа данных с float на int\n",
    "df['total_income'] = df['total_income'].astype(int)\n",
    "\n",
    "# проверка \n",
    "display(df['total_income'].head())"
   ]
  },
  {
   "cell_type": "markdown",
   "id": "5af5cccd",
   "metadata": {},
   "source": [
    "Аналогично и для столбца `days_employed` , для удобства восприятия."
   ]
  },
  {
   "cell_type": "code",
   "execution_count": 75,
   "id": "9b4dff5c",
   "metadata": {},
   "outputs": [
    {
     "data": {
      "text/plain": [
       "0     8437\n",
       "1     4024\n",
       "2     5623\n",
       "3     4124\n",
       "4    14177\n",
       "Name: days_employed, dtype: int64"
      ]
     },
     "metadata": {},
     "output_type": "display_data"
    }
   ],
   "source": [
    "# изменение типа данных с float на int\n",
    "df['days_employed'] = df['days_employed'].astype(int)\n",
    "\n",
    "# проверка \n",
    "display(df['days_employed'].head())"
   ]
  },
  {
   "cell_type": "markdown",
   "id": "896eacd1",
   "metadata": {},
   "source": [
    "### Удаление дубликатов"
   ]
  },
  {
   "cell_type": "markdown",
   "id": "3592795a",
   "metadata": {},
   "source": [
    "Поиск неявных дубликатов:"
   ]
  },
  {
   "cell_type": "code",
   "execution_count": 76,
   "id": "f54256b2",
   "metadata": {},
   "outputs": [
    {
     "data": {
      "text/plain": [
       "array(['высшее', 'среднее', 'неоконченное высшее', 'начальное',\n",
       "       'ученая степень'], dtype=object)"
      ]
     },
     "metadata": {},
     "output_type": "display_data"
    }
   ],
   "source": [
    "# просмотр уникальных значений в столбце `education`\n",
    "uni('education')"
   ]
  },
  {
   "cell_type": "markdown",
   "id": "0680c5eb",
   "metadata": {},
   "source": [
    "В столбце education в названиях строчные буквы сочетаются с прописными, из-за этого происходит некорректный подсчет уникальных значений. Данные дубликаты могли возникнуть вследствие переноса данных или при формировании данных из-за человеческого фактора. Приведение букв к одному регистру:"
   ]
  },
  {
   "cell_type": "code",
   "execution_count": 77,
   "id": "a1b30cce",
   "metadata": {},
   "outputs": [
    {
     "data": {
      "text/plain": [
       "array(['высшее', 'среднее', 'неоконченное высшее', 'начальное',\n",
       "       'ученая степень'], dtype=object)"
      ]
     },
     "metadata": {},
     "output_type": "display_data"
    }
   ],
   "source": [
    "# приведение к общему, нижнему, регистру\n",
    "df['education'] = df['education'].str.lower()\n",
    "\n",
    "# проверка, что в столбце не осталось некорректных значений\n",
    "uni('education')"
   ]
  },
  {
   "cell_type": "markdown",
   "id": "c26a4ba6",
   "metadata": {},
   "source": [
    "Так как проблема состояла только в том, что использовался разный регистр, то наиболее оптимальный метод для исправления дубликатов в `education` это - приведение к общему регистру с помощью str.lower()."
   ]
  },
  {
   "cell_type": "markdown",
   "id": "9696a765",
   "metadata": {},
   "source": [
    "Явные дубликаты:"
   ]
  },
  {
   "cell_type": "code",
   "execution_count": 78,
   "id": "d4b2294f",
   "metadata": {},
   "outputs": [
    {
     "name": "stdout",
     "output_type": "stream",
     "text": [
      "72\n"
     ]
    }
   ],
   "source": [
    "# подсчет количества явных дупликатов\n",
    "print(df.duplicated().sum())"
   ]
  },
  {
   "cell_type": "code",
   "execution_count": 80,
   "id": "c3b56aaf",
   "metadata": {},
   "outputs": [
    {
     "data": {
      "text/html": [
       "<div>\n",
       "<style scoped>\n",
       "    .dataframe tbody tr th:only-of-type {\n",
       "        vertical-align: middle;\n",
       "    }\n",
       "\n",
       "    .dataframe tbody tr th {\n",
       "        vertical-align: top;\n",
       "    }\n",
       "\n",
       "    .dataframe thead th {\n",
       "        text-align: right;\n",
       "    }\n",
       "</style>\n",
       "<table border=\"1\" class=\"dataframe\">\n",
       "  <thead>\n",
       "    <tr style=\"text-align: right;\">\n",
       "      <th></th>\n",
       "      <th>children</th>\n",
       "      <th>days_employed</th>\n",
       "      <th>dob_years</th>\n",
       "      <th>education</th>\n",
       "      <th>education_id</th>\n",
       "      <th>family_status</th>\n",
       "      <th>family_status_id</th>\n",
       "      <th>gender</th>\n",
       "      <th>income_type</th>\n",
       "      <th>debt</th>\n",
       "      <th>total_income</th>\n",
       "      <th>purpose</th>\n",
       "    </tr>\n",
       "  </thead>\n",
       "  <tbody>\n",
       "    <tr>\n",
       "      <th>0</th>\n",
       "      <td>1</td>\n",
       "      <td>8437</td>\n",
       "      <td>42</td>\n",
       "      <td>высшее</td>\n",
       "      <td>0</td>\n",
       "      <td>женат / замужем</td>\n",
       "      <td>0</td>\n",
       "      <td>F</td>\n",
       "      <td>сотрудник</td>\n",
       "      <td>0</td>\n",
       "      <td>253875</td>\n",
       "      <td>покупка жилья</td>\n",
       "    </tr>\n",
       "    <tr>\n",
       "      <th>1</th>\n",
       "      <td>1</td>\n",
       "      <td>4024</td>\n",
       "      <td>36</td>\n",
       "      <td>среднее</td>\n",
       "      <td>1</td>\n",
       "      <td>женат / замужем</td>\n",
       "      <td>0</td>\n",
       "      <td>F</td>\n",
       "      <td>сотрудник</td>\n",
       "      <td>0</td>\n",
       "      <td>112080</td>\n",
       "      <td>приобретение автомобиля</td>\n",
       "    </tr>\n",
       "    <tr>\n",
       "      <th>2</th>\n",
       "      <td>0</td>\n",
       "      <td>5623</td>\n",
       "      <td>33</td>\n",
       "      <td>среднее</td>\n",
       "      <td>1</td>\n",
       "      <td>женат / замужем</td>\n",
       "      <td>0</td>\n",
       "      <td>M</td>\n",
       "      <td>сотрудник</td>\n",
       "      <td>0</td>\n",
       "      <td>145885</td>\n",
       "      <td>покупка жилья</td>\n",
       "    </tr>\n",
       "    <tr>\n",
       "      <th>3</th>\n",
       "      <td>3</td>\n",
       "      <td>4124</td>\n",
       "      <td>32</td>\n",
       "      <td>среднее</td>\n",
       "      <td>1</td>\n",
       "      <td>женат / замужем</td>\n",
       "      <td>0</td>\n",
       "      <td>M</td>\n",
       "      <td>сотрудник</td>\n",
       "      <td>0</td>\n",
       "      <td>267628</td>\n",
       "      <td>дополнительное образование</td>\n",
       "    </tr>\n",
       "    <tr>\n",
       "      <th>4</th>\n",
       "      <td>0</td>\n",
       "      <td>14177</td>\n",
       "      <td>53</td>\n",
       "      <td>среднее</td>\n",
       "      <td>1</td>\n",
       "      <td>гражданский брак</td>\n",
       "      <td>1</td>\n",
       "      <td>F</td>\n",
       "      <td>пенсионер</td>\n",
       "      <td>0</td>\n",
       "      <td>158616</td>\n",
       "      <td>сыграть свадьбу</td>\n",
       "    </tr>\n",
       "    <tr>\n",
       "      <th>...</th>\n",
       "      <td>...</td>\n",
       "      <td>...</td>\n",
       "      <td>...</td>\n",
       "      <td>...</td>\n",
       "      <td>...</td>\n",
       "      <td>...</td>\n",
       "      <td>...</td>\n",
       "      <td>...</td>\n",
       "      <td>...</td>\n",
       "      <td>...</td>\n",
       "      <td>...</td>\n",
       "      <td>...</td>\n",
       "    </tr>\n",
       "    <tr>\n",
       "      <th>21324</th>\n",
       "      <td>1</td>\n",
       "      <td>4529</td>\n",
       "      <td>43</td>\n",
       "      <td>среднее</td>\n",
       "      <td>1</td>\n",
       "      <td>гражданский брак</td>\n",
       "      <td>1</td>\n",
       "      <td>F</td>\n",
       "      <td>компаньон</td>\n",
       "      <td>0</td>\n",
       "      <td>224791</td>\n",
       "      <td>операции с жильем</td>\n",
       "    </tr>\n",
       "    <tr>\n",
       "      <th>21325</th>\n",
       "      <td>0</td>\n",
       "      <td>14330</td>\n",
       "      <td>67</td>\n",
       "      <td>среднее</td>\n",
       "      <td>1</td>\n",
       "      <td>женат / замужем</td>\n",
       "      <td>0</td>\n",
       "      <td>F</td>\n",
       "      <td>пенсионер</td>\n",
       "      <td>0</td>\n",
       "      <td>155999</td>\n",
       "      <td>сделка с автомобилем</td>\n",
       "    </tr>\n",
       "    <tr>\n",
       "      <th>21326</th>\n",
       "      <td>1</td>\n",
       "      <td>2113</td>\n",
       "      <td>38</td>\n",
       "      <td>среднее</td>\n",
       "      <td>1</td>\n",
       "      <td>гражданский брак</td>\n",
       "      <td>1</td>\n",
       "      <td>M</td>\n",
       "      <td>сотрудник</td>\n",
       "      <td>1</td>\n",
       "      <td>89672</td>\n",
       "      <td>недвижимость</td>\n",
       "    </tr>\n",
       "    <tr>\n",
       "      <th>21327</th>\n",
       "      <td>3</td>\n",
       "      <td>3112</td>\n",
       "      <td>38</td>\n",
       "      <td>среднее</td>\n",
       "      <td>1</td>\n",
       "      <td>женат / замужем</td>\n",
       "      <td>0</td>\n",
       "      <td>M</td>\n",
       "      <td>сотрудник</td>\n",
       "      <td>1</td>\n",
       "      <td>244093</td>\n",
       "      <td>на покупку своего автомобиля</td>\n",
       "    </tr>\n",
       "    <tr>\n",
       "      <th>21328</th>\n",
       "      <td>2</td>\n",
       "      <td>1984</td>\n",
       "      <td>40</td>\n",
       "      <td>среднее</td>\n",
       "      <td>1</td>\n",
       "      <td>женат / замужем</td>\n",
       "      <td>0</td>\n",
       "      <td>F</td>\n",
       "      <td>сотрудник</td>\n",
       "      <td>0</td>\n",
       "      <td>82047</td>\n",
       "      <td>на покупку автомобиля</td>\n",
       "    </tr>\n",
       "  </tbody>\n",
       "</table>\n",
       "<p>21329 rows × 12 columns</p>\n",
       "</div>"
      ],
      "text/plain": [
       "       children  days_employed  dob_years education  education_id  \\\n",
       "0             1           8437         42    высшее             0   \n",
       "1             1           4024         36   среднее             1   \n",
       "2             0           5623         33   среднее             1   \n",
       "3             3           4124         32   среднее             1   \n",
       "4             0          14177         53   среднее             1   \n",
       "...         ...            ...        ...       ...           ...   \n",
       "21324         1           4529         43   среднее             1   \n",
       "21325         0          14330         67   среднее             1   \n",
       "21326         1           2113         38   среднее             1   \n",
       "21327         3           3112         38   среднее             1   \n",
       "21328         2           1984         40   среднее             1   \n",
       "\n",
       "          family_status  family_status_id gender income_type  debt  \\\n",
       "0       женат / замужем                 0      F   сотрудник     0   \n",
       "1       женат / замужем                 0      F   сотрудник     0   \n",
       "2       женат / замужем                 0      M   сотрудник     0   \n",
       "3       женат / замужем                 0      M   сотрудник     0   \n",
       "4      гражданский брак                 1      F   пенсионер     0   \n",
       "...                 ...               ...    ...         ...   ...   \n",
       "21324  гражданский брак                 1      F   компаньон     0   \n",
       "21325   женат / замужем                 0      F   пенсионер     0   \n",
       "21326  гражданский брак                 1      M   сотрудник     1   \n",
       "21327   женат / замужем                 0      M   сотрудник     1   \n",
       "21328   женат / замужем                 0      F   сотрудник     0   \n",
       "\n",
       "       total_income                       purpose  \n",
       "0            253875                 покупка жилья  \n",
       "1            112080       приобретение автомобиля  \n",
       "2            145885                 покупка жилья  \n",
       "3            267628    дополнительное образование  \n",
       "4            158616               сыграть свадьбу  \n",
       "...             ...                           ...  \n",
       "21324        224791             операции с жильем  \n",
       "21325        155999          сделка с автомобилем  \n",
       "21326         89672                  недвижимость  \n",
       "21327        244093  на покупку своего автомобиля  \n",
       "21328         82047         на покупку автомобиля  \n",
       "\n",
       "[21329 rows x 12 columns]"
      ]
     },
     "metadata": {},
     "output_type": "display_data"
    }
   ],
   "source": [
    "# удаление явных дубликатов без пропуска в индексах\n",
    "display(df.drop_duplicates().reset_index(drop=True))"
   ]
  },
  {
   "cell_type": "markdown",
   "id": "236d1016",
   "metadata": {},
   "source": [
    "Явных дубликатов больше нет."
   ]
  },
  {
   "cell_type": "markdown",
   "id": "a06aa3e7",
   "metadata": {},
   "source": [
    "### Формирование дополнительных датафреймов словарей, декомпозиция исходного датафрейма"
   ]
  },
  {
   "cell_type": "markdown",
   "id": "16b09b12",
   "metadata": {},
   "source": [
    "Создание двух новых датафреймов:"
   ]
  },
  {
   "cell_type": "code",
   "execution_count": 81,
   "id": "edaf7b2e",
   "metadata": {},
   "outputs": [
    {
     "data": {
      "text/html": [
       "<div>\n",
       "<style scoped>\n",
       "    .dataframe tbody tr th:only-of-type {\n",
       "        vertical-align: middle;\n",
       "    }\n",
       "\n",
       "    .dataframe tbody tr th {\n",
       "        vertical-align: top;\n",
       "    }\n",
       "\n",
       "    .dataframe thead th {\n",
       "        text-align: right;\n",
       "    }\n",
       "</style>\n",
       "<table border=\"1\" class=\"dataframe\">\n",
       "  <thead>\n",
       "    <tr style=\"text-align: right;\">\n",
       "      <th></th>\n",
       "      <th>education_id</th>\n",
       "      <th>education</th>\n",
       "    </tr>\n",
       "  </thead>\n",
       "  <tbody>\n",
       "    <tr>\n",
       "      <th>0</th>\n",
       "      <td>0</td>\n",
       "      <td>высшее</td>\n",
       "    </tr>\n",
       "    <tr>\n",
       "      <th>1</th>\n",
       "      <td>1</td>\n",
       "      <td>среднее</td>\n",
       "    </tr>\n",
       "    <tr>\n",
       "      <th>2</th>\n",
       "      <td>1</td>\n",
       "      <td>среднее</td>\n",
       "    </tr>\n",
       "    <tr>\n",
       "      <th>3</th>\n",
       "      <td>1</td>\n",
       "      <td>среднее</td>\n",
       "    </tr>\n",
       "    <tr>\n",
       "      <th>4</th>\n",
       "      <td>1</td>\n",
       "      <td>среднее</td>\n",
       "    </tr>\n",
       "    <tr>\n",
       "      <th>...</th>\n",
       "      <td>...</td>\n",
       "      <td>...</td>\n",
       "    </tr>\n",
       "    <tr>\n",
       "      <th>21520</th>\n",
       "      <td>1</td>\n",
       "      <td>среднее</td>\n",
       "    </tr>\n",
       "    <tr>\n",
       "      <th>21521</th>\n",
       "      <td>1</td>\n",
       "      <td>среднее</td>\n",
       "    </tr>\n",
       "    <tr>\n",
       "      <th>21522</th>\n",
       "      <td>1</td>\n",
       "      <td>среднее</td>\n",
       "    </tr>\n",
       "    <tr>\n",
       "      <th>21523</th>\n",
       "      <td>1</td>\n",
       "      <td>среднее</td>\n",
       "    </tr>\n",
       "    <tr>\n",
       "      <th>21524</th>\n",
       "      <td>1</td>\n",
       "      <td>среднее</td>\n",
       "    </tr>\n",
       "  </tbody>\n",
       "</table>\n",
       "<p>21401 rows × 2 columns</p>\n",
       "</div>"
      ],
      "text/plain": [
       "       education_id education\n",
       "0                 0    высшее\n",
       "1                 1   среднее\n",
       "2                 1   среднее\n",
       "3                 1   среднее\n",
       "4                 1   среднее\n",
       "...             ...       ...\n",
       "21520             1   среднее\n",
       "21521             1   среднее\n",
       "21522             1   среднее\n",
       "21523             1   среднее\n",
       "21524             1   среднее\n",
       "\n",
       "[21401 rows x 2 columns]"
      ]
     },
     "metadata": {},
     "output_type": "display_data"
    }
   ],
   "source": [
    "# подготовка словаря\n",
    "education_dict = df[['education_id','education']] \n",
    "display(education_dict)"
   ]
  },
  {
   "cell_type": "code",
   "execution_count": 82,
   "id": "98f1abd0",
   "metadata": {},
   "outputs": [
    {
     "data": {
      "text/html": [
       "<div>\n",
       "<style scoped>\n",
       "    .dataframe tbody tr th:only-of-type {\n",
       "        vertical-align: middle;\n",
       "    }\n",
       "\n",
       "    .dataframe tbody tr th {\n",
       "        vertical-align: top;\n",
       "    }\n",
       "\n",
       "    .dataframe thead th {\n",
       "        text-align: right;\n",
       "    }\n",
       "</style>\n",
       "<table border=\"1\" class=\"dataframe\">\n",
       "  <thead>\n",
       "    <tr style=\"text-align: right;\">\n",
       "      <th>debt</th>\n",
       "      <th>0</th>\n",
       "      <th>1</th>\n",
       "    </tr>\n",
       "    <tr>\n",
       "      <th>education_id</th>\n",
       "      <th></th>\n",
       "      <th></th>\n",
       "    </tr>\n",
       "  </thead>\n",
       "  <tbody>\n",
       "    <tr>\n",
       "      <th>0</th>\n",
       "      <td>4959.0</td>\n",
       "      <td>278.0</td>\n",
       "    </tr>\n",
       "    <tr>\n",
       "      <th>1</th>\n",
       "      <td>13781.0</td>\n",
       "      <td>1355.0</td>\n",
       "    </tr>\n",
       "    <tr>\n",
       "      <th>2</th>\n",
       "      <td>672.0</td>\n",
       "      <td>68.0</td>\n",
       "    </tr>\n",
       "    <tr>\n",
       "      <th>3</th>\n",
       "      <td>251.0</td>\n",
       "      <td>31.0</td>\n",
       "    </tr>\n",
       "    <tr>\n",
       "      <th>4</th>\n",
       "      <td>6.0</td>\n",
       "      <td>0.0</td>\n",
       "    </tr>\n",
       "  </tbody>\n",
       "</table>\n",
       "</div>"
      ],
      "text/plain": [
       "debt                0       1\n",
       "education_id                 \n",
       "0              4959.0   278.0\n",
       "1             13781.0  1355.0\n",
       "2               672.0    68.0\n",
       "3               251.0    31.0\n",
       "4                 6.0     0.0"
      ]
     },
     "metadata": {},
     "output_type": "display_data"
    }
   ],
   "source": [
    "# группировка исходного датафрейма\n",
    "debt_pivot_edu = df.pivot_table(index = 'education_id', columns = 'debt', values = 'education', aggfunc = 'count').fillna(0)\n",
    "display(debt_pivot_edu)"
   ]
  },
  {
   "cell_type": "code",
   "execution_count": 83,
   "id": "53b3eda2",
   "metadata": {},
   "outputs": [
    {
     "data": {
      "text/html": [
       "<div>\n",
       "<style scoped>\n",
       "    .dataframe tbody tr th:only-of-type {\n",
       "        vertical-align: middle;\n",
       "    }\n",
       "\n",
       "    .dataframe tbody tr th {\n",
       "        vertical-align: top;\n",
       "    }\n",
       "\n",
       "    .dataframe thead th {\n",
       "        text-align: right;\n",
       "    }\n",
       "</style>\n",
       "<table border=\"1\" class=\"dataframe\">\n",
       "  <thead>\n",
       "    <tr style=\"text-align: right;\">\n",
       "      <th></th>\n",
       "      <th>education_id</th>\n",
       "      <th>education</th>\n",
       "      <th>0</th>\n",
       "      <th>1</th>\n",
       "    </tr>\n",
       "  </thead>\n",
       "  <tbody>\n",
       "    <tr>\n",
       "      <th>0</th>\n",
       "      <td>0</td>\n",
       "      <td>высшее</td>\n",
       "      <td>4959.0</td>\n",
       "      <td>278.0</td>\n",
       "    </tr>\n",
       "    <tr>\n",
       "      <th>1</th>\n",
       "      <td>0</td>\n",
       "      <td>высшее</td>\n",
       "      <td>4959.0</td>\n",
       "      <td>278.0</td>\n",
       "    </tr>\n",
       "    <tr>\n",
       "      <th>2</th>\n",
       "      <td>0</td>\n",
       "      <td>высшее</td>\n",
       "      <td>4959.0</td>\n",
       "      <td>278.0</td>\n",
       "    </tr>\n",
       "    <tr>\n",
       "      <th>3</th>\n",
       "      <td>0</td>\n",
       "      <td>высшее</td>\n",
       "      <td>4959.0</td>\n",
       "      <td>278.0</td>\n",
       "    </tr>\n",
       "    <tr>\n",
       "      <th>4</th>\n",
       "      <td>0</td>\n",
       "      <td>высшее</td>\n",
       "      <td>4959.0</td>\n",
       "      <td>278.0</td>\n",
       "    </tr>\n",
       "    <tr>\n",
       "      <th>...</th>\n",
       "      <td>...</td>\n",
       "      <td>...</td>\n",
       "      <td>...</td>\n",
       "      <td>...</td>\n",
       "    </tr>\n",
       "    <tr>\n",
       "      <th>21396</th>\n",
       "      <td>4</td>\n",
       "      <td>ученая степень</td>\n",
       "      <td>6.0</td>\n",
       "      <td>0.0</td>\n",
       "    </tr>\n",
       "    <tr>\n",
       "      <th>21397</th>\n",
       "      <td>4</td>\n",
       "      <td>ученая степень</td>\n",
       "      <td>6.0</td>\n",
       "      <td>0.0</td>\n",
       "    </tr>\n",
       "    <tr>\n",
       "      <th>21398</th>\n",
       "      <td>4</td>\n",
       "      <td>ученая степень</td>\n",
       "      <td>6.0</td>\n",
       "      <td>0.0</td>\n",
       "    </tr>\n",
       "    <tr>\n",
       "      <th>21399</th>\n",
       "      <td>4</td>\n",
       "      <td>ученая степень</td>\n",
       "      <td>6.0</td>\n",
       "      <td>0.0</td>\n",
       "    </tr>\n",
       "    <tr>\n",
       "      <th>21400</th>\n",
       "      <td>4</td>\n",
       "      <td>ученая степень</td>\n",
       "      <td>6.0</td>\n",
       "      <td>0.0</td>\n",
       "    </tr>\n",
       "  </tbody>\n",
       "</table>\n",
       "<p>21401 rows × 4 columns</p>\n",
       "</div>"
      ],
      "text/plain": [
       "       education_id       education       0      1\n",
       "0                 0          высшее  4959.0  278.0\n",
       "1                 0          высшее  4959.0  278.0\n",
       "2                 0          высшее  4959.0  278.0\n",
       "3                 0          высшее  4959.0  278.0\n",
       "4                 0          высшее  4959.0  278.0\n",
       "...             ...             ...     ...    ...\n",
       "21396             4  ученая степень     6.0    0.0\n",
       "21397             4  ученая степень     6.0    0.0\n",
       "21398             4  ученая степень     6.0    0.0\n",
       "21399             4  ученая степень     6.0    0.0\n",
       "21400             4  ученая степень     6.0    0.0\n",
       "\n",
       "[21401 rows x 4 columns]"
      ]
     },
     "metadata": {},
     "output_type": "display_data"
    }
   ],
   "source": [
    "# соединение словаря и группировки\n",
    "education_m = education_dict.merge(debt_pivot_edu, on = 'education_id')\n",
    "display(education_m)"
   ]
  },
  {
   "cell_type": "code",
   "execution_count": 84,
   "id": "ef13b3be",
   "metadata": {},
   "outputs": [
    {
     "data": {
      "text/html": [
       "<div>\n",
       "<style scoped>\n",
       "    .dataframe tbody tr th:only-of-type {\n",
       "        vertical-align: middle;\n",
       "    }\n",
       "\n",
       "    .dataframe tbody tr th {\n",
       "        vertical-align: top;\n",
       "    }\n",
       "\n",
       "    .dataframe thead th {\n",
       "        text-align: right;\n",
       "    }\n",
       "</style>\n",
       "<table border=\"1\" class=\"dataframe\">\n",
       "  <thead>\n",
       "    <tr style=\"text-align: right;\">\n",
       "      <th></th>\n",
       "      <th>family_status_id</th>\n",
       "      <th>family_status</th>\n",
       "    </tr>\n",
       "  </thead>\n",
       "  <tbody>\n",
       "    <tr>\n",
       "      <th>0</th>\n",
       "      <td>0</td>\n",
       "      <td>женат / замужем</td>\n",
       "    </tr>\n",
       "    <tr>\n",
       "      <th>1</th>\n",
       "      <td>0</td>\n",
       "      <td>женат / замужем</td>\n",
       "    </tr>\n",
       "    <tr>\n",
       "      <th>2</th>\n",
       "      <td>0</td>\n",
       "      <td>женат / замужем</td>\n",
       "    </tr>\n",
       "    <tr>\n",
       "      <th>3</th>\n",
       "      <td>0</td>\n",
       "      <td>женат / замужем</td>\n",
       "    </tr>\n",
       "    <tr>\n",
       "      <th>4</th>\n",
       "      <td>1</td>\n",
       "      <td>гражданский брак</td>\n",
       "    </tr>\n",
       "    <tr>\n",
       "      <th>...</th>\n",
       "      <td>...</td>\n",
       "      <td>...</td>\n",
       "    </tr>\n",
       "    <tr>\n",
       "      <th>21520</th>\n",
       "      <td>1</td>\n",
       "      <td>гражданский брак</td>\n",
       "    </tr>\n",
       "    <tr>\n",
       "      <th>21521</th>\n",
       "      <td>0</td>\n",
       "      <td>женат / замужем</td>\n",
       "    </tr>\n",
       "    <tr>\n",
       "      <th>21522</th>\n",
       "      <td>1</td>\n",
       "      <td>гражданский брак</td>\n",
       "    </tr>\n",
       "    <tr>\n",
       "      <th>21523</th>\n",
       "      <td>0</td>\n",
       "      <td>женат / замужем</td>\n",
       "    </tr>\n",
       "    <tr>\n",
       "      <th>21524</th>\n",
       "      <td>0</td>\n",
       "      <td>женат / замужем</td>\n",
       "    </tr>\n",
       "  </tbody>\n",
       "</table>\n",
       "<p>21401 rows × 2 columns</p>\n",
       "</div>"
      ],
      "text/plain": [
       "       family_status_id     family_status\n",
       "0                     0   женат / замужем\n",
       "1                     0   женат / замужем\n",
       "2                     0   женат / замужем\n",
       "3                     0   женат / замужем\n",
       "4                     1  гражданский брак\n",
       "...                 ...               ...\n",
       "21520                 1  гражданский брак\n",
       "21521                 0   женат / замужем\n",
       "21522                 1  гражданский брак\n",
       "21523                 0   женат / замужем\n",
       "21524                 0   женат / замужем\n",
       "\n",
       "[21401 rows x 2 columns]"
      ]
     },
     "metadata": {},
     "output_type": "display_data"
    }
   ],
   "source": [
    "# подготовка словаря\n",
    "family_status_dict = df[['family_status_id','family_status']]\n",
    "display(family_status_dict)"
   ]
  },
  {
   "cell_type": "code",
   "execution_count": 85,
   "id": "29e85e02",
   "metadata": {},
   "outputs": [
    {
     "data": {
      "text/html": [
       "<div>\n",
       "<style scoped>\n",
       "    .dataframe tbody tr th:only-of-type {\n",
       "        vertical-align: middle;\n",
       "    }\n",
       "\n",
       "    .dataframe tbody tr th {\n",
       "        vertical-align: top;\n",
       "    }\n",
       "\n",
       "    .dataframe thead th {\n",
       "        text-align: right;\n",
       "    }\n",
       "</style>\n",
       "<table border=\"1\" class=\"dataframe\">\n",
       "  <thead>\n",
       "    <tr style=\"text-align: right;\">\n",
       "      <th>debt</th>\n",
       "      <th>0</th>\n",
       "      <th>1</th>\n",
       "    </tr>\n",
       "    <tr>\n",
       "      <th>family_status_id</th>\n",
       "      <th></th>\n",
       "      <th></th>\n",
       "    </tr>\n",
       "  </thead>\n",
       "  <tbody>\n",
       "    <tr>\n",
       "      <th>0</th>\n",
       "      <td>11375</td>\n",
       "      <td>927</td>\n",
       "    </tr>\n",
       "    <tr>\n",
       "      <th>1</th>\n",
       "      <td>3774</td>\n",
       "      <td>385</td>\n",
       "    </tr>\n",
       "    <tr>\n",
       "      <th>2</th>\n",
       "      <td>889</td>\n",
       "      <td>63</td>\n",
       "    </tr>\n",
       "    <tr>\n",
       "      <th>3</th>\n",
       "      <td>1105</td>\n",
       "      <td>84</td>\n",
       "    </tr>\n",
       "    <tr>\n",
       "      <th>4</th>\n",
       "      <td>2526</td>\n",
       "      <td>273</td>\n",
       "    </tr>\n",
       "  </tbody>\n",
       "</table>\n",
       "</div>"
      ],
      "text/plain": [
       "debt                  0    1\n",
       "family_status_id            \n",
       "0                 11375  927\n",
       "1                  3774  385\n",
       "2                   889   63\n",
       "3                  1105   84\n",
       "4                  2526  273"
      ]
     },
     "metadata": {},
     "output_type": "display_data"
    }
   ],
   "source": [
    "# группировка исходного датафрейма\n",
    "debt_pivot_famil = df.pivot_table(index = 'family_status_id', columns = 'debt', values = 'family_status', aggfunc = 'count')\n",
    "display(debt_pivot_famil)"
   ]
  },
  {
   "cell_type": "code",
   "execution_count": 86,
   "id": "ecc374bd",
   "metadata": {},
   "outputs": [
    {
     "data": {
      "text/html": [
       "<div>\n",
       "<style scoped>\n",
       "    .dataframe tbody tr th:only-of-type {\n",
       "        vertical-align: middle;\n",
       "    }\n",
       "\n",
       "    .dataframe tbody tr th {\n",
       "        vertical-align: top;\n",
       "    }\n",
       "\n",
       "    .dataframe thead th {\n",
       "        text-align: right;\n",
       "    }\n",
       "</style>\n",
       "<table border=\"1\" class=\"dataframe\">\n",
       "  <thead>\n",
       "    <tr style=\"text-align: right;\">\n",
       "      <th></th>\n",
       "      <th>family_status_id</th>\n",
       "      <th>family_status</th>\n",
       "      <th>0</th>\n",
       "      <th>1</th>\n",
       "    </tr>\n",
       "  </thead>\n",
       "  <tbody>\n",
       "    <tr>\n",
       "      <th>0</th>\n",
       "      <td>0</td>\n",
       "      <td>женат / замужем</td>\n",
       "      <td>11375</td>\n",
       "      <td>927</td>\n",
       "    </tr>\n",
       "    <tr>\n",
       "      <th>1</th>\n",
       "      <td>0</td>\n",
       "      <td>женат / замужем</td>\n",
       "      <td>11375</td>\n",
       "      <td>927</td>\n",
       "    </tr>\n",
       "    <tr>\n",
       "      <th>2</th>\n",
       "      <td>0</td>\n",
       "      <td>женат / замужем</td>\n",
       "      <td>11375</td>\n",
       "      <td>927</td>\n",
       "    </tr>\n",
       "    <tr>\n",
       "      <th>3</th>\n",
       "      <td>0</td>\n",
       "      <td>женат / замужем</td>\n",
       "      <td>11375</td>\n",
       "      <td>927</td>\n",
       "    </tr>\n",
       "    <tr>\n",
       "      <th>4</th>\n",
       "      <td>0</td>\n",
       "      <td>женат / замужем</td>\n",
       "      <td>11375</td>\n",
       "      <td>927</td>\n",
       "    </tr>\n",
       "    <tr>\n",
       "      <th>...</th>\n",
       "      <td>...</td>\n",
       "      <td>...</td>\n",
       "      <td>...</td>\n",
       "      <td>...</td>\n",
       "    </tr>\n",
       "    <tr>\n",
       "      <th>21396</th>\n",
       "      <td>4</td>\n",
       "      <td>Не женат / не замужем</td>\n",
       "      <td>2526</td>\n",
       "      <td>273</td>\n",
       "    </tr>\n",
       "    <tr>\n",
       "      <th>21397</th>\n",
       "      <td>4</td>\n",
       "      <td>Не женат / не замужем</td>\n",
       "      <td>2526</td>\n",
       "      <td>273</td>\n",
       "    </tr>\n",
       "    <tr>\n",
       "      <th>21398</th>\n",
       "      <td>4</td>\n",
       "      <td>Не женат / не замужем</td>\n",
       "      <td>2526</td>\n",
       "      <td>273</td>\n",
       "    </tr>\n",
       "    <tr>\n",
       "      <th>21399</th>\n",
       "      <td>4</td>\n",
       "      <td>Не женат / не замужем</td>\n",
       "      <td>2526</td>\n",
       "      <td>273</td>\n",
       "    </tr>\n",
       "    <tr>\n",
       "      <th>21400</th>\n",
       "      <td>4</td>\n",
       "      <td>Не женат / не замужем</td>\n",
       "      <td>2526</td>\n",
       "      <td>273</td>\n",
       "    </tr>\n",
       "  </tbody>\n",
       "</table>\n",
       "<p>21401 rows × 4 columns</p>\n",
       "</div>"
      ],
      "text/plain": [
       "       family_status_id          family_status      0    1\n",
       "0                     0        женат / замужем  11375  927\n",
       "1                     0        женат / замужем  11375  927\n",
       "2                     0        женат / замужем  11375  927\n",
       "3                     0        женат / замужем  11375  927\n",
       "4                     0        женат / замужем  11375  927\n",
       "...                 ...                    ...    ...  ...\n",
       "21396                 4  Не женат / не замужем   2526  273\n",
       "21397                 4  Не женат / не замужем   2526  273\n",
       "21398                 4  Не женат / не замужем   2526  273\n",
       "21399                 4  Не женат / не замужем   2526  273\n",
       "21400                 4  Не женат / не замужем   2526  273\n",
       "\n",
       "[21401 rows x 4 columns]"
      ]
     },
     "metadata": {},
     "output_type": "display_data"
    }
   ],
   "source": [
    "# соединение словаря и группировки\n",
    "family_status_m = family_status_dict.merge(debt_pivot_famil, on = 'family_status_id')\n",
    "display(family_status_m)"
   ]
  },
  {
   "cell_type": "markdown",
   "id": "c48c1745",
   "metadata": {},
   "source": [
    "Удаление столбцов `education` и `family_status` из исходного датафрейма:"
   ]
  },
  {
   "cell_type": "code",
   "execution_count": 88,
   "id": "36456bb1",
   "metadata": {},
   "outputs": [
    {
     "data": {
      "text/html": [
       "<div>\n",
       "<style scoped>\n",
       "    .dataframe tbody tr th:only-of-type {\n",
       "        vertical-align: middle;\n",
       "    }\n",
       "\n",
       "    .dataframe tbody tr th {\n",
       "        vertical-align: top;\n",
       "    }\n",
       "\n",
       "    .dataframe thead th {\n",
       "        text-align: right;\n",
       "    }\n",
       "</style>\n",
       "<table border=\"1\" class=\"dataframe\">\n",
       "  <thead>\n",
       "    <tr style=\"text-align: right;\">\n",
       "      <th></th>\n",
       "      <th>children</th>\n",
       "      <th>days_employed</th>\n",
       "      <th>dob_years</th>\n",
       "      <th>education_id</th>\n",
       "      <th>family_status_id</th>\n",
       "      <th>gender</th>\n",
       "      <th>income_type</th>\n",
       "      <th>debt</th>\n",
       "      <th>total_income</th>\n",
       "      <th>purpose</th>\n",
       "    </tr>\n",
       "  </thead>\n",
       "  <tbody>\n",
       "    <tr>\n",
       "      <th>0</th>\n",
       "      <td>1</td>\n",
       "      <td>8437</td>\n",
       "      <td>42</td>\n",
       "      <td>0</td>\n",
       "      <td>0</td>\n",
       "      <td>F</td>\n",
       "      <td>сотрудник</td>\n",
       "      <td>0</td>\n",
       "      <td>253875</td>\n",
       "      <td>покупка жилья</td>\n",
       "    </tr>\n",
       "    <tr>\n",
       "      <th>1</th>\n",
       "      <td>1</td>\n",
       "      <td>4024</td>\n",
       "      <td>36</td>\n",
       "      <td>1</td>\n",
       "      <td>0</td>\n",
       "      <td>F</td>\n",
       "      <td>сотрудник</td>\n",
       "      <td>0</td>\n",
       "      <td>112080</td>\n",
       "      <td>приобретение автомобиля</td>\n",
       "    </tr>\n",
       "    <tr>\n",
       "      <th>2</th>\n",
       "      <td>0</td>\n",
       "      <td>5623</td>\n",
       "      <td>33</td>\n",
       "      <td>1</td>\n",
       "      <td>0</td>\n",
       "      <td>M</td>\n",
       "      <td>сотрудник</td>\n",
       "      <td>0</td>\n",
       "      <td>145885</td>\n",
       "      <td>покупка жилья</td>\n",
       "    </tr>\n",
       "    <tr>\n",
       "      <th>3</th>\n",
       "      <td>3</td>\n",
       "      <td>4124</td>\n",
       "      <td>32</td>\n",
       "      <td>1</td>\n",
       "      <td>0</td>\n",
       "      <td>M</td>\n",
       "      <td>сотрудник</td>\n",
       "      <td>0</td>\n",
       "      <td>267628</td>\n",
       "      <td>дополнительное образование</td>\n",
       "    </tr>\n",
       "    <tr>\n",
       "      <th>4</th>\n",
       "      <td>0</td>\n",
       "      <td>14177</td>\n",
       "      <td>53</td>\n",
       "      <td>1</td>\n",
       "      <td>1</td>\n",
       "      <td>F</td>\n",
       "      <td>пенсионер</td>\n",
       "      <td>0</td>\n",
       "      <td>158616</td>\n",
       "      <td>сыграть свадьбу</td>\n",
       "    </tr>\n",
       "  </tbody>\n",
       "</table>\n",
       "</div>"
      ],
      "text/plain": [
       "   children  days_employed  dob_years  education_id  family_status_id gender  \\\n",
       "0         1           8437         42             0                 0      F   \n",
       "1         1           4024         36             1                 0      F   \n",
       "2         0           5623         33             1                 0      M   \n",
       "3         3           4124         32             1                 0      M   \n",
       "4         0          14177         53             1                 1      F   \n",
       "\n",
       "  income_type  debt  total_income                     purpose  \n",
       "0   сотрудник     0        253875               покупка жилья  \n",
       "1   сотрудник     0        112080     приобретение автомобиля  \n",
       "2   сотрудник     0        145885               покупка жилья  \n",
       "3   сотрудник     0        267628  дополнительное образование  \n",
       "4   пенсионер     0        158616             сыграть свадьбу  "
      ]
     },
     "metadata": {},
     "output_type": "display_data"
    }
   ],
   "source": [
    "# для удобства дальнейших категоризаций\n",
    "df_new = df.drop(['education', 'family_status'], axis=1) \n",
    "display(df_new.head())"
   ]
  },
  {
   "cell_type": "markdown",
   "id": "d7b8ebfc",
   "metadata": {},
   "source": [
    "### Категоризация дохода"
   ]
  },
  {
   "cell_type": "code",
   "execution_count": 89,
   "id": "d12ce8e3",
   "metadata": {},
   "outputs": [
    {
     "data": {
      "text/html": [
       "<div>\n",
       "<style scoped>\n",
       "    .dataframe tbody tr th:only-of-type {\n",
       "        vertical-align: middle;\n",
       "    }\n",
       "\n",
       "    .dataframe tbody tr th {\n",
       "        vertical-align: top;\n",
       "    }\n",
       "\n",
       "    .dataframe thead th {\n",
       "        text-align: right;\n",
       "    }\n",
       "</style>\n",
       "<table border=\"1\" class=\"dataframe\">\n",
       "  <thead>\n",
       "    <tr style=\"text-align: right;\">\n",
       "      <th></th>\n",
       "      <th>children</th>\n",
       "      <th>days_employed</th>\n",
       "      <th>dob_years</th>\n",
       "      <th>education_id</th>\n",
       "      <th>family_status_id</th>\n",
       "      <th>gender</th>\n",
       "      <th>income_type</th>\n",
       "      <th>debt</th>\n",
       "      <th>total_income</th>\n",
       "      <th>purpose</th>\n",
       "      <th>total_income_category</th>\n",
       "    </tr>\n",
       "  </thead>\n",
       "  <tbody>\n",
       "    <tr>\n",
       "      <th>0</th>\n",
       "      <td>1</td>\n",
       "      <td>8437</td>\n",
       "      <td>42</td>\n",
       "      <td>0</td>\n",
       "      <td>0</td>\n",
       "      <td>F</td>\n",
       "      <td>сотрудник</td>\n",
       "      <td>0</td>\n",
       "      <td>253875</td>\n",
       "      <td>покупка жилья</td>\n",
       "      <td>B</td>\n",
       "    </tr>\n",
       "    <tr>\n",
       "      <th>1</th>\n",
       "      <td>1</td>\n",
       "      <td>4024</td>\n",
       "      <td>36</td>\n",
       "      <td>1</td>\n",
       "      <td>0</td>\n",
       "      <td>F</td>\n",
       "      <td>сотрудник</td>\n",
       "      <td>0</td>\n",
       "      <td>112080</td>\n",
       "      <td>приобретение автомобиля</td>\n",
       "      <td>C</td>\n",
       "    </tr>\n",
       "    <tr>\n",
       "      <th>2</th>\n",
       "      <td>0</td>\n",
       "      <td>5623</td>\n",
       "      <td>33</td>\n",
       "      <td>1</td>\n",
       "      <td>0</td>\n",
       "      <td>M</td>\n",
       "      <td>сотрудник</td>\n",
       "      <td>0</td>\n",
       "      <td>145885</td>\n",
       "      <td>покупка жилья</td>\n",
       "      <td>C</td>\n",
       "    </tr>\n",
       "    <tr>\n",
       "      <th>3</th>\n",
       "      <td>3</td>\n",
       "      <td>4124</td>\n",
       "      <td>32</td>\n",
       "      <td>1</td>\n",
       "      <td>0</td>\n",
       "      <td>M</td>\n",
       "      <td>сотрудник</td>\n",
       "      <td>0</td>\n",
       "      <td>267628</td>\n",
       "      <td>дополнительное образование</td>\n",
       "      <td>B</td>\n",
       "    </tr>\n",
       "    <tr>\n",
       "      <th>4</th>\n",
       "      <td>0</td>\n",
       "      <td>14177</td>\n",
       "      <td>53</td>\n",
       "      <td>1</td>\n",
       "      <td>1</td>\n",
       "      <td>F</td>\n",
       "      <td>пенсионер</td>\n",
       "      <td>0</td>\n",
       "      <td>158616</td>\n",
       "      <td>сыграть свадьбу</td>\n",
       "      <td>C</td>\n",
       "    </tr>\n",
       "  </tbody>\n",
       "</table>\n",
       "</div>"
      ],
      "text/plain": [
       "   children  days_employed  dob_years  education_id  family_status_id gender  \\\n",
       "0         1           8437         42             0                 0      F   \n",
       "1         1           4024         36             1                 0      F   \n",
       "2         0           5623         33             1                 0      M   \n",
       "3         3           4124         32             1                 0      M   \n",
       "4         0          14177         53             1                 1      F   \n",
       "\n",
       "  income_type  debt  total_income                     purpose  \\\n",
       "0   сотрудник     0        253875               покупка жилья   \n",
       "1   сотрудник     0        112080     приобретение автомобиля   \n",
       "2   сотрудник     0        145885               покупка жилья   \n",
       "3   сотрудник     0        267628  дополнительное образование   \n",
       "4   пенсионер     0        158616             сыграть свадьбу   \n",
       "\n",
       "  total_income_category  \n",
       "0                     B  \n",
       "1                     C  \n",
       "2                     C  \n",
       "3                     B  \n",
       "4                     C  "
      ]
     },
     "metadata": {},
     "output_type": "display_data"
    }
   ],
   "source": [
    "# функция для категоризации\n",
    "def income_category(income):\n",
    "    if income <= 30000:\n",
    "        return 'E'\n",
    "    if income <= 50000:\n",
    "        return 'D'\n",
    "    if income <= 200000:\n",
    "        return 'C'\n",
    "    if income <= 1000000:\n",
    "        return 'B'\n",
    "    return 'A'\n",
    "\n",
    "# применение функции с записью в новый столбец `total_income_category`\n",
    "df_new['total_income_category'] = df_new['total_income'].apply(income_category)\n",
    "display(df_new.head())"
   ]
  },
  {
   "cell_type": "markdown",
   "id": "a5a28998",
   "metadata": {},
   "source": [
    "### Шаг 2.7. Категоризация целей кредита."
   ]
  },
  {
   "cell_type": "code",
   "execution_count": 90,
   "id": "3553b0fa",
   "metadata": {},
   "outputs": [
    {
     "data": {
      "text/plain": [
       "свадьба                                   796\n",
       "на проведение свадьбы                     772\n",
       "сыграть свадьбу                           769\n",
       "операции с недвижимостью                  673\n",
       "покупка коммерческой недвижимости         661\n",
       "покупка жилья для сдачи                   651\n",
       "операции с жильем                         648\n",
       "операции с коммерческой недвижимостью     646\n",
       "жилье                                     642\n",
       "покупка жилья                             641\n",
       "покупка жилья для семьи                   640\n",
       "недвижимость                              632\n",
       "строительство собственной недвижимости    628\n",
       "операции со своей недвижимостью           626\n",
       "строительство жилой недвижимости          622\n",
       "строительство недвижимости                620\n",
       "покупка своего жилья                      619\n",
       "покупка недвижимости                      618\n",
       "ремонт жилью                              609\n",
       "покупка жилой недвижимости                603\n",
       "на покупку своего автомобиля              504\n",
       "заняться высшим образованием              496\n",
       "автомобиль                                492\n",
       "сделка с подержанным автомобилем          484\n",
       "автомобили                                476\n",
       "свой автомобиль                           475\n",
       "на покупку подержанного автомобиля        472\n",
       "на покупку автомобиля                     470\n",
       "приобретение автомобиля                   460\n",
       "дополнительное образование                457\n",
       "сделка с автомобилем                      455\n",
       "высшее образование                        447\n",
       "получение дополнительного образования     445\n",
       "образование                               442\n",
       "получение образования                     441\n",
       "профильное образование                    432\n",
       "получение высшего образования             425\n",
       "заняться образованием                     412\n",
       "Name: purpose, dtype: int64"
      ]
     },
     "metadata": {},
     "output_type": "display_data"
    }
   ],
   "source": [
    "# просмотр уникальных названий в столбце `purpose`\n",
    "display(df_new['purpose'].value_counts())"
   ]
  },
  {
   "cell_type": "code",
   "execution_count": 91,
   "id": "0c9b1fcc",
   "metadata": {},
   "outputs": [
    {
     "data": {
      "text/html": [
       "<div>\n",
       "<style scoped>\n",
       "    .dataframe tbody tr th:only-of-type {\n",
       "        vertical-align: middle;\n",
       "    }\n",
       "\n",
       "    .dataframe tbody tr th {\n",
       "        vertical-align: top;\n",
       "    }\n",
       "\n",
       "    .dataframe thead th {\n",
       "        text-align: right;\n",
       "    }\n",
       "</style>\n",
       "<table border=\"1\" class=\"dataframe\">\n",
       "  <thead>\n",
       "    <tr style=\"text-align: right;\">\n",
       "      <th></th>\n",
       "      <th>children</th>\n",
       "      <th>days_employed</th>\n",
       "      <th>dob_years</th>\n",
       "      <th>education_id</th>\n",
       "      <th>family_status_id</th>\n",
       "      <th>gender</th>\n",
       "      <th>income_type</th>\n",
       "      <th>debt</th>\n",
       "      <th>total_income</th>\n",
       "      <th>purpose</th>\n",
       "      <th>total_income_category</th>\n",
       "      <th>purpose_category</th>\n",
       "    </tr>\n",
       "  </thead>\n",
       "  <tbody>\n",
       "    <tr>\n",
       "      <th>0</th>\n",
       "      <td>1</td>\n",
       "      <td>8437</td>\n",
       "      <td>42</td>\n",
       "      <td>0</td>\n",
       "      <td>0</td>\n",
       "      <td>F</td>\n",
       "      <td>сотрудник</td>\n",
       "      <td>0</td>\n",
       "      <td>253875</td>\n",
       "      <td>покупка жилья</td>\n",
       "      <td>B</td>\n",
       "      <td>операции с недвижимостью</td>\n",
       "    </tr>\n",
       "    <tr>\n",
       "      <th>1</th>\n",
       "      <td>1</td>\n",
       "      <td>4024</td>\n",
       "      <td>36</td>\n",
       "      <td>1</td>\n",
       "      <td>0</td>\n",
       "      <td>F</td>\n",
       "      <td>сотрудник</td>\n",
       "      <td>0</td>\n",
       "      <td>112080</td>\n",
       "      <td>приобретение автомобиля</td>\n",
       "      <td>C</td>\n",
       "      <td>операции с автомобилем</td>\n",
       "    </tr>\n",
       "    <tr>\n",
       "      <th>2</th>\n",
       "      <td>0</td>\n",
       "      <td>5623</td>\n",
       "      <td>33</td>\n",
       "      <td>1</td>\n",
       "      <td>0</td>\n",
       "      <td>M</td>\n",
       "      <td>сотрудник</td>\n",
       "      <td>0</td>\n",
       "      <td>145885</td>\n",
       "      <td>покупка жилья</td>\n",
       "      <td>C</td>\n",
       "      <td>операции с недвижимостью</td>\n",
       "    </tr>\n",
       "    <tr>\n",
       "      <th>3</th>\n",
       "      <td>3</td>\n",
       "      <td>4124</td>\n",
       "      <td>32</td>\n",
       "      <td>1</td>\n",
       "      <td>0</td>\n",
       "      <td>M</td>\n",
       "      <td>сотрудник</td>\n",
       "      <td>0</td>\n",
       "      <td>267628</td>\n",
       "      <td>дополнительное образование</td>\n",
       "      <td>B</td>\n",
       "      <td>получение образования</td>\n",
       "    </tr>\n",
       "    <tr>\n",
       "      <th>4</th>\n",
       "      <td>0</td>\n",
       "      <td>14177</td>\n",
       "      <td>53</td>\n",
       "      <td>1</td>\n",
       "      <td>1</td>\n",
       "      <td>F</td>\n",
       "      <td>пенсионер</td>\n",
       "      <td>0</td>\n",
       "      <td>158616</td>\n",
       "      <td>сыграть свадьбу</td>\n",
       "      <td>C</td>\n",
       "      <td>проведение свадьбы</td>\n",
       "    </tr>\n",
       "  </tbody>\n",
       "</table>\n",
       "</div>"
      ],
      "text/plain": [
       "   children  days_employed  dob_years  education_id  family_status_id gender  \\\n",
       "0         1           8437         42             0                 0      F   \n",
       "1         1           4024         36             1                 0      F   \n",
       "2         0           5623         33             1                 0      M   \n",
       "3         3           4124         32             1                 0      M   \n",
       "4         0          14177         53             1                 1      F   \n",
       "\n",
       "  income_type  debt  total_income                     purpose  \\\n",
       "0   сотрудник     0        253875               покупка жилья   \n",
       "1   сотрудник     0        112080     приобретение автомобиля   \n",
       "2   сотрудник     0        145885               покупка жилья   \n",
       "3   сотрудник     0        267628  дополнительное образование   \n",
       "4   пенсионер     0        158616             сыграть свадьбу   \n",
       "\n",
       "  total_income_category          purpose_category  \n",
       "0                     B  операции с недвижимостью  \n",
       "1                     C    операции с автомобилем  \n",
       "2                     C  операции с недвижимостью  \n",
       "3                     B     получение образования  \n",
       "4                     C        проведение свадьбы  "
      ]
     },
     "metadata": {},
     "output_type": "display_data"
    }
   ],
   "source": [
    "# функция для категоризации\n",
    "def purpose_categories(purposes):\n",
    "    purpose_dict = {'проведение свадьбы': ['свадьба', 'свадьбы', 'свадьбу'],\n",
    "                    'операции с недвижимостью': ['жилья', 'жильем', 'жилью' 'недвижимостью', 'недвижимости', 'недвижимость'],\n",
    "                    'операции с автомобилем': ['автомобиля','автомобиль','автомобилем','автомобили'],\n",
    "                    'получение образования': ['образованием', 'образование', 'образования']} # создание словаря синонимов\n",
    "    for cat, synonymns in purpose_dict.items(): # перебор синонимов\n",
    "        for syn in synonymns:\n",
    "            if syn in purposes: return cat\n",
    "    return None\n",
    "\n",
    "# применение функции с записью в новый столбец `purpose_category`\n",
    "df_new['purpose_category'] = df_new['purpose'].apply(purpose_categories)\n",
    "display(df_new.head())"
   ]
  },
  {
   "cell_type": "markdown",
   "id": "52d2a6bb",
   "metadata": {},
   "source": [
    "## Шаг 3. Ответы на вопросы"
   ]
  },
  {
   "cell_type": "markdown",
   "id": "bc835a74",
   "metadata": {},
   "source": [
    "### Проверка гипотезы: Количество детей оказывает влияние на возврат кредита в срок."
   ]
  },
  {
   "cell_type": "code",
   "execution_count": 92,
   "id": "79e2dd35",
   "metadata": {},
   "outputs": [
    {
     "data": {
      "text/html": [
       "<div>\n",
       "<style scoped>\n",
       "    .dataframe tbody tr th:only-of-type {\n",
       "        vertical-align: middle;\n",
       "    }\n",
       "\n",
       "    .dataframe tbody tr th {\n",
       "        vertical-align: top;\n",
       "    }\n",
       "\n",
       "    .dataframe thead th {\n",
       "        text-align: right;\n",
       "    }\n",
       "</style>\n",
       "<table border=\"1\" class=\"dataframe\">\n",
       "  <thead>\n",
       "    <tr style=\"text-align: right;\">\n",
       "      <th></th>\n",
       "      <th>debt</th>\n",
       "      <th>total</th>\n",
       "      <th>%</th>\n",
       "    </tr>\n",
       "    <tr>\n",
       "      <th>children</th>\n",
       "      <th></th>\n",
       "      <th></th>\n",
       "      <th></th>\n",
       "    </tr>\n",
       "  </thead>\n",
       "  <tbody>\n",
       "    <tr>\n",
       "      <th>4</th>\n",
       "      <td>4</td>\n",
       "      <td>41</td>\n",
       "      <td>0.097561</td>\n",
       "    </tr>\n",
       "    <tr>\n",
       "      <th>2</th>\n",
       "      <td>194</td>\n",
       "      <td>2055</td>\n",
       "      <td>0.094404</td>\n",
       "    </tr>\n",
       "    <tr>\n",
       "      <th>1</th>\n",
       "      <td>444</td>\n",
       "      <td>4818</td>\n",
       "      <td>0.092154</td>\n",
       "    </tr>\n",
       "    <tr>\n",
       "      <th>3</th>\n",
       "      <td>27</td>\n",
       "      <td>330</td>\n",
       "      <td>0.081818</td>\n",
       "    </tr>\n",
       "    <tr>\n",
       "      <th>0</th>\n",
       "      <td>1063</td>\n",
       "      <td>14148</td>\n",
       "      <td>0.075134</td>\n",
       "    </tr>\n",
       "    <tr>\n",
       "      <th>5</th>\n",
       "      <td>0</td>\n",
       "      <td>9</td>\n",
       "      <td>0.000000</td>\n",
       "    </tr>\n",
       "  </tbody>\n",
       "</table>\n",
       "</div>"
      ],
      "text/plain": [
       "          debt  total         %\n",
       "children                       \n",
       "4            4     41  0.097561\n",
       "2          194   2055  0.094404\n",
       "1          444   4818  0.092154\n",
       "3           27    330  0.081818\n",
       "0         1063  14148  0.075134\n",
       "5            0      9  0.000000"
      ]
     },
     "metadata": {},
     "output_type": "display_data"
    }
   ],
   "source": [
    "# создание сводной таблицы\n",
    "report_children = df_new.pivot_table(index = 'children', values = 'debt', aggfunc = ['sum', 'count', 'mean'])\n",
    "\n",
    "# названия колонок\n",
    "report_children.columns = ['debt', 'total', '%']\n",
    "\n",
    "# сортировка\n",
    "report_children = report_children.sort_values(by = ['%'], ascending = False)\n",
    "display(report_children)"
   ]
  },
  {
   "cell_type": "markdown",
   "id": "72d70d00",
   "metadata": {},
   "source": [
    "**Вывод:**"
   ]
  },
  {
   "cell_type": "markdown",
   "id": "f9c306cc",
   "metadata": {},
   "source": [
    "Исходя из результата, количество детей не влияет на выплату кредита в срок. Разница между теми, у кого пятеро детей и теми, у кого их нет, присутствует, но незначительна, семьи с пятью детьми не имеют задолженностей, но таковых семей намного меньше, что тоже важно учитывать. Гипотеза о том, что количество детей оказывает влияние на возврат кредита в срок не подтверждается."
   ]
  },
  {
   "cell_type": "markdown",
   "id": "dae90c8d",
   "metadata": {},
   "source": [
    "### Проверка гипотезы: Семейное положение оказывает влияние на возврат кредита в срок."
   ]
  },
  {
   "cell_type": "code",
   "execution_count": 93,
   "id": "1b115121",
   "metadata": {},
   "outputs": [
    {
     "data": {
      "text/html": [
       "<div>\n",
       "<style scoped>\n",
       "    .dataframe tbody tr th:only-of-type {\n",
       "        vertical-align: middle;\n",
       "    }\n",
       "\n",
       "    .dataframe tbody tr th {\n",
       "        vertical-align: top;\n",
       "    }\n",
       "\n",
       "    .dataframe thead th {\n",
       "        text-align: right;\n",
       "    }\n",
       "</style>\n",
       "<table border=\"1\" class=\"dataframe\">\n",
       "  <thead>\n",
       "    <tr style=\"text-align: right;\">\n",
       "      <th></th>\n",
       "      <th>debt</th>\n",
       "      <th>total</th>\n",
       "      <th>%</th>\n",
       "    </tr>\n",
       "    <tr>\n",
       "      <th>family_status</th>\n",
       "      <th></th>\n",
       "      <th></th>\n",
       "      <th></th>\n",
       "    </tr>\n",
       "  </thead>\n",
       "  <tbody>\n",
       "    <tr>\n",
       "      <th>Не женат / не замужем</th>\n",
       "      <td>273</td>\n",
       "      <td>2799</td>\n",
       "      <td>0.097535</td>\n",
       "    </tr>\n",
       "    <tr>\n",
       "      <th>гражданский брак</th>\n",
       "      <td>385</td>\n",
       "      <td>4159</td>\n",
       "      <td>0.092570</td>\n",
       "    </tr>\n",
       "    <tr>\n",
       "      <th>женат / замужем</th>\n",
       "      <td>927</td>\n",
       "      <td>12302</td>\n",
       "      <td>0.075354</td>\n",
       "    </tr>\n",
       "    <tr>\n",
       "      <th>в разводе</th>\n",
       "      <td>84</td>\n",
       "      <td>1189</td>\n",
       "      <td>0.070648</td>\n",
       "    </tr>\n",
       "    <tr>\n",
       "      <th>вдовец / вдова</th>\n",
       "      <td>63</td>\n",
       "      <td>952</td>\n",
       "      <td>0.066176</td>\n",
       "    </tr>\n",
       "  </tbody>\n",
       "</table>\n",
       "</div>"
      ],
      "text/plain": [
       "                       debt  total         %\n",
       "family_status                               \n",
       "Не женат / не замужем   273   2799  0.097535\n",
       "гражданский брак        385   4159  0.092570\n",
       "женат / замужем         927  12302  0.075354\n",
       "в разводе                84   1189  0.070648\n",
       "вдовец / вдова           63    952  0.066176"
      ]
     },
     "metadata": {},
     "output_type": "display_data"
    }
   ],
   "source": [
    "# создание сводной таблицы\n",
    "report_family = df.pivot_table(index = 'family_status', values = 'debt', aggfunc = ['sum', 'count', 'mean'])\n",
    "\n",
    "# названия колонок\n",
    "report_family.columns = ['debt', 'total', '%']\n",
    "\n",
    "# сортировка\n",
    "report_family = report_family.sort_values(by = ['%'], ascending = False)\n",
    "display(report_family)"
   ]
  },
  {
   "cell_type": "markdown",
   "id": "2c77b7fc",
   "metadata": {},
   "source": [
    "**Вывод:**"
   ]
  },
  {
   "cell_type": "markdown",
   "id": "703f6399",
   "metadata": {},
   "source": [
    "Семейное положение не оказывает влияние на возврат кредита в срок, эта гипотеза не подтверждается. Разница между людьми категории \"вдовец / вдова\" и категории \"Не женат / не замужем\" присутствует, но также незначительная."
   ]
  },
  {
   "cell_type": "markdown",
   "id": "63944db5",
   "metadata": {},
   "source": [
    "### Проверка гипотезы: Уровень дохода оказывает влияние на возврат кредита в срок."
   ]
  },
  {
   "cell_type": "code",
   "execution_count": 94,
   "id": "47f25730",
   "metadata": {},
   "outputs": [
    {
     "data": {
      "text/html": [
       "<div>\n",
       "<style scoped>\n",
       "    .dataframe tbody tr th:only-of-type {\n",
       "        vertical-align: middle;\n",
       "    }\n",
       "\n",
       "    .dataframe tbody tr th {\n",
       "        vertical-align: top;\n",
       "    }\n",
       "\n",
       "    .dataframe thead th {\n",
       "        text-align: right;\n",
       "    }\n",
       "</style>\n",
       "<table border=\"1\" class=\"dataframe\">\n",
       "  <thead>\n",
       "    <tr style=\"text-align: right;\">\n",
       "      <th></th>\n",
       "      <th>debt</th>\n",
       "      <th>total</th>\n",
       "      <th>%</th>\n",
       "    </tr>\n",
       "    <tr>\n",
       "      <th>total_income_category</th>\n",
       "      <th></th>\n",
       "      <th></th>\n",
       "      <th></th>\n",
       "    </tr>\n",
       "  </thead>\n",
       "  <tbody>\n",
       "    <tr>\n",
       "      <th>E</th>\n",
       "      <td>2</td>\n",
       "      <td>22</td>\n",
       "      <td>0.090909</td>\n",
       "    </tr>\n",
       "    <tr>\n",
       "      <th>D</th>\n",
       "      <td>21</td>\n",
       "      <td>349</td>\n",
       "      <td>0.060172</td>\n",
       "    </tr>\n",
       "    <tr>\n",
       "      <th>C</th>\n",
       "      <td>1353</td>\n",
       "      <td>15993</td>\n",
       "      <td>0.084600</td>\n",
       "    </tr>\n",
       "    <tr>\n",
       "      <th>B</th>\n",
       "      <td>354</td>\n",
       "      <td>5012</td>\n",
       "      <td>0.070630</td>\n",
       "    </tr>\n",
       "    <tr>\n",
       "      <th>A</th>\n",
       "      <td>2</td>\n",
       "      <td>25</td>\n",
       "      <td>0.080000</td>\n",
       "    </tr>\n",
       "  </tbody>\n",
       "</table>\n",
       "</div>"
      ],
      "text/plain": [
       "                       debt  total         %\n",
       "total_income_category                       \n",
       "E                         2     22  0.090909\n",
       "D                        21    349  0.060172\n",
       "C                      1353  15993  0.084600\n",
       "B                       354   5012  0.070630\n",
       "A                         2     25  0.080000"
      ]
     },
     "metadata": {},
     "output_type": "display_data"
    }
   ],
   "source": [
    "# создание сводной таблицы\n",
    "report_income = df_new.pivot_table(index = 'total_income_category', values = 'debt', aggfunc = ['sum', 'count', 'mean']) \n",
    "\n",
    "# названия колонок\n",
    "report_income.columns = ['debt', 'total', '%']\n",
    "\n",
    "# сортировка\n",
    "report_income = report_income.sort_values(by = ['total_income_category'], ascending = False)\n",
    "display(report_income)"
   ]
  },
  {
   "cell_type": "markdown",
   "id": "b89293e5",
   "metadata": {},
   "source": [
    "**Вывод:**"
   ]
  },
  {
   "cell_type": "markdown",
   "id": "2ffde293",
   "metadata": {},
   "source": [
    "Уровень дохода оказывает влияние на возврат кредита в срок - не подтверждается. Люди с меньшим доходом имеют больше задолженностей по кредитам, как и люди с высоким доходом, вероятно это связано с тем, что таких людей не очень мало, а вот людей со средним, стабильным уровнем дохода достаточное количество и уровень своевременных выплат кредита чуть выше, но не значительно."
   ]
  },
  {
   "cell_type": "markdown",
   "id": "e0f31c10",
   "metadata": {},
   "source": [
    "### Проверка гипотезы: Цели взятия кредита оказывают влияние на возврат его в срок."
   ]
  },
  {
   "cell_type": "code",
   "execution_count": 95,
   "id": "a906bccd",
   "metadata": {},
   "outputs": [
    {
     "data": {
      "text/html": [
       "<div>\n",
       "<style scoped>\n",
       "    .dataframe tbody tr th:only-of-type {\n",
       "        vertical-align: middle;\n",
       "    }\n",
       "\n",
       "    .dataframe tbody tr th {\n",
       "        vertical-align: top;\n",
       "    }\n",
       "\n",
       "    .dataframe thead th {\n",
       "        text-align: right;\n",
       "    }\n",
       "</style>\n",
       "<table border=\"1\" class=\"dataframe\">\n",
       "  <thead>\n",
       "    <tr style=\"text-align: right;\">\n",
       "      <th></th>\n",
       "      <th>debt</th>\n",
       "      <th>total</th>\n",
       "      <th>%</th>\n",
       "    </tr>\n",
       "    <tr>\n",
       "      <th>purpose_category</th>\n",
       "      <th></th>\n",
       "      <th></th>\n",
       "      <th></th>\n",
       "    </tr>\n",
       "  </thead>\n",
       "  <tbody>\n",
       "    <tr>\n",
       "      <th>операции с недвижимостью</th>\n",
       "      <td>699</td>\n",
       "      <td>9528</td>\n",
       "      <td>0.073363</td>\n",
       "    </tr>\n",
       "    <tr>\n",
       "      <th>операции с автомобилем</th>\n",
       "      <td>400</td>\n",
       "      <td>4288</td>\n",
       "      <td>0.093284</td>\n",
       "    </tr>\n",
       "    <tr>\n",
       "      <th>получение образования</th>\n",
       "      <td>369</td>\n",
       "      <td>3997</td>\n",
       "      <td>0.092319</td>\n",
       "    </tr>\n",
       "    <tr>\n",
       "      <th>проведение свадьбы</th>\n",
       "      <td>183</td>\n",
       "      <td>2337</td>\n",
       "      <td>0.078306</td>\n",
       "    </tr>\n",
       "  </tbody>\n",
       "</table>\n",
       "</div>"
      ],
      "text/plain": [
       "                          debt  total         %\n",
       "purpose_category                               \n",
       "операции с недвижимостью   699   9528  0.073363\n",
       "операции с автомобилем     400   4288  0.093284\n",
       "получение образования      369   3997  0.092319\n",
       "проведение свадьбы         183   2337  0.078306"
      ]
     },
     "metadata": {},
     "output_type": "display_data"
    }
   ],
   "source": [
    "# создание сводной таблицы\n",
    "report_purpose = df_new.pivot_table(index = 'purpose_category', values = 'debt', aggfunc = ['sum', 'count', 'mean'])\n",
    "\n",
    "# названия колонок\n",
    "report_purpose.columns = ['debt', 'total', '%']\n",
    "\n",
    "# сортировка\n",
    "report_purpose = report_purpose.sort_values(by = ['total'], ascending = False)\n",
    "display(report_purpose)"
   ]
  },
  {
   "cell_type": "markdown",
   "id": "876f0f4e",
   "metadata": {},
   "source": [
    "**Вывод:**"
   ]
  },
  {
   "cell_type": "markdown",
   "id": "641e7a82",
   "metadata": {},
   "source": [
    "Цели взятия кредита оказывают влияние на возврат его в срок - не подтверждается. Разница между взятием кредита на недвижимость, свадьбу незназначительно отличается от взятия кредита на автомобиль или образование. "
   ]
  },
  {
   "cell_type": "markdown",
   "id": "538113bc",
   "metadata": {},
   "source": [
    "## Общий вывод"
   ]
  },
  {
   "cell_type": "code",
   "execution_count": 97,
   "id": "c95c25a0",
   "metadata": {},
   "outputs": [
    {
     "data": {
      "text/html": [
       "<div>\n",
       "<style scoped>\n",
       "    .dataframe tbody tr th:only-of-type {\n",
       "        vertical-align: middle;\n",
       "    }\n",
       "\n",
       "    .dataframe tbody tr th {\n",
       "        vertical-align: top;\n",
       "    }\n",
       "\n",
       "    .dataframe thead th {\n",
       "        text-align: right;\n",
       "    }\n",
       "</style>\n",
       "<table border=\"1\" class=\"dataframe\">\n",
       "  <thead>\n",
       "    <tr style=\"text-align: right;\">\n",
       "      <th></th>\n",
       "      <th>children</th>\n",
       "      <th>days_employed</th>\n",
       "      <th>dob_years</th>\n",
       "      <th>education_id</th>\n",
       "      <th>family_status_id</th>\n",
       "      <th>gender</th>\n",
       "      <th>income_type</th>\n",
       "      <th>total_income</th>\n",
       "      <th>purpose_category</th>\n",
       "      <th>debt</th>\n",
       "      <th>total</th>\n",
       "      <th>%</th>\n",
       "    </tr>\n",
       "  </thead>\n",
       "  <tbody>\n",
       "    <tr>\n",
       "      <th>0</th>\n",
       "      <td>0</td>\n",
       "      <td>24</td>\n",
       "      <td>32</td>\n",
       "      <td>0</td>\n",
       "      <td>4</td>\n",
       "      <td>M</td>\n",
       "      <td>сотрудник</td>\n",
       "      <td>124115</td>\n",
       "      <td>получение образования</td>\n",
       "      <td>0</td>\n",
       "      <td>1</td>\n",
       "      <td>0.0</td>\n",
       "    </tr>\n",
       "    <tr>\n",
       "      <th>1</th>\n",
       "      <td>0</td>\n",
       "      <td>16019</td>\n",
       "      <td>65</td>\n",
       "      <td>1</td>\n",
       "      <td>2</td>\n",
       "      <td>F</td>\n",
       "      <td>пенсионер</td>\n",
       "      <td>198209</td>\n",
       "      <td>получение образования</td>\n",
       "      <td>0</td>\n",
       "      <td>1</td>\n",
       "      <td>0.0</td>\n",
       "    </tr>\n",
       "    <tr>\n",
       "      <th>2</th>\n",
       "      <td>0</td>\n",
       "      <td>16017</td>\n",
       "      <td>56</td>\n",
       "      <td>0</td>\n",
       "      <td>0</td>\n",
       "      <td>M</td>\n",
       "      <td>пенсионер</td>\n",
       "      <td>160832</td>\n",
       "      <td>операции с недвижимостью</td>\n",
       "      <td>0</td>\n",
       "      <td>1</td>\n",
       "      <td>0.0</td>\n",
       "    </tr>\n",
       "    <tr>\n",
       "      <th>3</th>\n",
       "      <td>0</td>\n",
       "      <td>16015</td>\n",
       "      <td>64</td>\n",
       "      <td>1</td>\n",
       "      <td>1</td>\n",
       "      <td>F</td>\n",
       "      <td>пенсионер</td>\n",
       "      <td>90782</td>\n",
       "      <td>проведение свадьбы</td>\n",
       "      <td>0</td>\n",
       "      <td>1</td>\n",
       "      <td>0.0</td>\n",
       "    </tr>\n",
       "    <tr>\n",
       "      <th>4</th>\n",
       "      <td>0</td>\n",
       "      <td>16014</td>\n",
       "      <td>60</td>\n",
       "      <td>1</td>\n",
       "      <td>4</td>\n",
       "      <td>F</td>\n",
       "      <td>пенсионер</td>\n",
       "      <td>97511</td>\n",
       "      <td>операции с автомобилем</td>\n",
       "      <td>0</td>\n",
       "      <td>1</td>\n",
       "      <td>0.0</td>\n",
       "    </tr>\n",
       "    <tr>\n",
       "      <th>5</th>\n",
       "      <td>0</td>\n",
       "      <td>16013</td>\n",
       "      <td>58</td>\n",
       "      <td>1</td>\n",
       "      <td>4</td>\n",
       "      <td>F</td>\n",
       "      <td>пенсионер</td>\n",
       "      <td>52030</td>\n",
       "      <td>операции с недвижимостью</td>\n",
       "      <td>0</td>\n",
       "      <td>1</td>\n",
       "      <td>0.0</td>\n",
       "    </tr>\n",
       "    <tr>\n",
       "      <th>6</th>\n",
       "      <td>0</td>\n",
       "      <td>16011</td>\n",
       "      <td>63</td>\n",
       "      <td>1</td>\n",
       "      <td>0</td>\n",
       "      <td>F</td>\n",
       "      <td>пенсионер</td>\n",
       "      <td>71986</td>\n",
       "      <td>операции с недвижимостью</td>\n",
       "      <td>0</td>\n",
       "      <td>1</td>\n",
       "      <td>0.0</td>\n",
       "    </tr>\n",
       "    <tr>\n",
       "      <th>7</th>\n",
       "      <td>0</td>\n",
       "      <td>16020</td>\n",
       "      <td>54</td>\n",
       "      <td>1</td>\n",
       "      <td>1</td>\n",
       "      <td>F</td>\n",
       "      <td>пенсионер</td>\n",
       "      <td>147562</td>\n",
       "      <td>проведение свадьбы</td>\n",
       "      <td>0</td>\n",
       "      <td>1</td>\n",
       "      <td>0.0</td>\n",
       "    </tr>\n",
       "    <tr>\n",
       "      <th>8</th>\n",
       "      <td>0</td>\n",
       "      <td>16009</td>\n",
       "      <td>61</td>\n",
       "      <td>1</td>\n",
       "      <td>0</td>\n",
       "      <td>M</td>\n",
       "      <td>пенсионер</td>\n",
       "      <td>203444</td>\n",
       "      <td>операции с автомобилем</td>\n",
       "      <td>0</td>\n",
       "      <td>1</td>\n",
       "      <td>0.0</td>\n",
       "    </tr>\n",
       "    <tr>\n",
       "      <th>9</th>\n",
       "      <td>0</td>\n",
       "      <td>16008</td>\n",
       "      <td>51</td>\n",
       "      <td>1</td>\n",
       "      <td>0</td>\n",
       "      <td>F</td>\n",
       "      <td>пенсионер</td>\n",
       "      <td>54142</td>\n",
       "      <td>операции с автомобилем</td>\n",
       "      <td>0</td>\n",
       "      <td>1</td>\n",
       "      <td>0.0</td>\n",
       "    </tr>\n",
       "  </tbody>\n",
       "</table>\n",
       "</div>"
      ],
      "text/plain": [
       "   children  days_employed  dob_years  education_id  family_status_id gender  \\\n",
       "0         0             24         32             0                 4      M   \n",
       "1         0          16019         65             1                 2      F   \n",
       "2         0          16017         56             0                 0      M   \n",
       "3         0          16015         64             1                 1      F   \n",
       "4         0          16014         60             1                 4      F   \n",
       "5         0          16013         58             1                 4      F   \n",
       "6         0          16011         63             1                 0      F   \n",
       "7         0          16020         54             1                 1      F   \n",
       "8         0          16009         61             1                 0      M   \n",
       "9         0          16008         51             1                 0      F   \n",
       "\n",
       "  income_type  total_income          purpose_category  debt  total    %  \n",
       "0   сотрудник        124115     получение образования     0      1  0.0  \n",
       "1   пенсионер        198209     получение образования     0      1  0.0  \n",
       "2   пенсионер        160832  операции с недвижимостью     0      1  0.0  \n",
       "3   пенсионер         90782        проведение свадьбы     0      1  0.0  \n",
       "4   пенсионер         97511    операции с автомобилем     0      1  0.0  \n",
       "5   пенсионер         52030  операции с недвижимостью     0      1  0.0  \n",
       "6   пенсионер         71986  операции с недвижимостью     0      1  0.0  \n",
       "7   пенсионер        147562        проведение свадьбы     0      1  0.0  \n",
       "8   пенсионер        203444    операции с автомобилем     0      1  0.0  \n",
       "9   пенсионер         54142    операции с автомобилем     0      1  0.0  "
      ]
     },
     "metadata": {},
     "output_type": "display_data"
    }
   ],
   "source": [
    "# создание сводной таблицы\n",
    "report = df_new.pivot_table(index = ['children','days_employed', 'dob_years', 'education_id', 'family_status_id', 'gender',\n",
    "                                     'income_type', 'total_income', 'purpose_category'], values = 'debt', \n",
    "                            aggfunc = ['sum', 'count', 'mean'])\n",
    "\n",
    "# названия колонок\n",
    "report.columns = ['debt', 'total', '%']\n",
    "\n",
    "# сортировка\n",
    "report = report.sort_values(by = ['%'], ascending = True)\n",
    "report_pivot_with_reset_index = report.reset_index()\n",
    "display(report_pivot_with_reset_index.head(10))"
   ]
  },
  {
   "cell_type": "markdown",
   "id": "c4a20bb0",
   "metadata": {},
   "source": [
    "Если учитывать максимальное количество факторов (Количество детей, общий трудовой стаж в днях, возраст клиента в годах, образование, семейное положение, пол, типа занятости, доход, цель получения кредита), то самым надежным заемщиком будет являться: Человек не имеющий детей, с трудовым стажем в 24 дня, в возрасте 32 лет, высшим образованием, в семейном положение Не женат / не замужем, мужского пола, сотрудник, с доходом 124115 и целью взятия кредита на получение образования."
   ]
  }
 ],
 "metadata": {
  "ExecuteTimeLog": [
   {
    "duration": 814,
    "start_time": "2022-02-13T14:55:28.588Z"
   },
   {
    "duration": 59,
    "start_time": "2022-02-13T14:57:23.326Z"
   },
   {
    "duration": 26,
    "start_time": "2022-02-13T14:58:03.733Z"
   },
   {
    "duration": 12,
    "start_time": "2022-02-13T15:00:13.941Z"
   },
   {
    "duration": 10,
    "start_time": "2022-02-13T15:18:34.558Z"
   },
   {
    "duration": 10,
    "start_time": "2022-02-13T15:20:09.895Z"
   },
   {
    "duration": 11,
    "start_time": "2022-02-13T15:20:17.757Z"
   },
   {
    "duration": 10,
    "start_time": "2022-02-13T15:20:31.759Z"
   },
   {
    "duration": 12,
    "start_time": "2022-02-13T15:29:31.189Z"
   },
   {
    "duration": 8,
    "start_time": "2022-02-13T15:32:27.614Z"
   },
   {
    "duration": 9,
    "start_time": "2022-02-13T15:33:58.990Z"
   },
   {
    "duration": 6,
    "start_time": "2022-02-13T16:18:43.159Z"
   },
   {
    "duration": 4,
    "start_time": "2022-02-13T16:19:00.704Z"
   },
   {
    "duration": 4,
    "start_time": "2022-02-13T16:19:05.809Z"
   },
   {
    "duration": 5,
    "start_time": "2022-02-13T16:19:42.545Z"
   },
   {
    "duration": 4,
    "start_time": "2022-02-13T16:19:47.050Z"
   },
   {
    "duration": 4,
    "start_time": "2022-02-13T16:20:06.854Z"
   },
   {
    "duration": 1036,
    "start_time": "2022-02-13T16:21:22.379Z"
   },
   {
    "duration": 80,
    "start_time": "2022-02-13T16:21:23.419Z"
   },
   {
    "duration": 221,
    "start_time": "2022-02-13T16:21:23.503Z"
   },
   {
    "duration": 353,
    "start_time": "2022-02-13T16:21:23.727Z"
   },
   {
    "duration": 414,
    "start_time": "2022-02-13T16:21:24.084Z"
   },
   {
    "duration": 523,
    "start_time": "2022-02-13T16:21:24.501Z"
   },
   {
    "duration": 356,
    "start_time": "2022-02-13T16:21:25.027Z"
   },
   {
    "duration": 280,
    "start_time": "2022-02-13T16:21:25.386Z"
   },
   {
    "duration": 7,
    "start_time": "2022-02-13T16:54:39.071Z"
   },
   {
    "duration": 7,
    "start_time": "2022-02-13T17:02:48.861Z"
   },
   {
    "duration": 7,
    "start_time": "2022-02-13T17:03:47.704Z"
   },
   {
    "duration": 6,
    "start_time": "2022-02-13T17:04:34.297Z"
   },
   {
    "duration": 7,
    "start_time": "2022-02-13T17:05:08.734Z"
   },
   {
    "duration": 7,
    "start_time": "2022-02-13T17:05:54.622Z"
   },
   {
    "duration": 7,
    "start_time": "2022-02-13T17:07:21.622Z"
   },
   {
    "duration": 8,
    "start_time": "2022-02-13T17:07:54.302Z"
   },
   {
    "duration": 6,
    "start_time": "2022-02-13T17:08:41.722Z"
   },
   {
    "duration": 7,
    "start_time": "2022-02-13T17:09:06.251Z"
   },
   {
    "duration": 9,
    "start_time": "2022-02-13T17:09:27.062Z"
   },
   {
    "duration": 7,
    "start_time": "2022-02-13T17:15:11.748Z"
   },
   {
    "duration": 8,
    "start_time": "2022-02-13T17:16:58.462Z"
   },
   {
    "duration": 12,
    "start_time": "2022-02-13T17:27:01.513Z"
   },
   {
    "duration": 17,
    "start_time": "2022-02-13T17:28:04.776Z"
   },
   {
    "duration": 8,
    "start_time": "2022-02-13T17:29:12.264Z"
   },
   {
    "duration": 4043,
    "start_time": "2022-02-13T17:29:40.478Z"
   },
   {
    "duration": 1918,
    "start_time": "2022-02-13T17:29:42.606Z"
   },
   {
    "duration": 279,
    "start_time": "2022-02-13T17:34:55.615Z"
   },
   {
    "duration": 4,
    "start_time": "2022-02-13T17:35:02.816Z"
   },
   {
    "duration": 3776,
    "start_time": "2022-02-13T17:35:06.112Z"
   },
   {
    "duration": 2321,
    "start_time": "2022-02-13T17:35:07.571Z"
   },
   {
    "duration": 3814,
    "start_time": "2022-02-13T17:35:35.727Z"
   },
   {
    "duration": 734,
    "start_time": "2022-02-13T17:36:50.271Z"
   },
   {
    "duration": 61,
    "start_time": "2022-02-13T17:36:51.008Z"
   },
   {
    "duration": 31,
    "start_time": "2022-02-13T17:36:51.072Z"
   },
   {
    "duration": 31,
    "start_time": "2022-02-13T17:36:51.106Z"
   },
   {
    "duration": 13,
    "start_time": "2022-02-13T17:36:51.140Z"
   },
   {
    "duration": 4,
    "start_time": "2022-02-13T17:36:51.156Z"
   },
   {
    "duration": 8,
    "start_time": "2022-02-13T17:36:51.162Z"
   },
   {
    "duration": 15,
    "start_time": "2022-02-13T17:36:51.174Z"
   },
   {
    "duration": 7,
    "start_time": "2022-02-13T17:36:51.233Z"
   },
   {
    "duration": 10,
    "start_time": "2022-02-13T17:36:51.242Z"
   },
   {
    "duration": 17,
    "start_time": "2022-02-13T17:36:51.255Z"
   },
   {
    "duration": 8,
    "start_time": "2022-02-13T17:36:51.274Z"
   },
   {
    "duration": 50,
    "start_time": "2022-02-13T17:36:51.284Z"
   },
   {
    "duration": 7,
    "start_time": "2022-02-13T17:36:51.337Z"
   },
   {
    "duration": 10,
    "start_time": "2022-02-13T17:36:51.347Z"
   },
   {
    "duration": 13,
    "start_time": "2022-02-13T17:36:51.359Z"
   },
   {
    "duration": 10,
    "start_time": "2022-02-13T17:36:51.375Z"
   },
   {
    "duration": 49,
    "start_time": "2022-02-13T17:36:51.387Z"
   },
   {
    "duration": 7,
    "start_time": "2022-02-13T17:36:51.439Z"
   },
   {
    "duration": 9,
    "start_time": "2022-02-13T17:36:51.448Z"
   },
   {
    "duration": 18,
    "start_time": "2022-02-13T17:37:31.191Z"
   },
   {
    "duration": 8,
    "start_time": "2022-02-13T17:37:34.161Z"
   },
   {
    "duration": 5,
    "start_time": "2022-02-13T17:37:47.947Z"
   },
   {
    "duration": 9,
    "start_time": "2022-02-13T17:37:49.261Z"
   },
   {
    "duration": 6,
    "start_time": "2022-02-13T17:38:02.169Z"
   },
   {
    "duration": 9,
    "start_time": "2022-02-13T17:38:03.832Z"
   },
   {
    "duration": 366,
    "start_time": "2022-02-13T17:46:29.025Z"
   },
   {
    "duration": 386,
    "start_time": "2022-02-13T17:49:04.825Z"
   },
   {
    "duration": 8,
    "start_time": "2022-02-13T17:49:23.562Z"
   },
   {
    "duration": 9,
    "start_time": "2022-02-13T17:49:47.421Z"
   },
   {
    "duration": 291,
    "start_time": "2022-02-13T17:51:22.217Z"
   },
   {
    "duration": 290,
    "start_time": "2022-02-13T17:52:27.867Z"
   },
   {
    "duration": 21,
    "start_time": "2022-02-13T17:52:38.370Z"
   },
   {
    "duration": 22,
    "start_time": "2022-02-13T17:52:42.167Z"
   },
   {
    "duration": 7,
    "start_time": "2022-02-13T18:33:20.297Z"
   },
   {
    "duration": 8,
    "start_time": "2022-02-13T18:33:22.056Z"
   },
   {
    "duration": 6,
    "start_time": "2022-02-13T18:33:34.480Z"
   },
   {
    "duration": 8,
    "start_time": "2022-02-13T18:33:40.952Z"
   },
   {
    "duration": 9,
    "start_time": "2022-02-13T18:33:57.856Z"
   },
   {
    "duration": 7,
    "start_time": "2022-02-13T18:34:11.472Z"
   },
   {
    "duration": 3,
    "start_time": "2022-02-13T18:34:17.705Z"
   },
   {
    "duration": 7,
    "start_time": "2022-02-13T18:34:20.104Z"
   },
   {
    "duration": 3,
    "start_time": "2022-02-13T18:34:25.787Z"
   },
   {
    "duration": 802,
    "start_time": "2022-02-13T18:35:11.004Z"
   },
   {
    "duration": 66,
    "start_time": "2022-02-13T18:35:11.809Z"
   },
   {
    "duration": 34,
    "start_time": "2022-02-13T18:35:11.878Z"
   },
   {
    "duration": 29,
    "start_time": "2022-02-13T18:35:11.931Z"
   },
   {
    "duration": 14,
    "start_time": "2022-02-13T18:35:11.963Z"
   },
   {
    "duration": 5,
    "start_time": "2022-02-13T18:35:11.980Z"
   },
   {
    "duration": 46,
    "start_time": "2022-02-13T18:35:11.988Z"
   },
   {
    "duration": 17,
    "start_time": "2022-02-13T18:35:12.039Z"
   },
   {
    "duration": 12,
    "start_time": "2022-02-13T18:35:12.060Z"
   },
   {
    "duration": 10,
    "start_time": "2022-02-13T18:35:12.075Z"
   },
   {
    "duration": 48,
    "start_time": "2022-02-13T18:35:12.089Z"
   },
   {
    "duration": 8,
    "start_time": "2022-02-13T18:35:12.140Z"
   },
   {
    "duration": 21,
    "start_time": "2022-02-13T18:35:12.150Z"
   },
   {
    "duration": 36,
    "start_time": "2022-02-13T18:35:12.174Z"
   },
   {
    "duration": 11,
    "start_time": "2022-02-13T18:35:12.213Z"
   },
   {
    "duration": 14,
    "start_time": "2022-02-13T18:35:12.235Z"
   },
   {
    "duration": 7,
    "start_time": "2022-02-13T18:35:12.251Z"
   },
   {
    "duration": 16,
    "start_time": "2022-02-13T18:35:12.260Z"
   },
   {
    "duration": 8,
    "start_time": "2022-02-13T18:35:12.278Z"
   },
   {
    "duration": 44,
    "start_time": "2022-02-13T18:35:12.289Z"
   },
   {
    "duration": 10,
    "start_time": "2022-02-13T18:35:12.336Z"
   },
   {
    "duration": 248,
    "start_time": "2022-02-14T15:07:44.375Z"
   },
   {
    "duration": 590,
    "start_time": "2022-02-14T15:08:57.621Z"
   },
   {
    "duration": 53,
    "start_time": "2022-02-14T15:08:58.213Z"
   },
   {
    "duration": 20,
    "start_time": "2022-02-14T15:08:58.268Z"
   },
   {
    "duration": 15,
    "start_time": "2022-02-14T15:08:58.289Z"
   },
   {
    "duration": 12,
    "start_time": "2022-02-14T15:08:58.306Z"
   },
   {
    "duration": 7,
    "start_time": "2022-02-14T15:08:58.319Z"
   },
   {
    "duration": 13,
    "start_time": "2022-02-14T15:08:58.327Z"
   },
   {
    "duration": 12,
    "start_time": "2022-02-14T15:08:58.343Z"
   },
   {
    "duration": 5,
    "start_time": "2022-02-14T15:08:58.357Z"
   },
   {
    "duration": 7,
    "start_time": "2022-02-14T15:08:58.363Z"
   },
   {
    "duration": 30,
    "start_time": "2022-02-14T15:08:58.372Z"
   },
   {
    "duration": 9,
    "start_time": "2022-02-14T15:08:58.404Z"
   },
   {
    "duration": 7,
    "start_time": "2022-02-14T15:08:58.415Z"
   },
   {
    "duration": 16,
    "start_time": "2022-02-14T15:08:58.423Z"
   },
   {
    "duration": 10,
    "start_time": "2022-02-14T15:08:58.441Z"
   },
   {
    "duration": 8,
    "start_time": "2022-02-14T15:08:58.452Z"
   },
   {
    "duration": 39,
    "start_time": "2022-02-14T15:08:58.462Z"
   },
   {
    "duration": 5,
    "start_time": "2022-02-14T15:08:58.503Z"
   },
   {
    "duration": 8,
    "start_time": "2022-02-14T15:08:58.510Z"
   },
   {
    "duration": 6,
    "start_time": "2022-02-14T15:08:58.520Z"
   },
   {
    "duration": 11,
    "start_time": "2022-02-14T15:08:58.527Z"
   },
   {
    "duration": 7,
    "start_time": "2022-02-14T15:10:10.881Z"
   },
   {
    "duration": 8,
    "start_time": "2022-02-14T15:12:11.159Z"
   },
   {
    "duration": 306,
    "start_time": "2022-02-14T15:24:27.786Z"
   },
   {
    "duration": 2904,
    "start_time": "2022-02-14T15:26:14.784Z"
   },
   {
    "duration": 3399,
    "start_time": "2022-02-14T15:26:23.988Z"
   },
   {
    "duration": 6,
    "start_time": "2022-02-14T15:28:41.785Z"
   },
   {
    "duration": 3267,
    "start_time": "2022-02-14T15:28:58.560Z"
   },
   {
    "duration": 2881,
    "start_time": "2022-02-14T15:29:22.367Z"
   },
   {
    "duration": 583,
    "start_time": "2022-02-14T15:29:44.434Z"
   },
   {
    "duration": 54,
    "start_time": "2022-02-14T15:29:45.019Z"
   },
   {
    "duration": 20,
    "start_time": "2022-02-14T15:29:45.075Z"
   },
   {
    "duration": 15,
    "start_time": "2022-02-14T15:29:45.098Z"
   },
   {
    "duration": 9,
    "start_time": "2022-02-14T15:29:45.115Z"
   },
   {
    "duration": 3,
    "start_time": "2022-02-14T15:29:45.126Z"
   },
   {
    "duration": 11,
    "start_time": "2022-02-14T15:29:45.130Z"
   },
   {
    "duration": 10,
    "start_time": "2022-02-14T15:29:45.144Z"
   },
   {
    "duration": 4,
    "start_time": "2022-02-14T15:29:45.156Z"
   },
   {
    "duration": 38,
    "start_time": "2022-02-14T15:29:45.161Z"
   },
   {
    "duration": 7,
    "start_time": "2022-02-14T15:29:45.201Z"
   },
   {
    "duration": 14,
    "start_time": "2022-02-14T15:29:45.210Z"
   },
   {
    "duration": 10,
    "start_time": "2022-02-14T15:29:45.226Z"
   },
   {
    "duration": 13,
    "start_time": "2022-02-14T15:29:45.237Z"
   },
   {
    "duration": 10,
    "start_time": "2022-02-14T15:29:45.252Z"
   },
   {
    "duration": 6,
    "start_time": "2022-02-14T15:29:45.264Z"
   },
   {
    "duration": 31,
    "start_time": "2022-02-14T15:29:45.272Z"
   },
   {
    "duration": 7,
    "start_time": "2022-02-14T15:29:45.305Z"
   },
   {
    "duration": 5,
    "start_time": "2022-02-14T15:29:45.314Z"
   },
   {
    "duration": 10,
    "start_time": "2022-02-14T15:29:45.321Z"
   },
   {
    "duration": 7,
    "start_time": "2022-02-14T15:29:45.333Z"
   },
   {
    "duration": 10,
    "start_time": "2022-02-14T15:29:45.342Z"
   },
   {
    "duration": 8,
    "start_time": "2022-02-14T15:29:45.354Z"
   },
   {
    "duration": 34,
    "start_time": "2022-02-14T15:29:45.364Z"
   },
   {
    "duration": 5,
    "start_time": "2022-02-14T15:29:45.400Z"
   },
   {
    "duration": 11,
    "start_time": "2022-02-14T15:29:45.406Z"
   },
   {
    "duration": 5,
    "start_time": "2022-02-14T15:30:02.702Z"
   },
   {
    "duration": 3072,
    "start_time": "2022-02-14T15:30:05.240Z"
   },
   {
    "duration": 602,
    "start_time": "2022-02-14T15:30:18.250Z"
   },
   {
    "duration": 55,
    "start_time": "2022-02-14T15:30:18.854Z"
   },
   {
    "duration": 22,
    "start_time": "2022-02-14T15:30:18.911Z"
   },
   {
    "duration": 13,
    "start_time": "2022-02-14T15:30:18.936Z"
   },
   {
    "duration": 9,
    "start_time": "2022-02-14T15:30:18.951Z"
   },
   {
    "duration": 4,
    "start_time": "2022-02-14T15:30:18.962Z"
   },
   {
    "duration": 7,
    "start_time": "2022-02-14T15:30:18.999Z"
   },
   {
    "duration": 13,
    "start_time": "2022-02-14T15:30:19.009Z"
   },
   {
    "duration": 4,
    "start_time": "2022-02-14T15:30:19.024Z"
   },
   {
    "duration": 8,
    "start_time": "2022-02-14T15:30:19.029Z"
   },
   {
    "duration": 8,
    "start_time": "2022-02-14T15:30:19.039Z"
   },
   {
    "duration": 7,
    "start_time": "2022-02-14T15:30:19.048Z"
   },
   {
    "duration": 8,
    "start_time": "2022-02-14T15:30:19.057Z"
   },
   {
    "duration": 45,
    "start_time": "2022-02-14T15:30:19.066Z"
   },
   {
    "duration": 11,
    "start_time": "2022-02-14T15:30:19.113Z"
   },
   {
    "duration": 8,
    "start_time": "2022-02-14T15:30:19.126Z"
   },
   {
    "duration": 13,
    "start_time": "2022-02-14T15:30:19.136Z"
   },
   {
    "duration": 6,
    "start_time": "2022-02-14T15:30:19.151Z"
   },
   {
    "duration": 7,
    "start_time": "2022-02-14T15:30:19.159Z"
   },
   {
    "duration": 37,
    "start_time": "2022-02-14T15:30:19.168Z"
   },
   {
    "duration": 11,
    "start_time": "2022-02-14T15:30:19.207Z"
   },
   {
    "duration": 3053,
    "start_time": "2022-02-14T15:30:19.220Z"
   },
   {
    "duration": 3718,
    "start_time": "2022-02-14T15:30:18.558Z"
   },
   {
    "duration": 3704,
    "start_time": "2022-02-14T15:30:18.574Z"
   },
   {
    "duration": 3698,
    "start_time": "2022-02-14T15:30:18.581Z"
   },
   {
    "duration": 3696,
    "start_time": "2022-02-14T15:30:18.585Z"
   },
   {
    "duration": 3230,
    "start_time": "2022-02-14T15:38:36.720Z"
   },
   {
    "duration": 773,
    "start_time": "2022-02-14T15:40:55.773Z"
   },
   {
    "duration": 57,
    "start_time": "2022-02-14T15:40:56.548Z"
   },
   {
    "duration": 21,
    "start_time": "2022-02-14T15:40:56.607Z"
   },
   {
    "duration": 16,
    "start_time": "2022-02-14T15:40:56.630Z"
   },
   {
    "duration": 11,
    "start_time": "2022-02-14T15:40:56.648Z"
   },
   {
    "duration": 4,
    "start_time": "2022-02-14T15:40:56.660Z"
   },
   {
    "duration": 36,
    "start_time": "2022-02-14T15:40:56.666Z"
   },
   {
    "duration": 11,
    "start_time": "2022-02-14T15:40:56.705Z"
   },
   {
    "duration": 5,
    "start_time": "2022-02-14T15:40:56.718Z"
   },
   {
    "duration": 8,
    "start_time": "2022-02-14T15:40:56.725Z"
   },
   {
    "duration": 7,
    "start_time": "2022-02-14T15:40:56.734Z"
   },
   {
    "duration": 17,
    "start_time": "2022-02-14T15:40:56.742Z"
   },
   {
    "duration": 7,
    "start_time": "2022-02-14T15:40:56.761Z"
   },
   {
    "duration": 14,
    "start_time": "2022-02-14T15:40:56.798Z"
   },
   {
    "duration": 10,
    "start_time": "2022-02-14T15:40:56.814Z"
   },
   {
    "duration": 6,
    "start_time": "2022-02-14T15:40:56.825Z"
   },
   {
    "duration": 7,
    "start_time": "2022-02-14T15:40:56.833Z"
   },
   {
    "duration": 6,
    "start_time": "2022-02-14T15:40:56.842Z"
   },
   {
    "duration": 6,
    "start_time": "2022-02-14T15:40:56.850Z"
   },
   {
    "duration": 50,
    "start_time": "2022-02-14T15:40:56.858Z"
   },
   {
    "duration": 784,
    "start_time": "2022-02-14T15:40:56.910Z"
   },
   {
    "duration": 3736,
    "start_time": "2022-02-14T15:40:53.961Z"
   },
   {
    "duration": 3726,
    "start_time": "2022-02-14T15:40:53.972Z"
   },
   {
    "duration": 3711,
    "start_time": "2022-02-14T15:40:53.988Z"
   },
   {
    "duration": 3708,
    "start_time": "2022-02-14T15:40:53.992Z"
   },
   {
    "duration": 3698,
    "start_time": "2022-02-14T15:40:54.003Z"
   },
   {
    "duration": 4,
    "start_time": "2022-02-14T15:42:11.864Z"
   },
   {
    "duration": 6,
    "start_time": "2022-02-14T15:42:23.911Z"
   },
   {
    "duration": 2117,
    "start_time": "2022-02-14T15:42:30.206Z"
   },
   {
    "duration": 595,
    "start_time": "2022-02-14T15:42:58.349Z"
   },
   {
    "duration": 67,
    "start_time": "2022-02-14T15:42:58.945Z"
   },
   {
    "duration": 23,
    "start_time": "2022-02-14T15:42:59.014Z"
   },
   {
    "duration": 12,
    "start_time": "2022-02-14T15:42:59.039Z"
   },
   {
    "duration": 10,
    "start_time": "2022-02-14T15:42:59.053Z"
   },
   {
    "duration": 4,
    "start_time": "2022-02-14T15:42:59.064Z"
   },
   {
    "duration": 35,
    "start_time": "2022-02-14T15:42:59.070Z"
   },
   {
    "duration": 14,
    "start_time": "2022-02-14T15:42:59.109Z"
   },
   {
    "duration": 6,
    "start_time": "2022-02-14T15:42:59.126Z"
   },
   {
    "duration": 7,
    "start_time": "2022-02-14T15:42:59.134Z"
   },
   {
    "duration": 6,
    "start_time": "2022-02-14T15:42:59.143Z"
   },
   {
    "duration": 49,
    "start_time": "2022-02-14T15:42:59.151Z"
   },
   {
    "duration": 7,
    "start_time": "2022-02-14T15:42:59.202Z"
   },
   {
    "duration": 14,
    "start_time": "2022-02-14T15:42:59.211Z"
   },
   {
    "duration": 13,
    "start_time": "2022-02-14T15:42:59.228Z"
   },
   {
    "duration": 8,
    "start_time": "2022-02-14T15:42:59.242Z"
   },
   {
    "duration": 20,
    "start_time": "2022-02-14T15:42:59.251Z"
   },
   {
    "duration": 26,
    "start_time": "2022-02-14T15:42:59.273Z"
   },
   {
    "duration": 5,
    "start_time": "2022-02-14T15:42:59.301Z"
   },
   {
    "duration": 11,
    "start_time": "2022-02-14T15:42:59.308Z"
   },
   {
    "duration": 10,
    "start_time": "2022-02-14T15:42:59.320Z"
   },
   {
    "duration": 10,
    "start_time": "2022-02-14T15:42:59.332Z"
   },
   {
    "duration": 3,
    "start_time": "2022-02-14T15:42:59.345Z"
   },
   {
    "duration": 9,
    "start_time": "2022-02-14T15:42:59.349Z"
   },
   {
    "duration": 7,
    "start_time": "2022-02-14T15:42:59.359Z"
   },
   {
    "duration": 6,
    "start_time": "2022-02-14T15:42:59.398Z"
   },
   {
    "duration": 5,
    "start_time": "2022-02-14T15:43:39.295Z"
   },
   {
    "duration": 3353,
    "start_time": "2022-02-14T15:43:42.832Z"
   },
   {
    "duration": 651,
    "start_time": "2022-02-14T15:43:59.976Z"
   },
   {
    "duration": 57,
    "start_time": "2022-02-14T15:44:00.629Z"
   },
   {
    "duration": 22,
    "start_time": "2022-02-14T15:44:00.691Z"
   },
   {
    "duration": 18,
    "start_time": "2022-02-14T15:44:00.715Z"
   },
   {
    "duration": 17,
    "start_time": "2022-02-14T15:44:00.734Z"
   },
   {
    "duration": 17,
    "start_time": "2022-02-14T15:44:00.752Z"
   },
   {
    "duration": 16,
    "start_time": "2022-02-14T15:44:00.771Z"
   },
   {
    "duration": 17,
    "start_time": "2022-02-14T15:44:00.789Z"
   },
   {
    "duration": 16,
    "start_time": "2022-02-14T15:44:00.808Z"
   },
   {
    "duration": 17,
    "start_time": "2022-02-14T15:44:00.826Z"
   },
   {
    "duration": 30,
    "start_time": "2022-02-14T15:44:00.845Z"
   },
   {
    "duration": 28,
    "start_time": "2022-02-14T15:44:00.877Z"
   },
   {
    "duration": 11,
    "start_time": "2022-02-14T15:44:00.907Z"
   },
   {
    "duration": 24,
    "start_time": "2022-02-14T15:44:00.920Z"
   },
   {
    "duration": 24,
    "start_time": "2022-02-14T15:44:00.946Z"
   },
   {
    "duration": 14,
    "start_time": "2022-02-14T15:44:00.972Z"
   },
   {
    "duration": 13,
    "start_time": "2022-02-14T15:44:00.987Z"
   },
   {
    "duration": 27,
    "start_time": "2022-02-14T15:44:01.001Z"
   },
   {
    "duration": 14,
    "start_time": "2022-02-14T15:44:01.030Z"
   },
   {
    "duration": 19,
    "start_time": "2022-02-14T15:44:01.046Z"
   },
   {
    "duration": 17,
    "start_time": "2022-02-14T15:44:01.067Z"
   },
   {
    "duration": 2955,
    "start_time": "2022-02-14T15:44:01.087Z"
   },
   {
    "duration": 3671,
    "start_time": "2022-02-14T15:44:00.374Z"
   },
   {
    "duration": 3666,
    "start_time": "2022-02-14T15:44:00.380Z"
   },
   {
    "duration": 3661,
    "start_time": "2022-02-14T15:44:00.385Z"
   },
   {
    "duration": 3656,
    "start_time": "2022-02-14T15:44:00.391Z"
   },
   {
    "duration": 2848,
    "start_time": "2022-02-14T15:44:15.984Z"
   },
   {
    "duration": 3293,
    "start_time": "2022-02-14T15:44:18.978Z"
   },
   {
    "duration": 2921,
    "start_time": "2022-02-14T15:44:31.399Z"
   },
   {
    "duration": 618,
    "start_time": "2022-02-14T15:44:40.205Z"
   },
   {
    "duration": 57,
    "start_time": "2022-02-14T15:44:40.825Z"
   },
   {
    "duration": 21,
    "start_time": "2022-02-14T15:44:40.885Z"
   },
   {
    "duration": 13,
    "start_time": "2022-02-14T15:44:40.908Z"
   },
   {
    "duration": 11,
    "start_time": "2022-02-14T15:44:40.923Z"
   },
   {
    "duration": 4,
    "start_time": "2022-02-14T15:44:40.935Z"
   },
   {
    "duration": 12,
    "start_time": "2022-02-14T15:44:40.941Z"
   },
   {
    "duration": 12,
    "start_time": "2022-02-14T15:44:40.955Z"
   },
   {
    "duration": 5,
    "start_time": "2022-02-14T15:44:40.998Z"
   },
   {
    "duration": 11,
    "start_time": "2022-02-14T15:44:41.005Z"
   },
   {
    "duration": 5,
    "start_time": "2022-02-14T15:44:41.018Z"
   },
   {
    "duration": 15,
    "start_time": "2022-02-14T15:44:41.025Z"
   },
   {
    "duration": 8,
    "start_time": "2022-02-14T15:44:41.042Z"
   },
   {
    "duration": 20,
    "start_time": "2022-02-14T15:44:41.052Z"
   },
   {
    "duration": 27,
    "start_time": "2022-02-14T15:44:41.075Z"
   },
   {
    "duration": 4,
    "start_time": "2022-02-14T15:44:41.104Z"
   },
   {
    "duration": 8,
    "start_time": "2022-02-14T15:44:41.110Z"
   },
   {
    "duration": 7,
    "start_time": "2022-02-14T15:44:41.120Z"
   },
   {
    "duration": 9,
    "start_time": "2022-02-14T15:44:41.129Z"
   },
   {
    "duration": 11,
    "start_time": "2022-02-14T15:44:41.140Z"
   },
   {
    "duration": 12,
    "start_time": "2022-02-14T15:44:41.153Z"
   },
   {
    "duration": 7,
    "start_time": "2022-02-14T15:44:41.199Z"
   },
   {
    "duration": 2,
    "start_time": "2022-02-14T15:44:41.210Z"
   },
   {
    "duration": 6,
    "start_time": "2022-02-14T15:44:41.214Z"
   },
   {
    "duration": 5,
    "start_time": "2022-02-14T15:44:41.222Z"
   },
   {
    "duration": 7,
    "start_time": "2022-02-14T15:44:41.228Z"
   },
   {
    "duration": 7,
    "start_time": "2022-02-14T15:45:07.690Z"
   },
   {
    "duration": 7,
    "start_time": "2022-02-14T15:45:13.323Z"
   },
   {
    "duration": 5,
    "start_time": "2022-02-14T15:46:00.570Z"
   },
   {
    "duration": 8,
    "start_time": "2022-02-14T15:46:04.610Z"
   },
   {
    "duration": 6,
    "start_time": "2022-02-14T15:46:29.845Z"
   },
   {
    "duration": 8,
    "start_time": "2022-02-14T15:46:32.010Z"
   },
   {
    "duration": 6,
    "start_time": "2022-02-14T15:47:01.060Z"
   },
   {
    "duration": 5,
    "start_time": "2022-02-14T15:47:27.068Z"
   },
   {
    "duration": 8,
    "start_time": "2022-02-14T15:47:29.314Z"
   },
   {
    "duration": 5,
    "start_time": "2022-02-14T15:47:36.939Z"
   },
   {
    "duration": 6,
    "start_time": "2022-02-14T15:47:37.765Z"
   },
   {
    "duration": 8,
    "start_time": "2022-02-14T15:47:38.506Z"
   },
   {
    "duration": 4,
    "start_time": "2022-02-14T15:47:49.555Z"
   },
   {
    "duration": 5,
    "start_time": "2022-02-14T15:47:53.042Z"
   },
   {
    "duration": 8,
    "start_time": "2022-02-14T15:47:57.338Z"
   },
   {
    "duration": 614,
    "start_time": "2022-02-14T15:48:05.443Z"
   },
   {
    "duration": 67,
    "start_time": "2022-02-14T15:48:06.059Z"
   },
   {
    "duration": 23,
    "start_time": "2022-02-14T15:48:06.128Z"
   },
   {
    "duration": 27,
    "start_time": "2022-02-14T15:48:06.153Z"
   },
   {
    "duration": 17,
    "start_time": "2022-02-14T15:48:06.182Z"
   },
   {
    "duration": 23,
    "start_time": "2022-02-14T15:48:06.201Z"
   },
   {
    "duration": 34,
    "start_time": "2022-02-14T15:48:06.226Z"
   },
   {
    "duration": 27,
    "start_time": "2022-02-14T15:48:06.263Z"
   },
   {
    "duration": 17,
    "start_time": "2022-02-14T15:48:06.292Z"
   },
   {
    "duration": 18,
    "start_time": "2022-02-14T15:48:06.311Z"
   },
   {
    "duration": 7,
    "start_time": "2022-02-14T15:48:06.331Z"
   },
   {
    "duration": 8,
    "start_time": "2022-02-14T15:48:06.340Z"
   },
   {
    "duration": 6,
    "start_time": "2022-02-14T15:48:06.350Z"
   },
   {
    "duration": 14,
    "start_time": "2022-02-14T15:48:06.358Z"
   },
   {
    "duration": 25,
    "start_time": "2022-02-14T15:48:06.374Z"
   },
   {
    "duration": 4,
    "start_time": "2022-02-14T15:48:06.401Z"
   },
   {
    "duration": 9,
    "start_time": "2022-02-14T15:48:06.407Z"
   },
   {
    "duration": 14,
    "start_time": "2022-02-14T15:48:06.418Z"
   },
   {
    "duration": 6,
    "start_time": "2022-02-14T15:48:06.434Z"
   },
   {
    "duration": 17,
    "start_time": "2022-02-14T15:48:06.442Z"
   },
   {
    "duration": 5,
    "start_time": "2022-02-14T15:48:06.461Z"
   },
   {
    "duration": 12,
    "start_time": "2022-02-14T15:48:06.468Z"
   },
   {
    "duration": 8,
    "start_time": "2022-02-14T15:48:06.501Z"
   },
   {
    "duration": 7,
    "start_time": "2022-02-14T15:48:06.512Z"
   },
   {
    "duration": 5,
    "start_time": "2022-02-14T15:48:06.521Z"
   },
   {
    "duration": 5,
    "start_time": "2022-02-14T15:48:06.528Z"
   },
   {
    "duration": 9,
    "start_time": "2022-02-14T15:48:06.535Z"
   },
   {
    "duration": 5,
    "start_time": "2022-02-14T15:49:06.516Z"
   },
   {
    "duration": 2950,
    "start_time": "2022-02-14T15:49:08.970Z"
   },
   {
    "duration": 4,
    "start_time": "2022-02-14T15:49:21.986Z"
   },
   {
    "duration": 3496,
    "start_time": "2022-02-14T15:49:25.332Z"
   },
   {
    "duration": 239,
    "start_time": "2022-02-14T15:55:11.019Z"
   },
   {
    "duration": 211,
    "start_time": "2022-02-14T15:55:16.850Z"
   },
   {
    "duration": 3259,
    "start_time": "2022-02-14T15:57:01.339Z"
   },
   {
    "duration": 579,
    "start_time": "2022-02-14T15:58:06.753Z"
   },
   {
    "duration": 57,
    "start_time": "2022-02-14T15:58:07.334Z"
   },
   {
    "duration": 23,
    "start_time": "2022-02-14T15:58:07.395Z"
   },
   {
    "duration": 16,
    "start_time": "2022-02-14T15:58:07.420Z"
   },
   {
    "duration": 11,
    "start_time": "2022-02-14T15:58:07.439Z"
   },
   {
    "duration": 4,
    "start_time": "2022-02-14T15:58:07.452Z"
   },
   {
    "duration": 42,
    "start_time": "2022-02-14T15:58:07.460Z"
   },
   {
    "duration": 17,
    "start_time": "2022-02-14T15:58:07.505Z"
   },
   {
    "duration": 5,
    "start_time": "2022-02-14T15:58:07.525Z"
   },
   {
    "duration": 8,
    "start_time": "2022-02-14T15:58:07.532Z"
   },
   {
    "duration": 6,
    "start_time": "2022-02-14T15:58:07.542Z"
   },
   {
    "duration": 10,
    "start_time": "2022-02-14T15:58:07.550Z"
   },
   {
    "duration": 37,
    "start_time": "2022-02-14T15:58:07.562Z"
   },
   {
    "duration": 13,
    "start_time": "2022-02-14T15:58:07.601Z"
   },
   {
    "duration": 9,
    "start_time": "2022-02-14T15:58:07.616Z"
   },
   {
    "duration": 9,
    "start_time": "2022-02-14T15:58:07.627Z"
   },
   {
    "duration": 7,
    "start_time": "2022-02-14T15:58:07.638Z"
   },
   {
    "duration": 6,
    "start_time": "2022-02-14T15:58:07.646Z"
   },
   {
    "duration": 7,
    "start_time": "2022-02-14T15:58:07.653Z"
   },
   {
    "duration": 40,
    "start_time": "2022-02-14T15:58:07.661Z"
   },
   {
    "duration": 6,
    "start_time": "2022-02-14T15:58:07.703Z"
   },
   {
    "duration": 6,
    "start_time": "2022-02-14T15:58:07.711Z"
   },
   {
    "duration": 11,
    "start_time": "2022-02-14T15:58:07.719Z"
   },
   {
    "duration": 6,
    "start_time": "2022-02-14T15:58:07.732Z"
   },
   {
    "duration": 14,
    "start_time": "2022-02-14T15:58:07.740Z"
   },
   {
    "duration": 4,
    "start_time": "2022-02-14T15:58:07.756Z"
   },
   {
    "duration": 8,
    "start_time": "2022-02-14T15:58:07.762Z"
   },
   {
    "duration": 12,
    "start_time": "2022-02-14T15:58:16.436Z"
   },
   {
    "duration": 7,
    "start_time": "2022-02-14T15:58:20.206Z"
   },
   {
    "duration": 656,
    "start_time": "2022-02-14T15:58:30.258Z"
   },
   {
    "duration": 56,
    "start_time": "2022-02-14T15:58:30.916Z"
   },
   {
    "duration": 25,
    "start_time": "2022-02-14T15:58:30.974Z"
   },
   {
    "duration": 15,
    "start_time": "2022-02-14T15:58:31.001Z"
   },
   {
    "duration": 20,
    "start_time": "2022-02-14T15:58:31.018Z"
   },
   {
    "duration": 10,
    "start_time": "2022-02-14T15:58:31.040Z"
   },
   {
    "duration": 12,
    "start_time": "2022-02-14T15:58:31.052Z"
   },
   {
    "duration": 19,
    "start_time": "2022-02-14T15:58:31.067Z"
   },
   {
    "duration": 13,
    "start_time": "2022-02-14T15:58:31.089Z"
   },
   {
    "duration": 11,
    "start_time": "2022-02-14T15:58:31.104Z"
   },
   {
    "duration": 11,
    "start_time": "2022-02-14T15:58:31.116Z"
   },
   {
    "duration": 18,
    "start_time": "2022-02-14T15:58:31.129Z"
   },
   {
    "duration": 9,
    "start_time": "2022-02-14T15:58:31.149Z"
   },
   {
    "duration": 14,
    "start_time": "2022-02-14T15:58:31.160Z"
   },
   {
    "duration": 33,
    "start_time": "2022-02-14T15:58:31.176Z"
   },
   {
    "duration": 7,
    "start_time": "2022-02-14T15:58:31.210Z"
   },
   {
    "duration": 8,
    "start_time": "2022-02-14T15:58:31.219Z"
   },
   {
    "duration": 7,
    "start_time": "2022-02-14T15:58:31.229Z"
   },
   {
    "duration": 9,
    "start_time": "2022-02-14T15:58:31.238Z"
   },
   {
    "duration": 11,
    "start_time": "2022-02-14T15:58:31.249Z"
   },
   {
    "duration": 8,
    "start_time": "2022-02-14T15:58:31.262Z"
   },
   {
    "duration": 39,
    "start_time": "2022-02-14T15:58:31.272Z"
   },
   {
    "duration": 10,
    "start_time": "2022-02-14T15:58:31.314Z"
   },
   {
    "duration": 4,
    "start_time": "2022-02-14T15:58:31.326Z"
   },
   {
    "duration": 5,
    "start_time": "2022-02-14T15:58:31.332Z"
   },
   {
    "duration": 6,
    "start_time": "2022-02-14T15:58:31.339Z"
   },
   {
    "duration": 5,
    "start_time": "2022-02-14T15:58:31.347Z"
   },
   {
    "duration": 4,
    "start_time": "2022-02-14T15:59:18.013Z"
   },
   {
    "duration": 14,
    "start_time": "2022-02-14T15:59:18.612Z"
   },
   {
    "duration": 9,
    "start_time": "2022-02-14T15:59:19.603Z"
   },
   {
    "duration": 5,
    "start_time": "2022-02-14T15:59:40.604Z"
   },
   {
    "duration": 9,
    "start_time": "2022-02-14T15:59:41.252Z"
   },
   {
    "duration": 605,
    "start_time": "2022-02-14T15:59:50.031Z"
   },
   {
    "duration": 55,
    "start_time": "2022-02-14T15:59:50.640Z"
   },
   {
    "duration": 20,
    "start_time": "2022-02-14T15:59:50.697Z"
   },
   {
    "duration": 14,
    "start_time": "2022-02-14T15:59:50.719Z"
   },
   {
    "duration": 10,
    "start_time": "2022-02-14T15:59:50.735Z"
   },
   {
    "duration": 4,
    "start_time": "2022-02-14T15:59:50.747Z"
   },
   {
    "duration": 45,
    "start_time": "2022-02-14T15:59:50.753Z"
   },
   {
    "duration": 11,
    "start_time": "2022-02-14T15:59:50.801Z"
   },
   {
    "duration": 5,
    "start_time": "2022-02-14T15:59:50.814Z"
   },
   {
    "duration": 9,
    "start_time": "2022-02-14T15:59:50.821Z"
   },
   {
    "duration": 6,
    "start_time": "2022-02-14T15:59:50.831Z"
   },
   {
    "duration": 13,
    "start_time": "2022-02-14T15:59:50.839Z"
   },
   {
    "duration": 6,
    "start_time": "2022-02-14T15:59:50.854Z"
   },
   {
    "duration": 48,
    "start_time": "2022-02-14T15:59:50.862Z"
   },
   {
    "duration": 15,
    "start_time": "2022-02-14T15:59:50.911Z"
   },
   {
    "duration": 6,
    "start_time": "2022-02-14T15:59:50.928Z"
   },
   {
    "duration": 8,
    "start_time": "2022-02-14T15:59:50.936Z"
   },
   {
    "duration": 8,
    "start_time": "2022-02-14T15:59:50.946Z"
   },
   {
    "duration": 7,
    "start_time": "2022-02-14T15:59:50.956Z"
   },
   {
    "duration": 42,
    "start_time": "2022-02-14T15:59:50.964Z"
   },
   {
    "duration": 10,
    "start_time": "2022-02-14T15:59:51.008Z"
   },
   {
    "duration": 11,
    "start_time": "2022-02-14T15:59:51.020Z"
   },
   {
    "duration": 9,
    "start_time": "2022-02-14T15:59:51.035Z"
   },
   {
    "duration": 5,
    "start_time": "2022-02-14T15:59:51.045Z"
   },
   {
    "duration": 5,
    "start_time": "2022-02-14T15:59:51.052Z"
   },
   {
    "duration": 5,
    "start_time": "2022-02-14T15:59:51.058Z"
   },
   {
    "duration": 5,
    "start_time": "2022-02-14T15:59:51.065Z"
   },
   {
    "duration": 284,
    "start_time": "2022-02-14T16:47:03.697Z"
   },
   {
    "duration": 224,
    "start_time": "2022-02-14T16:47:57.281Z"
   },
   {
    "duration": 214,
    "start_time": "2022-02-14T16:48:15.647Z"
   },
   {
    "duration": 577,
    "start_time": "2022-02-14T16:48:59.546Z"
   },
   {
    "duration": 64,
    "start_time": "2022-02-14T16:49:00.125Z"
   },
   {
    "duration": 21,
    "start_time": "2022-02-14T16:49:00.192Z"
   },
   {
    "duration": 18,
    "start_time": "2022-02-14T16:49:00.215Z"
   },
   {
    "duration": 11,
    "start_time": "2022-02-14T16:49:00.235Z"
   },
   {
    "duration": 10,
    "start_time": "2022-02-14T16:49:00.247Z"
   },
   {
    "duration": 30,
    "start_time": "2022-02-14T16:49:00.259Z"
   },
   {
    "duration": 17,
    "start_time": "2022-02-14T16:49:00.290Z"
   },
   {
    "duration": 14,
    "start_time": "2022-02-14T16:49:00.309Z"
   },
   {
    "duration": 14,
    "start_time": "2022-02-14T16:49:00.325Z"
   },
   {
    "duration": 15,
    "start_time": "2022-02-14T16:49:00.341Z"
   },
   {
    "duration": 40,
    "start_time": "2022-02-14T16:49:00.358Z"
   },
   {
    "duration": 21,
    "start_time": "2022-02-14T16:49:00.400Z"
   },
   {
    "duration": 24,
    "start_time": "2022-02-14T16:49:00.422Z"
   },
   {
    "duration": 15,
    "start_time": "2022-02-14T16:49:00.448Z"
   },
   {
    "duration": 16,
    "start_time": "2022-02-14T16:49:00.465Z"
   },
   {
    "duration": 22,
    "start_time": "2022-02-14T16:49:00.483Z"
   },
   {
    "duration": 13,
    "start_time": "2022-02-14T16:49:00.507Z"
   },
   {
    "duration": 13,
    "start_time": "2022-02-14T16:49:00.522Z"
   },
   {
    "duration": 10,
    "start_time": "2022-02-14T16:49:00.537Z"
   },
   {
    "duration": 295,
    "start_time": "2022-02-14T16:49:00.549Z"
   },
   {
    "duration": 4521,
    "start_time": "2022-02-14T16:48:56.324Z"
   },
   {
    "duration": 4516,
    "start_time": "2022-02-14T16:48:56.331Z"
   },
   {
    "duration": 4511,
    "start_time": "2022-02-14T16:48:56.337Z"
   },
   {
    "duration": 4508,
    "start_time": "2022-02-14T16:48:56.341Z"
   },
   {
    "duration": 4505,
    "start_time": "2022-02-14T16:48:56.345Z"
   },
   {
    "duration": 4502,
    "start_time": "2022-02-14T16:48:56.349Z"
   },
   {
    "duration": 7,
    "start_time": "2022-02-14T16:55:31.722Z"
   },
   {
    "duration": 6,
    "start_time": "2022-02-14T16:55:40.034Z"
   },
   {
    "duration": 8,
    "start_time": "2022-02-14T16:55:42.052Z"
   },
   {
    "duration": 6,
    "start_time": "2022-02-14T16:57:27.379Z"
   },
   {
    "duration": 7,
    "start_time": "2022-02-14T17:01:12.562Z"
   },
   {
    "duration": 9,
    "start_time": "2022-02-14T17:01:24.594Z"
   },
   {
    "duration": 220,
    "start_time": "2022-02-14T17:01:58.203Z"
   },
   {
    "duration": 7,
    "start_time": "2022-02-14T17:02:03.963Z"
   },
   {
    "duration": 83,
    "start_time": "2022-02-14T17:03:57.013Z"
   },
   {
    "duration": 212,
    "start_time": "2022-02-14T17:04:09.177Z"
   },
   {
    "duration": 4,
    "start_time": "2022-02-14T17:04:13.932Z"
   },
   {
    "duration": 4,
    "start_time": "2022-02-14T17:07:57.930Z"
   },
   {
    "duration": 11,
    "start_time": "2022-02-14T17:08:11.194Z"
   },
   {
    "duration": 10,
    "start_time": "2022-02-14T17:09:01.107Z"
   },
   {
    "duration": 566,
    "start_time": "2022-02-14T17:09:11.243Z"
   },
   {
    "duration": 58,
    "start_time": "2022-02-14T17:09:11.810Z"
   },
   {
    "duration": 30,
    "start_time": "2022-02-14T17:09:11.870Z"
   },
   {
    "duration": 14,
    "start_time": "2022-02-14T17:09:11.903Z"
   },
   {
    "duration": 12,
    "start_time": "2022-02-14T17:09:11.919Z"
   },
   {
    "duration": 3,
    "start_time": "2022-02-14T17:09:11.934Z"
   },
   {
    "duration": 9,
    "start_time": "2022-02-14T17:09:11.939Z"
   },
   {
    "duration": 49,
    "start_time": "2022-02-14T17:09:11.951Z"
   },
   {
    "duration": 5,
    "start_time": "2022-02-14T17:09:12.003Z"
   },
   {
    "duration": 9,
    "start_time": "2022-02-14T17:09:12.010Z"
   },
   {
    "duration": 8,
    "start_time": "2022-02-14T17:09:12.021Z"
   },
   {
    "duration": 11,
    "start_time": "2022-02-14T17:09:12.031Z"
   },
   {
    "duration": 8,
    "start_time": "2022-02-14T17:09:12.044Z"
   },
   {
    "duration": 47,
    "start_time": "2022-02-14T17:09:12.054Z"
   },
   {
    "duration": 4,
    "start_time": "2022-02-14T17:09:12.103Z"
   },
   {
    "duration": 11,
    "start_time": "2022-02-14T17:09:12.109Z"
   },
   {
    "duration": 9,
    "start_time": "2022-02-14T17:09:12.122Z"
   },
   {
    "duration": 14,
    "start_time": "2022-02-14T17:09:12.133Z"
   },
   {
    "duration": 10,
    "start_time": "2022-02-14T17:09:12.149Z"
   },
   {
    "duration": 39,
    "start_time": "2022-02-14T17:09:12.161Z"
   },
   {
    "duration": 5,
    "start_time": "2022-02-14T17:09:12.202Z"
   },
   {
    "duration": 11,
    "start_time": "2022-02-14T17:09:12.209Z"
   },
   {
    "duration": 8,
    "start_time": "2022-02-14T17:09:12.223Z"
   },
   {
    "duration": 10,
    "start_time": "2022-02-14T17:09:12.234Z"
   },
   {
    "duration": 8,
    "start_time": "2022-02-14T17:09:12.247Z"
   },
   {
    "duration": 44,
    "start_time": "2022-02-14T17:09:12.257Z"
   },
   {
    "duration": 10,
    "start_time": "2022-02-14T17:09:12.303Z"
   },
   {
    "duration": 4,
    "start_time": "2022-02-14T17:09:12.316Z"
   },
   {
    "duration": 5,
    "start_time": "2022-02-14T17:09:12.322Z"
   },
   {
    "duration": 4,
    "start_time": "2022-02-14T17:09:12.329Z"
   },
   {
    "duration": 6,
    "start_time": "2022-02-14T17:09:12.335Z"
   },
   {
    "duration": 9,
    "start_time": "2022-02-14T17:12:25.137Z"
   },
   {
    "duration": 5,
    "start_time": "2022-02-14T17:13:13.712Z"
   },
   {
    "duration": 10,
    "start_time": "2022-02-14T17:13:46.392Z"
   },
   {
    "duration": 10,
    "start_time": "2022-02-14T17:14:15.041Z"
   },
   {
    "duration": 24,
    "start_time": "2022-02-14T17:14:18.481Z"
   },
   {
    "duration": 589,
    "start_time": "2022-02-14T17:14:23.546Z"
   },
   {
    "duration": 56,
    "start_time": "2022-02-14T17:14:24.137Z"
   },
   {
    "duration": 22,
    "start_time": "2022-02-14T17:14:24.196Z"
   },
   {
    "duration": 13,
    "start_time": "2022-02-14T17:14:24.221Z"
   },
   {
    "duration": 10,
    "start_time": "2022-02-14T17:14:24.236Z"
   },
   {
    "duration": 4,
    "start_time": "2022-02-14T17:14:24.248Z"
   },
   {
    "duration": 13,
    "start_time": "2022-02-14T17:14:24.254Z"
   },
   {
    "duration": 37,
    "start_time": "2022-02-14T17:14:24.270Z"
   },
   {
    "duration": 5,
    "start_time": "2022-02-14T17:14:24.309Z"
   },
   {
    "duration": 9,
    "start_time": "2022-02-14T17:14:24.315Z"
   },
   {
    "duration": 7,
    "start_time": "2022-02-14T17:14:24.326Z"
   },
   {
    "duration": 7,
    "start_time": "2022-02-14T17:14:24.334Z"
   },
   {
    "duration": 10,
    "start_time": "2022-02-14T17:14:24.343Z"
   },
   {
    "duration": 44,
    "start_time": "2022-02-14T17:14:24.355Z"
   },
   {
    "duration": 5,
    "start_time": "2022-02-14T17:14:24.401Z"
   },
   {
    "duration": 10,
    "start_time": "2022-02-14T17:14:24.408Z"
   },
   {
    "duration": 7,
    "start_time": "2022-02-14T17:14:24.420Z"
   },
   {
    "duration": 15,
    "start_time": "2022-02-14T17:14:24.429Z"
   },
   {
    "duration": 11,
    "start_time": "2022-02-14T17:14:24.446Z"
   },
   {
    "duration": 4,
    "start_time": "2022-02-14T17:14:24.459Z"
   },
   {
    "duration": 38,
    "start_time": "2022-02-14T17:14:24.466Z"
   },
   {
    "duration": 7,
    "start_time": "2022-02-14T17:14:24.506Z"
   },
   {
    "duration": 5,
    "start_time": "2022-02-14T17:14:24.516Z"
   },
   {
    "duration": 10,
    "start_time": "2022-02-14T17:14:24.523Z"
   },
   {
    "duration": 8,
    "start_time": "2022-02-14T17:14:24.535Z"
   },
   {
    "duration": 8,
    "start_time": "2022-02-14T17:14:24.545Z"
   },
   {
    "duration": 12,
    "start_time": "2022-02-14T17:14:24.554Z"
   },
   {
    "duration": 32,
    "start_time": "2022-02-14T17:14:24.567Z"
   },
   {
    "duration": 4,
    "start_time": "2022-02-14T17:14:24.601Z"
   },
   {
    "duration": 7,
    "start_time": "2022-02-14T17:14:24.607Z"
   },
   {
    "duration": 5,
    "start_time": "2022-02-14T17:14:24.616Z"
   },
   {
    "duration": 8,
    "start_time": "2022-02-14T17:19:24.810Z"
   },
   {
    "duration": 9,
    "start_time": "2022-02-14T17:19:27.256Z"
   },
   {
    "duration": 8,
    "start_time": "2022-02-14T17:19:28.767Z"
   },
   {
    "duration": 9,
    "start_time": "2022-02-14T17:22:38.345Z"
   },
   {
    "duration": 6,
    "start_time": "2022-02-14T17:22:42.752Z"
   },
   {
    "duration": 9,
    "start_time": "2022-02-14T17:22:45.112Z"
   },
   {
    "duration": 5,
    "start_time": "2022-02-14T17:24:45.776Z"
   },
   {
    "duration": 15,
    "start_time": "2022-02-14T17:25:28.887Z"
   },
   {
    "duration": 7,
    "start_time": "2022-02-14T17:25:45.848Z"
   },
   {
    "duration": 4,
    "start_time": "2022-02-14T17:29:06.473Z"
   },
   {
    "duration": 5,
    "start_time": "2022-02-14T17:29:38.888Z"
   },
   {
    "duration": 6,
    "start_time": "2022-02-14T17:32:46.215Z"
   },
   {
    "duration": 4,
    "start_time": "2022-02-14T17:32:52.361Z"
   },
   {
    "duration": 7,
    "start_time": "2022-02-14T17:32:55.136Z"
   },
   {
    "duration": 356,
    "start_time": "2022-02-14T17:37:23.450Z"
   },
   {
    "duration": 3,
    "start_time": "2022-02-14T17:39:42.291Z"
   },
   {
    "duration": 2,
    "start_time": "2022-02-14T17:39:56.055Z"
   },
   {
    "duration": 1222,
    "start_time": "2022-02-14T17:40:28.568Z"
   },
   {
    "duration": 57,
    "start_time": "2022-02-14T17:40:29.792Z"
   },
   {
    "duration": 21,
    "start_time": "2022-02-14T17:40:29.853Z"
   },
   {
    "duration": 25,
    "start_time": "2022-02-14T17:40:29.876Z"
   },
   {
    "duration": 10,
    "start_time": "2022-02-14T17:40:29.903Z"
   },
   {
    "duration": 6,
    "start_time": "2022-02-14T17:40:29.914Z"
   },
   {
    "duration": 9,
    "start_time": "2022-02-14T17:40:29.922Z"
   },
   {
    "duration": 16,
    "start_time": "2022-02-14T17:40:29.933Z"
   },
   {
    "duration": 5,
    "start_time": "2022-02-14T17:40:29.951Z"
   },
   {
    "duration": 14,
    "start_time": "2022-02-14T17:40:29.957Z"
   },
   {
    "duration": 6,
    "start_time": "2022-02-14T17:40:29.998Z"
   },
   {
    "duration": 22,
    "start_time": "2022-02-14T17:40:30.006Z"
   },
   {
    "duration": 18,
    "start_time": "2022-02-14T17:40:30.030Z"
   },
   {
    "duration": 16,
    "start_time": "2022-02-14T17:40:30.050Z"
   },
   {
    "duration": 13,
    "start_time": "2022-02-14T17:40:30.068Z"
   },
   {
    "duration": 9,
    "start_time": "2022-02-14T17:40:30.083Z"
   },
   {
    "duration": 12,
    "start_time": "2022-02-14T17:40:30.093Z"
   },
   {
    "duration": 4,
    "start_time": "2022-02-14T17:40:30.107Z"
   },
   {
    "duration": 12,
    "start_time": "2022-02-14T17:40:30.112Z"
   },
   {
    "duration": 13,
    "start_time": "2022-02-14T17:40:30.126Z"
   },
   {
    "duration": 8,
    "start_time": "2022-02-14T17:40:30.140Z"
   },
   {
    "duration": 3,
    "start_time": "2022-02-14T17:40:30.151Z"
   },
   {
    "duration": 5,
    "start_time": "2022-02-14T17:40:30.156Z"
   },
   {
    "duration": 11,
    "start_time": "2022-02-14T17:40:30.163Z"
   },
   {
    "duration": 23,
    "start_time": "2022-02-14T17:40:30.176Z"
   },
   {
    "duration": 4,
    "start_time": "2022-02-14T17:40:30.201Z"
   },
   {
    "duration": 15,
    "start_time": "2022-02-14T17:40:30.207Z"
   },
   {
    "duration": 4,
    "start_time": "2022-02-14T17:40:30.224Z"
   },
   {
    "duration": 15,
    "start_time": "2022-02-14T17:40:30.230Z"
   },
   {
    "duration": 28,
    "start_time": "2022-02-14T17:40:30.247Z"
   },
   {
    "duration": 10,
    "start_time": "2022-02-14T17:40:30.277Z"
   },
   {
    "duration": 11,
    "start_time": "2022-02-14T17:40:30.288Z"
   },
   {
    "duration": 15,
    "start_time": "2022-02-14T17:40:30.300Z"
   },
   {
    "duration": 21,
    "start_time": "2022-02-14T17:40:30.317Z"
   },
   {
    "duration": 13,
    "start_time": "2022-02-14T17:40:48.668Z"
   },
   {
    "duration": 280,
    "start_time": "2022-02-14T17:43:36.736Z"
   },
   {
    "duration": 6,
    "start_time": "2022-02-14T17:43:46.184Z"
   },
   {
    "duration": 8,
    "start_time": "2022-02-14T17:43:55.671Z"
   },
   {
    "duration": 205,
    "start_time": "2022-02-14T17:45:46.913Z"
   },
   {
    "duration": 220,
    "start_time": "2022-02-14T17:46:40.408Z"
   },
   {
    "duration": 637,
    "start_time": "2022-02-14T17:46:45.075Z"
   },
   {
    "duration": 53,
    "start_time": "2022-02-14T17:46:45.714Z"
   },
   {
    "duration": 21,
    "start_time": "2022-02-14T17:46:45.770Z"
   },
   {
    "duration": 12,
    "start_time": "2022-02-14T17:46:45.798Z"
   },
   {
    "duration": 19,
    "start_time": "2022-02-14T17:46:45.813Z"
   },
   {
    "duration": 3,
    "start_time": "2022-02-14T17:46:45.834Z"
   },
   {
    "duration": 12,
    "start_time": "2022-02-14T17:46:45.839Z"
   },
   {
    "duration": 11,
    "start_time": "2022-02-14T17:46:45.854Z"
   },
   {
    "duration": 9,
    "start_time": "2022-02-14T17:46:45.867Z"
   },
   {
    "duration": 7,
    "start_time": "2022-02-14T17:46:45.899Z"
   },
   {
    "duration": 6,
    "start_time": "2022-02-14T17:46:45.908Z"
   },
   {
    "duration": 7,
    "start_time": "2022-02-14T17:46:45.916Z"
   },
   {
    "duration": 6,
    "start_time": "2022-02-14T17:46:45.925Z"
   },
   {
    "duration": 8,
    "start_time": "2022-02-14T17:46:45.933Z"
   },
   {
    "duration": 8,
    "start_time": "2022-02-14T17:46:45.943Z"
   },
   {
    "duration": 5,
    "start_time": "2022-02-14T17:46:45.953Z"
   },
   {
    "duration": 43,
    "start_time": "2022-02-14T17:46:45.959Z"
   },
   {
    "duration": 8,
    "start_time": "2022-02-14T17:46:46.004Z"
   },
   {
    "duration": 13,
    "start_time": "2022-02-14T17:46:46.014Z"
   },
   {
    "duration": 12,
    "start_time": "2022-02-14T17:46:46.029Z"
   },
   {
    "duration": 370,
    "start_time": "2022-02-14T17:46:46.043Z"
   },
   {
    "duration": 4530,
    "start_time": "2022-02-14T17:46:41.886Z"
   },
   {
    "duration": 4520,
    "start_time": "2022-02-14T17:46:41.897Z"
   },
   {
    "duration": 4516,
    "start_time": "2022-02-14T17:46:41.902Z"
   },
   {
    "duration": 4515,
    "start_time": "2022-02-14T17:46:41.905Z"
   },
   {
    "duration": 4513,
    "start_time": "2022-02-14T17:46:41.908Z"
   },
   {
    "duration": 4512,
    "start_time": "2022-02-14T17:46:41.911Z"
   },
   {
    "duration": 4511,
    "start_time": "2022-02-14T17:46:41.913Z"
   },
   {
    "duration": 4510,
    "start_time": "2022-02-14T17:46:41.916Z"
   },
   {
    "duration": 4508,
    "start_time": "2022-02-14T17:46:41.919Z"
   },
   {
    "duration": 4508,
    "start_time": "2022-02-14T17:46:41.921Z"
   },
   {
    "duration": 4502,
    "start_time": "2022-02-14T17:46:41.928Z"
   },
   {
    "duration": 4501,
    "start_time": "2022-02-14T17:46:41.931Z"
   },
   {
    "duration": 4499,
    "start_time": "2022-02-14T17:46:41.934Z"
   },
   {
    "duration": 322,
    "start_time": "2022-02-14T17:48:40.775Z"
   },
   {
    "duration": 3,
    "start_time": "2022-02-14T17:48:46.466Z"
   },
   {
    "duration": 222,
    "start_time": "2022-02-14T17:51:23.638Z"
   },
   {
    "duration": 8,
    "start_time": "2022-02-14T17:51:29.865Z"
   },
   {
    "duration": 8,
    "start_time": "2022-02-14T17:51:34.720Z"
   },
   {
    "duration": 8,
    "start_time": "2022-02-14T17:51:38.422Z"
   },
   {
    "duration": 6,
    "start_time": "2022-02-14T17:51:43.694Z"
   },
   {
    "duration": 8,
    "start_time": "2022-02-14T17:51:44.809Z"
   },
   {
    "duration": 563,
    "start_time": "2022-02-14T17:52:26.761Z"
   },
   {
    "duration": 52,
    "start_time": "2022-02-14T17:52:27.326Z"
   },
   {
    "duration": 22,
    "start_time": "2022-02-14T17:52:27.380Z"
   },
   {
    "duration": 12,
    "start_time": "2022-02-14T17:52:27.404Z"
   },
   {
    "duration": 12,
    "start_time": "2022-02-14T17:52:27.418Z"
   },
   {
    "duration": 3,
    "start_time": "2022-02-14T17:52:27.431Z"
   },
   {
    "duration": 13,
    "start_time": "2022-02-14T17:52:27.436Z"
   },
   {
    "duration": 11,
    "start_time": "2022-02-14T17:52:27.451Z"
   },
   {
    "duration": 35,
    "start_time": "2022-02-14T17:52:27.464Z"
   },
   {
    "duration": 6,
    "start_time": "2022-02-14T17:52:27.501Z"
   },
   {
    "duration": 12,
    "start_time": "2022-02-14T17:52:27.508Z"
   },
   {
    "duration": 10,
    "start_time": "2022-02-14T17:52:27.521Z"
   },
   {
    "duration": 7,
    "start_time": "2022-02-14T17:52:27.533Z"
   },
   {
    "duration": 6,
    "start_time": "2022-02-14T17:52:27.542Z"
   },
   {
    "duration": 7,
    "start_time": "2022-02-14T17:52:27.550Z"
   },
   {
    "duration": 40,
    "start_time": "2022-02-14T17:52:27.559Z"
   },
   {
    "duration": 5,
    "start_time": "2022-02-14T17:52:27.601Z"
   },
   {
    "duration": 4,
    "start_time": "2022-02-14T17:52:27.608Z"
   },
   {
    "duration": 6,
    "start_time": "2022-02-14T17:52:27.614Z"
   },
   {
    "duration": 10,
    "start_time": "2022-02-14T17:52:27.622Z"
   },
   {
    "duration": 12,
    "start_time": "2022-02-14T17:52:27.634Z"
   },
   {
    "duration": 8,
    "start_time": "2022-02-14T17:52:27.647Z"
   },
   {
    "duration": 42,
    "start_time": "2022-02-14T17:52:27.658Z"
   },
   {
    "duration": 6,
    "start_time": "2022-02-14T17:52:27.702Z"
   },
   {
    "duration": 9,
    "start_time": "2022-02-14T17:52:27.710Z"
   },
   {
    "duration": 5,
    "start_time": "2022-02-14T17:52:27.720Z"
   },
   {
    "duration": 7,
    "start_time": "2022-02-14T17:52:27.727Z"
   },
   {
    "duration": 4,
    "start_time": "2022-02-14T17:52:27.736Z"
   },
   {
    "duration": 9,
    "start_time": "2022-02-14T17:52:27.741Z"
   },
   {
    "duration": 4,
    "start_time": "2022-02-14T17:52:27.752Z"
   },
   {
    "duration": 6,
    "start_time": "2022-02-14T17:52:27.758Z"
   },
   {
    "duration": 5,
    "start_time": "2022-02-14T17:52:27.799Z"
   },
   {
    "duration": 17,
    "start_time": "2022-02-14T17:52:27.805Z"
   },
   {
    "duration": 12,
    "start_time": "2022-02-14T17:52:27.824Z"
   },
   {
    "duration": 13,
    "start_time": "2022-02-14T17:53:11.390Z"
   },
   {
    "duration": 8,
    "start_time": "2022-02-14T17:53:13.054Z"
   },
   {
    "duration": 8,
    "start_time": "2022-02-14T18:19:35.825Z"
   },
   {
    "duration": 8,
    "start_time": "2022-02-14T18:19:43.114Z"
   },
   {
    "duration": 803,
    "start_time": "2022-02-14T18:20:03.016Z"
   },
   {
    "duration": 76,
    "start_time": "2022-02-14T18:20:03.821Z"
   },
   {
    "duration": 31,
    "start_time": "2022-02-14T18:20:03.900Z"
   },
   {
    "duration": 13,
    "start_time": "2022-02-14T18:20:03.934Z"
   },
   {
    "duration": 34,
    "start_time": "2022-02-14T18:20:03.949Z"
   },
   {
    "duration": 41,
    "start_time": "2022-02-14T18:20:03.985Z"
   },
   {
    "duration": 25,
    "start_time": "2022-02-14T18:20:04.028Z"
   },
   {
    "duration": 19,
    "start_time": "2022-02-14T18:20:04.056Z"
   },
   {
    "duration": 14,
    "start_time": "2022-02-14T18:20:04.078Z"
   },
   {
    "duration": 34,
    "start_time": "2022-02-14T18:20:04.094Z"
   },
   {
    "duration": 34,
    "start_time": "2022-02-14T18:20:04.130Z"
   },
   {
    "duration": 20,
    "start_time": "2022-02-14T18:20:04.172Z"
   },
   {
    "duration": 59,
    "start_time": "2022-02-14T18:20:04.194Z"
   },
   {
    "duration": 17,
    "start_time": "2022-02-14T18:20:04.256Z"
   },
   {
    "duration": 54,
    "start_time": "2022-02-14T18:20:04.275Z"
   },
   {
    "duration": 12,
    "start_time": "2022-02-14T18:20:04.331Z"
   },
   {
    "duration": 18,
    "start_time": "2022-02-14T18:20:04.345Z"
   },
   {
    "duration": 30,
    "start_time": "2022-02-14T18:20:04.365Z"
   },
   {
    "duration": 31,
    "start_time": "2022-02-14T18:20:04.398Z"
   },
   {
    "duration": 17,
    "start_time": "2022-02-14T18:20:04.431Z"
   },
   {
    "duration": 12,
    "start_time": "2022-02-14T18:20:04.450Z"
   },
   {
    "duration": 12,
    "start_time": "2022-02-14T18:20:04.464Z"
   },
   {
    "duration": 21,
    "start_time": "2022-02-14T18:20:04.479Z"
   },
   {
    "duration": 32,
    "start_time": "2022-02-14T18:20:04.503Z"
   },
   {
    "duration": 10,
    "start_time": "2022-02-14T18:20:04.537Z"
   },
   {
    "duration": 14,
    "start_time": "2022-02-14T18:20:04.549Z"
   },
   {
    "duration": 7,
    "start_time": "2022-02-14T18:20:04.565Z"
   },
   {
    "duration": 10,
    "start_time": "2022-02-14T18:20:04.574Z"
   },
   {
    "duration": 13,
    "start_time": "2022-02-14T18:20:04.586Z"
   },
   {
    "duration": 23,
    "start_time": "2022-02-14T18:20:04.601Z"
   },
   {
    "duration": 15,
    "start_time": "2022-02-14T18:20:04.626Z"
   },
   {
    "duration": 19,
    "start_time": "2022-02-14T18:20:04.643Z"
   },
   {
    "duration": 12,
    "start_time": "2022-02-14T18:20:04.664Z"
   },
   {
    "duration": 19,
    "start_time": "2022-02-14T18:23:00.393Z"
   },
   {
    "duration": 16,
    "start_time": "2022-02-14T18:24:01.815Z"
   },
   {
    "duration": 9,
    "start_time": "2022-02-14T18:24:37.028Z"
   },
   {
    "duration": 11,
    "start_time": "2022-02-14T18:24:37.522Z"
   },
   {
    "duration": 14,
    "start_time": "2022-02-14T18:25:01.496Z"
   },
   {
    "duration": 334,
    "start_time": "2022-02-15T12:13:46.637Z"
   },
   {
    "duration": 329,
    "start_time": "2022-02-15T12:14:34.860Z"
   },
   {
    "duration": 603,
    "start_time": "2022-02-15T12:14:43.288Z"
   },
   {
    "duration": 57,
    "start_time": "2022-02-15T12:14:43.893Z"
   },
   {
    "duration": 18,
    "start_time": "2022-02-15T12:14:43.952Z"
   },
   {
    "duration": 11,
    "start_time": "2022-02-15T12:14:43.972Z"
   },
   {
    "duration": 9,
    "start_time": "2022-02-15T12:14:43.984Z"
   },
   {
    "duration": 4,
    "start_time": "2022-02-15T12:14:43.995Z"
   },
   {
    "duration": 7,
    "start_time": "2022-02-15T12:14:44.000Z"
   },
   {
    "duration": 43,
    "start_time": "2022-02-15T12:14:44.010Z"
   },
   {
    "duration": 4,
    "start_time": "2022-02-15T12:14:44.056Z"
   },
   {
    "duration": 8,
    "start_time": "2022-02-15T12:14:44.061Z"
   },
   {
    "duration": 14,
    "start_time": "2022-02-15T12:14:44.070Z"
   },
   {
    "duration": 13,
    "start_time": "2022-02-15T12:14:44.085Z"
   },
   {
    "duration": 11,
    "start_time": "2022-02-15T12:14:44.099Z"
   },
   {
    "duration": 7,
    "start_time": "2022-02-15T12:14:44.112Z"
   },
   {
    "duration": 6,
    "start_time": "2022-02-15T12:14:44.120Z"
   },
   {
    "duration": 23,
    "start_time": "2022-02-15T12:14:44.127Z"
   },
   {
    "duration": 5,
    "start_time": "2022-02-15T12:14:44.152Z"
   },
   {
    "duration": 7,
    "start_time": "2022-02-15T12:14:44.159Z"
   },
   {
    "duration": 4,
    "start_time": "2022-02-15T12:14:44.168Z"
   },
   {
    "duration": 11,
    "start_time": "2022-02-15T12:14:44.173Z"
   },
   {
    "duration": 10,
    "start_time": "2022-02-15T12:14:44.185Z"
   },
   {
    "duration": 22,
    "start_time": "2022-02-15T12:14:44.196Z"
   },
   {
    "duration": 20,
    "start_time": "2022-02-15T12:14:44.221Z"
   },
   {
    "duration": 11,
    "start_time": "2022-02-15T12:14:44.243Z"
   },
   {
    "duration": 17,
    "start_time": "2022-02-15T12:14:44.256Z"
   },
   {
    "duration": 17,
    "start_time": "2022-02-15T12:14:44.274Z"
   },
   {
    "duration": 15,
    "start_time": "2022-02-15T12:14:44.292Z"
   },
   {
    "duration": 25,
    "start_time": "2022-02-15T12:14:44.309Z"
   },
   {
    "duration": 14,
    "start_time": "2022-02-15T12:14:44.336Z"
   },
   {
    "duration": 7,
    "start_time": "2022-02-15T12:14:44.351Z"
   },
   {
    "duration": 11,
    "start_time": "2022-02-15T12:14:44.360Z"
   },
   {
    "duration": 27,
    "start_time": "2022-02-15T12:14:44.372Z"
   },
   {
    "duration": 20,
    "start_time": "2022-02-15T12:14:44.400Z"
   },
   {
    "duration": 9,
    "start_time": "2022-02-15T12:14:50.382Z"
   },
   {
    "duration": 10,
    "start_time": "2022-02-15T12:15:03.501Z"
   },
   {
    "duration": 7,
    "start_time": "2022-02-15T12:15:28.061Z"
   },
   {
    "duration": 497,
    "start_time": "2022-02-15T12:15:42.624Z"
   },
   {
    "duration": 305,
    "start_time": "2022-02-15T12:15:52.573Z"
   },
   {
    "duration": 344,
    "start_time": "2022-02-15T12:16:23.158Z"
   },
   {
    "duration": 309,
    "start_time": "2022-02-15T12:17:41.813Z"
   },
   {
    "duration": 7,
    "start_time": "2022-02-15T12:18:30.294Z"
   },
   {
    "duration": 14,
    "start_time": "2022-02-15T12:23:20.901Z"
   },
   {
    "duration": 299,
    "start_time": "2022-02-15T12:44:41.144Z"
   },
   {
    "duration": 2,
    "start_time": "2022-02-15T12:44:52.328Z"
   },
   {
    "duration": 3,
    "start_time": "2022-02-15T12:46:46.152Z"
   },
   {
    "duration": 4,
    "start_time": "2022-02-15T14:00:31.764Z"
   },
   {
    "duration": 3,
    "start_time": "2022-02-15T14:00:34.010Z"
   },
   {
    "duration": 173,
    "start_time": "2022-02-15T14:00:56.434Z"
   },
   {
    "duration": 508,
    "start_time": "2022-02-15T14:03:03.977Z"
   },
   {
    "duration": 47,
    "start_time": "2022-02-15T14:03:04.486Z"
   },
   {
    "duration": 17,
    "start_time": "2022-02-15T14:03:04.535Z"
   },
   {
    "duration": 14,
    "start_time": "2022-02-15T14:03:04.554Z"
   },
   {
    "duration": 17,
    "start_time": "2022-02-15T14:03:04.569Z"
   },
   {
    "duration": 7,
    "start_time": "2022-02-15T14:03:04.588Z"
   },
   {
    "duration": 16,
    "start_time": "2022-02-15T14:03:04.596Z"
   },
   {
    "duration": 9,
    "start_time": "2022-02-15T14:03:04.615Z"
   },
   {
    "duration": 7,
    "start_time": "2022-02-15T14:03:04.626Z"
   },
   {
    "duration": 8,
    "start_time": "2022-02-15T14:03:04.634Z"
   },
   {
    "duration": 3,
    "start_time": "2022-02-15T14:03:04.644Z"
   },
   {
    "duration": 7,
    "start_time": "2022-02-15T14:03:04.649Z"
   },
   {
    "duration": 4,
    "start_time": "2022-02-15T14:03:04.657Z"
   },
   {
    "duration": 10,
    "start_time": "2022-02-15T14:03:04.662Z"
   },
   {
    "duration": 14,
    "start_time": "2022-02-15T14:03:04.673Z"
   },
   {
    "duration": 6,
    "start_time": "2022-02-15T14:03:04.689Z"
   },
   {
    "duration": 34,
    "start_time": "2022-02-15T14:03:04.696Z"
   },
   {
    "duration": 6,
    "start_time": "2022-02-15T14:03:04.732Z"
   },
   {
    "duration": 4,
    "start_time": "2022-02-15T14:03:04.739Z"
   },
   {
    "duration": 7,
    "start_time": "2022-02-15T14:03:04.744Z"
   },
   {
    "duration": 7,
    "start_time": "2022-02-15T14:03:04.752Z"
   },
   {
    "duration": 6,
    "start_time": "2022-02-15T14:03:04.761Z"
   },
   {
    "duration": 9,
    "start_time": "2022-02-15T14:03:04.770Z"
   },
   {
    "duration": 9,
    "start_time": "2022-02-15T14:03:04.781Z"
   },
   {
    "duration": 41,
    "start_time": "2022-02-15T14:03:04.792Z"
   },
   {
    "duration": 5,
    "start_time": "2022-02-15T14:03:04.835Z"
   },
   {
    "duration": 5,
    "start_time": "2022-02-15T14:03:04.842Z"
   },
   {
    "duration": 7,
    "start_time": "2022-02-15T14:03:04.848Z"
   },
   {
    "duration": 3,
    "start_time": "2022-02-15T14:03:04.857Z"
   },
   {
    "duration": 9,
    "start_time": "2022-02-15T14:03:04.861Z"
   },
   {
    "duration": 6,
    "start_time": "2022-02-15T14:03:04.871Z"
   },
   {
    "duration": 7,
    "start_time": "2022-02-15T14:03:04.878Z"
   },
   {
    "duration": 5,
    "start_time": "2022-02-15T14:03:04.887Z"
   },
   {
    "duration": 44,
    "start_time": "2022-02-15T14:03:04.894Z"
   },
   {
    "duration": 5,
    "start_time": "2022-02-15T14:03:04.940Z"
   },
   {
    "duration": 14,
    "start_time": "2022-02-15T14:03:58.945Z"
   },
   {
    "duration": 12,
    "start_time": "2022-02-15T14:05:57.955Z"
   },
   {
    "duration": 11,
    "start_time": "2022-02-15T14:06:40.626Z"
   },
   {
    "duration": 7,
    "start_time": "2022-02-15T14:07:06.456Z"
   },
   {
    "duration": 6,
    "start_time": "2022-02-15T14:07:21.907Z"
   },
   {
    "duration": 16,
    "start_time": "2022-02-15T14:10:06.612Z"
   },
   {
    "duration": 33,
    "start_time": "2022-02-15T14:12:54.755Z"
   },
   {
    "duration": 16,
    "start_time": "2022-02-15T14:15:09.585Z"
   },
   {
    "duration": 5,
    "start_time": "2022-02-15T14:17:28.395Z"
   },
   {
    "duration": 6,
    "start_time": "2022-02-15T14:18:30.194Z"
   },
   {
    "duration": 15,
    "start_time": "2022-02-15T14:18:44.320Z"
   },
   {
    "duration": 31,
    "start_time": "2022-02-15T14:18:45.859Z"
   },
   {
    "duration": 1143,
    "start_time": "2022-02-15T14:32:54.888Z"
   },
   {
    "duration": 1047,
    "start_time": "2022-02-15T14:33:20.450Z"
   },
   {
    "duration": 138,
    "start_time": "2022-02-15T14:39:11.357Z"
   },
   {
    "duration": 15,
    "start_time": "2022-02-15T16:08:57.394Z"
   },
   {
    "duration": 16,
    "start_time": "2022-02-15T16:09:46.124Z"
   },
   {
    "duration": 30,
    "start_time": "2022-02-15T16:10:05.400Z"
   },
   {
    "duration": 562,
    "start_time": "2022-02-15T16:10:51.409Z"
   },
   {
    "duration": 43,
    "start_time": "2022-02-15T16:10:51.973Z"
   },
   {
    "duration": 23,
    "start_time": "2022-02-15T16:10:52.018Z"
   },
   {
    "duration": 13,
    "start_time": "2022-02-15T16:10:52.043Z"
   },
   {
    "duration": 9,
    "start_time": "2022-02-15T16:10:52.058Z"
   },
   {
    "duration": 4,
    "start_time": "2022-02-15T16:10:52.069Z"
   },
   {
    "duration": 9,
    "start_time": "2022-02-15T16:10:52.074Z"
   },
   {
    "duration": 9,
    "start_time": "2022-02-15T16:10:52.086Z"
   },
   {
    "duration": 34,
    "start_time": "2022-02-15T16:10:52.098Z"
   },
   {
    "duration": 8,
    "start_time": "2022-02-15T16:10:52.133Z"
   },
   {
    "duration": 6,
    "start_time": "2022-02-15T16:10:52.143Z"
   },
   {
    "duration": 7,
    "start_time": "2022-02-15T16:10:52.151Z"
   },
   {
    "duration": 4,
    "start_time": "2022-02-15T16:10:52.160Z"
   },
   {
    "duration": 12,
    "start_time": "2022-02-15T16:10:52.166Z"
   },
   {
    "duration": 16,
    "start_time": "2022-02-15T16:10:52.180Z"
   },
   {
    "duration": 6,
    "start_time": "2022-02-15T16:10:52.197Z"
   },
   {
    "duration": 10,
    "start_time": "2022-02-15T16:10:52.230Z"
   },
   {
    "duration": 3,
    "start_time": "2022-02-15T16:10:52.242Z"
   },
   {
    "duration": 6,
    "start_time": "2022-02-15T16:10:52.247Z"
   },
   {
    "duration": 5,
    "start_time": "2022-02-15T16:10:52.255Z"
   },
   {
    "duration": 5,
    "start_time": "2022-02-15T16:10:52.261Z"
   },
   {
    "duration": 7,
    "start_time": "2022-02-15T16:10:52.268Z"
   },
   {
    "duration": 56,
    "start_time": "2022-02-15T16:10:52.279Z"
   },
   {
    "duration": 5,
    "start_time": "2022-02-15T16:10:52.338Z"
   },
   {
    "duration": 5,
    "start_time": "2022-02-15T16:10:52.345Z"
   },
   {
    "duration": 7,
    "start_time": "2022-02-15T16:10:52.351Z"
   },
   {
    "duration": 8,
    "start_time": "2022-02-15T16:10:52.359Z"
   },
   {
    "duration": 6,
    "start_time": "2022-02-15T16:10:52.368Z"
   },
   {
    "duration": 5,
    "start_time": "2022-02-15T16:10:52.376Z"
   },
   {
    "duration": 49,
    "start_time": "2022-02-15T16:10:52.382Z"
   },
   {
    "duration": 16,
    "start_time": "2022-02-15T16:10:52.433Z"
   },
   {
    "duration": 15,
    "start_time": "2022-02-15T16:10:52.450Z"
   },
   {
    "duration": 30,
    "start_time": "2022-02-15T16:10:52.467Z"
   },
   {
    "duration": 221,
    "start_time": "2022-02-15T16:10:52.499Z"
   },
   {
    "duration": 133,
    "start_time": "2022-02-15T16:16:32.594Z"
   },
   {
    "duration": 135,
    "start_time": "2022-02-15T16:21:45.096Z"
   },
   {
    "duration": 147,
    "start_time": "2022-02-15T16:21:58.689Z"
   },
   {
    "duration": 136,
    "start_time": "2022-02-15T16:24:17.825Z"
   },
   {
    "duration": 145,
    "start_time": "2022-02-15T16:24:28.031Z"
   },
   {
    "duration": 10,
    "start_time": "2022-02-15T16:26:19.607Z"
   },
   {
    "duration": 139,
    "start_time": "2022-02-15T16:56:54.415Z"
   },
   {
    "duration": 10,
    "start_time": "2022-02-15T16:57:06.228Z"
   },
   {
    "duration": 14,
    "start_time": "2022-02-15T17:02:42.466Z"
   },
   {
    "duration": 13,
    "start_time": "2022-02-15T17:02:57.154Z"
   },
   {
    "duration": 13,
    "start_time": "2022-02-15T17:03:04.265Z"
   },
   {
    "duration": 3,
    "start_time": "2022-02-15T17:04:25.272Z"
   },
   {
    "duration": 3,
    "start_time": "2022-02-15T17:04:41.018Z"
   },
   {
    "duration": 134,
    "start_time": "2022-02-15T17:07:43.025Z"
   },
   {
    "duration": 6,
    "start_time": "2022-02-15T17:07:52.314Z"
   },
   {
    "duration": 6,
    "start_time": "2022-02-15T17:36:17.574Z"
   },
   {
    "duration": 10,
    "start_time": "2022-02-15T17:37:31.476Z"
   },
   {
    "duration": 9,
    "start_time": "2022-02-15T17:37:54.739Z"
   },
   {
    "duration": 9,
    "start_time": "2022-02-15T17:37:56.813Z"
   },
   {
    "duration": 12,
    "start_time": "2022-02-15T17:44:59.388Z"
   },
   {
    "duration": 138,
    "start_time": "2022-02-15T17:50:04.482Z"
   },
   {
    "duration": 16,
    "start_time": "2022-02-15T17:52:03.614Z"
   },
   {
    "duration": 19,
    "start_time": "2022-02-15T17:52:31.204Z"
   },
   {
    "duration": 11,
    "start_time": "2022-02-15T17:53:13.612Z"
   },
   {
    "duration": 19,
    "start_time": "2022-02-15T17:53:28.444Z"
   },
   {
    "duration": 15,
    "start_time": "2022-02-15T17:55:08.640Z"
   },
   {
    "duration": 8,
    "start_time": "2022-02-15T17:58:59.077Z"
   },
   {
    "duration": 7,
    "start_time": "2022-02-15T17:59:02.311Z"
   },
   {
    "duration": 14,
    "start_time": "2022-02-15T17:59:18.860Z"
   },
   {
    "duration": 10,
    "start_time": "2022-02-15T18:00:41.695Z"
   },
   {
    "duration": 18,
    "start_time": "2022-02-15T18:01:27.572Z"
   },
   {
    "duration": 14,
    "start_time": "2022-02-15T18:01:30.229Z"
   },
   {
    "duration": 17,
    "start_time": "2022-02-15T18:02:09.624Z"
   },
   {
    "duration": 14,
    "start_time": "2022-02-15T18:03:14.272Z"
   },
   {
    "duration": 15,
    "start_time": "2022-02-15T18:07:32.262Z"
   },
   {
    "duration": 18,
    "start_time": "2022-02-15T18:10:29.110Z"
   },
   {
    "duration": 19,
    "start_time": "2022-02-15T18:11:31.256Z"
   },
   {
    "duration": 15,
    "start_time": "2022-02-15T18:11:38.637Z"
   },
   {
    "duration": 17,
    "start_time": "2022-02-15T18:11:41.102Z"
   },
   {
    "duration": 22,
    "start_time": "2022-02-15T18:11:44.622Z"
   },
   {
    "duration": 541,
    "start_time": "2022-02-15T18:12:25.828Z"
   },
   {
    "duration": 50,
    "start_time": "2022-02-15T18:12:26.371Z"
   },
   {
    "duration": 18,
    "start_time": "2022-02-15T18:12:26.422Z"
   },
   {
    "duration": 11,
    "start_time": "2022-02-15T18:12:26.442Z"
   },
   {
    "duration": 9,
    "start_time": "2022-02-15T18:12:26.454Z"
   },
   {
    "duration": 7,
    "start_time": "2022-02-15T18:12:26.464Z"
   },
   {
    "duration": 13,
    "start_time": "2022-02-15T18:12:26.472Z"
   },
   {
    "duration": 8,
    "start_time": "2022-02-15T18:12:26.488Z"
   },
   {
    "duration": 5,
    "start_time": "2022-02-15T18:12:26.498Z"
   },
   {
    "duration": 27,
    "start_time": "2022-02-15T18:12:26.504Z"
   },
   {
    "duration": 4,
    "start_time": "2022-02-15T18:12:26.533Z"
   },
   {
    "duration": 7,
    "start_time": "2022-02-15T18:12:26.539Z"
   },
   {
    "duration": 7,
    "start_time": "2022-02-15T18:12:26.548Z"
   },
   {
    "duration": 7,
    "start_time": "2022-02-15T18:12:26.557Z"
   },
   {
    "duration": 16,
    "start_time": "2022-02-15T18:12:26.566Z"
   },
   {
    "duration": 5,
    "start_time": "2022-02-15T18:12:26.584Z"
   },
   {
    "duration": 41,
    "start_time": "2022-02-15T18:12:26.591Z"
   },
   {
    "duration": 4,
    "start_time": "2022-02-15T18:12:26.634Z"
   },
   {
    "duration": 6,
    "start_time": "2022-02-15T18:12:26.640Z"
   },
   {
    "duration": 5,
    "start_time": "2022-02-15T18:12:26.647Z"
   },
   {
    "duration": 6,
    "start_time": "2022-02-15T18:12:26.653Z"
   },
   {
    "duration": 8,
    "start_time": "2022-02-15T18:12:26.660Z"
   },
   {
    "duration": 12,
    "start_time": "2022-02-15T18:12:26.671Z"
   },
   {
    "duration": 4,
    "start_time": "2022-02-15T18:12:26.685Z"
   },
   {
    "duration": 40,
    "start_time": "2022-02-15T18:12:26.691Z"
   },
   {
    "duration": 6,
    "start_time": "2022-02-15T18:12:26.733Z"
   },
   {
    "duration": 7,
    "start_time": "2022-02-15T18:12:26.740Z"
   },
   {
    "duration": 5,
    "start_time": "2022-02-15T18:12:26.749Z"
   },
   {
    "duration": 8,
    "start_time": "2022-02-15T18:12:26.755Z"
   },
   {
    "duration": 6,
    "start_time": "2022-02-15T18:12:26.765Z"
   },
   {
    "duration": 18,
    "start_time": "2022-02-15T18:12:26.772Z"
   },
   {
    "duration": 48,
    "start_time": "2022-02-15T18:12:26.792Z"
   },
   {
    "duration": 30,
    "start_time": "2022-02-15T18:12:26.841Z"
   },
   {
    "duration": 9,
    "start_time": "2022-02-15T18:12:26.872Z"
   },
   {
    "duration": 21,
    "start_time": "2022-02-15T18:12:26.882Z"
   },
   {
    "duration": 36,
    "start_time": "2022-02-15T18:12:26.904Z"
   },
   {
    "duration": 10,
    "start_time": "2022-02-15T18:12:26.942Z"
   },
   {
    "duration": 25,
    "start_time": "2022-02-15T18:12:26.954Z"
   },
   {
    "duration": 16,
    "start_time": "2022-02-15T18:12:26.981Z"
   },
   {
    "duration": 16,
    "start_time": "2022-02-15T18:13:12.246Z"
   },
   {
    "duration": 15,
    "start_time": "2022-02-15T18:13:27.365Z"
   },
   {
    "duration": 14,
    "start_time": "2022-02-15T18:13:33.537Z"
   },
   {
    "duration": 3,
    "start_time": "2022-02-15T18:24:13.136Z"
   },
   {
    "duration": 28,
    "start_time": "2022-02-15T18:29:48.681Z"
   },
   {
    "duration": 17,
    "start_time": "2022-02-15T18:32:17.367Z"
   },
   {
    "duration": 6,
    "start_time": "2022-02-15T18:33:05.784Z"
   },
   {
    "duration": 200,
    "start_time": "2022-02-15T18:33:11.541Z"
   },
   {
    "duration": 127,
    "start_time": "2022-02-15T18:33:29.801Z"
   },
   {
    "duration": 571,
    "start_time": "2022-02-15T18:33:42.069Z"
   },
   {
    "duration": 46,
    "start_time": "2022-02-15T18:33:42.642Z"
   },
   {
    "duration": 18,
    "start_time": "2022-02-15T18:33:42.690Z"
   },
   {
    "duration": 28,
    "start_time": "2022-02-15T18:33:42.710Z"
   },
   {
    "duration": 9,
    "start_time": "2022-02-15T18:33:42.740Z"
   },
   {
    "duration": 7,
    "start_time": "2022-02-15T18:33:42.751Z"
   },
   {
    "duration": 11,
    "start_time": "2022-02-15T18:33:42.759Z"
   },
   {
    "duration": 9,
    "start_time": "2022-02-15T18:33:42.772Z"
   },
   {
    "duration": 5,
    "start_time": "2022-02-15T18:33:42.783Z"
   },
   {
    "duration": 7,
    "start_time": "2022-02-15T18:33:42.790Z"
   },
   {
    "duration": 32,
    "start_time": "2022-02-15T18:33:42.798Z"
   },
   {
    "duration": 13,
    "start_time": "2022-02-15T18:33:42.833Z"
   },
   {
    "duration": 7,
    "start_time": "2022-02-15T18:33:42.848Z"
   },
   {
    "duration": 6,
    "start_time": "2022-02-15T18:33:42.857Z"
   },
   {
    "duration": 20,
    "start_time": "2022-02-15T18:33:42.865Z"
   },
   {
    "duration": 7,
    "start_time": "2022-02-15T18:33:42.887Z"
   },
   {
    "duration": 47,
    "start_time": "2022-02-15T18:33:42.896Z"
   },
   {
    "duration": 4,
    "start_time": "2022-02-15T18:33:42.945Z"
   },
   {
    "duration": 8,
    "start_time": "2022-02-15T18:33:42.950Z"
   },
   {
    "duration": 5,
    "start_time": "2022-02-15T18:33:42.960Z"
   },
   {
    "duration": 8,
    "start_time": "2022-02-15T18:33:42.967Z"
   },
   {
    "duration": 7,
    "start_time": "2022-02-15T18:33:42.976Z"
   },
   {
    "duration": 54,
    "start_time": "2022-02-15T18:33:42.988Z"
   },
   {
    "duration": 6,
    "start_time": "2022-02-15T18:33:43.045Z"
   },
   {
    "duration": 5,
    "start_time": "2022-02-15T18:33:43.053Z"
   },
   {
    "duration": 8,
    "start_time": "2022-02-15T18:33:43.060Z"
   },
   {
    "duration": 8,
    "start_time": "2022-02-15T18:33:43.070Z"
   },
   {
    "duration": 6,
    "start_time": "2022-02-15T18:33:43.080Z"
   },
   {
    "duration": 7,
    "start_time": "2022-02-15T18:33:43.130Z"
   },
   {
    "duration": 6,
    "start_time": "2022-02-15T18:33:43.139Z"
   },
   {
    "duration": 16,
    "start_time": "2022-02-15T18:33:43.147Z"
   },
   {
    "duration": 15,
    "start_time": "2022-02-15T18:33:43.165Z"
   },
   {
    "duration": 60,
    "start_time": "2022-02-15T18:33:43.181Z"
   },
   {
    "duration": 9,
    "start_time": "2022-02-15T18:33:43.243Z"
   },
   {
    "duration": 20,
    "start_time": "2022-02-15T18:33:43.254Z"
   },
   {
    "duration": 15,
    "start_time": "2022-02-15T18:33:43.276Z"
   },
   {
    "duration": 38,
    "start_time": "2022-02-15T18:33:43.293Z"
   },
   {
    "duration": 19,
    "start_time": "2022-02-15T18:33:43.333Z"
   },
   {
    "duration": 13,
    "start_time": "2022-02-15T18:33:43.354Z"
   },
   {
    "duration": 5,
    "start_time": "2022-02-15T18:33:43.369Z"
   },
   {
    "duration": 13,
    "start_time": "2022-02-15T18:33:43.376Z"
   },
   {
    "duration": 190,
    "start_time": "2022-02-15T18:33:49.592Z"
   },
   {
    "duration": 133,
    "start_time": "2022-02-15T18:34:02.209Z"
   },
   {
    "duration": 148,
    "start_time": "2022-02-15T18:35:28.244Z"
   },
   {
    "duration": 125,
    "start_time": "2022-02-15T18:35:47.921Z"
   },
   {
    "duration": 552,
    "start_time": "2022-02-15T18:35:55.209Z"
   },
   {
    "duration": 44,
    "start_time": "2022-02-15T18:35:55.763Z"
   },
   {
    "duration": 23,
    "start_time": "2022-02-15T18:35:55.808Z"
   },
   {
    "duration": 13,
    "start_time": "2022-02-15T18:35:55.833Z"
   },
   {
    "duration": 11,
    "start_time": "2022-02-15T18:35:55.847Z"
   },
   {
    "duration": 4,
    "start_time": "2022-02-15T18:35:55.860Z"
   },
   {
    "duration": 8,
    "start_time": "2022-02-15T18:35:55.866Z"
   },
   {
    "duration": 9,
    "start_time": "2022-02-15T18:35:55.876Z"
   },
   {
    "duration": 4,
    "start_time": "2022-02-15T18:35:55.887Z"
   },
   {
    "duration": 41,
    "start_time": "2022-02-15T18:35:55.893Z"
   },
   {
    "duration": 5,
    "start_time": "2022-02-15T18:35:55.936Z"
   },
   {
    "duration": 6,
    "start_time": "2022-02-15T18:35:55.943Z"
   },
   {
    "duration": 4,
    "start_time": "2022-02-15T18:35:55.951Z"
   },
   {
    "duration": 4,
    "start_time": "2022-02-15T18:35:55.957Z"
   },
   {
    "duration": 15,
    "start_time": "2022-02-15T18:35:55.962Z"
   },
   {
    "duration": 5,
    "start_time": "2022-02-15T18:35:55.978Z"
   },
   {
    "duration": 46,
    "start_time": "2022-02-15T18:35:55.985Z"
   },
   {
    "duration": 5,
    "start_time": "2022-02-15T18:35:56.033Z"
   },
   {
    "duration": 8,
    "start_time": "2022-02-15T18:35:56.040Z"
   },
   {
    "duration": 5,
    "start_time": "2022-02-15T18:35:56.049Z"
   },
   {
    "duration": 5,
    "start_time": "2022-02-15T18:35:56.055Z"
   },
   {
    "duration": 6,
    "start_time": "2022-02-15T18:35:56.062Z"
   },
   {
    "duration": 16,
    "start_time": "2022-02-15T18:35:56.071Z"
   },
   {
    "duration": 5,
    "start_time": "2022-02-15T18:35:56.088Z"
   },
   {
    "duration": 5,
    "start_time": "2022-02-15T18:35:56.130Z"
   },
   {
    "duration": 11,
    "start_time": "2022-02-15T18:35:56.136Z"
   },
   {
    "duration": 7,
    "start_time": "2022-02-15T18:35:56.148Z"
   },
   {
    "duration": 7,
    "start_time": "2022-02-15T18:35:56.156Z"
   },
   {
    "duration": 6,
    "start_time": "2022-02-15T18:35:56.164Z"
   },
   {
    "duration": 4,
    "start_time": "2022-02-15T18:35:56.171Z"
   },
   {
    "duration": 15,
    "start_time": "2022-02-15T18:35:56.177Z"
   },
   {
    "duration": 51,
    "start_time": "2022-02-15T18:35:56.194Z"
   },
   {
    "duration": 30,
    "start_time": "2022-02-15T18:35:56.247Z"
   },
   {
    "duration": 10,
    "start_time": "2022-02-15T18:35:56.278Z"
   },
   {
    "duration": 42,
    "start_time": "2022-02-15T18:35:56.289Z"
   },
   {
    "duration": 15,
    "start_time": "2022-02-15T18:35:56.333Z"
   },
   {
    "duration": 9,
    "start_time": "2022-02-15T18:35:56.349Z"
   },
   {
    "duration": 18,
    "start_time": "2022-02-15T18:35:56.360Z"
   },
   {
    "duration": 13,
    "start_time": "2022-02-15T18:35:56.380Z"
   },
   {
    "duration": 42,
    "start_time": "2022-02-15T18:35:56.395Z"
   },
   {
    "duration": 22,
    "start_time": "2022-02-15T18:35:56.439Z"
   },
   {
    "duration": 18,
    "start_time": "2022-02-15T18:36:56.381Z"
   },
   {
    "duration": 7,
    "start_time": "2022-02-15T18:42:23.226Z"
   },
   {
    "duration": 46,
    "start_time": "2022-02-15T18:55:45.719Z"
   },
   {
    "duration": 50,
    "start_time": "2022-02-15T18:56:53.731Z"
   },
   {
    "duration": 44,
    "start_time": "2022-02-15T18:56:59.736Z"
   },
   {
    "duration": 43,
    "start_time": "2022-02-15T19:04:26.354Z"
   },
   {
    "duration": 762,
    "start_time": "2022-02-15T19:22:02.885Z"
   },
   {
    "duration": 685,
    "start_time": "2022-02-15T19:24:18.111Z"
   },
   {
    "duration": 558,
    "start_time": "2022-02-15T19:24:31.423Z"
   },
   {
    "duration": 50,
    "start_time": "2022-02-15T19:24:31.983Z"
   },
   {
    "duration": 20,
    "start_time": "2022-02-15T19:24:32.038Z"
   },
   {
    "duration": 11,
    "start_time": "2022-02-15T19:24:32.060Z"
   },
   {
    "duration": 10,
    "start_time": "2022-02-15T19:24:32.073Z"
   },
   {
    "duration": 3,
    "start_time": "2022-02-15T19:24:32.085Z"
   },
   {
    "duration": 44,
    "start_time": "2022-02-15T19:24:32.092Z"
   },
   {
    "duration": 10,
    "start_time": "2022-02-15T19:24:32.139Z"
   },
   {
    "duration": 4,
    "start_time": "2022-02-15T19:24:32.151Z"
   },
   {
    "duration": 7,
    "start_time": "2022-02-15T19:24:32.157Z"
   },
   {
    "duration": 4,
    "start_time": "2022-02-15T19:24:32.166Z"
   },
   {
    "duration": 6,
    "start_time": "2022-02-15T19:24:32.172Z"
   },
   {
    "duration": 3,
    "start_time": "2022-02-15T19:24:32.180Z"
   },
   {
    "duration": 49,
    "start_time": "2022-02-15T19:24:32.185Z"
   },
   {
    "duration": 16,
    "start_time": "2022-02-15T19:24:32.236Z"
   },
   {
    "duration": 7,
    "start_time": "2022-02-15T19:24:32.254Z"
   },
   {
    "duration": 11,
    "start_time": "2022-02-15T19:24:32.263Z"
   },
   {
    "duration": 5,
    "start_time": "2022-02-15T19:24:32.275Z"
   },
   {
    "duration": 5,
    "start_time": "2022-02-15T19:24:32.281Z"
   },
   {
    "duration": 44,
    "start_time": "2022-02-15T19:24:32.288Z"
   },
   {
    "duration": 7,
    "start_time": "2022-02-15T19:24:32.333Z"
   },
   {
    "duration": 6,
    "start_time": "2022-02-15T19:24:32.342Z"
   },
   {
    "duration": 13,
    "start_time": "2022-02-15T19:24:32.350Z"
   },
   {
    "duration": 4,
    "start_time": "2022-02-15T19:24:32.364Z"
   },
   {
    "duration": 8,
    "start_time": "2022-02-15T19:24:32.370Z"
   },
   {
    "duration": 7,
    "start_time": "2022-02-15T19:24:32.379Z"
   },
   {
    "duration": 6,
    "start_time": "2022-02-15T19:24:32.388Z"
   },
   {
    "duration": 36,
    "start_time": "2022-02-15T19:24:32.395Z"
   },
   {
    "duration": 7,
    "start_time": "2022-02-15T19:24:32.433Z"
   },
   {
    "duration": 5,
    "start_time": "2022-02-15T19:24:32.441Z"
   },
   {
    "duration": 15,
    "start_time": "2022-02-15T19:24:32.447Z"
   },
   {
    "duration": 14,
    "start_time": "2022-02-15T19:24:32.464Z"
   },
   {
    "duration": 63,
    "start_time": "2022-02-15T19:24:32.480Z"
   },
   {
    "duration": 10,
    "start_time": "2022-02-15T19:24:32.544Z"
   },
   {
    "duration": 20,
    "start_time": "2022-02-15T19:24:32.555Z"
   },
   {
    "duration": 13,
    "start_time": "2022-02-15T19:24:32.576Z"
   },
   {
    "duration": 8,
    "start_time": "2022-02-15T19:24:32.591Z"
   },
   {
    "duration": 45,
    "start_time": "2022-02-15T19:24:32.601Z"
   },
   {
    "duration": 13,
    "start_time": "2022-02-15T19:24:32.648Z"
   },
   {
    "duration": 10,
    "start_time": "2022-02-15T19:24:32.663Z"
   },
   {
    "duration": 17,
    "start_time": "2022-02-15T19:24:32.675Z"
   },
   {
    "duration": 37,
    "start_time": "2022-02-15T19:24:32.694Z"
   },
   {
    "duration": 678,
    "start_time": "2022-02-15T19:24:32.733Z"
   },
   {
    "duration": 40,
    "start_time": "2022-02-15T19:24:46.272Z"
   },
   {
    "duration": 179,
    "start_time": "2022-02-16T11:32:15.267Z"
   },
   {
    "duration": 561,
    "start_time": "2022-02-16T11:32:33.562Z"
   },
   {
    "duration": 45,
    "start_time": "2022-02-16T11:32:34.125Z"
   },
   {
    "duration": 19,
    "start_time": "2022-02-16T11:32:34.171Z"
   },
   {
    "duration": 13,
    "start_time": "2022-02-16T11:32:34.191Z"
   },
   {
    "duration": 9,
    "start_time": "2022-02-16T11:32:34.206Z"
   },
   {
    "duration": 6,
    "start_time": "2022-02-16T11:32:34.216Z"
   },
   {
    "duration": 33,
    "start_time": "2022-02-16T11:32:34.223Z"
   },
   {
    "duration": 11,
    "start_time": "2022-02-16T11:32:34.259Z"
   },
   {
    "duration": 9,
    "start_time": "2022-02-16T11:32:34.273Z"
   },
   {
    "duration": 12,
    "start_time": "2022-02-16T11:32:34.284Z"
   },
   {
    "duration": 11,
    "start_time": "2022-02-16T11:32:34.297Z"
   },
   {
    "duration": 12,
    "start_time": "2022-02-16T11:32:34.310Z"
   },
   {
    "duration": 10,
    "start_time": "2022-02-16T11:32:34.324Z"
   },
   {
    "duration": 9,
    "start_time": "2022-02-16T11:32:34.336Z"
   },
   {
    "duration": 27,
    "start_time": "2022-02-16T11:32:34.346Z"
   },
   {
    "duration": 5,
    "start_time": "2022-02-16T11:32:34.375Z"
   },
   {
    "duration": 15,
    "start_time": "2022-02-16T11:32:34.382Z"
   },
   {
    "duration": 5,
    "start_time": "2022-02-16T11:32:34.398Z"
   },
   {
    "duration": 8,
    "start_time": "2022-02-16T11:32:34.404Z"
   },
   {
    "duration": 7,
    "start_time": "2022-02-16T11:32:34.413Z"
   },
   {
    "duration": 16,
    "start_time": "2022-02-16T11:32:34.421Z"
   },
   {
    "duration": 7,
    "start_time": "2022-02-16T11:32:34.460Z"
   },
   {
    "duration": 17,
    "start_time": "2022-02-16T11:32:34.470Z"
   },
   {
    "duration": 16,
    "start_time": "2022-02-16T11:32:34.489Z"
   },
   {
    "duration": 11,
    "start_time": "2022-02-16T11:32:34.507Z"
   },
   {
    "duration": 15,
    "start_time": "2022-02-16T11:32:34.520Z"
   },
   {
    "duration": 15,
    "start_time": "2022-02-16T11:32:34.537Z"
   },
   {
    "duration": 9,
    "start_time": "2022-02-16T11:32:34.554Z"
   },
   {
    "duration": 7,
    "start_time": "2022-02-16T11:32:34.565Z"
   },
   {
    "duration": 11,
    "start_time": "2022-02-16T11:32:34.574Z"
   },
   {
    "duration": 17,
    "start_time": "2022-02-16T11:32:34.587Z"
   },
   {
    "duration": 18,
    "start_time": "2022-02-16T11:32:34.605Z"
   },
   {
    "duration": 65,
    "start_time": "2022-02-16T11:32:34.625Z"
   },
   {
    "duration": 11,
    "start_time": "2022-02-16T11:32:34.692Z"
   },
   {
    "duration": 27,
    "start_time": "2022-02-16T11:32:34.704Z"
   },
   {
    "duration": 35,
    "start_time": "2022-02-16T11:32:34.732Z"
   },
   {
    "duration": 10,
    "start_time": "2022-02-16T11:32:34.769Z"
   },
   {
    "duration": 34,
    "start_time": "2022-02-16T11:32:34.780Z"
   },
   {
    "duration": 14,
    "start_time": "2022-02-16T11:32:34.816Z"
   },
   {
    "duration": 28,
    "start_time": "2022-02-16T11:32:34.832Z"
   },
   {
    "duration": 17,
    "start_time": "2022-02-16T11:32:34.862Z"
   },
   {
    "duration": 19,
    "start_time": "2022-02-16T11:32:34.881Z"
   },
   {
    "duration": 44,
    "start_time": "2022-02-16T11:32:34.902Z"
   },
   {
    "duration": 16,
    "start_time": "2022-02-16T11:32:34.948Z"
   },
   {
    "duration": 6,
    "start_time": "2022-02-16T11:34:08.938Z"
   },
   {
    "duration": 6,
    "start_time": "2022-02-16T11:39:10.866Z"
   },
   {
    "duration": 45,
    "start_time": "2022-02-16T11:45:20.811Z"
   },
   {
    "duration": 44,
    "start_time": "2022-02-16T11:45:53.291Z"
   },
   {
    "duration": 16,
    "start_time": "2022-02-16T11:52:46.339Z"
   },
   {
    "duration": 13,
    "start_time": "2022-02-16T11:53:13.809Z"
   },
   {
    "duration": 14,
    "start_time": "2022-02-16T11:53:39.179Z"
   },
   {
    "duration": 14,
    "start_time": "2022-02-16T11:56:58.427Z"
   },
   {
    "duration": 14,
    "start_time": "2022-02-16T11:59:09.272Z"
   },
   {
    "duration": 15,
    "start_time": "2022-02-16T11:59:13.074Z"
   },
   {
    "duration": 342,
    "start_time": "2022-02-16T12:12:37.720Z"
   },
   {
    "duration": 356,
    "start_time": "2022-02-16T12:13:00.192Z"
   },
   {
    "duration": 8,
    "start_time": "2022-02-16T12:13:44.579Z"
   },
   {
    "duration": 14,
    "start_time": "2022-02-16T12:37:01.491Z"
   },
   {
    "duration": 16,
    "start_time": "2022-02-16T12:38:03.443Z"
   },
   {
    "duration": 28,
    "start_time": "2022-02-16T12:46:01.323Z"
   },
   {
    "duration": 31,
    "start_time": "2022-02-16T12:48:35.269Z"
   },
   {
    "duration": 344,
    "start_time": "2022-02-16T12:53:03.441Z"
   },
   {
    "duration": 345,
    "start_time": "2022-02-16T12:53:23.948Z"
   },
   {
    "duration": 349,
    "start_time": "2022-02-16T12:53:45.975Z"
   },
   {
    "duration": 346,
    "start_time": "2022-02-16T12:53:56.213Z"
   },
   {
    "duration": 7,
    "start_time": "2022-02-16T12:54:02.173Z"
   },
   {
    "duration": 344,
    "start_time": "2022-02-16T12:54:34.716Z"
   },
   {
    "duration": 58,
    "start_time": "2022-02-16T12:55:55.014Z"
   },
   {
    "duration": 47,
    "start_time": "2022-02-16T12:56:05.351Z"
   },
   {
    "duration": 53,
    "start_time": "2022-02-16T12:56:31.749Z"
   },
   {
    "duration": 347,
    "start_time": "2022-02-16T12:57:05.837Z"
   },
   {
    "duration": 8,
    "start_time": "2022-02-16T12:57:14.719Z"
   },
   {
    "duration": 27,
    "start_time": "2022-02-16T13:26:54.768Z"
   },
   {
    "duration": 27,
    "start_time": "2022-02-16T13:36:53.546Z"
   },
   {
    "duration": 236,
    "start_time": "2022-02-16T13:45:41.916Z"
   },
   {
    "duration": 28,
    "start_time": "2022-02-16T13:47:16.803Z"
   },
   {
    "duration": 159,
    "start_time": "2022-02-16T15:28:20.453Z"
   },
   {
    "duration": 27,
    "start_time": "2022-02-16T15:28:34.567Z"
   },
   {
    "duration": 28,
    "start_time": "2022-02-16T15:28:50.014Z"
   },
   {
    "duration": 30,
    "start_time": "2022-02-16T15:33:48.710Z"
   },
   {
    "duration": 43,
    "start_time": "2022-02-16T15:56:53.575Z"
   },
   {
    "duration": 53,
    "start_time": "2022-02-16T15:57:16.375Z"
   },
   {
    "duration": 50,
    "start_time": "2022-02-16T15:57:29.129Z"
   },
   {
    "duration": 53,
    "start_time": "2022-02-16T15:57:38.460Z"
   },
   {
    "duration": 59,
    "start_time": "2022-02-16T15:59:33.168Z"
   },
   {
    "duration": 44,
    "start_time": "2022-02-16T16:01:54.164Z"
   },
   {
    "duration": 66,
    "start_time": "2022-02-16T16:02:11.008Z"
   },
   {
    "duration": 19,
    "start_time": "2022-02-16T16:05:37.028Z"
   },
   {
    "duration": 15,
    "start_time": "2022-02-16T16:05:42.938Z"
   },
   {
    "duration": 10,
    "start_time": "2022-02-16T16:05:47.673Z"
   },
   {
    "duration": 17,
    "start_time": "2022-02-16T16:05:49.864Z"
   },
   {
    "duration": 16,
    "start_time": "2022-02-16T16:05:51.568Z"
   },
   {
    "duration": 14,
    "start_time": "2022-02-16T16:05:55.353Z"
   },
   {
    "duration": 594,
    "start_time": "2022-02-16T16:06:11.455Z"
   },
   {
    "duration": 75,
    "start_time": "2022-02-16T16:06:12.051Z"
   },
   {
    "duration": 20,
    "start_time": "2022-02-16T16:06:12.129Z"
   },
   {
    "duration": 12,
    "start_time": "2022-02-16T16:06:12.151Z"
   },
   {
    "duration": 10,
    "start_time": "2022-02-16T16:06:12.165Z"
   },
   {
    "duration": 4,
    "start_time": "2022-02-16T16:06:12.177Z"
   },
   {
    "duration": 8,
    "start_time": "2022-02-16T16:06:12.182Z"
   },
   {
    "duration": 10,
    "start_time": "2022-02-16T16:06:12.193Z"
   },
   {
    "duration": 4,
    "start_time": "2022-02-16T16:06:12.206Z"
   },
   {
    "duration": 47,
    "start_time": "2022-02-16T16:06:12.212Z"
   },
   {
    "duration": 6,
    "start_time": "2022-02-16T16:06:12.261Z"
   },
   {
    "duration": 8,
    "start_time": "2022-02-16T16:06:12.269Z"
   },
   {
    "duration": 5,
    "start_time": "2022-02-16T16:06:12.279Z"
   },
   {
    "duration": 5,
    "start_time": "2022-02-16T16:06:12.286Z"
   },
   {
    "duration": 16,
    "start_time": "2022-02-16T16:06:12.293Z"
   },
   {
    "duration": 5,
    "start_time": "2022-02-16T16:06:12.311Z"
   },
   {
    "duration": 45,
    "start_time": "2022-02-16T16:06:12.318Z"
   },
   {
    "duration": 5,
    "start_time": "2022-02-16T16:06:12.365Z"
   },
   {
    "duration": 7,
    "start_time": "2022-02-16T16:06:12.372Z"
   },
   {
    "duration": 5,
    "start_time": "2022-02-16T16:06:12.381Z"
   },
   {
    "duration": 6,
    "start_time": "2022-02-16T16:06:12.388Z"
   },
   {
    "duration": 10,
    "start_time": "2022-02-16T16:06:12.396Z"
   },
   {
    "duration": 50,
    "start_time": "2022-02-16T16:06:12.409Z"
   },
   {
    "duration": 5,
    "start_time": "2022-02-16T16:06:12.462Z"
   },
   {
    "duration": 28,
    "start_time": "2022-02-16T16:06:12.469Z"
   },
   {
    "duration": 19,
    "start_time": "2022-02-16T16:06:12.499Z"
   },
   {
    "duration": 9,
    "start_time": "2022-02-16T16:06:12.520Z"
   },
   {
    "duration": 9,
    "start_time": "2022-02-16T16:06:12.531Z"
   },
   {
    "duration": 8,
    "start_time": "2022-02-16T16:06:12.541Z"
   },
   {
    "duration": 9,
    "start_time": "2022-02-16T16:06:12.551Z"
   },
   {
    "duration": 18,
    "start_time": "2022-02-16T16:06:12.562Z"
   },
   {
    "duration": 16,
    "start_time": "2022-02-16T16:06:12.581Z"
   },
   {
    "duration": 33,
    "start_time": "2022-02-16T16:06:12.599Z"
   },
   {
    "duration": 33,
    "start_time": "2022-02-16T16:06:12.634Z"
   },
   {
    "duration": 21,
    "start_time": "2022-02-16T16:06:12.669Z"
   },
   {
    "duration": 15,
    "start_time": "2022-02-16T16:06:12.692Z"
   },
   {
    "duration": 11,
    "start_time": "2022-02-16T16:06:12.709Z"
   },
   {
    "duration": 51,
    "start_time": "2022-02-16T16:06:12.721Z"
   },
   {
    "duration": 13,
    "start_time": "2022-02-16T16:06:12.774Z"
   },
   {
    "duration": 12,
    "start_time": "2022-02-16T16:06:12.789Z"
   },
   {
    "duration": 22,
    "start_time": "2022-02-16T16:06:12.802Z"
   },
   {
    "duration": 35,
    "start_time": "2022-02-16T16:06:12.825Z"
   },
   {
    "duration": 36,
    "start_time": "2022-02-16T16:06:12.862Z"
   },
   {
    "duration": 27,
    "start_time": "2022-02-16T16:06:12.900Z"
   },
   {
    "duration": 49,
    "start_time": "2022-02-16T16:06:12.929Z"
   },
   {
    "duration": 26,
    "start_time": "2022-02-16T16:06:12.980Z"
   },
   {
    "duration": 29,
    "start_time": "2022-02-16T16:06:13.007Z"
   },
   {
    "duration": 92,
    "start_time": "2022-02-16T16:06:13.037Z"
   },
   {
    "duration": 78,
    "start_time": "2022-02-16T16:10:34.700Z"
   },
   {
    "duration": 73,
    "start_time": "2022-02-16T16:11:26.249Z"
   },
   {
    "duration": 256,
    "start_time": "2022-02-16T16:12:38.325Z"
   },
   {
    "duration": 71,
    "start_time": "2022-02-16T16:12:47.172Z"
   },
   {
    "duration": 59,
    "start_time": "2022-02-16T16:16:17.563Z"
   },
   {
    "duration": 130,
    "start_time": "2022-02-16T16:23:19.217Z"
   },
   {
    "duration": 55,
    "start_time": "2022-02-24T14:49:13.454Z"
   },
   {
    "duration": 13,
    "start_time": "2022-04-02T22:13:14.277Z"
   },
   {
    "duration": 393,
    "start_time": "2022-08-25T22:39:23.568Z"
   },
   {
    "duration": 278,
    "start_time": "2022-08-25T22:39:24.676Z"
   },
   {
    "duration": 18,
    "start_time": "2022-08-25T22:39:25.733Z"
   },
   {
    "duration": 17,
    "start_time": "2022-08-25T22:39:44.535Z"
   },
   {
    "duration": 8,
    "start_time": "2022-08-25T22:41:56.035Z"
   },
   {
    "duration": 3,
    "start_time": "2022-08-25T22:42:12.924Z"
   },
   {
    "duration": 8,
    "start_time": "2022-08-25T22:43:48.253Z"
   },
   {
    "duration": 8,
    "start_time": "2022-08-25T22:44:23.170Z"
   },
   {
    "duration": 4,
    "start_time": "2022-08-25T22:45:05.319Z"
   },
   {
    "duration": 4,
    "start_time": "2022-08-25T22:45:13.749Z"
   },
   {
    "duration": 3,
    "start_time": "2022-08-25T22:45:24.150Z"
   },
   {
    "duration": 4,
    "start_time": "2022-08-25T22:45:31.369Z"
   },
   {
    "duration": 4,
    "start_time": "2022-08-25T22:46:35.375Z"
   },
   {
    "duration": 5,
    "start_time": "2022-08-25T22:47:09.176Z"
   },
   {
    "duration": 4,
    "start_time": "2022-08-25T22:51:19.584Z"
   },
   {
    "duration": 3,
    "start_time": "2022-08-25T22:51:31.341Z"
   },
   {
    "duration": 3,
    "start_time": "2022-08-25T22:51:33.966Z"
   },
   {
    "duration": 357,
    "start_time": "2022-08-25T22:51:40.726Z"
   },
   {
    "duration": 71,
    "start_time": "2022-08-25T22:51:41.085Z"
   },
   {
    "duration": 20,
    "start_time": "2022-08-25T22:51:41.157Z"
   },
   {
    "duration": 15,
    "start_time": "2022-08-25T22:51:41.179Z"
   },
   {
    "duration": 8,
    "start_time": "2022-08-25T22:51:41.196Z"
   },
   {
    "duration": 5,
    "start_time": "2022-08-25T22:51:41.206Z"
   },
   {
    "duration": 10,
    "start_time": "2022-08-25T22:51:41.213Z"
   },
   {
    "duration": 9,
    "start_time": "2022-08-25T22:51:41.224Z"
   },
   {
    "duration": 4,
    "start_time": "2022-08-25T22:51:41.235Z"
   },
   {
    "duration": 4,
    "start_time": "2022-08-25T22:51:41.241Z"
   },
   {
    "duration": 4,
    "start_time": "2022-08-25T22:51:41.284Z"
   },
   {
    "duration": 8,
    "start_time": "2022-08-25T22:51:41.289Z"
   },
   {
    "duration": 8,
    "start_time": "2022-08-25T22:51:41.298Z"
   },
   {
    "duration": 6,
    "start_time": "2022-08-25T22:51:41.307Z"
   },
   {
    "duration": 5,
    "start_time": "2022-08-25T22:51:41.315Z"
   },
   {
    "duration": 17,
    "start_time": "2022-08-25T22:51:41.321Z"
   },
   {
    "duration": 5,
    "start_time": "2022-08-25T22:51:41.340Z"
   },
   {
    "duration": 41,
    "start_time": "2022-08-25T22:51:41.347Z"
   },
   {
    "duration": 5,
    "start_time": "2022-08-25T22:51:41.389Z"
   },
   {
    "duration": 8,
    "start_time": "2022-08-25T22:51:41.395Z"
   },
   {
    "duration": 4,
    "start_time": "2022-08-25T22:51:41.404Z"
   },
   {
    "duration": 7,
    "start_time": "2022-08-25T22:51:41.410Z"
   },
   {
    "duration": 11,
    "start_time": "2022-08-25T22:51:41.419Z"
   },
   {
    "duration": 12,
    "start_time": "2022-08-25T22:51:41.431Z"
   },
   {
    "duration": 41,
    "start_time": "2022-08-25T22:51:41.445Z"
   },
   {
    "duration": 6,
    "start_time": "2022-08-25T22:51:41.487Z"
   },
   {
    "duration": 6,
    "start_time": "2022-08-25T22:51:41.495Z"
   },
   {
    "duration": 5,
    "start_time": "2022-08-25T22:51:41.505Z"
   },
   {
    "duration": 5,
    "start_time": "2022-08-25T22:51:41.512Z"
   },
   {
    "duration": 5,
    "start_time": "2022-08-25T22:51:41.519Z"
   },
   {
    "duration": 4,
    "start_time": "2022-08-25T22:51:41.525Z"
   },
   {
    "duration": 54,
    "start_time": "2022-08-25T22:51:41.531Z"
   },
   {
    "duration": 15,
    "start_time": "2022-08-25T22:51:41.587Z"
   },
   {
    "duration": 31,
    "start_time": "2022-08-25T22:51:41.603Z"
   },
   {
    "duration": 9,
    "start_time": "2022-08-25T22:51:41.635Z"
   },
   {
    "duration": 48,
    "start_time": "2022-08-25T22:51:41.645Z"
   },
   {
    "duration": 15,
    "start_time": "2022-08-25T22:51:41.694Z"
   },
   {
    "duration": 10,
    "start_time": "2022-08-25T22:51:41.710Z"
   },
   {
    "duration": 23,
    "start_time": "2022-08-25T22:51:41.723Z"
   },
   {
    "duration": 13,
    "start_time": "2022-08-25T22:51:41.748Z"
   },
   {
    "duration": 31,
    "start_time": "2022-08-25T22:51:41.762Z"
   },
   {
    "duration": 19,
    "start_time": "2022-08-25T22:51:41.795Z"
   },
   {
    "duration": 9,
    "start_time": "2022-08-25T22:51:41.816Z"
   },
   {
    "duration": 63,
    "start_time": "2022-08-25T22:51:41.827Z"
   },
   {
    "duration": 27,
    "start_time": "2022-08-25T22:51:41.892Z"
   },
   {
    "duration": 27,
    "start_time": "2022-08-25T22:51:41.921Z"
   },
   {
    "duration": 43,
    "start_time": "2022-08-25T22:51:41.950Z"
   },
   {
    "duration": 24,
    "start_time": "2022-08-25T22:51:41.995Z"
   },
   {
    "duration": 132,
    "start_time": "2022-08-25T22:51:42.020Z"
   },
   {
    "duration": 3,
    "start_time": "2022-08-25T22:52:06.999Z"
   },
   {
    "duration": 5,
    "start_time": "2022-08-25T22:52:34.445Z"
   },
   {
    "duration": 69,
    "start_time": "2022-08-25T22:59:11.094Z"
   },
   {
    "duration": 8,
    "start_time": "2022-08-25T23:02:23.656Z"
   },
   {
    "duration": 4,
    "start_time": "2022-08-25T23:05:52.569Z"
   },
   {
    "duration": 5,
    "start_time": "2022-08-25T23:06:13.924Z"
   },
   {
    "duration": 3,
    "start_time": "2022-08-25T23:06:49.964Z"
   },
   {
    "duration": 2,
    "start_time": "2022-08-25T23:06:57.476Z"
   },
   {
    "duration": 14,
    "start_time": "2022-08-25T23:07:59.603Z"
   },
   {
    "duration": 12,
    "start_time": "2022-08-25T23:08:20.361Z"
   },
   {
    "duration": 6,
    "start_time": "2022-08-25T23:09:24.538Z"
   },
   {
    "duration": 5,
    "start_time": "2022-08-25T23:09:32.276Z"
   },
   {
    "duration": 10,
    "start_time": "2022-08-25T23:10:28.387Z"
   },
   {
    "duration": 407,
    "start_time": "2022-08-25T23:11:00.752Z"
   },
   {
    "duration": 68,
    "start_time": "2022-08-25T23:11:01.161Z"
   },
   {
    "duration": 18,
    "start_time": "2022-08-25T23:11:01.231Z"
   },
   {
    "duration": 15,
    "start_time": "2022-08-25T23:11:01.251Z"
   },
   {
    "duration": 19,
    "start_time": "2022-08-25T23:11:01.268Z"
   },
   {
    "duration": 4,
    "start_time": "2022-08-25T23:11:01.288Z"
   },
   {
    "duration": 8,
    "start_time": "2022-08-25T23:11:01.293Z"
   },
   {
    "duration": 22,
    "start_time": "2022-08-25T23:11:01.302Z"
   },
   {
    "duration": 12,
    "start_time": "2022-08-25T23:11:01.325Z"
   },
   {
    "duration": 7,
    "start_time": "2022-08-25T23:11:01.340Z"
   },
   {
    "duration": 6,
    "start_time": "2022-08-25T23:11:01.348Z"
   },
   {
    "duration": 7,
    "start_time": "2022-08-25T23:11:01.355Z"
   },
   {
    "duration": 6,
    "start_time": "2022-08-25T23:11:01.363Z"
   },
   {
    "duration": 18,
    "start_time": "2022-08-25T23:11:01.370Z"
   },
   {
    "duration": 17,
    "start_time": "2022-08-25T23:11:01.389Z"
   },
   {
    "duration": 6,
    "start_time": "2022-08-25T23:11:01.408Z"
   },
   {
    "duration": 10,
    "start_time": "2022-08-25T23:11:01.416Z"
   },
   {
    "duration": 4,
    "start_time": "2022-08-25T23:11:01.428Z"
   },
   {
    "duration": 5,
    "start_time": "2022-08-25T23:11:01.434Z"
   },
   {
    "duration": 4,
    "start_time": "2022-08-25T23:11:01.441Z"
   },
   {
    "duration": 13,
    "start_time": "2022-08-25T23:11:01.447Z"
   },
   {
    "duration": 26,
    "start_time": "2022-08-25T23:11:01.462Z"
   },
   {
    "duration": 11,
    "start_time": "2022-08-25T23:11:01.490Z"
   },
   {
    "duration": 6,
    "start_time": "2022-08-25T23:11:01.502Z"
   },
   {
    "duration": 10,
    "start_time": "2022-08-25T23:11:01.509Z"
   },
   {
    "duration": 12,
    "start_time": "2022-08-25T23:11:01.521Z"
   },
   {
    "duration": 7,
    "start_time": "2022-08-25T23:11:01.534Z"
   },
   {
    "duration": 42,
    "start_time": "2022-08-25T23:11:01.544Z"
   },
   {
    "duration": 6,
    "start_time": "2022-08-25T23:11:01.587Z"
   },
   {
    "duration": 10,
    "start_time": "2022-08-25T23:11:01.594Z"
   },
   {
    "duration": 15,
    "start_time": "2022-08-25T23:11:01.605Z"
   },
   {
    "duration": 16,
    "start_time": "2022-08-25T23:11:01.622Z"
   },
   {
    "duration": 59,
    "start_time": "2022-08-25T23:11:01.640Z"
   },
   {
    "duration": 10,
    "start_time": "2022-08-25T23:11:01.700Z"
   },
   {
    "duration": 23,
    "start_time": "2022-08-25T23:11:01.712Z"
   },
   {
    "duration": 47,
    "start_time": "2022-08-25T23:11:01.738Z"
   },
   {
    "duration": 10,
    "start_time": "2022-08-25T23:11:01.788Z"
   },
   {
    "duration": 22,
    "start_time": "2022-08-25T23:11:01.801Z"
   },
   {
    "duration": 14,
    "start_time": "2022-08-25T23:11:01.825Z"
   },
   {
    "duration": 17,
    "start_time": "2022-08-25T23:11:01.841Z"
   },
   {
    "duration": 37,
    "start_time": "2022-08-25T23:11:01.861Z"
   },
   {
    "duration": 8,
    "start_time": "2022-08-25T23:11:01.900Z"
   },
   {
    "duration": 37,
    "start_time": "2022-08-25T23:11:01.910Z"
   },
   {
    "duration": 43,
    "start_time": "2022-08-25T23:11:01.949Z"
   },
   {
    "duration": 29,
    "start_time": "2022-08-25T23:11:01.993Z"
   },
   {
    "duration": 26,
    "start_time": "2022-08-25T23:11:02.023Z"
   },
   {
    "duration": 52,
    "start_time": "2022-08-25T23:11:02.051Z"
   },
   {
    "duration": 130,
    "start_time": "2022-08-25T23:11:02.104Z"
   },
   {
    "duration": 4,
    "start_time": "2022-08-25T23:11:34.098Z"
   },
   {
    "duration": 5,
    "start_time": "2022-08-25T23:11:57.971Z"
   },
   {
    "duration": 5,
    "start_time": "2022-08-25T23:12:06.443Z"
   },
   {
    "duration": 5,
    "start_time": "2022-08-25T23:12:24.930Z"
   },
   {
    "duration": 6,
    "start_time": "2022-08-25T23:12:32.026Z"
   },
   {
    "duration": 10,
    "start_time": "2022-08-25T23:12:44.234Z"
   },
   {
    "duration": 4,
    "start_time": "2022-08-25T23:13:56.403Z"
   },
   {
    "duration": 5,
    "start_time": "2022-08-25T23:14:16.620Z"
   },
   {
    "duration": 6,
    "start_time": "2022-08-25T23:14:43.074Z"
   },
   {
    "duration": 10,
    "start_time": "2022-08-25T23:15:23.097Z"
   },
   {
    "duration": 2,
    "start_time": "2022-08-25T23:16:44.011Z"
   },
   {
    "duration": 4,
    "start_time": "2022-08-25T23:17:02.001Z"
   },
   {
    "duration": 4,
    "start_time": "2022-08-25T23:17:07.016Z"
   },
   {
    "duration": 407,
    "start_time": "2022-08-25T23:20:28.010Z"
   },
   {
    "duration": 70,
    "start_time": "2022-08-25T23:20:28.419Z"
   },
   {
    "duration": 21,
    "start_time": "2022-08-25T23:20:28.490Z"
   },
   {
    "duration": 14,
    "start_time": "2022-08-25T23:20:28.513Z"
   },
   {
    "duration": 9,
    "start_time": "2022-08-25T23:20:28.528Z"
   },
   {
    "duration": 6,
    "start_time": "2022-08-25T23:20:28.538Z"
   },
   {
    "duration": 7,
    "start_time": "2022-08-25T23:20:28.545Z"
   },
   {
    "duration": 36,
    "start_time": "2022-08-25T23:20:28.554Z"
   },
   {
    "duration": 20,
    "start_time": "2022-08-25T23:20:28.592Z"
   },
   {
    "duration": 6,
    "start_time": "2022-08-25T23:20:28.614Z"
   },
   {
    "duration": 6,
    "start_time": "2022-08-25T23:20:28.621Z"
   },
   {
    "duration": 7,
    "start_time": "2022-08-25T23:20:28.629Z"
   },
   {
    "duration": 7,
    "start_time": "2022-08-25T23:20:28.637Z"
   },
   {
    "duration": 5,
    "start_time": "2022-08-25T23:20:28.646Z"
   },
   {
    "duration": 4,
    "start_time": "2022-08-25T23:20:28.653Z"
   },
   {
    "duration": 36,
    "start_time": "2022-08-25T23:20:28.658Z"
   },
   {
    "duration": 6,
    "start_time": "2022-08-25T23:20:28.696Z"
   },
   {
    "duration": 10,
    "start_time": "2022-08-25T23:20:28.703Z"
   },
   {
    "duration": 3,
    "start_time": "2022-08-25T23:20:28.715Z"
   },
   {
    "duration": 6,
    "start_time": "2022-08-25T23:20:28.720Z"
   },
   {
    "duration": 5,
    "start_time": "2022-08-25T23:20:28.727Z"
   },
   {
    "duration": 5,
    "start_time": "2022-08-25T23:20:28.733Z"
   },
   {
    "duration": 7,
    "start_time": "2022-08-25T23:20:28.740Z"
   },
   {
    "duration": 46,
    "start_time": "2022-08-25T23:20:28.748Z"
   },
   {
    "duration": 7,
    "start_time": "2022-08-25T23:20:28.795Z"
   },
   {
    "duration": 7,
    "start_time": "2022-08-25T23:20:28.804Z"
   },
   {
    "duration": 10,
    "start_time": "2022-08-25T23:20:28.813Z"
   },
   {
    "duration": 6,
    "start_time": "2022-08-25T23:20:28.826Z"
   },
   {
    "duration": 5,
    "start_time": "2022-08-25T23:20:28.833Z"
   },
   {
    "duration": 5,
    "start_time": "2022-08-25T23:20:28.840Z"
   },
   {
    "duration": 41,
    "start_time": "2022-08-25T23:20:28.846Z"
   },
   {
    "duration": 18,
    "start_time": "2022-08-25T23:20:28.889Z"
   },
   {
    "duration": 16,
    "start_time": "2022-08-25T23:20:28.908Z"
   },
   {
    "duration": 26,
    "start_time": "2022-08-25T23:20:28.926Z"
   },
   {
    "duration": 8,
    "start_time": "2022-08-25T23:20:28.954Z"
   },
   {
    "duration": 42,
    "start_time": "2022-08-25T23:20:28.963Z"
   },
   {
    "duration": 15,
    "start_time": "2022-08-25T23:20:29.007Z"
   },
   {
    "duration": 9,
    "start_time": "2022-08-25T23:20:29.023Z"
   },
   {
    "duration": 16,
    "start_time": "2022-08-25T23:20:29.034Z"
   },
   {
    "duration": 45,
    "start_time": "2022-08-25T23:20:29.052Z"
   },
   {
    "duration": 10,
    "start_time": "2022-08-25T23:20:29.099Z"
   },
   {
    "duration": 16,
    "start_time": "2022-08-25T23:20:29.111Z"
   },
   {
    "duration": 7,
    "start_time": "2022-08-25T23:20:29.128Z"
   },
   {
    "duration": 66,
    "start_time": "2022-08-25T23:20:29.137Z"
   },
   {
    "duration": 28,
    "start_time": "2022-08-25T23:20:29.205Z"
   },
   {
    "duration": 27,
    "start_time": "2022-08-25T23:20:29.235Z"
   },
   {
    "duration": 28,
    "start_time": "2022-08-25T23:20:29.285Z"
   },
   {
    "duration": 25,
    "start_time": "2022-08-25T23:20:29.314Z"
   },
   {
    "duration": 144,
    "start_time": "2022-08-25T23:20:29.340Z"
   },
   {
    "duration": 4,
    "start_time": "2022-08-25T23:21:57.982Z"
   },
   {
    "duration": 3,
    "start_time": "2022-08-25T23:22:03.118Z"
   },
   {
    "duration": 4,
    "start_time": "2022-08-25T23:22:30.471Z"
   },
   {
    "duration": 5,
    "start_time": "2022-08-25T23:24:04.447Z"
   },
   {
    "duration": 6,
    "start_time": "2022-08-25T23:27:07.350Z"
   },
   {
    "duration": 8,
    "start_time": "2022-08-25T23:27:24.605Z"
   },
   {
    "duration": 8,
    "start_time": "2022-08-25T23:27:30.453Z"
   },
   {
    "duration": 6,
    "start_time": "2022-08-25T23:27:31.948Z"
   },
   {
    "duration": 4,
    "start_time": "2022-08-25T23:27:41.661Z"
   },
   {
    "duration": 4,
    "start_time": "2022-08-25T23:27:42.861Z"
   },
   {
    "duration": 15,
    "start_time": "2022-08-25T23:27:57.805Z"
   },
   {
    "duration": 6,
    "start_time": "2022-08-25T23:28:12.075Z"
   },
   {
    "duration": 10,
    "start_time": "2022-08-25T23:28:18.581Z"
   },
   {
    "duration": 4,
    "start_time": "2022-08-25T23:28:49.404Z"
   },
   {
    "duration": 5,
    "start_time": "2022-08-25T23:29:09.741Z"
   },
   {
    "duration": 4,
    "start_time": "2022-08-25T23:29:25.957Z"
   },
   {
    "duration": 5,
    "start_time": "2022-08-25T23:29:38.988Z"
   },
   {
    "duration": 7,
    "start_time": "2022-08-25T23:29:42.796Z"
   },
   {
    "duration": 10,
    "start_time": "2022-08-25T23:29:46.476Z"
   },
   {
    "duration": 12,
    "start_time": "2022-08-25T23:29:55.069Z"
   },
   {
    "duration": 4,
    "start_time": "2022-08-25T23:30:35.684Z"
   },
   {
    "duration": 4,
    "start_time": "2022-08-25T23:30:56.158Z"
   },
   {
    "duration": 6,
    "start_time": "2022-08-25T23:31:32.620Z"
   },
   {
    "duration": 7,
    "start_time": "2022-08-25T23:32:14.909Z"
   },
   {
    "duration": 6,
    "start_time": "2022-08-25T23:32:35.389Z"
   },
   {
    "duration": 5,
    "start_time": "2022-08-25T23:33:09.238Z"
   },
   {
    "duration": 5,
    "start_time": "2022-08-25T23:33:56.981Z"
   },
   {
    "duration": 14,
    "start_time": "2022-08-25T23:34:20.820Z"
   },
   {
    "duration": 24,
    "start_time": "2022-08-25T23:35:05.728Z"
   },
   {
    "duration": 32,
    "start_time": "2022-08-25T23:35:34.145Z"
   },
   {
    "duration": 30,
    "start_time": "2022-08-25T23:35:55.304Z"
   },
   {
    "duration": 10,
    "start_time": "2022-08-25T23:36:55.228Z"
   },
   {
    "duration": 19,
    "start_time": "2022-08-25T23:37:04.501Z"
   },
   {
    "duration": 17,
    "start_time": "2022-08-25T23:37:15.683Z"
   },
   {
    "duration": 9,
    "start_time": "2022-08-25T23:37:25.277Z"
   },
   {
    "duration": 17,
    "start_time": "2022-08-25T23:37:38.447Z"
   },
   {
    "duration": 19,
    "start_time": "2022-08-25T23:37:49.550Z"
   },
   {
    "duration": 17,
    "start_time": "2022-08-25T23:38:01.413Z"
   },
   {
    "duration": 15,
    "start_time": "2022-08-25T23:38:09.040Z"
   },
   {
    "duration": 16,
    "start_time": "2022-08-25T23:39:31.831Z"
   },
   {
    "duration": 7,
    "start_time": "2022-08-25T23:39:51.016Z"
   },
   {
    "duration": 50,
    "start_time": "2022-08-25T23:40:41.270Z"
   },
   {
    "duration": 37,
    "start_time": "2022-08-25T23:43:15.991Z"
   },
   {
    "duration": 30,
    "start_time": "2022-08-25T23:44:53.501Z"
   },
   {
    "duration": 39,
    "start_time": "2022-08-25T23:46:03.469Z"
   },
   {
    "duration": 25,
    "start_time": "2022-08-25T23:48:05.919Z"
   },
   {
    "duration": 192,
    "start_time": "2022-08-25T23:49:27.774Z"
   },
   {
    "duration": 137,
    "start_time": "2022-08-25T23:49:32.312Z"
   }
  ],
  "kernelspec": {
   "display_name": "Python 3 (ipykernel)",
   "language": "python",
   "name": "python3"
  },
  "language_info": {
   "codemirror_mode": {
    "name": "ipython",
    "version": 3
   },
   "file_extension": ".py",
   "mimetype": "text/x-python",
   "name": "python",
   "nbconvert_exporter": "python",
   "pygments_lexer": "ipython3",
   "version": "3.9.7"
  },
  "toc": {
   "base_numbering": 1,
   "nav_menu": {},
   "number_sections": true,
   "sideBar": true,
   "skip_h1_title": true,
   "title_cell": "Содержание",
   "title_sidebar": "Contents",
   "toc_cell": true,
   "toc_position": {
    "height": "calc(100% - 180px)",
    "left": "10px",
    "top": "150px",
    "width": "331.264px"
   },
   "toc_section_display": true,
   "toc_window_display": true
  }
 },
 "nbformat": 4,
 "nbformat_minor": 5
}
