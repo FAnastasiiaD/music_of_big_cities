{
 "cells": [
  {
   "cell_type": "markdown",
   "metadata": {},
   "source": [
    "# Изучение закономерностей, определяющих успешность игр"
   ]
  },
  {
   "cell_type": "markdown",
   "metadata": {},
   "source": [
    "## Шаг 1. Обзор данных"
   ]
  },
  {
   "cell_type": "markdown",
   "metadata": {},
   "source": [
    "Составление первого представления о данных статистики архива компьютерных игр из открытых источников доступны исторические данные о продажах игр, оценки пользователей и экспертов, жанры и платформы."
   ]
  },
  {
   "cell_type": "code",
   "execution_count": 1,
   "metadata": {},
   "outputs": [],
   "source": [
    "# импорт необходимых библиотек\n",
    "import pandas as pd\n",
    "import numpy as np\n",
    "import matplotlib.pyplot as plt\n",
    "import seaborn as sns\n",
    "import warnings\n",
    "from scipy import stats as st"
   ]
  },
  {
   "cell_type": "markdown",
   "metadata": {},
   "source": [
    "Чтение файла `games.csv` и сохрание его в переменной df:"
   ]
  },
  {
   "cell_type": "code",
   "execution_count": 2,
   "metadata": {},
   "outputs": [
    {
     "data": {
      "text/html": [
       "<div>\n",
       "<style scoped>\n",
       "    .dataframe tbody tr th:only-of-type {\n",
       "        vertical-align: middle;\n",
       "    }\n",
       "\n",
       "    .dataframe tbody tr th {\n",
       "        vertical-align: top;\n",
       "    }\n",
       "\n",
       "    .dataframe thead th {\n",
       "        text-align: right;\n",
       "    }\n",
       "</style>\n",
       "<table border=\"1\" class=\"dataframe\">\n",
       "  <thead>\n",
       "    <tr style=\"text-align: right;\">\n",
       "      <th></th>\n",
       "      <th>Name</th>\n",
       "      <th>Platform</th>\n",
       "      <th>Year_of_Release</th>\n",
       "      <th>Genre</th>\n",
       "      <th>NA_sales</th>\n",
       "      <th>EU_sales</th>\n",
       "      <th>JP_sales</th>\n",
       "      <th>Other_sales</th>\n",
       "      <th>Critic_Score</th>\n",
       "      <th>User_Score</th>\n",
       "      <th>Rating</th>\n",
       "    </tr>\n",
       "  </thead>\n",
       "  <tbody>\n",
       "    <tr>\n",
       "      <th>0</th>\n",
       "      <td>Wii Sports</td>\n",
       "      <td>Wii</td>\n",
       "      <td>2006.0</td>\n",
       "      <td>Sports</td>\n",
       "      <td>41.36</td>\n",
       "      <td>28.96</td>\n",
       "      <td>3.77</td>\n",
       "      <td>8.45</td>\n",
       "      <td>76.0</td>\n",
       "      <td>8</td>\n",
       "      <td>E</td>\n",
       "    </tr>\n",
       "    <tr>\n",
       "      <th>1</th>\n",
       "      <td>Super Mario Bros.</td>\n",
       "      <td>NES</td>\n",
       "      <td>1985.0</td>\n",
       "      <td>Platform</td>\n",
       "      <td>29.08</td>\n",
       "      <td>3.58</td>\n",
       "      <td>6.81</td>\n",
       "      <td>0.77</td>\n",
       "      <td>NaN</td>\n",
       "      <td>NaN</td>\n",
       "      <td>NaN</td>\n",
       "    </tr>\n",
       "    <tr>\n",
       "      <th>2</th>\n",
       "      <td>Mario Kart Wii</td>\n",
       "      <td>Wii</td>\n",
       "      <td>2008.0</td>\n",
       "      <td>Racing</td>\n",
       "      <td>15.68</td>\n",
       "      <td>12.76</td>\n",
       "      <td>3.79</td>\n",
       "      <td>3.29</td>\n",
       "      <td>82.0</td>\n",
       "      <td>8.3</td>\n",
       "      <td>E</td>\n",
       "    </tr>\n",
       "    <tr>\n",
       "      <th>3</th>\n",
       "      <td>Wii Sports Resort</td>\n",
       "      <td>Wii</td>\n",
       "      <td>2009.0</td>\n",
       "      <td>Sports</td>\n",
       "      <td>15.61</td>\n",
       "      <td>10.93</td>\n",
       "      <td>3.28</td>\n",
       "      <td>2.95</td>\n",
       "      <td>80.0</td>\n",
       "      <td>8</td>\n",
       "      <td>E</td>\n",
       "    </tr>\n",
       "    <tr>\n",
       "      <th>4</th>\n",
       "      <td>Pokemon Red/Pokemon Blue</td>\n",
       "      <td>GB</td>\n",
       "      <td>1996.0</td>\n",
       "      <td>Role-Playing</td>\n",
       "      <td>11.27</td>\n",
       "      <td>8.89</td>\n",
       "      <td>10.22</td>\n",
       "      <td>1.00</td>\n",
       "      <td>NaN</td>\n",
       "      <td>NaN</td>\n",
       "      <td>NaN</td>\n",
       "    </tr>\n",
       "    <tr>\n",
       "      <th>5</th>\n",
       "      <td>Tetris</td>\n",
       "      <td>GB</td>\n",
       "      <td>1989.0</td>\n",
       "      <td>Puzzle</td>\n",
       "      <td>23.20</td>\n",
       "      <td>2.26</td>\n",
       "      <td>4.22</td>\n",
       "      <td>0.58</td>\n",
       "      <td>NaN</td>\n",
       "      <td>NaN</td>\n",
       "      <td>NaN</td>\n",
       "    </tr>\n",
       "    <tr>\n",
       "      <th>6</th>\n",
       "      <td>New Super Mario Bros.</td>\n",
       "      <td>DS</td>\n",
       "      <td>2006.0</td>\n",
       "      <td>Platform</td>\n",
       "      <td>11.28</td>\n",
       "      <td>9.14</td>\n",
       "      <td>6.50</td>\n",
       "      <td>2.88</td>\n",
       "      <td>89.0</td>\n",
       "      <td>8.5</td>\n",
       "      <td>E</td>\n",
       "    </tr>\n",
       "    <tr>\n",
       "      <th>7</th>\n",
       "      <td>Wii Play</td>\n",
       "      <td>Wii</td>\n",
       "      <td>2006.0</td>\n",
       "      <td>Misc</td>\n",
       "      <td>13.96</td>\n",
       "      <td>9.18</td>\n",
       "      <td>2.93</td>\n",
       "      <td>2.84</td>\n",
       "      <td>58.0</td>\n",
       "      <td>6.6</td>\n",
       "      <td>E</td>\n",
       "    </tr>\n",
       "    <tr>\n",
       "      <th>8</th>\n",
       "      <td>New Super Mario Bros. Wii</td>\n",
       "      <td>Wii</td>\n",
       "      <td>2009.0</td>\n",
       "      <td>Platform</td>\n",
       "      <td>14.44</td>\n",
       "      <td>6.94</td>\n",
       "      <td>4.70</td>\n",
       "      <td>2.24</td>\n",
       "      <td>87.0</td>\n",
       "      <td>8.4</td>\n",
       "      <td>E</td>\n",
       "    </tr>\n",
       "    <tr>\n",
       "      <th>9</th>\n",
       "      <td>Duck Hunt</td>\n",
       "      <td>NES</td>\n",
       "      <td>1984.0</td>\n",
       "      <td>Shooter</td>\n",
       "      <td>26.93</td>\n",
       "      <td>0.63</td>\n",
       "      <td>0.28</td>\n",
       "      <td>0.47</td>\n",
       "      <td>NaN</td>\n",
       "      <td>NaN</td>\n",
       "      <td>NaN</td>\n",
       "    </tr>\n",
       "  </tbody>\n",
       "</table>\n",
       "</div>"
      ],
      "text/plain": [
       "                        Name Platform  Year_of_Release         Genre  \\\n",
       "0                 Wii Sports      Wii           2006.0        Sports   \n",
       "1          Super Mario Bros.      NES           1985.0      Platform   \n",
       "2             Mario Kart Wii      Wii           2008.0        Racing   \n",
       "3          Wii Sports Resort      Wii           2009.0        Sports   \n",
       "4   Pokemon Red/Pokemon Blue       GB           1996.0  Role-Playing   \n",
       "5                     Tetris       GB           1989.0        Puzzle   \n",
       "6      New Super Mario Bros.       DS           2006.0      Platform   \n",
       "7                   Wii Play      Wii           2006.0          Misc   \n",
       "8  New Super Mario Bros. Wii      Wii           2009.0      Platform   \n",
       "9                  Duck Hunt      NES           1984.0       Shooter   \n",
       "\n",
       "   NA_sales  EU_sales  JP_sales  Other_sales  Critic_Score User_Score Rating  \n",
       "0     41.36     28.96      3.77         8.45          76.0          8      E  \n",
       "1     29.08      3.58      6.81         0.77           NaN        NaN    NaN  \n",
       "2     15.68     12.76      3.79         3.29          82.0        8.3      E  \n",
       "3     15.61     10.93      3.28         2.95          80.0          8      E  \n",
       "4     11.27      8.89     10.22         1.00           NaN        NaN    NaN  \n",
       "5     23.20      2.26      4.22         0.58           NaN        NaN    NaN  \n",
       "6     11.28      9.14      6.50         2.88          89.0        8.5      E  \n",
       "7     13.96      9.18      2.93         2.84          58.0        6.6      E  \n",
       "8     14.44      6.94      4.70         2.24          87.0        8.4      E  \n",
       "9     26.93      0.63      0.28         0.47           NaN        NaN    NaN  "
      ]
     },
     "metadata": {},
     "output_type": "display_data"
    }
   ],
   "source": [
    "# чтение файла с данными и сохранение в df\n",
    "df = pd.read_csv('/datasets/games.csv')\n",
    "\n",
    "# получение первых 10 строк таблицы df\n",
    "display(df.head(10))"
   ]
  },
  {
   "cell_type": "code",
   "execution_count": 3,
   "metadata": {},
   "outputs": [
    {
     "name": "stdout",
     "output_type": "stream",
     "text": [
      "<class 'pandas.core.frame.DataFrame'>\n",
      "RangeIndex: 16715 entries, 0 to 16714\n",
      "Data columns (total 11 columns):\n",
      " #   Column           Non-Null Count  Dtype  \n",
      "---  ------           --------------  -----  \n",
      " 0   Name             16713 non-null  object \n",
      " 1   Platform         16715 non-null  object \n",
      " 2   Year_of_Release  16446 non-null  float64\n",
      " 3   Genre            16713 non-null  object \n",
      " 4   NA_sales         16715 non-null  float64\n",
      " 5   EU_sales         16715 non-null  float64\n",
      " 6   JP_sales         16715 non-null  float64\n",
      " 7   Other_sales      16715 non-null  float64\n",
      " 8   Critic_Score     8137 non-null   float64\n",
      " 9   User_Score       10014 non-null  object \n",
      " 10  Rating           9949 non-null   object \n",
      "dtypes: float64(6), object(5)\n",
      "memory usage: 1.4+ MB\n"
     ]
    }
   ],
   "source": [
    "# общая информация о таблице df\n",
    "df.info()"
   ]
  },
  {
   "cell_type": "markdown",
   "metadata": {},
   "source": [
    "Итак, в таблице одинадцать столбцов. Тип данных во всех столбцах разный.\n",
    "\n",
    "Согласно документации к данным:\n",
    "\n",
    "* `Name` — название игры;\n",
    "* `Platform` — платформа;\n",
    "* `Year_of_Release` — год выпуска;\n",
    "* `Genre` — жанр игры;\n",
    "* `NA_sales` — продажи в Северной Америке (миллионы проданных копий);\n",
    "* `EU_sales` — продажи в Европе (миллионы проданных копий);\n",
    "* `JP_sales` — продажи в Японии (миллионы проданных копий);\n",
    "* `Other_sales` — продажи в других странах (миллионы проданных копий);\n",
    "* `Critic_Score` — оценка критиков (максимум 100);\n",
    "* `User_Score` — оценка пользователей (максимум 10);\n",
    "* `Rating` — рейтинг от организации ESRB (англ. Entertainment Software Rating Board). Эта ассоциация определяет рейтинг компьютерных игр и присваивает им подходящую возрастную категорию.\n",
    "\n",
    "При просмотре данных, можно сделать вывод о том, что в названиях столбцов присутствуют нарушения, необходимо привести их к нижнему регистру. Данные некоторых столбцов необходимо будет привести к нужному типу. В некоторых столбцах присутствуют пропуски, необходимо выяснить причину их появления и возможности избавления от них, где это необходимо. "
   ]
  },
  {
   "cell_type": "markdown",
   "metadata": {},
   "source": [
    "## Шаг 2. Предобработка данных"
   ]
  },
  {
   "cell_type": "markdown",
   "metadata": {},
   "source": [
    "### Изменение названий столбцов ###"
   ]
  },
  {
   "cell_type": "code",
   "execution_count": 4,
   "metadata": {},
   "outputs": [
    {
     "name": "stdout",
     "output_type": "stream",
     "text": [
      "Index(['Name', 'Platform', 'Year_of_Release', 'Genre', 'NA_sales', 'EU_sales',\n",
      "       'JP_sales', 'Other_sales', 'Critic_Score', 'User_Score', 'Rating'],\n",
      "      dtype='object')\n"
     ]
    }
   ],
   "source": [
    "# перечень названий столбцов таблицы df\n",
    "print(df.columns)"
   ]
  },
  {
   "cell_type": "code",
   "execution_count": 5,
   "metadata": {},
   "outputs": [
    {
     "name": "stdout",
     "output_type": "stream",
     "text": [
      "Index(['name', 'platform', 'year_of_release', 'genre', 'na_sales', 'eu_sales',\n",
      "       'jp_sales', 'other_sales', 'critic_score', 'user_score', 'rating'],\n",
      "      dtype='object')\n"
     ]
    }
   ],
   "source": [
    "# приведение к нижнему регистру\n",
    "df.columns = df.columns.str.lower()\n",
    "\n",
    "# перечень названий столбцов таблицы df\n",
    "print(df.columns)"
   ]
  },
  {
   "cell_type": "markdown",
   "metadata": {},
   "source": [
    "### Обработка пропущеных значений ###"
   ]
  },
  {
   "cell_type": "markdown",
   "metadata": {},
   "source": [
    "В шести столбцах из одинадцати есть пропущенные значения, необходимо найти их долю, для того чтобы понять, что делать с ними далее:"
   ]
  },
  {
   "cell_type": "code",
   "execution_count": 6,
   "metadata": {},
   "outputs": [
    {
     "data": {
      "text/plain": [
       "name                  2\n",
       "platform              0\n",
       "year_of_release     269\n",
       "genre                 2\n",
       "na_sales              0\n",
       "eu_sales              0\n",
       "jp_sales              0\n",
       "other_sales           0\n",
       "critic_score       8578\n",
       "user_score         6701\n",
       "rating             6766\n",
       "dtype: int64"
      ]
     },
     "metadata": {},
     "output_type": "display_data"
    }
   ],
   "source": [
    "# подсчёт пропусков\n",
    "display(df.isna().sum())"
   ]
  },
  {
   "cell_type": "code",
   "execution_count": 7,
   "metadata": {},
   "outputs": [],
   "source": [
    "# функция для подсчета доли пропусков\n",
    "def pass_value(value, name):\n",
    "    miss_part = value / 16715\n",
    "    return print(f'{name} {miss_part:.2%}')"
   ]
  },
  {
   "cell_type": "code",
   "execution_count": 8,
   "metadata": {},
   "outputs": [
    {
     "name": "stdout",
     "output_type": "stream",
     "text": [
      "name 0.01%\n",
      "platform 0.00%\n",
      "year_of_release 1.61%\n",
      "genre 0.01%\n",
      "na_sales 0.00%\n",
      "eu_sales 0.00%\n",
      "jp_sales 0.00%\n",
      "other_sales 0.00%\n",
      "critic_score 51.32%\n",
      "user_score 40.09%\n",
      "rating 40.48%\n"
     ]
    }
   ],
   "source": [
    "# подсчет доли пропусков\n",
    "for col in df.columns:\n",
    "    pass_value(df[col].isna().sum(), col)"
   ]
  },
  {
   "cell_type": "markdown",
   "metadata": {},
   "source": [
    "В таких столбцах как `name`, `year_of_release` и `genre` доля пропусков составляет менее 5%, поэтому от неизвестных значений в данных столбцах можно избавиться. Причиной появления настоящих пропусков могла стать ошибка при переносе данных или данные просто могли быть не указаны изначально."
   ]
  },
  {
   "cell_type": "code",
   "execution_count": 9,
   "metadata": {},
   "outputs": [
    {
     "data": {
      "text/plain": [
       "name                  0\n",
       "platform              0\n",
       "year_of_release       0\n",
       "genre                 0\n",
       "na_sales              0\n",
       "eu_sales              0\n",
       "jp_sales              0\n",
       "other_sales           0\n",
       "critic_score       8461\n",
       "user_score         6605\n",
       "rating             6676\n",
       "dtype: int64"
      ]
     },
     "metadata": {},
     "output_type": "display_data"
    }
   ],
   "source": [
    "# удаление пропущеных значений\n",
    "df = df.dropna(subset=['name', 'year_of_release', 'genre'])\n",
    "\n",
    "# подсчёт пропусков\n",
    "display(df.isna().sum())"
   ]
  },
  {
   "cell_type": "code",
   "execution_count": 10,
   "metadata": {},
   "outputs": [
    {
     "data": {
      "text/plain": [
       "PS2     2127\n",
       "DS      2121\n",
       "PS3     1306\n",
       "Wii     1286\n",
       "X360    1232\n",
       "PSP     1193\n",
       "PS      1190\n",
       "PC       957\n",
       "GBA      811\n",
       "XB       803\n",
       "GC       542\n",
       "3DS      512\n",
       "PSV      429\n",
       "PS4      392\n",
       "N64      316\n",
       "XOne     247\n",
       "SNES     239\n",
       "SAT      173\n",
       "WiiU     147\n",
       "2600     116\n",
       "NES       98\n",
       "GB        97\n",
       "DC        52\n",
       "GEN       27\n",
       "NG        12\n",
       "WS         6\n",
       "SCD        6\n",
       "3DO        3\n",
       "TG16       2\n",
       "PCFX       1\n",
       "GG         1\n",
       "Name: platform, dtype: int64"
      ]
     },
     "metadata": {},
     "output_type": "display_data"
    }
   ],
   "source": [
    "# просмотр уникальных значений в столбце platform\n",
    "display(df['platform'].value_counts())"
   ]
  },
  {
   "cell_type": "code",
   "execution_count": 11,
   "metadata": {},
   "outputs": [
    {
     "data": {
      "text/plain": [
       "array([76., nan, 82., 80., 89., 58., 87., 91., 61., 97., 95., 77., 88.,\n",
       "       83., 94., 93., 85., 86., 98., 96., 90., 84., 73., 74., 78., 92.,\n",
       "       71., 72., 68., 62., 49., 67., 81., 66., 56., 79., 70., 59., 64.,\n",
       "       75., 60., 63., 69., 50., 25., 42., 44., 55., 48., 57., 29., 47.,\n",
       "       65., 54., 20., 53., 37., 38., 33., 52., 30., 32., 43., 45., 51.,\n",
       "       40., 46., 39., 34., 41., 36., 31., 27., 35., 26., 19., 28., 23.,\n",
       "       24., 21., 17., 13.])"
      ]
     },
     "metadata": {},
     "output_type": "display_data"
    }
   ],
   "source": [
    "# просмотр уникальных значений в столбце critic_score\n",
    "display(df['critic_score'].unique())"
   ]
  },
  {
   "cell_type": "markdown",
   "metadata": {},
   "source": [
    "Корректной замены для пропусков в `critic_score` - нет, любое заполнение исказит результаты дальнейших расчетов."
   ]
  },
  {
   "cell_type": "code",
   "execution_count": 12,
   "metadata": {},
   "outputs": [
    {
     "data": {
      "text/plain": [
       "array(['8', nan, '8.3', '8.5', '6.6', '8.4', '8.6', '7.7', '6.3', '7.4',\n",
       "       '8.2', '9', '7.9', '8.1', '8.7', '7.1', '3.4', '5.3', '4.8', '3.2',\n",
       "       '8.9', '6.4', '7.8', '7.5', '2.6', '7.2', '9.2', '7', '7.3', '4.3',\n",
       "       '7.6', '5.7', '5', '9.1', '6.5', 'tbd', '8.8', '6.9', '9.4', '6.8',\n",
       "       '6.1', '6.7', '5.4', '4', '4.9', '4.5', '9.3', '6.2', '4.2', '6',\n",
       "       '3.7', '4.1', '5.8', '5.6', '5.5', '4.4', '4.6', '5.9', '3.9',\n",
       "       '3.1', '2.9', '5.2', '3.3', '4.7', '5.1', '3.5', '2.5', '1.9', '3',\n",
       "       '2.7', '2.2', '2', '9.5', '2.1', '3.6', '2.8', '1.8', '3.8', '0',\n",
       "       '1.6', '9.6', '2.4', '1.7', '1.1', '0.3', '1.5', '0.7', '1.2',\n",
       "       '2.3', '0.5', '1.3', '0.2', '0.6', '1.4', '0.9', '1', '9.7'],\n",
       "      dtype=object)"
      ]
     },
     "metadata": {},
     "output_type": "display_data"
    }
   ],
   "source": [
    "# просмотр уникальных значений в столбце user_score\n",
    "display(df['user_score'].unique())"
   ]
  },
  {
   "cell_type": "markdown",
   "metadata": {},
   "source": [
    "При просмотре уникальных значений в столбце `user_score` было обнаружено значение `tbd`, вероятнее всего, это TBD - аббревиатура от английского To Be Determined (будет определено) или To Be Decided (будет решено). Используется, если какая-то информация еще не определена или решение по вопросу не принято. Исходя из этого, значение `tbd` будет изменено на `nan`:"
   ]
  },
  {
   "cell_type": "code",
   "execution_count": 13,
   "metadata": {},
   "outputs": [
    {
     "data": {
      "text/plain": [
       "array(['8', nan, '8.3', '8.5', '6.6', '8.4', '8.6', '7.7', '6.3', '7.4',\n",
       "       '8.2', '9', '7.9', '8.1', '8.7', '7.1', '3.4', '5.3', '4.8', '3.2',\n",
       "       '8.9', '6.4', '7.8', '7.5', '2.6', '7.2', '9.2', '7', '7.3', '4.3',\n",
       "       '7.6', '5.7', '5', '9.1', '6.5', '8.8', '6.9', '9.4', '6.8', '6.1',\n",
       "       '6.7', '5.4', '4', '4.9', '4.5', '9.3', '6.2', '4.2', '6', '3.7',\n",
       "       '4.1', '5.8', '5.6', '5.5', '4.4', '4.6', '5.9', '3.9', '3.1',\n",
       "       '2.9', '5.2', '3.3', '4.7', '5.1', '3.5', '2.5', '1.9', '3', '2.7',\n",
       "       '2.2', '2', '9.5', '2.1', '3.6', '2.8', '1.8', '3.8', '0', '1.6',\n",
       "       '9.6', '2.4', '1.7', '1.1', '0.3', '1.5', '0.7', '1.2', '2.3',\n",
       "       '0.5', '1.3', '0.2', '0.6', '1.4', '0.9', '1', '9.7'], dtype=object)"
      ]
     },
     "metadata": {},
     "output_type": "display_data"
    }
   ],
   "source": [
    "# замена значений tbd на nan\n",
    "df.loc[df['user_score'] == 'tbd', 'user_score'] = float('nan') \n",
    "\n",
    "# просмотр уникальных значений в столбце user_score\n",
    "display(df['user_score'].unique())"
   ]
  },
  {
   "cell_type": "markdown",
   "metadata": {},
   "source": [
    "Корректной замены для пропусков в `user_score` - нет, любое заполнение исказит результаты дальнейших расчетов."
   ]
  },
  {
   "cell_type": "code",
   "execution_count": 14,
   "metadata": {},
   "outputs": [
    {
     "data": {
      "text/plain": [
       "array(['E', nan, 'M', 'T', 'E10+', 'K-A', 'AO', 'EC', 'RP'], dtype=object)"
      ]
     },
     "metadata": {},
     "output_type": "display_data"
    }
   ],
   "source": [
    "# просмотр уникальных значений в столбце rating\n",
    "display(df['rating'].unique())"
   ]
  },
  {
   "cell_type": "markdown",
   "metadata": {},
   "source": [
    "Замена пропущеных значений в `rating` заглушкой `no value (n/v)`, так как переменная - категориальная."
   ]
  },
  {
   "cell_type": "code",
   "execution_count": 15,
   "metadata": {},
   "outputs": [
    {
     "data": {
      "text/plain": [
       "array(['E', 'n/v', 'M', 'T', 'E10+', 'K-A', 'AO', 'EC', 'RP'],\n",
       "      dtype=object)"
      ]
     },
     "metadata": {},
     "output_type": "display_data"
    }
   ],
   "source": [
    "# замена в rating на n/v\n",
    "df['rating'] = df['rating'].fillna('n/v')\n",
    "\n",
    "# просмотр уникальных значений в столбце rating\n",
    "display(df['rating'].unique())"
   ]
  },
  {
   "cell_type": "markdown",
   "metadata": {},
   "source": [
    "### Изменение типов данных ###"
   ]
  },
  {
   "cell_type": "code",
   "execution_count": 16,
   "metadata": {},
   "outputs": [
    {
     "name": "stdout",
     "output_type": "stream",
     "text": [
      "<class 'pandas.core.frame.DataFrame'>\n",
      "Int64Index: 16444 entries, 0 to 16714\n",
      "Data columns (total 11 columns):\n",
      " #   Column           Non-Null Count  Dtype  \n",
      "---  ------           --------------  -----  \n",
      " 0   name             16444 non-null  object \n",
      " 1   platform         16444 non-null  object \n",
      " 2   year_of_release  16444 non-null  int64  \n",
      " 3   genre            16444 non-null  object \n",
      " 4   na_sales         16444 non-null  float64\n",
      " 5   eu_sales         16444 non-null  float64\n",
      " 6   jp_sales         16444 non-null  float64\n",
      " 7   other_sales      16444 non-null  float64\n",
      " 8   critic_score     7983 non-null   float64\n",
      " 9   user_score       7463 non-null   float64\n",
      " 10  rating           16444 non-null  object \n",
      "dtypes: float64(6), int64(1), object(4)\n",
      "memory usage: 1.5+ MB\n"
     ]
    }
   ],
   "source": [
    "# смена типа данных в столбце на целочисленный\n",
    "df['year_of_release'] = df['year_of_release'].astype(int)\n",
    "\n",
    "# смена типа данных в столбце на вещественый\n",
    "df['user_score'] = df['user_score'].astype(float)\n",
    "\n",
    "df.info()"
   ]
  },
  {
   "cell_type": "markdown",
   "metadata": {},
   "source": [
    "Проверка на наличие дубликатов:"
   ]
  },
  {
   "cell_type": "code",
   "execution_count": 17,
   "metadata": {},
   "outputs": [
    {
     "name": "stdout",
     "output_type": "stream",
     "text": [
      "0\n"
     ]
    }
   ],
   "source": [
    "# проверка на наличие явных дупликатов\n",
    "print(df.duplicated().sum())"
   ]
  },
  {
   "cell_type": "markdown",
   "metadata": {},
   "source": [
    "### Подсчет суммарных продаж во всех регионах и внесение их в отдельный столбец ###"
   ]
  },
  {
   "cell_type": "code",
   "execution_count": 18,
   "metadata": {},
   "outputs": [
    {
     "data": {
      "text/html": [
       "<div>\n",
       "<style scoped>\n",
       "    .dataframe tbody tr th:only-of-type {\n",
       "        vertical-align: middle;\n",
       "    }\n",
       "\n",
       "    .dataframe tbody tr th {\n",
       "        vertical-align: top;\n",
       "    }\n",
       "\n",
       "    .dataframe thead th {\n",
       "        text-align: right;\n",
       "    }\n",
       "</style>\n",
       "<table border=\"1\" class=\"dataframe\">\n",
       "  <thead>\n",
       "    <tr style=\"text-align: right;\">\n",
       "      <th></th>\n",
       "      <th>name</th>\n",
       "      <th>platform</th>\n",
       "      <th>year_of_release</th>\n",
       "      <th>genre</th>\n",
       "      <th>na_sales</th>\n",
       "      <th>eu_sales</th>\n",
       "      <th>jp_sales</th>\n",
       "      <th>other_sales</th>\n",
       "      <th>critic_score</th>\n",
       "      <th>user_score</th>\n",
       "      <th>rating</th>\n",
       "      <th>total_sales</th>\n",
       "    </tr>\n",
       "  </thead>\n",
       "  <tbody>\n",
       "    <tr>\n",
       "      <th>0</th>\n",
       "      <td>Wii Sports</td>\n",
       "      <td>Wii</td>\n",
       "      <td>2006</td>\n",
       "      <td>Sports</td>\n",
       "      <td>41.36</td>\n",
       "      <td>28.96</td>\n",
       "      <td>3.77</td>\n",
       "      <td>8.45</td>\n",
       "      <td>76.0</td>\n",
       "      <td>8.0</td>\n",
       "      <td>E</td>\n",
       "      <td>82.54</td>\n",
       "    </tr>\n",
       "    <tr>\n",
       "      <th>1</th>\n",
       "      <td>Super Mario Bros.</td>\n",
       "      <td>NES</td>\n",
       "      <td>1985</td>\n",
       "      <td>Platform</td>\n",
       "      <td>29.08</td>\n",
       "      <td>3.58</td>\n",
       "      <td>6.81</td>\n",
       "      <td>0.77</td>\n",
       "      <td>NaN</td>\n",
       "      <td>NaN</td>\n",
       "      <td>n/v</td>\n",
       "      <td>40.24</td>\n",
       "    </tr>\n",
       "    <tr>\n",
       "      <th>2</th>\n",
       "      <td>Mario Kart Wii</td>\n",
       "      <td>Wii</td>\n",
       "      <td>2008</td>\n",
       "      <td>Racing</td>\n",
       "      <td>15.68</td>\n",
       "      <td>12.76</td>\n",
       "      <td>3.79</td>\n",
       "      <td>3.29</td>\n",
       "      <td>82.0</td>\n",
       "      <td>8.3</td>\n",
       "      <td>E</td>\n",
       "      <td>35.52</td>\n",
       "    </tr>\n",
       "  </tbody>\n",
       "</table>\n",
       "</div>"
      ],
      "text/plain": [
       "                name platform  year_of_release     genre  na_sales  eu_sales  \\\n",
       "0         Wii Sports      Wii             2006    Sports     41.36     28.96   \n",
       "1  Super Mario Bros.      NES             1985  Platform     29.08      3.58   \n",
       "2     Mario Kart Wii      Wii             2008    Racing     15.68     12.76   \n",
       "\n",
       "   jp_sales  other_sales  critic_score  user_score rating  total_sales  \n",
       "0      3.77         8.45          76.0         8.0      E        82.54  \n",
       "1      6.81         0.77           NaN         NaN    n/v        40.24  \n",
       "2      3.79         3.29          82.0         8.3      E        35.52  "
      ]
     },
     "metadata": {},
     "output_type": "display_data"
    }
   ],
   "source": [
    "df['total_sales'] = df[['na_sales', 'eu_sales', 'jp_sales', 'other_sales']].sum(axis = 1)\n",
    "\n",
    "# проверка\n",
    "display(df.head(3))"
   ]
  },
  {
   "cell_type": "markdown",
   "metadata": {},
   "source": [
    "В ходе подготовки данных названия всех столбцов были приведены к общему (нижнему) регистру. В столбцах `name`, `year_of_release` и `genre` пропуски были удалены, так как их доля составляет менее 5%. Для столбцов `critic_score` и `user_score` пропущенные значения были оставлены, так как для них нет корректной замены, любая замена пропущеных значений в этих столбцах понесет за собой искажение результатов при дальнейших расчетах. При просмотре уникальных значений в столбце `user_score` было обнаружено значение `tbd` и было изменено на `nan`. Для столбца `rating` пропущеные значения были заменены на `n/v`, так как переменная является категориальной. Были изменены типы данных для столбцов `year_of_release` и `user_score`. Далее был произведен расчет суммарных продаж во всех регионах и добавлен в отдельный столбец."
   ]
  },
  {
   "cell_type": "markdown",
   "metadata": {},
   "source": [
    "## Шаг 3. Исследовательский анализ данных"
   ]
  },
  {
   "cell_type": "markdown",
   "metadata": {},
   "source": [
    "### Количество игр выпущенных в разные годы ###"
   ]
  },
  {
   "cell_type": "markdown",
   "metadata": {},
   "source": [
    "Просмотр, сколько игр выпускалось в разные годы. Важны ли данные за все периоды?"
   ]
  },
  {
   "cell_type": "code",
   "execution_count": 19,
   "metadata": {},
   "outputs": [],
   "source": [
    "# функция для построения графиков\n",
    "def pplot(dataframe, column1, column2, func, style):\n",
    "    dataframe.groupby(column1).agg({column2:func}).plot(style=style, grid=True, figsize=(15,5))\n",
    "    plt.ylabel('count')\n",
    "    plt.show()\n",
    "    return "
   ]
  },
  {
   "cell_type": "code",
   "execution_count": 20,
   "metadata": {},
   "outputs": [
    {
     "data": {
      "image/png": "[encoded data removed]",
      "text/plain": [
       "<Figure size 1080x360 with 1 Axes>"
      ]
     },
     "metadata": {
      "needs_background": "light"
     },
     "output_type": "display_data"
    }
   ],
   "source": [
    "# построение графика распределения количества выпущенных игр по годам\n",
    "pplot(df, 'year_of_release', 'name', 'count', '-')"
   ]
  },
  {
   "cell_type": "markdown",
   "metadata": {},
   "source": [
    "Исходя из графика по количеству игр выпущенных в разные годы можно сказать, что данные за все периоды не важны, наиболее важным периодом для анализа можно считать период с 2005 года."
   ]
  },
  {
   "cell_type": "code",
   "execution_count": 21,
   "metadata": {},
   "outputs": [
    {
     "data": {
      "text/html": [
       "<div>\n",
       "<style scoped>\n",
       "    .dataframe tbody tr th:only-of-type {\n",
       "        vertical-align: middle;\n",
       "    }\n",
       "\n",
       "    .dataframe tbody tr th {\n",
       "        vertical-align: top;\n",
       "    }\n",
       "\n",
       "    .dataframe thead th {\n",
       "        text-align: right;\n",
       "    }\n",
       "</style>\n",
       "<table border=\"1\" class=\"dataframe\">\n",
       "  <thead>\n",
       "    <tr style=\"text-align: right;\">\n",
       "      <th></th>\n",
       "      <th>name</th>\n",
       "      <th>platform</th>\n",
       "      <th>year_of_release</th>\n",
       "      <th>genre</th>\n",
       "      <th>na_sales</th>\n",
       "      <th>eu_sales</th>\n",
       "      <th>jp_sales</th>\n",
       "      <th>other_sales</th>\n",
       "      <th>critic_score</th>\n",
       "      <th>user_score</th>\n",
       "      <th>rating</th>\n",
       "      <th>total_sales</th>\n",
       "    </tr>\n",
       "  </thead>\n",
       "  <tbody>\n",
       "    <tr>\n",
       "      <th>0</th>\n",
       "      <td>Wii Sports</td>\n",
       "      <td>Wii</td>\n",
       "      <td>2006</td>\n",
       "      <td>Sports</td>\n",
       "      <td>41.36</td>\n",
       "      <td>28.96</td>\n",
       "      <td>3.77</td>\n",
       "      <td>8.45</td>\n",
       "      <td>76.0</td>\n",
       "      <td>8.0</td>\n",
       "      <td>E</td>\n",
       "      <td>82.54</td>\n",
       "    </tr>\n",
       "    <tr>\n",
       "      <th>2</th>\n",
       "      <td>Mario Kart Wii</td>\n",
       "      <td>Wii</td>\n",
       "      <td>2008</td>\n",
       "      <td>Racing</td>\n",
       "      <td>15.68</td>\n",
       "      <td>12.76</td>\n",
       "      <td>3.79</td>\n",
       "      <td>3.29</td>\n",
       "      <td>82.0</td>\n",
       "      <td>8.3</td>\n",
       "      <td>E</td>\n",
       "      <td>35.52</td>\n",
       "    </tr>\n",
       "    <tr>\n",
       "      <th>3</th>\n",
       "      <td>Wii Sports Resort</td>\n",
       "      <td>Wii</td>\n",
       "      <td>2009</td>\n",
       "      <td>Sports</td>\n",
       "      <td>15.61</td>\n",
       "      <td>10.93</td>\n",
       "      <td>3.28</td>\n",
       "      <td>2.95</td>\n",
       "      <td>80.0</td>\n",
       "      <td>8.0</td>\n",
       "      <td>E</td>\n",
       "      <td>32.77</td>\n",
       "    </tr>\n",
       "    <tr>\n",
       "      <th>6</th>\n",
       "      <td>New Super Mario Bros.</td>\n",
       "      <td>DS</td>\n",
       "      <td>2006</td>\n",
       "      <td>Platform</td>\n",
       "      <td>11.28</td>\n",
       "      <td>9.14</td>\n",
       "      <td>6.50</td>\n",
       "      <td>2.88</td>\n",
       "      <td>89.0</td>\n",
       "      <td>8.5</td>\n",
       "      <td>E</td>\n",
       "      <td>29.80</td>\n",
       "    </tr>\n",
       "    <tr>\n",
       "      <th>7</th>\n",
       "      <td>Wii Play</td>\n",
       "      <td>Wii</td>\n",
       "      <td>2006</td>\n",
       "      <td>Misc</td>\n",
       "      <td>13.96</td>\n",
       "      <td>9.18</td>\n",
       "      <td>2.93</td>\n",
       "      <td>2.84</td>\n",
       "      <td>58.0</td>\n",
       "      <td>6.6</td>\n",
       "      <td>E</td>\n",
       "      <td>28.91</td>\n",
       "    </tr>\n",
       "  </tbody>\n",
       "</table>\n",
       "</div>"
      ],
      "text/plain": [
       "                    name platform  year_of_release     genre  na_sales  \\\n",
       "0             Wii Sports      Wii             2006    Sports     41.36   \n",
       "2         Mario Kart Wii      Wii             2008    Racing     15.68   \n",
       "3      Wii Sports Resort      Wii             2009    Sports     15.61   \n",
       "6  New Super Mario Bros.       DS             2006  Platform     11.28   \n",
       "7               Wii Play      Wii             2006      Misc     13.96   \n",
       "\n",
       "   eu_sales  jp_sales  other_sales  critic_score  user_score rating  \\\n",
       "0     28.96      3.77         8.45          76.0         8.0      E   \n",
       "2     12.76      3.79         3.29          82.0         8.3      E   \n",
       "3     10.93      3.28         2.95          80.0         8.0      E   \n",
       "6      9.14      6.50         2.88          89.0         8.5      E   \n",
       "7      9.18      2.93         2.84          58.0         6.6      E   \n",
       "\n",
       "   total_sales  \n",
       "0        82.54  \n",
       "2        35.52  \n",
       "3        32.77  \n",
       "6        29.80  \n",
       "7        28.91  "
      ]
     },
     "metadata": {},
     "output_type": "display_data"
    }
   ],
   "source": [
    "# создание таблицы с данными за период 2007 - 2016 гг.\n",
    "adf = df.query('year_of_release >= 2005')\n",
    "display(adf.head(5))"
   ]
  },
  {
   "cell_type": "markdown",
   "metadata": {},
   "source": [
    "### Изменения продаж по платформам ###"
   ]
  },
  {
   "cell_type": "markdown",
   "metadata": {},
   "source": [
    "Просмотр, как менялись продажи по платформам. Выбор платформ с наибольшими суммарными продажами и построение распределения по годам."
   ]
  },
  {
   "cell_type": "code",
   "execution_count": 22,
   "metadata": {},
   "outputs": [
    {
     "name": "stdout",
     "output_type": "stream",
     "text": [
      "Index(['XOne', 'PC', '3DS', 'PSP', 'PS4', 'PS2', 'DS', 'Wii', 'PS3', 'X360'], dtype='object', name='platform')\n"
     ]
    }
   ],
   "source": [
    "# топ 10 платформ\n",
    "top_10 = adf.groupby('platform').agg({'total_sales': 'sum'}).sort_values(by='total_sales').tail(10).index\n",
    "print(top_10)"
   ]
  },
  {
   "cell_type": "markdown",
   "metadata": {},
   "source": [
    "Исходя из суммарных продаж по платформам, наибольшее число продаж приходится на платформы `XOne`, `PC`, `3DS`, `PSP`, `PS4`, `PS2`, `DS`, `Wii`, `PS3` и `X360`."
   ]
  },
  {
   "cell_type": "code",
   "execution_count": 23,
   "metadata": {},
   "outputs": [
    {
     "data": {
      "image/png": "[encoded data removed]",
      "text/plain": [
       "<Figure size 1080x720 with 1 Axes>"
      ]
     },
     "metadata": {
      "needs_background": "light"
     },
     "output_type": "display_data"
    }
   ],
   "source": [
    "# цвета\n",
    "palette = {'3DS': 'blue', 'DS': 'orange', 'PC': 'green', 'PS2': 'red', 'PS3': 'black', 'PS4': 'brown', 'PSP': 'pink',\n",
    "          'Wii': 'grey', 'X360': 'yellow', 'XOne': 'aqua'}\n",
    "\n",
    "# создание таблицы с данными продаж только для топ 10 платформ и построение графика распределения\n",
    "adf.query('platform in @top_10').pivot_table(index = 'year_of_release', columns = 'platform', \n",
    "                                             values = 'total_sales', aggfunc = 'sum').plot(figsize = (15, 10), \n",
    "                                                                                           color = palette)\n",
    "plt.ylabel('sum')\n",
    "plt.show()"
   ]
  },
  {
   "cell_type": "markdown",
   "metadata": {},
   "source": [
    "### Выделение актуального периода ###"
   ]
  },
  {
   "cell_type": "markdown",
   "metadata": {},
   "source": [
    " За какой характерный срок появляются новые и исчезают старые платформы?"
   ]
  },
  {
   "cell_type": "code",
   "execution_count": 24,
   "metadata": {},
   "outputs": [
    {
     "name": "stdout",
     "output_type": "stream",
     "text": [
      "year_of_release    3.043478\n",
      "dtype: float64\n"
     ]
    }
   ],
   "source": [
    "# минимальные значимые продажи в миллионах\n",
    "sales_min = 10\n",
    "\n",
    "# суммарные продажи в год выше порога\n",
    "report = df.groupby(['platform', 'year_of_release']).agg({'total_sales': 'sum'}).query('total_sales > @sales_min')\n",
    "\n",
    "# среднее число лет выше порога продаж, деленое на 2 (так как половину жизни платформа падает)\n",
    "print(report.reset_index().groupby('platform').agg({'year_of_release': 'nunique'}).mean() / 2)"
   ]
  },
  {
   "cell_type": "markdown",
   "metadata": {},
   "source": [
    "В среднем срок появления и исчезновения платформ, около 6 лет. Актуальный период 3.04 года, условно сочтем это за 3 года. "
   ]
  },
  {
   "cell_type": "code",
   "execution_count": 25,
   "metadata": {},
   "outputs": [
    {
     "data": {
      "text/html": [
       "<div>\n",
       "<style scoped>\n",
       "    .dataframe tbody tr th:only-of-type {\n",
       "        vertical-align: middle;\n",
       "    }\n",
       "\n",
       "    .dataframe tbody tr th {\n",
       "        vertical-align: top;\n",
       "    }\n",
       "\n",
       "    .dataframe thead th {\n",
       "        text-align: right;\n",
       "    }\n",
       "</style>\n",
       "<table border=\"1\" class=\"dataframe\">\n",
       "  <thead>\n",
       "    <tr style=\"text-align: right;\">\n",
       "      <th></th>\n",
       "      <th>name</th>\n",
       "      <th>platform</th>\n",
       "      <th>year_of_release</th>\n",
       "      <th>genre</th>\n",
       "      <th>na_sales</th>\n",
       "      <th>eu_sales</th>\n",
       "      <th>jp_sales</th>\n",
       "      <th>other_sales</th>\n",
       "      <th>critic_score</th>\n",
       "      <th>user_score</th>\n",
       "      <th>rating</th>\n",
       "      <th>total_sales</th>\n",
       "    </tr>\n",
       "  </thead>\n",
       "  <tbody>\n",
       "    <tr>\n",
       "      <th>16</th>\n",
       "      <td>Grand Theft Auto V</td>\n",
       "      <td>PS3</td>\n",
       "      <td>2013</td>\n",
       "      <td>Action</td>\n",
       "      <td>7.02</td>\n",
       "      <td>9.09</td>\n",
       "      <td>0.98</td>\n",
       "      <td>3.96</td>\n",
       "      <td>97.0</td>\n",
       "      <td>8.2</td>\n",
       "      <td>M</td>\n",
       "      <td>21.05</td>\n",
       "    </tr>\n",
       "    <tr>\n",
       "      <th>23</th>\n",
       "      <td>Grand Theft Auto V</td>\n",
       "      <td>X360</td>\n",
       "      <td>2013</td>\n",
       "      <td>Action</td>\n",
       "      <td>9.66</td>\n",
       "      <td>5.14</td>\n",
       "      <td>0.06</td>\n",
       "      <td>1.41</td>\n",
       "      <td>97.0</td>\n",
       "      <td>8.1</td>\n",
       "      <td>M</td>\n",
       "      <td>16.27</td>\n",
       "    </tr>\n",
       "    <tr>\n",
       "      <th>31</th>\n",
       "      <td>Call of Duty: Black Ops 3</td>\n",
       "      <td>PS4</td>\n",
       "      <td>2015</td>\n",
       "      <td>Shooter</td>\n",
       "      <td>6.03</td>\n",
       "      <td>5.86</td>\n",
       "      <td>0.36</td>\n",
       "      <td>2.38</td>\n",
       "      <td>NaN</td>\n",
       "      <td>NaN</td>\n",
       "      <td>n/v</td>\n",
       "      <td>14.63</td>\n",
       "    </tr>\n",
       "    <tr>\n",
       "      <th>33</th>\n",
       "      <td>Pokemon X/Pokemon Y</td>\n",
       "      <td>3DS</td>\n",
       "      <td>2013</td>\n",
       "      <td>Role-Playing</td>\n",
       "      <td>5.28</td>\n",
       "      <td>4.19</td>\n",
       "      <td>4.35</td>\n",
       "      <td>0.78</td>\n",
       "      <td>NaN</td>\n",
       "      <td>NaN</td>\n",
       "      <td>n/v</td>\n",
       "      <td>14.60</td>\n",
       "    </tr>\n",
       "    <tr>\n",
       "      <th>42</th>\n",
       "      <td>Grand Theft Auto V</td>\n",
       "      <td>PS4</td>\n",
       "      <td>2014</td>\n",
       "      <td>Action</td>\n",
       "      <td>3.96</td>\n",
       "      <td>6.31</td>\n",
       "      <td>0.38</td>\n",
       "      <td>1.97</td>\n",
       "      <td>97.0</td>\n",
       "      <td>8.3</td>\n",
       "      <td>M</td>\n",
       "      <td>12.62</td>\n",
       "    </tr>\n",
       "    <tr>\n",
       "      <th>...</th>\n",
       "      <td>...</td>\n",
       "      <td>...</td>\n",
       "      <td>...</td>\n",
       "      <td>...</td>\n",
       "      <td>...</td>\n",
       "      <td>...</td>\n",
       "      <td>...</td>\n",
       "      <td>...</td>\n",
       "      <td>...</td>\n",
       "      <td>...</td>\n",
       "      <td>...</td>\n",
       "      <td>...</td>\n",
       "    </tr>\n",
       "    <tr>\n",
       "      <th>16703</th>\n",
       "      <td>Strawberry Nauts</td>\n",
       "      <td>PSV</td>\n",
       "      <td>2016</td>\n",
       "      <td>Adventure</td>\n",
       "      <td>0.00</td>\n",
       "      <td>0.00</td>\n",
       "      <td>0.01</td>\n",
       "      <td>0.00</td>\n",
       "      <td>NaN</td>\n",
       "      <td>NaN</td>\n",
       "      <td>n/v</td>\n",
       "      <td>0.01</td>\n",
       "    </tr>\n",
       "    <tr>\n",
       "      <th>16707</th>\n",
       "      <td>Aiyoku no Eustia</td>\n",
       "      <td>PSV</td>\n",
       "      <td>2014</td>\n",
       "      <td>Misc</td>\n",
       "      <td>0.00</td>\n",
       "      <td>0.00</td>\n",
       "      <td>0.01</td>\n",
       "      <td>0.00</td>\n",
       "      <td>NaN</td>\n",
       "      <td>NaN</td>\n",
       "      <td>n/v</td>\n",
       "      <td>0.01</td>\n",
       "    </tr>\n",
       "    <tr>\n",
       "      <th>16710</th>\n",
       "      <td>Samurai Warriors: Sanada Maru</td>\n",
       "      <td>PS3</td>\n",
       "      <td>2016</td>\n",
       "      <td>Action</td>\n",
       "      <td>0.00</td>\n",
       "      <td>0.00</td>\n",
       "      <td>0.01</td>\n",
       "      <td>0.00</td>\n",
       "      <td>NaN</td>\n",
       "      <td>NaN</td>\n",
       "      <td>n/v</td>\n",
       "      <td>0.01</td>\n",
       "    </tr>\n",
       "    <tr>\n",
       "      <th>16712</th>\n",
       "      <td>Haitaka no Psychedelica</td>\n",
       "      <td>PSV</td>\n",
       "      <td>2016</td>\n",
       "      <td>Adventure</td>\n",
       "      <td>0.00</td>\n",
       "      <td>0.00</td>\n",
       "      <td>0.01</td>\n",
       "      <td>0.00</td>\n",
       "      <td>NaN</td>\n",
       "      <td>NaN</td>\n",
       "      <td>n/v</td>\n",
       "      <td>0.01</td>\n",
       "    </tr>\n",
       "    <tr>\n",
       "      <th>16714</th>\n",
       "      <td>Winning Post 8 2016</td>\n",
       "      <td>PSV</td>\n",
       "      <td>2016</td>\n",
       "      <td>Simulation</td>\n",
       "      <td>0.00</td>\n",
       "      <td>0.00</td>\n",
       "      <td>0.01</td>\n",
       "      <td>0.00</td>\n",
       "      <td>NaN</td>\n",
       "      <td>NaN</td>\n",
       "      <td>n/v</td>\n",
       "      <td>0.01</td>\n",
       "    </tr>\n",
       "  </tbody>\n",
       "</table>\n",
       "<p>2233 rows × 12 columns</p>\n",
       "</div>"
      ],
      "text/plain": [
       "                                name platform  year_of_release         genre  \\\n",
       "16                Grand Theft Auto V      PS3             2013        Action   \n",
       "23                Grand Theft Auto V     X360             2013        Action   \n",
       "31         Call of Duty: Black Ops 3      PS4             2015       Shooter   \n",
       "33               Pokemon X/Pokemon Y      3DS             2013  Role-Playing   \n",
       "42                Grand Theft Auto V      PS4             2014        Action   \n",
       "...                              ...      ...              ...           ...   \n",
       "16703               Strawberry Nauts      PSV             2016     Adventure   \n",
       "16707               Aiyoku no Eustia      PSV             2014          Misc   \n",
       "16710  Samurai Warriors: Sanada Maru      PS3             2016        Action   \n",
       "16712        Haitaka no Psychedelica      PSV             2016     Adventure   \n",
       "16714            Winning Post 8 2016      PSV             2016    Simulation   \n",
       "\n",
       "       na_sales  eu_sales  jp_sales  other_sales  critic_score  user_score  \\\n",
       "16         7.02      9.09      0.98         3.96          97.0         8.2   \n",
       "23         9.66      5.14      0.06         1.41          97.0         8.1   \n",
       "31         6.03      5.86      0.36         2.38           NaN         NaN   \n",
       "33         5.28      4.19      4.35         0.78           NaN         NaN   \n",
       "42         3.96      6.31      0.38         1.97          97.0         8.3   \n",
       "...         ...       ...       ...          ...           ...         ...   \n",
       "16703      0.00      0.00      0.01         0.00           NaN         NaN   \n",
       "16707      0.00      0.00      0.01         0.00           NaN         NaN   \n",
       "16710      0.00      0.00      0.01         0.00           NaN         NaN   \n",
       "16712      0.00      0.00      0.01         0.00           NaN         NaN   \n",
       "16714      0.00      0.00      0.01         0.00           NaN         NaN   \n",
       "\n",
       "      rating  total_sales  \n",
       "16         M        21.05  \n",
       "23         M        16.27  \n",
       "31       n/v        14.63  \n",
       "33       n/v        14.60  \n",
       "42         M        12.62  \n",
       "...      ...          ...  \n",
       "16703    n/v         0.01  \n",
       "16707    n/v         0.01  \n",
       "16710    n/v         0.01  \n",
       "16712    n/v         0.01  \n",
       "16714    n/v         0.01  \n",
       "\n",
       "[2233 rows x 12 columns]"
      ]
     },
     "metadata": {},
     "output_type": "display_data"
    }
   ],
   "source": [
    "# создание таблицы за актуальный период\n",
    "aperiod = 2016 - 3\n",
    "df_new = df.query('year_of_release >= @aperiod')\n",
    "\n",
    "display(df_new)"
   ]
  },
  {
   "cell_type": "markdown",
   "metadata": {},
   "source": [
    "### Выделение потенциально прибыльных платформ ###"
   ]
  },
  {
   "cell_type": "markdown",
   "metadata": {},
   "source": [
    "Какие платформы лидируют по продажам, растут или падают? Выбор несколько потенциально прибыльных платформ."
   ]
  },
  {
   "cell_type": "code",
   "execution_count": 26,
   "metadata": {},
   "outputs": [
    {
     "data": {
      "image/png": "[encoded data removed]",
      "text/plain": [
       "<Figure size 720x720 with 1 Axes>"
      ]
     },
     "metadata": {
      "needs_background": "light"
     },
     "output_type": "display_data"
    }
   ],
   "source": [
    "# топ 10 платформ за актуальный период\n",
    "new_top_10 = df_new.groupby('platform').agg({'total_sales': 'sum'}).sort_values(by='total_sales').tail(10).index\n",
    "\n",
    "# цвета\n",
    "palette1 = {'3DS': 'blue', 'PSV': 'orange', 'PC': 'green', 'WiiU': 'red', 'PS3': 'black', 'PS4': 'brown', 'PSP': 'pink',\n",
    "          'Wii': 'grey', 'X360': 'yellow', 'XOne': 'aqua'}\n",
    "\n",
    "# создание таблицы с данными продаж только для топ 10 платформ актуального периода и построение графика распределения\n",
    "df_new.query('platform in @new_top_10').pivot_table(index = 'year_of_release', columns = 'platform', \n",
    "                                             values = 'total_sales', aggfunc = 'sum').plot(figsize = (10, 10),\n",
    "                                                                                          color = palette1)\n",
    "\n",
    "plt.ylabel('sum')\n",
    "plt.show()"
   ]
  },
  {
   "cell_type": "markdown",
   "metadata": {},
   "source": [
    "Исходя из графика можно сказать, что все платформы растут и падают по продажам. Потенциально прибыльными платформами для исследуемого периода можно считать `PS4`, `XOne` и `3DS`, но в случае последней, платформа появилась примерно в 2011 году, раньше чем `PS4` и `XOne`, поэтому ее актуальность может полностью исчерпать себя к 2017 году."
   ]
  },
  {
   "cell_type": "markdown",
   "metadata": {},
   "source": [
    "### Глобальные продажи игр в разбивке по платформам ###"
   ]
  },
  {
   "cell_type": "markdown",
   "metadata": {},
   "source": [
    "Построение графиков «ящик с усами» по глобальным продажам игр в разбивке по платформам. Описание результатов."
   ]
  },
  {
   "cell_type": "code",
   "execution_count": 27,
   "metadata": {},
   "outputs": [],
   "source": [
    "# функция для построения диаграмм размаха\n",
    "def bp(name, y1, y2):\n",
    "    df_new.query('platform == @name')['total_sales'].plot(kind='box', ylim=(y1, y2), grid=True, label=name)\n",
    "    plt.show()\n",
    "    display(df_new.query('platform == @name')['total_sales'].describe())\n",
    "    return"
   ]
  },
  {
   "cell_type": "code",
   "execution_count": 28,
   "metadata": {},
   "outputs": [
    {
     "data": {
      "image/png": "[encoded data removed]",
      "text/plain": [
       "<Figure size 432x288 with 1 Axes>"
      ]
     },
     "metadata": {
      "needs_background": "light"
     },
     "output_type": "display_data"
    },
    {
     "data": {
      "text/plain": [
       "count    392.000000\n",
       "mean       0.801378\n",
       "std        1.609456\n",
       "min        0.010000\n",
       "25%        0.060000\n",
       "50%        0.200000\n",
       "75%        0.730000\n",
       "max       14.630000\n",
       "Name: total_sales, dtype: float64"
      ]
     },
     "metadata": {},
     "output_type": "display_data"
    }
   ],
   "source": [
    "# диаграмма размаха для глобальных продаж PS4\n",
    "bp(\"PS4\", -1, 18)"
   ]
  },
  {
   "cell_type": "code",
   "execution_count": 29,
   "metadata": {},
   "outputs": [
    {
     "data": {
      "image/png": "[encoded data removed]",
      "text/plain": [
       "<Figure size 432x288 with 1 Axes>"
      ]
     },
     "metadata": {
      "needs_background": "light"
     },
     "output_type": "display_data"
    },
    {
     "data": {
      "text/plain": [
       "count    247.000000\n",
       "mean       0.645020\n",
       "std        1.036139\n",
       "min        0.010000\n",
       "25%        0.060000\n",
       "50%        0.220000\n",
       "75%        0.685000\n",
       "max        7.390000\n",
       "Name: total_sales, dtype: float64"
      ]
     },
     "metadata": {},
     "output_type": "display_data"
    }
   ],
   "source": [
    "# диаграмма размаха для глобальных продаж XOne\n",
    "bp(\"XOne\", -1, 8)"
   ]
  },
  {
   "cell_type": "markdown",
   "metadata": {},
   "source": [
    "Исходя из диаграмм размаха, в среднем игр проданных на платформе `PS4` (0.801378) больше чем на платформе `XOne` (0.645020), но и в общей сложности продаж на платформе `PS4` (392) больше, чем на платформе `XOne` (247)."
   ]
  },
  {
   "cell_type": "markdown",
   "metadata": {},
   "source": [
    "### Влияние на продажи отзывов пользователей и критиков внутри одной популярной платформы ###"
   ]
  },
  {
   "cell_type": "markdown",
   "metadata": {},
   "source": [
    "Посмотр, как влияют на продажи внутри одной популярной платформы отзывы пользователей и критиков. Построение диаграммы рассеяния и подсчет корреляции между отзывами и продажами."
   ]
  },
  {
   "cell_type": "code",
   "execution_count": 30,
   "metadata": {},
   "outputs": [],
   "source": [
    "# создание функции для построения диаграммы рассеяния и подсчета корреляции\n",
    "def scpplot(name, x, y):\n",
    "    df_new.query('platform == @name').plot(x=x, y=y, kind='scatter', grid=True, figsize=(15, 5))\n",
    "    plt.show()\n",
    "    print(df_new[x].corr(df_new[y]))\n",
    "    return"
   ]
  },
  {
   "cell_type": "code",
   "execution_count": 31,
   "metadata": {},
   "outputs": [
    {
     "data": {
      "image/png": "[encoded data removed]",
      "text/plain": [
       "<Figure size 1080x360 with 1 Axes>"
      ]
     },
     "metadata": {
      "needs_background": "light"
     },
     "output_type": "display_data"
    },
    {
     "name": "stdout",
     "output_type": "stream",
     "text": [
      "0.3136995151027371\n"
     ]
    }
   ],
   "source": [
    "# диаграмма рассеяния и корреляция между отзывами критиков и продажами для PS4\n",
    "scpplot('PS4', 'critic_score', 'total_sales')"
   ]
  },
  {
   "cell_type": "code",
   "execution_count": 32,
   "metadata": {},
   "outputs": [
    {
     "data": {
      "image/png": "[encoded data removed]",
      "text/plain": [
       "<Figure size 1080x360 with 1 Axes>"
      ]
     },
     "metadata": {
      "needs_background": "light"
     },
     "output_type": "display_data"
    },
    {
     "name": "stdout",
     "output_type": "stream",
     "text": [
      "-0.0026078133545982744\n"
     ]
    }
   ],
   "source": [
    "# диаграмма рассеяния и корреляция между отзывами пользователей и продажами для PS4\n",
    "scpplot('PS4', 'user_score', 'total_sales')"
   ]
  },
  {
   "cell_type": "code",
   "execution_count": 33,
   "metadata": {},
   "outputs": [
    {
     "data": {
      "image/png": "[encoded data removed]",
      "text/plain": [
       "<Figure size 1080x360 with 1 Axes>"
      ]
     },
     "metadata": {
      "needs_background": "light"
     },
     "output_type": "display_data"
    },
    {
     "name": "stdout",
     "output_type": "stream",
     "text": [
      "0.3136995151027371\n"
     ]
    }
   ],
   "source": [
    "# диаграмма рассеяния и корреляция между отзывами критиков и продажами для XOne\n",
    "scpplot('XOne', 'critic_score', 'total_sales')"
   ]
  },
  {
   "cell_type": "code",
   "execution_count": 34,
   "metadata": {},
   "outputs": [
    {
     "data": {
      "image/png": "[encoded data removed]",
      "text/plain": [
       "<Figure size 1080x360 with 1 Axes>"
      ]
     },
     "metadata": {
      "needs_background": "light"
     },
     "output_type": "display_data"
    },
    {
     "name": "stdout",
     "output_type": "stream",
     "text": [
      "-0.0026078133545982744\n"
     ]
    }
   ],
   "source": [
    "# диаграмма рассеяния и корреляция между отзывами пользователей и продажами для XOne\n",
    "scpplot('XOne', 'user_score', 'total_sales')"
   ]
  },
  {
   "cell_type": "markdown",
   "metadata": {},
   "source": [
    "Линейной зависимости между продажами и отзывами пользователей - нет ни для платформы `PS4`, ни для платформы `XOne`. Линейная зависимость между продажами и отзывами критиков - присутствует, но незначительная."
   ]
  },
  {
   "cell_type": "code",
   "execution_count": 35,
   "metadata": {},
   "outputs": [
    {
     "data": {
      "image/png": "[encoded data removed]",
      "text/plain": [
       "<Figure size 1080x360 with 1 Axes>"
      ]
     },
     "metadata": {
      "needs_background": "light"
     },
     "output_type": "display_data"
    },
    {
     "name": "stdout",
     "output_type": "stream",
     "text": [
      "0.3136995151027371\n"
     ]
    }
   ],
   "source": [
    "# диаграмма рассеяния и корреляция между отзывами критиков и продажами для 3DS\n",
    "scpplot('3DS', 'critic_score', 'total_sales')"
   ]
  },
  {
   "cell_type": "code",
   "execution_count": 36,
   "metadata": {},
   "outputs": [
    {
     "data": {
      "image/png": "[encoded data removed]",
      "text/plain": [
       "<Figure size 1080x360 with 1 Axes>"
      ]
     },
     "metadata": {
      "needs_background": "light"
     },
     "output_type": "display_data"
    },
    {
     "name": "stdout",
     "output_type": "stream",
     "text": [
      "-0.0026078133545982744\n"
     ]
    }
   ],
   "source": [
    "# диаграмма рассеяния и корреляция между отзывами пользователей и продажами для 3DS\n",
    "scpplot('3DS', 'user_score', 'total_sales')"
   ]
  },
  {
   "cell_type": "markdown",
   "metadata": {},
   "source": [
    "Аналогично и для более старой и менее популярной платформы `3DS`, линейной зависимости продаж от отзывов пользователей - нет. Линейная зависимость между продажами и отзывами критиков - присутствует, но незначительная."
   ]
  },
  {
   "cell_type": "markdown",
   "metadata": {},
   "source": [
    "### Выделение прибыльных жанров ###"
   ]
  },
  {
   "cell_type": "markdown",
   "metadata": {},
   "source": [
    "Просмотр общего распределения игр по жанрам. Что можно сказать о самых прибыльных жанрах? Выделяются ли жанры с высокими и низкими продажами?"
   ]
  },
  {
   "cell_type": "code",
   "execution_count": 37,
   "metadata": {},
   "outputs": [],
   "source": [
    "# функция для построения столбчатых диаграмм\n",
    "def bar(col, col_1, func, name):\n",
    "    df_new.groupby(col).agg({col_1: func}).sort_values(by=col_1, ascending=False).plot(kind=\"bar\")\n",
    "    plt.ylabel(col)\n",
    "    plt.xlabel(func)\n",
    "    plt.title(name)\n",
    "    plt.show()\n",
    "    return"
   ]
  },
  {
   "cell_type": "code",
   "execution_count": 38,
   "metadata": {},
   "outputs": [
    {
     "data": {
      "image/png": "[encoded data removed]",
      "text/plain": [
       "<Figure size 432x288 with 1 Axes>"
      ]
     },
     "metadata": {
      "needs_background": "light"
     },
     "output_type": "display_data"
    }
   ],
   "source": [
    "# построение диаграммы распределения игр по жанрам\n",
    "bar('genre', 'name', 'count', 'Распределение количества игр по жанрам')"
   ]
  },
  {
   "cell_type": "markdown",
   "metadata": {},
   "source": [
    "Исходя из графика распределения количества выпущенных игр по жанрам, наибольшее количество игр приходится на жанр `Action`, на втором месте - `Role-Playing` и на третьем - `Adventure`."
   ]
  },
  {
   "cell_type": "code",
   "execution_count": 39,
   "metadata": {},
   "outputs": [
    {
     "data": {
      "image/png": "[encoded data removed]",
      "text/plain": [
       "<Figure size 432x288 with 1 Axes>"
      ]
     },
     "metadata": {
      "needs_background": "light"
     },
     "output_type": "display_data"
    }
   ],
   "source": [
    "# построение диаграммы распределения продаж (медианы) по жанрам\n",
    "bar('genre', 'total_sales', 'median', 'Распределения продаж (медианы) по жанрам')"
   ]
  },
  {
   "cell_type": "markdown",
   "metadata": {},
   "source": [
    "Исходя из диаграммы распределения продаж по жанрам, наибольшее количество продаж по медиане приходится на игры жанра `Shooter`, `Sports` и `Platform`."
   ]
  },
  {
   "cell_type": "markdown",
   "metadata": {},
   "source": [
    "**Вывод**\n",
    "\n",
    "В ходе исследовательского анализа, был выделен актуальный период, в среднем срок появления и исчезновения платформ, около 6 лет, но так как половину жизни платформа падает, то актуальный период составил - 3 года. Все платформы растут и падают по продажам. \n",
    "\n",
    "Потенциально прибыльными платформами для исследуемого периода можно считать `PS4`, `XOne` и `3DS`, но в случае последней, платформа появилась примерно в 2011 году, раньше чем `PS4` и `XOne`, поэтому ее актуальность может полностью исчерпать себя к 2017 году. \n",
    "\n",
    "При сравнении по глобальным продажам игр в разбивке по платформам в среднем игр проданных на платформе `PS4` (0.801378) больше чем на платформе `XOne` (0.645020), но и в общей сложности продаж на платформе `PS4` (392) больше, чем на платформе `XOne` (247). \n",
    "\n",
    "При просмотре, как влияют на продажи внутри одной популярной платформы отзывы пользователей и критиков, не было выявлено значимой линейной зависимости между продажами и отзывами критиков, а между продажами и отзывами пользователей зависимости нет вообще, как в случае самой популярной платформы `PS4`, так и в случае менее популярных - `XOne` и `3DS`. \n",
    "\n",
    "Самым популярным жанром игр является `Action`, а самым прибыльным жанром игр является `Shooter`."
   ]
  },
  {
   "cell_type": "markdown",
   "metadata": {},
   "source": [
    "## Шаг 4. Портрет пользователя каждого региона"
   ]
  },
  {
   "cell_type": "markdown",
   "metadata": {},
   "source": [
    "### Самые популярные платформы (топ-5) ###"
   ]
  },
  {
   "cell_type": "markdown",
   "metadata": {},
   "source": [
    "Определение для пользователя каждого региона (NA, EU, JP, other):\n",
    "Самые популярные платформы (топ-5). Описание различия в долях продаж."
   ]
  },
  {
   "cell_type": "code",
   "execution_count": 40,
   "metadata": {},
   "outputs": [],
   "source": [
    "# функция жля построения графиков и таблиц\n",
    "def top5(row):\n",
    "    sales = ['na_sales', 'eu_sales', 'jp_sales', 'other_sales']\n",
    "    \n",
    "    # число рядов и столбцов в сетке графиков\n",
    "    col_count, row_count = 2, 2\n",
    "    \n",
    "    # размер графиков\n",
    "    plt.figure(figsize = (15, 7))\n",
    "    \n",
    "    for i, sale in enumerate(sales):\n",
    "        ptable = (df_new\n",
    "                  .pivot_table(index=row, values=sale, aggfunc='sum')\n",
    "                  .sort_values(by=sale, ascending=False)\n",
    "                  .reset_index()\n",
    "                  .head(5))\n",
    "        display(ptable)\n",
    "        print('\\n')\n",
    "        \n",
    "        sns.barplot(data=ptable, x=row, y=sale, ax = plt.subplot(row_count, col_count, i + 1))\n",
    "        \n",
    "        # добавление подзаголовков на каждый график\n",
    "        plt.title(sale)\n",
    "        \n",
    "        # настройка подзаголовков\n",
    "        plt.tight_layout()\n",
    "    return"
   ]
  },
  {
   "cell_type": "code",
   "execution_count": 41,
   "metadata": {},
   "outputs": [
    {
     "data": {
      "text/html": [
       "<div>\n",
       "<style scoped>\n",
       "    .dataframe tbody tr th:only-of-type {\n",
       "        vertical-align: middle;\n",
       "    }\n",
       "\n",
       "    .dataframe tbody tr th {\n",
       "        vertical-align: top;\n",
       "    }\n",
       "\n",
       "    .dataframe thead th {\n",
       "        text-align: right;\n",
       "    }\n",
       "</style>\n",
       "<table border=\"1\" class=\"dataframe\">\n",
       "  <thead>\n",
       "    <tr style=\"text-align: right;\">\n",
       "      <th></th>\n",
       "      <th>platform</th>\n",
       "      <th>na_sales</th>\n",
       "    </tr>\n",
       "  </thead>\n",
       "  <tbody>\n",
       "    <tr>\n",
       "      <th>0</th>\n",
       "      <td>PS4</td>\n",
       "      <td>108.74</td>\n",
       "    </tr>\n",
       "    <tr>\n",
       "      <th>1</th>\n",
       "      <td>XOne</td>\n",
       "      <td>93.12</td>\n",
       "    </tr>\n",
       "    <tr>\n",
       "      <th>2</th>\n",
       "      <td>X360</td>\n",
       "      <td>81.66</td>\n",
       "    </tr>\n",
       "    <tr>\n",
       "      <th>3</th>\n",
       "      <td>PS3</td>\n",
       "      <td>63.50</td>\n",
       "    </tr>\n",
       "    <tr>\n",
       "      <th>4</th>\n",
       "      <td>3DS</td>\n",
       "      <td>38.20</td>\n",
       "    </tr>\n",
       "  </tbody>\n",
       "</table>\n",
       "</div>"
      ],
      "text/plain": [
       "  platform  na_sales\n",
       "0      PS4    108.74\n",
       "1     XOne     93.12\n",
       "2     X360     81.66\n",
       "3      PS3     63.50\n",
       "4      3DS     38.20"
      ]
     },
     "metadata": {},
     "output_type": "display_data"
    },
    {
     "name": "stdout",
     "output_type": "stream",
     "text": [
      "\n",
      "\n"
     ]
    },
    {
     "data": {
      "text/html": [
       "<div>\n",
       "<style scoped>\n",
       "    .dataframe tbody tr th:only-of-type {\n",
       "        vertical-align: middle;\n",
       "    }\n",
       "\n",
       "    .dataframe tbody tr th {\n",
       "        vertical-align: top;\n",
       "    }\n",
       "\n",
       "    .dataframe thead th {\n",
       "        text-align: right;\n",
       "    }\n",
       "</style>\n",
       "<table border=\"1\" class=\"dataframe\">\n",
       "  <thead>\n",
       "    <tr style=\"text-align: right;\">\n",
       "      <th></th>\n",
       "      <th>platform</th>\n",
       "      <th>eu_sales</th>\n",
       "    </tr>\n",
       "  </thead>\n",
       "  <tbody>\n",
       "    <tr>\n",
       "      <th>0</th>\n",
       "      <td>PS4</td>\n",
       "      <td>141.09</td>\n",
       "    </tr>\n",
       "    <tr>\n",
       "      <th>1</th>\n",
       "      <td>PS3</td>\n",
       "      <td>67.81</td>\n",
       "    </tr>\n",
       "    <tr>\n",
       "      <th>2</th>\n",
       "      <td>XOne</td>\n",
       "      <td>51.59</td>\n",
       "    </tr>\n",
       "    <tr>\n",
       "      <th>3</th>\n",
       "      <td>X360</td>\n",
       "      <td>42.52</td>\n",
       "    </tr>\n",
       "    <tr>\n",
       "      <th>4</th>\n",
       "      <td>3DS</td>\n",
       "      <td>30.96</td>\n",
       "    </tr>\n",
       "  </tbody>\n",
       "</table>\n",
       "</div>"
      ],
      "text/plain": [
       "  platform  eu_sales\n",
       "0      PS4    141.09\n",
       "1      PS3     67.81\n",
       "2     XOne     51.59\n",
       "3     X360     42.52\n",
       "4      3DS     30.96"
      ]
     },
     "metadata": {},
     "output_type": "display_data"
    },
    {
     "name": "stdout",
     "output_type": "stream",
     "text": [
      "\n",
      "\n"
     ]
    },
    {
     "data": {
      "text/html": [
       "<div>\n",
       "<style scoped>\n",
       "    .dataframe tbody tr th:only-of-type {\n",
       "        vertical-align: middle;\n",
       "    }\n",
       "\n",
       "    .dataframe tbody tr th {\n",
       "        vertical-align: top;\n",
       "    }\n",
       "\n",
       "    .dataframe thead th {\n",
       "        text-align: right;\n",
       "    }\n",
       "</style>\n",
       "<table border=\"1\" class=\"dataframe\">\n",
       "  <thead>\n",
       "    <tr style=\"text-align: right;\">\n",
       "      <th></th>\n",
       "      <th>platform</th>\n",
       "      <th>jp_sales</th>\n",
       "    </tr>\n",
       "  </thead>\n",
       "  <tbody>\n",
       "    <tr>\n",
       "      <th>0</th>\n",
       "      <td>3DS</td>\n",
       "      <td>67.81</td>\n",
       "    </tr>\n",
       "    <tr>\n",
       "      <th>1</th>\n",
       "      <td>PS3</td>\n",
       "      <td>23.35</td>\n",
       "    </tr>\n",
       "    <tr>\n",
       "      <th>2</th>\n",
       "      <td>PSV</td>\n",
       "      <td>18.59</td>\n",
       "    </tr>\n",
       "    <tr>\n",
       "      <th>3</th>\n",
       "      <td>PS4</td>\n",
       "      <td>15.96</td>\n",
       "    </tr>\n",
       "    <tr>\n",
       "      <th>4</th>\n",
       "      <td>WiiU</td>\n",
       "      <td>10.88</td>\n",
       "    </tr>\n",
       "  </tbody>\n",
       "</table>\n",
       "</div>"
      ],
      "text/plain": [
       "  platform  jp_sales\n",
       "0      3DS     67.81\n",
       "1      PS3     23.35\n",
       "2      PSV     18.59\n",
       "3      PS4     15.96\n",
       "4     WiiU     10.88"
      ]
     },
     "metadata": {},
     "output_type": "display_data"
    },
    {
     "name": "stdout",
     "output_type": "stream",
     "text": [
      "\n",
      "\n"
     ]
    },
    {
     "data": {
      "text/html": [
       "<div>\n",
       "<style scoped>\n",
       "    .dataframe tbody tr th:only-of-type {\n",
       "        vertical-align: middle;\n",
       "    }\n",
       "\n",
       "    .dataframe tbody tr th {\n",
       "        vertical-align: top;\n",
       "    }\n",
       "\n",
       "    .dataframe thead th {\n",
       "        text-align: right;\n",
       "    }\n",
       "</style>\n",
       "<table border=\"1\" class=\"dataframe\">\n",
       "  <thead>\n",
       "    <tr style=\"text-align: right;\">\n",
       "      <th></th>\n",
       "      <th>platform</th>\n",
       "      <th>other_sales</th>\n",
       "    </tr>\n",
       "  </thead>\n",
       "  <tbody>\n",
       "    <tr>\n",
       "      <th>0</th>\n",
       "      <td>PS4</td>\n",
       "      <td>48.35</td>\n",
       "    </tr>\n",
       "    <tr>\n",
       "      <th>1</th>\n",
       "      <td>PS3</td>\n",
       "      <td>26.77</td>\n",
       "    </tr>\n",
       "    <tr>\n",
       "      <th>2</th>\n",
       "      <td>XOne</td>\n",
       "      <td>14.27</td>\n",
       "    </tr>\n",
       "    <tr>\n",
       "      <th>3</th>\n",
       "      <td>X360</td>\n",
       "      <td>12.11</td>\n",
       "    </tr>\n",
       "    <tr>\n",
       "      <th>4</th>\n",
       "      <td>3DS</td>\n",
       "      <td>6.28</td>\n",
       "    </tr>\n",
       "  </tbody>\n",
       "</table>\n",
       "</div>"
      ],
      "text/plain": [
       "  platform  other_sales\n",
       "0      PS4        48.35\n",
       "1      PS3        26.77\n",
       "2     XOne        14.27\n",
       "3     X360        12.11\n",
       "4      3DS         6.28"
      ]
     },
     "metadata": {},
     "output_type": "display_data"
    },
    {
     "name": "stdout",
     "output_type": "stream",
     "text": [
      "\n",
      "\n"
     ]
    },
    {
     "data": {
      "image/png": "[encoded data removed]",
      "text/plain": [
       "<Figure size 1080x504 with 4 Axes>"
      ]
     },
     "metadata": {
      "needs_background": "light"
     },
     "output_type": "display_data"
    }
   ],
   "source": [
    "top5('platform')"
   ]
  },
  {
   "cell_type": "markdown",
   "metadata": {},
   "source": [
    "В основном самой популярной платформой является `PS4`, для большинства регионов, коме Японии, в Японии первое место по популярности занимает более старая платформа `3DS`, в то время как для других стран, она является последней из пятерки самых популярных платформ."
   ]
  },
  {
   "cell_type": "markdown",
   "metadata": {},
   "source": [
    "### Самые популярные жанры (топ-5) ###"
   ]
  },
  {
   "cell_type": "markdown",
   "metadata": {},
   "source": [
    "Определение для пользователя каждого региона (NA, EU, JP, other): Самые популярные жанры (топ-5)."
   ]
  },
  {
   "cell_type": "code",
   "execution_count": 42,
   "metadata": {},
   "outputs": [
    {
     "data": {
      "text/html": [
       "<div>\n",
       "<style scoped>\n",
       "    .dataframe tbody tr th:only-of-type {\n",
       "        vertical-align: middle;\n",
       "    }\n",
       "\n",
       "    .dataframe tbody tr th {\n",
       "        vertical-align: top;\n",
       "    }\n",
       "\n",
       "    .dataframe thead th {\n",
       "        text-align: right;\n",
       "    }\n",
       "</style>\n",
       "<table border=\"1\" class=\"dataframe\">\n",
       "  <thead>\n",
       "    <tr style=\"text-align: right;\">\n",
       "      <th></th>\n",
       "      <th>genre</th>\n",
       "      <th>na_sales</th>\n",
       "    </tr>\n",
       "  </thead>\n",
       "  <tbody>\n",
       "    <tr>\n",
       "      <th>0</th>\n",
       "      <td>Action</td>\n",
       "      <td>126.05</td>\n",
       "    </tr>\n",
       "    <tr>\n",
       "      <th>1</th>\n",
       "      <td>Shooter</td>\n",
       "      <td>109.74</td>\n",
       "    </tr>\n",
       "    <tr>\n",
       "      <th>2</th>\n",
       "      <td>Sports</td>\n",
       "      <td>65.27</td>\n",
       "    </tr>\n",
       "    <tr>\n",
       "      <th>3</th>\n",
       "      <td>Role-Playing</td>\n",
       "      <td>46.40</td>\n",
       "    </tr>\n",
       "    <tr>\n",
       "      <th>4</th>\n",
       "      <td>Misc</td>\n",
       "      <td>27.49</td>\n",
       "    </tr>\n",
       "  </tbody>\n",
       "</table>\n",
       "</div>"
      ],
      "text/plain": [
       "          genre  na_sales\n",
       "0        Action    126.05\n",
       "1       Shooter    109.74\n",
       "2        Sports     65.27\n",
       "3  Role-Playing     46.40\n",
       "4          Misc     27.49"
      ]
     },
     "metadata": {},
     "output_type": "display_data"
    },
    {
     "name": "stdout",
     "output_type": "stream",
     "text": [
      "\n",
      "\n"
     ]
    },
    {
     "data": {
      "text/html": [
       "<div>\n",
       "<style scoped>\n",
       "    .dataframe tbody tr th:only-of-type {\n",
       "        vertical-align: middle;\n",
       "    }\n",
       "\n",
       "    .dataframe tbody tr th {\n",
       "        vertical-align: top;\n",
       "    }\n",
       "\n",
       "    .dataframe thead th {\n",
       "        text-align: right;\n",
       "    }\n",
       "</style>\n",
       "<table border=\"1\" class=\"dataframe\">\n",
       "  <thead>\n",
       "    <tr style=\"text-align: right;\">\n",
       "      <th></th>\n",
       "      <th>genre</th>\n",
       "      <th>eu_sales</th>\n",
       "    </tr>\n",
       "  </thead>\n",
       "  <tbody>\n",
       "    <tr>\n",
       "      <th>0</th>\n",
       "      <td>Action</td>\n",
       "      <td>118.13</td>\n",
       "    </tr>\n",
       "    <tr>\n",
       "      <th>1</th>\n",
       "      <td>Shooter</td>\n",
       "      <td>87.86</td>\n",
       "    </tr>\n",
       "    <tr>\n",
       "      <th>2</th>\n",
       "      <td>Sports</td>\n",
       "      <td>60.52</td>\n",
       "    </tr>\n",
       "    <tr>\n",
       "      <th>3</th>\n",
       "      <td>Role-Playing</td>\n",
       "      <td>36.97</td>\n",
       "    </tr>\n",
       "    <tr>\n",
       "      <th>4</th>\n",
       "      <td>Racing</td>\n",
       "      <td>20.19</td>\n",
       "    </tr>\n",
       "  </tbody>\n",
       "</table>\n",
       "</div>"
      ],
      "text/plain": [
       "          genre  eu_sales\n",
       "0        Action    118.13\n",
       "1       Shooter     87.86\n",
       "2        Sports     60.52\n",
       "3  Role-Playing     36.97\n",
       "4        Racing     20.19"
      ]
     },
     "metadata": {},
     "output_type": "display_data"
    },
    {
     "name": "stdout",
     "output_type": "stream",
     "text": [
      "\n",
      "\n"
     ]
    },
    {
     "data": {
      "text/html": [
       "<div>\n",
       "<style scoped>\n",
       "    .dataframe tbody tr th:only-of-type {\n",
       "        vertical-align: middle;\n",
       "    }\n",
       "\n",
       "    .dataframe tbody tr th {\n",
       "        vertical-align: top;\n",
       "    }\n",
       "\n",
       "    .dataframe thead th {\n",
       "        text-align: right;\n",
       "    }\n",
       "</style>\n",
       "<table border=\"1\" class=\"dataframe\">\n",
       "  <thead>\n",
       "    <tr style=\"text-align: right;\">\n",
       "      <th></th>\n",
       "      <th>genre</th>\n",
       "      <th>jp_sales</th>\n",
       "    </tr>\n",
       "  </thead>\n",
       "  <tbody>\n",
       "    <tr>\n",
       "      <th>0</th>\n",
       "      <td>Role-Playing</td>\n",
       "      <td>51.04</td>\n",
       "    </tr>\n",
       "    <tr>\n",
       "      <th>1</th>\n",
       "      <td>Action</td>\n",
       "      <td>40.49</td>\n",
       "    </tr>\n",
       "    <tr>\n",
       "      <th>2</th>\n",
       "      <td>Misc</td>\n",
       "      <td>9.20</td>\n",
       "    </tr>\n",
       "    <tr>\n",
       "      <th>3</th>\n",
       "      <td>Fighting</td>\n",
       "      <td>7.65</td>\n",
       "    </tr>\n",
       "    <tr>\n",
       "      <th>4</th>\n",
       "      <td>Shooter</td>\n",
       "      <td>6.61</td>\n",
       "    </tr>\n",
       "  </tbody>\n",
       "</table>\n",
       "</div>"
      ],
      "text/plain": [
       "          genre  jp_sales\n",
       "0  Role-Playing     51.04\n",
       "1        Action     40.49\n",
       "2          Misc      9.20\n",
       "3      Fighting      7.65\n",
       "4       Shooter      6.61"
      ]
     },
     "metadata": {},
     "output_type": "display_data"
    },
    {
     "name": "stdout",
     "output_type": "stream",
     "text": [
      "\n",
      "\n"
     ]
    },
    {
     "data": {
      "text/html": [
       "<div>\n",
       "<style scoped>\n",
       "    .dataframe tbody tr th:only-of-type {\n",
       "        vertical-align: middle;\n",
       "    }\n",
       "\n",
       "    .dataframe tbody tr th {\n",
       "        vertical-align: top;\n",
       "    }\n",
       "\n",
       "    .dataframe thead th {\n",
       "        text-align: right;\n",
       "    }\n",
       "</style>\n",
       "<table border=\"1\" class=\"dataframe\">\n",
       "  <thead>\n",
       "    <tr style=\"text-align: right;\">\n",
       "      <th></th>\n",
       "      <th>genre</th>\n",
       "      <th>other_sales</th>\n",
       "    </tr>\n",
       "  </thead>\n",
       "  <tbody>\n",
       "    <tr>\n",
       "      <th>0</th>\n",
       "      <td>Action</td>\n",
       "      <td>37.20</td>\n",
       "    </tr>\n",
       "    <tr>\n",
       "      <th>1</th>\n",
       "      <td>Shooter</td>\n",
       "      <td>28.77</td>\n",
       "    </tr>\n",
       "    <tr>\n",
       "      <th>2</th>\n",
       "      <td>Sports</td>\n",
       "      <td>19.45</td>\n",
       "    </tr>\n",
       "    <tr>\n",
       "      <th>3</th>\n",
       "      <td>Role-Playing</td>\n",
       "      <td>11.48</td>\n",
       "    </tr>\n",
       "    <tr>\n",
       "      <th>4</th>\n",
       "      <td>Misc</td>\n",
       "      <td>6.09</td>\n",
       "    </tr>\n",
       "  </tbody>\n",
       "</table>\n",
       "</div>"
      ],
      "text/plain": [
       "          genre  other_sales\n",
       "0        Action        37.20\n",
       "1       Shooter        28.77\n",
       "2        Sports        19.45\n",
       "3  Role-Playing        11.48\n",
       "4          Misc         6.09"
      ]
     },
     "metadata": {},
     "output_type": "display_data"
    },
    {
     "name": "stdout",
     "output_type": "stream",
     "text": [
      "\n",
      "\n"
     ]
    },
    {
     "data": {
      "image/png": "[encoded data removed]",
      "text/plain": [
       "<Figure size 1080x504 with 4 Axes>"
      ]
     },
     "metadata": {
      "needs_background": "light"
     },
     "output_type": "display_data"
    }
   ],
   "source": [
    "top5('genre')"
   ]
  },
  {
   "cell_type": "markdown",
   "metadata": {},
   "source": [
    "Самым популярным жанорм является `Action`, для большинства регионов, но снова отличилась Япония, там первое место по популярности занимает жанр `Role-Playing`, a `Action` занимает второе место. На втором месте по популярности, в большинстве регионов, жанр `Shooter`, тогда как в Японии он занимает последнее место среди Топ-5 популярных жанров."
   ]
  },
  {
   "cell_type": "markdown",
   "metadata": {},
   "source": [
    "### Влияние рейтинга ESRB на продажи в отдельном регионе ###"
   ]
  },
  {
   "cell_type": "markdown",
   "metadata": {},
   "source": [
    "Определение для пользователя каждого региона (NA, EU, JP, other): Влияет ли рейтинг ESRB на продажи в отдельном регионе?"
   ]
  },
  {
   "cell_type": "code",
   "execution_count": 43,
   "metadata": {},
   "outputs": [
    {
     "data": {
      "text/html": [
       "<div>\n",
       "<style scoped>\n",
       "    .dataframe tbody tr th:only-of-type {\n",
       "        vertical-align: middle;\n",
       "    }\n",
       "\n",
       "    .dataframe tbody tr th {\n",
       "        vertical-align: top;\n",
       "    }\n",
       "\n",
       "    .dataframe thead th {\n",
       "        text-align: right;\n",
       "    }\n",
       "</style>\n",
       "<table border=\"1\" class=\"dataframe\">\n",
       "  <thead>\n",
       "    <tr style=\"text-align: right;\">\n",
       "      <th></th>\n",
       "      <th>rating</th>\n",
       "      <th>na_sales</th>\n",
       "    </tr>\n",
       "  </thead>\n",
       "  <tbody>\n",
       "    <tr>\n",
       "      <th>0</th>\n",
       "      <td>M</td>\n",
       "      <td>165.21</td>\n",
       "    </tr>\n",
       "    <tr>\n",
       "      <th>1</th>\n",
       "      <td>n/v</td>\n",
       "      <td>89.42</td>\n",
       "    </tr>\n",
       "    <tr>\n",
       "      <th>2</th>\n",
       "      <td>E</td>\n",
       "      <td>79.05</td>\n",
       "    </tr>\n",
       "    <tr>\n",
       "      <th>3</th>\n",
       "      <td>E10+</td>\n",
       "      <td>54.24</td>\n",
       "    </tr>\n",
       "    <tr>\n",
       "      <th>4</th>\n",
       "      <td>T</td>\n",
       "      <td>49.79</td>\n",
       "    </tr>\n",
       "  </tbody>\n",
       "</table>\n",
       "</div>"
      ],
      "text/plain": [
       "  rating  na_sales\n",
       "0      M    165.21\n",
       "1    n/v     89.42\n",
       "2      E     79.05\n",
       "3   E10+     54.24\n",
       "4      T     49.79"
      ]
     },
     "metadata": {},
     "output_type": "display_data"
    },
    {
     "name": "stdout",
     "output_type": "stream",
     "text": [
      "\n",
      "\n"
     ]
    },
    {
     "data": {
      "text/html": [
       "<div>\n",
       "<style scoped>\n",
       "    .dataframe tbody tr th:only-of-type {\n",
       "        vertical-align: middle;\n",
       "    }\n",
       "\n",
       "    .dataframe tbody tr th {\n",
       "        vertical-align: top;\n",
       "    }\n",
       "\n",
       "    .dataframe thead th {\n",
       "        text-align: right;\n",
       "    }\n",
       "</style>\n",
       "<table border=\"1\" class=\"dataframe\">\n",
       "  <thead>\n",
       "    <tr style=\"text-align: right;\">\n",
       "      <th></th>\n",
       "      <th>rating</th>\n",
       "      <th>eu_sales</th>\n",
       "    </tr>\n",
       "  </thead>\n",
       "  <tbody>\n",
       "    <tr>\n",
       "      <th>0</th>\n",
       "      <td>M</td>\n",
       "      <td>145.32</td>\n",
       "    </tr>\n",
       "    <tr>\n",
       "      <th>1</th>\n",
       "      <td>E</td>\n",
       "      <td>83.36</td>\n",
       "    </tr>\n",
       "    <tr>\n",
       "      <th>2</th>\n",
       "      <td>n/v</td>\n",
       "      <td>78.91</td>\n",
       "    </tr>\n",
       "    <tr>\n",
       "      <th>3</th>\n",
       "      <td>E10+</td>\n",
       "      <td>42.69</td>\n",
       "    </tr>\n",
       "    <tr>\n",
       "      <th>4</th>\n",
       "      <td>T</td>\n",
       "      <td>41.95</td>\n",
       "    </tr>\n",
       "  </tbody>\n",
       "</table>\n",
       "</div>"
      ],
      "text/plain": [
       "  rating  eu_sales\n",
       "0      M    145.32\n",
       "1      E     83.36\n",
       "2    n/v     78.91\n",
       "3   E10+     42.69\n",
       "4      T     41.95"
      ]
     },
     "metadata": {},
     "output_type": "display_data"
    },
    {
     "name": "stdout",
     "output_type": "stream",
     "text": [
      "\n",
      "\n"
     ]
    },
    {
     "data": {
      "text/html": [
       "<div>\n",
       "<style scoped>\n",
       "    .dataframe tbody tr th:only-of-type {\n",
       "        vertical-align: middle;\n",
       "    }\n",
       "\n",
       "    .dataframe tbody tr th {\n",
       "        vertical-align: top;\n",
       "    }\n",
       "\n",
       "    .dataframe thead th {\n",
       "        text-align: right;\n",
       "    }\n",
       "</style>\n",
       "<table border=\"1\" class=\"dataframe\">\n",
       "  <thead>\n",
       "    <tr style=\"text-align: right;\">\n",
       "      <th></th>\n",
       "      <th>rating</th>\n",
       "      <th>jp_sales</th>\n",
       "    </tr>\n",
       "  </thead>\n",
       "  <tbody>\n",
       "    <tr>\n",
       "      <th>0</th>\n",
       "      <td>n/v</td>\n",
       "      <td>85.05</td>\n",
       "    </tr>\n",
       "    <tr>\n",
       "      <th>1</th>\n",
       "      <td>T</td>\n",
       "      <td>20.59</td>\n",
       "    </tr>\n",
       "    <tr>\n",
       "      <th>2</th>\n",
       "      <td>E</td>\n",
       "      <td>15.14</td>\n",
       "    </tr>\n",
       "    <tr>\n",
       "      <th>3</th>\n",
       "      <td>M</td>\n",
       "      <td>14.11</td>\n",
       "    </tr>\n",
       "    <tr>\n",
       "      <th>4</th>\n",
       "      <td>E10+</td>\n",
       "      <td>5.89</td>\n",
       "    </tr>\n",
       "  </tbody>\n",
       "</table>\n",
       "</div>"
      ],
      "text/plain": [
       "  rating  jp_sales\n",
       "0    n/v     85.05\n",
       "1      T     20.59\n",
       "2      E     15.14\n",
       "3      M     14.11\n",
       "4   E10+      5.89"
      ]
     },
     "metadata": {},
     "output_type": "display_data"
    },
    {
     "name": "stdout",
     "output_type": "stream",
     "text": [
      "\n",
      "\n"
     ]
    },
    {
     "data": {
      "text/html": [
       "<div>\n",
       "<style scoped>\n",
       "    .dataframe tbody tr th:only-of-type {\n",
       "        vertical-align: middle;\n",
       "    }\n",
       "\n",
       "    .dataframe tbody tr th {\n",
       "        vertical-align: top;\n",
       "    }\n",
       "\n",
       "    .dataframe thead th {\n",
       "        text-align: right;\n",
       "    }\n",
       "</style>\n",
       "<table border=\"1\" class=\"dataframe\">\n",
       "  <thead>\n",
       "    <tr style=\"text-align: right;\">\n",
       "      <th></th>\n",
       "      <th>rating</th>\n",
       "      <th>other_sales</th>\n",
       "    </tr>\n",
       "  </thead>\n",
       "  <tbody>\n",
       "    <tr>\n",
       "      <th>0</th>\n",
       "      <td>M</td>\n",
       "      <td>47.04</td>\n",
       "    </tr>\n",
       "    <tr>\n",
       "      <th>1</th>\n",
       "      <td>n/v</td>\n",
       "      <td>23.46</td>\n",
       "    </tr>\n",
       "    <tr>\n",
       "      <th>2</th>\n",
       "      <td>E</td>\n",
       "      <td>22.61</td>\n",
       "    </tr>\n",
       "    <tr>\n",
       "      <th>3</th>\n",
       "      <td>T</td>\n",
       "      <td>14.29</td>\n",
       "    </tr>\n",
       "    <tr>\n",
       "      <th>4</th>\n",
       "      <td>E10+</td>\n",
       "      <td>12.57</td>\n",
       "    </tr>\n",
       "  </tbody>\n",
       "</table>\n",
       "</div>"
      ],
      "text/plain": [
       "  rating  other_sales\n",
       "0      M        47.04\n",
       "1    n/v        23.46\n",
       "2      E        22.61\n",
       "3      T        14.29\n",
       "4   E10+        12.57"
      ]
     },
     "metadata": {},
     "output_type": "display_data"
    },
    {
     "name": "stdout",
     "output_type": "stream",
     "text": [
      "\n",
      "\n"
     ]
    },
    {
     "data": {
      "image/png": "[encoded data removed]",
      "text/plain": [
       "<Figure size 1080x504 with 4 Axes>"
      ]
     },
     "metadata": {
      "needs_background": "light"
     },
     "output_type": "display_data"
    }
   ],
   "source": [
    "top5('rating')"
   ]
  },
  {
   "cell_type": "markdown",
   "metadata": {},
   "source": [
    "ESRB рейтинг оказывает небольшое влияние на продажи в Северной Америке, Европе и других странах, но в Японии - нет."
   ]
  },
  {
   "cell_type": "markdown",
   "metadata": {},
   "source": [
    "**Вывод**\n",
    "\n",
    "При составлении портрета пользователя для каждого региона, можно сказать, что пользователи Японии отличаются от любых других пользователей, как по выбору игровой платформы, жанру так и по зависимости продажи игр от рейтинга УЫКИю\n",
    "Портрет пользователей для разных регионов:\n",
    "\n",
    "* `NA` - Наиболее популярной платформой является `PS4`, на втором месте `XOne`, платформа `3DS` самая не популярная из Топ-5. Наиболее популярными жанрами являются `Action` и `Shooter` (1 и 2 место, соответственно), `Music` - самый непопулярный жанр для этого региона из Топ-5. Рейтинг `ESRB` оказывает небольшое влияние на продажи, наибольшие суммы продаж приходятся на позиции с рейтингом, но на втором месте по суммам продаж оказываются игры без рейтинга `ESRB`.\n",
    "* `EU` - Наиболее популярной платформой является `PS4`, на втором месте `PS3`, платформа `3DS` самая не популярная из Топ-5. Наиболее популярными жанрами являются `Action` и `Shooter` (1 и 2 место, соответственно), `Racing` - самый непопулярный жанр для этого региона из Топ-5. Рейтинг `ESRB` оказывает влияние на продажи больше чем в Северной Америке, наибольшие суммы продаж приходятся на позиции с рейтингом (1 и 2 места), но на третьем месте по суммам продаж оказываются игры без рейтинга `ESRB`.\n",
    "* `JP` - Наиболее популярной платформой является `3DS`, на втором месте `PS3`, платформа `WiiU` самая не популярная из Топ-5. Наиболее популярными жанрами являются `Role-Playing` и `Action` (1 и 2 место, соответственно), `Shooter` - самый непопулярный жанр для этого региона из Топ-5. Рейтинг `ESRB` совершенно не оказывает влияния на суммы продажи в данном регионе, большинство сумм продаж приходится на игры без рейтинга `ESRB`.\n",
    "* `Other` - Наиболее популярной платформой является `PS4`, на втором месте `PS3`, платформа `3DS` самая не популярная из Топ-5. Наиболее популярными жанрами являются `Action` и `Shooter` (1 и 2 место, соответственно), `Music` - самый непопулярный жанр для этого региона из Топ-5. Рейтинг `ESRB` оказывает небольшое влияние на продажи, наибольшие суммы продаж приходятся на позиции с рейтингом, но на втором месте по суммам продаж оказываются игры без рейтинга `ESRB`."
   ]
  },
  {
   "cell_type": "markdown",
   "metadata": {},
   "source": [
    "## Шаг 5. Проверка гипотез"
   ]
  },
  {
   "cell_type": "markdown",
   "metadata": {},
   "source": [
    "### Гипотеза № 1: Средние пользовательские рейтинги платформ Xbox One и PC одинаковые ###"
   ]
  },
  {
   "cell_type": "markdown",
   "metadata": {},
   "source": [
    "H₀: средние пользовательские рейтинги платформ Xbox One и PC равны;\n",
    "\n",
    "H₁: средние пользовательские рейтинги платформ Xbox One и PC не равны.\n",
    "\n",
    "Исходя из формулировки гипотезы о том, что средние пользовательские рейтинги платформ Xbox One и PC одинаковые, были сформулированы нулевая(H₀) и альтернативная гипотезы(H₁), для нулевой сделано предположение о том, что средние пользовательские рейтинги платформ Xbox One равны средним пользовательским рейтингам платформ PC, а для альтернативной, наоборот, средние пользовательские рейтинги платформ Xbox One не равны средним пользовательским рейтингам платформ PC.\n",
    "\n",
    "Генеральные совокупности не зависят друг от друга. Выборочные средние нормально распределены. Для проверки гипотезы подойдет t-тест."
   ]
  },
  {
   "cell_type": "code",
   "execution_count": 44,
   "metadata": {},
   "outputs": [],
   "source": [
    "# удаление пропусков в user_score\n",
    "df_new = df_new.dropna(subset=['user_score'])"
   ]
  },
  {
   "cell_type": "code",
   "execution_count": 45,
   "metadata": {},
   "outputs": [
    {
     "name": "stdout",
     "output_type": "stream",
     "text": [
      "среднее для выборки по платформе XOne равно 6.521428571428572\n",
      "среднее для выборки по платформе PC равно 6.2696774193548395\n"
     ]
    }
   ],
   "source": [
    "# подсчет средних значений по выборкам разных платформ\n",
    "mean_x1 = df_new.query('platform == \"XOne\"')['user_score'].agg('mean')\n",
    "mean_p1 = df_new.query('platform == \"PC\"')['user_score'].agg('mean')\n",
    "print(f'среднее для выборки по платформе XOne равно {mean_x1}') \n",
    "print(f'среднее для выборки по платформе PC равно {mean_p1}')"
   ]
  },
  {
   "cell_type": "code",
   "execution_count": 46,
   "metadata": {},
   "outputs": [
    {
     "name": "stdout",
     "output_type": "stream",
     "text": [
      "p-значение:  0.14012658403611647\n",
      "Не получилось отвергнуть нулевую гипотезу\n"
     ]
    }
   ],
   "source": [
    "# критический уровень статистической значимости\n",
    "# если p-value окажется меньше него - гипотеза отвергается\n",
    "alpha = .001\n",
    "\n",
    "results = st.ttest_ind(df_new.query('platform == \"XOne\"')['user_score'], \n",
    "                      df_new.query('platform == \"PC\"')['user_score']\n",
    "                      )\n",
    "\n",
    "print('p-значение: ', results.pvalue)\n",
    "\n",
    "if results.pvalue < alpha:\n",
    "    print(\"Отвергаем нулевую гипотезу\")\n",
    "else:\n",
    "    print(\"Не получилось отвергнуть нулевую гипотезу\")"
   ]
  },
  {
   "cell_type": "markdown",
   "metadata": {},
   "source": [
    "По результату t-теста средние пользовательские рейтинги платформы `Xbox One` (`XOne`) равны средним пользовательским рейтингам платформы `PC`. То есть можно сказать, что гипотеза о том, что средние пользовательские рейтинги платформ Xbox One и PC одинаковые - не отвергается."
   ]
  },
  {
   "cell_type": "markdown",
   "metadata": {},
   "source": [
    "### Гипотеза № 2: Средние пользовательские рейтинги жанров Action и Sports разные ###"
   ]
  },
  {
   "cell_type": "markdown",
   "metadata": {},
   "source": [
    "H₀: средние пользовательские рейтинги жанров Action и Sports равны;\n",
    "\n",
    "H₁: средние пользовательские рейтинги жанров Action и Sports не равны.\n",
    "\n",
    "Исходя из формулировки гипотезы о том, что средние пользовательские рейтинги жанров Action и Sports разные, были сформулированы нулевая(H₀) и альтернативная гипотезы(H₁), для нулевой сделано предположение о том, что средние пользовательские рейтинги жанра Action равны средним пользовательским рейтингам жанра Sports, а для альтернативной, наоборот, средние пользовательские рейтинги жанра Action не равны средним пользовательским рейтингам жанра Sports.\n",
    "\n",
    "Генеральные совокупности не зависят друг от друга. Выборочные средние нормально распределены. Для проверки гипотезы подойдет t-тест."
   ]
  },
  {
   "cell_type": "code",
   "execution_count": 47,
   "metadata": {},
   "outputs": [
    {
     "name": "stdout",
     "output_type": "stream",
     "text": [
      "p-значение:  1.0517832389140023e-27\n",
      "Отвергаем нулевую гипотезу\n"
     ]
    }
   ],
   "source": [
    "# критический уровень статистической значимости\n",
    "# если p-value окажется меньше него - гипотеза отвергается\n",
    "alpha = .001\n",
    "\n",
    "results = st.ttest_ind(df_new.query('genre == \"Action\"')['user_score'], \n",
    "                      df_new.query('genre == \"Sports\"')['user_score']\n",
    "                      )\n",
    "\n",
    "print('p-значение: ', results.pvalue)\n",
    "\n",
    "if results.pvalue < alpha:\n",
    "    print(\"Отвергаем нулевую гипотезу\")\n",
    "else:\n",
    "    print(\"Не получилось отвергнуть нулевую гипотезу\")"
   ]
  },
  {
   "cell_type": "markdown",
   "metadata": {},
   "source": [
    "По результату t-теста средние пользовательские рейтинги жанра `Action` не равны средним пользовательским рейтингам жанра `Sports`. То есть можно сказать, что гипотеза о том, что cредние пользовательские рейтинги жанров `Action` и `Sports` разные - не отвергается."
   ]
  },
  {
   "cell_type": "markdown",
   "metadata": {},
   "source": [
    "## Шаг 6. Общий вывод"
   ]
  },
  {
   "cell_type": "markdown",
   "metadata": {},
   "source": [
    "*Предобработка данных*\n",
    "\n",
    "В начале проекта, при просмотре данных, названия всех столбцов были приведены к общему (нижнему) регистру. \n",
    "\n",
    "В столбцах `name`, `year_of_release` и `genre` пропуски были удалены, так как их доля составляет менее 5%. Для столбцов `critic_score` и `user_score` пропущенные значения были оставлены, так как для них нет корректной замены, любая замена пропущеных значений в этих столбцах понесет за собой искажение результатов при дальнейших расчетах. \n",
    "\n",
    "При просмотре уникальных значений в столбце `user_score` было обнаружено значение `tbd` и было изменено на `nan`. \n",
    "\n",
    "Для столбца `rating` пропущеные значения были заменены на `n/v`, так как переменная является категориальной. \n",
    "\n",
    "Были изменены типы данных для столбцов `year_of_release` и `user_score`. \n",
    "\n",
    "Далее был произведен расчет суммарных продаж во всех регионах и добавлен в отдельный столбец.\n",
    "\n",
    "*Исследовательский анализ данных*\n",
    "\n",
    "В ходе исследовательского анализа, был выделен актуальный период, в среднем срок появления и исчезновения платформ, около 6 лет, но так как половину жизни платформа падает, то актуальный период составил - 3 года. Все платформы растут и падают по продажам. \n",
    "\n",
    "Потенциально прибыльными платформами для исследуемого периода можно считать `PS4`, `XOne` и `3DS`, но в случае последней, платформа появилась примерно в 2011 году, раньше чем `PS4` и `XOne`, поэтому ее актуальность может полностью исчерпать себя к 2017 году. \n",
    "\n",
    "При сравнении по глобальным продажам игр в разбивке по платформам в среднем игр проданных на платформе `PS4` (0.801378) больше чем на платформе `XOne` (0.645020), но и в общей сложности продаж на платформе `PS4` (392) больше, чем на платформе `XOne` (247). \n",
    "\n",
    "При просмотре, как влияют на продажи внутри одной популярной платформы отзывы пользователей и критиков, не было выявлено значимой линейной зависимости между продажами и отзывами критиков, а между продажами и отзывами пользователей зависимости нет вообще, как в случае самой популярной платформы `PS4`, так и в случае менее популярных - `XOne` и `3DS`. \n",
    "\n",
    "Самым популярным жанром игр является `Action`, а самым прибыльным жанром игр является `Shooter`.\n",
    "\n",
    "*Портрет пользователья каждого региона*\n",
    "\n",
    "При составлении портрета пользователя для каждого региона, можно сказать, что пользователи Японии отличаются от любых других пользователей, как по выбору игровой платформы, жанру так и по зависимости продажи игр от рейтинга `ESRB`\n",
    "Портрет пользователей для разных регионов:\n",
    "\n",
    "* `NA` - Наиболее популярной платформой является `PS4`, на втором месте `XOne`, платформа `3DS` самая не популярная из Топ-5. Наиболее популярными жанрами являются `Action` и `Shooter` (1 и 2 место, соответственно), `Music` - самый непопулярный жанр для этого региона из Топ-5. Рейтинг `ESRB` оказывает небольшое влияние на продажи, наибольшие суммы продаж приходятся на позиции с рейтингом, но на втором месте по суммам продаж оказываются игры без рейтинга `ESRB`.\n",
    "* `EU` - Наиболее популярной платформой является `PS4`, на втором месте `PS3`, платформа `3DS` самая не популярная из Топ-5. Наиболее популярными жанрами являются `Action` и `Shooter` (1 и 2 место, соответственно), `Racing` - самый непопулярный жанр для этого региона из Топ-5. Рейтинг `ESRB` оказывает влияние на продажи больше чем в Северной Америке, наибольшие суммы продаж приходятся на позиции с рейтингом (1 и 2 места), но на третьем месте по суммам продаж оказываются игры без рейтинга `ESRB`.\n",
    "* `JP` - Наиболее популярной платформой является `3DS`, на втором месте `PS3`, платформа `WiiU` самая не популярная из Топ-5. Наиболее популярными жанрами являются `Role-Playing` и `Action` (1 и 2 место, соответственно), `Shooter` - самый непопулярный жанр для этого региона из Топ-5. Рейтинг `ESRB` совершенно не оказывает влияния на суммы продажи в данном регионе, большинство сумм продаж приходится на игры без рейтинга `ESRB`.\n",
    "* `Other` - Наиболее популярной платформой является `PS4`, на втором месте `PS3`, платформа `3DS` самая не популярная из Топ-5. Наиболее популярными жанрами являются `Action` и `Shooter` (1 и 2 место, соответственно), `Music` - самый непопулярный жанр для этого региона из Топ-5. Рейтинг `ESRB` оказывает небольшое влияние на продажи, наибольшие суммы продаж приходятся на позиции с рейтингом, но на втором месте по суммам продаж оказываются игры без рейтинга `ESRB`.\n",
    "\n",
    "*Проверка гипотез*\n",
    "\n",
    "При проверке гипотез, гипотеза о том, что средние пользовательские рейтинги платформ Xbox One и PC одинаковые - не отвергается. Гипотеза о том, что cредние пользовательские рейтинги жанров `Action` и `Sports` разные - не отвергается.\n",
    "\n",
    "***Рекомендации***\n",
    "\n",
    "При планировании рекламной компании, стоит учесть, что для большинства регионов платформа `PS4` и жанр игр `Action` и `Shooter` будут наиболее прибыльными, за исключением Японии, для пользователей Японии наиболее популярной платформой является `3DS` и наиблее популярный жанр игр это `Role-Playing` и `Action`."
   ]
  }
 ],
 "metadata": {
  "ExecuteTimeLog": [
   {
    "duration": 1173,
    "start_time": "2022-04-02T17:16:37.651Z"
   },
   {
    "duration": 45,
    "start_time": "2022-04-02T17:18:06.506Z"
   },
   {
    "duration": 40,
    "start_time": "2022-04-02T17:18:41.814Z"
   },
   {
    "duration": 46,
    "start_time": "2022-04-02T17:18:49.857Z"
   },
   {
    "duration": 16,
    "start_time": "2022-04-02T17:19:11.647Z"
   },
   {
    "duration": 72,
    "start_time": "2022-04-02T22:05:33.983Z"
   },
   {
    "duration": 1826,
    "start_time": "2022-04-02T22:14:51.808Z"
   },
   {
    "duration": 80,
    "start_time": "2022-04-02T22:14:53.637Z"
   },
   {
    "duration": 22,
    "start_time": "2022-04-02T22:14:53.719Z"
   },
   {
    "duration": 9,
    "start_time": "2022-04-02T22:14:53.744Z"
   },
   {
    "duration": 4,
    "start_time": "2022-04-02T22:14:53.823Z"
   },
   {
    "duration": 64,
    "start_time": "2022-04-02T22:14:53.830Z"
   },
   {
    "duration": 20,
    "start_time": "2022-04-02T22:14:53.896Z"
   },
   {
    "duration": 12,
    "start_time": "2022-04-02T22:14:53.918Z"
   },
   {
    "duration": 127,
    "start_time": "2022-04-02T22:14:53.933Z"
   },
   {
    "duration": 145,
    "start_time": "2022-04-02T22:15:27.539Z"
   },
   {
    "duration": 11,
    "start_time": "2022-04-02T22:15:35.245Z"
   },
   {
    "duration": 12,
    "start_time": "2022-04-02T22:15:58.619Z"
   },
   {
    "duration": 12,
    "start_time": "2022-04-02T22:17:00.541Z"
   },
   {
    "duration": 4,
    "start_time": "2022-04-02T22:22:56.954Z"
   },
   {
    "duration": 12,
    "start_time": "2022-04-02T22:23:10.719Z"
   },
   {
    "duration": 11,
    "start_time": "2022-04-02T22:23:30.340Z"
   },
   {
    "duration": 11,
    "start_time": "2022-04-02T22:30:28.789Z"
   },
   {
    "duration": 1688,
    "start_time": "2022-04-02T22:32:30.143Z"
   },
   {
    "duration": 75,
    "start_time": "2022-04-02T22:32:31.833Z"
   },
   {
    "duration": 21,
    "start_time": "2022-04-02T22:32:31.914Z"
   },
   {
    "duration": 6,
    "start_time": "2022-04-02T22:32:31.938Z"
   },
   {
    "duration": 38,
    "start_time": "2022-04-02T22:32:31.947Z"
   },
   {
    "duration": 5,
    "start_time": "2022-04-02T22:33:46.637Z"
   },
   {
    "duration": 140,
    "start_time": "2022-04-02T22:33:59.500Z"
   },
   {
    "duration": 1578,
    "start_time": "2022-04-02T22:34:11.422Z"
   },
   {
    "duration": 83,
    "start_time": "2022-04-02T22:34:13.002Z"
   },
   {
    "duration": 23,
    "start_time": "2022-04-02T22:34:13.087Z"
   },
   {
    "duration": 11,
    "start_time": "2022-04-02T22:34:13.112Z"
   },
   {
    "duration": 4,
    "start_time": "2022-04-02T22:34:13.126Z"
   },
   {
    "duration": 177,
    "start_time": "2022-04-02T22:34:13.133Z"
   },
   {
    "duration": 10,
    "start_time": "2022-04-02T22:34:23.405Z"
   },
   {
    "duration": 13,
    "start_time": "2022-04-02T22:39:30.465Z"
   },
   {
    "duration": 1553,
    "start_time": "2022-04-02T22:39:59.180Z"
   },
   {
    "duration": 82,
    "start_time": "2022-04-02T22:40:00.736Z"
   },
   {
    "duration": 23,
    "start_time": "2022-04-02T22:40:00.820Z"
   },
   {
    "duration": 23,
    "start_time": "2022-04-02T22:40:00.846Z"
   },
   {
    "duration": 17,
    "start_time": "2022-04-02T22:40:00.872Z"
   },
   {
    "duration": 25,
    "start_time": "2022-04-02T22:40:00.891Z"
   },
   {
    "duration": 10,
    "start_time": "2022-04-02T22:40:31.535Z"
   },
   {
    "duration": 154,
    "start_time": "2022-04-02T22:42:31.547Z"
   },
   {
    "duration": 15,
    "start_time": "2022-04-02T22:43:22.690Z"
   },
   {
    "duration": 4,
    "start_time": "2022-04-02T22:43:55.643Z"
   },
   {
    "duration": 16,
    "start_time": "2022-04-02T22:48:13.427Z"
   },
   {
    "duration": 16,
    "start_time": "2022-04-02T22:48:52.686Z"
   },
   {
    "duration": 142,
    "start_time": "2022-04-02T22:49:23.652Z"
   },
   {
    "duration": 15,
    "start_time": "2022-04-02T22:49:28.451Z"
   },
   {
    "duration": 18,
    "start_time": "2022-04-02T22:52:42.877Z"
   },
   {
    "duration": 24,
    "start_time": "2022-04-02T22:52:52.659Z"
   },
   {
    "duration": 20,
    "start_time": "2022-04-02T22:58:55.310Z"
   },
   {
    "duration": 5,
    "start_time": "2022-04-02T22:59:34.591Z"
   },
   {
    "duration": 20,
    "start_time": "2022-04-02T22:59:46.371Z"
   },
   {
    "duration": 9,
    "start_time": "2022-04-02T23:01:48.925Z"
   },
   {
    "duration": 8,
    "start_time": "2022-04-02T23:02:10.771Z"
   },
   {
    "duration": 7,
    "start_time": "2022-04-02T23:02:54.661Z"
   },
   {
    "duration": 7,
    "start_time": "2022-04-02T23:03:22.261Z"
   },
   {
    "duration": 8,
    "start_time": "2022-04-02T23:03:37.773Z"
   },
   {
    "duration": 10,
    "start_time": "2022-04-02T23:04:39.947Z"
   },
   {
    "duration": 10,
    "start_time": "2022-04-02T23:04:53.796Z"
   },
   {
    "duration": 7,
    "start_time": "2022-04-02T23:05:28.223Z"
   },
   {
    "duration": 9,
    "start_time": "2022-04-02T23:05:59.629Z"
   },
   {
    "duration": 7,
    "start_time": "2022-04-02T23:06:13.741Z"
   },
   {
    "duration": 10,
    "start_time": "2022-04-02T23:06:53.909Z"
   },
   {
    "duration": 8,
    "start_time": "2022-04-02T23:07:22.885Z"
   },
   {
    "duration": 23,
    "start_time": "2022-04-02T23:07:55.140Z"
   },
   {
    "duration": 23,
    "start_time": "2022-04-02T23:16:52.653Z"
   },
   {
    "duration": 7,
    "start_time": "2022-04-02T23:17:33.721Z"
   },
   {
    "duration": 11,
    "start_time": "2022-04-02T23:17:49.111Z"
   },
   {
    "duration": 11,
    "start_time": "2022-04-02T23:28:52.481Z"
   },
   {
    "duration": 7,
    "start_time": "2022-04-02T23:29:01.432Z"
   },
   {
    "duration": 7,
    "start_time": "2022-04-02T23:31:35.659Z"
   },
   {
    "duration": 9,
    "start_time": "2022-04-02T23:31:51.398Z"
   },
   {
    "duration": 10,
    "start_time": "2022-04-02T23:31:58.627Z"
   },
   {
    "duration": 7,
    "start_time": "2022-04-02T23:32:02.488Z"
   },
   {
    "duration": 10,
    "start_time": "2022-04-02T23:32:05.535Z"
   },
   {
    "duration": 6,
    "start_time": "2022-04-02T23:32:22.958Z"
   },
   {
    "duration": 1578,
    "start_time": "2022-04-02T23:32:42.950Z"
   },
   {
    "duration": 78,
    "start_time": "2022-04-02T23:32:44.531Z"
   },
   {
    "duration": 21,
    "start_time": "2022-04-02T23:32:44.612Z"
   },
   {
    "duration": 5,
    "start_time": "2022-04-02T23:32:44.636Z"
   },
   {
    "duration": 40,
    "start_time": "2022-04-02T23:32:44.643Z"
   },
   {
    "duration": 14,
    "start_time": "2022-04-02T23:32:44.685Z"
   },
   {
    "duration": 122,
    "start_time": "2022-04-02T23:32:44.701Z"
   },
   {
    "duration": 0,
    "start_time": "2022-04-02T23:32:44.825Z"
   },
   {
    "duration": 0,
    "start_time": "2022-04-02T23:32:44.827Z"
   },
   {
    "duration": 0,
    "start_time": "2022-04-02T23:32:44.829Z"
   },
   {
    "duration": 0,
    "start_time": "2022-04-02T23:32:44.830Z"
   },
   {
    "duration": 0,
    "start_time": "2022-04-02T23:32:44.832Z"
   },
   {
    "duration": 0,
    "start_time": "2022-04-02T23:32:44.833Z"
   },
   {
    "duration": 0,
    "start_time": "2022-04-02T23:32:44.835Z"
   },
   {
    "duration": 1,
    "start_time": "2022-04-02T23:32:44.836Z"
   },
   {
    "duration": 0,
    "start_time": "2022-04-02T23:32:44.838Z"
   },
   {
    "duration": 130,
    "start_time": "2022-04-02T23:33:41.655Z"
   },
   {
    "duration": 5,
    "start_time": "2022-04-02T23:34:49.176Z"
   },
   {
    "duration": 16,
    "start_time": "2022-04-02T23:34:52.072Z"
   },
   {
    "duration": 1579,
    "start_time": "2022-04-02T23:35:01.354Z"
   },
   {
    "duration": 83,
    "start_time": "2022-04-02T23:35:02.935Z"
   },
   {
    "duration": 22,
    "start_time": "2022-04-02T23:35:03.021Z"
   },
   {
    "duration": 36,
    "start_time": "2022-04-02T23:35:03.046Z"
   },
   {
    "duration": 29,
    "start_time": "2022-04-02T23:35:03.084Z"
   },
   {
    "duration": 20,
    "start_time": "2022-04-02T23:35:03.116Z"
   },
   {
    "duration": 10,
    "start_time": "2022-04-02T23:35:03.139Z"
   },
   {
    "duration": 20,
    "start_time": "2022-04-02T23:35:03.151Z"
   },
   {
    "duration": 31,
    "start_time": "2022-04-02T23:35:03.173Z"
   },
   {
    "duration": 4,
    "start_time": "2022-04-02T23:35:03.207Z"
   },
   {
    "duration": 20,
    "start_time": "2022-04-02T23:35:03.213Z"
   },
   {
    "duration": 17,
    "start_time": "2022-04-02T23:35:03.235Z"
   },
   {
    "duration": 10,
    "start_time": "2022-04-02T23:35:03.254Z"
   },
   {
    "duration": 11,
    "start_time": "2022-04-02T23:35:03.285Z"
   },
   {
    "duration": 11,
    "start_time": "2022-04-02T23:35:03.299Z"
   },
   {
    "duration": 14,
    "start_time": "2022-04-02T23:35:03.313Z"
   },
   {
    "duration": 10,
    "start_time": "2022-04-02T23:35:31.338Z"
   },
   {
    "duration": 1648,
    "start_time": "2022-04-02T23:35:39.486Z"
   },
   {
    "duration": 80,
    "start_time": "2022-04-02T23:35:41.136Z"
   },
   {
    "duration": 21,
    "start_time": "2022-04-02T23:35:41.218Z"
   },
   {
    "duration": 6,
    "start_time": "2022-04-02T23:35:41.242Z"
   },
   {
    "duration": 35,
    "start_time": "2022-04-02T23:35:41.250Z"
   },
   {
    "duration": 14,
    "start_time": "2022-04-02T23:35:41.287Z"
   },
   {
    "duration": 5,
    "start_time": "2022-04-02T23:35:41.304Z"
   },
   {
    "duration": 18,
    "start_time": "2022-04-02T23:35:41.311Z"
   },
   {
    "duration": 70,
    "start_time": "2022-04-02T23:35:41.331Z"
   },
   {
    "duration": 3,
    "start_time": "2022-04-02T23:35:41.406Z"
   },
   {
    "duration": 15,
    "start_time": "2022-04-02T23:35:41.412Z"
   },
   {
    "duration": 10,
    "start_time": "2022-04-02T23:35:41.429Z"
   },
   {
    "duration": 43,
    "start_time": "2022-04-02T23:35:41.442Z"
   },
   {
    "duration": 14,
    "start_time": "2022-04-02T23:35:41.488Z"
   },
   {
    "duration": 9,
    "start_time": "2022-04-02T23:35:41.505Z"
   },
   {
    "duration": 13,
    "start_time": "2022-04-02T23:35:41.516Z"
   },
   {
    "duration": 159,
    "start_time": "2022-04-02T23:43:55.939Z"
   },
   {
    "duration": 21,
    "start_time": "2022-04-02T23:44:32.441Z"
   },
   {
    "duration": 22,
    "start_time": "2022-04-02T23:45:30.401Z"
   },
   {
    "duration": 22,
    "start_time": "2022-04-02T23:46:37.336Z"
   },
   {
    "duration": 1579,
    "start_time": "2022-04-02T23:48:17.330Z"
   },
   {
    "duration": 81,
    "start_time": "2022-04-02T23:48:18.912Z"
   },
   {
    "duration": 23,
    "start_time": "2022-04-02T23:48:18.996Z"
   },
   {
    "duration": 8,
    "start_time": "2022-04-02T23:48:19.022Z"
   },
   {
    "duration": 50,
    "start_time": "2022-04-02T23:48:19.033Z"
   },
   {
    "duration": 16,
    "start_time": "2022-04-02T23:48:19.085Z"
   },
   {
    "duration": 4,
    "start_time": "2022-04-02T23:48:19.104Z"
   },
   {
    "duration": 17,
    "start_time": "2022-04-02T23:48:19.111Z"
   },
   {
    "duration": 71,
    "start_time": "2022-04-02T23:48:19.131Z"
   },
   {
    "duration": 10,
    "start_time": "2022-04-02T23:48:19.207Z"
   },
   {
    "duration": 12,
    "start_time": "2022-04-02T23:48:19.220Z"
   },
   {
    "duration": 10,
    "start_time": "2022-04-02T23:48:19.234Z"
   },
   {
    "duration": 50,
    "start_time": "2022-04-02T23:48:19.246Z"
   },
   {
    "duration": 10,
    "start_time": "2022-04-02T23:48:19.299Z"
   },
   {
    "duration": 23,
    "start_time": "2022-04-02T23:48:19.312Z"
   },
   {
    "duration": 47,
    "start_time": "2022-04-02T23:48:19.338Z"
   },
   {
    "duration": 8,
    "start_time": "2022-04-02T23:50:23.692Z"
   },
   {
    "duration": 23,
    "start_time": "2022-04-02T23:50:39.766Z"
   },
   {
    "duration": 22,
    "start_time": "2022-04-02T23:59:01.607Z"
   },
   {
    "duration": 22,
    "start_time": "2022-04-02T23:59:27.120Z"
   },
   {
    "duration": 38,
    "start_time": "2022-04-03T00:07:52.285Z"
   },
   {
    "duration": 22,
    "start_time": "2022-04-03T00:21:19.462Z"
   },
   {
    "duration": 166,
    "start_time": "2022-04-03T00:21:58.586Z"
   },
   {
    "duration": 13,
    "start_time": "2022-04-03T00:23:31.064Z"
   },
   {
    "duration": 23,
    "start_time": "2022-04-03T00:23:55.846Z"
   },
   {
    "duration": 1593,
    "start_time": "2022-04-03T00:25:44.933Z"
   },
   {
    "duration": 83,
    "start_time": "2022-04-03T00:25:46.529Z"
   },
   {
    "duration": 22,
    "start_time": "2022-04-03T00:25:46.614Z"
   },
   {
    "duration": 6,
    "start_time": "2022-04-03T00:25:46.638Z"
   },
   {
    "duration": 39,
    "start_time": "2022-04-03T00:25:46.648Z"
   },
   {
    "duration": 21,
    "start_time": "2022-04-03T00:25:46.690Z"
   },
   {
    "duration": 4,
    "start_time": "2022-04-03T00:25:46.714Z"
   },
   {
    "duration": 18,
    "start_time": "2022-04-03T00:25:46.720Z"
   },
   {
    "duration": 49,
    "start_time": "2022-04-03T00:25:46.741Z"
   },
   {
    "duration": 9,
    "start_time": "2022-04-03T00:25:46.793Z"
   },
   {
    "duration": 10,
    "start_time": "2022-04-03T00:25:46.804Z"
   },
   {
    "duration": 9,
    "start_time": "2022-04-03T00:25:46.816Z"
   },
   {
    "duration": 11,
    "start_time": "2022-04-03T00:25:46.828Z"
   },
   {
    "duration": 42,
    "start_time": "2022-04-03T00:25:46.843Z"
   },
   {
    "duration": 12,
    "start_time": "2022-04-03T00:25:46.888Z"
   },
   {
    "duration": 33,
    "start_time": "2022-04-03T00:25:46.902Z"
   },
   {
    "duration": 47,
    "start_time": "2022-04-03T00:25:46.938Z"
   },
   {
    "duration": 36,
    "start_time": "2022-04-03T00:25:46.987Z"
   },
   {
    "duration": 4,
    "start_time": "2022-04-03T00:51:45.978Z"
   },
   {
    "duration": 5,
    "start_time": "2022-04-03T00:52:28.652Z"
   },
   {
    "duration": 149,
    "start_time": "2022-04-03T00:53:17.218Z"
   },
   {
    "duration": 266,
    "start_time": "2022-04-03T00:54:37.154Z"
   },
   {
    "duration": 17,
    "start_time": "2022-04-03T00:55:09.514Z"
   },
   {
    "duration": 4,
    "start_time": "2022-04-03T00:55:13.995Z"
   },
   {
    "duration": 11976,
    "start_time": "2022-04-03T00:55:15.202Z"
   },
   {
    "duration": 226,
    "start_time": "2022-04-03T00:58:15.089Z"
   },
   {
    "duration": 184,
    "start_time": "2022-04-03T01:00:22.643Z"
   },
   {
    "duration": 181,
    "start_time": "2022-04-03T01:04:39.756Z"
   },
   {
    "duration": 233,
    "start_time": "2022-04-03T01:12:50.094Z"
   },
   {
    "duration": 8330,
    "start_time": "2022-04-03T01:14:03.837Z"
   },
   {
    "duration": 210,
    "start_time": "2022-04-03T01:15:28.542Z"
   },
   {
    "duration": 5,
    "start_time": "2022-04-03T01:16:46.381Z"
   },
   {
    "duration": 231,
    "start_time": "2022-04-03T01:17:45.437Z"
   },
   {
    "duration": 13,
    "start_time": "2022-04-03T01:21:57.662Z"
   },
   {
    "duration": 240,
    "start_time": "2022-04-03T01:22:07.069Z"
   },
   {
    "duration": 5,
    "start_time": "2022-04-03T01:25:59.942Z"
   },
   {
    "duration": 267,
    "start_time": "2022-04-03T01:26:00.612Z"
   },
   {
    "duration": 5,
    "start_time": "2022-04-03T01:26:08.745Z"
   },
   {
    "duration": 282,
    "start_time": "2022-04-03T01:26:10.317Z"
   },
   {
    "duration": 11,
    "start_time": "2022-04-03T01:31:44.375Z"
   },
   {
    "duration": 4,
    "start_time": "2022-04-03T01:31:47.638Z"
   },
   {
    "duration": 291,
    "start_time": "2022-04-03T01:31:49.886Z"
   },
   {
    "duration": 5,
    "start_time": "2022-04-03T01:32:37.430Z"
   },
   {
    "duration": 285,
    "start_time": "2022-04-03T01:32:42.541Z"
   },
   {
    "duration": 402,
    "start_time": "2022-04-03T01:34:53.686Z"
   },
   {
    "duration": 399,
    "start_time": "2022-04-03T01:35:40.714Z"
   },
   {
    "duration": 379,
    "start_time": "2022-04-03T01:41:19.998Z"
   },
   {
    "duration": 430,
    "start_time": "2022-04-03T01:42:05.624Z"
   },
   {
    "duration": 48,
    "start_time": "2022-04-03T15:39:30.054Z"
   },
   {
    "duration": 1340,
    "start_time": "2022-04-03T15:42:10.307Z"
   },
   {
    "duration": 52,
    "start_time": "2022-04-03T15:42:11.649Z"
   },
   {
    "duration": 14,
    "start_time": "2022-04-03T15:42:11.703Z"
   },
   {
    "duration": 14,
    "start_time": "2022-04-03T15:42:11.720Z"
   },
   {
    "duration": 8,
    "start_time": "2022-04-03T15:42:11.736Z"
   },
   {
    "duration": 10,
    "start_time": "2022-04-03T15:42:11.745Z"
   },
   {
    "duration": 4,
    "start_time": "2022-04-03T15:42:11.757Z"
   },
   {
    "duration": 12,
    "start_time": "2022-04-03T15:42:11.762Z"
   },
   {
    "duration": 16,
    "start_time": "2022-04-03T15:42:11.776Z"
   },
   {
    "duration": 41,
    "start_time": "2022-04-03T15:42:11.795Z"
   },
   {
    "duration": 7,
    "start_time": "2022-04-03T15:42:11.838Z"
   },
   {
    "duration": 6,
    "start_time": "2022-04-03T15:42:11.847Z"
   },
   {
    "duration": 8,
    "start_time": "2022-04-03T15:42:11.854Z"
   },
   {
    "duration": 5,
    "start_time": "2022-04-03T15:42:11.864Z"
   },
   {
    "duration": 7,
    "start_time": "2022-04-03T15:42:11.870Z"
   },
   {
    "duration": 14,
    "start_time": "2022-04-03T15:42:11.878Z"
   },
   {
    "duration": 51,
    "start_time": "2022-04-03T15:42:11.894Z"
   },
   {
    "duration": 21,
    "start_time": "2022-04-03T15:42:11.946Z"
   },
   {
    "duration": 3,
    "start_time": "2022-04-03T15:42:11.968Z"
   },
   {
    "duration": 382,
    "start_time": "2022-04-03T15:42:11.972Z"
   },
   {
    "duration": 22,
    "start_time": "2022-04-03T15:42:12.355Z"
   },
   {
    "duration": 10,
    "start_time": "2022-04-03T15:51:45.078Z"
   },
   {
    "duration": 7,
    "start_time": "2022-04-03T15:52:44.511Z"
   },
   {
    "duration": 9,
    "start_time": "2022-04-03T15:53:28.843Z"
   },
   {
    "duration": 6,
    "start_time": "2022-04-03T15:53:35.880Z"
   },
   {
    "duration": 11,
    "start_time": "2022-04-03T15:53:43.320Z"
   },
   {
    "duration": 11,
    "start_time": "2022-04-03T15:53:56.104Z"
   },
   {
    "duration": 11,
    "start_time": "2022-04-03T15:54:05.132Z"
   },
   {
    "duration": 13,
    "start_time": "2022-04-03T15:57:54.779Z"
   },
   {
    "duration": 15,
    "start_time": "2022-04-03T15:58:17.775Z"
   },
   {
    "duration": 14,
    "start_time": "2022-04-03T15:59:01.695Z"
   },
   {
    "duration": 15,
    "start_time": "2022-04-03T15:59:31.728Z"
   },
   {
    "duration": 139,
    "start_time": "2022-04-03T16:01:56.571Z"
   },
   {
    "duration": 21,
    "start_time": "2022-04-03T16:06:22.237Z"
   },
   {
    "duration": 22,
    "start_time": "2022-04-03T16:07:23.265Z"
   },
   {
    "duration": 16,
    "start_time": "2022-04-03T16:07:33.567Z"
   },
   {
    "duration": 16,
    "start_time": "2022-04-03T16:07:52.165Z"
   },
   {
    "duration": 13,
    "start_time": "2022-04-03T16:08:04.696Z"
   },
   {
    "duration": 16,
    "start_time": "2022-04-03T16:08:55.446Z"
   },
   {
    "duration": 233,
    "start_time": "2022-04-03T16:10:34.284Z"
   },
   {
    "duration": 13,
    "start_time": "2022-04-03T16:22:20.881Z"
   },
   {
    "duration": 793,
    "start_time": "2022-04-03T16:25:38.672Z"
   },
   {
    "duration": 23,
    "start_time": "2022-04-03T16:26:22.769Z"
   },
   {
    "duration": 47,
    "start_time": "2022-04-03T16:28:11.359Z"
   },
   {
    "duration": 20,
    "start_time": "2022-04-03T16:28:27.575Z"
   },
   {
    "duration": 18,
    "start_time": "2022-04-03T16:28:34.022Z"
   },
   {
    "duration": 266,
    "start_time": "2022-04-03T16:31:17.944Z"
   },
   {
    "duration": 165,
    "start_time": "2022-04-03T16:32:03.758Z"
   },
   {
    "duration": 16,
    "start_time": "2022-04-03T16:33:07.867Z"
   },
   {
    "duration": 17,
    "start_time": "2022-04-03T16:33:15.880Z"
   },
   {
    "duration": 14,
    "start_time": "2022-04-03T16:33:21.327Z"
   },
   {
    "duration": 14,
    "start_time": "2022-04-03T16:34:27.935Z"
   },
   {
    "duration": 23,
    "start_time": "2022-04-03T16:41:53.823Z"
   },
   {
    "duration": 23,
    "start_time": "2022-04-03T16:42:22.815Z"
   },
   {
    "duration": 18,
    "start_time": "2022-04-03T16:42:49.067Z"
   },
   {
    "duration": 136,
    "start_time": "2022-04-03T16:44:35.769Z"
   },
   {
    "duration": 10,
    "start_time": "2022-04-03T16:51:31.089Z"
   },
   {
    "duration": 10,
    "start_time": "2022-04-03T16:51:43.626Z"
   },
   {
    "duration": 9,
    "start_time": "2022-04-03T16:51:47.591Z"
   },
   {
    "duration": 9,
    "start_time": "2022-04-03T16:52:59.159Z"
   },
   {
    "duration": 7,
    "start_time": "2022-04-03T16:54:05.289Z"
   },
   {
    "duration": 241,
    "start_time": "2022-04-03T16:57:19.649Z"
   },
   {
    "duration": 246,
    "start_time": "2022-04-03T17:00:37.078Z"
   },
   {
    "duration": 292,
    "start_time": "2022-04-03T17:00:45.009Z"
   },
   {
    "duration": 29,
    "start_time": "2022-04-03T17:41:42.695Z"
   },
   {
    "duration": 226,
    "start_time": "2022-04-03T17:42:02.227Z"
   },
   {
    "duration": 15,
    "start_time": "2022-04-03T17:47:21.177Z"
   },
   {
    "duration": 17,
    "start_time": "2022-04-03T17:48:14.392Z"
   },
   {
    "duration": 9,
    "start_time": "2022-04-03T17:48:21.531Z"
   },
   {
    "duration": 239,
    "start_time": "2022-04-03T17:48:32.355Z"
   },
   {
    "duration": 257,
    "start_time": "2022-04-03T17:48:43.905Z"
   },
   {
    "duration": 17,
    "start_time": "2022-04-03T17:49:19.787Z"
   },
   {
    "duration": 8,
    "start_time": "2022-04-03T17:49:22.986Z"
   },
   {
    "duration": 16,
    "start_time": "2022-04-03T17:49:36.845Z"
   },
   {
    "duration": 8,
    "start_time": "2022-04-03T17:49:39.977Z"
   },
   {
    "duration": 247,
    "start_time": "2022-04-03T17:49:56.347Z"
   },
   {
    "duration": 239,
    "start_time": "2022-04-03T17:50:56.043Z"
   },
   {
    "duration": 15,
    "start_time": "2022-04-03T17:51:00.540Z"
   },
   {
    "duration": 14,
    "start_time": "2022-04-03T17:51:18.174Z"
   },
   {
    "duration": 14,
    "start_time": "2022-04-03T17:51:22.404Z"
   },
   {
    "duration": 15,
    "start_time": "2022-04-03T17:55:52.686Z"
   },
   {
    "duration": 16,
    "start_time": "2022-04-03T17:57:57.074Z"
   },
   {
    "duration": 17,
    "start_time": "2022-04-03T17:58:09.420Z"
   },
   {
    "duration": 14,
    "start_time": "2022-04-03T17:58:24.349Z"
   },
   {
    "duration": 21,
    "start_time": "2022-04-03T17:58:32.147Z"
   },
   {
    "duration": 22,
    "start_time": "2022-04-03T17:59:25.586Z"
   },
   {
    "duration": 270,
    "start_time": "2022-04-03T18:02:19.744Z"
   },
   {
    "duration": 235,
    "start_time": "2022-04-03T18:02:30.967Z"
   },
   {
    "duration": 251,
    "start_time": "2022-04-03T18:02:37.504Z"
   },
   {
    "duration": 105,
    "start_time": "2022-04-03T18:19:01.230Z"
   },
   {
    "duration": 92,
    "start_time": "2022-04-03T18:19:05.860Z"
   },
   {
    "duration": 191,
    "start_time": "2022-04-03T18:19:15.347Z"
   },
   {
    "duration": 110,
    "start_time": "2022-04-03T18:20:01.341Z"
   },
   {
    "duration": 107,
    "start_time": "2022-04-03T18:20:13.895Z"
   },
   {
    "duration": 9,
    "start_time": "2022-04-03T18:26:06.737Z"
   },
   {
    "duration": 9,
    "start_time": "2022-04-03T18:27:01.863Z"
   },
   {
    "duration": 8,
    "start_time": "2022-04-03T18:27:19.431Z"
   },
   {
    "duration": 100,
    "start_time": "2022-04-03T18:27:29.345Z"
   },
   {
    "duration": 86,
    "start_time": "2022-04-03T18:27:34.057Z"
   },
   {
    "duration": 102,
    "start_time": "2022-04-03T18:27:39.979Z"
   },
   {
    "duration": 103,
    "start_time": "2022-04-03T18:27:45.403Z"
   },
   {
    "duration": 146,
    "start_time": "2022-04-03T18:28:08.889Z"
   },
   {
    "duration": 3,
    "start_time": "2022-04-03T18:28:20.423Z"
   },
   {
    "duration": 102,
    "start_time": "2022-04-03T18:29:01.311Z"
   },
   {
    "duration": 100,
    "start_time": "2022-04-03T18:29:43.767Z"
   },
   {
    "duration": 103,
    "start_time": "2022-04-03T18:30:33.576Z"
   },
   {
    "duration": 3,
    "start_time": "2022-04-03T18:32:28.977Z"
   },
   {
    "duration": 100,
    "start_time": "2022-04-03T18:32:45.195Z"
   },
   {
    "duration": 114,
    "start_time": "2022-04-03T18:33:05.041Z"
   },
   {
    "duration": 4,
    "start_time": "2022-04-03T18:36:58.971Z"
   },
   {
    "duration": 119,
    "start_time": "2022-04-03T18:36:59.729Z"
   },
   {
    "duration": 3,
    "start_time": "2022-04-03T18:37:08.250Z"
   },
   {
    "duration": 113,
    "start_time": "2022-04-03T18:37:09.191Z"
   },
   {
    "duration": 103,
    "start_time": "2022-04-03T18:37:28.960Z"
   },
   {
    "duration": 3,
    "start_time": "2022-04-03T18:54:47.973Z"
   },
   {
    "duration": 4,
    "start_time": "2022-04-03T18:55:17.074Z"
   },
   {
    "duration": 140,
    "start_time": "2022-04-03T18:56:33.615Z"
   },
   {
    "duration": 3,
    "start_time": "2022-04-03T18:56:46.173Z"
   },
   {
    "duration": 147,
    "start_time": "2022-04-03T18:56:46.733Z"
   },
   {
    "duration": 3,
    "start_time": "2022-04-03T18:56:54.354Z"
   },
   {
    "duration": 244,
    "start_time": "2022-04-03T18:56:54.971Z"
   },
   {
    "duration": 387,
    "start_time": "2022-04-03T18:57:31.228Z"
   },
   {
    "duration": 7,
    "start_time": "2022-04-03T19:01:21.658Z"
   },
   {
    "duration": 4,
    "start_time": "2022-04-03T21:14:29.287Z"
   },
   {
    "duration": 155,
    "start_time": "2022-04-03T21:14:30.823Z"
   },
   {
    "duration": 431,
    "start_time": "2022-04-03T21:14:47.230Z"
   },
   {
    "duration": 8,
    "start_time": "2022-04-03T21:15:57.917Z"
   },
   {
    "duration": 8,
    "start_time": "2022-04-03T21:22:25.782Z"
   },
   {
    "duration": 8,
    "start_time": "2022-04-03T21:22:53.526Z"
   },
   {
    "duration": 3,
    "start_time": "2022-04-03T21:23:06.235Z"
   },
   {
    "duration": 147,
    "start_time": "2022-04-03T21:23:06.814Z"
   },
   {
    "duration": 427,
    "start_time": "2022-04-03T21:23:39.829Z"
   },
   {
    "duration": 150,
    "start_time": "2022-04-03T21:23:58.279Z"
   },
   {
    "duration": 576,
    "start_time": "2022-04-03T21:24:17.528Z"
   },
   {
    "duration": 145,
    "start_time": "2022-04-03T21:26:40.765Z"
   },
   {
    "duration": 420,
    "start_time": "2022-04-03T21:27:09.984Z"
   },
   {
    "duration": 143,
    "start_time": "2022-04-03T21:28:13.232Z"
   },
   {
    "duration": 150,
    "start_time": "2022-04-03T21:31:40.431Z"
   },
   {
    "duration": 150,
    "start_time": "2022-04-03T21:32:20.543Z"
   },
   {
    "duration": 6,
    "start_time": "2022-04-03T21:41:50.672Z"
   },
   {
    "duration": 6,
    "start_time": "2022-04-03T21:41:58.228Z"
   },
   {
    "duration": 3,
    "start_time": "2022-04-03T21:43:44.853Z"
   },
   {
    "duration": 126,
    "start_time": "2022-04-03T21:44:43.977Z"
   },
   {
    "duration": 138,
    "start_time": "2022-04-03T21:44:51.254Z"
   },
   {
    "duration": 143,
    "start_time": "2022-04-03T21:45:29.101Z"
   },
   {
    "duration": 4,
    "start_time": "2022-04-03T21:45:31.662Z"
   },
   {
    "duration": 158,
    "start_time": "2022-04-03T21:45:32.461Z"
   },
   {
    "duration": 383,
    "start_time": "2022-04-03T21:46:01.270Z"
   },
   {
    "duration": 203,
    "start_time": "2022-04-03T21:46:21.744Z"
   },
   {
    "duration": 192,
    "start_time": "2022-04-03T21:46:28.794Z"
   },
   {
    "duration": 177,
    "start_time": "2022-04-03T21:46:32.247Z"
   },
   {
    "duration": 199,
    "start_time": "2022-04-03T21:46:36.760Z"
   },
   {
    "duration": 194,
    "start_time": "2022-04-03T21:46:41.872Z"
   },
   {
    "duration": 192,
    "start_time": "2022-04-03T21:46:46.759Z"
   },
   {
    "duration": 203,
    "start_time": "2022-04-03T21:46:53.736Z"
   },
   {
    "duration": 200,
    "start_time": "2022-04-03T21:47:02.607Z"
   },
   {
    "duration": 385,
    "start_time": "2022-04-03T21:47:08.862Z"
   },
   {
    "duration": 176,
    "start_time": "2022-04-03T21:47:13.582Z"
   },
   {
    "duration": 148,
    "start_time": "2022-04-03T21:47:20.511Z"
   },
   {
    "duration": 183,
    "start_time": "2022-04-03T21:47:44.806Z"
   },
   {
    "duration": 170,
    "start_time": "2022-04-03T21:47:54.270Z"
   },
   {
    "duration": 12,
    "start_time": "2022-04-03T21:50:10.303Z"
   },
   {
    "duration": 124,
    "start_time": "2022-04-03T21:50:26.974Z"
   },
   {
    "duration": 176,
    "start_time": "2022-04-03T21:53:24.601Z"
   },
   {
    "duration": 150,
    "start_time": "2022-04-03T21:55:11.584Z"
   },
   {
    "duration": 151,
    "start_time": "2022-04-03T21:56:47.286Z"
   },
   {
    "duration": 149,
    "start_time": "2022-04-03T21:56:57.958Z"
   },
   {
    "duration": 146,
    "start_time": "2022-04-03T21:57:02.471Z"
   },
   {
    "duration": 148,
    "start_time": "2022-04-03T21:57:08.671Z"
   },
   {
    "duration": 147,
    "start_time": "2022-04-03T21:59:18.231Z"
   },
   {
    "duration": 146,
    "start_time": "2022-04-03T22:00:37.975Z"
   },
   {
    "duration": 152,
    "start_time": "2022-04-03T22:00:42.782Z"
   },
   {
    "duration": 1666,
    "start_time": "2022-04-03T22:03:15.135Z"
   },
   {
    "duration": 94,
    "start_time": "2022-04-03T22:04:54.119Z"
   },
   {
    "duration": 150,
    "start_time": "2022-04-03T22:09:20.958Z"
   },
   {
    "duration": 78,
    "start_time": "2022-04-03T22:09:49.710Z"
   },
   {
    "duration": 80,
    "start_time": "2022-04-03T22:10:03.398Z"
   },
   {
    "duration": 144,
    "start_time": "2022-04-03T22:12:44.822Z"
   },
   {
    "duration": 148,
    "start_time": "2022-04-03T22:12:49.531Z"
   },
   {
    "duration": 146,
    "start_time": "2022-04-03T22:13:52.350Z"
   },
   {
    "duration": 138,
    "start_time": "2022-04-03T22:14:35.360Z"
   },
   {
    "duration": 10,
    "start_time": "2022-04-03T22:19:19.978Z"
   },
   {
    "duration": 17,
    "start_time": "2022-04-03T22:21:59.957Z"
   },
   {
    "duration": 18,
    "start_time": "2022-04-03T22:22:16.319Z"
   },
   {
    "duration": 18,
    "start_time": "2022-04-03T22:22:53.552Z"
   },
   {
    "duration": 19,
    "start_time": "2022-04-03T22:23:25.376Z"
   },
   {
    "duration": 407,
    "start_time": "2022-04-03T22:24:00.530Z"
   },
   {
    "duration": 10,
    "start_time": "2022-04-03T22:25:07.779Z"
   },
   {
    "duration": 11,
    "start_time": "2022-04-03T22:26:24.213Z"
   },
   {
    "duration": 12,
    "start_time": "2022-04-03T22:53:40.255Z"
   },
   {
    "duration": 4,
    "start_time": "2022-04-03T22:56:09.182Z"
   },
   {
    "duration": 19,
    "start_time": "2022-04-03T22:57:29.272Z"
   },
   {
    "duration": 5,
    "start_time": "2022-04-03T22:58:06.054Z"
   },
   {
    "duration": 355,
    "start_time": "2022-04-03T22:58:07.106Z"
   },
   {
    "duration": 8,
    "start_time": "2022-04-03T22:58:35.342Z"
   },
   {
    "duration": 325,
    "start_time": "2022-04-03T22:58:40.770Z"
   },
   {
    "duration": 7,
    "start_time": "2022-04-03T23:00:26.894Z"
   },
   {
    "duration": 4,
    "start_time": "2022-04-03T23:00:42.350Z"
   },
   {
    "duration": 142,
    "start_time": "2022-04-03T23:00:45.667Z"
   },
   {
    "duration": 5,
    "start_time": "2022-04-03T23:01:09.045Z"
   },
   {
    "duration": 829,
    "start_time": "2022-04-03T23:01:09.906Z"
   },
   {
    "duration": 8,
    "start_time": "2022-04-03T23:06:44.656Z"
   },
   {
    "duration": 15,
    "start_time": "2022-04-03T23:08:47.638Z"
   },
   {
    "duration": 91,
    "start_time": "2022-04-03T23:14:51.349Z"
   },
   {
    "duration": 75,
    "start_time": "2022-04-03T23:16:08.686Z"
   },
   {
    "duration": 82,
    "start_time": "2022-04-03T23:16:25.101Z"
   },
   {
    "duration": 85,
    "start_time": "2022-04-03T23:16:38.559Z"
   },
   {
    "duration": 93,
    "start_time": "2022-04-03T23:16:54.654Z"
   },
   {
    "duration": 3,
    "start_time": "2022-04-03T23:17:09.847Z"
   },
   {
    "duration": 4,
    "start_time": "2022-04-03T23:18:35.229Z"
   },
   {
    "duration": 98,
    "start_time": "2022-04-03T23:19:00.365Z"
   },
   {
    "duration": 5,
    "start_time": "2022-04-03T23:26:49.703Z"
   },
   {
    "duration": 4,
    "start_time": "2022-04-03T23:27:07.999Z"
   },
   {
    "duration": 146,
    "start_time": "2022-04-03T23:27:10.396Z"
   },
   {
    "duration": 8,
    "start_time": "2022-04-03T23:27:59.328Z"
   },
   {
    "duration": 145,
    "start_time": "2022-04-03T23:28:06.598Z"
   },
   {
    "duration": 5,
    "start_time": "2022-04-03T23:28:39.629Z"
   },
   {
    "duration": 142,
    "start_time": "2022-04-03T23:28:44.311Z"
   },
   {
    "duration": 6,
    "start_time": "2022-04-03T23:29:07.887Z"
   },
   {
    "duration": 743,
    "start_time": "2022-04-03T23:29:08.694Z"
   },
   {
    "duration": 4,
    "start_time": "2022-04-03T23:30:10.390Z"
   },
   {
    "duration": 718,
    "start_time": "2022-04-03T23:30:12.207Z"
   },
   {
    "duration": 5,
    "start_time": "2022-04-03T23:37:02.815Z"
   },
   {
    "duration": 698,
    "start_time": "2022-04-03T23:37:06.000Z"
   },
   {
    "duration": 5,
    "start_time": "2022-04-03T23:38:02.902Z"
   },
   {
    "duration": 648,
    "start_time": "2022-04-03T23:38:04.728Z"
   },
   {
    "duration": 5,
    "start_time": "2022-04-03T23:41:11.142Z"
   },
   {
    "duration": 634,
    "start_time": "2022-04-03T23:41:11.807Z"
   },
   {
    "duration": 4,
    "start_time": "2022-04-03T23:41:21.142Z"
   },
   {
    "duration": 663,
    "start_time": "2022-04-03T23:41:42.296Z"
   },
   {
    "duration": 5,
    "start_time": "2022-04-03T23:43:19.191Z"
   },
   {
    "duration": 936,
    "start_time": "2022-04-03T23:43:22.072Z"
   },
   {
    "duration": 668,
    "start_time": "2022-04-03T23:43:32.983Z"
   },
   {
    "duration": 615,
    "start_time": "2022-04-03T23:44:24.023Z"
   },
   {
    "duration": 109,
    "start_time": "2022-04-04T00:01:23.872Z"
   },
   {
    "duration": 94,
    "start_time": "2022-04-04T00:02:43.225Z"
   },
   {
    "duration": 110,
    "start_time": "2022-04-04T00:02:53.335Z"
   },
   {
    "duration": 4,
    "start_time": "2022-04-04T00:03:17.983Z"
   },
   {
    "duration": 101,
    "start_time": "2022-04-04T00:03:33.543Z"
   },
   {
    "duration": 104,
    "start_time": "2022-04-04T00:04:11.978Z"
   },
   {
    "duration": 1146,
    "start_time": "2022-04-04T00:06:17.589Z"
   },
   {
    "duration": 54,
    "start_time": "2022-04-04T00:06:18.737Z"
   },
   {
    "duration": 16,
    "start_time": "2022-04-04T00:06:18.793Z"
   },
   {
    "duration": 5,
    "start_time": "2022-04-04T00:06:18.811Z"
   },
   {
    "duration": 22,
    "start_time": "2022-04-04T00:06:18.817Z"
   },
   {
    "duration": 11,
    "start_time": "2022-04-04T00:06:18.841Z"
   },
   {
    "duration": 4,
    "start_time": "2022-04-04T00:06:18.853Z"
   },
   {
    "duration": 17,
    "start_time": "2022-04-04T00:06:18.859Z"
   },
   {
    "duration": 18,
    "start_time": "2022-04-04T00:06:18.878Z"
   },
   {
    "duration": 7,
    "start_time": "2022-04-04T00:06:18.936Z"
   },
   {
    "duration": 8,
    "start_time": "2022-04-04T00:06:18.945Z"
   },
   {
    "duration": 6,
    "start_time": "2022-04-04T00:06:18.955Z"
   },
   {
    "duration": 8,
    "start_time": "2022-04-04T00:06:18.963Z"
   },
   {
    "duration": 5,
    "start_time": "2022-04-04T00:06:18.973Z"
   },
   {
    "duration": 8,
    "start_time": "2022-04-04T00:06:18.979Z"
   },
   {
    "duration": 51,
    "start_time": "2022-04-04T00:06:18.989Z"
   },
   {
    "duration": 13,
    "start_time": "2022-04-04T00:06:19.042Z"
   },
   {
    "duration": 15,
    "start_time": "2022-04-04T00:06:19.057Z"
   },
   {
    "duration": 2,
    "start_time": "2022-04-04T00:06:19.074Z"
   },
   {
    "duration": 195,
    "start_time": "2022-04-04T00:06:19.078Z"
   },
   {
    "duration": 19,
    "start_time": "2022-04-04T00:06:19.275Z"
   },
   {
    "duration": 8,
    "start_time": "2022-04-04T00:06:19.296Z"
   },
   {
    "duration": 288,
    "start_time": "2022-04-04T00:06:19.305Z"
   },
   {
    "duration": 15,
    "start_time": "2022-04-04T00:06:19.596Z"
   },
   {
    "duration": 26,
    "start_time": "2022-04-04T00:06:19.613Z"
   },
   {
    "duration": 244,
    "start_time": "2022-04-04T00:06:19.641Z"
   },
   {
    "duration": 3,
    "start_time": "2022-04-04T00:06:19.887Z"
   },
   {
    "duration": 118,
    "start_time": "2022-04-04T00:06:19.893Z"
   },
   {
    "duration": 128,
    "start_time": "2022-04-04T00:06:20.013Z"
   },
   {
    "duration": 4,
    "start_time": "2022-04-04T00:06:20.142Z"
   },
   {
    "duration": 167,
    "start_time": "2022-04-04T00:06:20.147Z"
   },
   {
    "duration": 615,
    "start_time": "2022-04-04T00:06:20.315Z"
   },
   {
    "duration": 0,
    "start_time": "2022-04-04T00:06:20.931Z"
   },
   {
    "duration": 0,
    "start_time": "2022-04-04T00:06:20.933Z"
   },
   {
    "duration": 0,
    "start_time": "2022-04-04T00:06:20.934Z"
   },
   {
    "duration": 0,
    "start_time": "2022-04-04T00:06:20.935Z"
   },
   {
    "duration": 0,
    "start_time": "2022-04-04T00:06:20.936Z"
   },
   {
    "duration": 0,
    "start_time": "2022-04-04T00:06:20.937Z"
   },
   {
    "duration": 0,
    "start_time": "2022-04-04T00:06:20.938Z"
   },
   {
    "duration": 0,
    "start_time": "2022-04-04T00:06:20.939Z"
   },
   {
    "duration": 0,
    "start_time": "2022-04-04T00:06:20.940Z"
   },
   {
    "duration": 0,
    "start_time": "2022-04-04T00:06:20.940Z"
   },
   {
    "duration": 0,
    "start_time": "2022-04-04T00:06:20.942Z"
   },
   {
    "duration": 0,
    "start_time": "2022-04-04T00:06:20.943Z"
   },
   {
    "duration": 151,
    "start_time": "2022-04-04T00:07:06.087Z"
   },
   {
    "duration": 514,
    "start_time": "2022-04-04T00:07:08.328Z"
   },
   {
    "duration": 148,
    "start_time": "2022-04-04T00:07:12.992Z"
   },
   {
    "duration": 10,
    "start_time": "2022-04-04T00:07:14.768Z"
   },
   {
    "duration": 136,
    "start_time": "2022-04-04T00:07:16.584Z"
   },
   {
    "duration": 10,
    "start_time": "2022-04-04T00:07:18.192Z"
   },
   {
    "duration": 4,
    "start_time": "2022-04-04T00:07:37.378Z"
   },
   {
    "duration": 618,
    "start_time": "2022-04-04T00:07:38.120Z"
   },
   {
    "duration": 660,
    "start_time": "2022-04-04T00:07:41.298Z"
   },
   {
    "duration": 662,
    "start_time": "2022-04-04T00:07:44.250Z"
   },
   {
    "duration": 4,
    "start_time": "2022-04-04T00:07:47.240Z"
   },
   {
    "duration": 101,
    "start_time": "2022-04-04T00:07:49.440Z"
   },
   {
    "duration": 2,
    "start_time": "2022-04-04T00:08:22.445Z"
   },
   {
    "duration": 16,
    "start_time": "2022-04-04T00:08:38.867Z"
   },
   {
    "duration": 7,
    "start_time": "2022-04-04T00:08:54.804Z"
   },
   {
    "duration": 11,
    "start_time": "2022-04-04T00:09:13.114Z"
   },
   {
    "duration": 7,
    "start_time": "2022-04-04T00:12:02.098Z"
   },
   {
    "duration": 100,
    "start_time": "2022-04-04T00:18:25.745Z"
   },
   {
    "duration": 65,
    "start_time": "2022-04-04T14:40:23.919Z"
   },
   {
    "duration": 1722,
    "start_time": "2022-04-04T14:40:30.465Z"
   },
   {
    "duration": 75,
    "start_time": "2022-04-04T14:40:32.190Z"
   },
   {
    "duration": 30,
    "start_time": "2022-04-04T14:40:32.267Z"
   },
   {
    "duration": 7,
    "start_time": "2022-04-04T14:40:32.300Z"
   },
   {
    "duration": 13,
    "start_time": "2022-04-04T14:40:32.309Z"
   },
   {
    "duration": 15,
    "start_time": "2022-04-04T14:40:32.324Z"
   },
   {
    "duration": 41,
    "start_time": "2022-04-04T14:40:32.341Z"
   },
   {
    "duration": 19,
    "start_time": "2022-04-04T14:40:32.384Z"
   },
   {
    "duration": 23,
    "start_time": "2022-04-04T14:40:32.405Z"
   },
   {
    "duration": 10,
    "start_time": "2022-04-04T14:40:32.432Z"
   },
   {
    "duration": 39,
    "start_time": "2022-04-04T14:40:32.444Z"
   },
   {
    "duration": 7,
    "start_time": "2022-04-04T14:40:32.486Z"
   },
   {
    "duration": 13,
    "start_time": "2022-04-04T14:40:32.495Z"
   },
   {
    "duration": 11,
    "start_time": "2022-04-04T14:40:32.511Z"
   },
   {
    "duration": 17,
    "start_time": "2022-04-04T14:40:32.524Z"
   },
   {
    "duration": 51,
    "start_time": "2022-04-04T14:40:32.543Z"
   },
   {
    "duration": 21,
    "start_time": "2022-04-04T14:40:32.596Z"
   },
   {
    "duration": 22,
    "start_time": "2022-04-04T14:40:32.619Z"
   },
   {
    "duration": 7,
    "start_time": "2022-04-04T14:40:32.643Z"
   },
   {
    "duration": 288,
    "start_time": "2022-04-04T14:40:32.682Z"
   },
   {
    "duration": 27,
    "start_time": "2022-04-04T14:40:32.972Z"
   },
   {
    "duration": 11,
    "start_time": "2022-04-04T14:40:33.001Z"
   },
   {
    "duration": 489,
    "start_time": "2022-04-04T14:40:33.014Z"
   },
   {
    "duration": 22,
    "start_time": "2022-04-04T14:40:33.505Z"
   },
   {
    "duration": 30,
    "start_time": "2022-04-04T14:40:33.530Z"
   },
   {
    "duration": 407,
    "start_time": "2022-04-04T14:40:33.563Z"
   },
   {
    "duration": 11,
    "start_time": "2022-04-04T14:40:33.972Z"
   },
   {
    "duration": 186,
    "start_time": "2022-04-04T14:40:33.992Z"
   },
   {
    "duration": 196,
    "start_time": "2022-04-04T14:40:34.181Z"
   },
   {
    "duration": 5,
    "start_time": "2022-04-04T14:40:34.382Z"
   },
   {
    "duration": 277,
    "start_time": "2022-04-04T14:40:34.390Z"
   },
   {
    "duration": 283,
    "start_time": "2022-04-04T14:40:34.670Z"
   },
   {
    "duration": 281,
    "start_time": "2022-04-04T14:40:34.957Z"
   },
   {
    "duration": 357,
    "start_time": "2022-04-04T14:40:35.241Z"
   },
   {
    "duration": 284,
    "start_time": "2022-04-04T14:40:35.601Z"
   },
   {
    "duration": 15,
    "start_time": "2022-04-04T14:40:35.887Z"
   },
   {
    "duration": 258,
    "start_time": "2022-04-04T14:40:35.905Z"
   },
   {
    "duration": 29,
    "start_time": "2022-04-04T14:40:36.166Z"
   },
   {
    "duration": 6,
    "start_time": "2022-04-04T14:40:36.197Z"
   },
   {
    "duration": 1052,
    "start_time": "2022-04-04T14:40:36.206Z"
   },
   {
    "duration": 1123,
    "start_time": "2022-04-04T14:40:37.261Z"
   },
   {
    "duration": 1042,
    "start_time": "2022-04-04T14:40:38.387Z"
   },
   {
    "duration": 17,
    "start_time": "2022-04-04T14:40:39.432Z"
   },
   {
    "duration": 9,
    "start_time": "2022-04-04T14:40:39.451Z"
   },
   {
    "duration": 6,
    "start_time": "2022-04-04T14:40:39.481Z"
   },
   {
    "duration": 15,
    "start_time": "2022-04-04T14:40:39.489Z"
   },
   {
    "duration": 16,
    "start_time": "2022-04-04T14:40:39.506Z"
   },
   {
    "duration": 27,
    "start_time": "2022-04-04T14:41:37.041Z"
   },
   {
    "duration": 12,
    "start_time": "2022-04-04T14:41:40.887Z"
   },
   {
    "duration": 27,
    "start_time": "2022-04-04T14:41:55.921Z"
   },
   {
    "duration": 13,
    "start_time": "2022-04-04T14:41:59.565Z"
   },
   {
    "duration": 515,
    "start_time": "2022-04-04T14:42:03.712Z"
   },
   {
    "duration": 24,
    "start_time": "2022-04-04T14:42:28.191Z"
   },
   {
    "duration": 34,
    "start_time": "2022-04-04T14:42:57.784Z"
   },
   {
    "duration": 486,
    "start_time": "2022-04-04T14:43:06.608Z"
   },
   {
    "duration": 4,
    "start_time": "2022-04-04T14:43:29.321Z"
   },
   {
    "duration": 179,
    "start_time": "2022-04-04T14:43:33.384Z"
   },
   {
    "duration": 294,
    "start_time": "2022-04-04T14:43:45.280Z"
   },
   {
    "duration": 5,
    "start_time": "2022-04-04T14:44:05.568Z"
   },
   {
    "duration": 260,
    "start_time": "2022-04-04T14:44:08.511Z"
   },
   {
    "duration": 254,
    "start_time": "2022-04-04T14:44:12.488Z"
   },
   {
    "duration": 6,
    "start_time": "2022-04-04T14:49:53.762Z"
   },
   {
    "duration": 136,
    "start_time": "2022-04-04T14:50:23.801Z"
   },
   {
    "duration": 132,
    "start_time": "2022-04-04T14:54:20.343Z"
   },
   {
    "duration": 5,
    "start_time": "2022-04-04T14:55:16.559Z"
   },
   {
    "duration": 258,
    "start_time": "2022-04-04T14:55:34.575Z"
   },
   {
    "duration": 247,
    "start_time": "2022-04-04T14:55:50.518Z"
   },
   {
    "duration": 254,
    "start_time": "2022-04-04T14:55:54.407Z"
   },
   {
    "duration": 252,
    "start_time": "2022-04-04T14:55:56.792Z"
   },
   {
    "duration": 269,
    "start_time": "2022-04-04T14:56:02.752Z"
   },
   {
    "duration": 15,
    "start_time": "2022-04-04T14:56:07.167Z"
   },
   {
    "duration": 15,
    "start_time": "2022-04-04T14:56:42.560Z"
   },
   {
    "duration": 274,
    "start_time": "2022-04-04T14:56:45.055Z"
   },
   {
    "duration": 8,
    "start_time": "2022-04-04T14:57:02.831Z"
   },
   {
    "duration": 1098,
    "start_time": "2022-04-04T14:57:05.495Z"
   },
   {
    "duration": 999,
    "start_time": "2022-04-04T14:57:12.175Z"
   },
   {
    "duration": 984,
    "start_time": "2022-04-04T14:57:16.703Z"
   },
   {
    "duration": 7,
    "start_time": "2022-04-04T14:57:34.415Z"
   },
   {
    "duration": 16,
    "start_time": "2022-04-04T14:57:38.263Z"
   },
   {
    "duration": 17,
    "start_time": "2022-04-04T14:58:04.065Z"
   },
   {
    "duration": 11,
    "start_time": "2022-04-04T14:58:07.247Z"
   },
   {
    "duration": 21,
    "start_time": "2022-04-04T15:06:45.912Z"
   },
   {
    "duration": 10,
    "start_time": "2022-04-04T15:07:21.080Z"
   },
   {
    "duration": 7,
    "start_time": "2022-04-04T15:07:55.831Z"
   },
   {
    "duration": 14,
    "start_time": "2022-04-04T15:08:09.328Z"
   },
   {
    "duration": 3,
    "start_time": "2022-04-04T15:08:30.806Z"
   },
   {
    "duration": 12,
    "start_time": "2022-04-04T15:08:33.777Z"
   },
   {
    "duration": 10,
    "start_time": "2022-04-04T15:14:12.367Z"
   },
   {
    "duration": 424,
    "start_time": "2022-04-04T15:14:43.008Z"
   },
   {
    "duration": 24,
    "start_time": "2022-04-04T15:14:59.526Z"
   },
   {
    "duration": 33,
    "start_time": "2022-04-04T15:15:28.807Z"
   },
   {
    "duration": 391,
    "start_time": "2022-04-04T15:15:52.092Z"
   },
   {
    "duration": 4,
    "start_time": "2022-04-04T15:16:08.639Z"
   },
   {
    "duration": 171,
    "start_time": "2022-04-04T15:16:11.655Z"
   },
   {
    "duration": 178,
    "start_time": "2022-04-04T15:16:14.161Z"
   },
   {
    "duration": 245,
    "start_time": "2022-04-04T15:27:17.442Z"
   },
   {
    "duration": 375,
    "start_time": "2022-04-04T15:28:06.466Z"
   },
   {
    "duration": 7,
    "start_time": "2022-04-04T15:40:21.424Z"
   },
   {
    "duration": 408,
    "start_time": "2022-04-04T15:40:28.619Z"
   },
   {
    "duration": 7,
    "start_time": "2022-04-04T15:40:39.202Z"
   },
   {
    "duration": 1024,
    "start_time": "2022-04-04T15:40:42.266Z"
   },
   {
    "duration": 7,
    "start_time": "2022-04-04T15:41:11.873Z"
   },
   {
    "duration": 996,
    "start_time": "2022-04-04T15:41:14.649Z"
   },
   {
    "duration": 1405,
    "start_time": "2022-04-04T16:33:49.360Z"
   },
   {
    "duration": 71,
    "start_time": "2022-04-04T16:33:50.768Z"
   },
   {
    "duration": 22,
    "start_time": "2022-04-04T16:33:50.842Z"
   },
   {
    "duration": 6,
    "start_time": "2022-04-04T16:33:50.881Z"
   },
   {
    "duration": 13,
    "start_time": "2022-04-04T16:33:50.889Z"
   },
   {
    "duration": 13,
    "start_time": "2022-04-04T16:33:50.905Z"
   },
   {
    "duration": 5,
    "start_time": "2022-04-04T16:33:50.920Z"
   },
   {
    "duration": 65,
    "start_time": "2022-04-04T16:33:50.928Z"
   },
   {
    "duration": 22,
    "start_time": "2022-04-04T16:33:50.995Z"
   },
   {
    "duration": 9,
    "start_time": "2022-04-04T16:33:51.021Z"
   },
   {
    "duration": 12,
    "start_time": "2022-04-04T16:33:51.032Z"
   },
   {
    "duration": 37,
    "start_time": "2022-04-04T16:33:51.046Z"
   },
   {
    "duration": 12,
    "start_time": "2022-04-04T16:33:51.085Z"
   },
   {
    "duration": 11,
    "start_time": "2022-04-04T16:33:51.099Z"
   },
   {
    "duration": 11,
    "start_time": "2022-04-04T16:33:51.112Z"
   },
   {
    "duration": 23,
    "start_time": "2022-04-04T16:33:51.125Z"
   },
   {
    "duration": 19,
    "start_time": "2022-04-04T16:33:51.183Z"
   },
   {
    "duration": 22,
    "start_time": "2022-04-04T16:33:51.204Z"
   },
   {
    "duration": 5,
    "start_time": "2022-04-04T16:33:51.228Z"
   },
   {
    "duration": 318,
    "start_time": "2022-04-04T16:33:51.236Z"
   },
   {
    "duration": 34,
    "start_time": "2022-04-04T16:33:51.556Z"
   },
   {
    "duration": 10,
    "start_time": "2022-04-04T16:33:51.592Z"
   },
   {
    "duration": 451,
    "start_time": "2022-04-04T16:33:51.604Z"
   },
   {
    "duration": 28,
    "start_time": "2022-04-04T16:33:52.057Z"
   },
   {
    "duration": 34,
    "start_time": "2022-04-04T16:33:52.087Z"
   },
   {
    "duration": 416,
    "start_time": "2022-04-04T16:33:52.123Z"
   },
   {
    "duration": 5,
    "start_time": "2022-04-04T16:33:52.541Z"
   },
   {
    "duration": 188,
    "start_time": "2022-04-04T16:33:52.552Z"
   },
   {
    "duration": 200,
    "start_time": "2022-04-04T16:33:52.743Z"
   },
   {
    "duration": 4,
    "start_time": "2022-04-04T16:33:52.945Z"
   },
   {
    "duration": 291,
    "start_time": "2022-04-04T16:33:52.952Z"
   },
   {
    "duration": 276,
    "start_time": "2022-04-04T16:33:53.245Z"
   },
   {
    "duration": 268,
    "start_time": "2022-04-04T16:33:53.524Z"
   },
   {
    "duration": 332,
    "start_time": "2022-04-04T16:33:53.794Z"
   },
   {
    "duration": 259,
    "start_time": "2022-04-04T16:33:54.129Z"
   },
   {
    "duration": 251,
    "start_time": "2022-04-04T16:33:54.391Z"
   },
   {
    "duration": 270,
    "start_time": "2022-04-04T16:33:54.644Z"
   },
   {
    "duration": 14,
    "start_time": "2022-04-04T16:33:54.917Z"
   },
   {
    "duration": 265,
    "start_time": "2022-04-04T16:33:54.934Z"
   },
   {
    "duration": 16,
    "start_time": "2022-04-04T16:33:55.200Z"
   },
   {
    "duration": 6,
    "start_time": "2022-04-04T16:33:55.219Z"
   },
   {
    "duration": 1041,
    "start_time": "2022-04-04T16:33:55.228Z"
   },
   {
    "duration": 1098,
    "start_time": "2022-04-04T16:33:56.272Z"
   },
   {
    "duration": 1166,
    "start_time": "2022-04-04T16:33:57.372Z"
   },
   {
    "duration": 17,
    "start_time": "2022-04-04T16:33:58.541Z"
   },
   {
    "duration": 26,
    "start_time": "2022-04-04T16:33:58.561Z"
   },
   {
    "duration": 5,
    "start_time": "2022-04-04T16:33:58.589Z"
   },
   {
    "duration": 14,
    "start_time": "2022-04-04T16:33:58.596Z"
   },
   {
    "duration": 21,
    "start_time": "2022-04-04T16:33:58.612Z"
   },
   {
    "duration": 19,
    "start_time": "2022-04-04T16:34:28.180Z"
   },
   {
    "duration": 20,
    "start_time": "2022-04-04T16:34:49.412Z"
   },
   {
    "duration": 1815,
    "start_time": "2022-04-04T16:35:09.714Z"
   },
   {
    "duration": 76,
    "start_time": "2022-04-04T16:35:11.532Z"
   },
   {
    "duration": 26,
    "start_time": "2022-04-04T16:35:11.611Z"
   },
   {
    "duration": 7,
    "start_time": "2022-04-04T16:35:11.640Z"
   },
   {
    "duration": 38,
    "start_time": "2022-04-04T16:35:11.649Z"
   },
   {
    "duration": 14,
    "start_time": "2022-04-04T16:35:11.689Z"
   },
   {
    "duration": 5,
    "start_time": "2022-04-04T16:35:11.705Z"
   },
   {
    "duration": 14,
    "start_time": "2022-04-04T16:35:11.712Z"
   },
   {
    "duration": 63,
    "start_time": "2022-04-04T16:35:11.729Z"
   },
   {
    "duration": 9,
    "start_time": "2022-04-04T16:35:11.796Z"
   },
   {
    "duration": 8,
    "start_time": "2022-04-04T16:35:11.808Z"
   },
   {
    "duration": 9,
    "start_time": "2022-04-04T16:35:11.818Z"
   },
   {
    "duration": 12,
    "start_time": "2022-04-04T16:35:11.829Z"
   },
   {
    "duration": 52,
    "start_time": "2022-04-04T16:35:11.843Z"
   },
   {
    "duration": 7,
    "start_time": "2022-04-04T16:35:11.897Z"
   },
   {
    "duration": 10,
    "start_time": "2022-04-04T16:35:11.907Z"
   },
   {
    "duration": 62,
    "start_time": "2022-04-04T16:35:11.920Z"
   },
   {
    "duration": 24,
    "start_time": "2022-04-04T16:35:11.984Z"
   },
   {
    "duration": 23,
    "start_time": "2022-04-04T16:35:12.010Z"
   },
   {
    "duration": 13,
    "start_time": "2022-04-04T16:35:12.035Z"
   },
   {
    "duration": 325,
    "start_time": "2022-04-04T16:35:12.050Z"
   },
   {
    "duration": 27,
    "start_time": "2022-04-04T16:35:12.381Z"
   },
   {
    "duration": 11,
    "start_time": "2022-04-04T16:35:12.410Z"
   },
   {
    "duration": 524,
    "start_time": "2022-04-04T16:35:12.423Z"
   },
   {
    "duration": 31,
    "start_time": "2022-04-04T16:35:12.949Z"
   },
   {
    "duration": 33,
    "start_time": "2022-04-04T16:35:12.982Z"
   },
   {
    "duration": 459,
    "start_time": "2022-04-04T16:35:13.018Z"
   },
   {
    "duration": 5,
    "start_time": "2022-04-04T16:35:13.487Z"
   },
   {
    "duration": 195,
    "start_time": "2022-04-04T16:35:13.495Z"
   },
   {
    "duration": 292,
    "start_time": "2022-04-04T16:35:13.692Z"
   },
   {
    "duration": 5,
    "start_time": "2022-04-04T16:35:13.987Z"
   },
   {
    "duration": 288,
    "start_time": "2022-04-04T16:35:13.994Z"
   },
   {
    "duration": 847,
    "start_time": "2022-04-04T16:35:14.285Z"
   },
   {
    "duration": 0,
    "start_time": "2022-04-04T16:35:15.135Z"
   },
   {
    "duration": 0,
    "start_time": "2022-04-04T16:35:15.137Z"
   },
   {
    "duration": 0,
    "start_time": "2022-04-04T16:35:15.138Z"
   },
   {
    "duration": 0,
    "start_time": "2022-04-04T16:35:15.140Z"
   },
   {
    "duration": 0,
    "start_time": "2022-04-04T16:35:15.142Z"
   },
   {
    "duration": 0,
    "start_time": "2022-04-04T16:35:15.143Z"
   },
   {
    "duration": 1,
    "start_time": "2022-04-04T16:35:15.145Z"
   },
   {
    "duration": 0,
    "start_time": "2022-04-04T16:35:15.147Z"
   },
   {
    "duration": 0,
    "start_time": "2022-04-04T16:35:15.149Z"
   },
   {
    "duration": 0,
    "start_time": "2022-04-04T16:35:15.150Z"
   },
   {
    "duration": 0,
    "start_time": "2022-04-04T16:35:15.182Z"
   },
   {
    "duration": 0,
    "start_time": "2022-04-04T16:35:15.183Z"
   },
   {
    "duration": 0,
    "start_time": "2022-04-04T16:35:15.185Z"
   },
   {
    "duration": 0,
    "start_time": "2022-04-04T16:35:15.187Z"
   },
   {
    "duration": 0,
    "start_time": "2022-04-04T16:35:15.188Z"
   },
   {
    "duration": 0,
    "start_time": "2022-04-04T16:35:15.189Z"
   },
   {
    "duration": 0,
    "start_time": "2022-04-04T16:35:15.191Z"
   },
   {
    "duration": 7,
    "start_time": "2022-04-04T16:36:07.160Z"
   },
   {
    "duration": 21,
    "start_time": "2022-04-04T16:36:09.497Z"
   },
   {
    "duration": 11,
    "start_time": "2022-04-04T16:36:13.601Z"
   },
   {
    "duration": 19,
    "start_time": "2022-04-04T16:36:15.364Z"
   },
   {
    "duration": 10,
    "start_time": "2022-04-04T16:39:00.109Z"
   },
   {
    "duration": 27,
    "start_time": "2022-04-04T16:39:06.901Z"
   },
   {
    "duration": 8,
    "start_time": "2022-04-04T16:39:32.777Z"
   },
   {
    "duration": 8,
    "start_time": "2022-04-04T16:39:35.713Z"
   },
   {
    "duration": 1464,
    "start_time": "2022-04-04T16:40:20.936Z"
   },
   {
    "duration": 73,
    "start_time": "2022-04-04T16:40:22.403Z"
   },
   {
    "duration": 21,
    "start_time": "2022-04-04T16:40:22.482Z"
   },
   {
    "duration": 6,
    "start_time": "2022-04-04T16:40:22.507Z"
   },
   {
    "duration": 10,
    "start_time": "2022-04-04T16:40:22.515Z"
   },
   {
    "duration": 13,
    "start_time": "2022-04-04T16:40:22.527Z"
   },
   {
    "duration": 5,
    "start_time": "2022-04-04T16:40:22.582Z"
   },
   {
    "duration": 14,
    "start_time": "2022-04-04T16:40:22.589Z"
   },
   {
    "duration": 26,
    "start_time": "2022-04-04T16:40:22.605Z"
   },
   {
    "duration": 9,
    "start_time": "2022-04-04T16:40:22.635Z"
   },
   {
    "duration": 41,
    "start_time": "2022-04-04T16:40:22.646Z"
   },
   {
    "duration": 8,
    "start_time": "2022-04-04T16:40:22.689Z"
   },
   {
    "duration": 15,
    "start_time": "2022-04-04T16:40:22.699Z"
   },
   {
    "duration": 19,
    "start_time": "2022-04-04T16:40:22.717Z"
   },
   {
    "duration": 7,
    "start_time": "2022-04-04T16:40:22.738Z"
   },
   {
    "duration": 13,
    "start_time": "2022-04-04T16:40:22.784Z"
   },
   {
    "duration": 30,
    "start_time": "2022-04-04T16:40:22.800Z"
   },
   {
    "duration": 65,
    "start_time": "2022-04-04T16:40:22.833Z"
   },
   {
    "duration": 24,
    "start_time": "2022-04-04T16:40:22.901Z"
   },
   {
    "duration": 4,
    "start_time": "2022-04-04T16:40:22.928Z"
   },
   {
    "duration": 336,
    "start_time": "2022-04-04T16:40:22.934Z"
   },
   {
    "duration": 34,
    "start_time": "2022-04-04T16:40:23.272Z"
   },
   {
    "duration": 11,
    "start_time": "2022-04-04T16:40:23.309Z"
   },
   {
    "duration": 508,
    "start_time": "2022-04-04T16:40:23.323Z"
   },
   {
    "duration": 28,
    "start_time": "2022-04-04T16:40:23.834Z"
   },
   {
    "duration": 36,
    "start_time": "2022-04-04T16:40:23.864Z"
   },
   {
    "duration": 421,
    "start_time": "2022-04-04T16:40:23.902Z"
   },
   {
    "duration": 5,
    "start_time": "2022-04-04T16:40:24.328Z"
   },
   {
    "duration": 198,
    "start_time": "2022-04-04T16:40:24.336Z"
   },
   {
    "duration": 199,
    "start_time": "2022-04-04T16:40:24.536Z"
   },
   {
    "duration": 5,
    "start_time": "2022-04-04T16:40:24.738Z"
   },
   {
    "duration": 293,
    "start_time": "2022-04-04T16:40:24.746Z"
   },
   {
    "duration": 902,
    "start_time": "2022-04-04T16:40:25.042Z"
   },
   {
    "duration": 0,
    "start_time": "2022-04-04T16:40:25.947Z"
   },
   {
    "duration": 0,
    "start_time": "2022-04-04T16:40:25.950Z"
   },
   {
    "duration": 0,
    "start_time": "2022-04-04T16:40:25.952Z"
   },
   {
    "duration": 0,
    "start_time": "2022-04-04T16:40:25.954Z"
   },
   {
    "duration": 0,
    "start_time": "2022-04-04T16:40:25.956Z"
   },
   {
    "duration": 0,
    "start_time": "2022-04-04T16:40:25.958Z"
   },
   {
    "duration": 0,
    "start_time": "2022-04-04T16:40:25.960Z"
   },
   {
    "duration": 0,
    "start_time": "2022-04-04T16:40:25.962Z"
   },
   {
    "duration": 0,
    "start_time": "2022-04-04T16:40:25.983Z"
   },
   {
    "duration": 0,
    "start_time": "2022-04-04T16:40:25.986Z"
   },
   {
    "duration": 0,
    "start_time": "2022-04-04T16:40:25.988Z"
   },
   {
    "duration": 0,
    "start_time": "2022-04-04T16:40:25.990Z"
   },
   {
    "duration": 0,
    "start_time": "2022-04-04T16:40:25.992Z"
   },
   {
    "duration": 0,
    "start_time": "2022-04-04T16:40:25.993Z"
   },
   {
    "duration": 0,
    "start_time": "2022-04-04T16:40:25.995Z"
   },
   {
    "duration": 0,
    "start_time": "2022-04-04T16:40:25.996Z"
   },
   {
    "duration": 0,
    "start_time": "2022-04-04T16:40:25.998Z"
   },
   {
    "duration": 10,
    "start_time": "2022-04-04T17:08:34.663Z"
   },
   {
    "duration": 1199,
    "start_time": "2022-04-04T17:08:37.711Z"
   },
   {
    "duration": 7,
    "start_time": "2022-04-04T17:09:13.815Z"
   },
   {
    "duration": 1003,
    "start_time": "2022-04-04T17:09:14.425Z"
   },
   {
    "duration": 991,
    "start_time": "2022-04-04T17:09:19.910Z"
   },
   {
    "duration": 982,
    "start_time": "2022-04-04T17:09:26.836Z"
   },
   {
    "duration": 5,
    "start_time": "2022-04-04T17:15:34.503Z"
   },
   {
    "duration": 6,
    "start_time": "2022-04-04T17:15:42.391Z"
   },
   {
    "duration": 1377,
    "start_time": "2022-04-04T17:16:27.910Z"
   },
   {
    "duration": 67,
    "start_time": "2022-04-04T17:16:29.289Z"
   },
   {
    "duration": 27,
    "start_time": "2022-04-04T17:16:29.359Z"
   },
   {
    "duration": 5,
    "start_time": "2022-04-04T17:16:29.389Z"
   },
   {
    "duration": 7,
    "start_time": "2022-04-04T17:16:29.396Z"
   },
   {
    "duration": 14,
    "start_time": "2022-04-04T17:16:29.405Z"
   },
   {
    "duration": 4,
    "start_time": "2022-04-04T17:16:29.421Z"
   },
   {
    "duration": 57,
    "start_time": "2022-04-04T17:16:29.427Z"
   },
   {
    "duration": 22,
    "start_time": "2022-04-04T17:16:29.486Z"
   },
   {
    "duration": 9,
    "start_time": "2022-04-04T17:16:29.512Z"
   },
   {
    "duration": 8,
    "start_time": "2022-04-04T17:16:29.523Z"
   },
   {
    "duration": 8,
    "start_time": "2022-04-04T17:16:29.533Z"
   },
   {
    "duration": 10,
    "start_time": "2022-04-04T17:16:29.583Z"
   },
   {
    "duration": 20,
    "start_time": "2022-04-04T17:16:29.595Z"
   },
   {
    "duration": 6,
    "start_time": "2022-04-04T17:16:29.617Z"
   },
   {
    "duration": 9,
    "start_time": "2022-04-04T17:16:29.625Z"
   },
   {
    "duration": 58,
    "start_time": "2022-04-04T17:16:29.636Z"
   },
   {
    "duration": 20,
    "start_time": "2022-04-04T17:16:29.696Z"
   },
   {
    "duration": 21,
    "start_time": "2022-04-04T17:16:29.718Z"
   },
   {
    "duration": 6,
    "start_time": "2022-04-04T17:16:29.741Z"
   },
   {
    "duration": 292,
    "start_time": "2022-04-04T17:16:29.783Z"
   },
   {
    "duration": 26,
    "start_time": "2022-04-04T17:16:30.078Z"
   },
   {
    "duration": 10,
    "start_time": "2022-04-04T17:16:30.107Z"
   },
   {
    "duration": 476,
    "start_time": "2022-04-04T17:16:30.119Z"
   },
   {
    "duration": 23,
    "start_time": "2022-04-04T17:16:30.597Z"
   },
   {
    "duration": 34,
    "start_time": "2022-04-04T17:16:30.624Z"
   },
   {
    "duration": 422,
    "start_time": "2022-04-04T17:16:30.660Z"
   },
   {
    "duration": 5,
    "start_time": "2022-04-04T17:16:31.087Z"
   },
   {
    "duration": 191,
    "start_time": "2022-04-04T17:16:31.094Z"
   },
   {
    "duration": 197,
    "start_time": "2022-04-04T17:16:31.287Z"
   },
   {
    "duration": 5,
    "start_time": "2022-04-04T17:16:31.487Z"
   },
   {
    "duration": 306,
    "start_time": "2022-04-04T17:16:31.494Z"
   },
   {
    "duration": 816,
    "start_time": "2022-04-04T17:16:31.802Z"
   },
   {
    "duration": 0,
    "start_time": "2022-04-04T17:16:32.621Z"
   },
   {
    "duration": 0,
    "start_time": "2022-04-04T17:16:32.622Z"
   },
   {
    "duration": 0,
    "start_time": "2022-04-04T17:16:32.624Z"
   },
   {
    "duration": 0,
    "start_time": "2022-04-04T17:16:32.625Z"
   },
   {
    "duration": 0,
    "start_time": "2022-04-04T17:16:32.627Z"
   },
   {
    "duration": 0,
    "start_time": "2022-04-04T17:16:32.628Z"
   },
   {
    "duration": 0,
    "start_time": "2022-04-04T17:16:32.630Z"
   },
   {
    "duration": 0,
    "start_time": "2022-04-04T17:16:32.632Z"
   },
   {
    "duration": 0,
    "start_time": "2022-04-04T17:16:32.633Z"
   },
   {
    "duration": 0,
    "start_time": "2022-04-04T17:16:32.635Z"
   },
   {
    "duration": 0,
    "start_time": "2022-04-04T17:16:32.636Z"
   },
   {
    "duration": 0,
    "start_time": "2022-04-04T17:16:32.638Z"
   },
   {
    "duration": 0,
    "start_time": "2022-04-04T17:16:32.639Z"
   },
   {
    "duration": 0,
    "start_time": "2022-04-04T17:16:32.641Z"
   },
   {
    "duration": 0,
    "start_time": "2022-04-04T17:16:32.683Z"
   },
   {
    "duration": 0,
    "start_time": "2022-04-04T17:16:32.684Z"
   },
   {
    "duration": 0,
    "start_time": "2022-04-04T17:16:32.688Z"
   },
   {
    "duration": 13,
    "start_time": "2022-04-04T17:18:01.711Z"
   },
   {
    "duration": 19,
    "start_time": "2022-04-04T17:18:04.683Z"
   },
   {
    "duration": 1494,
    "start_time": "2022-04-04T17:18:28.898Z"
   },
   {
    "duration": 74,
    "start_time": "2022-04-04T17:18:30.394Z"
   },
   {
    "duration": 20,
    "start_time": "2022-04-04T17:18:30.482Z"
   },
   {
    "duration": 20,
    "start_time": "2022-04-04T17:18:30.505Z"
   },
   {
    "duration": 17,
    "start_time": "2022-04-04T17:18:30.528Z"
   },
   {
    "duration": 25,
    "start_time": "2022-04-04T17:18:30.547Z"
   },
   {
    "duration": 4,
    "start_time": "2022-04-04T17:18:30.582Z"
   },
   {
    "duration": 18,
    "start_time": "2022-04-04T17:18:30.589Z"
   },
   {
    "duration": 32,
    "start_time": "2022-04-04T17:18:30.609Z"
   },
   {
    "duration": 10,
    "start_time": "2022-04-04T17:18:30.644Z"
   },
   {
    "duration": 7,
    "start_time": "2022-04-04T17:18:30.683Z"
   },
   {
    "duration": 11,
    "start_time": "2022-04-04T17:18:30.692Z"
   },
   {
    "duration": 17,
    "start_time": "2022-04-04T17:18:30.705Z"
   },
   {
    "duration": 19,
    "start_time": "2022-04-04T17:18:30.727Z"
   },
   {
    "duration": 8,
    "start_time": "2022-04-04T17:18:30.783Z"
   },
   {
    "duration": 30,
    "start_time": "2022-04-04T17:18:30.793Z"
   },
   {
    "duration": 21,
    "start_time": "2022-04-04T17:18:30.825Z"
   },
   {
    "duration": 35,
    "start_time": "2022-04-04T17:18:30.848Z"
   },
   {
    "duration": 24,
    "start_time": "2022-04-04T17:18:30.886Z"
   },
   {
    "duration": 21,
    "start_time": "2022-04-04T17:18:30.912Z"
   },
   {
    "duration": 325,
    "start_time": "2022-04-04T17:18:30.935Z"
   },
   {
    "duration": 35,
    "start_time": "2022-04-04T17:18:31.263Z"
   },
   {
    "duration": 12,
    "start_time": "2022-04-04T17:18:31.301Z"
   },
   {
    "duration": 515,
    "start_time": "2022-04-04T17:18:31.316Z"
   },
   {
    "duration": 25,
    "start_time": "2022-04-04T17:18:31.834Z"
   },
   {
    "duration": 37,
    "start_time": "2022-04-04T17:18:31.861Z"
   },
   {
    "duration": 414,
    "start_time": "2022-04-04T17:18:31.900Z"
   },
   {
    "duration": 5,
    "start_time": "2022-04-04T17:18:32.316Z"
   },
   {
    "duration": 191,
    "start_time": "2022-04-04T17:18:32.323Z"
   },
   {
    "duration": 190,
    "start_time": "2022-04-04T17:18:32.516Z"
   },
   {
    "duration": 5,
    "start_time": "2022-04-04T17:18:32.708Z"
   },
   {
    "duration": 271,
    "start_time": "2022-04-04T17:18:32.715Z"
   },
   {
    "duration": 274,
    "start_time": "2022-04-04T17:18:32.988Z"
   },
   {
    "duration": 264,
    "start_time": "2022-04-04T17:18:33.264Z"
   },
   {
    "duration": 368,
    "start_time": "2022-04-04T17:18:33.530Z"
   },
   {
    "duration": 252,
    "start_time": "2022-04-04T17:18:33.901Z"
   },
   {
    "duration": 246,
    "start_time": "2022-04-04T17:18:34.155Z"
   },
   {
    "duration": 279,
    "start_time": "2022-04-04T17:18:34.403Z"
   },
   {
    "duration": 16,
    "start_time": "2022-04-04T17:18:34.684Z"
   },
   {
    "duration": 270,
    "start_time": "2022-04-04T17:18:34.703Z"
   },
   {
    "duration": 14,
    "start_time": "2022-04-04T17:18:34.988Z"
   },
   {
    "duration": 23,
    "start_time": "2022-04-04T17:18:35.004Z"
   },
   {
    "duration": 1015,
    "start_time": "2022-04-04T17:18:35.030Z"
   },
   {
    "duration": 1028,
    "start_time": "2022-04-04T17:18:36.047Z"
   },
   {
    "duration": 1106,
    "start_time": "2022-04-04T17:18:37.081Z"
   },
   {
    "duration": 17,
    "start_time": "2022-04-04T17:18:38.189Z"
   },
   {
    "duration": 11,
    "start_time": "2022-04-04T17:18:38.208Z"
   },
   {
    "duration": 4,
    "start_time": "2022-04-04T17:18:38.221Z"
   },
   {
    "duration": 13,
    "start_time": "2022-04-04T17:18:38.228Z"
   },
   {
    "duration": 15,
    "start_time": "2022-04-04T17:18:38.283Z"
   },
   {
    "duration": 6,
    "start_time": "2022-04-04T17:19:20.322Z"
   },
   {
    "duration": 14,
    "start_time": "2022-04-04T17:19:22.897Z"
   },
   {
    "duration": 9,
    "start_time": "2022-04-04T17:20:39.974Z"
   },
   {
    "duration": 5,
    "start_time": "2022-04-04T17:21:26.855Z"
   },
   {
    "duration": 155,
    "start_time": "2022-04-04T17:21:29.588Z"
   },
   {
    "duration": 12,
    "start_time": "2022-04-04T17:22:30.392Z"
   },
   {
    "duration": 10,
    "start_time": "2022-04-04T17:22:58.702Z"
   },
   {
    "duration": 1418,
    "start_time": "2022-04-04T17:23:25.246Z"
   },
   {
    "duration": 68,
    "start_time": "2022-04-04T17:23:26.667Z"
   },
   {
    "duration": 20,
    "start_time": "2022-04-04T17:23:26.737Z"
   },
   {
    "duration": 5,
    "start_time": "2022-04-04T17:23:26.760Z"
   },
   {
    "duration": 5,
    "start_time": "2022-04-04T17:23:26.783Z"
   },
   {
    "duration": 15,
    "start_time": "2022-04-04T17:23:26.791Z"
   },
   {
    "duration": 7,
    "start_time": "2022-04-04T17:23:26.808Z"
   },
   {
    "duration": 16,
    "start_time": "2022-04-04T17:23:26.817Z"
   },
   {
    "duration": 54,
    "start_time": "2022-04-04T17:23:26.835Z"
   },
   {
    "duration": 9,
    "start_time": "2022-04-04T17:23:26.893Z"
   },
   {
    "duration": 12,
    "start_time": "2022-04-04T17:23:26.904Z"
   },
   {
    "duration": 9,
    "start_time": "2022-04-04T17:23:26.918Z"
   },
   {
    "duration": 19,
    "start_time": "2022-04-04T17:23:26.929Z"
   },
   {
    "duration": 46,
    "start_time": "2022-04-04T17:23:26.950Z"
   },
   {
    "duration": 6,
    "start_time": "2022-04-04T17:23:26.998Z"
   },
   {
    "duration": 9,
    "start_time": "2022-04-04T17:23:27.007Z"
   },
   {
    "duration": 18,
    "start_time": "2022-04-04T17:23:27.019Z"
   },
   {
    "duration": 59,
    "start_time": "2022-04-04T17:23:27.039Z"
   },
   {
    "duration": 22,
    "start_time": "2022-04-04T17:23:27.100Z"
   },
   {
    "duration": 6,
    "start_time": "2022-04-04T17:23:27.125Z"
   },
   {
    "duration": 315,
    "start_time": "2022-04-04T17:23:27.134Z"
   },
   {
    "duration": 38,
    "start_time": "2022-04-04T17:23:27.451Z"
   },
   {
    "duration": 10,
    "start_time": "2022-04-04T17:23:27.491Z"
   },
   {
    "duration": 460,
    "start_time": "2022-04-04T17:23:27.503Z"
   },
   {
    "duration": 23,
    "start_time": "2022-04-04T17:23:27.965Z"
   },
   {
    "duration": 32,
    "start_time": "2022-04-04T17:23:27.990Z"
   },
   {
    "duration": 418,
    "start_time": "2022-04-04T17:23:28.024Z"
   },
   {
    "duration": 5,
    "start_time": "2022-04-04T17:23:28.447Z"
   },
   {
    "duration": 192,
    "start_time": "2022-04-04T17:23:28.454Z"
   },
   {
    "duration": 204,
    "start_time": "2022-04-04T17:23:28.649Z"
   },
   {
    "duration": 5,
    "start_time": "2022-04-04T17:23:28.856Z"
   },
   {
    "duration": 281,
    "start_time": "2022-04-04T17:23:28.863Z"
   },
   {
    "duration": 285,
    "start_time": "2022-04-04T17:23:29.146Z"
   },
   {
    "duration": 271,
    "start_time": "2022-04-04T17:23:29.433Z"
   },
   {
    "duration": 368,
    "start_time": "2022-04-04T17:23:29.706Z"
   },
   {
    "duration": 392,
    "start_time": "2022-04-04T17:23:30.082Z"
   },
   {
    "duration": 306,
    "start_time": "2022-04-04T17:23:30.476Z"
   },
   {
    "duration": 273,
    "start_time": "2022-04-04T17:23:30.784Z"
   },
   {
    "duration": 24,
    "start_time": "2022-04-04T17:23:31.060Z"
   },
   {
    "duration": 267,
    "start_time": "2022-04-04T17:23:31.087Z"
   },
   {
    "duration": 15,
    "start_time": "2022-04-04T17:23:31.356Z"
   },
   {
    "duration": 7,
    "start_time": "2022-04-04T17:23:31.382Z"
   },
   {
    "duration": 1212,
    "start_time": "2022-04-04T17:23:31.391Z"
   },
   {
    "duration": 996,
    "start_time": "2022-04-04T17:23:32.605Z"
   },
   {
    "duration": 992,
    "start_time": "2022-04-04T17:23:33.603Z"
   },
   {
    "duration": 166,
    "start_time": "2022-04-04T17:23:34.597Z"
   },
   {
    "duration": 0,
    "start_time": "2022-04-04T17:23:34.766Z"
   },
   {
    "duration": 0,
    "start_time": "2022-04-04T17:23:34.768Z"
   },
   {
    "duration": 3,
    "start_time": "2022-04-04T17:25:33.333Z"
   },
   {
    "duration": 32,
    "start_time": "2022-04-04T17:25:41.575Z"
   },
   {
    "duration": 35,
    "start_time": "2022-04-04T17:26:26.798Z"
   },
   {
    "duration": 17,
    "start_time": "2022-04-04T17:26:31.998Z"
   },
   {
    "duration": 17,
    "start_time": "2022-04-04T17:26:58.927Z"
   },
   {
    "duration": 31,
    "start_time": "2022-04-04T17:27:11.399Z"
   },
   {
    "duration": 27,
    "start_time": "2022-04-04T17:35:16.132Z"
   },
   {
    "duration": 11,
    "start_time": "2022-04-04T17:35:27.602Z"
   },
   {
    "duration": 8,
    "start_time": "2022-04-04T17:40:32.477Z"
   },
   {
    "duration": 7,
    "start_time": "2022-04-04T17:40:41.031Z"
   },
   {
    "duration": 8,
    "start_time": "2022-04-04T17:40:50.673Z"
   },
   {
    "duration": 15,
    "start_time": "2022-04-04T17:41:00.406Z"
   },
   {
    "duration": 18,
    "start_time": "2022-04-04T17:41:04.071Z"
   },
   {
    "duration": 13,
    "start_time": "2022-04-04T17:42:57.847Z"
   },
   {
    "duration": 13,
    "start_time": "2022-04-04T17:43:03.336Z"
   },
   {
    "duration": 127,
    "start_time": "2022-04-04T17:43:19.342Z"
   },
   {
    "duration": 13,
    "start_time": "2022-04-04T17:43:44.358Z"
   },
   {
    "duration": 1661,
    "start_time": "2022-04-14T21:59:16.255Z"
   },
   {
    "duration": 55,
    "start_time": "2022-04-14T21:59:17.918Z"
   },
   {
    "duration": 16,
    "start_time": "2022-04-14T21:59:18.007Z"
   },
   {
    "duration": 5,
    "start_time": "2022-04-14T21:59:18.026Z"
   },
   {
    "duration": 7,
    "start_time": "2022-04-14T21:59:18.032Z"
   },
   {
    "duration": 9,
    "start_time": "2022-04-14T21:59:18.041Z"
   },
   {
    "duration": 10,
    "start_time": "2022-04-14T21:59:18.052Z"
   },
   {
    "duration": 13,
    "start_time": "2022-04-14T21:59:18.064Z"
   },
   {
    "duration": 17,
    "start_time": "2022-04-14T21:59:18.107Z"
   },
   {
    "duration": 7,
    "start_time": "2022-04-14T21:59:18.126Z"
   },
   {
    "duration": 6,
    "start_time": "2022-04-14T21:59:18.135Z"
   },
   {
    "duration": 5,
    "start_time": "2022-04-14T21:59:18.143Z"
   },
   {
    "duration": 10,
    "start_time": "2022-04-14T21:59:18.150Z"
   },
   {
    "duration": 48,
    "start_time": "2022-04-14T21:59:18.161Z"
   },
   {
    "duration": 5,
    "start_time": "2022-04-14T21:59:18.211Z"
   },
   {
    "duration": 8,
    "start_time": "2022-04-14T21:59:18.218Z"
   },
   {
    "duration": 16,
    "start_time": "2022-04-14T21:59:18.227Z"
   },
   {
    "duration": 14,
    "start_time": "2022-04-14T21:59:18.244Z"
   },
   {
    "duration": 51,
    "start_time": "2022-04-14T21:59:18.260Z"
   },
   {
    "duration": 4,
    "start_time": "2022-04-14T21:59:18.313Z"
   },
   {
    "duration": 202,
    "start_time": "2022-04-14T21:59:18.319Z"
   },
   {
    "duration": 18,
    "start_time": "2022-04-14T21:59:18.523Z"
   },
   {
    "duration": 9,
    "start_time": "2022-04-14T21:59:18.543Z"
   },
   {
    "duration": 302,
    "start_time": "2022-04-14T21:59:18.554Z"
   },
   {
    "duration": 16,
    "start_time": "2022-04-14T21:59:18.857Z"
   },
   {
    "duration": 38,
    "start_time": "2022-04-14T21:59:18.875Z"
   },
   {
    "duration": 279,
    "start_time": "2022-04-14T21:59:18.914Z"
   },
   {
    "duration": 12,
    "start_time": "2022-04-14T21:59:19.196Z"
   },
   {
    "duration": 117,
    "start_time": "2022-04-14T21:59:19.210Z"
   },
   {
    "duration": 125,
    "start_time": "2022-04-14T21:59:19.329Z"
   },
   {
    "duration": 3,
    "start_time": "2022-04-14T21:59:19.456Z"
   },
   {
    "duration": 180,
    "start_time": "2022-04-14T21:59:19.461Z"
   },
   {
    "duration": 173,
    "start_time": "2022-04-14T21:59:19.642Z"
   },
   {
    "duration": 177,
    "start_time": "2022-04-14T21:59:19.817Z"
   },
   {
    "duration": 236,
    "start_time": "2022-04-14T21:59:19.995Z"
   },
   {
    "duration": 163,
    "start_time": "2022-04-14T21:59:20.233Z"
   },
   {
    "duration": 155,
    "start_time": "2022-04-14T21:59:20.398Z"
   },
   {
    "duration": 179,
    "start_time": "2022-04-14T21:59:20.554Z"
   },
   {
    "duration": 10,
    "start_time": "2022-04-14T21:59:20.735Z"
   },
   {
    "duration": 173,
    "start_time": "2022-04-14T21:59:20.746Z"
   },
   {
    "duration": 10,
    "start_time": "2022-04-14T21:59:20.921Z"
   },
   {
    "duration": 5,
    "start_time": "2022-04-14T21:59:20.933Z"
   },
   {
    "duration": 1209,
    "start_time": "2022-04-14T21:59:20.939Z"
   },
   {
    "duration": 944,
    "start_time": "2022-04-14T21:59:22.150Z"
   },
   {
    "duration": 690,
    "start_time": "2022-04-14T21:59:23.096Z"
   },
   {
    "duration": 5,
    "start_time": "2022-04-14T21:59:23.788Z"
   },
   {
    "duration": 18,
    "start_time": "2022-04-14T21:59:23.795Z"
   },
   {
    "duration": 10,
    "start_time": "2022-04-14T21:59:23.815Z"
   },
   {
    "duration": 45,
    "start_time": "2022-04-16T12:19:50.789Z"
   },
   {
    "duration": 1301,
    "start_time": "2022-04-16T12:19:57.948Z"
   },
   {
    "duration": 51,
    "start_time": "2022-04-16T12:19:59.251Z"
   },
   {
    "duration": 14,
    "start_time": "2022-04-16T12:19:59.304Z"
   },
   {
    "duration": 4,
    "start_time": "2022-04-16T12:19:59.320Z"
   },
   {
    "duration": 6,
    "start_time": "2022-04-16T12:19:59.326Z"
   },
   {
    "duration": 27,
    "start_time": "2022-04-16T12:19:59.333Z"
   },
   {
    "duration": 5,
    "start_time": "2022-04-16T12:19:59.362Z"
   },
   {
    "duration": 18,
    "start_time": "2022-04-16T12:19:59.369Z"
   },
   {
    "duration": 17,
    "start_time": "2022-04-16T12:19:59.389Z"
   },
   {
    "duration": 7,
    "start_time": "2022-04-16T12:19:59.408Z"
   },
   {
    "duration": 7,
    "start_time": "2022-04-16T12:19:59.416Z"
   },
   {
    "duration": 10,
    "start_time": "2022-04-16T12:19:59.424Z"
   },
   {
    "duration": 11,
    "start_time": "2022-04-16T12:19:59.455Z"
   },
   {
    "duration": 13,
    "start_time": "2022-04-16T12:19:59.467Z"
   },
   {
    "duration": 4,
    "start_time": "2022-04-16T12:19:59.482Z"
   },
   {
    "duration": 9,
    "start_time": "2022-04-16T12:19:59.488Z"
   },
   {
    "duration": 13,
    "start_time": "2022-04-16T12:19:59.499Z"
   },
   {
    "duration": 46,
    "start_time": "2022-04-16T12:19:59.514Z"
   },
   {
    "duration": 17,
    "start_time": "2022-04-16T12:19:59.562Z"
   },
   {
    "duration": 4,
    "start_time": "2022-04-16T12:19:59.581Z"
   },
   {
    "duration": 208,
    "start_time": "2022-04-16T12:19:59.586Z"
   },
   {
    "duration": 18,
    "start_time": "2022-04-16T12:19:59.795Z"
   },
   {
    "duration": 8,
    "start_time": "2022-04-16T12:19:59.814Z"
   },
   {
    "duration": 135,
    "start_time": "2022-04-16T12:19:59.824Z"
   },
   {
    "duration": 0,
    "start_time": "2022-04-16T12:19:59.962Z"
   },
   {
    "duration": 0,
    "start_time": "2022-04-16T12:19:59.963Z"
   },
   {
    "duration": 0,
    "start_time": "2022-04-16T12:19:59.965Z"
   },
   {
    "duration": 0,
    "start_time": "2022-04-16T12:19:59.966Z"
   },
   {
    "duration": 0,
    "start_time": "2022-04-16T12:19:59.967Z"
   },
   {
    "duration": 0,
    "start_time": "2022-04-16T12:19:59.968Z"
   },
   {
    "duration": 0,
    "start_time": "2022-04-16T12:19:59.969Z"
   },
   {
    "duration": 0,
    "start_time": "2022-04-16T12:19:59.970Z"
   },
   {
    "duration": 0,
    "start_time": "2022-04-16T12:19:59.971Z"
   },
   {
    "duration": 0,
    "start_time": "2022-04-16T12:19:59.972Z"
   },
   {
    "duration": 0,
    "start_time": "2022-04-16T12:19:59.973Z"
   },
   {
    "duration": 0,
    "start_time": "2022-04-16T12:19:59.974Z"
   },
   {
    "duration": 0,
    "start_time": "2022-04-16T12:19:59.975Z"
   },
   {
    "duration": 0,
    "start_time": "2022-04-16T12:19:59.976Z"
   },
   {
    "duration": 0,
    "start_time": "2022-04-16T12:19:59.977Z"
   },
   {
    "duration": 0,
    "start_time": "2022-04-16T12:19:59.978Z"
   },
   {
    "duration": 0,
    "start_time": "2022-04-16T12:19:59.979Z"
   },
   {
    "duration": 0,
    "start_time": "2022-04-16T12:19:59.980Z"
   },
   {
    "duration": 0,
    "start_time": "2022-04-16T12:19:59.981Z"
   },
   {
    "duration": 0,
    "start_time": "2022-04-16T12:19:59.982Z"
   },
   {
    "duration": 0,
    "start_time": "2022-04-16T12:19:59.983Z"
   },
   {
    "duration": 0,
    "start_time": "2022-04-16T12:19:59.984Z"
   },
   {
    "duration": 0,
    "start_time": "2022-04-16T12:19:59.985Z"
   },
   {
    "duration": 0,
    "start_time": "2022-04-16T12:19:59.986Z"
   },
   {
    "duration": 257,
    "start_time": "2022-04-16T12:20:25.894Z"
   },
   {
    "duration": 8,
    "start_time": "2022-04-16T12:21:43.269Z"
   },
   {
    "duration": 261,
    "start_time": "2022-04-16T12:21:51.005Z"
   },
   {
    "duration": 10,
    "start_time": "2022-04-16T12:24:23.788Z"
   },
   {
    "duration": 240,
    "start_time": "2022-04-16T12:24:31.731Z"
   },
   {
    "duration": 16,
    "start_time": "2022-04-16T12:24:35.818Z"
   },
   {
    "duration": 20,
    "start_time": "2022-04-16T12:24:37.922Z"
   },
   {
    "duration": 221,
    "start_time": "2022-04-16T12:24:43.315Z"
   },
   {
    "duration": 20,
    "start_time": "2022-04-16T12:33:37.156Z"
   },
   {
    "duration": 145,
    "start_time": "2022-04-16T12:33:53.222Z"
   },
   {
    "duration": 9,
    "start_time": "2022-04-16T12:34:14.104Z"
   },
   {
    "duration": 128,
    "start_time": "2022-04-16T12:34:36.105Z"
   },
   {
    "duration": 144,
    "start_time": "2022-04-16T12:34:59.899Z"
   },
   {
    "duration": 208,
    "start_time": "2022-04-16T12:35:52.357Z"
   },
   {
    "duration": 17,
    "start_time": "2022-04-16T12:36:06.758Z"
   },
   {
    "duration": 208,
    "start_time": "2022-04-16T12:36:10.379Z"
   },
   {
    "duration": 15,
    "start_time": "2022-04-16T12:36:21.255Z"
   },
   {
    "duration": 6,
    "start_time": "2022-04-16T12:55:26.371Z"
   },
   {
    "duration": 6,
    "start_time": "2022-04-16T12:55:40.581Z"
   },
   {
    "duration": 11,
    "start_time": "2022-04-16T12:57:25.396Z"
   },
   {
    "duration": 16,
    "start_time": "2022-04-16T12:57:42.195Z"
   },
   {
    "duration": 15,
    "start_time": "2022-04-16T12:58:56.563Z"
   },
   {
    "duration": 142,
    "start_time": "2022-04-16T13:03:31.524Z"
   },
   {
    "duration": 14,
    "start_time": "2022-04-16T13:15:11.517Z"
   },
   {
    "duration": 7,
    "start_time": "2022-04-16T13:15:22.939Z"
   },
   {
    "duration": 137,
    "start_time": "2022-04-16T13:16:39.308Z"
   },
   {
    "duration": 111,
    "start_time": "2022-04-16T13:16:43.355Z"
   },
   {
    "duration": 24,
    "start_time": "2022-04-16T13:16:51.635Z"
   },
   {
    "duration": 7,
    "start_time": "2022-04-16T13:18:00.269Z"
   },
   {
    "duration": 7,
    "start_time": "2022-04-16T13:18:08.130Z"
   },
   {
    "duration": 10,
    "start_time": "2022-04-16T13:18:50.781Z"
   },
   {
    "duration": 9,
    "start_time": "2022-04-16T13:19:23.079Z"
   },
   {
    "duration": 9,
    "start_time": "2022-04-16T13:22:32.388Z"
   },
   {
    "duration": 8,
    "start_time": "2022-04-16T13:22:51.203Z"
   },
   {
    "duration": 9,
    "start_time": "2022-04-16T13:23:01.374Z"
   },
   {
    "duration": 9,
    "start_time": "2022-04-16T13:25:24.283Z"
   },
   {
    "duration": 9,
    "start_time": "2022-04-16T13:25:35.330Z"
   },
   {
    "duration": 9,
    "start_time": "2022-04-16T13:25:42.999Z"
   },
   {
    "duration": 1201,
    "start_time": "2022-04-16T13:27:32.548Z"
   },
   {
    "duration": 54,
    "start_time": "2022-04-16T13:27:33.751Z"
   },
   {
    "duration": 14,
    "start_time": "2022-04-16T13:27:33.806Z"
   },
   {
    "duration": 5,
    "start_time": "2022-04-16T13:27:33.822Z"
   },
   {
    "duration": 27,
    "start_time": "2022-04-16T13:27:33.828Z"
   },
   {
    "duration": 9,
    "start_time": "2022-04-16T13:27:33.857Z"
   },
   {
    "duration": 3,
    "start_time": "2022-04-16T13:27:33.867Z"
   },
   {
    "duration": 12,
    "start_time": "2022-04-16T13:27:33.872Z"
   },
   {
    "duration": 18,
    "start_time": "2022-04-16T13:27:33.886Z"
   },
   {
    "duration": 6,
    "start_time": "2022-04-16T13:27:33.906Z"
   },
   {
    "duration": 41,
    "start_time": "2022-04-16T13:27:33.914Z"
   },
   {
    "duration": 5,
    "start_time": "2022-04-16T13:27:33.957Z"
   },
   {
    "duration": 17,
    "start_time": "2022-04-16T13:27:33.964Z"
   },
   {
    "duration": 14,
    "start_time": "2022-04-16T13:27:33.982Z"
   },
   {
    "duration": 5,
    "start_time": "2022-04-16T13:27:33.997Z"
   },
   {
    "duration": 22,
    "start_time": "2022-04-16T13:27:34.003Z"
   },
   {
    "duration": 36,
    "start_time": "2022-04-16T13:27:34.027Z"
   },
   {
    "duration": 16,
    "start_time": "2022-04-16T13:27:34.064Z"
   },
   {
    "duration": 16,
    "start_time": "2022-04-16T13:27:34.082Z"
   },
   {
    "duration": 4,
    "start_time": "2022-04-16T13:27:34.100Z"
   },
   {
    "duration": 213,
    "start_time": "2022-04-16T13:27:34.105Z"
   },
   {
    "duration": 19,
    "start_time": "2022-04-16T13:27:34.319Z"
   },
   {
    "duration": 20,
    "start_time": "2022-04-16T13:27:34.340Z"
   },
   {
    "duration": 293,
    "start_time": "2022-04-16T13:27:34.362Z"
   },
   {
    "duration": 17,
    "start_time": "2022-04-16T13:27:34.657Z"
   },
   {
    "duration": 28,
    "start_time": "2022-04-16T13:27:34.676Z"
   },
   {
    "duration": 267,
    "start_time": "2022-04-16T13:27:34.705Z"
   },
   {
    "duration": 4,
    "start_time": "2022-04-16T13:27:34.976Z"
   },
   {
    "duration": 128,
    "start_time": "2022-04-16T13:27:34.981Z"
   },
   {
    "duration": 175,
    "start_time": "2022-04-16T13:27:35.111Z"
   },
   {
    "duration": 4,
    "start_time": "2022-04-16T13:27:35.288Z"
   },
   {
    "duration": 169,
    "start_time": "2022-04-16T13:27:35.293Z"
   },
   {
    "duration": 157,
    "start_time": "2022-04-16T13:27:35.463Z"
   },
   {
    "duration": 157,
    "start_time": "2022-04-16T13:27:35.622Z"
   },
   {
    "duration": 242,
    "start_time": "2022-04-16T13:27:35.781Z"
   },
   {
    "duration": 154,
    "start_time": "2022-04-16T13:27:36.025Z"
   },
   {
    "duration": 154,
    "start_time": "2022-04-16T13:27:36.180Z"
   },
   {
    "duration": 3,
    "start_time": "2022-04-16T13:27:36.336Z"
   },
   {
    "duration": 165,
    "start_time": "2022-04-16T13:27:36.340Z"
   },
   {
    "duration": 11,
    "start_time": "2022-04-16T13:27:36.507Z"
   },
   {
    "duration": 147,
    "start_time": "2022-04-16T13:27:36.520Z"
   },
   {
    "duration": 11,
    "start_time": "2022-04-16T13:27:36.670Z"
   },
   {
    "duration": 9,
    "start_time": "2022-04-16T13:27:36.683Z"
   },
   {
    "duration": 675,
    "start_time": "2022-04-16T13:27:36.694Z"
   },
   {
    "duration": 887,
    "start_time": "2022-04-16T13:27:37.371Z"
   },
   {
    "duration": 624,
    "start_time": "2022-04-16T13:27:38.260Z"
   },
   {
    "duration": 6,
    "start_time": "2022-04-16T13:27:38.886Z"
   },
   {
    "duration": 21,
    "start_time": "2022-04-16T13:27:38.893Z"
   },
   {
    "duration": 25,
    "start_time": "2022-04-16T13:27:38.916Z"
   },
   {
    "duration": 9,
    "start_time": "2022-04-16T13:27:38.943Z"
   },
   {
    "duration": 45,
    "start_time": "2022-04-16T19:22:11.801Z"
   },
   {
    "duration": 2287,
    "start_time": "2022-04-16T19:23:00.077Z"
   },
   {
    "duration": 98,
    "start_time": "2022-04-16T19:23:02.367Z"
   },
   {
    "duration": 25,
    "start_time": "2022-04-16T19:23:02.467Z"
   },
   {
    "duration": 5,
    "start_time": "2022-04-16T19:23:02.495Z"
   },
   {
    "duration": 22,
    "start_time": "2022-04-16T19:23:02.502Z"
   },
   {
    "duration": 10,
    "start_time": "2022-04-16T19:23:02.526Z"
   },
   {
    "duration": 21,
    "start_time": "2022-04-16T19:23:02.538Z"
   },
   {
    "duration": 10,
    "start_time": "2022-04-16T19:23:02.561Z"
   },
   {
    "duration": 17,
    "start_time": "2022-04-16T19:23:02.572Z"
   },
   {
    "duration": 7,
    "start_time": "2022-04-16T19:23:02.591Z"
   },
   {
    "duration": 28,
    "start_time": "2022-04-16T19:23:02.599Z"
   },
   {
    "duration": 6,
    "start_time": "2022-04-16T19:23:02.628Z"
   },
   {
    "duration": 16,
    "start_time": "2022-04-16T19:23:02.636Z"
   },
   {
    "duration": 13,
    "start_time": "2022-04-16T19:23:02.653Z"
   },
   {
    "duration": 5,
    "start_time": "2022-04-16T19:23:02.667Z"
   },
   {
    "duration": 11,
    "start_time": "2022-04-16T19:23:02.673Z"
   },
   {
    "duration": 45,
    "start_time": "2022-04-16T19:23:02.686Z"
   },
   {
    "duration": 14,
    "start_time": "2022-04-16T19:23:02.733Z"
   },
   {
    "duration": 15,
    "start_time": "2022-04-16T19:23:02.748Z"
   },
   {
    "duration": 3,
    "start_time": "2022-04-16T19:23:02.765Z"
   },
   {
    "duration": 189,
    "start_time": "2022-04-16T19:23:02.770Z"
   },
   {
    "duration": 18,
    "start_time": "2022-04-16T19:23:02.961Z"
   },
   {
    "duration": 7,
    "start_time": "2022-04-16T19:23:02.981Z"
   },
   {
    "duration": 281,
    "start_time": "2022-04-16T19:23:02.990Z"
   },
   {
    "duration": 17,
    "start_time": "2022-04-16T19:23:03.273Z"
   },
   {
    "duration": 22,
    "start_time": "2022-04-16T19:23:03.292Z"
   },
   {
    "duration": 238,
    "start_time": "2022-04-16T19:23:03.323Z"
   },
   {
    "duration": 3,
    "start_time": "2022-04-16T19:23:03.565Z"
   },
   {
    "duration": 115,
    "start_time": "2022-04-16T19:23:03.569Z"
   },
   {
    "duration": 116,
    "start_time": "2022-04-16T19:23:03.686Z"
   },
   {
    "duration": 20,
    "start_time": "2022-04-16T19:23:03.804Z"
   },
   {
    "duration": 161,
    "start_time": "2022-04-16T19:23:03.826Z"
   },
   {
    "duration": 164,
    "start_time": "2022-04-16T19:23:03.989Z"
   },
   {
    "duration": 168,
    "start_time": "2022-04-16T19:23:04.156Z"
   },
   {
    "duration": 218,
    "start_time": "2022-04-16T19:23:04.326Z"
   },
   {
    "duration": 141,
    "start_time": "2022-04-16T19:23:04.545Z"
   },
   {
    "duration": 137,
    "start_time": "2022-04-16T19:23:04.688Z"
   },
   {
    "duration": 104,
    "start_time": "2022-04-16T19:23:04.827Z"
   },
   {
    "duration": 0,
    "start_time": "2022-04-16T19:23:04.932Z"
   },
   {
    "duration": 0,
    "start_time": "2022-04-16T19:23:04.934Z"
   },
   {
    "duration": 0,
    "start_time": "2022-04-16T19:23:04.935Z"
   },
   {
    "duration": 0,
    "start_time": "2022-04-16T19:23:04.936Z"
   },
   {
    "duration": 0,
    "start_time": "2022-04-16T19:23:04.936Z"
   },
   {
    "duration": 0,
    "start_time": "2022-04-16T19:23:04.937Z"
   },
   {
    "duration": 0,
    "start_time": "2022-04-16T19:23:04.938Z"
   },
   {
    "duration": 0,
    "start_time": "2022-04-16T19:23:04.940Z"
   },
   {
    "duration": 0,
    "start_time": "2022-04-16T19:23:04.941Z"
   },
   {
    "duration": 0,
    "start_time": "2022-04-16T19:23:04.942Z"
   },
   {
    "duration": 0,
    "start_time": "2022-04-16T19:23:04.943Z"
   },
   {
    "duration": 0,
    "start_time": "2022-04-16T19:23:04.944Z"
   },
   {
    "duration": 160,
    "start_time": "2022-04-16T19:31:17.395Z"
   },
   {
    "duration": 168,
    "start_time": "2022-04-16T19:31:38.541Z"
   },
   {
    "duration": 8,
    "start_time": "2022-04-16T19:38:28.430Z"
   },
   {
    "duration": 9,
    "start_time": "2022-04-16T19:40:18.314Z"
   },
   {
    "duration": 20,
    "start_time": "2022-04-16T19:40:39.271Z"
   },
   {
    "duration": 13,
    "start_time": "2022-04-16T19:41:14.042Z"
   },
   {
    "duration": 668,
    "start_time": "2022-04-16T19:42:49.074Z"
   },
   {
    "duration": 21,
    "start_time": "2022-04-16T19:43:24.717Z"
   },
   {
    "duration": 20,
    "start_time": "2022-04-16T19:44:03.401Z"
   },
   {
    "duration": 12,
    "start_time": "2022-04-16T19:44:52.266Z"
   },
   {
    "duration": 19,
    "start_time": "2022-04-16T19:45:03.035Z"
   },
   {
    "duration": 15,
    "start_time": "2022-04-16T19:48:06.046Z"
   },
   {
    "duration": 16,
    "start_time": "2022-04-16T19:49:12.577Z"
   },
   {
    "duration": 13,
    "start_time": "2022-04-16T19:51:18.304Z"
   },
   {
    "duration": 9,
    "start_time": "2022-04-16T19:51:34.878Z"
   },
   {
    "duration": 9,
    "start_time": "2022-04-16T19:51:42.135Z"
   },
   {
    "duration": 32,
    "start_time": "2022-04-16T19:51:48.075Z"
   },
   {
    "duration": 12,
    "start_time": "2022-04-16T19:51:55.081Z"
   },
   {
    "duration": 261,
    "start_time": "2022-04-16T20:01:18.179Z"
   },
   {
    "duration": 163,
    "start_time": "2022-04-16T20:02:46.415Z"
   },
   {
    "duration": 229,
    "start_time": "2022-04-16T20:03:04.603Z"
   },
   {
    "duration": 163,
    "start_time": "2022-04-16T20:04:24.035Z"
   },
   {
    "duration": 232,
    "start_time": "2022-04-16T20:05:14.740Z"
   },
   {
    "duration": 24,
    "start_time": "2022-04-16T20:08:34.682Z"
   },
   {
    "duration": 233,
    "start_time": "2022-04-16T20:08:40.297Z"
   },
   {
    "duration": 1051,
    "start_time": "2022-04-17T09:14:31.729Z"
   },
   {
    "duration": 45,
    "start_time": "2022-04-17T09:14:32.782Z"
   },
   {
    "duration": 13,
    "start_time": "2022-04-17T09:14:32.829Z"
   },
   {
    "duration": 9,
    "start_time": "2022-04-17T09:14:32.845Z"
   },
   {
    "duration": 8,
    "start_time": "2022-04-17T09:14:32.856Z"
   },
   {
    "duration": 16,
    "start_time": "2022-04-17T09:14:32.865Z"
   },
   {
    "duration": 2,
    "start_time": "2022-04-17T09:14:32.883Z"
   },
   {
    "duration": 16,
    "start_time": "2022-04-17T09:14:32.886Z"
   },
   {
    "duration": 20,
    "start_time": "2022-04-17T09:14:32.904Z"
   },
   {
    "duration": 6,
    "start_time": "2022-04-17T09:14:32.926Z"
   },
   {
    "duration": 7,
    "start_time": "2022-04-17T09:14:32.933Z"
   },
   {
    "duration": 7,
    "start_time": "2022-04-17T09:14:32.941Z"
   },
   {
    "duration": 10,
    "start_time": "2022-04-17T09:14:32.949Z"
   },
   {
    "duration": 10,
    "start_time": "2022-04-17T09:14:32.960Z"
   },
   {
    "duration": 4,
    "start_time": "2022-04-17T09:14:32.972Z"
   },
   {
    "duration": 7,
    "start_time": "2022-04-17T09:14:32.977Z"
   },
   {
    "duration": 46,
    "start_time": "2022-04-17T09:14:32.985Z"
   },
   {
    "duration": 12,
    "start_time": "2022-04-17T09:14:33.032Z"
   },
   {
    "duration": 12,
    "start_time": "2022-04-17T09:14:33.045Z"
   },
   {
    "duration": 2,
    "start_time": "2022-04-17T09:14:33.059Z"
   },
   {
    "duration": 171,
    "start_time": "2022-04-17T09:14:33.063Z"
   },
   {
    "duration": 15,
    "start_time": "2022-04-17T09:14:33.236Z"
   },
   {
    "duration": 6,
    "start_time": "2022-04-17T09:14:33.252Z"
   },
   {
    "duration": 269,
    "start_time": "2022-04-17T09:14:33.259Z"
   },
   {
    "duration": 14,
    "start_time": "2022-04-17T09:14:33.529Z"
   },
   {
    "duration": 21,
    "start_time": "2022-04-17T09:14:33.544Z"
   },
   {
    "duration": 225,
    "start_time": "2022-04-17T09:14:33.567Z"
   },
   {
    "duration": 3,
    "start_time": "2022-04-17T09:14:33.795Z"
   },
   {
    "duration": 104,
    "start_time": "2022-04-17T09:14:33.800Z"
   },
   {
    "duration": 101,
    "start_time": "2022-04-17T09:14:33.906Z"
   },
   {
    "duration": 14,
    "start_time": "2022-04-17T09:14:34.009Z"
   },
   {
    "duration": 144,
    "start_time": "2022-04-17T09:14:34.025Z"
   },
   {
    "duration": 143,
    "start_time": "2022-04-17T09:14:34.170Z"
   },
   {
    "duration": 143,
    "start_time": "2022-04-17T09:14:34.315Z"
   },
   {
    "duration": 193,
    "start_time": "2022-04-17T09:14:34.460Z"
   },
   {
    "duration": 137,
    "start_time": "2022-04-17T09:14:34.654Z"
   },
   {
    "duration": 134,
    "start_time": "2022-04-17T09:14:34.792Z"
   },
   {
    "duration": 157,
    "start_time": "2022-04-17T09:14:34.927Z"
   },
   {
    "duration": 9,
    "start_time": "2022-04-17T09:14:35.086Z"
   },
   {
    "duration": 141,
    "start_time": "2022-04-17T09:14:35.097Z"
   },
   {
    "duration": 12,
    "start_time": "2022-04-17T09:14:35.240Z"
   },
   {
    "duration": 4,
    "start_time": "2022-04-17T09:14:35.254Z"
   },
   {
    "duration": 768,
    "start_time": "2022-04-17T09:14:35.259Z"
   },
   {
    "duration": 1097,
    "start_time": "2022-04-17T09:14:36.029Z"
   },
   {
    "duration": 755,
    "start_time": "2022-04-17T09:14:37.128Z"
   },
   {
    "duration": 5,
    "start_time": "2022-04-17T09:14:37.884Z"
   },
   {
    "duration": 12,
    "start_time": "2022-04-17T09:14:37.891Z"
   },
   {
    "duration": 22,
    "start_time": "2022-04-17T09:14:37.905Z"
   },
   {
    "duration": 12,
    "start_time": "2022-04-17T09:14:37.928Z"
   },
   {
    "duration": 1061,
    "start_time": "2022-08-26T18:20:50.414Z"
   },
   {
    "duration": 196,
    "start_time": "2022-08-26T18:21:29.403Z"
   },
   {
    "duration": 15,
    "start_time": "2022-08-26T18:21:36.761Z"
   },
   {
    "duration": 3,
    "start_time": "2022-08-26T18:22:13.767Z"
   },
   {
    "duration": 4,
    "start_time": "2022-08-26T18:22:45.271Z"
   },
   {
    "duration": 3,
    "start_time": "2022-08-26T18:23:01.091Z"
   },
   {
    "duration": 4,
    "start_time": "2022-08-26T18:23:01.804Z"
   },
   {
    "duration": 15,
    "start_time": "2022-08-26T18:24:01.399Z"
   },
   {
    "duration": 3,
    "start_time": "2022-08-26T18:24:02.949Z"
   },
   {
    "duration": 3,
    "start_time": "2022-08-26T18:24:30.094Z"
   },
   {
    "duration": 10,
    "start_time": "2022-08-26T18:25:07.333Z"
   },
   {
    "duration": 2,
    "start_time": "2022-08-26T18:25:12.950Z"
   },
   {
    "duration": 14,
    "start_time": "2022-08-26T18:25:13.316Z"
   },
   {
    "duration": 3,
    "start_time": "2022-08-26T18:25:21.782Z"
   },
   {
    "duration": 10,
    "start_time": "2022-08-26T18:25:24.252Z"
   },
   {
    "duration": 15,
    "start_time": "2022-08-26T18:25:50.247Z"
   },
   {
    "duration": 8,
    "start_time": "2022-08-26T18:26:02.044Z"
   },
   {
    "duration": 6,
    "start_time": "2022-08-26T18:26:24.159Z"
   },
   {
    "duration": 4,
    "start_time": "2022-08-26T18:26:37.038Z"
   },
   {
    "duration": 4,
    "start_time": "2022-08-26T18:26:45.105Z"
   },
   {
    "duration": 5,
    "start_time": "2022-08-26T18:27:03.184Z"
   },
   {
    "duration": 4,
    "start_time": "2022-08-26T18:27:19.119Z"
   },
   {
    "duration": 9,
    "start_time": "2022-08-26T18:27:59.582Z"
   },
   {
    "duration": 7,
    "start_time": "2022-08-26T18:30:33.133Z"
   },
   {
    "duration": 5,
    "start_time": "2022-08-26T18:30:34.741Z"
   },
   {
    "duration": 9,
    "start_time": "2022-08-26T18:30:36.004Z"
   },
   {
    "duration": 5,
    "start_time": "2022-08-26T18:31:09.608Z"
   },
   {
    "duration": 6,
    "start_time": "2022-08-26T18:31:33.894Z"
   },
   {
    "duration": 13,
    "start_time": "2022-08-26T18:31:42.594Z"
   },
   {
    "duration": 12,
    "start_time": "2022-08-26T18:32:06.991Z"
   },
   {
    "duration": 20,
    "start_time": "2022-08-26T18:32:56.791Z"
   },
   {
    "duration": 3,
    "start_time": "2022-08-26T18:33:41.365Z"
   },
   {
    "duration": 3,
    "start_time": "2022-08-26T18:35:07.999Z"
   },
   {
    "duration": 168,
    "start_time": "2022-08-26T18:35:09.549Z"
   },
   {
    "duration": 22,
    "start_time": "2022-08-26T18:35:32.268Z"
   },
   {
    "duration": 8,
    "start_time": "2022-08-26T18:35:40.190Z"
   },
   {
    "duration": 278,
    "start_time": "2022-08-26T18:36:01.246Z"
   },
   {
    "duration": 248,
    "start_time": "2022-08-26T18:36:30.431Z"
   },
   {
    "duration": 15,
    "start_time": "2022-08-26T18:37:15.457Z"
   },
   {
    "duration": 13,
    "start_time": "2022-08-26T18:37:22.581Z"
   },
   {
    "duration": 23,
    "start_time": "2022-08-26T18:37:39.539Z"
   },
   {
    "duration": 263,
    "start_time": "2022-08-26T18:38:09.262Z"
   },
   {
    "duration": 4,
    "start_time": "2022-08-26T18:38:53.867Z"
   },
   {
    "duration": 98,
    "start_time": "2022-08-26T18:38:55.244Z"
   },
   {
    "duration": 3,
    "start_time": "2022-08-26T18:39:10.175Z"
   },
   {
    "duration": 103,
    "start_time": "2022-08-26T18:39:11.836Z"
   },
   {
    "duration": 3,
    "start_time": "2022-08-26T18:40:17.797Z"
   },
   {
    "duration": 3,
    "start_time": "2022-08-26T18:40:22.349Z"
   },
   {
    "duration": 88,
    "start_time": "2022-08-26T18:40:23.720Z"
   },
   {
    "duration": 4,
    "start_time": "2022-08-26T18:41:47.533Z"
   },
   {
    "duration": 119,
    "start_time": "2022-08-26T18:41:48.950Z"
   },
   {
    "duration": 3,
    "start_time": "2022-08-26T18:41:56.981Z"
   },
   {
    "duration": 106,
    "start_time": "2022-08-26T18:41:58.029Z"
   },
   {
    "duration": 3,
    "start_time": "2022-08-26T18:42:02.461Z"
   },
   {
    "duration": 177,
    "start_time": "2022-08-26T18:42:03.447Z"
   },
   {
    "duration": 3,
    "start_time": "2022-08-26T18:42:08.655Z"
   },
   {
    "duration": 119,
    "start_time": "2022-08-26T18:42:09.196Z"
   },
   {
    "duration": 126,
    "start_time": "2022-08-26T18:42:20.502Z"
   },
   {
    "duration": 124,
    "start_time": "2022-08-26T18:42:28.301Z"
   },
   {
    "duration": 114,
    "start_time": "2022-08-26T18:42:29.046Z"
   },
   {
    "duration": 3,
    "start_time": "2022-08-26T18:43:22.317Z"
   },
   {
    "duration": 157,
    "start_time": "2022-08-26T18:43:22.965Z"
   },
   {
    "duration": 147,
    "start_time": "2022-08-26T18:43:30.953Z"
   },
   {
    "duration": 179,
    "start_time": "2022-08-26T18:43:40.197Z"
   },
   {
    "duration": 166,
    "start_time": "2022-08-26T18:43:46.502Z"
   },
   {
    "duration": 170,
    "start_time": "2022-08-26T18:43:52.685Z"
   },
   {
    "duration": 143,
    "start_time": "2022-08-26T18:44:02.837Z"
   },
   {
    "duration": 129,
    "start_time": "2022-08-26T18:44:15.861Z"
   },
   {
    "duration": 211,
    "start_time": "2022-08-26T18:44:23.318Z"
   },
   {
    "duration": 2,
    "start_time": "2022-08-26T18:47:31.736Z"
   },
   {
    "duration": 20,
    "start_time": "2022-08-26T18:48:23.580Z"
   },
   {
    "duration": 3,
    "start_time": "2022-08-26T18:51:10.270Z"
   },
   {
    "duration": 16,
    "start_time": "2022-08-26T18:51:44.016Z"
   },
   {
    "duration": 2,
    "start_time": "2022-08-26T18:51:53.457Z"
   },
   {
    "duration": 97,
    "start_time": "2022-08-26T18:51:54.173Z"
   },
   {
    "duration": 10,
    "start_time": "2022-08-26T18:52:34.734Z"
   },
   {
    "duration": 11,
    "start_time": "2022-08-26T18:53:00.478Z"
   },
   {
    "duration": 12,
    "start_time": "2022-08-26T18:53:20.704Z"
   },
   {
    "duration": 1276,
    "start_time": "2022-08-26T18:58:47.617Z"
   },
   {
    "duration": 12,
    "start_time": "2022-08-26T18:59:08.751Z"
   },
   {
    "duration": 11,
    "start_time": "2022-08-26T18:59:21.366Z"
   },
   {
    "duration": 177,
    "start_time": "2022-08-26T19:02:14.217Z"
   },
   {
    "duration": 186,
    "start_time": "2022-08-26T19:02:19.950Z"
   },
   {
    "duration": 4,
    "start_time": "2022-08-26T19:03:55.791Z"
   },
   {
    "duration": 4,
    "start_time": "2022-08-26T19:04:10.823Z"
   },
   {
    "duration": 170,
    "start_time": "2022-08-26T19:04:24.764Z"
   },
   {
    "duration": 179,
    "start_time": "2022-08-26T19:04:41.484Z"
   },
   {
    "duration": 160,
    "start_time": "2022-08-26T19:05:43.863Z"
   },
   {
    "duration": 4,
    "start_time": "2022-08-26T19:09:44.476Z"
   },
   {
    "duration": 718,
    "start_time": "2022-08-26T19:10:00.749Z"
   },
   {
    "duration": 757,
    "start_time": "2022-08-26T19:10:09.736Z"
   },
   {
    "duration": 644,
    "start_time": "2022-08-26T19:10:14.921Z"
   },
   {
    "duration": 5,
    "start_time": "2022-08-26T19:11:37.382Z"
   },
   {
    "duration": 9,
    "start_time": "2022-08-26T19:12:13.831Z"
   },
   {
    "duration": 9,
    "start_time": "2022-08-26T19:12:28.461Z"
   },
   {
    "duration": 9,
    "start_time": "2022-08-26T19:14:34.086Z"
   },
   {
    "duration": 1102,
    "start_time": "2022-08-26T19:17:51.698Z"
   },
   {
    "duration": 79,
    "start_time": "2022-08-26T19:17:52.801Z"
   },
   {
    "duration": 12,
    "start_time": "2022-08-26T19:17:52.882Z"
   },
   {
    "duration": 3,
    "start_time": "2022-08-26T19:17:52.896Z"
   },
   {
    "duration": 36,
    "start_time": "2022-08-26T19:17:52.901Z"
   },
   {
    "duration": 11,
    "start_time": "2022-08-26T19:17:52.938Z"
   },
   {
    "duration": 6,
    "start_time": "2022-08-26T19:17:52.950Z"
   },
   {
    "duration": 14,
    "start_time": "2022-08-26T19:17:52.957Z"
   },
   {
    "duration": 14,
    "start_time": "2022-08-26T19:17:52.973Z"
   },
   {
    "duration": 5,
    "start_time": "2022-08-26T19:17:52.990Z"
   },
   {
    "duration": 6,
    "start_time": "2022-08-26T19:17:52.996Z"
   },
   {
    "duration": 32,
    "start_time": "2022-08-26T19:17:53.004Z"
   },
   {
    "duration": 8,
    "start_time": "2022-08-26T19:17:53.037Z"
   },
   {
    "duration": 3,
    "start_time": "2022-08-26T19:17:53.047Z"
   },
   {
    "duration": 7,
    "start_time": "2022-08-26T19:17:53.052Z"
   },
   {
    "duration": 18,
    "start_time": "2022-08-26T19:17:53.060Z"
   },
   {
    "duration": 11,
    "start_time": "2022-08-26T19:17:53.079Z"
   },
   {
    "duration": 13,
    "start_time": "2022-08-26T19:17:53.091Z"
   },
   {
    "duration": 8,
    "start_time": "2022-08-26T19:17:53.108Z"
   },
   {
    "duration": 226,
    "start_time": "2022-08-26T19:17:53.124Z"
   },
   {
    "duration": 20,
    "start_time": "2022-08-26T19:17:53.352Z"
   },
   {
    "duration": 7,
    "start_time": "2022-08-26T19:17:53.374Z"
   },
   {
    "duration": 299,
    "start_time": "2022-08-26T19:17:53.382Z"
   },
   {
    "duration": 28,
    "start_time": "2022-08-26T19:17:53.683Z"
   },
   {
    "duration": 29,
    "start_time": "2022-08-26T19:17:53.713Z"
   },
   {
    "duration": 253,
    "start_time": "2022-08-26T19:17:53.744Z"
   },
   {
    "duration": 8,
    "start_time": "2022-08-26T19:17:53.998Z"
   },
   {
    "duration": 117,
    "start_time": "2022-08-26T19:17:54.008Z"
   },
   {
    "duration": 115,
    "start_time": "2022-08-26T19:17:54.126Z"
   },
   {
    "duration": 3,
    "start_time": "2022-08-26T19:17:54.243Z"
   },
   {
    "duration": 170,
    "start_time": "2022-08-26T19:17:54.248Z"
   },
   {
    "duration": 152,
    "start_time": "2022-08-26T19:17:54.419Z"
   },
   {
    "duration": 172,
    "start_time": "2022-08-26T19:17:54.572Z"
   },
   {
    "duration": 219,
    "start_time": "2022-08-26T19:17:54.746Z"
   },
   {
    "duration": 144,
    "start_time": "2022-08-26T19:17:54.967Z"
   },
   {
    "duration": 137,
    "start_time": "2022-08-26T19:17:55.115Z"
   },
   {
    "duration": 3,
    "start_time": "2022-08-26T19:17:55.254Z"
   },
   {
    "duration": 197,
    "start_time": "2022-08-26T19:17:55.258Z"
   },
   {
    "duration": 184,
    "start_time": "2022-08-26T19:17:55.457Z"
   },
   {
    "duration": 4,
    "start_time": "2022-08-26T19:17:55.643Z"
   },
   {
    "duration": 768,
    "start_time": "2022-08-26T19:17:55.649Z"
   },
   {
    "duration": 683,
    "start_time": "2022-08-26T19:17:56.418Z"
   },
   {
    "duration": 653,
    "start_time": "2022-08-26T19:17:57.107Z"
   },
   {
    "duration": 5,
    "start_time": "2022-08-26T19:17:57.762Z"
   },
   {
    "duration": 12,
    "start_time": "2022-08-26T19:17:57.768Z"
   },
   {
    "duration": 11,
    "start_time": "2022-08-26T19:17:57.782Z"
   },
   {
    "duration": 23,
    "start_time": "2022-08-26T19:17:57.794Z"
   }
  ],
  "kernelspec": {
   "display_name": "Python 3 (ipykernel)",
   "language": "python",
   "name": "python3"
  },
  "language_info": {
   "codemirror_mode": {
    "name": "ipython",
    "version": 3
   },
   "file_extension": ".py",
   "mimetype": "text/x-python",
   "name": "python",
   "nbconvert_exporter": "python",
   "pygments_lexer": "ipython3",
   "version": "3.9.7"
  },
  "toc": {
   "base_numbering": 1,
   "nav_menu": {},
   "number_sections": true,
   "sideBar": true,
   "skip_h1_title": true,
   "title_cell": "Table of Contents",
   "title_sidebar": "Contents",
   "toc_cell": false,
   "toc_position": {
    "height": "calc(100% - 180px)",
    "left": "10px",
    "top": "150px",
    "width": "318.391px"
   },
   "toc_section_display": true,
   "toc_window_display": true
  }
 },
 "nbformat": 4,
 "nbformat_minor": 2
}
