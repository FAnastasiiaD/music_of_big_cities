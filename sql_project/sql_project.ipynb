{
 "cells": [
  {
   "cell_type": "markdown",
   "metadata": {},
   "source": [
    "# Проект по SQL"
   ]
  },
  {
   "cell_type": "markdown",
   "metadata": {},
   "source": [
    "## Шаг 1. Подключение к базе данных"
   ]
  },
  {
   "cell_type": "code",
   "execution_count": 1,
   "metadata": {},
   "outputs": [],
   "source": [
    "# импорт библиотек\n",
    "import pandas as pd\n",
    "from sqlalchemy import create_engine\n",
    "\n",
    "\n",
    "# устанавка параметров\n",
    "db_config = {'user': ###, # имя пользователя\n",
    "             'pwd': ###, # пароль\n",
    "             'host': ###,\n",
    "             'port': ###, # порт подключения\n",
    "             'db': ###} # название базы данных\n",
    "\n",
    "connection_string = 'postgresql://{}:{}@{}:{}/{}'.format(db_config['user'],\n",
    "                                                         db_config['pwd'],\n",
    "                                                         db_config['host'],\n",
    "                                                         db_config['port'],\n",
    "                                                         db_config['db'])\n",
    "# сохранение коннектора\n",
    "engine = create_engine(connection_string, connect_args={'sslmode':'require'})"
   ]
  },
  {
   "cell_type": "markdown",
   "metadata": {},
   "source": [
    "### Функция для запрсов"
   ]
  },
  {
   "cell_type": "code",
   "execution_count": 2,
   "metadata": {},
   "outputs": [],
   "source": [
    "# функция для запросов\n",
    "def q(query):\n",
    "    return display(pd.io.sql.read_sql(query, con = engine))"
   ]
  },
  {
   "cell_type": "markdown",
   "metadata": {},
   "source": [
    "## Шаг 2. Обзор данных"
   ]
  },
  {
   "cell_type": "code",
   "execution_count": 3,
   "metadata": {},
   "outputs": [
    {
     "data": {
      "text/html": [
       "<div>\n",
       "<style scoped>\n",
       "    .dataframe tbody tr th:only-of-type {\n",
       "        vertical-align: middle;\n",
       "    }\n",
       "\n",
       "    .dataframe tbody tr th {\n",
       "        vertical-align: top;\n",
       "    }\n",
       "\n",
       "    .dataframe thead th {\n",
       "        text-align: right;\n",
       "    }\n",
       "</style>\n",
       "<table border=\"1\" class=\"dataframe\">\n",
       "  <thead>\n",
       "    <tr style=\"text-align: right;\">\n",
       "      <th></th>\n",
       "      <th>book_id</th>\n",
       "      <th>author_id</th>\n",
       "      <th>title</th>\n",
       "      <th>num_pages</th>\n",
       "      <th>publication_date</th>\n",
       "      <th>publisher_id</th>\n",
       "    </tr>\n",
       "  </thead>\n",
       "  <tbody>\n",
       "    <tr>\n",
       "      <th>0</th>\n",
       "      <td>1</td>\n",
       "      <td>546</td>\n",
       "      <td>'Salem's Lot</td>\n",
       "      <td>594</td>\n",
       "      <td>2005-11-01</td>\n",
       "      <td>93</td>\n",
       "    </tr>\n",
       "    <tr>\n",
       "      <th>1</th>\n",
       "      <td>2</td>\n",
       "      <td>465</td>\n",
       "      <td>1 000 Places to See Before You Die</td>\n",
       "      <td>992</td>\n",
       "      <td>2003-05-22</td>\n",
       "      <td>336</td>\n",
       "    </tr>\n",
       "    <tr>\n",
       "      <th>2</th>\n",
       "      <td>3</td>\n",
       "      <td>407</td>\n",
       "      <td>13 Little Blue Envelopes (Little Blue Envelope...</td>\n",
       "      <td>322</td>\n",
       "      <td>2010-12-21</td>\n",
       "      <td>135</td>\n",
       "    </tr>\n",
       "    <tr>\n",
       "      <th>3</th>\n",
       "      <td>4</td>\n",
       "      <td>82</td>\n",
       "      <td>1491: New Revelations of the Americas Before C...</td>\n",
       "      <td>541</td>\n",
       "      <td>2006-10-10</td>\n",
       "      <td>309</td>\n",
       "    </tr>\n",
       "    <tr>\n",
       "      <th>4</th>\n",
       "      <td>5</td>\n",
       "      <td>125</td>\n",
       "      <td>1776</td>\n",
       "      <td>386</td>\n",
       "      <td>2006-07-04</td>\n",
       "      <td>268</td>\n",
       "    </tr>\n",
       "  </tbody>\n",
       "</table>\n",
       "</div>"
      ],
      "text/plain": [
       "   book_id  author_id                                              title  \\\n",
       "0        1        546                                       'Salem's Lot   \n",
       "1        2        465                 1 000 Places to See Before You Die   \n",
       "2        3        407  13 Little Blue Envelopes (Little Blue Envelope...   \n",
       "3        4         82  1491: New Revelations of the Americas Before C...   \n",
       "4        5        125                                               1776   \n",
       "\n",
       "   num_pages publication_date  publisher_id  \n",
       "0        594       2005-11-01            93  \n",
       "1        992       2003-05-22           336  \n",
       "2        322       2010-12-21           135  \n",
       "3        541       2006-10-10           309  \n",
       "4        386       2006-07-04           268  "
      ]
     },
     "metadata": {},
     "output_type": "display_data"
    }
   ],
   "source": [
    "# таблица books\n",
    "q('''SELECT * \n",
    "     FROM books \n",
    "     LIMIT 5;''')"
   ]
  },
  {
   "cell_type": "code",
   "execution_count": 4,
   "metadata": {},
   "outputs": [
    {
     "data": {
      "text/html": [
       "<div>\n",
       "<style scoped>\n",
       "    .dataframe tbody tr th:only-of-type {\n",
       "        vertical-align: middle;\n",
       "    }\n",
       "\n",
       "    .dataframe tbody tr th {\n",
       "        vertical-align: top;\n",
       "    }\n",
       "\n",
       "    .dataframe thead th {\n",
       "        text-align: right;\n",
       "    }\n",
       "</style>\n",
       "<table border=\"1\" class=\"dataframe\">\n",
       "  <thead>\n",
       "    <tr style=\"text-align: right;\">\n",
       "      <th></th>\n",
       "      <th>author_id</th>\n",
       "      <th>author</th>\n",
       "    </tr>\n",
       "  </thead>\n",
       "  <tbody>\n",
       "    <tr>\n",
       "      <th>0</th>\n",
       "      <td>1</td>\n",
       "      <td>A.S. Byatt</td>\n",
       "    </tr>\n",
       "    <tr>\n",
       "      <th>1</th>\n",
       "      <td>2</td>\n",
       "      <td>Aesop/Laura Harris/Laura Gibbs</td>\n",
       "    </tr>\n",
       "    <tr>\n",
       "      <th>2</th>\n",
       "      <td>3</td>\n",
       "      <td>Agatha Christie</td>\n",
       "    </tr>\n",
       "    <tr>\n",
       "      <th>3</th>\n",
       "      <td>4</td>\n",
       "      <td>Alan Brennert</td>\n",
       "    </tr>\n",
       "    <tr>\n",
       "      <th>4</th>\n",
       "      <td>5</td>\n",
       "      <td>Alan Moore/David   Lloyd</td>\n",
       "    </tr>\n",
       "  </tbody>\n",
       "</table>\n",
       "</div>"
      ],
      "text/plain": [
       "   author_id                          author\n",
       "0          1                      A.S. Byatt\n",
       "1          2  Aesop/Laura Harris/Laura Gibbs\n",
       "2          3                 Agatha Christie\n",
       "3          4                   Alan Brennert\n",
       "4          5        Alan Moore/David   Lloyd"
      ]
     },
     "metadata": {},
     "output_type": "display_data"
    }
   ],
   "source": [
    "# таблица authors\n",
    "q('''SELECT * \n",
    "     FROM authors \n",
    "     LIMIT 5;''')"
   ]
  },
  {
   "cell_type": "code",
   "execution_count": 5,
   "metadata": {},
   "outputs": [
    {
     "data": {
      "text/html": [
       "<div>\n",
       "<style scoped>\n",
       "    .dataframe tbody tr th:only-of-type {\n",
       "        vertical-align: middle;\n",
       "    }\n",
       "\n",
       "    .dataframe tbody tr th {\n",
       "        vertical-align: top;\n",
       "    }\n",
       "\n",
       "    .dataframe thead th {\n",
       "        text-align: right;\n",
       "    }\n",
       "</style>\n",
       "<table border=\"1\" class=\"dataframe\">\n",
       "  <thead>\n",
       "    <tr style=\"text-align: right;\">\n",
       "      <th></th>\n",
       "      <th>publisher_id</th>\n",
       "      <th>publisher</th>\n",
       "    </tr>\n",
       "  </thead>\n",
       "  <tbody>\n",
       "    <tr>\n",
       "      <th>0</th>\n",
       "      <td>1</td>\n",
       "      <td>Ace</td>\n",
       "    </tr>\n",
       "    <tr>\n",
       "      <th>1</th>\n",
       "      <td>2</td>\n",
       "      <td>Ace Book</td>\n",
       "    </tr>\n",
       "    <tr>\n",
       "      <th>2</th>\n",
       "      <td>3</td>\n",
       "      <td>Ace Books</td>\n",
       "    </tr>\n",
       "    <tr>\n",
       "      <th>3</th>\n",
       "      <td>4</td>\n",
       "      <td>Ace Hardcover</td>\n",
       "    </tr>\n",
       "    <tr>\n",
       "      <th>4</th>\n",
       "      <td>5</td>\n",
       "      <td>Addison Wesley Publishing Company</td>\n",
       "    </tr>\n",
       "  </tbody>\n",
       "</table>\n",
       "</div>"
      ],
      "text/plain": [
       "   publisher_id                          publisher\n",
       "0             1                                Ace\n",
       "1             2                           Ace Book\n",
       "2             3                          Ace Books\n",
       "3             4                      Ace Hardcover\n",
       "4             5  Addison Wesley Publishing Company"
      ]
     },
     "metadata": {},
     "output_type": "display_data"
    }
   ],
   "source": [
    "# таблица publishers\n",
    "q('''SELECT * \n",
    "     FROM publishers \n",
    "     LIMIT 5;''')"
   ]
  },
  {
   "cell_type": "code",
   "execution_count": 6,
   "metadata": {},
   "outputs": [
    {
     "data": {
      "text/html": [
       "<div>\n",
       "<style scoped>\n",
       "    .dataframe tbody tr th:only-of-type {\n",
       "        vertical-align: middle;\n",
       "    }\n",
       "\n",
       "    .dataframe tbody tr th {\n",
       "        vertical-align: top;\n",
       "    }\n",
       "\n",
       "    .dataframe thead th {\n",
       "        text-align: right;\n",
       "    }\n",
       "</style>\n",
       "<table border=\"1\" class=\"dataframe\">\n",
       "  <thead>\n",
       "    <tr style=\"text-align: right;\">\n",
       "      <th></th>\n",
       "      <th>rating_id</th>\n",
       "      <th>book_id</th>\n",
       "      <th>username</th>\n",
       "      <th>rating</th>\n",
       "    </tr>\n",
       "  </thead>\n",
       "  <tbody>\n",
       "    <tr>\n",
       "      <th>0</th>\n",
       "      <td>1</td>\n",
       "      <td>1</td>\n",
       "      <td>ryanfranco</td>\n",
       "      <td>4</td>\n",
       "    </tr>\n",
       "    <tr>\n",
       "      <th>1</th>\n",
       "      <td>2</td>\n",
       "      <td>1</td>\n",
       "      <td>grantpatricia</td>\n",
       "      <td>2</td>\n",
       "    </tr>\n",
       "    <tr>\n",
       "      <th>2</th>\n",
       "      <td>3</td>\n",
       "      <td>1</td>\n",
       "      <td>brandtandrea</td>\n",
       "      <td>5</td>\n",
       "    </tr>\n",
       "    <tr>\n",
       "      <th>3</th>\n",
       "      <td>4</td>\n",
       "      <td>2</td>\n",
       "      <td>lorichen</td>\n",
       "      <td>3</td>\n",
       "    </tr>\n",
       "    <tr>\n",
       "      <th>4</th>\n",
       "      <td>5</td>\n",
       "      <td>2</td>\n",
       "      <td>mariokeller</td>\n",
       "      <td>2</td>\n",
       "    </tr>\n",
       "  </tbody>\n",
       "</table>\n",
       "</div>"
      ],
      "text/plain": [
       "   rating_id  book_id       username  rating\n",
       "0          1        1     ryanfranco       4\n",
       "1          2        1  grantpatricia       2\n",
       "2          3        1   brandtandrea       5\n",
       "3          4        2       lorichen       3\n",
       "4          5        2    mariokeller       2"
      ]
     },
     "metadata": {},
     "output_type": "display_data"
    }
   ],
   "source": [
    "# таблица ratings\n",
    "q('''SELECT * \n",
    "     FROM ratings\n",
    "     LIMIT 5;''')"
   ]
  },
  {
   "cell_type": "code",
   "execution_count": 7,
   "metadata": {},
   "outputs": [
    {
     "data": {
      "text/html": [
       "<div>\n",
       "<style scoped>\n",
       "    .dataframe tbody tr th:only-of-type {\n",
       "        vertical-align: middle;\n",
       "    }\n",
       "\n",
       "    .dataframe tbody tr th {\n",
       "        vertical-align: top;\n",
       "    }\n",
       "\n",
       "    .dataframe thead th {\n",
       "        text-align: right;\n",
       "    }\n",
       "</style>\n",
       "<table border=\"1\" class=\"dataframe\">\n",
       "  <thead>\n",
       "    <tr style=\"text-align: right;\">\n",
       "      <th></th>\n",
       "      <th>review_id</th>\n",
       "      <th>book_id</th>\n",
       "      <th>username</th>\n",
       "      <th>text</th>\n",
       "    </tr>\n",
       "  </thead>\n",
       "  <tbody>\n",
       "    <tr>\n",
       "      <th>0</th>\n",
       "      <td>1</td>\n",
       "      <td>1</td>\n",
       "      <td>brandtandrea</td>\n",
       "      <td>Mention society tell send professor analysis. ...</td>\n",
       "    </tr>\n",
       "    <tr>\n",
       "      <th>1</th>\n",
       "      <td>2</td>\n",
       "      <td>1</td>\n",
       "      <td>ryanfranco</td>\n",
       "      <td>Foot glass pretty audience hit themselves. Amo...</td>\n",
       "    </tr>\n",
       "    <tr>\n",
       "      <th>2</th>\n",
       "      <td>3</td>\n",
       "      <td>2</td>\n",
       "      <td>lorichen</td>\n",
       "      <td>Listen treat keep worry. Miss husband tax but ...</td>\n",
       "    </tr>\n",
       "    <tr>\n",
       "      <th>3</th>\n",
       "      <td>4</td>\n",
       "      <td>3</td>\n",
       "      <td>johnsonamanda</td>\n",
       "      <td>Finally month interesting blue could nature cu...</td>\n",
       "    </tr>\n",
       "    <tr>\n",
       "      <th>4</th>\n",
       "      <td>5</td>\n",
       "      <td>3</td>\n",
       "      <td>scotttamara</td>\n",
       "      <td>Nation purpose heavy give wait song will. List...</td>\n",
       "    </tr>\n",
       "  </tbody>\n",
       "</table>\n",
       "</div>"
      ],
      "text/plain": [
       "   review_id  book_id       username  \\\n",
       "0          1        1   brandtandrea   \n",
       "1          2        1     ryanfranco   \n",
       "2          3        2       lorichen   \n",
       "3          4        3  johnsonamanda   \n",
       "4          5        3    scotttamara   \n",
       "\n",
       "                                                text  \n",
       "0  Mention society tell send professor analysis. ...  \n",
       "1  Foot glass pretty audience hit themselves. Amo...  \n",
       "2  Listen treat keep worry. Miss husband tax but ...  \n",
       "3  Finally month interesting blue could nature cu...  \n",
       "4  Nation purpose heavy give wait song will. List...  "
      ]
     },
     "metadata": {},
     "output_type": "display_data"
    }
   ],
   "source": [
    "# таблица reviews\n",
    "q('''SELECT * \n",
    "     FROM reviews\n",
    "     LIMIT 5;''')"
   ]
  },
  {
   "cell_type": "markdown",
   "metadata": {},
   "source": [
    "## Шаг 3. Анализ данных"
   ]
  },
  {
   "cell_type": "markdown",
   "metadata": {},
   "source": [
    "### Количество книг, вышедших после 1 января 2000 года"
   ]
  },
  {
   "cell_type": "code",
   "execution_count": 8,
   "metadata": {},
   "outputs": [
    {
     "data": {
      "text/html": [
       "<div>\n",
       "<style scoped>\n",
       "    .dataframe tbody tr th:only-of-type {\n",
       "        vertical-align: middle;\n",
       "    }\n",
       "\n",
       "    .dataframe tbody tr th {\n",
       "        vertical-align: top;\n",
       "    }\n",
       "\n",
       "    .dataframe thead th {\n",
       "        text-align: right;\n",
       "    }\n",
       "</style>\n",
       "<table border=\"1\" class=\"dataframe\">\n",
       "  <thead>\n",
       "    <tr style=\"text-align: right;\">\n",
       "      <th></th>\n",
       "      <th>count</th>\n",
       "    </tr>\n",
       "  </thead>\n",
       "  <tbody>\n",
       "    <tr>\n",
       "      <th>0</th>\n",
       "      <td>821</td>\n",
       "    </tr>\n",
       "  </tbody>\n",
       "</table>\n",
       "</div>"
      ],
      "text/plain": [
       "   count\n",
       "0    821"
      ]
     },
     "metadata": {},
     "output_type": "display_data"
    }
   ],
   "source": [
    "q('''SELECT COUNT(title)\n",
    "     FROM books\n",
    "     WHERE CAST(publication_date AS date) >= '2000-01-01';''')"
   ]
  },
  {
   "cell_type": "markdown",
   "metadata": {},
   "source": [
    "После 1 января 2000 года вышла 821 книга. "
   ]
  },
  {
   "cell_type": "markdown",
   "metadata": {},
   "source": [
    "Для каждой книги подсчитано количество обзоров и средняя оценка, это может помочь в отборе наиболее популярных книг:\n",
    "- количество обзоров варьируется от 0 до 1120;\n",
    "- средняя оценка варьируется от NaN до 5.0."
   ]
  },
  {
   "cell_type": "markdown",
   "metadata": {},
   "source": [
    "### Определение издательства, которое выпустило наибольшее число книг толще 50 страниц — так будут исключены из анализа брошюры"
   ]
  },
  {
   "cell_type": "code",
   "execution_count": 9,
   "metadata": {},
   "outputs": [
    {
     "data": {
      "text/html": [
       "<div>\n",
       "<style scoped>\n",
       "    .dataframe tbody tr th:only-of-type {\n",
       "        vertical-align: middle;\n",
       "    }\n",
       "\n",
       "    .dataframe tbody tr th {\n",
       "        vertical-align: top;\n",
       "    }\n",
       "\n",
       "    .dataframe thead th {\n",
       "        text-align: right;\n",
       "    }\n",
       "</style>\n",
       "<table border=\"1\" class=\"dataframe\">\n",
       "  <thead>\n",
       "    <tr style=\"text-align: right;\">\n",
       "      <th></th>\n",
       "      <th>publisher</th>\n",
       "    </tr>\n",
       "  </thead>\n",
       "  <tbody>\n",
       "    <tr>\n",
       "      <th>0</th>\n",
       "      <td>Penguin Books</td>\n",
       "    </tr>\n",
       "  </tbody>\n",
       "</table>\n",
       "</div>"
      ],
      "text/plain": [
       "       publisher\n",
       "0  Penguin Books"
      ]
     },
     "metadata": {},
     "output_type": "display_data"
    }
   ],
   "source": [
    "q('''SELECT publisher\n",
    "     FROM\n",
    "         (SELECT p.publisher,\n",
    "                 COUNT(b.book_id) AS count_book\n",
    "         FROM publishers AS p\n",
    "         INNER JOIN books AS b ON p.publisher_id = b.publisher_id\n",
    "         WHERE b.num_pages > 50\n",
    "         GROUP BY p.publisher\n",
    "         ORDER BY count_book DESC) AS q_1\n",
    "      LIMIT 1;''')"
   ]
  },
  {
   "cell_type": "markdown",
   "metadata": {},
   "source": [
    "Издательством, выпустившим наибольшее число книг толще 50 страниц, является `Penguin Books`(42 книги)."
   ]
  },
  {
   "cell_type": "markdown",
   "metadata": {},
   "source": [
    "### Определение автора с самой высокой средней оценкой книг — учитены только книги с 50 и более оценками"
   ]
  },
  {
   "cell_type": "code",
   "execution_count": 10,
   "metadata": {},
   "outputs": [
    {
     "data": {
      "text/html": [
       "<div>\n",
       "<style scoped>\n",
       "    .dataframe tbody tr th:only-of-type {\n",
       "        vertical-align: middle;\n",
       "    }\n",
       "\n",
       "    .dataframe tbody tr th {\n",
       "        vertical-align: top;\n",
       "    }\n",
       "\n",
       "    .dataframe thead th {\n",
       "        text-align: right;\n",
       "    }\n",
       "</style>\n",
       "<table border=\"1\" class=\"dataframe\">\n",
       "  <thead>\n",
       "    <tr style=\"text-align: right;\">\n",
       "      <th></th>\n",
       "      <th>author</th>\n",
       "    </tr>\n",
       "  </thead>\n",
       "  <tbody>\n",
       "    <tr>\n",
       "      <th>0</th>\n",
       "      <td>Diana Gabaldon</td>\n",
       "    </tr>\n",
       "  </tbody>\n",
       "</table>\n",
       "</div>"
      ],
      "text/plain": [
       "           author\n",
       "0  Diana Gabaldon"
      ]
     },
     "metadata": {},
     "output_type": "display_data"
    }
   ],
   "source": [
    "q(''' SELECT author\n",
    "      FROM \n",
    "          (SELECT author,\n",
    "                  avg_rating\n",
    "           FROM\n",
    "               (SELECT a.author,\n",
    "                       COUNT(rt.book_id) AS count_book,\n",
    "                       AVG(rt.rating) AS avg_rating\n",
    "                FROM authors AS a\n",
    "                INNER JOIN books AS b ON a.author_id = b.author_id\n",
    "                INNER JOIN ratings AS rt ON b.book_id = rt.book_id\n",
    "                GROUP BY a.author\n",
    "                ORDER BY count_book DESC) AS q_1\n",
    "            WHERE count_book >= 50\n",
    "            ORDER BY avg_rating DESC) AS q_2\n",
    "        LIMIT 1;''')"
   ]
  },
  {
   "cell_type": "markdown",
   "metadata": {},
   "source": [
    "Автором с самой высокой средней оценкой книг, из книг получивших 50 и более оценок, является `Diana Gabaldon`(оценка 4.3)."
   ]
  },
  {
   "cell_type": "markdown",
   "metadata": {},
   "source": [
    "### Посчет среднего количества обзоров от пользователей, которые поставили больше 50 оценок"
   ]
  },
  {
   "cell_type": "code",
   "execution_count": 11,
   "metadata": {},
   "outputs": [
    {
     "data": {
      "text/html": [
       "<div>\n",
       "<style scoped>\n",
       "    .dataframe tbody tr th:only-of-type {\n",
       "        vertical-align: middle;\n",
       "    }\n",
       "\n",
       "    .dataframe tbody tr th {\n",
       "        vertical-align: top;\n",
       "    }\n",
       "\n",
       "    .dataframe thead th {\n",
       "        text-align: right;\n",
       "    }\n",
       "</style>\n",
       "<table border=\"1\" class=\"dataframe\">\n",
       "  <thead>\n",
       "    <tr style=\"text-align: right;\">\n",
       "      <th></th>\n",
       "      <th>avg_review</th>\n",
       "    </tr>\n",
       "  </thead>\n",
       "  <tbody>\n",
       "    <tr>\n",
       "      <th>0</th>\n",
       "      <td>1423.0</td>\n",
       "    </tr>\n",
       "  </tbody>\n",
       "</table>\n",
       "</div>"
      ],
      "text/plain": [
       "   avg_review\n",
       "0      1423.0"
      ]
     },
     "metadata": {},
     "output_type": "display_data"
    }
   ],
   "source": [
    "q('''SELECT ROUND(AVG(avg_review)) AS avg_review\n",
    "     FROM\n",
    "         (SELECT avg_review\n",
    "          FROM\n",
    "              (SELECT rv.username,\n",
    "                      AVG(rv.review_id) AS avg_review,\n",
    "                      COUNT(rt.rating) AS count_rating\n",
    "               FROM reviews AS rv\n",
    "               INNER JOIN ratings AS rt ON rv.book_id = rt.book_id\n",
    "               GROUP BY rv.username\n",
    "               ORDER BY count_rating DESC) AS q_1\n",
    "          WHERE count_rating > 50\n",
    "          ORDER BY avg_review DESC) AS q_2;''')"
   ]
  },
  {
   "cell_type": "markdown",
   "metadata": {},
   "source": [
    "Среднее количество обзоров от пользователей, поставивших 50 и более оценок, составляет 1423."
   ]
  },
  {
   "cell_type": "markdown",
   "metadata": {},
   "source": [
    "## Шаг 4. Вывод"
   ]
  },
  {
   "cell_type": "markdown",
   "metadata": {},
   "source": [
    "- После 1 января 2000 года вышла 821 книга.\n",
    "\n",
    "- Для каждой книги подсчитано количество обзоров и средняя оценка, это может помочь в отборе наиболее популярных книг:\n",
    "    - количество обзоров варьируется от 0 до 1120;\n",
    "    - средняя оценка варьируется от NaN до 5.0.\n",
    "\n",
    "- Издательством, выпустившим наибольшее число книг толще 50 страниц, является Penguin Books(42 книги).\n",
    "\n",
    "- Автором с самой высокой средней оценкой книг, из книг получивших 50 и более оценок, является Diana Gabaldon(оценка 4.3).\n",
    "\n",
    "- Среднее количество обзоров от пользователей, поставивших 50 и более оценок, составляет 1423."
   ]
  }
 ],
 "metadata": {
  "ExecuteTimeLog": [
   {
    "duration": 5435,
    "start_time": "2022-08-01T21:44:30.714Z"
   },
   {
    "duration": 4,
    "start_time": "2022-08-01T22:11:52.521Z"
   },
   {
    "duration": 2,
    "start_time": "2022-08-01T22:16:22.065Z"
   },
   {
    "duration": 372,
    "start_time": "2022-08-01T22:16:41.329Z"
   },
   {
    "duration": 3,
    "start_time": "2022-08-01T22:17:24.366Z"
   },
   {
    "duration": 126,
    "start_time": "2022-08-01T22:17:25.143Z"
   },
   {
    "duration": 2,
    "start_time": "2022-08-01T22:24:55.273Z"
   },
   {
    "duration": 51,
    "start_time": "2022-08-01T22:29:13.657Z"
   },
   {
    "duration": 3,
    "start_time": "2022-08-01T22:29:17.502Z"
   },
   {
    "duration": 3,
    "start_time": "2022-08-01T22:29:24.678Z"
   },
   {
    "duration": 8,
    "start_time": "2022-08-01T22:29:41.580Z"
   },
   {
    "duration": 130,
    "start_time": "2022-08-01T22:29:48.368Z"
   },
   {
    "duration": 2,
    "start_time": "2022-08-01T22:31:18.495Z"
   },
   {
    "duration": 143,
    "start_time": "2022-08-01T22:31:20.239Z"
   },
   {
    "duration": 91,
    "start_time": "2022-08-01T22:33:31.908Z"
   },
   {
    "duration": 147,
    "start_time": "2022-08-01T22:33:55.247Z"
   },
   {
    "duration": 3,
    "start_time": "2022-08-01T22:35:32.673Z"
   },
   {
    "duration": 47,
    "start_time": "2022-08-01T22:35:49.447Z"
   },
   {
    "duration": 50,
    "start_time": "2022-08-01T22:35:59.273Z"
   },
   {
    "duration": 129,
    "start_time": "2022-08-01T22:36:05.918Z"
   },
   {
    "duration": 124,
    "start_time": "2022-08-01T22:36:55.050Z"
   },
   {
    "duration": 3,
    "start_time": "2022-08-01T22:37:00.438Z"
   },
   {
    "duration": 140,
    "start_time": "2022-08-01T22:37:02.468Z"
   },
   {
    "duration": 3,
    "start_time": "2022-08-01T22:37:21.317Z"
   },
   {
    "duration": 60,
    "start_time": "2022-08-01T22:37:22.719Z"
   },
   {
    "duration": 61,
    "start_time": "2022-08-01T22:37:30.925Z"
   },
   {
    "duration": 62,
    "start_time": "2022-08-01T22:37:40.783Z"
   },
   {
    "duration": 61,
    "start_time": "2022-08-01T22:37:54.397Z"
   },
   {
    "duration": 2,
    "start_time": "2022-08-01T22:38:07.678Z"
   },
   {
    "duration": 120,
    "start_time": "2022-08-01T22:38:08.494Z"
   },
   {
    "duration": 2,
    "start_time": "2022-08-01T22:38:19.217Z"
   },
   {
    "duration": 120,
    "start_time": "2022-08-01T22:38:21.456Z"
   },
   {
    "duration": 4,
    "start_time": "2022-08-01T22:39:57.286Z"
   },
   {
    "duration": 118,
    "start_time": "2022-08-01T22:39:58.783Z"
   },
   {
    "duration": 47,
    "start_time": "2022-08-01T22:40:04.127Z"
   },
   {
    "duration": 57,
    "start_time": "2022-08-01T22:40:11.160Z"
   },
   {
    "duration": 2,
    "start_time": "2022-08-01T22:40:26.024Z"
   },
   {
    "duration": 120,
    "start_time": "2022-08-01T22:40:28.175Z"
   },
   {
    "duration": 3,
    "start_time": "2022-08-01T22:40:50.318Z"
   },
   {
    "duration": 132,
    "start_time": "2022-08-01T22:40:51.430Z"
   },
   {
    "duration": 3,
    "start_time": "2022-08-01T22:40:55.190Z"
   },
   {
    "duration": 122,
    "start_time": "2022-08-01T22:40:55.783Z"
   },
   {
    "duration": 3,
    "start_time": "2022-08-01T22:41:35.855Z"
   },
   {
    "duration": 2,
    "start_time": "2022-08-01T22:41:56.425Z"
   },
   {
    "duration": 59,
    "start_time": "2022-08-01T22:41:58.399Z"
   },
   {
    "duration": 67,
    "start_time": "2022-08-01T22:42:19.644Z"
   },
   {
    "duration": 65,
    "start_time": "2022-08-01T22:42:36.862Z"
   },
   {
    "duration": 60,
    "start_time": "2022-08-01T22:42:51.503Z"
   },
   {
    "duration": 61,
    "start_time": "2022-08-01T22:43:00.584Z"
   },
   {
    "duration": 65,
    "start_time": "2022-08-01T22:43:40.766Z"
   },
   {
    "duration": 3,
    "start_time": "2022-08-01T22:44:13.744Z"
   },
   {
    "duration": 3,
    "start_time": "2022-08-01T22:44:42.641Z"
   },
   {
    "duration": 10,
    "start_time": "2022-08-01T22:44:56.599Z"
   },
   {
    "duration": 9,
    "start_time": "2022-08-01T22:45:11.255Z"
   },
   {
    "duration": 2,
    "start_time": "2022-08-01T22:45:25.369Z"
   },
   {
    "duration": 66,
    "start_time": "2022-08-01T22:45:26.462Z"
   },
   {
    "duration": 65,
    "start_time": "2022-08-01T22:45:45.527Z"
   },
   {
    "duration": 3,
    "start_time": "2022-08-01T22:47:41.370Z"
   },
   {
    "duration": 131,
    "start_time": "2022-08-01T22:47:58.742Z"
   },
   {
    "duration": 10,
    "start_time": "2022-08-01T22:48:07.231Z"
   },
   {
    "duration": 127,
    "start_time": "2022-08-01T22:48:12.514Z"
   },
   {
    "duration": 3,
    "start_time": "2022-08-01T22:48:41.503Z"
   },
   {
    "duration": 120,
    "start_time": "2022-08-01T22:48:42.473Z"
   },
   {
    "duration": 2,
    "start_time": "2022-08-01T22:49:04.711Z"
   },
   {
    "duration": 137,
    "start_time": "2022-08-01T22:49:05.319Z"
   },
   {
    "duration": 2,
    "start_time": "2022-08-01T22:49:18.735Z"
   },
   {
    "duration": 125,
    "start_time": "2022-08-01T22:49:19.552Z"
   },
   {
    "duration": 2,
    "start_time": "2022-08-01T22:49:39.048Z"
   },
   {
    "duration": 136,
    "start_time": "2022-08-01T22:49:39.728Z"
   },
   {
    "duration": 64,
    "start_time": "2022-08-01T22:50:13.720Z"
   },
   {
    "duration": 3,
    "start_time": "2022-08-01T22:50:49.393Z"
   },
   {
    "duration": 65,
    "start_time": "2022-08-01T22:50:50.867Z"
   },
   {
    "duration": 64,
    "start_time": "2022-08-01T22:50:52.662Z"
   },
   {
    "duration": 64,
    "start_time": "2022-08-01T22:51:14.823Z"
   },
   {
    "duration": 64,
    "start_time": "2022-08-01T22:51:43.742Z"
   },
   {
    "duration": 65,
    "start_time": "2022-08-01T22:52:06.969Z"
   },
   {
    "duration": 55,
    "start_time": "2022-08-01T23:02:26.009Z"
   },
   {
    "duration": 3,
    "start_time": "2022-08-01T23:02:42.441Z"
   },
   {
    "duration": 137,
    "start_time": "2022-08-01T23:02:57.216Z"
   },
   {
    "duration": 62,
    "start_time": "2022-08-01T23:04:07.641Z"
   },
   {
    "duration": 3,
    "start_time": "2022-08-01T23:04:15.001Z"
   },
   {
    "duration": 124,
    "start_time": "2022-08-01T23:04:17.600Z"
   },
   {
    "duration": 3,
    "start_time": "2022-08-01T23:05:56.842Z"
   },
   {
    "duration": 134,
    "start_time": "2022-08-01T23:05:57.803Z"
   },
   {
    "duration": 2,
    "start_time": "2022-08-01T23:06:56.018Z"
   },
   {
    "duration": 129,
    "start_time": "2022-08-01T23:12:56.328Z"
   },
   {
    "duration": 134,
    "start_time": "2022-08-01T23:17:12.807Z"
   },
   {
    "duration": 63,
    "start_time": "2022-08-01T23:19:08.398Z"
   },
   {
    "duration": 128,
    "start_time": "2022-08-01T23:24:38.276Z"
   },
   {
    "duration": 151,
    "start_time": "2022-08-01T23:25:02.925Z"
   },
   {
    "duration": 163,
    "start_time": "2022-08-01T23:35:03.563Z"
   },
   {
    "duration": 151,
    "start_time": "2022-08-01T23:35:40.058Z"
   },
   {
    "duration": 69,
    "start_time": "2022-08-01T23:35:50.458Z"
   },
   {
    "duration": 120,
    "start_time": "2022-08-01T23:36:03.746Z"
   },
   {
    "duration": 67,
    "start_time": "2022-08-01T23:36:13.360Z"
   },
   {
    "duration": 68,
    "start_time": "2022-08-01T23:37:26.859Z"
   },
   {
    "duration": 69,
    "start_time": "2022-08-01T23:38:02.779Z"
   },
   {
    "duration": 122,
    "start_time": "2022-08-01T23:47:33.769Z"
   },
   {
    "duration": 68,
    "start_time": "2022-08-01T23:47:39.427Z"
   },
   {
    "duration": 130,
    "start_time": "2022-08-01T23:48:04.115Z"
   },
   {
    "duration": 134,
    "start_time": "2022-08-01T23:48:50.219Z"
   },
   {
    "duration": 64,
    "start_time": "2022-08-01T23:49:23.161Z"
   },
   {
    "duration": 65,
    "start_time": "2022-08-01T23:50:37.186Z"
   },
   {
    "duration": 65,
    "start_time": "2022-08-01T23:50:43.409Z"
   },
   {
    "duration": 63,
    "start_time": "2022-08-01T23:55:39.864Z"
   },
   {
    "duration": 127,
    "start_time": "2022-08-01T23:58:41.025Z"
   },
   {
    "duration": 125,
    "start_time": "2022-08-01T23:58:50.216Z"
   },
   {
    "duration": 147,
    "start_time": "2022-08-01T23:59:00.881Z"
   },
   {
    "duration": 125,
    "start_time": "2022-08-02T00:00:44.769Z"
   },
   {
    "duration": 124,
    "start_time": "2022-08-02T00:01:07.185Z"
   },
   {
    "duration": 125,
    "start_time": "2022-08-02T00:01:28.024Z"
   },
   {
    "duration": 180,
    "start_time": "2022-08-02T00:02:33.394Z"
   },
   {
    "duration": 133,
    "start_time": "2022-08-02T00:03:21.298Z"
   },
   {
    "duration": 133,
    "start_time": "2022-08-02T00:04:11.248Z"
   },
   {
    "duration": 68,
    "start_time": "2022-08-02T00:04:24.370Z"
   },
   {
    "duration": 68,
    "start_time": "2022-08-02T00:06:08.073Z"
   },
   {
    "duration": 68,
    "start_time": "2022-08-02T00:06:48.736Z"
   },
   {
    "duration": 132,
    "start_time": "2022-08-02T00:21:39.913Z"
   },
   {
    "duration": 127,
    "start_time": "2022-08-02T00:22:04.521Z"
   },
   {
    "duration": 137,
    "start_time": "2022-08-02T00:23:35.054Z"
   },
   {
    "duration": 238,
    "start_time": "2022-08-02T00:23:45.648Z"
   },
   {
    "duration": 85,
    "start_time": "2022-08-02T00:23:56.432Z"
   },
   {
    "duration": 85,
    "start_time": "2022-08-02T00:24:17.601Z"
   },
   {
    "duration": 71,
    "start_time": "2022-08-02T00:26:39.855Z"
   },
   {
    "duration": 73,
    "start_time": "2022-08-02T00:27:14.083Z"
   },
   {
    "duration": 132,
    "start_time": "2022-08-02T00:28:24.005Z"
   },
   {
    "duration": 160,
    "start_time": "2022-08-02T00:28:41.975Z"
   },
   {
    "duration": 139,
    "start_time": "2022-08-02T00:28:56.984Z"
   },
   {
    "duration": 73,
    "start_time": "2022-08-02T00:29:26.791Z"
   },
   {
    "duration": 157,
    "start_time": "2022-08-02T00:30:34.288Z"
   },
   {
    "duration": 72,
    "start_time": "2022-08-02T00:30:44.657Z"
   },
   {
    "duration": 70,
    "start_time": "2022-08-02T00:39:13.893Z"
   },
   {
    "duration": 72,
    "start_time": "2022-08-02T00:40:30.806Z"
   },
   {
    "duration": 126,
    "start_time": "2022-08-02T00:54:06.713Z"
   },
   {
    "duration": 71,
    "start_time": "2022-08-02T00:54:50.762Z"
   },
   {
    "duration": 133,
    "start_time": "2022-08-02T00:55:28.968Z"
   },
   {
    "duration": 136,
    "start_time": "2022-08-02T01:02:28.769Z"
   },
   {
    "duration": 132,
    "start_time": "2022-08-02T01:03:39.953Z"
   },
   {
    "duration": 77,
    "start_time": "2022-08-02T01:03:47.675Z"
   },
   {
    "duration": 81,
    "start_time": "2022-08-02T01:06:10.458Z"
   },
   {
    "duration": 75,
    "start_time": "2022-08-02T01:07:43.810Z"
   },
   {
    "duration": 74,
    "start_time": "2022-08-02T01:07:49.457Z"
   },
   {
    "duration": 77,
    "start_time": "2022-08-02T01:08:37.393Z"
   },
   {
    "duration": 67,
    "start_time": "2022-08-02T01:11:24.217Z"
   },
   {
    "duration": 65,
    "start_time": "2022-08-02T01:11:35.526Z"
   },
   {
    "duration": 127,
    "start_time": "2022-08-02T01:13:55.865Z"
   },
   {
    "duration": 151,
    "start_time": "2022-08-02T01:14:13.452Z"
   },
   {
    "duration": 89,
    "start_time": "2022-08-02T01:14:51.050Z"
   },
   {
    "duration": 88,
    "start_time": "2022-08-02T01:15:48.689Z"
   },
   {
    "duration": 178,
    "start_time": "2022-08-02T01:19:09.577Z"
   },
   {
    "duration": 139,
    "start_time": "2022-08-02T01:19:20.225Z"
   },
   {
    "duration": 125,
    "start_time": "2022-08-02T01:19:43.241Z"
   },
   {
    "duration": 101,
    "start_time": "2022-08-02T01:19:52.433Z"
   },
   {
    "duration": 88,
    "start_time": "2022-08-02T01:20:54.681Z"
   },
   {
    "duration": 113,
    "start_time": "2022-08-02T01:23:00.561Z"
   },
   {
    "duration": 109,
    "start_time": "2022-08-02T01:23:25.929Z"
   },
   {
    "duration": 117,
    "start_time": "2022-08-02T01:23:49.961Z"
   },
   {
    "duration": 112,
    "start_time": "2022-08-02T01:23:56.163Z"
   },
   {
    "duration": 115,
    "start_time": "2022-08-02T01:24:08.653Z"
   },
   {
    "duration": 108,
    "start_time": "2022-08-02T01:24:18.713Z"
   },
   {
    "duration": 77,
    "start_time": "2022-08-02T01:29:43.081Z"
   },
   {
    "duration": 77,
    "start_time": "2022-08-02T01:30:01.250Z"
   },
   {
    "duration": 70,
    "start_time": "2022-08-02T01:30:47.218Z"
   },
   {
    "duration": 72,
    "start_time": "2022-08-02T01:31:32.746Z"
   },
   {
    "duration": 69,
    "start_time": "2022-08-02T01:31:55.801Z"
   },
   {
    "duration": 68,
    "start_time": "2022-08-02T01:32:18.794Z"
   },
   {
    "duration": 121,
    "start_time": "2022-08-02T01:32:44.617Z"
   },
   {
    "duration": 115,
    "start_time": "2022-08-02T01:32:49.395Z"
   },
   {
    "duration": 114,
    "start_time": "2022-08-02T01:34:10.803Z"
   },
   {
    "duration": 110,
    "start_time": "2022-08-02T01:34:32.754Z"
   },
   {
    "duration": 5743,
    "start_time": "2022-08-02T01:38:53.024Z"
   },
   {
    "duration": 3,
    "start_time": "2022-08-02T01:38:58.769Z"
   },
   {
    "duration": 8,
    "start_time": "2022-08-02T01:38:58.773Z"
   },
   {
    "duration": 245,
    "start_time": "2022-08-02T01:38:58.782Z"
   },
   {
    "duration": 68,
    "start_time": "2022-08-02T01:38:59.029Z"
   },
   {
    "duration": 68,
    "start_time": "2022-08-02T01:38:59.099Z"
   },
   {
    "duration": 71,
    "start_time": "2022-08-02T01:38:59.169Z"
   },
   {
    "duration": 74,
    "start_time": "2022-08-02T01:38:59.242Z"
   },
   {
    "duration": 69,
    "start_time": "2022-08-02T01:38:59.317Z"
   },
   {
    "duration": 122,
    "start_time": "2022-08-02T01:38:59.388Z"
   },
   {
    "duration": 70,
    "start_time": "2022-08-02T01:38:59.511Z"
   },
   {
    "duration": 72,
    "start_time": "2022-08-02T01:38:59.583Z"
   },
   {
    "duration": 81,
    "start_time": "2022-08-02T01:38:59.656Z"
   },
   {
    "duration": 15062,
    "start_time": "2022-08-02T08:14:53.743Z"
   },
   {
    "duration": 4,
    "start_time": "2022-08-02T08:15:08.807Z"
   },
   {
    "duration": 18,
    "start_time": "2022-08-02T08:15:08.812Z"
   },
   {
    "duration": 122,
    "start_time": "2022-08-02T08:15:08.833Z"
   },
   {
    "duration": 12,
    "start_time": "2022-08-02T08:15:08.957Z"
   },
   {
    "duration": 23,
    "start_time": "2022-08-02T08:15:08.971Z"
   },
   {
    "duration": 13,
    "start_time": "2022-08-02T08:15:08.996Z"
   },
   {
    "duration": 28,
    "start_time": "2022-08-02T08:15:09.011Z"
   },
   {
    "duration": 73,
    "start_time": "2022-08-02T08:15:09.041Z"
   },
   {
    "duration": 47,
    "start_time": "2022-08-02T08:15:09.117Z"
   },
   {
    "duration": 11,
    "start_time": "2022-08-02T08:15:09.166Z"
   },
   {
    "duration": 27,
    "start_time": "2022-08-02T08:15:09.179Z"
   },
   {
    "duration": 21,
    "start_time": "2022-08-02T08:15:09.208Z"
   },
   {
    "duration": 14265,
    "start_time": "2022-08-02T08:17:14.499Z"
   },
   {
    "duration": 2,
    "start_time": "2022-08-02T08:17:28.766Z"
   },
   {
    "duration": 4,
    "start_time": "2022-08-02T08:17:28.770Z"
   },
   {
    "duration": 71,
    "start_time": "2022-08-02T08:17:28.776Z"
   },
   {
    "duration": 9,
    "start_time": "2022-08-02T08:17:28.849Z"
   },
   {
    "duration": 8,
    "start_time": "2022-08-02T08:17:28.860Z"
   },
   {
    "duration": 10,
    "start_time": "2022-08-02T08:17:28.869Z"
   },
   {
    "duration": 10,
    "start_time": "2022-08-02T08:17:28.880Z"
   },
   {
    "duration": 10,
    "start_time": "2022-08-02T08:17:28.892Z"
   },
   {
    "duration": 42,
    "start_time": "2022-08-02T08:17:28.903Z"
   },
   {
    "duration": 9,
    "start_time": "2022-08-02T08:17:28.946Z"
   },
   {
    "duration": 13,
    "start_time": "2022-08-02T08:17:28.957Z"
   },
   {
    "duration": 19,
    "start_time": "2022-08-02T08:17:28.971Z"
   },
   {
    "duration": 58,
    "start_time": "2022-08-02T17:00:15.830Z"
   },
   {
    "duration": 10217,
    "start_time": "2022-08-02T17:00:29.581Z"
   },
   {
    "duration": 4,
    "start_time": "2022-08-02T17:00:39.800Z"
   },
   {
    "duration": 6,
    "start_time": "2022-08-02T17:00:39.806Z"
   },
   {
    "duration": 80,
    "start_time": "2022-08-02T17:00:39.815Z"
   },
   {
    "duration": 12,
    "start_time": "2022-08-02T17:00:39.897Z"
   },
   {
    "duration": 14,
    "start_time": "2022-08-02T17:00:39.910Z"
   },
   {
    "duration": 17,
    "start_time": "2022-08-02T17:00:39.926Z"
   },
   {
    "duration": 14,
    "start_time": "2022-08-02T17:00:39.945Z"
   },
   {
    "duration": 10,
    "start_time": "2022-08-02T17:00:39.961Z"
   },
   {
    "duration": 61,
    "start_time": "2022-08-02T17:00:39.974Z"
   },
   {
    "duration": 14,
    "start_time": "2022-08-02T17:00:40.037Z"
   },
   {
    "duration": 18,
    "start_time": "2022-08-02T17:00:40.053Z"
   },
   {
    "duration": 25,
    "start_time": "2022-08-02T17:00:40.073Z"
   },
   {
    "duration": 48,
    "start_time": "2022-08-02T17:00:47.145Z"
   },
   {
    "duration": 51,
    "start_time": "2022-08-02T17:01:31.182Z"
   },
   {
    "duration": 45,
    "start_time": "2022-08-02T17:01:53.893Z"
   },
   {
    "duration": 41,
    "start_time": "2022-08-02T17:02:06.535Z"
   },
   {
    "duration": 54,
    "start_time": "2022-08-02T17:02:27.825Z"
   },
   {
    "duration": 50,
    "start_time": "2022-08-02T17:02:49.697Z"
   },
   {
    "duration": 52,
    "start_time": "2022-08-02T17:03:03.682Z"
   },
   {
    "duration": 54,
    "start_time": "2022-08-02T17:03:27.355Z"
   },
   {
    "duration": 47,
    "start_time": "2022-08-02T17:03:33.144Z"
   },
   {
    "duration": 23,
    "start_time": "2022-08-02T17:08:48.487Z"
   },
   {
    "duration": 25,
    "start_time": "2022-08-02T17:09:18.829Z"
   },
   {
    "duration": 23,
    "start_time": "2022-08-02T17:09:59.399Z"
   },
   {
    "duration": 10488,
    "start_time": "2022-08-03T14:14:28.347Z"
   },
   {
    "duration": 3,
    "start_time": "2022-08-03T14:14:38.836Z"
   },
   {
    "duration": 8,
    "start_time": "2022-08-03T14:14:38.840Z"
   },
   {
    "duration": 242,
    "start_time": "2022-08-03T14:14:38.849Z"
   },
   {
    "duration": 70,
    "start_time": "2022-08-03T14:14:39.093Z"
   },
   {
    "duration": 68,
    "start_time": "2022-08-03T14:14:39.165Z"
   },
   {
    "duration": 69,
    "start_time": "2022-08-03T14:14:39.235Z"
   },
   {
    "duration": 69,
    "start_time": "2022-08-03T14:14:39.306Z"
   },
   {
    "duration": 69,
    "start_time": "2022-08-03T14:14:39.376Z"
   },
   {
    "duration": 114,
    "start_time": "2022-08-03T14:14:39.447Z"
   },
   {
    "duration": 68,
    "start_time": "2022-08-03T14:14:39.562Z"
   },
   {
    "duration": 72,
    "start_time": "2022-08-03T14:14:39.632Z"
   },
   {
    "duration": 76,
    "start_time": "2022-08-03T14:14:39.706Z"
   },
   {
    "duration": 10074,
    "start_time": "2022-08-03T14:16:05.449Z"
   },
   {
    "duration": 2,
    "start_time": "2022-08-03T14:16:15.525Z"
   },
   {
    "duration": 41,
    "start_time": "2022-08-03T14:16:15.529Z"
   },
   {
    "duration": 256,
    "start_time": "2022-08-03T14:16:15.571Z"
   },
   {
    "duration": 69,
    "start_time": "2022-08-03T14:16:15.830Z"
   },
   {
    "duration": 84,
    "start_time": "2022-08-03T14:16:15.901Z"
   },
   {
    "duration": 70,
    "start_time": "2022-08-03T14:16:15.987Z"
   },
   {
    "duration": 70,
    "start_time": "2022-08-03T14:16:16.059Z"
   },
   {
    "duration": 66,
    "start_time": "2022-08-03T14:16:16.131Z"
   },
   {
    "duration": 115,
    "start_time": "2022-08-03T14:16:16.199Z"
   },
   {
    "duration": 69,
    "start_time": "2022-08-03T14:16:16.315Z"
   },
   {
    "duration": 71,
    "start_time": "2022-08-03T14:16:16.386Z"
   },
   {
    "duration": 75,
    "start_time": "2022-08-03T14:16:16.460Z"
   },
   {
    "duration": 6366,
    "start_time": "2022-09-20T21:07:49.326Z"
   },
   {
    "duration": 3,
    "start_time": "2022-09-20T21:07:55.695Z"
   },
   {
    "duration": 257,
    "start_time": "2022-09-20T21:08:08.635Z"
   },
   {
    "duration": 76,
    "start_time": "2022-09-20T21:08:09.070Z"
   },
   {
    "duration": 74,
    "start_time": "2022-09-20T21:08:09.972Z"
   },
   {
    "duration": 73,
    "start_time": "2022-09-20T21:08:10.525Z"
   },
   {
    "duration": 76,
    "start_time": "2022-09-20T21:08:11.615Z"
   },
   {
    "duration": 75,
    "start_time": "2022-09-20T21:08:40.574Z"
   },
   {
    "duration": 74,
    "start_time": "2022-09-20T21:08:55.076Z"
   },
   {
    "duration": 82,
    "start_time": "2022-09-20T21:08:58.889Z"
   },
   {
    "duration": 84,
    "start_time": "2022-09-20T21:09:03.724Z"
   }
  ],
  "kernelspec": {
   "display_name": "Python 3 (ipykernel)",
   "language": "python",
   "name": "python3"
  },
  "language_info": {
   "codemirror_mode": {
    "name": "ipython",
    "version": 3
   },
   "file_extension": ".py",
   "mimetype": "text/x-python",
   "name": "python",
   "nbconvert_exporter": "python",
   "pygments_lexer": "ipython3",
   "version": "3.9.7"
  },
  "toc": {
   "base_numbering": 1,
   "nav_menu": {},
   "number_sections": true,
   "sideBar": true,
   "skip_h1_title": true,
   "title_cell": "Table of Contents",
   "title_sidebar": "Contents",
   "toc_cell": false,
   "toc_position": {},
   "toc_section_display": true,
   "toc_window_display": true
  }
 },
 "nbformat": 4,
 "nbformat_minor": 2
}
