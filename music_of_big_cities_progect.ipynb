{
 "cells": [
  {
   "cell_type": "markdown",
   "metadata": {
    "id": "E0vqbgi9ay0H"
   },
   "source": [
    "# Музыка больших городов"
   ]
  },
  {
   "cell_type": "markdown",
   "metadata": {
    "id": "Ml1hmfXC_Zcs"
   },
   "source": [
    "## Шаг 1. Обзор данных\n",
    "\n",
    "Составление первого представления о данных Яндекс.Музыки.\n",
    "\n",
    "\n"
   ]
  },
  {
   "cell_type": "markdown",
   "metadata": {
    "id": "57eAOGIz_Zcs"
   },
   "source": [
    "Основной инструмент аналитика — `pandas`. Импортирт этой библиотеки."
   ]
  },
  {
   "cell_type": "code",
   "execution_count": 1,
   "metadata": {
    "id": "AXN7PHPN_Zcs"
   },
   "outputs": [],
   "source": [
    "# импорт библиотеки pandas\n",
    "import pandas as pd "
   ]
  },
  {
   "cell_type": "markdown",
   "metadata": {
    "id": "SG23P8tt_Zcs"
   },
   "source": [
    "Прочтение файла `yandex_music_project.csv` из папки `/datasets` и сохранение его в переменной `df`:"
   ]
  },
  {
   "cell_type": "code",
   "execution_count": 2,
   "metadata": {
    "id": "fFVu7vqh_Zct"
   },
   "outputs": [],
   "source": [
    "# чтение файла с данными и сохранение в df\n",
    "df = pd.read_csv('/datasets/yandex_music_project.csv') "
   ]
  },
  {
   "cell_type": "markdown",
   "metadata": {
    "id": "rDoOMd3uTqnZ"
   },
   "source": [
    "Выведение на экран первых десяти строк таблицы:"
   ]
  },
  {
   "cell_type": "code",
   "execution_count": 3,
   "metadata": {
    "id": "oWTVX3gW_Zct"
   },
   "outputs": [
    {
     "data": {
      "text/html": [
       "<div>\n",
       "<style scoped>\n",
       "    .dataframe tbody tr th:only-of-type {\n",
       "        vertical-align: middle;\n",
       "    }\n",
       "\n",
       "    .dataframe tbody tr th {\n",
       "        vertical-align: top;\n",
       "    }\n",
       "\n",
       "    .dataframe thead th {\n",
       "        text-align: right;\n",
       "    }\n",
       "</style>\n",
       "<table border=\"1\" class=\"dataframe\">\n",
       "  <thead>\n",
       "    <tr style=\"text-align: right;\">\n",
       "      <th></th>\n",
       "      <th>userID</th>\n",
       "      <th>Track</th>\n",
       "      <th>artist</th>\n",
       "      <th>genre</th>\n",
       "      <th>City</th>\n",
       "      <th>time</th>\n",
       "      <th>Day</th>\n",
       "    </tr>\n",
       "  </thead>\n",
       "  <tbody>\n",
       "    <tr>\n",
       "      <th>0</th>\n",
       "      <td>FFB692EC</td>\n",
       "      <td>Kamigata To Boots</td>\n",
       "      <td>The Mass Missile</td>\n",
       "      <td>rock</td>\n",
       "      <td>Saint-Petersburg</td>\n",
       "      <td>20:28:33</td>\n",
       "      <td>Wednesday</td>\n",
       "    </tr>\n",
       "    <tr>\n",
       "      <th>1</th>\n",
       "      <td>55204538</td>\n",
       "      <td>Delayed Because of Accident</td>\n",
       "      <td>Andreas Rönnberg</td>\n",
       "      <td>rock</td>\n",
       "      <td>Moscow</td>\n",
       "      <td>14:07:09</td>\n",
       "      <td>Friday</td>\n",
       "    </tr>\n",
       "    <tr>\n",
       "      <th>2</th>\n",
       "      <td>20EC38</td>\n",
       "      <td>Funiculì funiculà</td>\n",
       "      <td>Mario Lanza</td>\n",
       "      <td>pop</td>\n",
       "      <td>Saint-Petersburg</td>\n",
       "      <td>20:58:07</td>\n",
       "      <td>Wednesday</td>\n",
       "    </tr>\n",
       "    <tr>\n",
       "      <th>3</th>\n",
       "      <td>A3DD03C9</td>\n",
       "      <td>Dragons in the Sunset</td>\n",
       "      <td>Fire + Ice</td>\n",
       "      <td>folk</td>\n",
       "      <td>Saint-Petersburg</td>\n",
       "      <td>08:37:09</td>\n",
       "      <td>Monday</td>\n",
       "    </tr>\n",
       "    <tr>\n",
       "      <th>4</th>\n",
       "      <td>E2DC1FAE</td>\n",
       "      <td>Soul People</td>\n",
       "      <td>Space Echo</td>\n",
       "      <td>dance</td>\n",
       "      <td>Moscow</td>\n",
       "      <td>08:34:34</td>\n",
       "      <td>Monday</td>\n",
       "    </tr>\n",
       "    <tr>\n",
       "      <th>5</th>\n",
       "      <td>842029A1</td>\n",
       "      <td>Преданная</td>\n",
       "      <td>IMPERVTOR</td>\n",
       "      <td>rusrap</td>\n",
       "      <td>Saint-Petersburg</td>\n",
       "      <td>13:09:41</td>\n",
       "      <td>Friday</td>\n",
       "    </tr>\n",
       "    <tr>\n",
       "      <th>6</th>\n",
       "      <td>4CB90AA5</td>\n",
       "      <td>True</td>\n",
       "      <td>Roman Messer</td>\n",
       "      <td>dance</td>\n",
       "      <td>Moscow</td>\n",
       "      <td>13:00:07</td>\n",
       "      <td>Wednesday</td>\n",
       "    </tr>\n",
       "    <tr>\n",
       "      <th>7</th>\n",
       "      <td>F03E1C1F</td>\n",
       "      <td>Feeling This Way</td>\n",
       "      <td>Polina Griffith</td>\n",
       "      <td>dance</td>\n",
       "      <td>Moscow</td>\n",
       "      <td>20:47:49</td>\n",
       "      <td>Wednesday</td>\n",
       "    </tr>\n",
       "    <tr>\n",
       "      <th>8</th>\n",
       "      <td>8FA1D3BE</td>\n",
       "      <td>И вновь продолжается бой</td>\n",
       "      <td>NaN</td>\n",
       "      <td>ruspop</td>\n",
       "      <td>Moscow</td>\n",
       "      <td>09:17:40</td>\n",
       "      <td>Friday</td>\n",
       "    </tr>\n",
       "    <tr>\n",
       "      <th>9</th>\n",
       "      <td>E772D5C0</td>\n",
       "      <td>Pessimist</td>\n",
       "      <td>NaN</td>\n",
       "      <td>dance</td>\n",
       "      <td>Saint-Petersburg</td>\n",
       "      <td>21:20:49</td>\n",
       "      <td>Wednesday</td>\n",
       "    </tr>\n",
       "  </tbody>\n",
       "</table>\n",
       "</div>"
      ],
      "text/plain": [
       "     userID                        Track            artist   genre  \\\n",
       "0  FFB692EC            Kamigata To Boots  The Mass Missile    rock   \n",
       "1  55204538  Delayed Because of Accident  Andreas Rönnberg    rock   \n",
       "2    20EC38            Funiculì funiculà       Mario Lanza     pop   \n",
       "3  A3DD03C9        Dragons in the Sunset        Fire + Ice    folk   \n",
       "4  E2DC1FAE                  Soul People        Space Echo   dance   \n",
       "5  842029A1                    Преданная         IMPERVTOR  rusrap   \n",
       "6  4CB90AA5                         True      Roman Messer   dance   \n",
       "7  F03E1C1F             Feeling This Way   Polina Griffith   dance   \n",
       "8  8FA1D3BE     И вновь продолжается бой               NaN  ruspop   \n",
       "9  E772D5C0                    Pessimist               NaN   dance   \n",
       "\n",
       "             City        time        Day  \n",
       "0  Saint-Petersburg  20:28:33  Wednesday  \n",
       "1            Moscow  14:07:09     Friday  \n",
       "2  Saint-Petersburg  20:58:07  Wednesday  \n",
       "3  Saint-Petersburg  08:37:09     Monday  \n",
       "4            Moscow  08:34:34     Monday  \n",
       "5  Saint-Petersburg  13:09:41     Friday  \n",
       "6            Moscow  13:00:07  Wednesday  \n",
       "7            Moscow  20:47:49  Wednesday  \n",
       "8            Moscow  09:17:40     Friday  \n",
       "9  Saint-Petersburg  21:20:49  Wednesday  "
      ]
     },
     "metadata": {},
     "output_type": "display_data"
    }
   ],
   "source": [
    "# получение первых 10 строк таблицы df\n",
    "display(df.head(10))"
   ]
  },
  {
   "cell_type": "markdown",
   "metadata": {
    "id": "EO73Kwic_Zct"
   },
   "source": [
    "Одной командой получение общей информации о таблице:"
   ]
  },
  {
   "cell_type": "code",
   "execution_count": 4,
   "metadata": {
    "id": "DSf2kIb-_Zct"
   },
   "outputs": [
    {
     "name": "stdout",
     "output_type": "stream",
     "text": [
      "<class 'pandas.core.frame.DataFrame'>\n",
      "RangeIndex: 65079 entries, 0 to 65078\n",
      "Data columns (total 7 columns):\n",
      " #   Column    Non-Null Count  Dtype \n",
      "---  ------    --------------  ----- \n",
      " 0     userID  65079 non-null  object\n",
      " 1   Track     63848 non-null  object\n",
      " 2   artist    57876 non-null  object\n",
      " 3   genre     63881 non-null  object\n",
      " 4     City    65079 non-null  object\n",
      " 5   time      65079 non-null  object\n",
      " 6   Day       65079 non-null  object\n",
      "dtypes: object(7)\n",
      "memory usage: 3.5+ MB\n"
     ]
    }
   ],
   "source": [
    "# получение общей информации о данных в таблице df\n",
    "df.info()"
   ]
  },
  {
   "cell_type": "markdown",
   "metadata": {
    "id": "TaQ2Iwbr_Zct"
   },
   "source": [
    "Итак, в таблице семь столбцов. Тип данных во всех столбцах — `object`.\n",
    "\n",
    "Согласно документации к данным:\n",
    "* `userID` — идентификатор пользователя;\n",
    "* `Track` — название трека;  \n",
    "* `artist` — имя исполнителя;\n",
    "* `genre` — название жанра;\n",
    "* `City` — город пользователя;\n",
    "* `time` — время начала прослушивания;\n",
    "* `Day` — день недели.\n",
    "\n",
    "В названиях колонок видны три нарушения стиля:\n",
    "1. Строчные буквы сочетаются с прописными.\n",
    "2. Встречаются пробелы.\n",
    "3. Несколько слов следует записывать \"змеиным_регистром\"\n",
    "\n",
    "\n",
    "\n",
    "Количество значений в столбцах различается. Значит, в данных есть пропущенные значения.\n"
   ]
  },
  {
   "cell_type": "markdown",
   "metadata": {
    "id": "MCB6-dXG_Zct"
   },
   "source": [
    "**Выводы**\n",
    "\n",
    "В каждой строке таблицы — данные о прослушанном треке. Часть колонок описывает саму композицию: название, исполнителя и жанр. Остальные данные рассказывают о пользователе: из какого он города, когда он слушал музыку. \n",
    "\n",
    "Предварительно можно утверждать, что данных достаточно для проверки гипотез. Но встречаются пропуски в данных, а в названиях колонок — расхождения с хорошим стилем.\n",
    "\n",
    "Чтобы двигаться дальше, нужно устранить проблемы в данных."
   ]
  },
  {
   "cell_type": "markdown",
   "metadata": {
    "id": "SjYF6Ub9_Zct"
   },
   "source": [
    "## Шаг 2. Предобработка данных\n",
    "Исправление стиля в заголовках столбцов, исключение пропусков. Затем проверка данных на дубликаты."
   ]
  },
  {
   "cell_type": "markdown",
   "metadata": {
    "id": "dIaKXr29_Zct"
   },
   "source": [
    "### Стиль заголовков\n",
    "Вывод на экран названия столбцов:"
   ]
  },
  {
   "cell_type": "code",
   "execution_count": 5,
   "metadata": {
    "id": "oKOTdF_Q_Zct"
   },
   "outputs": [
    {
     "name": "stdout",
     "output_type": "stream",
     "text": [
      "Index(['  userID', 'Track', 'artist', 'genre', '  City  ', 'time', 'Day'], dtype='object')\n"
     ]
    }
   ],
   "source": [
    "# перечень названий столбцов таблицы df\n",
    "print(df.columns)"
   ]
  },
  {
   "cell_type": "markdown",
   "metadata": {
    "id": "zj5534cv_Zct"
   },
   "source": [
    "Приведение названий в соответствие с хорошим стилем:\n",
    "* несколько слов в названии записаны в «змеином_регистре»,\n",
    "* все символы сделаны строчными,\n",
    "* устранены пробелы."
   ]
  },
  {
   "cell_type": "code",
   "execution_count": 6,
   "metadata": {
    "id": "ISlFqs5y_Zct"
   },
   "outputs": [],
   "source": [
    "# переименование столбцов\n",
    "df = df.rename(columns={'  userID': 'user_id', \n",
    "                        'Track': 'track',\n",
    "                        '  City  ': 'city',\n",
    "                        'Day': 'day'})"
   ]
  },
  {
   "cell_type": "markdown",
   "metadata": {
    "id": "1dqbh00J_Zct"
   },
   "source": [
    "Проверка результата. Для этого ещё раз вывод на экран названия столбцов:"
   ]
  },
  {
   "cell_type": "code",
   "execution_count": 7,
   "metadata": {
    "id": "d4NOAmTW_Zct"
   },
   "outputs": [
    {
     "name": "stdout",
     "output_type": "stream",
     "text": [
      "Index(['user_id', 'track', 'artist', 'genre', 'city', 'time', 'day'], dtype='object')\n"
     ]
    }
   ],
   "source": [
    "# проверка результатов - перечень названий столбцов\n",
    "print(df.columns)"
   ]
  },
  {
   "cell_type": "markdown",
   "metadata": {
    "id": "5ISfbcfY_Zct"
   },
   "source": [
    "### Пропуски значений\n",
    "Подсчет пропущенных значений в таблице, с помощью двух методов `pandas`:"
   ]
  },
  {
   "cell_type": "code",
   "execution_count": 8,
   "metadata": {
    "id": "RskX29qr_Zct"
   },
   "outputs": [
    {
     "name": "stdout",
     "output_type": "stream",
     "text": [
      "user_id       0\n",
      "track      1231\n",
      "artist     7203\n",
      "genre      1198\n",
      "city          0\n",
      "time          0\n",
      "day           0\n",
      "dtype: int64\n"
     ]
    }
   ],
   "source": [
    "# подсчёт пропусков\n",
    "print(df.isna().sum())"
   ]
  },
  {
   "cell_type": "markdown",
   "metadata": {
    "id": "qubhgnlO_Zct"
   },
   "source": [
    "Не все пропущенные значения влияют на исследование. Так в `track` и `artist` пропуски не важны для исследования. Достаточно заменить их явными обозначениями.\n",
    "\n",
    "Но пропуски в `genre` могут помешать сравнению музыкальных вкусов в Москве и Санкт-Петербурге. На практике было бы правильно установить причину пропусков и восстановить данные. Такой возможности нет в учебном проекте. Придётся:\n",
    "* заполнить и эти пропуски явными обозначениями,\n",
    "* оценить, насколько они повредят расчётам."
   ]
  },
  {
   "cell_type": "markdown",
   "metadata": {
    "id": "fSv2laPA_Zct"
   },
   "source": [
    "Замена пропущенных значений в столбцах `track`, `artist` и `genre` на строку `'unknown'`. Для этого создание списока `columns_to_replace`, перебор его элементов циклом `for` и для каждого столбца выполнение замены пропущенных значений:"
   ]
  },
  {
   "cell_type": "code",
   "execution_count": 9,
   "metadata": {
    "id": "KplB5qWs_Zct"
   },
   "outputs": [],
   "source": [
    "# создание списка\n",
    "columns_to_replace = ['track', 'artist', 'genre']\n",
    "\n",
    "# перебор названий столбцов в цикле и замена пропущенных значений на 'unknown'\n",
    "for column in columns_to_replace:\n",
    "    df[column] = df[column].fillna('unknown') "
   ]
  },
  {
   "cell_type": "markdown",
   "metadata": {
    "id": "Ilsm-MZo_Zct"
   },
   "source": [
    "Проверка на наличие пропусков. Для этого ещё раз подсчет пропущенных значений."
   ]
  },
  {
   "cell_type": "code",
   "execution_count": 10,
   "metadata": {
    "id": "Tq4nYRX4_Zct"
   },
   "outputs": [
    {
     "name": "stdout",
     "output_type": "stream",
     "text": [
      "user_id    0\n",
      "track      0\n",
      "artist     0\n",
      "genre      0\n",
      "city       0\n",
      "time       0\n",
      "day        0\n",
      "dtype: int64\n"
     ]
    }
   ],
   "source": [
    "# подсчёт пропусков\n",
    "print(df.isna().sum())"
   ]
  },
  {
   "cell_type": "markdown",
   "metadata": {
    "id": "BWKRtBJ3_Zct"
   },
   "source": [
    "### Дубликаты\n",
    "Подсчет явных дубликатов в таблице одной командой:"
   ]
  },
  {
   "cell_type": "code",
   "execution_count": 11,
   "metadata": {
    "id": "36eES_S0_Zct"
   },
   "outputs": [
    {
     "name": "stdout",
     "output_type": "stream",
     "text": [
      "3826\n"
     ]
    }
   ],
   "source": [
    "# подсчёт явных дубликатов\n",
    "print(df.duplicated().sum())"
   ]
  },
  {
   "cell_type": "markdown",
   "metadata": {
    "id": "Ot25h6XR_Zct"
   },
   "source": [
    "Вызов специального метода `pandas`, чтобы удалить явные дубликаты:"
   ]
  },
  {
   "cell_type": "code",
   "execution_count": 12,
   "metadata": {
    "id": "exFHq6tt_Zct"
   },
   "outputs": [],
   "source": [
    "# удаление явных дубликатов (с удалением старых индексов и формированием новых)\n",
    "df = df.drop_duplicates().reset_index(drop=True)"
   ]
  },
  {
   "cell_type": "markdown",
   "metadata": {
    "id": "Im2YwBEG_Zct"
   },
   "source": [
    "Ещё раз подсчет явных дубликатов в таблице, проверка на факт полного избавления от них:"
   ]
  },
  {
   "cell_type": "code",
   "execution_count": 13,
   "metadata": {
    "id": "-8PuNWQ0_Zct"
   },
   "outputs": [
    {
     "name": "stdout",
     "output_type": "stream",
     "text": [
      "0\n"
     ]
    }
   ],
   "source": [
    "# проверка на отсутствие дубликатов\n",
    "print(df.duplicated().sum())"
   ]
  },
  {
   "cell_type": "markdown",
   "metadata": {
    "id": "QlFBsxAr_Zct"
   },
   "source": [
    "Избавление от неявных дубликатов в колонке `genre`. Например, название одного и того же жанра может быть записано немного по-разному. Такие ошибки тоже повлияют на результат исследования."
   ]
  },
  {
   "cell_type": "markdown",
   "metadata": {
    "id": "eSjWwsOh_Zct"
   },
   "source": [
    "Вывод на экран списка уникальных названий жанров, отсортированного в алфавитном порядке. Для этого:\n",
    "* извлечение нужного столбеца датафрейма, \n",
    "* применение к нему метода сортировки,\n",
    "* для отсортированного столбца вызов метода, который вернёт уникальные значения из столбца."
   ]
  },
  {
   "cell_type": "code",
   "execution_count": 14,
   "metadata": {
    "id": "JIUcqzZN_Zct"
   },
   "outputs": [
    {
     "name": "stdout",
     "output_type": "stream",
     "text": [
      "['acid' 'acoustic' 'action' 'adult' 'africa' 'afrikaans' 'alternative'\n",
      " 'alternativepunk' 'ambient' 'americana' 'animated' 'anime' 'arabesk'\n",
      " 'arabic' 'arena' 'argentinetango' 'art' 'audiobook' 'author' 'avantgarde'\n",
      " 'axé' 'baile' 'balkan' 'beats' 'bigroom' 'black' 'bluegrass' 'blues'\n",
      " 'bollywood' 'bossa' 'brazilian' 'breakbeat' 'breaks' 'broadway'\n",
      " 'cantautori' 'cantopop' 'canzone' 'caribbean' 'caucasian' 'celtic'\n",
      " 'chamber' 'chanson' 'children' 'chill' 'chinese' 'choral' 'christian'\n",
      " 'christmas' 'classical' 'classicmetal' 'club' 'colombian' 'comedy'\n",
      " 'conjazz' 'contemporary' 'country' 'cuban' 'dance' 'dancehall' 'dancepop'\n",
      " 'dark' 'death' 'deep' 'deutschrock' 'deutschspr' 'dirty' 'disco' 'dnb'\n",
      " 'documentary' 'downbeat' 'downtempo' 'drum' 'dub' 'dubstep' 'eastern'\n",
      " 'easy' 'electronic' 'electropop' 'emo' 'entehno' 'epicmetal' 'estrada'\n",
      " 'ethnic' 'eurofolk' 'european' 'experimental' 'extrememetal' 'fado'\n",
      " 'fairytail' 'film' 'fitness' 'flamenco' 'folk' 'folklore' 'folkmetal'\n",
      " 'folkrock' 'folktronica' 'forró' 'frankreich' 'französisch' 'french'\n",
      " 'funk' 'future' 'gangsta' 'garage' 'german' 'ghazal' 'gitarre' 'glitch'\n",
      " 'gospel' 'gothic' 'grime' 'grunge' 'gypsy' 'handsup' \"hard'n'heavy\"\n",
      " 'hardcore' 'hardstyle' 'hardtechno' 'hip' 'hip-hop' 'hiphop' 'historisch'\n",
      " 'holiday' 'hop' 'horror' 'house' 'hymn' 'idm' 'independent' 'indian'\n",
      " 'indie' 'indipop' 'industrial' 'inspirational' 'instrumental'\n",
      " 'international' 'irish' 'jam' 'japanese' 'jazz' 'jewish' 'jpop' 'jungle'\n",
      " 'k-pop' 'karadeniz' 'karaoke' 'kayokyoku' 'korean' 'laiko' 'latin'\n",
      " 'latino' 'leftfield' 'local' 'lounge' 'loungeelectronic' 'lovers'\n",
      " 'malaysian' 'mandopop' 'marschmusik' 'meditative' 'mediterranean'\n",
      " 'melodic' 'metal' 'metalcore' 'mexican' 'middle' 'minimal'\n",
      " 'miscellaneous' 'modern' 'mood' 'mpb' 'muslim' 'native' 'neoklassik'\n",
      " 'neue' 'new' 'newage' 'newwave' 'nu' 'nujazz' 'numetal' 'oceania' 'old'\n",
      " 'opera' 'orchestral' 'other' 'piano' 'podcasts' 'pop' 'popdance'\n",
      " 'popelectronic' 'popeurodance' 'poprussian' 'post' 'posthardcore'\n",
      " 'postrock' 'power' 'progmetal' 'progressive' 'psychedelic' 'punjabi'\n",
      " 'punk' 'quebecois' 'ragga' 'ram' 'rancheras' 'rap' 'rave' 'reggae'\n",
      " 'reggaeton' 'regional' 'relax' 'religious' 'retro' 'rhythm' 'rnb' 'rnr'\n",
      " 'rock' 'rockabilly' 'rockalternative' 'rockindie' 'rockother' 'romance'\n",
      " 'roots' 'ruspop' 'rusrap' 'rusrock' 'russian' 'salsa' 'samba' 'scenic'\n",
      " 'schlager' 'self' 'sertanejo' 'shanson' 'shoegazing' 'showtunes' 'singer'\n",
      " 'ska' 'skarock' 'slow' 'smooth' 'soft' 'soul' 'soulful' 'sound'\n",
      " 'soundtrack' 'southern' 'specialty' 'speech' 'spiritual' 'sport'\n",
      " 'stonerrock' 'surf' 'swing' 'synthpop' 'synthrock' 'sängerportrait'\n",
      " 'tango' 'tanzorchester' 'taraftar' 'tatar' 'tech' 'techno' 'teen'\n",
      " 'thrash' 'top' 'traditional' 'tradjazz' 'trance' 'tribal' 'trip'\n",
      " 'triphop' 'tropical' 'türk' 'türkçe' 'ukrrock' 'unknown' 'urban' 'uzbek'\n",
      " 'variété' 'vi' 'videogame' 'vocal' 'western' 'world' 'worldbeat' 'ïîï'\n",
      " 'электроника']\n"
     ]
    }
   ],
   "source": [
    "# просмотр уникальных названий жанров\n",
    "print(df['genre'].sort_values().unique())"
   ]
  },
  {
   "cell_type": "markdown",
   "metadata": {
    "id": "qej-Qmuo_Zct"
   },
   "source": [
    "Просмотр списка и нахождение неявных дубликатов названия `hiphop`. Это могут быть названия с ошибками или альтернативные названия того же жанра.\n",
    "\n",
    "Можно заметить следующие неявные дубликаты:\n",
    "* *hip*,\n",
    "* *hop*,\n",
    "* *hip-hop*.\n",
    "\n",
    "Чтобы очистить от них таблицу, будет написана функция `replace_wrong_genres()` с двумя параметрами: \n",
    "* `wrong_genres` — список дубликатов,\n",
    "* `correct_genre` — строка с правильным значением.\n",
    "\n",
    "Функция должна исправить колонку `genre` в таблице `df`: заменить каждое значение из списка `wrong_genres` на значение из `correct_genre`."
   ]
  },
  {
   "cell_type": "code",
   "execution_count": 15,
   "metadata": {
    "id": "ErNDkmns_Zct"
   },
   "outputs": [],
   "source": [
    "# функция для замены неявных дубликатов\n",
    "def replace_wrong_genres(wrong_genres, correct_genre):\n",
    "    for wrong_genres in wrong_genres:\n",
    "        df['genre'] = df['genre'].replace(wrong_genres, correct_genre)"
   ]
  },
  {
   "cell_type": "markdown",
   "metadata": {
    "id": "aDoBJxbA_Zct"
   },
   "source": [
    "Вызов `replace_wrong_genres()` и передача ей таких аргументов, чтобы она устранила неявные дубликаты: вместо `hip`, `hop` и `hip-hop` в таблице должно быть значение `hiphop`:"
   ]
  },
  {
   "cell_type": "code",
   "execution_count": 16,
   "metadata": {
    "id": "YN5i2hpmSo09"
   },
   "outputs": [
    {
     "name": "stdout",
     "output_type": "stream",
     "text": [
      "1\n"
     ]
    }
   ],
   "source": [
    "# Устранение неявных дубликатов\n",
    "replace_wrong_genres(['hip', 'hop', 'hip-hop'], 'hiphop')\n",
    "\n",
    "# Устранение неявного дубликата 'электроника'\n",
    "replace_wrong_genres(['электроника'], 'electronic')\n",
    "\n",
    "# Изучение странного жанра 'ïîï', расчет повторений жанра в таблице\n",
    "interesting_genre = df[df['genre'] == 'ïîï']\n",
    "\n",
    "# Жанр 'ïîï' повторяется 1 раз, не известно какой это жанр на самом деле\n",
    "print(interesting_genre['genre'].count())\n",
    "\n",
    "# Устранение неявного дубликата 'ïîï' на 'unknown'\n",
    "replace_wrong_genres(['ïîï'], 'unknown')"
   ]
  },
  {
   "cell_type": "markdown",
   "metadata": {
    "id": "zQKF16_RG15m"
   },
   "source": [
    "Проверка, что заменились неправильные названия:\n",
    "\n",
    "*   hip\n",
    "*   hop\n",
    "*   hip-hop\n",
    "\n",
    "Вывод отсортированного списока уникальных значений столбца `genre`:"
   ]
  },
  {
   "cell_type": "code",
   "execution_count": 17,
   "metadata": {
    "id": "wvixALnFG15m"
   },
   "outputs": [
    {
     "name": "stdout",
     "output_type": "stream",
     "text": [
      "['acid' 'acoustic' 'action' 'adult' 'africa' 'afrikaans' 'alternative'\n",
      " 'alternativepunk' 'ambient' 'americana' 'animated' 'anime' 'arabesk'\n",
      " 'arabic' 'arena' 'argentinetango' 'art' 'audiobook' 'author' 'avantgarde'\n",
      " 'axé' 'baile' 'balkan' 'beats' 'bigroom' 'black' 'bluegrass' 'blues'\n",
      " 'bollywood' 'bossa' 'brazilian' 'breakbeat' 'breaks' 'broadway'\n",
      " 'cantautori' 'cantopop' 'canzone' 'caribbean' 'caucasian' 'celtic'\n",
      " 'chamber' 'chanson' 'children' 'chill' 'chinese' 'choral' 'christian'\n",
      " 'christmas' 'classical' 'classicmetal' 'club' 'colombian' 'comedy'\n",
      " 'conjazz' 'contemporary' 'country' 'cuban' 'dance' 'dancehall' 'dancepop'\n",
      " 'dark' 'death' 'deep' 'deutschrock' 'deutschspr' 'dirty' 'disco' 'dnb'\n",
      " 'documentary' 'downbeat' 'downtempo' 'drum' 'dub' 'dubstep' 'eastern'\n",
      " 'easy' 'electronic' 'electropop' 'emo' 'entehno' 'epicmetal' 'estrada'\n",
      " 'ethnic' 'eurofolk' 'european' 'experimental' 'extrememetal' 'fado'\n",
      " 'fairytail' 'film' 'fitness' 'flamenco' 'folk' 'folklore' 'folkmetal'\n",
      " 'folkrock' 'folktronica' 'forró' 'frankreich' 'französisch' 'french'\n",
      " 'funk' 'future' 'gangsta' 'garage' 'german' 'ghazal' 'gitarre' 'glitch'\n",
      " 'gospel' 'gothic' 'grime' 'grunge' 'gypsy' 'handsup' \"hard'n'heavy\"\n",
      " 'hardcore' 'hardstyle' 'hardtechno' 'hiphop' 'historisch' 'holiday'\n",
      " 'horror' 'house' 'hymn' 'idm' 'independent' 'indian' 'indie' 'indipop'\n",
      " 'industrial' 'inspirational' 'instrumental' 'international' 'irish' 'jam'\n",
      " 'japanese' 'jazz' 'jewish' 'jpop' 'jungle' 'k-pop' 'karadeniz' 'karaoke'\n",
      " 'kayokyoku' 'korean' 'laiko' 'latin' 'latino' 'leftfield' 'local'\n",
      " 'lounge' 'loungeelectronic' 'lovers' 'malaysian' 'mandopop' 'marschmusik'\n",
      " 'meditative' 'mediterranean' 'melodic' 'metal' 'metalcore' 'mexican'\n",
      " 'middle' 'minimal' 'miscellaneous' 'modern' 'mood' 'mpb' 'muslim'\n",
      " 'native' 'neoklassik' 'neue' 'new' 'newage' 'newwave' 'nu' 'nujazz'\n",
      " 'numetal' 'oceania' 'old' 'opera' 'orchestral' 'other' 'piano' 'podcasts'\n",
      " 'pop' 'popdance' 'popelectronic' 'popeurodance' 'poprussian' 'post'\n",
      " 'posthardcore' 'postrock' 'power' 'progmetal' 'progressive' 'psychedelic'\n",
      " 'punjabi' 'punk' 'quebecois' 'ragga' 'ram' 'rancheras' 'rap' 'rave'\n",
      " 'reggae' 'reggaeton' 'regional' 'relax' 'religious' 'retro' 'rhythm'\n",
      " 'rnb' 'rnr' 'rock' 'rockabilly' 'rockalternative' 'rockindie' 'rockother'\n",
      " 'romance' 'roots' 'ruspop' 'rusrap' 'rusrock' 'russian' 'salsa' 'samba'\n",
      " 'scenic' 'schlager' 'self' 'sertanejo' 'shanson' 'shoegazing' 'showtunes'\n",
      " 'singer' 'ska' 'skarock' 'slow' 'smooth' 'soft' 'soul' 'soulful' 'sound'\n",
      " 'soundtrack' 'southern' 'specialty' 'speech' 'spiritual' 'sport'\n",
      " 'stonerrock' 'surf' 'swing' 'synthpop' 'synthrock' 'sängerportrait'\n",
      " 'tango' 'tanzorchester' 'taraftar' 'tatar' 'tech' 'techno' 'teen'\n",
      " 'thrash' 'top' 'traditional' 'tradjazz' 'trance' 'tribal' 'trip'\n",
      " 'triphop' 'tropical' 'türk' 'türkçe' 'ukrrock' 'unknown' 'urban' 'uzbek'\n",
      " 'variété' 'vi' 'videogame' 'vocal' 'western' 'world' 'worldbeat']\n"
     ]
    }
   ],
   "source": [
    "# Проверка на неявные дубликаты\n",
    "print(df['genre'].sort_values().unique())"
   ]
  },
  {
   "cell_type": "markdown",
   "metadata": {
    "id": "jz6a9-7HQUDd"
   },
   "source": [
    "**Выводы**\n",
    "\n",
    "Предобработка обнаружила три проблемы в данных:\n",
    "\n",
    "- нарушения в стиле заголовков,\n",
    "- пропущенные значения,\n",
    "- дубликаты — явные и неявные.\n",
    "\n",
    "Были исправлены заголовки, чтобы упростить работу с таблицей. Без дубликатов исследование станет более точным.\n",
    "\n",
    "Пропущенные значения заменены на `'unknown'`. Ещё предстоит увидеть, не повредят ли исследованию пропуски в колонке `genre`.\n",
    "\n",
    "Теперь можно перейти к проверке гипотез. "
   ]
  },
  {
   "cell_type": "markdown",
   "metadata": {
    "id": "WttZHXH0SqKk"
   },
   "source": [
    "## Шаг 3. Проверка гипотез"
   ]
  },
  {
   "cell_type": "markdown",
   "metadata": {
    "id": "Im936VVi_Zcu"
   },
   "source": [
    "### Сравнение поведения пользователей двух столиц"
   ]
  },
  {
   "cell_type": "markdown",
   "metadata": {
    "id": "nwt_MuaL_Zcu"
   },
   "source": [
    "Первая гипотеза утверждает, что пользователи по-разному слушают музыку в Москве и Санкт-Петербурге. Проверка этого предположения по данным о трёх днях недели — понедельнике, среде и пятнице. Для этого будет сделано:\n",
    "\n",
    "* Разделение пользователей Москвы и Санкт-Петербурга\n",
    "* Сравнение, сколько треков послушала каждая группа пользователей в понедельник, среду и пятницу."
   ]
  },
  {
   "cell_type": "markdown",
   "metadata": {
    "id": "8Dw_YMmT_Zcu"
   },
   "source": [
    "Для тренировки каждый из расчётов сначала будет выполнен по отдельности. \n",
    "\n",
    "Оценка активности пользователей в каждом городе. Группировка данных по городу и подсчет прослушиваний в каждой группе.\n"
   ]
  },
  {
   "cell_type": "code",
   "execution_count": 40,
   "metadata": {
    "id": "0_Qs96oh_Zcu"
   },
   "outputs": [
    {
     "data": {
      "text/plain": [
       "city\n",
       "Moscow              42741\n",
       "Saint-Petersburg    18512\n",
       "Name: time, dtype: int64"
      ]
     },
     "metadata": {},
     "output_type": "display_data"
    }
   ],
   "source": [
    "# подсчёт прослушиваний в каждом городе\n",
    "time_grouping = df.groupby('city')['time']\n",
    "time_counting = time_grouping.count()\n",
    "display((time_counting))"
   ]
  },
  {
   "cell_type": "markdown",
   "metadata": {
    "id": "dzli3w8o_Zcu"
   },
   "source": [
    "В Москве прослушиваний больше, чем в Петербурге. Из этого не следует, что московские пользователи чаще слушают музыку. Просто самих пользователей в Москве больше.\n",
    "\n",
    "Группировка данных по дню недели и подсчет прослушиваний в понедельник, среду и пятницу. С учетом того, что в данных есть информация только о прослушиваниях только за эти дни.\n"
   ]
  },
  {
   "cell_type": "code",
   "execution_count": 41,
   "metadata": {
    "id": "uZMKjiJz_Zcu"
   },
   "outputs": [
    {
     "data": {
      "text/plain": [
       "day\n",
       "Friday       21840\n",
       "Monday       21354\n",
       "Wednesday    18059\n",
       "Name: time, dtype: int64"
      ]
     },
     "metadata": {},
     "output_type": "display_data"
    }
   ],
   "source": [
    "# подсчёт прослушиваний в каждый из трёх дней\n",
    "day_time_grouping = df.groupby('day')['time']\n",
    "day_time_counting = day_time_grouping.count()\n",
    "display(day_time_counting)"
   ]
  },
  {
   "cell_type": "markdown",
   "metadata": {
    "id": "cC2tNrlL_Zcu"
   },
   "source": [
    "В среднем пользователи из двух городов менее активны по средам. Но картина может измениться, если рассмотреть каждый город в отдельности."
   ]
  },
  {
   "cell_type": "markdown",
   "metadata": {
    "id": "POzs8bGa_Zcu"
   },
   "source": [
    "Написание функции, которая объединит группировку по городу и по дням недели.\n",
    "\n",
    "Создание функции `number_tracks()`, которая посчитает прослушивания для заданного дня и города. Ей понадобятся два параметра:\n",
    "* день недели,\n",
    "* название города.\n",
    "\n",
    "В функции будут сохранены в переменную строки исходной таблицы, у которых значение:\n",
    "  * в колонке `day` равно параметру `day`,\n",
    "  * в колонке `city` равно параметру `city`.\n",
    "\n",
    "Для этого будет применена последовательная фильтрация с логической индексацией.\n",
    "\n",
    "Затем подсчитаны значения в столбце `user_id` получившейся таблицы. Результат будет сохранен в новую переменную. Эта переменная будет возвращена из функции."
   ]
  },
  {
   "cell_type": "code",
   "execution_count": 42,
   "metadata": {
    "id": "Nz3GdQB1_Zcu"
   },
   "outputs": [],
   "source": [
    "# создание функции number_tracks()\n",
    "\n",
    "# объявляется функция с двумя параметрами: day, city.\n",
    "# в переменной track_list сохраняются те строки таблицы df, для которых \n",
    "# значение в столбце 'day' равно параметру day и одновременно значение\n",
    "# в столбце 'city' равно параметру city (использована последовательная фильтрация\n",
    "# с помощью логической индексации).\n",
    "# в переменной track_list_count сохраняется число значений столбца 'user_id',\n",
    "# рассчитанное методом count() для таблицы track_list.\n",
    "# функция возвращает число - значение track_list_count.\n",
    "\n",
    "# функция для подсчёта прослушиваний для конкретного города и дня.\n",
    "# с помощью последовательной фильтрации с логической индексацией она \n",
    "# сначала получит из исходной таблицы строки с нужным днём,\n",
    "# затем из результата отфильтрует строки с нужным городом,\n",
    "# методом count() посчитает количество значений в колонке user_id. \n",
    "# это количество функция вернёт в качестве результата\n",
    "def number_tracks(day, city):\n",
    "    track_list = df[(df['day'] == day) & (df['city'] == city)]\n",
    "    track_list_count = track_list['user_id'].count()\n",
    "    return track_list_count"
   ]
  },
  {
   "cell_type": "markdown",
   "metadata": {
    "id": "ytf7xFrFJQ2r"
   },
   "source": [
    "Вызов `number_tracks()` шесть раз, меняя значение параметров — так, чтобы получить данные для каждого города в каждый из трёх дней."
   ]
  },
  {
   "cell_type": "code",
   "execution_count": 44,
   "metadata": {
    "id": "rJcRATNQ_Zcu"
   },
   "outputs": [
    {
     "name": "stdout",
     "output_type": "stream",
     "text": [
      "15740\n"
     ]
    }
   ],
   "source": [
    "# количество прослушиваний в Москве по понедельникам\n",
    "print(number_tracks('Monday', 'Moscow'))"
   ]
  },
  {
   "cell_type": "code",
   "execution_count": 45,
   "metadata": {
    "id": "hq_ncZ5T_Zcu"
   },
   "outputs": [
    {
     "name": "stdout",
     "output_type": "stream",
     "text": [
      "5614\n"
     ]
    }
   ],
   "source": [
    "# количество прослушиваний в Санкт-Петербурге по понедельникам\n",
    "print(number_tracks('Monday', 'Saint-Petersburg'))"
   ]
  },
  {
   "cell_type": "code",
   "execution_count": 46,
   "metadata": {
    "id": "_NTy2VPU_Zcu"
   },
   "outputs": [
    {
     "name": "stdout",
     "output_type": "stream",
     "text": [
      "11056\n"
     ]
    }
   ],
   "source": [
    "# количество прослушиваний в Москве по средам\n",
    "print(number_tracks('Wednesday', 'Moscow'))"
   ]
  },
  {
   "cell_type": "code",
   "execution_count": 47,
   "metadata": {
    "id": "j2y3TAwo_Zcu"
   },
   "outputs": [
    {
     "name": "stdout",
     "output_type": "stream",
     "text": [
      "7003\n"
     ]
    }
   ],
   "source": [
    "# количество прослушиваний в Санкт-Петербурге по средам\n",
    "print(number_tracks('Wednesday', 'Saint-Petersburg'))"
   ]
  },
  {
   "cell_type": "code",
   "execution_count": 48,
   "metadata": {
    "id": "vYDw5u_K_Zcu"
   },
   "outputs": [
    {
     "name": "stdout",
     "output_type": "stream",
     "text": [
      "15945\n"
     ]
    }
   ],
   "source": [
    "# количество прослушиваний в Москве по пятницам\n",
    "print(number_tracks('Friday', 'Moscow'))"
   ]
  },
  {
   "cell_type": "code",
   "execution_count": 49,
   "metadata": {
    "id": "8_yzFtW3_Zcu"
   },
   "outputs": [
    {
     "name": "stdout",
     "output_type": "stream",
     "text": [
      "5895\n"
     ]
    }
   ],
   "source": [
    "# количество прослушиваний в Санкт-Петербурге по пятницам\n",
    "print(number_tracks('Friday', 'Saint-Petersburg'))"
   ]
  },
  {
   "cell_type": "markdown",
   "metadata": {
    "id": "7QXffbO-_Zcu"
   },
   "source": [
    "Создание c помощью конструктора `pd.DataFrame` таблицу, где\n",
    "* названия колонок — `['city', 'monday', 'wednesday', 'friday']`;\n",
    "* данные — результаты, которые получены с помощью `number_tracks`."
   ]
  },
  {
   "cell_type": "code",
   "execution_count": 53,
   "metadata": {},
   "outputs": [
    {
     "data": {
      "text/html": [
       "<div>\n",
       "<style scoped>\n",
       "    .dataframe tbody tr th:only-of-type {\n",
       "        vertical-align: middle;\n",
       "    }\n",
       "\n",
       "    .dataframe tbody tr th {\n",
       "        vertical-align: top;\n",
       "    }\n",
       "\n",
       "    .dataframe thead th {\n",
       "        text-align: right;\n",
       "    }\n",
       "</style>\n",
       "<table border=\"1\" class=\"dataframe\">\n",
       "  <thead>\n",
       "    <tr style=\"text-align: right;\">\n",
       "      <th></th>\n",
       "      <th>city</th>\n",
       "      <th>monday</th>\n",
       "      <th>wednesday</th>\n",
       "      <th>friday</th>\n",
       "    </tr>\n",
       "  </thead>\n",
       "  <tbody>\n",
       "    <tr>\n",
       "      <th>0</th>\n",
       "      <td>Moscow</td>\n",
       "      <td>15740</td>\n",
       "      <td>11056</td>\n",
       "      <td>15945</td>\n",
       "    </tr>\n",
       "    <tr>\n",
       "      <th>1</th>\n",
       "      <td>Saint-Petersburg</td>\n",
       "      <td>5614</td>\n",
       "      <td>7003</td>\n",
       "      <td>5895</td>\n",
       "    </tr>\n",
       "  </tbody>\n",
       "</table>\n",
       "</div>"
      ],
      "text/plain": [
       "               city  monday  wednesday  friday\n",
       "0            Moscow   15740      11056   15945\n",
       "1  Saint-Petersburg    5614       7003    5895"
      ]
     },
     "metadata": {},
     "output_type": "display_data"
    }
   ],
   "source": [
    "# таблица с результатами\n",
    "research_track_result = pd.DataFrame(data=[['Moscow', 15740, 11056, 15945], ['Saint-Petersburg', 5614, 7003, 5895]],\n",
    "                                     columns=['city', 'monday', 'wednesday', 'friday'])\n",
    "display(research_track_result)"
   ]
  },
  {
   "cell_type": "markdown",
   "metadata": {
    "id": "-EgPIHYu_Zcu"
   },
   "source": [
    "**Выводы**\n",
    "\n",
    "Данные показывают разницу поведения пользователей:\n",
    "\n",
    "- В Москве пик прослушиваний приходится на понедельник и пятницу, а в среду заметен спад.\n",
    "- В Петербурге, наоборот, больше слушают музыку по средам. Активность в понедельник и пятницу здесь почти в равной мере уступает среде.\n",
    "\n",
    "Значит, данные говорят в пользу первой гипотезы."
   ]
  },
  {
   "cell_type": "markdown",
   "metadata": {
    "id": "atZAxtq4_Zcu"
   },
   "source": [
    "### Музыка в начале и в конце недели"
   ]
  },
  {
   "cell_type": "markdown",
   "metadata": {
    "id": "eXrQqXFH_Zcu"
   },
   "source": [
    "Согласно второй гипотезе, утром в понедельник в Москве преобладают одни жанры, а в Петербурге — другие. Так же и вечером пятницы преобладают разные жанры — в зависимости от города."
   ]
  },
  {
   "cell_type": "markdown",
   "metadata": {
    "id": "S8UcW6Hw_Zcu"
   },
   "source": [
    "Сохранение таблицы с данными в две переменные:\n",
    "* по Москве — в `moscow_general`;\n",
    "* по Санкт-Петербургу — в `spb_general`."
   ]
  },
  {
   "cell_type": "code",
   "execution_count": 54,
   "metadata": {
    "id": "qeaFfM_P_Zcu"
   },
   "outputs": [
    {
     "data": {
      "text/html": [
       "<div>\n",
       "<style scoped>\n",
       "    .dataframe tbody tr th:only-of-type {\n",
       "        vertical-align: middle;\n",
       "    }\n",
       "\n",
       "    .dataframe tbody tr th {\n",
       "        vertical-align: top;\n",
       "    }\n",
       "\n",
       "    .dataframe thead th {\n",
       "        text-align: right;\n",
       "    }\n",
       "</style>\n",
       "<table border=\"1\" class=\"dataframe\">\n",
       "  <thead>\n",
       "    <tr style=\"text-align: right;\">\n",
       "      <th></th>\n",
       "      <th>user_id</th>\n",
       "      <th>track</th>\n",
       "      <th>artist</th>\n",
       "      <th>genre</th>\n",
       "      <th>city</th>\n",
       "      <th>time</th>\n",
       "      <th>day</th>\n",
       "    </tr>\n",
       "  </thead>\n",
       "  <tbody>\n",
       "    <tr>\n",
       "      <th>1</th>\n",
       "      <td>55204538</td>\n",
       "      <td>Delayed Because of Accident</td>\n",
       "      <td>Andreas Rönnberg</td>\n",
       "      <td>rock</td>\n",
       "      <td>Moscow</td>\n",
       "      <td>14:07:09</td>\n",
       "      <td>Friday</td>\n",
       "    </tr>\n",
       "    <tr>\n",
       "      <th>4</th>\n",
       "      <td>E2DC1FAE</td>\n",
       "      <td>Soul People</td>\n",
       "      <td>Space Echo</td>\n",
       "      <td>dance</td>\n",
       "      <td>Moscow</td>\n",
       "      <td>08:34:34</td>\n",
       "      <td>Monday</td>\n",
       "    </tr>\n",
       "    <tr>\n",
       "      <th>6</th>\n",
       "      <td>4CB90AA5</td>\n",
       "      <td>True</td>\n",
       "      <td>Roman Messer</td>\n",
       "      <td>dance</td>\n",
       "      <td>Moscow</td>\n",
       "      <td>13:00:07</td>\n",
       "      <td>Wednesday</td>\n",
       "    </tr>\n",
       "    <tr>\n",
       "      <th>7</th>\n",
       "      <td>F03E1C1F</td>\n",
       "      <td>Feeling This Way</td>\n",
       "      <td>Polina Griffith</td>\n",
       "      <td>dance</td>\n",
       "      <td>Moscow</td>\n",
       "      <td>20:47:49</td>\n",
       "      <td>Wednesday</td>\n",
       "    </tr>\n",
       "    <tr>\n",
       "      <th>8</th>\n",
       "      <td>8FA1D3BE</td>\n",
       "      <td>И вновь продолжается бой</td>\n",
       "      <td>unknown</td>\n",
       "      <td>ruspop</td>\n",
       "      <td>Moscow</td>\n",
       "      <td>09:17:40</td>\n",
       "      <td>Friday</td>\n",
       "    </tr>\n",
       "    <tr>\n",
       "      <th>...</th>\n",
       "      <td>...</td>\n",
       "      <td>...</td>\n",
       "      <td>...</td>\n",
       "      <td>...</td>\n",
       "      <td>...</td>\n",
       "      <td>...</td>\n",
       "      <td>...</td>\n",
       "    </tr>\n",
       "    <tr>\n",
       "      <th>61247</th>\n",
       "      <td>83A474E7</td>\n",
       "      <td>I Worship Only What You Bleed</td>\n",
       "      <td>The Black Dahlia Murder</td>\n",
       "      <td>extrememetal</td>\n",
       "      <td>Moscow</td>\n",
       "      <td>21:07:12</td>\n",
       "      <td>Monday</td>\n",
       "    </tr>\n",
       "    <tr>\n",
       "      <th>61248</th>\n",
       "      <td>729CBB09</td>\n",
       "      <td>My Name</td>\n",
       "      <td>McLean</td>\n",
       "      <td>rnb</td>\n",
       "      <td>Moscow</td>\n",
       "      <td>13:32:28</td>\n",
       "      <td>Wednesday</td>\n",
       "    </tr>\n",
       "    <tr>\n",
       "      <th>61250</th>\n",
       "      <td>C5E3A0D5</td>\n",
       "      <td>Jalopiina</td>\n",
       "      <td>unknown</td>\n",
       "      <td>industrial</td>\n",
       "      <td>Moscow</td>\n",
       "      <td>20:09:26</td>\n",
       "      <td>Friday</td>\n",
       "    </tr>\n",
       "    <tr>\n",
       "      <th>61251</th>\n",
       "      <td>321D0506</td>\n",
       "      <td>Freight Train</td>\n",
       "      <td>Chas McDevitt</td>\n",
       "      <td>rock</td>\n",
       "      <td>Moscow</td>\n",
       "      <td>21:43:59</td>\n",
       "      <td>Friday</td>\n",
       "    </tr>\n",
       "    <tr>\n",
       "      <th>61252</th>\n",
       "      <td>3A64EF84</td>\n",
       "      <td>Tell Me Sweet Little Lies</td>\n",
       "      <td>Monica Lopez</td>\n",
       "      <td>country</td>\n",
       "      <td>Moscow</td>\n",
       "      <td>21:59:46</td>\n",
       "      <td>Friday</td>\n",
       "    </tr>\n",
       "  </tbody>\n",
       "</table>\n",
       "<p>42741 rows × 7 columns</p>\n",
       "</div>"
      ],
      "text/plain": [
       "        user_id                          track                   artist  \\\n",
       "1      55204538    Delayed Because of Accident         Andreas Rönnberg   \n",
       "4      E2DC1FAE                    Soul People               Space Echo   \n",
       "6      4CB90AA5                           True             Roman Messer   \n",
       "7      F03E1C1F               Feeling This Way          Polina Griffith   \n",
       "8      8FA1D3BE       И вновь продолжается бой                  unknown   \n",
       "...         ...                            ...                      ...   \n",
       "61247  83A474E7  I Worship Only What You Bleed  The Black Dahlia Murder   \n",
       "61248  729CBB09                        My Name                   McLean   \n",
       "61250  C5E3A0D5                      Jalopiina                  unknown   \n",
       "61251  321D0506                  Freight Train            Chas McDevitt   \n",
       "61252  3A64EF84      Tell Me Sweet Little Lies             Monica Lopez   \n",
       "\n",
       "              genre    city      time        day  \n",
       "1              rock  Moscow  14:07:09     Friday  \n",
       "4             dance  Moscow  08:34:34     Monday  \n",
       "6             dance  Moscow  13:00:07  Wednesday  \n",
       "7             dance  Moscow  20:47:49  Wednesday  \n",
       "8            ruspop  Moscow  09:17:40     Friday  \n",
       "...             ...     ...       ...        ...  \n",
       "61247  extrememetal  Moscow  21:07:12     Monday  \n",
       "61248           rnb  Moscow  13:32:28  Wednesday  \n",
       "61250    industrial  Moscow  20:09:26     Friday  \n",
       "61251          rock  Moscow  21:43:59     Friday  \n",
       "61252       country  Moscow  21:59:46     Friday  \n",
       "\n",
       "[42741 rows x 7 columns]"
      ]
     },
     "metadata": {},
     "output_type": "display_data"
    }
   ],
   "source": [
    "# получение таблицы moscow_general из тех строк таблицы df, для которых значение в столбце 'city' равно 'Moscow'\n",
    "moscow_general = df[df['city'] == 'Moscow']\n",
    "display(moscow_general)"
   ]
  },
  {
   "cell_type": "code",
   "execution_count": 55,
   "metadata": {
    "id": "ORaVRKto_Zcu"
   },
   "outputs": [
    {
     "data": {
      "text/html": [
       "<div>\n",
       "<style scoped>\n",
       "    .dataframe tbody tr th:only-of-type {\n",
       "        vertical-align: middle;\n",
       "    }\n",
       "\n",
       "    .dataframe tbody tr th {\n",
       "        vertical-align: top;\n",
       "    }\n",
       "\n",
       "    .dataframe thead th {\n",
       "        text-align: right;\n",
       "    }\n",
       "</style>\n",
       "<table border=\"1\" class=\"dataframe\">\n",
       "  <thead>\n",
       "    <tr style=\"text-align: right;\">\n",
       "      <th></th>\n",
       "      <th>user_id</th>\n",
       "      <th>track</th>\n",
       "      <th>artist</th>\n",
       "      <th>genre</th>\n",
       "      <th>city</th>\n",
       "      <th>time</th>\n",
       "      <th>day</th>\n",
       "    </tr>\n",
       "  </thead>\n",
       "  <tbody>\n",
       "    <tr>\n",
       "      <th>0</th>\n",
       "      <td>FFB692EC</td>\n",
       "      <td>Kamigata To Boots</td>\n",
       "      <td>The Mass Missile</td>\n",
       "      <td>rock</td>\n",
       "      <td>Saint-Petersburg</td>\n",
       "      <td>20:28:33</td>\n",
       "      <td>Wednesday</td>\n",
       "    </tr>\n",
       "    <tr>\n",
       "      <th>2</th>\n",
       "      <td>20EC38</td>\n",
       "      <td>Funiculì funiculà</td>\n",
       "      <td>Mario Lanza</td>\n",
       "      <td>pop</td>\n",
       "      <td>Saint-Petersburg</td>\n",
       "      <td>20:58:07</td>\n",
       "      <td>Wednesday</td>\n",
       "    </tr>\n",
       "    <tr>\n",
       "      <th>3</th>\n",
       "      <td>A3DD03C9</td>\n",
       "      <td>Dragons in the Sunset</td>\n",
       "      <td>Fire + Ice</td>\n",
       "      <td>folk</td>\n",
       "      <td>Saint-Petersburg</td>\n",
       "      <td>08:37:09</td>\n",
       "      <td>Monday</td>\n",
       "    </tr>\n",
       "    <tr>\n",
       "      <th>5</th>\n",
       "      <td>842029A1</td>\n",
       "      <td>Преданная</td>\n",
       "      <td>IMPERVTOR</td>\n",
       "      <td>rusrap</td>\n",
       "      <td>Saint-Petersburg</td>\n",
       "      <td>13:09:41</td>\n",
       "      <td>Friday</td>\n",
       "    </tr>\n",
       "    <tr>\n",
       "      <th>9</th>\n",
       "      <td>E772D5C0</td>\n",
       "      <td>Pessimist</td>\n",
       "      <td>unknown</td>\n",
       "      <td>dance</td>\n",
       "      <td>Saint-Petersburg</td>\n",
       "      <td>21:20:49</td>\n",
       "      <td>Wednesday</td>\n",
       "    </tr>\n",
       "    <tr>\n",
       "      <th>...</th>\n",
       "      <td>...</td>\n",
       "      <td>...</td>\n",
       "      <td>...</td>\n",
       "      <td>...</td>\n",
       "      <td>...</td>\n",
       "      <td>...</td>\n",
       "      <td>...</td>\n",
       "    </tr>\n",
       "    <tr>\n",
       "      <th>61239</th>\n",
       "      <td>D94F810B</td>\n",
       "      <td>Theme from the Walking Dead</td>\n",
       "      <td>Proyecto Halloween</td>\n",
       "      <td>film</td>\n",
       "      <td>Saint-Petersburg</td>\n",
       "      <td>21:14:40</td>\n",
       "      <td>Monday</td>\n",
       "    </tr>\n",
       "    <tr>\n",
       "      <th>61240</th>\n",
       "      <td>BC8EC5CF</td>\n",
       "      <td>Red Lips: Gta (Rover Rework)</td>\n",
       "      <td>Rover</td>\n",
       "      <td>electronic</td>\n",
       "      <td>Saint-Petersburg</td>\n",
       "      <td>21:06:50</td>\n",
       "      <td>Monday</td>\n",
       "    </tr>\n",
       "    <tr>\n",
       "      <th>61241</th>\n",
       "      <td>29E04611</td>\n",
       "      <td>Bre Petrunko</td>\n",
       "      <td>Perunika Trio</td>\n",
       "      <td>world</td>\n",
       "      <td>Saint-Petersburg</td>\n",
       "      <td>13:56:00</td>\n",
       "      <td>Monday</td>\n",
       "    </tr>\n",
       "    <tr>\n",
       "      <th>61242</th>\n",
       "      <td>1B91C621</td>\n",
       "      <td>(Hello) Cloud Mountain</td>\n",
       "      <td>sleepmakeswaves</td>\n",
       "      <td>postrock</td>\n",
       "      <td>Saint-Petersburg</td>\n",
       "      <td>09:22:13</td>\n",
       "      <td>Monday</td>\n",
       "    </tr>\n",
       "    <tr>\n",
       "      <th>61249</th>\n",
       "      <td>D08D4A55</td>\n",
       "      <td>Maybe One Day (feat. Black Spade)</td>\n",
       "      <td>Blu &amp; Exile</td>\n",
       "      <td>hiphop</td>\n",
       "      <td>Saint-Petersburg</td>\n",
       "      <td>10:00:00</td>\n",
       "      <td>Monday</td>\n",
       "    </tr>\n",
       "  </tbody>\n",
       "</table>\n",
       "<p>18512 rows × 7 columns</p>\n",
       "</div>"
      ],
      "text/plain": [
       "        user_id                              track              artist  \\\n",
       "0      FFB692EC                  Kamigata To Boots    The Mass Missile   \n",
       "2        20EC38                  Funiculì funiculà         Mario Lanza   \n",
       "3      A3DD03C9              Dragons in the Sunset          Fire + Ice   \n",
       "5      842029A1                          Преданная           IMPERVTOR   \n",
       "9      E772D5C0                          Pessimist             unknown   \n",
       "...         ...                                ...                 ...   \n",
       "61239  D94F810B        Theme from the Walking Dead  Proyecto Halloween   \n",
       "61240  BC8EC5CF       Red Lips: Gta (Rover Rework)               Rover   \n",
       "61241  29E04611                       Bre Petrunko       Perunika Trio   \n",
       "61242  1B91C621             (Hello) Cloud Mountain     sleepmakeswaves   \n",
       "61249  D08D4A55  Maybe One Day (feat. Black Spade)         Blu & Exile   \n",
       "\n",
       "            genre              city      time        day  \n",
       "0            rock  Saint-Petersburg  20:28:33  Wednesday  \n",
       "2             pop  Saint-Petersburg  20:58:07  Wednesday  \n",
       "3            folk  Saint-Petersburg  08:37:09     Monday  \n",
       "5          rusrap  Saint-Petersburg  13:09:41     Friday  \n",
       "9           dance  Saint-Petersburg  21:20:49  Wednesday  \n",
       "...           ...               ...       ...        ...  \n",
       "61239        film  Saint-Petersburg  21:14:40     Monday  \n",
       "61240  electronic  Saint-Petersburg  21:06:50     Monday  \n",
       "61241       world  Saint-Petersburg  13:56:00     Monday  \n",
       "61242    postrock  Saint-Petersburg  09:22:13     Monday  \n",
       "61249      hiphop  Saint-Petersburg  10:00:00     Monday  \n",
       "\n",
       "[18512 rows x 7 columns]"
      ]
     },
     "metadata": {},
     "output_type": "display_data"
    }
   ],
   "source": [
    "# получение таблицы spb_general из тех строк таблицы df, для которых значение в столбце 'city' равно 'Saint-Petersburg'\n",
    "spb_general = df[df['city'] == 'Saint-Petersburg']\n",
    "display(spb_general)"
   ]
  },
  {
   "cell_type": "markdown",
   "metadata": {
    "id": "MEJV-CX2_Zcu"
   },
   "source": [
    "Создание функции `genre_weekday()` с четырьмя параметрами:\n",
    "* таблица (датафрейм) с данными,\n",
    "* день недели,\n",
    "* начальная временная метка в формате 'hh:mm', \n",
    "* последняя временная метка в формате 'hh:mm'.\n",
    "\n",
    "Функция должна вернуть информацию о топ-10 жанров тех треков, которые прослушивали в указанный день, в промежутке между двумя отметками времени."
   ]
  },
  {
   "cell_type": "code",
   "execution_count": 56,
   "metadata": {
    "id": "laJT9BYl_Zcu"
   },
   "outputs": [],
   "source": [
    "# объявление функции genre_weekday() с параметрами table, day, time1, time2,\n",
    "# которая возвращает информацию о самых популярных жанрах в указанный день в\n",
    "# заданное время:\n",
    "# 1) в переменную genre_df сохраняются те строки переданного датафрейма table, для\n",
    "#    которых одновременно:\n",
    "#    - значение в столбце day равно значению аргумента day\n",
    "#    - значение в столбце time больше значения аргумента time1\n",
    "#    - значение в столбце time меньше значения аргумента time2\n",
    "# Использована последовательная фильтрация с помощью логической индексации.\n",
    "# 2) группировка датафрейма genre_df по столбцу genre, взят один из его\n",
    "#    столбцов и посчитано методом count() количество записей для каждого из\n",
    "#    присутствующих жанров, получившийся Series записан в переменную\n",
    "#    genre_df_count\n",
    "# 3) отсортировано genre_df_count по убыванию встречаемости и сохранино\n",
    "#    в переменную genre_df_sorted\n",
    "# 4) возвращен Series из 10 первых значений genre_df_sorted, это будут топ-10\n",
    "#    популярных жанров (в указанный день, в заданное время)\n",
    "def genre_weekday(table, day, time1, time2):\n",
    "    genre_df = table[table['day'] == day]\n",
    "    genre_df = genre_df[(genre_df['time'] > time1) & (genre_df['time'] < time2)]\n",
    "    genre_df_count = genre_df.groupby('genre')['user_id'].count()\n",
    "    genre_df_sorted = genre_df_count.sort_values(ascending=False)\n",
    "    return genre_df_sorted.head(10)"
   ]
  },
  {
   "cell_type": "markdown",
   "metadata": {
    "id": "la2s2_PF_Zcu"
   },
   "source": [
    "Cравнение результатов функции `genre_weekday()` для Москвы и Санкт-Петербурга в понедельник утром (с 7:00 до 11:00) и в пятницу вечером (с 17:00 до 23:00):"
   ]
  },
  {
   "cell_type": "code",
   "execution_count": 58,
   "metadata": {
    "id": "yz7itPUQ_Zcu"
   },
   "outputs": [
    {
     "data": {
      "text/plain": [
       "genre\n",
       "pop            781\n",
       "dance          549\n",
       "electronic     480\n",
       "rock           474\n",
       "hiphop         286\n",
       "ruspop         186\n",
       "world          181\n",
       "rusrap         175\n",
       "alternative    164\n",
       "unknown        161\n",
       "Name: user_id, dtype: int64"
      ]
     },
     "metadata": {},
     "output_type": "display_data"
    }
   ],
   "source": [
    "# вызов функции для утра понедельника в Москве (вместо df — таблица moscow_general)\n",
    "# объекты, хранящие время, являются строками и сравниваются как строки\n",
    "display(genre_weekday(moscow_general, 'Monday', '07:00', '11:00'))"
   ]
  },
  {
   "cell_type": "code",
   "execution_count": 59,
   "metadata": {
    "id": "kwUcHPdy_Zcu"
   },
   "outputs": [
    {
     "data": {
      "text/plain": [
       "genre\n",
       "pop            218\n",
       "dance          182\n",
       "rock           162\n",
       "electronic     147\n",
       "hiphop          80\n",
       "ruspop          64\n",
       "alternative     58\n",
       "rusrap          55\n",
       "jazz            44\n",
       "classical       40\n",
       "Name: user_id, dtype: int64"
      ]
     },
     "metadata": {},
     "output_type": "display_data"
    }
   ],
   "source": [
    "# вызов функции для утра понедельника в Петербурге (вместо df — таблица spb_general)\n",
    "display(genre_weekday(spb_general, 'Monday', '07:00', '11:00'))"
   ]
  },
  {
   "cell_type": "code",
   "execution_count": 60,
   "metadata": {
    "id": "EzXVRE1o_Zcu"
   },
   "outputs": [
    {
     "data": {
      "text/plain": [
       "genre\n",
       "pop            713\n",
       "rock           517\n",
       "dance          495\n",
       "electronic     482\n",
       "hiphop         273\n",
       "world          208\n",
       "ruspop         170\n",
       "alternative    163\n",
       "classical      163\n",
       "rusrap         142\n",
       "Name: user_id, dtype: int64"
      ]
     },
     "metadata": {},
     "output_type": "display_data"
    }
   ],
   "source": [
    "# вызов функции для вечера пятницы в Москве\n",
    "display(genre_weekday(moscow_general, 'Friday', '17:00', '23:00'))"
   ]
  },
  {
   "cell_type": "code",
   "execution_count": 61,
   "metadata": {
    "id": "JZaEKu5v_Zcu"
   },
   "outputs": [
    {
     "data": {
      "text/plain": [
       "genre\n",
       "pop            256\n",
       "electronic     216\n",
       "rock           216\n",
       "dance          210\n",
       "hiphop          97\n",
       "alternative     63\n",
       "jazz            61\n",
       "classical       60\n",
       "rusrap          59\n",
       "world           54\n",
       "Name: user_id, dtype: int64"
      ]
     },
     "metadata": {},
     "output_type": "display_data"
    }
   ],
   "source": [
    "# вызов функции для вечера пятницы в Петербурге\n",
    "display(genre_weekday(spb_general, 'Friday', '17:00', '23:00'))"
   ]
  },
  {
   "cell_type": "markdown",
   "metadata": {
    "id": "wrCe4MNX_Zcu"
   },
   "source": [
    "**Выводы**\n",
    "\n",
    "Если сравнить топ-10 жанров в понедельник утром, можно сделать такие выводы:\n",
    "\n",
    "1. В Москве и Петербурге слушают похожую музыку. Единственное отличие — в московский рейтинг вошёл жанр `'world'`, а в петербургский — джаз (`'jazz'`) и классику (`'classical'`).\n",
    "\n",
    "2. В Москве пропущенных значений оказалось так много, что значение `'unknown'` заняло десятое место среди самых популярных жанров. Значит, пропущенные значения занимают существенную долю в данных и угрожают достоверности исследования.\n",
    "\n",
    "Вечер пятницы не меняет эту картину. Некоторые жанры поднимаются немного выше, другие спускаются, но в целом топ-10 остаётся тем же самым.\n",
    "\n",
    "Таким образом, вторая гипотеза подтвердилась лишь частично:\n",
    "* Пользователи слушают похожую музыку в начале недели и в конце.\n",
    "* Разница между Москвой и Петербургом не слишком выражена. В Москве чаще слушают русскую популярную музыку (`'ruspop'`), в Петербурге — джаз (`'jazz'`).\n",
    "\n",
    "Однако пропуски в данных ставят под сомнение этот результат. В Москве их так много, что рейтинг топ-10 мог бы выглядеть иначе, если бы не утерянные данные о жанрах."
   ]
  },
  {
   "cell_type": "markdown",
   "metadata": {
    "id": "JolODAqr_Zcu"
   },
   "source": [
    "### Жанровые предпочтения в Москве и Петербурге\n",
    "\n",
    "Гипотеза: Петербург — столица рэпа (`'rap'`), музыку этого жанра там слушают чаще, чем в Москве.  А Москва — город контрастов, в котором, тем не менее, преобладает поп-музыка (`'pop'`)."
   ]
  },
  {
   "cell_type": "markdown",
   "metadata": {
    "id": "DlegSvaT_Zcu"
   },
   "source": [
    "Группировка таблицы `moscow_general` по жанру и подсчет прослушиваний треков каждого жанра методом `count()`. Затем сортировка результов в порядке убывания и сохранение его в таблице `moscow_genres`."
   ]
  },
  {
   "cell_type": "code",
   "execution_count": 62,
   "metadata": {
    "id": "r19lIPke_Zcu"
   },
   "outputs": [],
   "source": [
    "# одной строкой: группировка таблицы moscow_general по столбцу 'genre', \n",
    "# подсчёт числа значений 'genre' в этой группировке методом count(), \n",
    "# сортировка получившегося Series в порядке убывания и сохранение в moscow_genres\n",
    "moscow_genres = moscow_general.groupby('genre')['genre'].count().sort_values(ascending=False) "
   ]
  },
  {
   "cell_type": "markdown",
   "metadata": {
    "id": "6kMuomxTiIr8"
   },
   "source": [
    "Вывод на экран первых десяти строк `moscow_genres`:"
   ]
  },
  {
   "cell_type": "code",
   "execution_count": 63,
   "metadata": {
    "id": "WhCSooF8_Zcv"
   },
   "outputs": [
    {
     "data": {
      "text/plain": [
       "genre\n",
       "pop            5892\n",
       "dance          4435\n",
       "rock           3965\n",
       "electronic     3786\n",
       "hiphop         2096\n",
       "classical      1616\n",
       "world          1432\n",
       "alternative    1379\n",
       "ruspop         1372\n",
       "rusrap         1161\n",
       "Name: genre, dtype: int64"
      ]
     },
     "metadata": {},
     "output_type": "display_data"
    }
   ],
   "source": [
    "# просмотр первых 10 строк moscow_genres\n",
    "display(moscow_genres.head(10))"
   ]
  },
  {
   "cell_type": "markdown",
   "metadata": {
    "id": "cnPG2vnN_Zcv"
   },
   "source": [
    "То же и для Петербурга.\n",
    "\n",
    "Группировка таблицы `spb_general` по жанру. Подсчет прослушиваний треков каждого жанра. Сортировка результата в порядке убывания и сохранение в таблице `spb_genres`:\n"
   ]
  },
  {
   "cell_type": "code",
   "execution_count": 64,
   "metadata": {
    "id": "gluLIpE7_Zcv"
   },
   "outputs": [],
   "source": [
    "# одной строкой: группировка таблицы spb_general по столбцу 'genre', \n",
    "# подсчёт числа значений 'genre' в этой группировке методом count(), \n",
    "# сортировка получившегося Series в порядке убывания и сохранение в spb_genres\n",
    "spb_genres = spb_general.groupby('genre')['genre'].count().sort_values(ascending=False)"
   ]
  },
  {
   "cell_type": "markdown",
   "metadata": {
    "id": "5Doha_ODgyQ8"
   },
   "source": [
    "Вывод на экран первых десяти строк `spb_genres`:"
   ]
  },
  {
   "cell_type": "code",
   "execution_count": 65,
   "metadata": {
    "id": "uaGJHjVU_Zcv"
   },
   "outputs": [
    {
     "data": {
      "text/plain": [
       "genre\n",
       "pop            2431\n",
       "dance          1932\n",
       "rock           1879\n",
       "electronic     1737\n",
       "hiphop          960\n",
       "alternative     649\n",
       "classical       646\n",
       "rusrap          564\n",
       "ruspop          538\n",
       "world           515\n",
       "Name: genre, dtype: int64"
      ]
     },
     "metadata": {},
     "output_type": "display_data"
    }
   ],
   "source": [
    "# просмотр первых 10 строк spb_genres\n",
    "display(spb_genres.head(10))"
   ]
  },
  {
   "cell_type": "markdown",
   "metadata": {
    "id": "RY51YJYu_Zcv"
   },
   "source": [
    "**Выводы**"
   ]
  },
  {
   "cell_type": "markdown",
   "metadata": {
    "id": "nVhnJEm__Zcv"
   },
   "source": [
    "Гипотеза частично подтвердилась:\n",
    "* Поп-музыка (`'pop'`) — самый популярный жанр в Москве, как и предполагала гипотеза. Более того, в топ-10 жанров встречается близкий жанр — русская популярная музыка (`'ruspop'`).\n",
    "* Вопреки ожиданиям, рэп (`'rap'`) одинаково популярен в Москве и Петербурге. "
   ]
  },
  {
   "cell_type": "markdown",
   "metadata": {
    "id": "ykKQ0N65_Zcv"
   },
   "source": [
    "## Шаг 4. Итоги исследования"
   ]
  },
  {
   "cell_type": "markdown",
   "metadata": {
    "id": "tjUwbHb3_Zcv"
   },
   "source": [
    "Проверено три гипотезы и установлено:\n",
    "\n",
    "1. День недели по-разному влияет на активность пользователей в Москве и Петербурге. \n",
    "\n",
    "Первая гипотеза полностью подтвердилась.\n",
    "\n",
    "2. Музыкальные предпочтения не сильно меняются в течение недели — будь то Москва или Петербург. Небольшие различия заметны в начале недели, по понедельникам:\n",
    "* в Москве слушают музыку жанра `'world'`,\n",
    "* в Петербурге — джаз и классику.\n",
    "\n",
    "Таким образом, вторая гипотеза подтвердилась лишь отчасти. Этот результат мог оказаться иным, если бы не пропуски в данных.\n",
    "\n",
    "3. Во вкусах пользователей Москвы и Петербурга больше общего чем различий. Вопреки ожиданиям, предпочтения жанров в Петербурге напоминают московские.\n",
    "\n",
    "Третья гипотеза не подтвердилась. Если различия в предпочтениях и существуют, на основной массе пользователей они незаметны.\n",
    "\n",
    "**На практике исследования содержат проверки статистических гипотез.**\n",
    "Из данных одного сервиса не всегда можно сделать вывод о всех жителях города.\n",
    "Проверки статистических гипотез покажут, насколько они достоверны, исходя из имеющихся данных."
   ]
  }
 ],
 "metadata": {
  "ExecuteTimeLog": [
   {
    "duration": 5,
    "start_time": "2022-01-31T10:44:17.528Z"
   },
   {
    "duration": 402,
    "start_time": "2022-01-31T10:45:02.259Z"
   },
   {
    "duration": 358,
    "start_time": "2022-01-31T10:45:17.448Z"
   },
   {
    "duration": 342,
    "start_time": "2022-01-31T10:48:11.538Z"
   },
   {
    "duration": 334,
    "start_time": "2022-01-31T10:53:37.999Z"
   },
   {
    "duration": 343,
    "start_time": "2022-01-31T10:54:07.079Z"
   },
   {
    "duration": 781,
    "start_time": "2022-01-31T10:54:16.880Z"
   },
   {
    "duration": 187,
    "start_time": "2022-01-31T10:54:20.148Z"
   },
   {
    "duration": 3,
    "start_time": "2022-01-31T10:54:28.933Z"
   },
   {
    "duration": 190,
    "start_time": "2022-01-31T10:54:38.607Z"
   },
   {
    "duration": 26,
    "start_time": "2022-01-31T10:54:41.847Z"
   },
   {
    "duration": 38,
    "start_time": "2022-01-31T10:56:39.822Z"
   },
   {
    "duration": 7,
    "start_time": "2022-01-31T13:24:18.638Z"
   },
   {
    "duration": 5,
    "start_time": "2022-01-31T13:39:43.740Z"
   },
   {
    "duration": 375,
    "start_time": "2022-01-31T13:39:51.179Z"
   },
   {
    "duration": 358,
    "start_time": "2022-01-31T13:40:01.682Z"
   },
   {
    "duration": 21,
    "start_time": "2022-01-31T13:40:41.548Z"
   },
   {
    "duration": 5,
    "start_time": "2022-01-31T13:41:04.860Z"
   },
   {
    "duration": 29,
    "start_time": "2022-01-31T13:47:53.161Z"
   },
   {
    "duration": 173,
    "start_time": "2022-01-31T14:03:37.839Z"
   },
   {
    "duration": 112,
    "start_time": "2022-01-31T14:07:44.556Z"
   },
   {
    "duration": 114,
    "start_time": "2022-01-31T14:07:56.087Z"
   },
   {
    "duration": 357,
    "start_time": "2022-01-31T14:10:10.908Z"
   },
   {
    "duration": 115,
    "start_time": "2022-01-31T14:10:24.729Z"
   },
   {
    "duration": 336,
    "start_time": "2022-01-31T14:10:33.500Z"
   },
   {
    "duration": 138,
    "start_time": "2022-01-31T14:12:00.520Z"
   },
   {
    "duration": 111,
    "start_time": "2022-01-31T14:13:43.341Z"
   },
   {
    "duration": 380,
    "start_time": "2022-01-31T14:14:24.000Z"
   },
   {
    "duration": 19,
    "start_time": "2022-01-31T14:22:24.680Z"
   },
   {
    "duration": 35,
    "start_time": "2022-01-31T14:23:09.379Z"
   },
   {
    "duration": 31,
    "start_time": "2022-01-31T14:24:22.068Z"
   },
   {
    "duration": 45,
    "start_time": "2022-01-31T14:24:34.920Z"
   },
   {
    "duration": 508,
    "start_time": "2022-01-31T14:25:02.940Z"
   },
   {
    "duration": 22,
    "start_time": "2022-01-31T14:25:35.474Z"
   },
   {
    "duration": 31,
    "start_time": "2022-01-31T14:25:37.941Z"
   },
   {
    "duration": 24,
    "start_time": "2022-01-31T14:28:56.520Z"
   },
   {
    "duration": 37,
    "start_time": "2022-01-31T14:28:59.620Z"
   },
   {
    "duration": 23,
    "start_time": "2022-01-31T14:32:27.434Z"
   },
   {
    "duration": 30,
    "start_time": "2022-01-31T14:32:32.460Z"
   },
   {
    "duration": 116,
    "start_time": "2022-01-31T14:35:55.520Z"
   },
   {
    "duration": 88,
    "start_time": "2022-01-31T14:36:06.260Z"
   },
   {
    "duration": 105,
    "start_time": "2022-01-31T14:37:47.880Z"
   },
   {
    "duration": 79,
    "start_time": "2022-01-31T14:37:58.640Z"
   },
   {
    "duration": 115,
    "start_time": "2022-01-31T14:38:02.318Z"
   },
   {
    "duration": 124,
    "start_time": "2022-01-31T14:38:31.921Z"
   },
   {
    "duration": 105,
    "start_time": "2022-01-31T14:38:57.880Z"
   },
   {
    "duration": 89,
    "start_time": "2022-01-31T14:39:03.541Z"
   },
   {
    "duration": 14,
    "start_time": "2022-01-31T14:42:28.641Z"
   },
   {
    "duration": 10,
    "start_time": "2022-01-31T14:47:14.420Z"
   },
   {
    "duration": 4,
    "start_time": "2022-01-31T15:13:36.787Z"
   },
   {
    "duration": 15,
    "start_time": "2022-01-31T15:16:39.567Z"
   },
   {
    "duration": 10,
    "start_time": "2022-01-31T15:17:08.659Z"
   },
   {
    "duration": 8,
    "start_time": "2022-01-31T15:17:54.480Z"
   },
   {
    "duration": 12,
    "start_time": "2022-01-31T15:18:26.860Z"
   },
   {
    "duration": 18,
    "start_time": "2022-01-31T15:18:46.719Z"
   },
   {
    "duration": 14,
    "start_time": "2022-01-31T15:19:30.019Z"
   },
   {
    "duration": 117,
    "start_time": "2022-01-31T15:19:38.173Z"
   },
   {
    "duration": 5,
    "start_time": "2022-01-31T15:19:47.500Z"
   },
   {
    "duration": 20,
    "start_time": "2022-01-31T15:19:52.519Z"
   },
   {
    "duration": 10,
    "start_time": "2022-01-31T15:20:06.067Z"
   },
   {
    "duration": 89,
    "start_time": "2022-01-31T15:21:10.328Z"
   },
   {
    "duration": 115,
    "start_time": "2022-01-31T15:21:14.787Z"
   },
   {
    "duration": 107,
    "start_time": "2022-01-31T15:21:25.299Z"
   },
   {
    "duration": 16,
    "start_time": "2022-01-31T16:34:26.638Z"
   },
   {
    "duration": 19,
    "start_time": "2022-01-31T16:34:44.649Z"
   },
   {
    "duration": 132,
    "start_time": "2022-01-31T16:37:27.935Z"
   },
   {
    "duration": 78,
    "start_time": "2022-01-31T16:37:33.088Z"
   },
   {
    "duration": 96,
    "start_time": "2022-01-31T16:39:03.949Z"
   },
   {
    "duration": 103,
    "start_time": "2022-01-31T16:41:33.449Z"
   },
   {
    "duration": 4,
    "start_time": "2022-01-31T16:41:47.109Z"
   },
   {
    "duration": 14,
    "start_time": "2022-01-31T16:41:55.380Z"
   },
   {
    "duration": 14,
    "start_time": "2022-01-31T16:41:59.901Z"
   },
   {
    "duration": 109,
    "start_time": "2022-01-31T16:42:50.650Z"
   },
   {
    "duration": 154,
    "start_time": "2022-01-31T16:43:02.721Z"
   },
   {
    "duration": 4,
    "start_time": "2022-01-31T16:48:13.742Z"
   },
   {
    "duration": 201,
    "start_time": "2022-01-31T16:48:17.161Z"
   },
   {
    "duration": 17,
    "start_time": "2022-01-31T16:48:20.660Z"
   },
   {
    "duration": 54,
    "start_time": "2022-01-31T16:48:39.016Z"
   },
   {
    "duration": 8,
    "start_time": "2022-01-31T16:48:52.873Z"
   },
   {
    "duration": 31,
    "start_time": "2022-01-31T16:49:05.750Z"
   },
   {
    "duration": 10,
    "start_time": "2022-01-31T16:49:14.220Z"
   },
   {
    "duration": 25,
    "start_time": "2022-01-31T16:52:13.553Z"
   },
   {
    "duration": 21,
    "start_time": "2022-01-31T16:52:22.700Z"
   },
   {
    "duration": 5,
    "start_time": "2022-01-31T16:52:27.007Z"
   },
   {
    "duration": 29,
    "start_time": "2022-01-31T16:52:35.880Z"
   },
   {
    "duration": 42,
    "start_time": "2022-01-31T16:52:47.941Z"
   },
   {
    "duration": 58,
    "start_time": "2022-01-31T16:53:08.900Z"
   },
   {
    "duration": 124,
    "start_time": "2022-01-31T16:53:19.120Z"
   },
   {
    "duration": 138,
    "start_time": "2022-01-31T16:53:32.241Z"
   },
   {
    "duration": 102,
    "start_time": "2022-01-31T16:53:38.588Z"
   },
   {
    "duration": 131,
    "start_time": "2022-01-31T16:54:00.220Z"
   },
   {
    "duration": 5,
    "start_time": "2022-01-31T16:55:41.581Z"
   },
   {
    "duration": 20,
    "start_time": "2022-01-31T16:56:00.549Z"
   },
   {
    "duration": 13,
    "start_time": "2022-01-31T16:56:33.661Z"
   },
   {
    "duration": 323,
    "start_time": "2022-02-01T14:25:29.543Z"
   },
   {
    "duration": 282,
    "start_time": "2022-02-01T14:25:53.549Z"
   },
   {
    "duration": 271,
    "start_time": "2022-02-01T14:26:01.721Z"
   },
   {
    "duration": 273,
    "start_time": "2022-02-01T14:27:09.101Z"
   },
   {
    "duration": 533,
    "start_time": "2022-02-01T14:27:42.818Z"
   },
   {
    "duration": 123,
    "start_time": "2022-02-01T14:27:47.530Z"
   },
   {
    "duration": 16,
    "start_time": "2022-02-01T14:27:50.620Z"
   },
   {
    "duration": 23,
    "start_time": "2022-02-01T14:28:01.601Z"
   },
   {
    "duration": 3,
    "start_time": "2022-02-01T14:28:08.343Z"
   },
   {
    "duration": 19,
    "start_time": "2022-02-01T14:28:14.129Z"
   },
   {
    "duration": 3,
    "start_time": "2022-02-01T14:28:17.518Z"
   },
   {
    "duration": 21,
    "start_time": "2022-02-01T14:28:21.400Z"
   },
   {
    "duration": 17,
    "start_time": "2022-02-01T14:28:28.644Z"
   },
   {
    "duration": 22,
    "start_time": "2022-02-01T14:28:32.480Z"
   },
   {
    "duration": 53,
    "start_time": "2022-02-01T14:28:37.030Z"
   },
   {
    "duration": 54,
    "start_time": "2022-02-01T14:28:40.702Z"
   },
   {
    "duration": 52,
    "start_time": "2022-02-01T14:28:44.968Z"
   },
   {
    "duration": 38,
    "start_time": "2022-02-01T14:28:49.819Z"
   },
   {
    "duration": 3,
    "start_time": "2022-02-01T14:28:58.384Z"
   },
   {
    "duration": 9,
    "start_time": "2022-02-01T14:29:03.448Z"
   },
   {
    "duration": 37,
    "start_time": "2022-02-01T14:29:12.120Z"
   },
   {
    "duration": 10,
    "start_time": "2022-02-01T14:35:24.285Z"
   },
   {
    "duration": 9,
    "start_time": "2022-02-01T14:35:51.077Z"
   },
   {
    "duration": 10,
    "start_time": "2022-02-01T14:38:05.417Z"
   },
   {
    "duration": 4,
    "start_time": "2022-02-01T14:58:05.310Z"
   },
   {
    "duration": 303,
    "start_time": "2022-02-01T14:58:58.887Z"
   },
   {
    "duration": 542,
    "start_time": "2022-02-01T14:59:39.390Z"
   },
   {
    "duration": 7201,
    "start_time": "2022-02-01T14:59:48.467Z"
   },
   {
    "duration": 544,
    "start_time": "2022-02-01T15:00:13.828Z"
   },
   {
    "duration": 87,
    "start_time": "2022-02-01T15:00:48.108Z"
   },
   {
    "duration": 7,
    "start_time": "2022-02-01T15:01:04.719Z"
   },
   {
    "duration": 6701,
    "start_time": "2022-02-01T15:01:08.221Z"
   },
   {
    "duration": 3,
    "start_time": "2022-02-01T15:01:29.453Z"
   },
   {
    "duration": 20,
    "start_time": "2022-02-01T15:01:32.392Z"
   },
   {
    "duration": 19,
    "start_time": "2022-02-01T15:02:02.260Z"
   },
   {
    "duration": 21,
    "start_time": "2022-02-01T15:02:23.951Z"
   },
   {
    "duration": 22,
    "start_time": "2022-02-01T15:02:31.788Z"
   },
   {
    "duration": 18,
    "start_time": "2022-02-01T15:02:55.272Z"
   },
   {
    "duration": 20,
    "start_time": "2022-02-01T15:03:18.751Z"
   },
   {
    "duration": 18,
    "start_time": "2022-02-01T15:03:56.648Z"
   },
   {
    "duration": 23,
    "start_time": "2022-02-01T15:04:17.020Z"
   },
   {
    "duration": 19,
    "start_time": "2022-02-01T15:04:32.548Z"
   },
   {
    "duration": 286,
    "start_time": "2022-02-01T15:17:08.582Z"
   },
   {
    "duration": 275,
    "start_time": "2022-02-01T15:17:28.313Z"
   },
   {
    "duration": 272,
    "start_time": "2022-02-01T15:18:31.394Z"
   },
   {
    "duration": 261,
    "start_time": "2022-02-01T15:22:32.457Z"
   },
   {
    "duration": 259,
    "start_time": "2022-02-01T15:22:55.857Z"
   },
   {
    "duration": 4,
    "start_time": "2022-02-01T15:25:34.033Z"
   },
   {
    "duration": 7,
    "start_time": "2022-02-01T15:26:12.669Z"
   },
   {
    "duration": 88,
    "start_time": "2022-02-01T15:28:25.385Z"
   },
   {
    "duration": 89,
    "start_time": "2022-02-01T15:28:38.560Z"
   },
   {
    "duration": 4,
    "start_time": "2022-02-01T15:29:29.772Z"
   },
   {
    "duration": 17,
    "start_time": "2022-02-01T15:29:34.889Z"
   },
   {
    "duration": 13,
    "start_time": "2022-02-01T15:29:37.525Z"
   },
   {
    "duration": 14,
    "start_time": "2022-02-01T15:29:39.410Z"
   },
   {
    "duration": 14,
    "start_time": "2022-02-01T15:29:41.489Z"
   },
   {
    "duration": 15,
    "start_time": "2022-02-01T15:29:43.421Z"
   },
   {
    "duration": 13,
    "start_time": "2022-02-01T15:29:45.269Z"
   },
   {
    "duration": 8,
    "start_time": "2022-02-01T15:30:35.118Z"
   },
   {
    "duration": 509,
    "start_time": "2022-02-02T10:08:25.790Z"
   },
   {
    "duration": 350,
    "start_time": "2022-02-02T10:12:19.997Z"
   },
   {
    "duration": 321,
    "start_time": "2022-02-02T10:13:01.291Z"
   },
   {
    "duration": 298,
    "start_time": "2022-02-02T10:13:37.065Z"
   },
   {
    "duration": 323,
    "start_time": "2022-02-02T10:14:04.519Z"
   },
   {
    "duration": 742,
    "start_time": "2022-02-02T10:16:19.526Z"
   },
   {
    "duration": 189,
    "start_time": "2022-02-02T10:16:25.869Z"
   },
   {
    "duration": 27,
    "start_time": "2022-02-02T10:16:31.749Z"
   },
   {
    "duration": 32,
    "start_time": "2022-02-02T10:16:37.261Z"
   },
   {
    "duration": 5,
    "start_time": "2022-02-02T10:16:45.462Z"
   },
   {
    "duration": 26,
    "start_time": "2022-02-02T10:16:49.382Z"
   },
   {
    "duration": 5,
    "start_time": "2022-02-02T10:16:52.989Z"
   },
   {
    "duration": 30,
    "start_time": "2022-02-02T10:16:58.246Z"
   },
   {
    "duration": 21,
    "start_time": "2022-02-02T10:17:07.809Z"
   },
   {
    "duration": 28,
    "start_time": "2022-02-02T10:17:13.945Z"
   },
   {
    "duration": 82,
    "start_time": "2022-02-02T10:17:19.301Z"
   },
   {
    "duration": 103,
    "start_time": "2022-02-02T10:17:22.529Z"
   },
   {
    "duration": 80,
    "start_time": "2022-02-02T10:17:26.963Z"
   },
   {
    "duration": 59,
    "start_time": "2022-02-02T10:17:33.345Z"
   },
   {
    "duration": 4,
    "start_time": "2022-02-02T10:17:41.431Z"
   },
   {
    "duration": 3,
    "start_time": "2022-02-02T10:17:45.089Z"
   },
   {
    "duration": 15,
    "start_time": "2022-02-02T10:17:50.112Z"
   },
   {
    "duration": 56,
    "start_time": "2022-02-02T10:17:55.146Z"
   },
   {
    "duration": 20,
    "start_time": "2022-02-02T10:18:08.630Z"
   },
   {
    "duration": 14,
    "start_time": "2022-02-02T10:18:16.657Z"
   },
   {
    "duration": 5,
    "start_time": "2022-02-02T10:18:29.153Z"
   },
   {
    "duration": 20,
    "start_time": "2022-02-02T10:18:33.781Z"
   },
   {
    "duration": 19,
    "start_time": "2022-02-02T10:18:36.349Z"
   },
   {
    "duration": 24,
    "start_time": "2022-02-02T10:18:38.830Z"
   },
   {
    "duration": 18,
    "start_time": "2022-02-02T10:18:41.601Z"
   },
   {
    "duration": 20,
    "start_time": "2022-02-02T10:18:44.269Z"
   },
   {
    "duration": 19,
    "start_time": "2022-02-02T10:18:47.858Z"
   },
   {
    "duration": 12,
    "start_time": "2022-02-02T10:18:56.889Z"
   },
   {
    "duration": 9139,
    "start_time": "2022-02-02T10:19:12.830Z"
   },
   {
    "duration": 8906,
    "start_time": "2022-02-02T10:20:56.453Z"
   },
   {
    "duration": 336,
    "start_time": "2022-02-02T10:21:14.057Z"
   },
   {
    "duration": 29,
    "start_time": "2022-02-02T10:31:21.094Z"
   },
   {
    "duration": 27,
    "start_time": "2022-02-02T10:32:38.545Z"
   },
   {
    "duration": 104,
    "start_time": "2022-02-02T10:48:02.842Z"
   },
   {
    "duration": 7,
    "start_time": "2022-02-02T10:48:35.451Z"
   },
   {
    "duration": 7,
    "start_time": "2022-02-02T10:51:16.289Z"
   },
   {
    "duration": 301,
    "start_time": "2022-02-02T10:52:34.378Z"
   },
   {
    "duration": 302,
    "start_time": "2022-02-02T10:54:09.980Z"
   },
   {
    "duration": 318,
    "start_time": "2022-02-02T10:54:57.527Z"
   },
   {
    "duration": 301,
    "start_time": "2022-02-02T10:55:08.545Z"
   },
   {
    "duration": 5,
    "start_time": "2022-02-02T10:58:42.299Z"
   },
   {
    "duration": 609,
    "start_time": "2022-02-02T11:00:46.470Z"
   },
   {
    "duration": 5,
    "start_time": "2022-02-02T11:01:36.119Z"
   },
   {
    "duration": 671,
    "start_time": "2022-02-02T11:01:42.017Z"
   },
   {
    "duration": 5,
    "start_time": "2022-02-02T11:02:47.428Z"
   },
   {
    "duration": 664,
    "start_time": "2022-02-02T11:02:51.500Z"
   },
   {
    "duration": 6,
    "start_time": "2022-02-02T11:05:09.646Z"
   },
   {
    "duration": 718,
    "start_time": "2022-02-02T11:05:14.909Z"
   },
   {
    "duration": 6,
    "start_time": "2022-02-02T11:07:32.345Z"
   },
   {
    "duration": 677,
    "start_time": "2022-02-02T11:07:36.464Z"
   },
   {
    "duration": 5,
    "start_time": "2022-02-02T11:08:33.104Z"
   },
   {
    "duration": 23,
    "start_time": "2022-02-02T11:08:36.880Z"
   },
   {
    "duration": 17,
    "start_time": "2022-02-02T11:09:15.788Z"
   },
   {
    "duration": 22,
    "start_time": "2022-02-02T11:09:57.407Z"
   },
   {
    "duration": 15,
    "start_time": "2022-02-02T11:10:31.459Z"
   },
   {
    "duration": 22,
    "start_time": "2022-02-02T11:10:34.559Z"
   },
   {
    "duration": 21,
    "start_time": "2022-02-02T11:10:38.419Z"
   },
   {
    "duration": 11,
    "start_time": "2022-02-02T11:15:06.979Z"
   },
   {
    "duration": 7,
    "start_time": "2022-02-02T11:15:38.291Z"
   },
   {
    "duration": 7,
    "start_time": "2022-02-02T11:16:32.352Z"
   },
   {
    "duration": 8,
    "start_time": "2022-02-02T11:16:34.752Z"
   },
   {
    "duration": 7,
    "start_time": "2022-02-02T11:16:56.379Z"
   },
   {
    "duration": 7,
    "start_time": "2022-02-02T11:17:15.771Z"
   },
   {
    "duration": 10,
    "start_time": "2022-02-02T11:17:18.051Z"
   },
   {
    "duration": 7,
    "start_time": "2022-02-02T11:17:28.670Z"
   },
   {
    "duration": 13,
    "start_time": "2022-02-02T11:35:22.346Z"
   },
   {
    "duration": 11,
    "start_time": "2022-02-02T11:36:08.167Z"
   },
   {
    "duration": 10,
    "start_time": "2022-02-02T11:49:37.724Z"
   },
   {
    "duration": 27,
    "start_time": "2022-02-02T11:55:48.796Z"
   },
   {
    "duration": 60,
    "start_time": "2022-02-02T11:55:58.164Z"
   },
   {
    "duration": 20,
    "start_time": "2022-02-02T11:56:25.644Z"
   },
   {
    "duration": 15,
    "start_time": "2022-02-02T11:56:35.862Z"
   },
   {
    "duration": 5,
    "start_time": "2022-02-02T11:56:47.717Z"
   },
   {
    "duration": 20,
    "start_time": "2022-02-02T11:56:55.153Z"
   },
   {
    "duration": 24,
    "start_time": "2022-02-02T11:56:58.247Z"
   },
   {
    "duration": 19,
    "start_time": "2022-02-02T11:57:01.289Z"
   },
   {
    "duration": 17,
    "start_time": "2022-02-02T11:57:04.973Z"
   },
   {
    "duration": 21,
    "start_time": "2022-02-02T11:57:08.820Z"
   },
   {
    "duration": 22,
    "start_time": "2022-02-02T11:57:11.523Z"
   },
   {
    "duration": 12,
    "start_time": "2022-02-02T11:57:19.757Z"
   },
   {
    "duration": 29,
    "start_time": "2022-02-02T11:57:35.684Z"
   },
   {
    "duration": 27,
    "start_time": "2022-02-02T11:57:41.905Z"
   },
   {
    "duration": 7,
    "start_time": "2022-02-02T11:57:53.493Z"
   },
   {
    "duration": 27,
    "start_time": "2022-02-02T11:58:01.325Z"
   },
   {
    "duration": 21,
    "start_time": "2022-02-02T11:58:09.323Z"
   },
   {
    "duration": 23,
    "start_time": "2022-02-02T11:58:16.651Z"
   },
   {
    "duration": 18,
    "start_time": "2022-02-02T11:58:19.612Z"
   },
   {
    "duration": 13,
    "start_time": "2022-02-02T11:58:28.534Z"
   },
   {
    "duration": 7,
    "start_time": "2022-02-02T11:58:35.844Z"
   },
   {
    "duration": 10,
    "start_time": "2022-02-02T11:58:43.746Z"
   },
   {
    "duration": 7,
    "start_time": "2022-02-02T11:58:47.393Z"
   },
   {
    "duration": 590,
    "start_time": "2022-02-11T23:42:14.121Z"
   },
   {
    "duration": 133,
    "start_time": "2022-02-11T23:42:14.713Z"
   },
   {
    "duration": 17,
    "start_time": "2022-02-11T23:42:14.850Z"
   },
   {
    "duration": 26,
    "start_time": "2022-02-11T23:42:14.869Z"
   },
   {
    "duration": 21,
    "start_time": "2022-02-11T23:42:14.897Z"
   },
   {
    "duration": 23,
    "start_time": "2022-02-11T23:42:14.920Z"
   },
   {
    "duration": 6,
    "start_time": "2022-02-11T23:42:14.946Z"
   },
   {
    "duration": 25,
    "start_time": "2022-02-11T23:42:14.955Z"
   },
   {
    "duration": 39,
    "start_time": "2022-02-11T23:42:14.982Z"
   },
   {
    "duration": 33,
    "start_time": "2022-02-11T23:42:15.023Z"
   },
   {
    "duration": 64,
    "start_time": "2022-02-11T23:42:15.058Z"
   },
   {
    "duration": 69,
    "start_time": "2022-02-11T23:42:15.124Z"
   },
   {
    "duration": 66,
    "start_time": "2022-02-11T23:42:15.195Z"
   },
   {
    "duration": 39,
    "start_time": "2022-02-11T23:42:15.263Z"
   },
   {
    "duration": 16,
    "start_time": "2022-02-11T23:42:15.304Z"
   },
   {
    "duration": 24,
    "start_time": "2022-02-11T23:42:15.322Z"
   },
   {
    "duration": 41,
    "start_time": "2022-02-11T23:42:15.348Z"
   },
   {
    "duration": 32,
    "start_time": "2022-02-11T23:42:15.391Z"
   },
   {
    "duration": 11,
    "start_time": "2022-02-11T23:42:15.425Z"
   },
   {
    "duration": 3,
    "start_time": "2022-02-11T23:42:15.438Z"
   },
   {
    "duration": 24,
    "start_time": "2022-02-11T23:42:15.443Z"
   },
   {
    "duration": 15,
    "start_time": "2022-02-11T23:42:15.471Z"
   },
   {
    "duration": 42,
    "start_time": "2022-02-11T23:42:15.488Z"
   },
   {
    "duration": 16,
    "start_time": "2022-02-11T23:42:15.532Z"
   },
   {
    "duration": 16,
    "start_time": "2022-02-11T23:42:15.550Z"
   },
   {
    "duration": 14,
    "start_time": "2022-02-11T23:42:15.567Z"
   },
   {
    "duration": 12,
    "start_time": "2022-02-11T23:42:15.583Z"
   },
   {
    "duration": 41,
    "start_time": "2022-02-11T23:42:15.596Z"
   },
   {
    "duration": 17,
    "start_time": "2022-02-11T23:42:15.639Z"
   },
   {
    "duration": 4,
    "start_time": "2022-02-11T23:42:15.657Z"
   },
   {
    "duration": 25,
    "start_time": "2022-02-11T23:42:15.662Z"
   },
   {
    "duration": 36,
    "start_time": "2022-02-11T23:42:15.688Z"
   },
   {
    "duration": 17,
    "start_time": "2022-02-11T23:42:15.726Z"
   },
   {
    "duration": 11,
    "start_time": "2022-02-11T23:42:15.745Z"
   },
   {
    "duration": 7,
    "start_time": "2022-02-11T23:42:15.758Z"
   },
   {
    "duration": 5,
    "start_time": "2022-02-11T23:42:15.767Z"
   },
   {
    "duration": 9,
    "start_time": "2022-02-11T23:42:15.774Z"
   },
   {
    "duration": 35,
    "start_time": "2022-02-11T23:42:15.784Z"
   },
   {
    "duration": 700,
    "start_time": "2022-02-12T11:32:47.004Z"
   },
   {
    "duration": 833,
    "start_time": "2022-02-12T11:33:21.218Z"
   },
   {
    "duration": 270,
    "start_time": "2022-02-12T11:33:22.054Z"
   },
   {
    "duration": 6,
    "start_time": "2022-02-12T11:33:38.275Z"
   },
   {
    "duration": 219,
    "start_time": "2022-02-12T11:33:42.127Z"
   },
   {
    "duration": 27,
    "start_time": "2022-02-12T11:33:56.470Z"
   },
   {
    "duration": 31,
    "start_time": "2022-02-12T11:36:27.457Z"
   },
   {
    "duration": 9,
    "start_time": "2022-02-12T11:36:53.364Z"
   },
   {
    "duration": 28,
    "start_time": "2022-02-12T11:37:20.622Z"
   },
   {
    "duration": 5,
    "start_time": "2022-02-12T11:37:22.804Z"
   },
   {
    "duration": 42,
    "start_time": "2022-02-12T11:37:27.217Z"
   },
   {
    "duration": 28,
    "start_time": "2022-02-12T11:37:30.711Z"
   },
   {
    "duration": 34,
    "start_time": "2022-02-12T11:37:31.934Z"
   },
   {
    "duration": 101,
    "start_time": "2022-02-12T11:37:39.740Z"
   },
   {
    "duration": 93,
    "start_time": "2022-02-12T11:37:41.138Z"
   },
   {
    "duration": 74,
    "start_time": "2022-02-12T11:37:42.201Z"
   },
   {
    "duration": 62,
    "start_time": "2022-02-12T11:37:44.870Z"
   },
   {
    "duration": 4,
    "start_time": "2022-02-12T11:37:48.227Z"
   },
   {
    "duration": 42,
    "start_time": "2022-02-12T11:39:48.115Z"
   },
   {
    "duration": 33,
    "start_time": "2022-02-12T11:41:08.264Z"
   },
   {
    "duration": 33,
    "start_time": "2022-02-12T11:41:20.235Z"
   },
   {
    "duration": 31,
    "start_time": "2022-02-12T11:41:38.243Z"
   },
   {
    "duration": 62,
    "start_time": "2022-02-12T11:43:22.856Z"
   },
   {
    "duration": 15,
    "start_time": "2022-02-12T11:43:31.283Z"
   },
   {
    "duration": 14,
    "start_time": "2022-02-12T11:43:32.833Z"
   },
   {
    "duration": 4,
    "start_time": "2022-02-12T11:43:36.106Z"
   },
   {
    "duration": 20,
    "start_time": "2022-02-12T11:43:37.484Z"
   },
   {
    "duration": 18,
    "start_time": "2022-02-12T11:43:38.969Z"
   },
   {
    "duration": 31,
    "start_time": "2022-02-12T11:43:39.479Z"
   },
   {
    "duration": 18,
    "start_time": "2022-02-12T11:43:39.994Z"
   },
   {
    "duration": 20,
    "start_time": "2022-02-12T11:43:40.719Z"
   },
   {
    "duration": 21,
    "start_time": "2022-02-12T11:43:41.402Z"
   },
   {
    "duration": 15,
    "start_time": "2022-02-12T11:43:44.646Z"
   },
   {
    "duration": 29,
    "start_time": "2022-02-12T11:45:22.893Z"
   },
   {
    "duration": 28,
    "start_time": "2022-02-12T11:45:25.150Z"
   },
   {
    "duration": 5,
    "start_time": "2022-02-12T11:45:27.573Z"
   },
   {
    "duration": 25,
    "start_time": "2022-02-12T11:46:06.202Z"
   },
   {
    "duration": 16,
    "start_time": "2022-02-12T11:46:07.022Z"
   },
   {
    "duration": 21,
    "start_time": "2022-02-12T11:46:07.650Z"
   },
   {
    "duration": 21,
    "start_time": "2022-02-12T11:46:08.442Z"
   },
   {
    "duration": 10,
    "start_time": "2022-02-12T11:46:12.186Z"
   },
   {
    "duration": 7,
    "start_time": "2022-02-12T11:46:13.184Z"
   },
   {
    "duration": 8,
    "start_time": "2022-02-12T11:46:14.564Z"
   },
   {
    "duration": 10,
    "start_time": "2022-02-12T11:46:20.012Z"
   },
   {
    "duration": 762,
    "start_time": "2022-02-12T11:47:19.379Z"
   },
   {
    "duration": 172,
    "start_time": "2022-02-12T11:47:20.144Z"
   },
   {
    "duration": 26,
    "start_time": "2022-02-12T11:47:20.319Z"
   },
   {
    "duration": 34,
    "start_time": "2022-02-12T11:47:20.348Z"
   },
   {
    "duration": 6,
    "start_time": "2022-02-12T11:47:20.384Z"
   },
   {
    "duration": 26,
    "start_time": "2022-02-12T11:47:20.424Z"
   },
   {
    "duration": 6,
    "start_time": "2022-02-12T11:47:20.454Z"
   },
   {
    "duration": 60,
    "start_time": "2022-02-12T11:47:20.465Z"
   },
   {
    "duration": 24,
    "start_time": "2022-02-12T11:47:20.529Z"
   },
   {
    "duration": 30,
    "start_time": "2022-02-12T11:47:20.556Z"
   },
   {
    "duration": 113,
    "start_time": "2022-02-12T11:47:20.589Z"
   },
   {
    "duration": 122,
    "start_time": "2022-02-12T11:47:20.705Z"
   },
   {
    "duration": 75,
    "start_time": "2022-02-12T11:47:20.829Z"
   },
   {
    "duration": 68,
    "start_time": "2022-02-12T11:47:20.906Z"
   },
   {
    "duration": 4,
    "start_time": "2022-02-12T11:47:20.977Z"
   },
   {
    "duration": 57,
    "start_time": "2022-02-12T11:47:20.983Z"
   },
   {
    "duration": 57,
    "start_time": "2022-02-12T11:47:21.043Z"
   },
   {
    "duration": 31,
    "start_time": "2022-02-12T11:47:21.102Z"
   },
   {
    "duration": 15,
    "start_time": "2022-02-12T11:47:21.135Z"
   },
   {
    "duration": 5,
    "start_time": "2022-02-12T11:47:21.153Z"
   },
   {
    "duration": 27,
    "start_time": "2022-02-12T11:47:21.160Z"
   },
   {
    "duration": 58,
    "start_time": "2022-02-12T11:47:21.189Z"
   },
   {
    "duration": 18,
    "start_time": "2022-02-12T11:47:21.252Z"
   },
   {
    "duration": 54,
    "start_time": "2022-02-12T11:47:21.274Z"
   },
   {
    "duration": 30,
    "start_time": "2022-02-12T11:47:21.331Z"
   },
   {
    "duration": 27,
    "start_time": "2022-02-12T11:47:21.363Z"
   },
   {
    "duration": 42,
    "start_time": "2022-02-12T11:47:21.392Z"
   },
   {
    "duration": 32,
    "start_time": "2022-02-12T11:47:21.438Z"
   },
   {
    "duration": 65,
    "start_time": "2022-02-12T11:47:21.473Z"
   },
   {
    "duration": 7,
    "start_time": "2022-02-12T11:47:21.541Z"
   },
   {
    "duration": 45,
    "start_time": "2022-02-12T11:47:21.552Z"
   },
   {
    "duration": 37,
    "start_time": "2022-02-12T11:47:21.600Z"
   },
   {
    "duration": 23,
    "start_time": "2022-02-12T11:47:21.640Z"
   },
   {
    "duration": 18,
    "start_time": "2022-02-12T11:47:21.666Z"
   },
   {
    "duration": 12,
    "start_time": "2022-02-12T11:47:21.723Z"
   },
   {
    "duration": 8,
    "start_time": "2022-02-12T11:47:21.738Z"
   },
   {
    "duration": 12,
    "start_time": "2022-02-12T11:47:21.749Z"
   },
   {
    "duration": 8,
    "start_time": "2022-02-12T11:47:21.764Z"
   },
   {
    "duration": 758,
    "start_time": "2022-02-12T11:53:12.334Z"
   },
   {
    "duration": 184,
    "start_time": "2022-02-12T11:53:13.095Z"
   },
   {
    "duration": 26,
    "start_time": "2022-02-12T11:53:13.282Z"
   },
   {
    "duration": 53,
    "start_time": "2022-02-12T11:53:13.325Z"
   },
   {
    "duration": 5,
    "start_time": "2022-02-12T11:53:13.381Z"
   },
   {
    "duration": 47,
    "start_time": "2022-02-12T11:53:13.389Z"
   },
   {
    "duration": 4,
    "start_time": "2022-02-12T11:53:13.439Z"
   },
   {
    "duration": 33,
    "start_time": "2022-02-12T11:53:13.447Z"
   },
   {
    "duration": 52,
    "start_time": "2022-02-12T11:53:13.483Z"
   },
   {
    "duration": 30,
    "start_time": "2022-02-12T11:53:13.538Z"
   },
   {
    "duration": 103,
    "start_time": "2022-02-12T11:53:13.570Z"
   },
   {
    "duration": 102,
    "start_time": "2022-02-12T11:53:13.676Z"
   },
   {
    "duration": 85,
    "start_time": "2022-02-12T11:53:13.780Z"
   },
   {
    "duration": 65,
    "start_time": "2022-02-12T11:53:13.868Z"
   },
   {
    "duration": 4,
    "start_time": "2022-02-12T11:53:13.935Z"
   },
   {
    "duration": 29,
    "start_time": "2022-02-12T11:53:13.941Z"
   },
   {
    "duration": 76,
    "start_time": "2022-02-12T11:53:13.973Z"
   },
   {
    "duration": 15,
    "start_time": "2022-02-12T11:53:14.051Z"
   },
   {
    "duration": 14,
    "start_time": "2022-02-12T11:53:14.068Z"
   },
   {
    "duration": 4,
    "start_time": "2022-02-12T11:53:14.085Z"
   },
   {
    "duration": 22,
    "start_time": "2022-02-12T11:53:14.125Z"
   },
   {
    "duration": 18,
    "start_time": "2022-02-12T11:53:14.150Z"
   },
   {
    "duration": 56,
    "start_time": "2022-02-12T11:53:14.173Z"
   },
   {
    "duration": 18,
    "start_time": "2022-02-12T11:53:14.232Z"
   },
   {
    "duration": 20,
    "start_time": "2022-02-12T11:53:14.252Z"
   },
   {
    "duration": 50,
    "start_time": "2022-02-12T11:53:14.275Z"
   },
   {
    "duration": 14,
    "start_time": "2022-02-12T11:53:14.327Z"
   },
   {
    "duration": 40,
    "start_time": "2022-02-12T11:53:14.342Z"
   },
   {
    "duration": 54,
    "start_time": "2022-02-12T11:53:14.385Z"
   },
   {
    "duration": 7,
    "start_time": "2022-02-12T11:53:14.442Z"
   },
   {
    "duration": 30,
    "start_time": "2022-02-12T11:53:14.452Z"
   },
   {
    "duration": 47,
    "start_time": "2022-02-12T11:53:14.485Z"
   },
   {
    "duration": 23,
    "start_time": "2022-02-12T11:53:14.535Z"
   },
   {
    "duration": 19,
    "start_time": "2022-02-12T11:53:14.561Z"
   },
   {
    "duration": 53,
    "start_time": "2022-02-12T11:53:14.585Z"
   },
   {
    "duration": 10,
    "start_time": "2022-02-12T11:53:14.643Z"
   },
   {
    "duration": 12,
    "start_time": "2022-02-12T11:53:14.656Z"
   },
   {
    "duration": 8,
    "start_time": "2022-02-12T11:53:14.671Z"
   },
   {
    "duration": 782,
    "start_time": "2022-02-12T11:54:34.207Z"
   },
   {
    "duration": 188,
    "start_time": "2022-02-12T11:54:34.992Z"
   },
   {
    "duration": 39,
    "start_time": "2022-02-12T11:54:35.184Z"
   },
   {
    "duration": 32,
    "start_time": "2022-02-12T11:54:35.226Z"
   },
   {
    "duration": 6,
    "start_time": "2022-02-12T11:54:35.261Z"
   },
   {
    "duration": 55,
    "start_time": "2022-02-12T11:54:35.269Z"
   },
   {
    "duration": 6,
    "start_time": "2022-02-12T11:54:35.327Z"
   },
   {
    "duration": 31,
    "start_time": "2022-02-12T11:54:35.337Z"
   },
   {
    "duration": 51,
    "start_time": "2022-02-12T11:54:35.372Z"
   },
   {
    "duration": 29,
    "start_time": "2022-02-12T11:54:35.426Z"
   },
   {
    "duration": 97,
    "start_time": "2022-02-12T11:54:35.458Z"
   },
   {
    "duration": 105,
    "start_time": "2022-02-12T11:54:35.557Z"
   },
   {
    "duration": 87,
    "start_time": "2022-02-12T11:54:35.664Z"
   },
   {
    "duration": 73,
    "start_time": "2022-02-12T11:54:35.754Z"
   },
   {
    "duration": 4,
    "start_time": "2022-02-12T11:54:35.830Z"
   },
   {
    "duration": 29,
    "start_time": "2022-02-12T11:54:35.837Z"
   },
   {
    "duration": 78,
    "start_time": "2022-02-12T11:54:35.868Z"
   },
   {
    "duration": 17,
    "start_time": "2022-02-12T11:54:35.949Z"
   },
   {
    "duration": 15,
    "start_time": "2022-02-12T11:54:35.969Z"
   },
   {
    "duration": 37,
    "start_time": "2022-02-12T11:54:35.986Z"
   },
   {
    "duration": 38,
    "start_time": "2022-02-12T11:54:36.026Z"
   },
   {
    "duration": 27,
    "start_time": "2022-02-12T11:54:36.066Z"
   },
   {
    "duration": 32,
    "start_time": "2022-02-12T11:54:36.099Z"
   },
   {
    "duration": 17,
    "start_time": "2022-02-12T11:54:36.134Z"
   },
   {
    "duration": 23,
    "start_time": "2022-02-12T11:54:36.154Z"
   },
   {
    "duration": 50,
    "start_time": "2022-02-12T11:54:36.180Z"
   },
   {
    "duration": 11,
    "start_time": "2022-02-12T11:54:36.233Z"
   },
   {
    "duration": 40,
    "start_time": "2022-02-12T11:54:36.247Z"
   },
   {
    "duration": 66,
    "start_time": "2022-02-12T11:54:36.289Z"
   },
   {
    "duration": 5,
    "start_time": "2022-02-12T11:54:36.358Z"
   },
   {
    "duration": 31,
    "start_time": "2022-02-12T11:54:36.365Z"
   },
   {
    "duration": 21,
    "start_time": "2022-02-12T11:54:36.422Z"
   },
   {
    "duration": 24,
    "start_time": "2022-02-12T11:54:36.445Z"
   },
   {
    "duration": 51,
    "start_time": "2022-02-12T11:54:36.472Z"
   },
   {
    "duration": 11,
    "start_time": "2022-02-12T11:54:36.526Z"
   },
   {
    "duration": 6,
    "start_time": "2022-02-12T11:54:36.540Z"
   },
   {
    "duration": 9,
    "start_time": "2022-02-12T11:54:36.549Z"
   },
   {
    "duration": 7,
    "start_time": "2022-02-12T11:54:36.561Z"
   },
   {
    "duration": 64,
    "start_time": "2022-08-25T14:49:58.857Z"
   },
   {
    "duration": 381,
    "start_time": "2022-08-25T14:50:03.512Z"
   },
   {
    "duration": 242,
    "start_time": "2022-08-25T14:50:04.419Z"
   },
   {
    "duration": 16,
    "start_time": "2022-08-25T14:50:05.601Z"
   },
   {
    "duration": 9,
    "start_time": "2022-08-25T14:50:19.212Z"
   },
   {
    "duration": 23,
    "start_time": "2022-08-25T14:50:52.529Z"
   },
   {
    "duration": 3,
    "start_time": "2022-08-25T14:54:00.209Z"
   },
   {
    "duration": 9,
    "start_time": "2022-08-25T14:56:02.440Z"
   },
   {
    "duration": 3,
    "start_time": "2022-08-25T14:56:32.169Z"
   },
   {
    "duration": 18,
    "start_time": "2022-08-25T14:57:50.690Z"
   },
   {
    "duration": 20,
    "start_time": "2022-08-25T15:01:11.425Z"
   },
   {
    "duration": 61,
    "start_time": "2022-08-25T15:01:50.083Z"
   },
   {
    "duration": 67,
    "start_time": "2022-08-25T15:02:21.081Z"
   },
   {
    "duration": 51,
    "start_time": "2022-08-25T15:03:26.474Z"
   },
   {
    "duration": 36,
    "start_time": "2022-08-25T15:05:02.832Z"
   },
   {
    "duration": 65,
    "start_time": "2022-08-25T16:50:14.061Z"
   },
   {
    "duration": 7,
    "start_time": "2022-08-25T16:50:42.922Z"
   },
   {
    "duration": 420,
    "start_time": "2022-08-25T16:50:49.554Z"
   },
   {
    "duration": 857,
    "start_time": "2022-08-25T16:50:49.976Z"
   },
   {
    "duration": 19,
    "start_time": "2022-08-25T16:50:50.834Z"
   },
   {
    "duration": 29,
    "start_time": "2022-08-25T16:50:50.855Z"
   },
   {
    "duration": 3,
    "start_time": "2022-08-25T16:50:50.886Z"
   },
   {
    "duration": 17,
    "start_time": "2022-08-25T16:50:50.890Z"
   },
   {
    "duration": 6,
    "start_time": "2022-08-25T16:50:50.909Z"
   },
   {
    "duration": 25,
    "start_time": "2022-08-25T16:50:50.917Z"
   },
   {
    "duration": 50,
    "start_time": "2022-08-25T16:50:50.943Z"
   },
   {
    "duration": 22,
    "start_time": "2022-08-25T16:50:50.997Z"
   },
   {
    "duration": 91,
    "start_time": "2022-08-25T16:50:51.021Z"
   },
   {
    "duration": 95,
    "start_time": "2022-08-25T16:50:51.113Z"
   },
   {
    "duration": 63,
    "start_time": "2022-08-25T16:50:51.209Z"
   },
   {
    "duration": 36,
    "start_time": "2022-08-25T16:50:51.274Z"
   },
   {
    "duration": 8,
    "start_time": "2022-08-25T16:50:51.312Z"
   },
   {
    "duration": 31,
    "start_time": "2022-08-25T16:50:51.323Z"
   },
   {
    "duration": 44,
    "start_time": "2022-08-25T16:50:51.356Z"
   },
   {
    "duration": 11,
    "start_time": "2022-08-25T16:50:51.401Z"
   },
   {
    "duration": 11,
    "start_time": "2022-08-25T16:50:51.414Z"
   },
   {
    "duration": 3,
    "start_time": "2022-08-25T16:50:51.427Z"
   },
   {
    "duration": 43,
    "start_time": "2022-08-25T16:50:51.432Z"
   },
   {
    "duration": 14,
    "start_time": "2022-08-25T16:50:51.477Z"
   },
   {
    "duration": 19,
    "start_time": "2022-08-25T16:50:51.494Z"
   },
   {
    "duration": 20,
    "start_time": "2022-08-25T16:50:51.515Z"
   },
   {
    "duration": 41,
    "start_time": "2022-08-25T16:50:51.537Z"
   },
   {
    "duration": 17,
    "start_time": "2022-08-25T16:50:51.579Z"
   },
   {
    "duration": 8,
    "start_time": "2022-08-25T16:50:51.598Z"
   },
   {
    "duration": 21,
    "start_time": "2022-08-25T16:50:51.609Z"
   },
   {
    "duration": 50,
    "start_time": "2022-08-25T16:50:51.632Z"
   },
   {
    "duration": 4,
    "start_time": "2022-08-25T16:50:51.684Z"
   },
   {
    "duration": 26,
    "start_time": "2022-08-25T16:50:51.690Z"
   },
   {
    "duration": 11,
    "start_time": "2022-08-25T16:50:51.718Z"
   },
   {
    "duration": 37,
    "start_time": "2022-08-25T16:50:51.731Z"
   },
   {
    "duration": 12,
    "start_time": "2022-08-25T16:50:51.770Z"
   },
   {
    "duration": 9,
    "start_time": "2022-08-25T16:50:51.783Z"
   },
   {
    "duration": 16,
    "start_time": "2022-08-25T16:50:51.793Z"
   },
   {
    "duration": 13,
    "start_time": "2022-08-25T16:50:51.811Z"
   },
   {
    "duration": 9,
    "start_time": "2022-08-25T16:50:51.826Z"
   },
   {
    "duration": 12,
    "start_time": "2022-08-25T16:54:50.181Z"
   },
   {
    "duration": 12,
    "start_time": "2022-08-25T16:55:05.714Z"
   },
   {
    "duration": 18,
    "start_time": "2022-08-25T17:01:05.921Z"
   },
   {
    "duration": 4,
    "start_time": "2022-08-25T17:06:55.487Z"
   },
   {
    "duration": 16,
    "start_time": "2022-08-25T17:07:29.507Z"
   },
   {
    "duration": 16,
    "start_time": "2022-08-25T17:07:38.872Z"
   },
   {
    "duration": 14,
    "start_time": "2022-08-25T17:07:54.283Z"
   },
   {
    "duration": 16,
    "start_time": "2022-08-25T17:08:11.740Z"
   },
   {
    "duration": 13,
    "start_time": "2022-08-25T17:08:29.067Z"
   },
   {
    "duration": 19,
    "start_time": "2022-08-25T17:08:42.185Z"
   },
   {
    "duration": 15,
    "start_time": "2022-08-25T17:08:55.566Z"
   },
   {
    "duration": 8,
    "start_time": "2022-08-25T17:09:31.283Z"
   },
   {
    "duration": 8,
    "start_time": "2022-08-25T17:10:52.157Z"
   },
   {
    "duration": 9,
    "start_time": "2022-08-25T17:11:31.008Z"
   },
   {
    "duration": 9,
    "start_time": "2022-08-25T17:11:41.655Z"
   },
   {
    "duration": 22,
    "start_time": "2022-08-25T17:13:15.839Z"
   },
   {
    "duration": 20,
    "start_time": "2022-08-25T17:13:34.096Z"
   },
   {
    "duration": 4,
    "start_time": "2022-08-25T17:21:12.135Z"
   },
   {
    "duration": 17,
    "start_time": "2022-08-25T17:22:04.141Z"
   },
   {
    "duration": 17,
    "start_time": "2022-08-25T17:22:19.598Z"
   },
   {
    "duration": 11,
    "start_time": "2022-08-25T17:22:46.149Z"
   },
   {
    "duration": 17,
    "start_time": "2022-08-25T17:23:03.182Z"
   },
   {
    "duration": 12,
    "start_time": "2022-08-25T17:23:19.934Z"
   },
   {
    "duration": 8,
    "start_time": "2022-08-25T17:30:19.140Z"
   },
   {
    "duration": 6,
    "start_time": "2022-08-25T17:30:39.766Z"
   },
   {
    "duration": 6,
    "start_time": "2022-08-25T17:31:55.682Z"
   },
   {
    "duration": 6,
    "start_time": "2022-08-25T17:32:14.710Z"
   }
  ],
  "colab": {
   "collapsed_sections": [
    "E0vqbgi9ay0H",
    "VUC88oWjTJw2"
   ],
   "name": "yandex_music_project_2021.2.ipynb",
   "provenance": []
  },
  "kernelspec": {
   "display_name": "Python 3 (ipykernel)",
   "language": "python",
   "name": "python3"
  },
  "language_info": {
   "codemirror_mode": {
    "name": "ipython",
    "version": 3
   },
   "file_extension": ".py",
   "mimetype": "text/x-python",
   "name": "python",
   "nbconvert_exporter": "python",
   "pygments_lexer": "ipython3",
   "version": "3.9.7"
  },
  "toc": {
   "base_numbering": 1,
   "nav_menu": {},
   "number_sections": true,
   "sideBar": true,
   "skip_h1_title": true,
   "title_cell": "Содержание",
   "title_sidebar": "Contents",
   "toc_cell": true,
   "toc_position": {},
   "toc_section_display": true,
   "toc_window_display": true
  }
 },
 "nbformat": 4,
 "nbformat_minor": 1
}
