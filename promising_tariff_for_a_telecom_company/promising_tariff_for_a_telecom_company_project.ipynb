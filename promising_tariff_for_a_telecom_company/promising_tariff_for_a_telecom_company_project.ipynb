{
 "cells": [
  {
   "cell_type": "markdown",
   "metadata": {},
   "source": [
    "# Определение перспективного тарифа для телеком-компании"
   ]
  },
  {
   "cell_type": "markdown",
   "metadata": {},
   "source": [
    "## Шаг 1. Обзор данных"
   ]
  },
  {
   "cell_type": "markdown",
   "metadata": {},
   "source": [
    "Составление первого представления о данных статистики архива 500 пользователей «Мегалайна»: кто они, откуда, каким тарифом пользуются, сколько звонков и сообщений каждый отправил за 2018 год."
   ]
  },
  {
   "cell_type": "code",
   "execution_count": 1,
   "metadata": {},
   "outputs": [],
   "source": [
    "# импорт необходимых библиотек\n",
    "import pandas as pd\n",
    "import numpy as np\n",
    "import matplotlib.pyplot as plt\n",
    "import seaborn as sns\n",
    "import warnings\n",
    "from scipy import stats as st"
   ]
  },
  {
   "cell_type": "code",
   "execution_count": 13,
   "metadata": {},
   "outputs": [],
   "source": [
    "# функция для просмотра информации и первых строк таблиц\n",
    "def inform(df):\n",
    "    df.info()\n",
    "    print('*'*50)\n",
    "    display(df.head())\n",
    "    return"
   ]
  },
  {
   "cell_type": "markdown",
   "metadata": {},
   "source": [
    "Чтение файлов users.csv, calls.csv, messages.csv, internet.csv, tariffs.csv и сохрание их в переменных:"
   ]
  },
  {
   "cell_type": "code",
   "execution_count": 3,
   "metadata": {},
   "outputs": [],
   "source": [
    "# чтение файлов с данными и сохранение в переменных\n",
    "users_df, calls_df, messages_df, internet_df, tariffs_df = (pd.read_csv('/datasets/users.csv'),\n",
    "                                                           pd.read_csv('/datasets/calls.csv'),\n",
    "                                                           pd.read_csv('/datasets/messages.csv'),\n",
    "                                                           pd.read_csv('/datasets/internet.csv'),\n",
    "                                                           pd.read_csv('/datasets/tariffs.csv'))"
   ]
  },
  {
   "cell_type": "code",
   "execution_count": 14,
   "metadata": {},
   "outputs": [
    {
     "name": "stdout",
     "output_type": "stream",
     "text": [
      "<class 'pandas.core.frame.DataFrame'>\n",
      "RangeIndex: 500 entries, 0 to 499\n",
      "Data columns (total 8 columns):\n",
      " #   Column      Non-Null Count  Dtype \n",
      "---  ------      --------------  ----- \n",
      " 0   user_id     500 non-null    int64 \n",
      " 1   age         500 non-null    int64 \n",
      " 2   churn_date  38 non-null     object\n",
      " 3   city        500 non-null    object\n",
      " 4   first_name  500 non-null    object\n",
      " 5   last_name   500 non-null    object\n",
      " 6   reg_date    500 non-null    object\n",
      " 7   tariff      500 non-null    object\n",
      "dtypes: int64(2), object(6)\n",
      "memory usage: 31.4+ KB\n",
      "**************************************************\n"
     ]
    },
    {
     "data": {
      "text/html": [
       "<div>\n",
       "<style scoped>\n",
       "    .dataframe tbody tr th:only-of-type {\n",
       "        vertical-align: middle;\n",
       "    }\n",
       "\n",
       "    .dataframe tbody tr th {\n",
       "        vertical-align: top;\n",
       "    }\n",
       "\n",
       "    .dataframe thead th {\n",
       "        text-align: right;\n",
       "    }\n",
       "</style>\n",
       "<table border=\"1\" class=\"dataframe\">\n",
       "  <thead>\n",
       "    <tr style=\"text-align: right;\">\n",
       "      <th></th>\n",
       "      <th>user_id</th>\n",
       "      <th>age</th>\n",
       "      <th>churn_date</th>\n",
       "      <th>city</th>\n",
       "      <th>first_name</th>\n",
       "      <th>last_name</th>\n",
       "      <th>reg_date</th>\n",
       "      <th>tariff</th>\n",
       "    </tr>\n",
       "  </thead>\n",
       "  <tbody>\n",
       "    <tr>\n",
       "      <th>0</th>\n",
       "      <td>1000</td>\n",
       "      <td>52</td>\n",
       "      <td>NaN</td>\n",
       "      <td>Краснодар</td>\n",
       "      <td>Рафаил</td>\n",
       "      <td>Верещагин</td>\n",
       "      <td>2018-05-25</td>\n",
       "      <td>ultra</td>\n",
       "    </tr>\n",
       "    <tr>\n",
       "      <th>1</th>\n",
       "      <td>1001</td>\n",
       "      <td>41</td>\n",
       "      <td>NaN</td>\n",
       "      <td>Москва</td>\n",
       "      <td>Иван</td>\n",
       "      <td>Ежов</td>\n",
       "      <td>2018-11-01</td>\n",
       "      <td>smart</td>\n",
       "    </tr>\n",
       "    <tr>\n",
       "      <th>2</th>\n",
       "      <td>1002</td>\n",
       "      <td>59</td>\n",
       "      <td>NaN</td>\n",
       "      <td>Стерлитамак</td>\n",
       "      <td>Евгений</td>\n",
       "      <td>Абрамович</td>\n",
       "      <td>2018-06-17</td>\n",
       "      <td>smart</td>\n",
       "    </tr>\n",
       "    <tr>\n",
       "      <th>3</th>\n",
       "      <td>1003</td>\n",
       "      <td>23</td>\n",
       "      <td>NaN</td>\n",
       "      <td>Москва</td>\n",
       "      <td>Белла</td>\n",
       "      <td>Белякова</td>\n",
       "      <td>2018-08-17</td>\n",
       "      <td>ultra</td>\n",
       "    </tr>\n",
       "    <tr>\n",
       "      <th>4</th>\n",
       "      <td>1004</td>\n",
       "      <td>68</td>\n",
       "      <td>NaN</td>\n",
       "      <td>Новокузнецк</td>\n",
       "      <td>Татьяна</td>\n",
       "      <td>Авдеенко</td>\n",
       "      <td>2018-05-14</td>\n",
       "      <td>ultra</td>\n",
       "    </tr>\n",
       "  </tbody>\n",
       "</table>\n",
       "</div>"
      ],
      "text/plain": [
       "   user_id  age churn_date         city first_name  last_name    reg_date  \\\n",
       "0     1000   52        NaN    Краснодар     Рафаил  Верещагин  2018-05-25   \n",
       "1     1001   41        NaN       Москва       Иван       Ежов  2018-11-01   \n",
       "2     1002   59        NaN  Стерлитамак    Евгений  Абрамович  2018-06-17   \n",
       "3     1003   23        NaN       Москва      Белла   Белякова  2018-08-17   \n",
       "4     1004   68        NaN  Новокузнецк    Татьяна   Авдеенко  2018-05-14   \n",
       "\n",
       "  tariff  \n",
       "0  ultra  \n",
       "1  smart  \n",
       "2  smart  \n",
       "3  ultra  \n",
       "4  ultra  "
      ]
     },
     "metadata": {},
     "output_type": "display_data"
    }
   ],
   "source": [
    "# общая информация и первые 5 строк таблицы users_df\n",
    "inform(users_df)"
   ]
  },
  {
   "cell_type": "code",
   "execution_count": 15,
   "metadata": {},
   "outputs": [
    {
     "name": "stdout",
     "output_type": "stream",
     "text": [
      "<class 'pandas.core.frame.DataFrame'>\n",
      "RangeIndex: 202607 entries, 0 to 202606\n",
      "Data columns (total 4 columns):\n",
      " #   Column     Non-Null Count   Dtype  \n",
      "---  ------     --------------   -----  \n",
      " 0   id         202607 non-null  object \n",
      " 1   call_date  202607 non-null  object \n",
      " 2   duration   202607 non-null  float64\n",
      " 3   user_id    202607 non-null  int64  \n",
      "dtypes: float64(1), int64(1), object(2)\n",
      "memory usage: 6.2+ MB\n",
      "**************************************************\n"
     ]
    },
    {
     "data": {
      "text/html": [
       "<div>\n",
       "<style scoped>\n",
       "    .dataframe tbody tr th:only-of-type {\n",
       "        vertical-align: middle;\n",
       "    }\n",
       "\n",
       "    .dataframe tbody tr th {\n",
       "        vertical-align: top;\n",
       "    }\n",
       "\n",
       "    .dataframe thead th {\n",
       "        text-align: right;\n",
       "    }\n",
       "</style>\n",
       "<table border=\"1\" class=\"dataframe\">\n",
       "  <thead>\n",
       "    <tr style=\"text-align: right;\">\n",
       "      <th></th>\n",
       "      <th>id</th>\n",
       "      <th>call_date</th>\n",
       "      <th>duration</th>\n",
       "      <th>user_id</th>\n",
       "    </tr>\n",
       "  </thead>\n",
       "  <tbody>\n",
       "    <tr>\n",
       "      <th>0</th>\n",
       "      <td>1000_0</td>\n",
       "      <td>2018-07-25</td>\n",
       "      <td>0.00</td>\n",
       "      <td>1000</td>\n",
       "    </tr>\n",
       "    <tr>\n",
       "      <th>1</th>\n",
       "      <td>1000_1</td>\n",
       "      <td>2018-08-17</td>\n",
       "      <td>0.00</td>\n",
       "      <td>1000</td>\n",
       "    </tr>\n",
       "    <tr>\n",
       "      <th>2</th>\n",
       "      <td>1000_2</td>\n",
       "      <td>2018-06-11</td>\n",
       "      <td>2.85</td>\n",
       "      <td>1000</td>\n",
       "    </tr>\n",
       "    <tr>\n",
       "      <th>3</th>\n",
       "      <td>1000_3</td>\n",
       "      <td>2018-09-21</td>\n",
       "      <td>13.80</td>\n",
       "      <td>1000</td>\n",
       "    </tr>\n",
       "    <tr>\n",
       "      <th>4</th>\n",
       "      <td>1000_4</td>\n",
       "      <td>2018-12-15</td>\n",
       "      <td>5.18</td>\n",
       "      <td>1000</td>\n",
       "    </tr>\n",
       "  </tbody>\n",
       "</table>\n",
       "</div>"
      ],
      "text/plain": [
       "       id   call_date  duration  user_id\n",
       "0  1000_0  2018-07-25      0.00     1000\n",
       "1  1000_1  2018-08-17      0.00     1000\n",
       "2  1000_2  2018-06-11      2.85     1000\n",
       "3  1000_3  2018-09-21     13.80     1000\n",
       "4  1000_4  2018-12-15      5.18     1000"
      ]
     },
     "metadata": {},
     "output_type": "display_data"
    }
   ],
   "source": [
    "# общая информация и первые 5 строк таблицы calls_df\n",
    "inform(calls_df)"
   ]
  },
  {
   "cell_type": "code",
   "execution_count": 16,
   "metadata": {},
   "outputs": [
    {
     "name": "stdout",
     "output_type": "stream",
     "text": [
      "<class 'pandas.core.frame.DataFrame'>\n",
      "RangeIndex: 123036 entries, 0 to 123035\n",
      "Data columns (total 3 columns):\n",
      " #   Column        Non-Null Count   Dtype \n",
      "---  ------        --------------   ----- \n",
      " 0   id            123036 non-null  object\n",
      " 1   message_date  123036 non-null  object\n",
      " 2   user_id       123036 non-null  int64 \n",
      "dtypes: int64(1), object(2)\n",
      "memory usage: 2.8+ MB\n",
      "**************************************************\n"
     ]
    },
    {
     "data": {
      "text/html": [
       "<div>\n",
       "<style scoped>\n",
       "    .dataframe tbody tr th:only-of-type {\n",
       "        vertical-align: middle;\n",
       "    }\n",
       "\n",
       "    .dataframe tbody tr th {\n",
       "        vertical-align: top;\n",
       "    }\n",
       "\n",
       "    .dataframe thead th {\n",
       "        text-align: right;\n",
       "    }\n",
       "</style>\n",
       "<table border=\"1\" class=\"dataframe\">\n",
       "  <thead>\n",
       "    <tr style=\"text-align: right;\">\n",
       "      <th></th>\n",
       "      <th>id</th>\n",
       "      <th>message_date</th>\n",
       "      <th>user_id</th>\n",
       "    </tr>\n",
       "  </thead>\n",
       "  <tbody>\n",
       "    <tr>\n",
       "      <th>0</th>\n",
       "      <td>1000_0</td>\n",
       "      <td>2018-06-27</td>\n",
       "      <td>1000</td>\n",
       "    </tr>\n",
       "    <tr>\n",
       "      <th>1</th>\n",
       "      <td>1000_1</td>\n",
       "      <td>2018-10-08</td>\n",
       "      <td>1000</td>\n",
       "    </tr>\n",
       "    <tr>\n",
       "      <th>2</th>\n",
       "      <td>1000_2</td>\n",
       "      <td>2018-08-04</td>\n",
       "      <td>1000</td>\n",
       "    </tr>\n",
       "    <tr>\n",
       "      <th>3</th>\n",
       "      <td>1000_3</td>\n",
       "      <td>2018-06-16</td>\n",
       "      <td>1000</td>\n",
       "    </tr>\n",
       "    <tr>\n",
       "      <th>4</th>\n",
       "      <td>1000_4</td>\n",
       "      <td>2018-12-05</td>\n",
       "      <td>1000</td>\n",
       "    </tr>\n",
       "  </tbody>\n",
       "</table>\n",
       "</div>"
      ],
      "text/plain": [
       "       id message_date  user_id\n",
       "0  1000_0   2018-06-27     1000\n",
       "1  1000_1   2018-10-08     1000\n",
       "2  1000_2   2018-08-04     1000\n",
       "3  1000_3   2018-06-16     1000\n",
       "4  1000_4   2018-12-05     1000"
      ]
     },
     "metadata": {},
     "output_type": "display_data"
    }
   ],
   "source": [
    "# общая информация и первые 5 строк таблицы messages_df\n",
    "inform(messages_df)"
   ]
  },
  {
   "cell_type": "code",
   "execution_count": 17,
   "metadata": {},
   "outputs": [
    {
     "name": "stdout",
     "output_type": "stream",
     "text": [
      "<class 'pandas.core.frame.DataFrame'>\n",
      "RangeIndex: 149396 entries, 0 to 149395\n",
      "Data columns (total 5 columns):\n",
      " #   Column        Non-Null Count   Dtype  \n",
      "---  ------        --------------   -----  \n",
      " 0   Unnamed: 0    149396 non-null  int64  \n",
      " 1   id            149396 non-null  object \n",
      " 2   mb_used       149396 non-null  float64\n",
      " 3   session_date  149396 non-null  object \n",
      " 4   user_id       149396 non-null  int64  \n",
      "dtypes: float64(1), int64(2), object(2)\n",
      "memory usage: 5.7+ MB\n",
      "**************************************************\n"
     ]
    },
    {
     "data": {
      "text/html": [
       "<div>\n",
       "<style scoped>\n",
       "    .dataframe tbody tr th:only-of-type {\n",
       "        vertical-align: middle;\n",
       "    }\n",
       "\n",
       "    .dataframe tbody tr th {\n",
       "        vertical-align: top;\n",
       "    }\n",
       "\n",
       "    .dataframe thead th {\n",
       "        text-align: right;\n",
       "    }\n",
       "</style>\n",
       "<table border=\"1\" class=\"dataframe\">\n",
       "  <thead>\n",
       "    <tr style=\"text-align: right;\">\n",
       "      <th></th>\n",
       "      <th>Unnamed: 0</th>\n",
       "      <th>id</th>\n",
       "      <th>mb_used</th>\n",
       "      <th>session_date</th>\n",
       "      <th>user_id</th>\n",
       "    </tr>\n",
       "  </thead>\n",
       "  <tbody>\n",
       "    <tr>\n",
       "      <th>0</th>\n",
       "      <td>0</td>\n",
       "      <td>1000_0</td>\n",
       "      <td>112.95</td>\n",
       "      <td>2018-11-25</td>\n",
       "      <td>1000</td>\n",
       "    </tr>\n",
       "    <tr>\n",
       "      <th>1</th>\n",
       "      <td>1</td>\n",
       "      <td>1000_1</td>\n",
       "      <td>1052.81</td>\n",
       "      <td>2018-09-07</td>\n",
       "      <td>1000</td>\n",
       "    </tr>\n",
       "    <tr>\n",
       "      <th>2</th>\n",
       "      <td>2</td>\n",
       "      <td>1000_2</td>\n",
       "      <td>1197.26</td>\n",
       "      <td>2018-06-25</td>\n",
       "      <td>1000</td>\n",
       "    </tr>\n",
       "    <tr>\n",
       "      <th>3</th>\n",
       "      <td>3</td>\n",
       "      <td>1000_3</td>\n",
       "      <td>550.27</td>\n",
       "      <td>2018-08-22</td>\n",
       "      <td>1000</td>\n",
       "    </tr>\n",
       "    <tr>\n",
       "      <th>4</th>\n",
       "      <td>4</td>\n",
       "      <td>1000_4</td>\n",
       "      <td>302.56</td>\n",
       "      <td>2018-09-24</td>\n",
       "      <td>1000</td>\n",
       "    </tr>\n",
       "  </tbody>\n",
       "</table>\n",
       "</div>"
      ],
      "text/plain": [
       "   Unnamed: 0      id  mb_used session_date  user_id\n",
       "0           0  1000_0   112.95   2018-11-25     1000\n",
       "1           1  1000_1  1052.81   2018-09-07     1000\n",
       "2           2  1000_2  1197.26   2018-06-25     1000\n",
       "3           3  1000_3   550.27   2018-08-22     1000\n",
       "4           4  1000_4   302.56   2018-09-24     1000"
      ]
     },
     "metadata": {},
     "output_type": "display_data"
    }
   ],
   "source": [
    "# общая информация и первые 5 строк таблицы internet_df\n",
    "inform(internet_df)"
   ]
  },
  {
   "cell_type": "code",
   "execution_count": 18,
   "metadata": {},
   "outputs": [
    {
     "name": "stdout",
     "output_type": "stream",
     "text": [
      "<class 'pandas.core.frame.DataFrame'>\n",
      "RangeIndex: 2 entries, 0 to 1\n",
      "Data columns (total 8 columns):\n",
      " #   Column                 Non-Null Count  Dtype \n",
      "---  ------                 --------------  ----- \n",
      " 0   messages_included      2 non-null      int64 \n",
      " 1   mb_per_month_included  2 non-null      int64 \n",
      " 2   minutes_included       2 non-null      int64 \n",
      " 3   rub_monthly_fee        2 non-null      int64 \n",
      " 4   rub_per_gb             2 non-null      int64 \n",
      " 5   rub_per_message        2 non-null      int64 \n",
      " 6   rub_per_minute         2 non-null      int64 \n",
      " 7   tariff_name            2 non-null      object\n",
      "dtypes: int64(7), object(1)\n",
      "memory usage: 256.0+ bytes\n",
      "**************************************************\n"
     ]
    },
    {
     "data": {
      "text/html": [
       "<div>\n",
       "<style scoped>\n",
       "    .dataframe tbody tr th:only-of-type {\n",
       "        vertical-align: middle;\n",
       "    }\n",
       "\n",
       "    .dataframe tbody tr th {\n",
       "        vertical-align: top;\n",
       "    }\n",
       "\n",
       "    .dataframe thead th {\n",
       "        text-align: right;\n",
       "    }\n",
       "</style>\n",
       "<table border=\"1\" class=\"dataframe\">\n",
       "  <thead>\n",
       "    <tr style=\"text-align: right;\">\n",
       "      <th></th>\n",
       "      <th>messages_included</th>\n",
       "      <th>mb_per_month_included</th>\n",
       "      <th>minutes_included</th>\n",
       "      <th>rub_monthly_fee</th>\n",
       "      <th>rub_per_gb</th>\n",
       "      <th>rub_per_message</th>\n",
       "      <th>rub_per_minute</th>\n",
       "      <th>tariff_name</th>\n",
       "    </tr>\n",
       "  </thead>\n",
       "  <tbody>\n",
       "    <tr>\n",
       "      <th>0</th>\n",
       "      <td>50</td>\n",
       "      <td>15360</td>\n",
       "      <td>500</td>\n",
       "      <td>550</td>\n",
       "      <td>200</td>\n",
       "      <td>3</td>\n",
       "      <td>3</td>\n",
       "      <td>smart</td>\n",
       "    </tr>\n",
       "    <tr>\n",
       "      <th>1</th>\n",
       "      <td>1000</td>\n",
       "      <td>30720</td>\n",
       "      <td>3000</td>\n",
       "      <td>1950</td>\n",
       "      <td>150</td>\n",
       "      <td>1</td>\n",
       "      <td>1</td>\n",
       "      <td>ultra</td>\n",
       "    </tr>\n",
       "  </tbody>\n",
       "</table>\n",
       "</div>"
      ],
      "text/plain": [
       "   messages_included  mb_per_month_included  minutes_included  \\\n",
       "0                 50                  15360               500   \n",
       "1               1000                  30720              3000   \n",
       "\n",
       "   rub_monthly_fee  rub_per_gb  rub_per_message  rub_per_minute tariff_name  \n",
       "0              550         200                3               3       smart  \n",
       "1             1950         150                1               1       ultra  "
      ]
     },
     "metadata": {},
     "output_type": "display_data"
    }
   ],
   "source": [
    "# общая информация и первые 5 строк таблицы tariffs_df\n",
    "inform(tariffs_df)"
   ]
  },
  {
   "cell_type": "markdown",
   "metadata": {},
   "source": [
    "**Согласно документации к данным:**\n",
    "\n",
    "***Таблица users_df (информация о пользователях):***\n",
    "* `user_id` — уникальный идентификатор пользователя;\n",
    "* `first_name` — имя пользователя;\n",
    "* `last_name` — фамилия пользователя;\n",
    "* `age` — возраст пользователя (годы);\n",
    "* `reg_date` — дата подключения тарифа (день, месяц, год);\n",
    "* `churn_date` — дата прекращения пользования тарифом (если значение пропущено, то тариф ещё действовал на момент выгрузки данных);\n",
    "* `city` — город проживания пользователя;\n",
    "* `tariff` — название тарифного плана.\n",
    "\n",
    "***Таблица calls_df (информация о звонках):***\n",
    "* `id` — уникальный номер звонка;\n",
    "* `call_date` — дата звонка;\n",
    "* `duration` — длительность звонка в минутах;\n",
    "* `user_id` — идентификатор пользователя, сделавшего звонок.\n",
    "\n",
    "***Таблица messages_df (информация о сообщениях):***\n",
    "* `id` — уникальный номер сообщения;\n",
    "* `message_date` — дата сообщения;\n",
    "* `user_id` — идентификатор пользователя, отправившего сообщение.\n",
    "\n",
    "***Таблица internet_df (информация об интернет-сессиях):***\n",
    "* `id` — уникальный номер сессии;\n",
    "* `mb_used` — объём потраченного за сессию интернет-трафика (в мегабайтах);\n",
    "* `session_date` — дата интернет-сессии;\n",
    "* `user_id` — идентификатор пользователя.\n",
    "\n",
    "***Таблица tariffs_df (информация о тарифах):***\n",
    "* `tariff_name` — название тарифа;\n",
    "* `rub_monthly_fee` — ежемесячная абонентская плата в рублях;\n",
    "* `minutes_included` — количество минут разговора в месяц, включённых в абонентскую плату;\n",
    "* `messages_included` — количество сообщений в месяц, включённых в абонентскую плату;\n",
    "* `mb_per_month_included` — объём интернет-трафика, включённого в абонентскую плату (в мегабайтах);\n",
    "* `rub_per_minute` — стоимость минуты разговора сверх тарифного пакета (например, если в тарифе 100 минут разговора в месяц, то со 101 минуты будет взиматься плата);\n",
    "* `rub_per_message` — стоимость отправки сообщения сверх тарифного пакета;\n",
    "* `rub_per_gb` — стоимость дополнительного гигабайта интернет-трафика сверх тарифного пакета (1 гигабайт = 1024 мегабайта)."
   ]
  },
  {
   "cell_type": "markdown",
   "metadata": {},
   "source": [
    "При просмотре данных в таблицах, можно сделать вывод о том, что в названиях столбцов нарушений нет, тип данных соответсвует их содержимому в столбцах.\n",
    "Для удобства исследования таблицы будут объедины и уже исходя из объединенной таблицы можно будет рассматривать наличие пропусков, дубликатов и ошибок в данных."
   ]
  },
  {
   "cell_type": "markdown",
   "metadata": {},
   "source": [
    "## Шаг 2. Предобработка данных"
   ]
  },
  {
   "cell_type": "markdown",
   "metadata": {},
   "source": [
    "Смена типа данных в столбцах таблиц с датой:"
   ]
  },
  {
   "cell_type": "code",
   "execution_count": 19,
   "metadata": {},
   "outputs": [],
   "source": [
    "# смена типа данных на DateTime\n",
    "users_df['reg_date'] = pd.to_datetime(users_df['reg_date'], format='%Y.%m.%d %H:%M:%S')\n",
    "calls_df['call_date'] = pd.to_datetime(calls_df['call_date'], format='%Y.%m.%d %H:%M:%S')\n",
    "messages_df['message_date'] = pd.to_datetime(messages_df['message_date'], format='%Y.%m.%d %H:%M:%S')\n",
    "internet_df['session_date'] = pd.to_datetime(internet_df['session_date'], format='%Y.%m.%d %H:%M:%S')"
   ]
  },
  {
   "cell_type": "markdown",
   "metadata": {},
   "source": [
    "Выделение месяца для таблиц:"
   ]
  },
  {
   "cell_type": "code",
   "execution_count": 20,
   "metadata": {},
   "outputs": [],
   "source": [
    "calls_df['month'] = pd.DatetimeIndex(calls_df['call_date']).month\n",
    "messages_df['month'] = pd.DatetimeIndex(messages_df['message_date']).month\n",
    "internet_df['month'] = pd.DatetimeIndex(internet_df['session_date']).month"
   ]
  },
  {
   "cell_type": "code",
   "execution_count": 23,
   "metadata": {},
   "outputs": [],
   "source": [
    "# округление длительности звонков\n",
    "calls_df['duration'] = np.ceil(calls_df['duration'])"
   ]
  },
  {
   "cell_type": "code",
   "execution_count": 24,
   "metadata": {},
   "outputs": [],
   "source": [
    "# группировка для calls по user_id и month\n",
    "calls = calls_df.groupby(['user_id', 'month']).agg({'duration': ['sum','count']}).reset_index()\n",
    "calls.columns = ['user_id', 'month', 'duration_sum', 'duration_count'] # названия колонок\n",
    "\n",
    "# группировка для internet по user_id и month\n",
    "internet = internet_df.groupby(['user_id', 'month']).agg({'mb_used': 'sum'}).reset_index()\n",
    "\n",
    "# группировка для messages по user_id и month и переименование колонки id\n",
    "messages = messages_df.groupby(['user_id', 'month']).agg({'id': 'count'}).rename(columns = {'id': 'messages'}).reset_index()"
   ]
  },
  {
   "cell_type": "code",
   "execution_count": 28,
   "metadata": {},
   "outputs": [],
   "source": [
    "# объединение таблиц\n",
    "report = calls.merge(internet, on = ['user_id', 'month'], how = 'outer')\n",
    "report1 = report.merge(messages, on = ['user_id', 'month'], how = 'outer').fillna(0)\n",
    "report2 = report1.merge(users_df, on = 'user_id', how = 'left')\n",
    "df = report2.merge(tariffs_df, left_on = 'tariff', right_on = 'tariff_name', how = 'left')"
   ]
  },
  {
   "cell_type": "code",
   "execution_count": 27,
   "metadata": {},
   "outputs": [
    {
     "name": "stdout",
     "output_type": "stream",
     "text": [
      "<class 'pandas.core.frame.DataFrame'>\n",
      "Int64Index: 3214 entries, 0 to 3213\n",
      "Data columns (total 21 columns):\n",
      " #   Column                 Non-Null Count  Dtype         \n",
      "---  ------                 --------------  -----         \n",
      " 0   user_id                3214 non-null   int64         \n",
      " 1   month                  3214 non-null   int64         \n",
      " 2   duration_sum           3214 non-null   float64       \n",
      " 3   duration_count         3214 non-null   float64       \n",
      " 4   mb_used                3214 non-null   float64       \n",
      " 5   messages               3214 non-null   float64       \n",
      " 6   age                    3214 non-null   int64         \n",
      " 7   churn_date             187 non-null    object        \n",
      " 8   city                   3214 non-null   object        \n",
      " 9   first_name             3214 non-null   object        \n",
      " 10  last_name              3214 non-null   object        \n",
      " 11  reg_date               3214 non-null   datetime64[ns]\n",
      " 12  tariff                 3214 non-null   object        \n",
      " 13  messages_included      3214 non-null   int64         \n",
      " 14  mb_per_month_included  3214 non-null   int64         \n",
      " 15  minutes_included       3214 non-null   int64         \n",
      " 16  rub_monthly_fee        3214 non-null   int64         \n",
      " 17  rub_per_gb             3214 non-null   int64         \n",
      " 18  rub_per_message        3214 non-null   int64         \n",
      " 19  rub_per_minute         3214 non-null   int64         \n",
      " 20  tariff_name            3214 non-null   object        \n",
      "dtypes: datetime64[ns](1), float64(4), int64(10), object(6)\n",
      "memory usage: 552.4+ KB\n",
      "**************************************************\n"
     ]
    },
    {
     "data": {
      "text/html": [
       "<div>\n",
       "<style scoped>\n",
       "    .dataframe tbody tr th:only-of-type {\n",
       "        vertical-align: middle;\n",
       "    }\n",
       "\n",
       "    .dataframe tbody tr th {\n",
       "        vertical-align: top;\n",
       "    }\n",
       "\n",
       "    .dataframe thead th {\n",
       "        text-align: right;\n",
       "    }\n",
       "</style>\n",
       "<table border=\"1\" class=\"dataframe\">\n",
       "  <thead>\n",
       "    <tr style=\"text-align: right;\">\n",
       "      <th></th>\n",
       "      <th>user_id</th>\n",
       "      <th>month</th>\n",
       "      <th>duration_sum</th>\n",
       "      <th>duration_count</th>\n",
       "      <th>mb_used</th>\n",
       "      <th>messages</th>\n",
       "      <th>age</th>\n",
       "      <th>churn_date</th>\n",
       "      <th>city</th>\n",
       "      <th>first_name</th>\n",
       "      <th>...</th>\n",
       "      <th>reg_date</th>\n",
       "      <th>tariff</th>\n",
       "      <th>messages_included</th>\n",
       "      <th>mb_per_month_included</th>\n",
       "      <th>minutes_included</th>\n",
       "      <th>rub_monthly_fee</th>\n",
       "      <th>rub_per_gb</th>\n",
       "      <th>rub_per_message</th>\n",
       "      <th>rub_per_minute</th>\n",
       "      <th>tariff_name</th>\n",
       "    </tr>\n",
       "  </thead>\n",
       "  <tbody>\n",
       "    <tr>\n",
       "      <th>0</th>\n",
       "      <td>1000</td>\n",
       "      <td>5</td>\n",
       "      <td>159.0</td>\n",
       "      <td>22.0</td>\n",
       "      <td>2253.49</td>\n",
       "      <td>22.0</td>\n",
       "      <td>52</td>\n",
       "      <td>NaN</td>\n",
       "      <td>Краснодар</td>\n",
       "      <td>Рафаил</td>\n",
       "      <td>...</td>\n",
       "      <td>2018-05-25</td>\n",
       "      <td>ultra</td>\n",
       "      <td>1000</td>\n",
       "      <td>30720</td>\n",
       "      <td>3000</td>\n",
       "      <td>1950</td>\n",
       "      <td>150</td>\n",
       "      <td>1</td>\n",
       "      <td>1</td>\n",
       "      <td>ultra</td>\n",
       "    </tr>\n",
       "    <tr>\n",
       "      <th>1</th>\n",
       "      <td>1000</td>\n",
       "      <td>6</td>\n",
       "      <td>172.0</td>\n",
       "      <td>43.0</td>\n",
       "      <td>23233.77</td>\n",
       "      <td>60.0</td>\n",
       "      <td>52</td>\n",
       "      <td>NaN</td>\n",
       "      <td>Краснодар</td>\n",
       "      <td>Рафаил</td>\n",
       "      <td>...</td>\n",
       "      <td>2018-05-25</td>\n",
       "      <td>ultra</td>\n",
       "      <td>1000</td>\n",
       "      <td>30720</td>\n",
       "      <td>3000</td>\n",
       "      <td>1950</td>\n",
       "      <td>150</td>\n",
       "      <td>1</td>\n",
       "      <td>1</td>\n",
       "      <td>ultra</td>\n",
       "    </tr>\n",
       "    <tr>\n",
       "      <th>2</th>\n",
       "      <td>1000</td>\n",
       "      <td>7</td>\n",
       "      <td>340.0</td>\n",
       "      <td>47.0</td>\n",
       "      <td>14003.64</td>\n",
       "      <td>75.0</td>\n",
       "      <td>52</td>\n",
       "      <td>NaN</td>\n",
       "      <td>Краснодар</td>\n",
       "      <td>Рафаил</td>\n",
       "      <td>...</td>\n",
       "      <td>2018-05-25</td>\n",
       "      <td>ultra</td>\n",
       "      <td>1000</td>\n",
       "      <td>30720</td>\n",
       "      <td>3000</td>\n",
       "      <td>1950</td>\n",
       "      <td>150</td>\n",
       "      <td>1</td>\n",
       "      <td>1</td>\n",
       "      <td>ultra</td>\n",
       "    </tr>\n",
       "    <tr>\n",
       "      <th>3</th>\n",
       "      <td>1000</td>\n",
       "      <td>8</td>\n",
       "      <td>408.0</td>\n",
       "      <td>52.0</td>\n",
       "      <td>14055.93</td>\n",
       "      <td>81.0</td>\n",
       "      <td>52</td>\n",
       "      <td>NaN</td>\n",
       "      <td>Краснодар</td>\n",
       "      <td>Рафаил</td>\n",
       "      <td>...</td>\n",
       "      <td>2018-05-25</td>\n",
       "      <td>ultra</td>\n",
       "      <td>1000</td>\n",
       "      <td>30720</td>\n",
       "      <td>3000</td>\n",
       "      <td>1950</td>\n",
       "      <td>150</td>\n",
       "      <td>1</td>\n",
       "      <td>1</td>\n",
       "      <td>ultra</td>\n",
       "    </tr>\n",
       "    <tr>\n",
       "      <th>4</th>\n",
       "      <td>1000</td>\n",
       "      <td>9</td>\n",
       "      <td>466.0</td>\n",
       "      <td>58.0</td>\n",
       "      <td>14568.91</td>\n",
       "      <td>57.0</td>\n",
       "      <td>52</td>\n",
       "      <td>NaN</td>\n",
       "      <td>Краснодар</td>\n",
       "      <td>Рафаил</td>\n",
       "      <td>...</td>\n",
       "      <td>2018-05-25</td>\n",
       "      <td>ultra</td>\n",
       "      <td>1000</td>\n",
       "      <td>30720</td>\n",
       "      <td>3000</td>\n",
       "      <td>1950</td>\n",
       "      <td>150</td>\n",
       "      <td>1</td>\n",
       "      <td>1</td>\n",
       "      <td>ultra</td>\n",
       "    </tr>\n",
       "  </tbody>\n",
       "</table>\n",
       "<p>5 rows × 21 columns</p>\n",
       "</div>"
      ],
      "text/plain": [
       "   user_id  month  duration_sum  duration_count   mb_used  messages  age  \\\n",
       "0     1000      5         159.0            22.0   2253.49      22.0   52   \n",
       "1     1000      6         172.0            43.0  23233.77      60.0   52   \n",
       "2     1000      7         340.0            47.0  14003.64      75.0   52   \n",
       "3     1000      8         408.0            52.0  14055.93      81.0   52   \n",
       "4     1000      9         466.0            58.0  14568.91      57.0   52   \n",
       "\n",
       "  churn_date       city first_name  ...   reg_date tariff messages_included  \\\n",
       "0        NaN  Краснодар     Рафаил  ... 2018-05-25  ultra              1000   \n",
       "1        NaN  Краснодар     Рафаил  ... 2018-05-25  ultra              1000   \n",
       "2        NaN  Краснодар     Рафаил  ... 2018-05-25  ultra              1000   \n",
       "3        NaN  Краснодар     Рафаил  ... 2018-05-25  ultra              1000   \n",
       "4        NaN  Краснодар     Рафаил  ... 2018-05-25  ultra              1000   \n",
       "\n",
       "   mb_per_month_included  minutes_included  rub_monthly_fee  rub_per_gb  \\\n",
       "0                  30720              3000             1950         150   \n",
       "1                  30720              3000             1950         150   \n",
       "2                  30720              3000             1950         150   \n",
       "3                  30720              3000             1950         150   \n",
       "4                  30720              3000             1950         150   \n",
       "\n",
       "   rub_per_message  rub_per_minute  tariff_name  \n",
       "0                1               1        ultra  \n",
       "1                1               1        ultra  \n",
       "2                1               1        ultra  \n",
       "3                1               1        ultra  \n",
       "4                1               1        ultra  \n",
       "\n",
       "[5 rows x 21 columns]"
      ]
     },
     "metadata": {},
     "output_type": "display_data"
    }
   ],
   "source": [
    "# общая информация и первые 5 строк таблицы df\n",
    "inform(df)"
   ]
  },
  {
   "cell_type": "code",
   "execution_count": 29,
   "metadata": {},
   "outputs": [
    {
     "data": {
      "text/html": [
       "<div>\n",
       "<style scoped>\n",
       "    .dataframe tbody tr th:only-of-type {\n",
       "        vertical-align: middle;\n",
       "    }\n",
       "\n",
       "    .dataframe tbody tr th {\n",
       "        vertical-align: top;\n",
       "    }\n",
       "\n",
       "    .dataframe thead th {\n",
       "        text-align: right;\n",
       "    }\n",
       "</style>\n",
       "<table border=\"1\" class=\"dataframe\">\n",
       "  <thead>\n",
       "    <tr style=\"text-align: right;\">\n",
       "      <th></th>\n",
       "      <th>user_id</th>\n",
       "      <th>month</th>\n",
       "      <th>duration_sum</th>\n",
       "      <th>duration_count</th>\n",
       "      <th>gb_used</th>\n",
       "      <th>messages</th>\n",
       "      <th>age</th>\n",
       "      <th>churn_date</th>\n",
       "      <th>city</th>\n",
       "      <th>first_name</th>\n",
       "      <th>...</th>\n",
       "      <th>reg_date</th>\n",
       "      <th>tariff</th>\n",
       "      <th>messages_included</th>\n",
       "      <th>gb_per_month_included</th>\n",
       "      <th>minutes_included</th>\n",
       "      <th>rub_monthly_fee</th>\n",
       "      <th>rub_per_gb</th>\n",
       "      <th>rub_per_message</th>\n",
       "      <th>rub_per_minute</th>\n",
       "      <th>tariff_name</th>\n",
       "    </tr>\n",
       "  </thead>\n",
       "  <tbody>\n",
       "    <tr>\n",
       "      <th>0</th>\n",
       "      <td>1000</td>\n",
       "      <td>5</td>\n",
       "      <td>159</td>\n",
       "      <td>22</td>\n",
       "      <td>3</td>\n",
       "      <td>22</td>\n",
       "      <td>52</td>\n",
       "      <td>NaN</td>\n",
       "      <td>Краснодар</td>\n",
       "      <td>Рафаил</td>\n",
       "      <td>...</td>\n",
       "      <td>2018-05-25</td>\n",
       "      <td>ultra</td>\n",
       "      <td>1000</td>\n",
       "      <td>30</td>\n",
       "      <td>3000</td>\n",
       "      <td>1950</td>\n",
       "      <td>150</td>\n",
       "      <td>1</td>\n",
       "      <td>1</td>\n",
       "      <td>ultra</td>\n",
       "    </tr>\n",
       "    <tr>\n",
       "      <th>1</th>\n",
       "      <td>1000</td>\n",
       "      <td>6</td>\n",
       "      <td>172</td>\n",
       "      <td>43</td>\n",
       "      <td>23</td>\n",
       "      <td>60</td>\n",
       "      <td>52</td>\n",
       "      <td>NaN</td>\n",
       "      <td>Краснодар</td>\n",
       "      <td>Рафаил</td>\n",
       "      <td>...</td>\n",
       "      <td>2018-05-25</td>\n",
       "      <td>ultra</td>\n",
       "      <td>1000</td>\n",
       "      <td>30</td>\n",
       "      <td>3000</td>\n",
       "      <td>1950</td>\n",
       "      <td>150</td>\n",
       "      <td>1</td>\n",
       "      <td>1</td>\n",
       "      <td>ultra</td>\n",
       "    </tr>\n",
       "    <tr>\n",
       "      <th>2</th>\n",
       "      <td>1000</td>\n",
       "      <td>7</td>\n",
       "      <td>340</td>\n",
       "      <td>47</td>\n",
       "      <td>14</td>\n",
       "      <td>75</td>\n",
       "      <td>52</td>\n",
       "      <td>NaN</td>\n",
       "      <td>Краснодар</td>\n",
       "      <td>Рафаил</td>\n",
       "      <td>...</td>\n",
       "      <td>2018-05-25</td>\n",
       "      <td>ultra</td>\n",
       "      <td>1000</td>\n",
       "      <td>30</td>\n",
       "      <td>3000</td>\n",
       "      <td>1950</td>\n",
       "      <td>150</td>\n",
       "      <td>1</td>\n",
       "      <td>1</td>\n",
       "      <td>ultra</td>\n",
       "    </tr>\n",
       "    <tr>\n",
       "      <th>3</th>\n",
       "      <td>1000</td>\n",
       "      <td>8</td>\n",
       "      <td>408</td>\n",
       "      <td>52</td>\n",
       "      <td>14</td>\n",
       "      <td>81</td>\n",
       "      <td>52</td>\n",
       "      <td>NaN</td>\n",
       "      <td>Краснодар</td>\n",
       "      <td>Рафаил</td>\n",
       "      <td>...</td>\n",
       "      <td>2018-05-25</td>\n",
       "      <td>ultra</td>\n",
       "      <td>1000</td>\n",
       "      <td>30</td>\n",
       "      <td>3000</td>\n",
       "      <td>1950</td>\n",
       "      <td>150</td>\n",
       "      <td>1</td>\n",
       "      <td>1</td>\n",
       "      <td>ultra</td>\n",
       "    </tr>\n",
       "    <tr>\n",
       "      <th>4</th>\n",
       "      <td>1000</td>\n",
       "      <td>9</td>\n",
       "      <td>466</td>\n",
       "      <td>58</td>\n",
       "      <td>15</td>\n",
       "      <td>57</td>\n",
       "      <td>52</td>\n",
       "      <td>NaN</td>\n",
       "      <td>Краснодар</td>\n",
       "      <td>Рафаил</td>\n",
       "      <td>...</td>\n",
       "      <td>2018-05-25</td>\n",
       "      <td>ultra</td>\n",
       "      <td>1000</td>\n",
       "      <td>30</td>\n",
       "      <td>3000</td>\n",
       "      <td>1950</td>\n",
       "      <td>150</td>\n",
       "      <td>1</td>\n",
       "      <td>1</td>\n",
       "      <td>ultra</td>\n",
       "    </tr>\n",
       "  </tbody>\n",
       "</table>\n",
       "<p>5 rows × 21 columns</p>\n",
       "</div>"
      ],
      "text/plain": [
       "   user_id  month  duration_sum  duration_count  gb_used  messages  age  \\\n",
       "0     1000      5           159              22        3        22   52   \n",
       "1     1000      6           172              43       23        60   52   \n",
       "2     1000      7           340              47       14        75   52   \n",
       "3     1000      8           408              52       14        81   52   \n",
       "4     1000      9           466              58       15        57   52   \n",
       "\n",
       "  churn_date       city first_name  ...   reg_date tariff messages_included  \\\n",
       "0        NaN  Краснодар     Рафаил  ... 2018-05-25  ultra              1000   \n",
       "1        NaN  Краснодар     Рафаил  ... 2018-05-25  ultra              1000   \n",
       "2        NaN  Краснодар     Рафаил  ... 2018-05-25  ultra              1000   \n",
       "3        NaN  Краснодар     Рафаил  ... 2018-05-25  ultra              1000   \n",
       "4        NaN  Краснодар     Рафаил  ... 2018-05-25  ultra              1000   \n",
       "\n",
       "   gb_per_month_included  minutes_included  rub_monthly_fee  rub_per_gb  \\\n",
       "0                     30              3000             1950         150   \n",
       "1                     30              3000             1950         150   \n",
       "2                     30              3000             1950         150   \n",
       "3                     30              3000             1950         150   \n",
       "4                     30              3000             1950         150   \n",
       "\n",
       "   rub_per_message  rub_per_minute  tariff_name  \n",
       "0                1               1        ultra  \n",
       "1                1               1        ultra  \n",
       "2                1               1        ultra  \n",
       "3                1               1        ultra  \n",
       "4                1               1        ultra  \n",
       "\n",
       "[5 rows x 21 columns]"
      ]
     },
     "metadata": {},
     "output_type": "display_data"
    }
   ],
   "source": [
    "# перевод длительности звонков в int\n",
    "df['duration_sum'] = df['duration_sum'].astype(int)\n",
    "\n",
    "# перевод количества звонков в int\n",
    "df['duration_count'] = df['duration_count'].astype(int)\n",
    "\n",
    "# перевод затраченного интернета в Гб\n",
    "df['mb_used'] = df['mb_used']/1024\n",
    "\n",
    "# округление затраченного интернета в большую сторону и преведение к целому значению\n",
    "df['mb_used'] = df['mb_used'].apply(np.ceil).astype(int)\n",
    "\n",
    "# перевод предоставленного интернета в Гб и перевод значения в целочисленное\n",
    "df['mb_per_month_included'] = (df['mb_per_month_included']/1024).astype(int)\n",
    "\n",
    "# переименование столбцов с интернетом\n",
    "df = df.rename(columns = {\n",
    "        'mb_used': 'gb_used', \n",
    "        'mb_per_month_included': 'gb_per_month_included'})\n",
    "\n",
    "# смена типа данных в столбце messages на целочисленный\n",
    "df['messages'] = df['messages'].astype(int)\n",
    "\n",
    "# проверка\n",
    "display(df.head())"
   ]
  },
  {
   "cell_type": "markdown",
   "metadata": {},
   "source": [
    "Посчет для каждого пользователя:\n",
    "* количество сделанных звонков и израсходованных минут разговора по месяцам;\n",
    "* количество отправленных сообщений по месяцам;\n",
    "* объем израсходованного интернет-трафика по месяцам;\n",
    "* помесячную выручку с каждого пользователя (вычтите бесплатный лимит из суммарного количества звонков, сообщений и интернет-трафика; остаток умножьте на значение из тарифного плана; прибавьте абонентскую плату, соответствующую тарифному плану)."
   ]
  },
  {
   "cell_type": "code",
   "execution_count": 30,
   "metadata": {},
   "outputs": [
    {
     "data": {
      "text/html": [
       "<div>\n",
       "<style scoped>\n",
       "    .dataframe tbody tr th:only-of-type {\n",
       "        vertical-align: middle;\n",
       "    }\n",
       "\n",
       "    .dataframe tbody tr th {\n",
       "        vertical-align: top;\n",
       "    }\n",
       "\n",
       "    .dataframe thead th {\n",
       "        text-align: right;\n",
       "    }\n",
       "</style>\n",
       "<table border=\"1\" class=\"dataframe\">\n",
       "  <thead>\n",
       "    <tr style=\"text-align: right;\">\n",
       "      <th></th>\n",
       "      <th>user_id</th>\n",
       "      <th>last_name</th>\n",
       "      <th>month</th>\n",
       "      <th>duration_sum</th>\n",
       "      <th>duration_count</th>\n",
       "      <th>messages</th>\n",
       "      <th>gb_used</th>\n",
       "    </tr>\n",
       "  </thead>\n",
       "  <tbody>\n",
       "    <tr>\n",
       "      <th>0</th>\n",
       "      <td>1000</td>\n",
       "      <td>Верещагин</td>\n",
       "      <td>5</td>\n",
       "      <td>159</td>\n",
       "      <td>22</td>\n",
       "      <td>22</td>\n",
       "      <td>3</td>\n",
       "    </tr>\n",
       "    <tr>\n",
       "      <th>1</th>\n",
       "      <td>1000</td>\n",
       "      <td>Верещагин</td>\n",
       "      <td>6</td>\n",
       "      <td>172</td>\n",
       "      <td>43</td>\n",
       "      <td>60</td>\n",
       "      <td>23</td>\n",
       "    </tr>\n",
       "    <tr>\n",
       "      <th>2</th>\n",
       "      <td>1000</td>\n",
       "      <td>Верещагин</td>\n",
       "      <td>7</td>\n",
       "      <td>340</td>\n",
       "      <td>47</td>\n",
       "      <td>75</td>\n",
       "      <td>14</td>\n",
       "    </tr>\n",
       "    <tr>\n",
       "      <th>3</th>\n",
       "      <td>1000</td>\n",
       "      <td>Верещагин</td>\n",
       "      <td>8</td>\n",
       "      <td>408</td>\n",
       "      <td>52</td>\n",
       "      <td>81</td>\n",
       "      <td>14</td>\n",
       "    </tr>\n",
       "    <tr>\n",
       "      <th>4</th>\n",
       "      <td>1000</td>\n",
       "      <td>Верещагин</td>\n",
       "      <td>9</td>\n",
       "      <td>466</td>\n",
       "      <td>58</td>\n",
       "      <td>57</td>\n",
       "      <td>15</td>\n",
       "    </tr>\n",
       "    <tr>\n",
       "      <th>...</th>\n",
       "      <td>...</td>\n",
       "      <td>...</td>\n",
       "      <td>...</td>\n",
       "      <td>...</td>\n",
       "      <td>...</td>\n",
       "      <td>...</td>\n",
       "      <td>...</td>\n",
       "    </tr>\n",
       "    <tr>\n",
       "      <th>3209</th>\n",
       "      <td>1489</td>\n",
       "      <td>Гончаров</td>\n",
       "      <td>8</td>\n",
       "      <td>0</td>\n",
       "      <td>0</td>\n",
       "      <td>17</td>\n",
       "      <td>11</td>\n",
       "    </tr>\n",
       "    <tr>\n",
       "      <th>3210</th>\n",
       "      <td>1489</td>\n",
       "      <td>Гончаров</td>\n",
       "      <td>9</td>\n",
       "      <td>0</td>\n",
       "      <td>0</td>\n",
       "      <td>32</td>\n",
       "      <td>17</td>\n",
       "    </tr>\n",
       "    <tr>\n",
       "      <th>3211</th>\n",
       "      <td>1489</td>\n",
       "      <td>Гончаров</td>\n",
       "      <td>10</td>\n",
       "      <td>0</td>\n",
       "      <td>0</td>\n",
       "      <td>21</td>\n",
       "      <td>20</td>\n",
       "    </tr>\n",
       "    <tr>\n",
       "      <th>3212</th>\n",
       "      <td>1489</td>\n",
       "      <td>Гончаров</td>\n",
       "      <td>11</td>\n",
       "      <td>0</td>\n",
       "      <td>0</td>\n",
       "      <td>20</td>\n",
       "      <td>18</td>\n",
       "    </tr>\n",
       "    <tr>\n",
       "      <th>3213</th>\n",
       "      <td>1489</td>\n",
       "      <td>Гончаров</td>\n",
       "      <td>12</td>\n",
       "      <td>0</td>\n",
       "      <td>0</td>\n",
       "      <td>35</td>\n",
       "      <td>17</td>\n",
       "    </tr>\n",
       "  </tbody>\n",
       "</table>\n",
       "<p>3214 rows × 7 columns</p>\n",
       "</div>"
      ],
      "text/plain": [
       "      user_id  last_name  month  duration_sum  duration_count  messages  \\\n",
       "0        1000  Верещагин      5           159              22        22   \n",
       "1        1000  Верещагин      6           172              43        60   \n",
       "2        1000  Верещагин      7           340              47        75   \n",
       "3        1000  Верещагин      8           408              52        81   \n",
       "4        1000  Верещагин      9           466              58        57   \n",
       "...       ...        ...    ...           ...             ...       ...   \n",
       "3209     1489   Гончаров      8             0               0        17   \n",
       "3210     1489   Гончаров      9             0               0        32   \n",
       "3211     1489   Гончаров     10             0               0        21   \n",
       "3212     1489   Гончаров     11             0               0        20   \n",
       "3213     1489   Гончаров     12             0               0        35   \n",
       "\n",
       "      gb_used  \n",
       "0           3  \n",
       "1          23  \n",
       "2          14  \n",
       "3          14  \n",
       "4          15  \n",
       "...       ...  \n",
       "3209       11  \n",
       "3210       17  \n",
       "3211       20  \n",
       "3212       18  \n",
       "3213       17  \n",
       "\n",
       "[3214 rows x 7 columns]"
      ]
     },
     "metadata": {},
     "output_type": "display_data"
    }
   ],
   "source": [
    "# выделение необходимых столбцов в одну таблицу\n",
    "report = df[['user_id', 'last_name', 'month', 'duration_sum', 'duration_count', 'messages', 'gb_used']]\n",
    "display(report)"
   ]
  },
  {
   "cell_type": "markdown",
   "metadata": {},
   "source": [
    "Подсчет помесячной выручки с каждого пользователя:"
   ]
  },
  {
   "cell_type": "code",
   "execution_count": 32,
   "metadata": {},
   "outputs": [],
   "source": [
    "# создание функции для подсчета помесячной выручки с каждого пользователя\n",
    "def revenue(row):\n",
    "    \n",
    "    minute_left = 0\n",
    "    gd_left = 0\n",
    "    message_left = 0\n",
    "    \n",
    "    if row['duration_sum'] > row['minutes_included']:\n",
    "        minute_left = (row['duration_sum'] - row['minutes_included']) * row['rub_per_minute']\n",
    "    \n",
    "    if row['messages'] > row['messages_included']:\n",
    "        message_left = (row['messages'] - row['messages_included']) * row['rub_per_message']\n",
    "       \n",
    "    if row['gb_used'] > row['gb_per_month_included']:\n",
    "        gd_left = (row['gb_used'] - row['gb_per_month_included']) * row['rub_per_gb']\n",
    "    \n",
    "    \n",
    "    result = row['rub_monthly_fee'] + minute_left + gd_left + message_left\n",
    "        \n",
    "    return result"
   ]
  },
  {
   "cell_type": "code",
   "execution_count": 33,
   "metadata": {},
   "outputs": [
    {
     "data": {
      "text/html": [
       "<div>\n",
       "<style scoped>\n",
       "    .dataframe tbody tr th:only-of-type {\n",
       "        vertical-align: middle;\n",
       "    }\n",
       "\n",
       "    .dataframe tbody tr th {\n",
       "        vertical-align: top;\n",
       "    }\n",
       "\n",
       "    .dataframe thead th {\n",
       "        text-align: right;\n",
       "    }\n",
       "</style>\n",
       "<table border=\"1\" class=\"dataframe\">\n",
       "  <thead>\n",
       "    <tr style=\"text-align: right;\">\n",
       "      <th></th>\n",
       "      <th>user_id</th>\n",
       "      <th>month</th>\n",
       "      <th>duration_sum</th>\n",
       "      <th>duration_count</th>\n",
       "      <th>gb_used</th>\n",
       "      <th>messages</th>\n",
       "      <th>age</th>\n",
       "      <th>churn_date</th>\n",
       "      <th>city</th>\n",
       "      <th>first_name</th>\n",
       "      <th>...</th>\n",
       "      <th>tariff</th>\n",
       "      <th>messages_included</th>\n",
       "      <th>gb_per_month_included</th>\n",
       "      <th>minutes_included</th>\n",
       "      <th>rub_monthly_fee</th>\n",
       "      <th>rub_per_gb</th>\n",
       "      <th>rub_per_message</th>\n",
       "      <th>rub_per_minute</th>\n",
       "      <th>tariff_name</th>\n",
       "      <th>revenue_per_month</th>\n",
       "    </tr>\n",
       "  </thead>\n",
       "  <tbody>\n",
       "    <tr>\n",
       "      <th>0</th>\n",
       "      <td>1000</td>\n",
       "      <td>5</td>\n",
       "      <td>159</td>\n",
       "      <td>22</td>\n",
       "      <td>3</td>\n",
       "      <td>22</td>\n",
       "      <td>52</td>\n",
       "      <td>NaN</td>\n",
       "      <td>Краснодар</td>\n",
       "      <td>Рафаил</td>\n",
       "      <td>...</td>\n",
       "      <td>ultra</td>\n",
       "      <td>1000</td>\n",
       "      <td>30</td>\n",
       "      <td>3000</td>\n",
       "      <td>1950</td>\n",
       "      <td>150</td>\n",
       "      <td>1</td>\n",
       "      <td>1</td>\n",
       "      <td>ultra</td>\n",
       "      <td>1950</td>\n",
       "    </tr>\n",
       "    <tr>\n",
       "      <th>1</th>\n",
       "      <td>1000</td>\n",
       "      <td>6</td>\n",
       "      <td>172</td>\n",
       "      <td>43</td>\n",
       "      <td>23</td>\n",
       "      <td>60</td>\n",
       "      <td>52</td>\n",
       "      <td>NaN</td>\n",
       "      <td>Краснодар</td>\n",
       "      <td>Рафаил</td>\n",
       "      <td>...</td>\n",
       "      <td>ultra</td>\n",
       "      <td>1000</td>\n",
       "      <td>30</td>\n",
       "      <td>3000</td>\n",
       "      <td>1950</td>\n",
       "      <td>150</td>\n",
       "      <td>1</td>\n",
       "      <td>1</td>\n",
       "      <td>ultra</td>\n",
       "      <td>1950</td>\n",
       "    </tr>\n",
       "    <tr>\n",
       "      <th>2</th>\n",
       "      <td>1000</td>\n",
       "      <td>7</td>\n",
       "      <td>340</td>\n",
       "      <td>47</td>\n",
       "      <td>14</td>\n",
       "      <td>75</td>\n",
       "      <td>52</td>\n",
       "      <td>NaN</td>\n",
       "      <td>Краснодар</td>\n",
       "      <td>Рафаил</td>\n",
       "      <td>...</td>\n",
       "      <td>ultra</td>\n",
       "      <td>1000</td>\n",
       "      <td>30</td>\n",
       "      <td>3000</td>\n",
       "      <td>1950</td>\n",
       "      <td>150</td>\n",
       "      <td>1</td>\n",
       "      <td>1</td>\n",
       "      <td>ultra</td>\n",
       "      <td>1950</td>\n",
       "    </tr>\n",
       "    <tr>\n",
       "      <th>3</th>\n",
       "      <td>1000</td>\n",
       "      <td>8</td>\n",
       "      <td>408</td>\n",
       "      <td>52</td>\n",
       "      <td>14</td>\n",
       "      <td>81</td>\n",
       "      <td>52</td>\n",
       "      <td>NaN</td>\n",
       "      <td>Краснодар</td>\n",
       "      <td>Рафаил</td>\n",
       "      <td>...</td>\n",
       "      <td>ultra</td>\n",
       "      <td>1000</td>\n",
       "      <td>30</td>\n",
       "      <td>3000</td>\n",
       "      <td>1950</td>\n",
       "      <td>150</td>\n",
       "      <td>1</td>\n",
       "      <td>1</td>\n",
       "      <td>ultra</td>\n",
       "      <td>1950</td>\n",
       "    </tr>\n",
       "    <tr>\n",
       "      <th>4</th>\n",
       "      <td>1000</td>\n",
       "      <td>9</td>\n",
       "      <td>466</td>\n",
       "      <td>58</td>\n",
       "      <td>15</td>\n",
       "      <td>57</td>\n",
       "      <td>52</td>\n",
       "      <td>NaN</td>\n",
       "      <td>Краснодар</td>\n",
       "      <td>Рафаил</td>\n",
       "      <td>...</td>\n",
       "      <td>ultra</td>\n",
       "      <td>1000</td>\n",
       "      <td>30</td>\n",
       "      <td>3000</td>\n",
       "      <td>1950</td>\n",
       "      <td>150</td>\n",
       "      <td>1</td>\n",
       "      <td>1</td>\n",
       "      <td>ultra</td>\n",
       "      <td>1950</td>\n",
       "    </tr>\n",
       "    <tr>\n",
       "      <th>...</th>\n",
       "      <td>...</td>\n",
       "      <td>...</td>\n",
       "      <td>...</td>\n",
       "      <td>...</td>\n",
       "      <td>...</td>\n",
       "      <td>...</td>\n",
       "      <td>...</td>\n",
       "      <td>...</td>\n",
       "      <td>...</td>\n",
       "      <td>...</td>\n",
       "      <td>...</td>\n",
       "      <td>...</td>\n",
       "      <td>...</td>\n",
       "      <td>...</td>\n",
       "      <td>...</td>\n",
       "      <td>...</td>\n",
       "      <td>...</td>\n",
       "      <td>...</td>\n",
       "      <td>...</td>\n",
       "      <td>...</td>\n",
       "      <td>...</td>\n",
       "    </tr>\n",
       "    <tr>\n",
       "      <th>3209</th>\n",
       "      <td>1489</td>\n",
       "      <td>8</td>\n",
       "      <td>0</td>\n",
       "      <td>0</td>\n",
       "      <td>11</td>\n",
       "      <td>17</td>\n",
       "      <td>35</td>\n",
       "      <td>NaN</td>\n",
       "      <td>Санкт-Петербург</td>\n",
       "      <td>Павел</td>\n",
       "      <td>...</td>\n",
       "      <td>smart</td>\n",
       "      <td>50</td>\n",
       "      <td>15</td>\n",
       "      <td>500</td>\n",
       "      <td>550</td>\n",
       "      <td>200</td>\n",
       "      <td>3</td>\n",
       "      <td>3</td>\n",
       "      <td>smart</td>\n",
       "      <td>550</td>\n",
       "    </tr>\n",
       "    <tr>\n",
       "      <th>3210</th>\n",
       "      <td>1489</td>\n",
       "      <td>9</td>\n",
       "      <td>0</td>\n",
       "      <td>0</td>\n",
       "      <td>17</td>\n",
       "      <td>32</td>\n",
       "      <td>35</td>\n",
       "      <td>NaN</td>\n",
       "      <td>Санкт-Петербург</td>\n",
       "      <td>Павел</td>\n",
       "      <td>...</td>\n",
       "      <td>smart</td>\n",
       "      <td>50</td>\n",
       "      <td>15</td>\n",
       "      <td>500</td>\n",
       "      <td>550</td>\n",
       "      <td>200</td>\n",
       "      <td>3</td>\n",
       "      <td>3</td>\n",
       "      <td>smart</td>\n",
       "      <td>950</td>\n",
       "    </tr>\n",
       "    <tr>\n",
       "      <th>3211</th>\n",
       "      <td>1489</td>\n",
       "      <td>10</td>\n",
       "      <td>0</td>\n",
       "      <td>0</td>\n",
       "      <td>20</td>\n",
       "      <td>21</td>\n",
       "      <td>35</td>\n",
       "      <td>NaN</td>\n",
       "      <td>Санкт-Петербург</td>\n",
       "      <td>Павел</td>\n",
       "      <td>...</td>\n",
       "      <td>smart</td>\n",
       "      <td>50</td>\n",
       "      <td>15</td>\n",
       "      <td>500</td>\n",
       "      <td>550</td>\n",
       "      <td>200</td>\n",
       "      <td>3</td>\n",
       "      <td>3</td>\n",
       "      <td>smart</td>\n",
       "      <td>1550</td>\n",
       "    </tr>\n",
       "    <tr>\n",
       "      <th>3212</th>\n",
       "      <td>1489</td>\n",
       "      <td>11</td>\n",
       "      <td>0</td>\n",
       "      <td>0</td>\n",
       "      <td>18</td>\n",
       "      <td>20</td>\n",
       "      <td>35</td>\n",
       "      <td>NaN</td>\n",
       "      <td>Санкт-Петербург</td>\n",
       "      <td>Павел</td>\n",
       "      <td>...</td>\n",
       "      <td>smart</td>\n",
       "      <td>50</td>\n",
       "      <td>15</td>\n",
       "      <td>500</td>\n",
       "      <td>550</td>\n",
       "      <td>200</td>\n",
       "      <td>3</td>\n",
       "      <td>3</td>\n",
       "      <td>smart</td>\n",
       "      <td>1150</td>\n",
       "    </tr>\n",
       "    <tr>\n",
       "      <th>3213</th>\n",
       "      <td>1489</td>\n",
       "      <td>12</td>\n",
       "      <td>0</td>\n",
       "      <td>0</td>\n",
       "      <td>17</td>\n",
       "      <td>35</td>\n",
       "      <td>35</td>\n",
       "      <td>NaN</td>\n",
       "      <td>Санкт-Петербург</td>\n",
       "      <td>Павел</td>\n",
       "      <td>...</td>\n",
       "      <td>smart</td>\n",
       "      <td>50</td>\n",
       "      <td>15</td>\n",
       "      <td>500</td>\n",
       "      <td>550</td>\n",
       "      <td>200</td>\n",
       "      <td>3</td>\n",
       "      <td>3</td>\n",
       "      <td>smart</td>\n",
       "      <td>950</td>\n",
       "    </tr>\n",
       "  </tbody>\n",
       "</table>\n",
       "<p>3214 rows × 22 columns</p>\n",
       "</div>"
      ],
      "text/plain": [
       "      user_id  month  duration_sum  duration_count  gb_used  messages  age  \\\n",
       "0        1000      5           159              22        3        22   52   \n",
       "1        1000      6           172              43       23        60   52   \n",
       "2        1000      7           340              47       14        75   52   \n",
       "3        1000      8           408              52       14        81   52   \n",
       "4        1000      9           466              58       15        57   52   \n",
       "...       ...    ...           ...             ...      ...       ...  ...   \n",
       "3209     1489      8             0               0       11        17   35   \n",
       "3210     1489      9             0               0       17        32   35   \n",
       "3211     1489     10             0               0       20        21   35   \n",
       "3212     1489     11             0               0       18        20   35   \n",
       "3213     1489     12             0               0       17        35   35   \n",
       "\n",
       "     churn_date             city first_name  ... tariff messages_included  \\\n",
       "0           NaN        Краснодар     Рафаил  ...  ultra              1000   \n",
       "1           NaN        Краснодар     Рафаил  ...  ultra              1000   \n",
       "2           NaN        Краснодар     Рафаил  ...  ultra              1000   \n",
       "3           NaN        Краснодар     Рафаил  ...  ultra              1000   \n",
       "4           NaN        Краснодар     Рафаил  ...  ultra              1000   \n",
       "...         ...              ...        ...  ...    ...               ...   \n",
       "3209        NaN  Санкт-Петербург      Павел  ...  smart                50   \n",
       "3210        NaN  Санкт-Петербург      Павел  ...  smart                50   \n",
       "3211        NaN  Санкт-Петербург      Павел  ...  smart                50   \n",
       "3212        NaN  Санкт-Петербург      Павел  ...  smart                50   \n",
       "3213        NaN  Санкт-Петербург      Павел  ...  smart                50   \n",
       "\n",
       "     gb_per_month_included  minutes_included  rub_monthly_fee  rub_per_gb  \\\n",
       "0                       30              3000             1950         150   \n",
       "1                       30              3000             1950         150   \n",
       "2                       30              3000             1950         150   \n",
       "3                       30              3000             1950         150   \n",
       "4                       30              3000             1950         150   \n",
       "...                    ...               ...              ...         ...   \n",
       "3209                    15               500              550         200   \n",
       "3210                    15               500              550         200   \n",
       "3211                    15               500              550         200   \n",
       "3212                    15               500              550         200   \n",
       "3213                    15               500              550         200   \n",
       "\n",
       "      rub_per_message  rub_per_minute  tariff_name  revenue_per_month  \n",
       "0                   1               1        ultra               1950  \n",
       "1                   1               1        ultra               1950  \n",
       "2                   1               1        ultra               1950  \n",
       "3                   1               1        ultra               1950  \n",
       "4                   1               1        ultra               1950  \n",
       "...               ...             ...          ...                ...  \n",
       "3209                3               3        smart                550  \n",
       "3210                3               3        smart                950  \n",
       "3211                3               3        smart               1550  \n",
       "3212                3               3        smart               1150  \n",
       "3213                3               3        smart                950  \n",
       "\n",
       "[3214 rows x 22 columns]"
      ]
     },
     "metadata": {},
     "output_type": "display_data"
    }
   ],
   "source": [
    "# создание столбца с помесячной выручкой для каждого пользователя\n",
    "df['revenue_per_month'] = df.apply(revenue, axis = 1)\n",
    "display(df)"
   ]
  },
  {
   "cell_type": "code",
   "execution_count": 34,
   "metadata": {},
   "outputs": [
    {
     "name": "stdout",
     "output_type": "stream",
     "text": [
      "2070.15\n",
      "1289.97\n"
     ]
    }
   ],
   "source": [
    "# расчет срадней выручки по тарифам\n",
    "print(df.query('tariff == \"ultra\"')['revenue_per_month'].mean().round(2))\n",
    "print(df.query('tariff == \"smart\"')['revenue_per_month'].mean().round(2))"
   ]
  },
  {
   "cell_type": "markdown",
   "metadata": {},
   "source": [
    "При подготовке данных таблицы с данными по пользователям, сообщениям, звонкам, интернету и тарифам были объединены в одну таблицу, были рассчитаны для каждого пользователя следующие показатели:\n",
    "* количество сделанных звонков и израсходованных минут разговора по месяцам;\n",
    "* количество отправленных сообщений по месяцам;\n",
    "* объем израсходованного интернет-трафика по месяцам;\n",
    "* помесячную выручку с каждого пользователя.\n",
    "\n",
    "Изменен тип данных для столбцов: \n",
    "* `duration`(в целочисленный с округлением в большую сторону), \n",
    "* `mb_used`=`gb_used`(переведен в Гб с округлением в большую сторону и переведен в целочисленный тип), \n",
    "* `messages`(в целочисленный тип),\n",
    "* `reg_date`(в формат DateTime, для выделения месяцев),\n",
    "* `mb_per_month_included`=`gb_per_month_included`(переведен в Гб и преведен в целочисленный тип)."
   ]
  },
  {
   "cell_type": "markdown",
   "metadata": {},
   "source": [
    "## Шаг 3. Анализ данных"
   ]
  },
  {
   "cell_type": "markdown",
   "metadata": {},
   "source": [
    "Описание поведения клиентов оператора, исходя из выборки. Сколько минут разговора, сколько сообщений и какой объём интернет-трафика требуется пользователям каждого тарифа в месяц? Посчет среднего количества, дисперсии и стандартного отклонения."
   ]
  },
  {
   "cell_type": "code",
   "execution_count": 35,
   "metadata": {},
   "outputs": [
    {
     "data": {
      "text/html": [
       "<style  type=\"text/css\" >\n",
       "</style><table id=\"T_32461_\" ><thead>    <tr>        <th class=\"blank level0\" ></th>        <th class=\"col_heading level0 col0\" colspan=\"4\">duration_sum</th>        <th class=\"col_heading level0 col4\" colspan=\"4\">messages</th>        <th class=\"col_heading level0 col8\" colspan=\"4\">gb_used</th>    </tr>    <tr>        <th class=\"blank level1\" ></th>        <th class=\"col_heading level1 col0\" >std</th>        <th class=\"col_heading level1 col1\" >count</th>        <th class=\"col_heading level1 col2\" >var</th>        <th class=\"col_heading level1 col3\" >mean</th>        <th class=\"col_heading level1 col4\" >std</th>        <th class=\"col_heading level1 col5\" >count</th>        <th class=\"col_heading level1 col6\" >var</th>        <th class=\"col_heading level1 col7\" >mean</th>        <th class=\"col_heading level1 col8\" >std</th>        <th class=\"col_heading level1 col9\" >count</th>        <th class=\"col_heading level1 col10\" >var</th>        <th class=\"col_heading level1 col11\" >mean</th>    </tr>    <tr>        <th class=\"index_name level0\" >tariff_name</th>        <th class=\"blank\" ></th>        <th class=\"blank\" ></th>        <th class=\"blank\" ></th>        <th class=\"blank\" ></th>        <th class=\"blank\" ></th>        <th class=\"blank\" ></th>        <th class=\"blank\" ></th>        <th class=\"blank\" ></th>        <th class=\"blank\" ></th>        <th class=\"blank\" ></th>        <th class=\"blank\" ></th>        <th class=\"blank\" ></th>    </tr></thead><tbody>\n",
       "                <tr>\n",
       "                        <th id=\"T_32461_level0_row0\" class=\"row_heading level0 row0\" >smart</th>\n",
       "                        <td id=\"T_32461_row0_col0\" class=\"data row0 col0\" >190</td>\n",
       "                        <td id=\"T_32461_row0_col1\" class=\"data row0 col1\" >2229</td>\n",
       "                        <td id=\"T_32461_row0_col2\" class=\"data row0 col2\" >36219</td>\n",
       "                        <td id=\"T_32461_row0_col3\" class=\"data row0 col3\" >418</td>\n",
       "                        <td id=\"T_32461_row0_col4\" class=\"data row0 col4\" >28</td>\n",
       "                        <td id=\"T_32461_row0_col5\" class=\"data row0 col5\" >2229</td>\n",
       "                        <td id=\"T_32461_row0_col6\" class=\"data row0 col6\" >797</td>\n",
       "                        <td id=\"T_32461_row0_col7\" class=\"data row0 col7\" >33</td>\n",
       "                        <td id=\"T_32461_row0_col8\" class=\"data row0 col8\" >6</td>\n",
       "                        <td id=\"T_32461_row0_col9\" class=\"data row0 col9\" >2229</td>\n",
       "                        <td id=\"T_32461_row0_col10\" class=\"data row0 col10\" >33</td>\n",
       "                        <td id=\"T_32461_row0_col11\" class=\"data row0 col11\" >16</td>\n",
       "            </tr>\n",
       "            <tr>\n",
       "                        <th id=\"T_32461_level0_row1\" class=\"row_heading level0 row1\" >ultra</th>\n",
       "                        <td id=\"T_32461_row1_col0\" class=\"data row1 col0\" >318</td>\n",
       "                        <td id=\"T_32461_row1_col1\" class=\"data row1 col1\" >985</td>\n",
       "                        <td id=\"T_32461_row1_col2\" class=\"data row1 col2\" >100874</td>\n",
       "                        <td id=\"T_32461_row1_col3\" class=\"data row1 col3\" >527</td>\n",
       "                        <td id=\"T_32461_row1_col4\" class=\"data row1 col4\" >48</td>\n",
       "                        <td id=\"T_32461_row1_col5\" class=\"data row1 col5\" >985</td>\n",
       "                        <td id=\"T_32461_row1_col6\" class=\"data row1 col6\" >2285</td>\n",
       "                        <td id=\"T_32461_row1_col7\" class=\"data row1 col7\" >49</td>\n",
       "                        <td id=\"T_32461_row1_col8\" class=\"data row1 col8\" >10</td>\n",
       "                        <td id=\"T_32461_row1_col9\" class=\"data row1 col9\" >985</td>\n",
       "                        <td id=\"T_32461_row1_col10\" class=\"data row1 col10\" >97</td>\n",
       "                        <td id=\"T_32461_row1_col11\" class=\"data row1 col11\" >19</td>\n",
       "            </tr>\n",
       "    </tbody></table>"
      ],
      "text/plain": [
       "<pandas.io.formats.style.Styler at 0x7f1214971340>"
      ]
     },
     "metadata": {},
     "output_type": "display_data"
    }
   ],
   "source": [
    "# посчет среднего количества, дисперсии и стандартного отклонения\n",
    "mmi_df = df.groupby('tariff_name')[['duration_sum', 'messages', 'gb_used']].agg({'count', 'mean', 'var', 'std'}).style.format('{:.0f}')\n",
    "display(mmi_df)"
   ]
  },
  {
   "cell_type": "markdown",
   "metadata": {},
   "source": [
    "Выборки по тарифам «Смарт»(\"smart\") и «Ультра»(\"ultra\") (количество значений 2229 и 985, соответственно) по количеству минут разговора `duration_sum`, пользователи тарифа «Смарт» в среднем используют 418, а пользователи тарифа «Ультра» - 527, дисперсия 36219 и 100874, соответственно, это говорит о том, что значения в выборках совсем неодинаковы между собой поэтому их разброс от среднего так велик. \n",
    "\n",
    "По количеству сообщений `messages` пользователи тарифа «Смарт» в среднем используют 33, а пользователи тарифа «Ультра» - 49, дисперсия 797 и 2285, соответственно, вывод о дисперсии такой же, как и в случае по количеству минут разговора.\n",
    "\n",
    "По объёму интернет-трафика `gb_used` пользователи тарифа «Смарт» в среднем используют 16, а пользователи тарифа «Ультра» - 19, дисперсия 33 и 97, соответственно, вывод о дисперсии такой же, как и в случае по количеству минут разговора и по количеству смс."
   ]
  },
  {
   "cell_type": "markdown",
   "metadata": {},
   "source": [
    "Построение гистограммы:"
   ]
  },
  {
   "cell_type": "code",
   "execution_count": 36,
   "metadata": {},
   "outputs": [
    {
     "data": {
      "image/png": "[encoded data removed]",
      "text/plain": [
       "<Figure size 1008x504 with 3 Axes>"
      ]
     },
     "metadata": {
      "needs_background": "light"
     },
     "output_type": "display_data"
    }
   ],
   "source": [
    "# для того чтобы предупреждение не мешало\n",
    "warnings.filterwarnings('ignore')\n",
    "params = ['duration_sum', 'messages', 'gb_used']\n",
    "\n",
    "# число рядов и столбцов в сетке графиков\n",
    "col_count, row_count = 2, 2\n",
    "\n",
    "# размер графиков\n",
    "plt.figure(figsize = (14, 7))\n",
    "\n",
    "# положение графиков в сетке, i+1 порядковый номер графика\n",
    "for i, param in enumerate(params):\n",
    "    for tariff in df['tariff_name'].unique():\n",
    "        current = df.query('tariff_name == @tariff')\n",
    "        sns.distplot(current[param], label = tariff, \n",
    "                     ax = plt.subplot(row_count, col_count, i + 1)\n",
    "                    )\n",
    "        \n",
    "        # добавление подзаголовков на каждый график\n",
    "        plt.title(param)\n",
    "        \n",
    "        # добавление легенды на каждый график\n",
    "        plt.legend()\n",
    "\n",
    "# название        \n",
    "plt.suptitle('Распределение параметров с разбивкой по тарифам')\n",
    "\n",
    "# настройка подзаголовков\n",
    "plt.tight_layout()"
   ]
  },
  {
   "cell_type": "markdown",
   "metadata": {},
   "source": [
    "Описание распределения:\n",
    "\n",
    "На графиках с минутами разговора(`duration_sum`) и объемом интернет-трафика (`gb_used`) распределение значений биномиально со стремлением к нормальному распределению. На графике с количеством сообщений(`messages`) значения распределены биномиально. "
   ]
  },
  {
   "cell_type": "markdown",
   "metadata": {},
   "source": [
    "**Вывод**\n",
    "\n",
    "При описание поведения клиентов оператора, исходя из выборки можно сделать вывод о том, что в среднем для клиентов тарифа «Смарт»(\"smart\") хватает минут и сообщений, включенных в тариф, а вот бсплатного интернет-трафика (15 Гб) - недостаточно."
   ]
  },
  {
   "cell_type": "markdown",
   "metadata": {},
   "source": [
    "## Шаг 4. Проверка гипотез"
   ]
  },
  {
   "cell_type": "markdown",
   "metadata": {},
   "source": [
    "*Гипотеза №1: Средняя выручка пользователей тарифов «Ультра» и «Смарт» различаются:*\n",
    "\n",
    "H₀: средняя выручка пользователей тарифа «Ультра» не равна средней выручке пользователей тарифа «Смарт»;\n",
    "\n",
    "H₁: средняя выручка пользователей тарифа «Ультра» равна средней выручке пользователей тарифа «Смарт».\n",
    "\n",
    "Исходя из формулировки гипотезы о том, что средняя выручка пользователей тарифов «Ультра» и «Смарт» различаются, были сформулированы нулевая(H₀) и альтернативная гипотезы(H₁), для нулевой сделано предположение о том, что средняя выручка пользователей тарифа «Ультра» не равна средней выручке пользователей тарифа «Смарт», а для альтернативной, наоборот, средняя выручка пользователей тарифа «Ультра» равна средней выручке пользователей тарифа «Смарт».\n",
    "\n",
    "Генеральные совокупности не зависят друг от друга. Выборочные средние нормально распределены. Для проверки гипотезы подойдет t-тест."
   ]
  },
  {
   "cell_type": "code",
   "execution_count": 37,
   "metadata": {},
   "outputs": [
    {
     "name": "stdout",
     "output_type": "stream",
     "text": [
      "p-значение:  1.4229814360764067e-160\n",
      "Отвергаем нулевую гипотезу\n"
     ]
    }
   ],
   "source": [
    "# критический уровень статистической значимости\n",
    "# если p-value окажется меньше него - гипотеза отвергается\n",
    "alpha = .001\n",
    "\n",
    "results = st.ttest_ind(df.query('tariff_name == \"ultra\"')['revenue_per_month'], \n",
    "                      df.query('tariff_name == \"smart\"')['revenue_per_month']\n",
    "                      )\n",
    "\n",
    "print('p-значение: ', results.pvalue)\n",
    "\n",
    "if results.pvalue < alpha:\n",
    "    print(\"Отвергаем нулевую гипотезу\")\n",
    "else:\n",
    "    print(\"Не получилось отвергнуть нулевую гипотезу\") "
   ]
  },
  {
   "cell_type": "markdown",
   "metadata": {},
   "source": [
    "По результату t-теста средняя выручка пользователей тарифа «Ультра» равна средней выручке пользователей тарифа «Смарт». То есть можно сказать, что гипотеза о том, что средняя выручка пользователей тарифов «Ультра» и «Смарт» различаются не подтверждается."
   ]
  },
  {
   "cell_type": "markdown",
   "metadata": {},
   "source": [
    "*Гипотеза№2: Средняя выручка пользователей из Москвы отличается от выручки пользователей из других регионов:*\n",
    "\n",
    "H₀: средняя выручка пользователей из Москвы не равна средней выручке пользователей из других регионов (средние по двум выборкам не равны);\n",
    "\n",
    "H₁: средняя выручка пользователей из Москвы равна средней выручке пользователей из других регионов (средние по двум выборкам равны).\n",
    "\n",
    "Исходя из формулировки гипотезы о том, что средняя выручка пользователей из Москвы отличается от выручки пользователей из других регионов, были сформулированы нулевая(H₀) и альтернативная гипотезы(H₁), для нулевой сделано предположение о том, что средняя выручка пользователей из Москвы не равна средней выручке пользователей из других регионов, а для альтернативной, наоборот, средняя выручка пользователей из Москвы равна средней выручке пользователей из других регионов."
   ]
  },
  {
   "cell_type": "code",
   "execution_count": 38,
   "metadata": {},
   "outputs": [
    {
     "name": "stdout",
     "output_type": "stream",
     "text": [
      "p-значение:  0.5440152911670224\n",
      "Не получилось отвергнуть нулевую гипотезу\n"
     ]
    }
   ],
   "source": [
    "# критический уровень статистической значимости\n",
    "# если p-value окажется меньше него - гипотеза отвергается\n",
    "alpha = .001\n",
    "\n",
    "results = st.ttest_ind(df.query('city == \"Москва\"')['revenue_per_month'], \n",
    "                      df.query('city != \"Москва\"')['revenue_per_month']\n",
    "                      )\n",
    "\n",
    "print('p-значение: ', results.pvalue)\n",
    "\n",
    "if results.pvalue < alpha:\n",
    "    print(\"Отвергаем нулевую гипотезу\")\n",
    "else:\n",
    "    print(\"Не получилось отвергнуть нулевую гипотезу\") "
   ]
  },
  {
   "cell_type": "markdown",
   "metadata": {},
   "source": [
    "По результату t-теста средняя выручка пользователей из Москвы не равна средней выручке пользователей из других регионов. То есть можно сказать, что гипотеза о том, что средняя выручка пользователей из Москвы отличается от выручки пользователей из других регионов не отвергается."
   ]
  },
  {
   "cell_type": "markdown",
   "metadata": {},
   "source": [
    "## Шаг 5. Общий вывод"
   ]
  },
  {
   "cell_type": "markdown",
   "metadata": {},
   "source": [
    "В начале проекта, при просмотре данных в таблицах в названиях столбцов не было обнаружено нарушений стиля, тип данных соответсвовал их содержимому в столбцах. Для удобства исследования таблицы были объедины и уже исходя из объединенной таблицы было рассматрено наличие пропусков, дубликатов и ошибок в данных. При подготовке данных таблицы с данными по пользователям, сообщениям, звонкам, интернету и тарифам были объединены в одну таблицу, были рассчитаны количество сделанных звонков и израсходованных минут разговора, количество отправленных сообщений, объем израсходованного интернет-трафика, помесячная выручка с каждого пользователя по месяцам.\n",
    "Изменены типы данных в столбцах `duration`, `mb_used`(`gb_used`), `messages`, `reg_date`, `mb_per_month_included`(`gb_per_month_included`).\n",
    "\n",
    "При описание поведения клиентов оператора, исходя из выборки, в среднем для клиентов тарифа «Смарт» хватает минут и сообщений, включенных в тариф, а вот бсплатного интернет-трафика (15 Гб) - недостаточно.\n",
    "\n",
    "Исходя из этого, можно сказать, что пользователи более дорогого (по ежемесячной оплате) тарифа «Ультра», в среднем, используют меньше предоставленных им минут, сообщений и интернета, тогда как пользователи тарифа «Смарт», в среднем, используют интернет сверх предоставленного, который оплачивают сверх ежемесячной оплаты по тарифу. При проверке гипотиз, гипотиза о том, что средняя выручка пользователей тарифов «Ультра» и «Смарт» различаются - не подтверждается. В связи с этим можно сказать, что оба тарифа приносят хорошую выручку оператору и при расчете бюджета на рекламу, стоит вложиться в рекламу обоих трифов. Но стоит задуматься о рекламе в регионах, так как гипотиза о том, что средняя выручка пользователей из Москвы отличается от выручки пользователей из других регионов не отвергается.\n"
   ]
  }
 ],
 "metadata": {
  "ExecuteTimeLog": [
   {
    "duration": 545,
    "start_time": "2022-03-17T17:38:33.732Z"
   },
   {
    "duration": 213,
    "start_time": "2022-03-17T17:41:38.744Z"
   },
   {
    "duration": 186,
    "start_time": "2022-03-17T17:42:41.862Z"
   },
   {
    "duration": 117,
    "start_time": "2022-03-17T17:43:12.858Z"
   },
   {
    "duration": 19,
    "start_time": "2022-03-17T17:43:39.697Z"
   },
   {
    "duration": 31,
    "start_time": "2022-03-17T17:44:22.939Z"
   },
   {
    "duration": 36,
    "start_time": "2022-03-17T17:59:10.222Z"
   },
   {
    "duration": 38,
    "start_time": "2022-03-17T17:59:35.739Z"
   },
   {
    "duration": 27,
    "start_time": "2022-03-17T17:59:59.531Z"
   },
   {
    "duration": 16,
    "start_time": "2022-03-17T18:00:16.023Z"
   },
   {
    "duration": 19,
    "start_time": "2022-03-17T18:00:43.700Z"
   },
   {
    "duration": 4,
    "start_time": "2022-03-17T18:42:42.900Z"
   },
   {
    "duration": 108,
    "start_time": "2022-03-17T19:02:24.954Z"
   },
   {
    "duration": 6,
    "start_time": "2022-03-17T19:19:55.473Z"
   },
   {
    "duration": 175,
    "start_time": "2022-03-17T19:23:00.376Z"
   },
   {
    "duration": 100,
    "start_time": "2022-03-17T19:26:27.525Z"
   },
   {
    "duration": 17,
    "start_time": "2022-03-17T19:27:04.746Z"
   },
   {
    "duration": 120,
    "start_time": "2022-03-17T19:27:41.871Z"
   },
   {
    "duration": 212,
    "start_time": "2022-03-17T19:29:24.266Z"
   },
   {
    "duration": 77,
    "start_time": "2022-03-17T19:33:25.881Z"
   },
   {
    "duration": 149,
    "start_time": "2022-03-17T19:33:46.425Z"
   },
   {
    "duration": 122,
    "start_time": "2022-03-17T19:34:02.122Z"
   },
   {
    "duration": 79,
    "start_time": "2022-03-17T19:34:12.777Z"
   },
   {
    "duration": 180,
    "start_time": "2022-03-17T19:34:27.762Z"
   },
   {
    "duration": 1021,
    "start_time": "2022-03-17T19:47:24.919Z"
   },
   {
    "duration": 148,
    "start_time": "2022-03-17T19:48:13.560Z"
   },
   {
    "duration": 78,
    "start_time": "2022-03-17T19:48:18.138Z"
   },
   {
    "duration": 213,
    "start_time": "2022-03-17T19:48:19.415Z"
   },
   {
    "duration": 702,
    "start_time": "2022-03-17T19:48:49.292Z"
   },
   {
    "duration": 59,
    "start_time": "2022-03-17T19:48:50.004Z"
   },
   {
    "duration": 39,
    "start_time": "2022-03-17T19:48:50.066Z"
   },
   {
    "duration": 402,
    "start_time": "2022-03-17T19:48:50.109Z"
   },
   {
    "duration": 69,
    "start_time": "2022-03-17T19:48:50.518Z"
   },
   {
    "duration": 161,
    "start_time": "2022-03-17T19:48:50.591Z"
   },
   {
    "duration": 51,
    "start_time": "2022-03-17T19:48:50.758Z"
   },
   {
    "duration": 340,
    "start_time": "2022-03-17T19:48:50.812Z"
   },
   {
    "duration": 51,
    "start_time": "2022-03-17T19:48:51.154Z"
   },
   {
    "duration": 38,
    "start_time": "2022-03-17T19:48:51.207Z"
   },
   {
    "duration": 21,
    "start_time": "2022-03-17T19:48:51.249Z"
   },
   {
    "duration": 184,
    "start_time": "2022-03-17T19:48:51.273Z"
   },
   {
    "duration": 101,
    "start_time": "2022-03-17T19:48:51.460Z"
   },
   {
    "duration": 192,
    "start_time": "2022-03-17T19:48:51.566Z"
   },
   {
    "duration": 51,
    "start_time": "2022-03-18T13:06:59.706Z"
   },
   {
    "duration": 396,
    "start_time": "2022-03-18T13:07:42.037Z"
   },
   {
    "duration": 52,
    "start_time": "2022-03-18T13:07:42.435Z"
   },
   {
    "duration": 12,
    "start_time": "2022-03-18T13:07:42.489Z"
   },
   {
    "duration": 169,
    "start_time": "2022-03-18T13:07:42.503Z"
   },
   {
    "duration": 26,
    "start_time": "2022-03-18T13:07:42.674Z"
   },
   {
    "duration": 99,
    "start_time": "2022-03-18T13:07:42.701Z"
   },
   {
    "duration": 20,
    "start_time": "2022-03-18T13:07:42.802Z"
   },
   {
    "duration": 147,
    "start_time": "2022-03-18T13:07:42.825Z"
   },
   {
    "duration": 22,
    "start_time": "2022-03-18T13:07:42.974Z"
   },
   {
    "duration": 17,
    "start_time": "2022-03-18T13:07:42.997Z"
   },
   {
    "duration": 28,
    "start_time": "2022-03-18T13:07:43.015Z"
   },
   {
    "duration": 79,
    "start_time": "2022-03-18T13:07:43.045Z"
   },
   {
    "duration": 52,
    "start_time": "2022-03-18T13:07:43.137Z"
   },
   {
    "duration": 103,
    "start_time": "2022-03-18T13:07:43.191Z"
   },
   {
    "duration": 93,
    "start_time": "2022-03-18T13:08:55.199Z"
   },
   {
    "duration": 65,
    "start_time": "2022-03-18T13:11:16.010Z"
   },
   {
    "duration": 41,
    "start_time": "2022-03-18T13:11:25.339Z"
   },
   {
    "duration": 41,
    "start_time": "2022-03-18T13:12:33.658Z"
   },
   {
    "duration": 42,
    "start_time": "2022-03-18T13:12:39.128Z"
   },
   {
    "duration": 15,
    "start_time": "2022-03-18T13:33:08.471Z"
   },
   {
    "duration": 20,
    "start_time": "2022-03-18T13:33:22.883Z"
   },
   {
    "duration": 34,
    "start_time": "2022-03-18T13:34:04.308Z"
   },
   {
    "duration": 78,
    "start_time": "2022-03-18T13:35:19.649Z"
   },
   {
    "duration": 48,
    "start_time": "2022-03-18T13:35:20.850Z"
   },
   {
    "duration": 61,
    "start_time": "2022-03-18T13:35:28.002Z"
   },
   {
    "duration": 33,
    "start_time": "2022-03-18T13:35:30.671Z"
   },
   {
    "duration": 33,
    "start_time": "2022-03-18T13:35:50.457Z"
   },
   {
    "duration": 42,
    "start_time": "2022-03-18T13:36:23.265Z"
   },
   {
    "duration": 51,
    "start_time": "2022-03-18T13:36:24.658Z"
   },
   {
    "duration": 67,
    "start_time": "2022-03-18T13:36:26.649Z"
   },
   {
    "duration": 33,
    "start_time": "2022-03-18T13:49:01.173Z"
   },
   {
    "duration": 37,
    "start_time": "2022-03-18T13:49:31.945Z"
   },
   {
    "duration": 41,
    "start_time": "2022-03-18T13:54:57.956Z"
   },
   {
    "duration": 35,
    "start_time": "2022-03-18T13:56:53.284Z"
   },
   {
    "duration": 53,
    "start_time": "2022-03-18T14:08:19.134Z"
   },
   {
    "duration": 41,
    "start_time": "2022-03-18T14:08:33.554Z"
   },
   {
    "duration": 430,
    "start_time": "2022-03-18T14:09:32.729Z"
   },
   {
    "duration": 103,
    "start_time": "2022-03-18T14:09:33.161Z"
   },
   {
    "duration": 12,
    "start_time": "2022-03-18T14:09:33.267Z"
   },
   {
    "duration": 202,
    "start_time": "2022-03-18T14:09:33.280Z"
   },
   {
    "duration": 26,
    "start_time": "2022-03-18T14:09:33.484Z"
   },
   {
    "duration": 87,
    "start_time": "2022-03-18T14:09:33.512Z"
   },
   {
    "duration": 18,
    "start_time": "2022-03-18T14:09:33.602Z"
   },
   {
    "duration": 144,
    "start_time": "2022-03-18T14:09:33.622Z"
   },
   {
    "duration": 21,
    "start_time": "2022-03-18T14:09:33.768Z"
   },
   {
    "duration": 17,
    "start_time": "2022-03-18T14:09:33.791Z"
   },
   {
    "duration": 27,
    "start_time": "2022-03-18T14:09:33.810Z"
   },
   {
    "duration": 72,
    "start_time": "2022-03-18T14:09:33.839Z"
   },
   {
    "duration": 63,
    "start_time": "2022-03-18T14:09:33.913Z"
   },
   {
    "duration": 64,
    "start_time": "2022-03-18T14:09:33.978Z"
   },
   {
    "duration": 40,
    "start_time": "2022-03-18T14:09:34.043Z"
   },
   {
    "duration": 12,
    "start_time": "2022-03-18T15:39:11.607Z"
   },
   {
    "duration": 41,
    "start_time": "2022-03-18T15:40:10.477Z"
   },
   {
    "duration": 12,
    "start_time": "2022-03-18T15:40:21.430Z"
   },
   {
    "duration": 4,
    "start_time": "2022-03-18T15:41:33.767Z"
   },
   {
    "duration": 4,
    "start_time": "2022-03-18T15:41:52.133Z"
   },
   {
    "duration": 5,
    "start_time": "2022-03-18T15:43:45.649Z"
   },
   {
    "duration": 4,
    "start_time": "2022-03-18T15:47:18.541Z"
   },
   {
    "duration": 64,
    "start_time": "2022-03-18T15:51:23.834Z"
   },
   {
    "duration": 8,
    "start_time": "2022-03-18T15:54:08.229Z"
   },
   {
    "duration": 101,
    "start_time": "2022-03-18T15:57:03.518Z"
   },
   {
    "duration": 2,
    "start_time": "2022-03-18T15:57:19.712Z"
   },
   {
    "duration": 17,
    "start_time": "2022-03-18T15:59:37.895Z"
   },
   {
    "duration": 14,
    "start_time": "2022-03-18T16:02:25.791Z"
   },
   {
    "duration": 19,
    "start_time": "2022-03-18T16:03:25.449Z"
   },
   {
    "duration": 6,
    "start_time": "2022-03-18T16:04:14.563Z"
   },
   {
    "duration": 18,
    "start_time": "2022-03-18T16:04:17.421Z"
   },
   {
    "duration": 23,
    "start_time": "2022-03-18T16:05:33.215Z"
   },
   {
    "duration": 24,
    "start_time": "2022-03-18T16:22:09.840Z"
   },
   {
    "duration": 26,
    "start_time": "2022-03-18T16:22:20.167Z"
   },
   {
    "duration": 3,
    "start_time": "2022-03-18T17:20:32.546Z"
   },
   {
    "duration": 72,
    "start_time": "2022-03-18T17:50:57.184Z"
   },
   {
    "duration": 55,
    "start_time": "2022-03-18T17:51:01.167Z"
   },
   {
    "duration": 458,
    "start_time": "2022-03-18T17:52:09.634Z"
   },
   {
    "duration": 52,
    "start_time": "2022-03-18T17:52:10.095Z"
   },
   {
    "duration": 13,
    "start_time": "2022-03-18T17:52:10.149Z"
   },
   {
    "duration": 185,
    "start_time": "2022-03-18T17:52:10.164Z"
   },
   {
    "duration": 29,
    "start_time": "2022-03-18T17:52:10.351Z"
   },
   {
    "duration": 108,
    "start_time": "2022-03-18T17:52:10.382Z"
   },
   {
    "duration": 25,
    "start_time": "2022-03-18T17:52:10.492Z"
   },
   {
    "duration": 179,
    "start_time": "2022-03-18T17:52:10.518Z"
   },
   {
    "duration": 23,
    "start_time": "2022-03-18T17:52:10.699Z"
   },
   {
    "duration": 18,
    "start_time": "2022-03-18T17:52:10.739Z"
   },
   {
    "duration": 12,
    "start_time": "2022-03-18T17:52:10.758Z"
   },
   {
    "duration": 94,
    "start_time": "2022-03-18T17:52:10.771Z"
   },
   {
    "duration": 53,
    "start_time": "2022-03-18T17:52:10.867Z"
   },
   {
    "duration": 76,
    "start_time": "2022-03-18T17:52:10.922Z"
   },
   {
    "duration": 68,
    "start_time": "2022-03-18T17:52:11.000Z"
   },
   {
    "duration": 15,
    "start_time": "2022-03-18T17:52:11.069Z"
   },
   {
    "duration": 1634,
    "start_time": "2022-03-18T17:52:11.085Z"
   },
   {
    "duration": 0,
    "start_time": "2022-03-18T17:52:12.721Z"
   },
   {
    "duration": 0,
    "start_time": "2022-03-18T17:52:12.723Z"
   },
   {
    "duration": 61,
    "start_time": "2022-03-18T17:52:49.158Z"
   },
   {
    "duration": 47,
    "start_time": "2022-03-18T17:52:49.999Z"
   },
   {
    "duration": 14,
    "start_time": "2022-03-18T17:52:57.294Z"
   },
   {
    "duration": 21,
    "start_time": "2022-03-18T17:52:58.319Z"
   },
   {
    "duration": 41,
    "start_time": "2022-03-18T18:05:31.977Z"
   },
   {
    "duration": 68,
    "start_time": "2022-03-18T18:06:01.953Z"
   },
   {
    "duration": 42,
    "start_time": "2022-03-18T18:06:02.931Z"
   },
   {
    "duration": 43,
    "start_time": "2022-03-18T18:07:07.321Z"
   },
   {
    "duration": 42,
    "start_time": "2022-03-18T18:08:18.890Z"
   },
   {
    "duration": 419,
    "start_time": "2022-03-18T18:08:29.637Z"
   },
   {
    "duration": 32,
    "start_time": "2022-03-18T18:08:30.058Z"
   },
   {
    "duration": 12,
    "start_time": "2022-03-18T18:08:30.092Z"
   },
   {
    "duration": 175,
    "start_time": "2022-03-18T18:08:30.106Z"
   },
   {
    "duration": 25,
    "start_time": "2022-03-18T18:08:30.285Z"
   },
   {
    "duration": 108,
    "start_time": "2022-03-18T18:08:30.313Z"
   },
   {
    "duration": 24,
    "start_time": "2022-03-18T18:08:30.423Z"
   },
   {
    "duration": 152,
    "start_time": "2022-03-18T18:08:30.449Z"
   },
   {
    "duration": 23,
    "start_time": "2022-03-18T18:08:30.602Z"
   },
   {
    "duration": 27,
    "start_time": "2022-03-18T18:08:30.626Z"
   },
   {
    "duration": 10,
    "start_time": "2022-03-18T18:08:30.655Z"
   },
   {
    "duration": 92,
    "start_time": "2022-03-18T18:08:30.666Z"
   },
   {
    "duration": 50,
    "start_time": "2022-03-18T18:08:30.760Z"
   },
   {
    "duration": 65,
    "start_time": "2022-03-18T18:08:30.813Z"
   },
   {
    "duration": 41,
    "start_time": "2022-03-18T18:08:30.879Z"
   },
   {
    "duration": 25,
    "start_time": "2022-03-18T18:08:30.922Z"
   },
   {
    "duration": 22,
    "start_time": "2022-03-18T18:08:30.949Z"
   },
   {
    "duration": 15,
    "start_time": "2022-03-18T18:08:30.972Z"
   },
   {
    "duration": 107,
    "start_time": "2022-03-18T18:08:30.989Z"
   },
   {
    "duration": 41,
    "start_time": "2022-03-18T18:14:12.507Z"
   },
   {
    "duration": 51,
    "start_time": "2022-03-19T00:53:05.700Z"
   },
   {
    "duration": 379,
    "start_time": "2022-03-19T00:53:14.586Z"
   },
   {
    "duration": 60,
    "start_time": "2022-03-19T00:53:14.967Z"
   },
   {
    "duration": 13,
    "start_time": "2022-03-19T00:53:15.029Z"
   },
   {
    "duration": 184,
    "start_time": "2022-03-19T00:53:15.045Z"
   },
   {
    "duration": 28,
    "start_time": "2022-03-19T00:53:15.231Z"
   },
   {
    "duration": 99,
    "start_time": "2022-03-19T00:53:15.260Z"
   },
   {
    "duration": 20,
    "start_time": "2022-03-19T00:53:15.361Z"
   },
   {
    "duration": 157,
    "start_time": "2022-03-19T00:53:15.382Z"
   },
   {
    "duration": 22,
    "start_time": "2022-03-19T00:53:15.541Z"
   },
   {
    "duration": 21,
    "start_time": "2022-03-19T00:53:15.565Z"
   },
   {
    "duration": 11,
    "start_time": "2022-03-19T00:53:15.588Z"
   },
   {
    "duration": 99,
    "start_time": "2022-03-19T00:53:15.600Z"
   },
   {
    "duration": 56,
    "start_time": "2022-03-19T00:53:15.701Z"
   },
   {
    "duration": 61,
    "start_time": "2022-03-19T00:53:15.759Z"
   },
   {
    "duration": 40,
    "start_time": "2022-03-19T00:53:15.826Z"
   },
   {
    "duration": 13,
    "start_time": "2022-03-19T00:53:15.868Z"
   },
   {
    "duration": 17,
    "start_time": "2022-03-19T00:53:15.883Z"
   },
   {
    "duration": 8,
    "start_time": "2022-03-19T00:53:15.902Z"
   },
   {
    "duration": 36,
    "start_time": "2022-03-19T00:53:15.932Z"
   },
   {
    "duration": 12,
    "start_time": "2022-03-19T00:53:39.233Z"
   },
   {
    "duration": 17,
    "start_time": "2022-03-19T00:53:52.606Z"
   },
   {
    "duration": 4,
    "start_time": "2022-03-19T00:56:01.505Z"
   },
   {
    "duration": 16,
    "start_time": "2022-03-19T00:56:08.038Z"
   },
   {
    "duration": 23,
    "start_time": "2022-03-19T01:00:23.623Z"
   },
   {
    "duration": 760,
    "start_time": "2022-03-19T01:02:20.234Z"
   },
   {
    "duration": 709,
    "start_time": "2022-03-19T01:03:23.137Z"
   },
   {
    "duration": 20,
    "start_time": "2022-03-19T01:03:30.497Z"
   },
   {
    "duration": 660,
    "start_time": "2022-03-19T01:04:19.598Z"
   },
   {
    "duration": 23,
    "start_time": "2022-03-19T01:04:32.513Z"
   },
   {
    "duration": 23,
    "start_time": "2022-03-19T01:05:38.313Z"
   },
   {
    "duration": 23,
    "start_time": "2022-03-19T01:06:11.936Z"
   },
   {
    "duration": 73,
    "start_time": "2022-03-19T14:32:59.592Z"
   },
   {
    "duration": 11,
    "start_time": "2022-03-19T14:33:04.898Z"
   },
   {
    "duration": 494,
    "start_time": "2022-03-19T14:33:11.305Z"
   },
   {
    "duration": 48,
    "start_time": "2022-03-19T14:33:11.802Z"
   },
   {
    "duration": 16,
    "start_time": "2022-03-19T14:33:11.852Z"
   },
   {
    "duration": 216,
    "start_time": "2022-03-19T14:33:11.878Z"
   },
   {
    "duration": 35,
    "start_time": "2022-03-19T14:33:12.096Z"
   },
   {
    "duration": 136,
    "start_time": "2022-03-19T14:33:12.133Z"
   },
   {
    "duration": 32,
    "start_time": "2022-03-19T14:33:12.274Z"
   },
   {
    "duration": 197,
    "start_time": "2022-03-19T14:33:12.309Z"
   },
   {
    "duration": 30,
    "start_time": "2022-03-19T14:33:12.509Z"
   },
   {
    "duration": 48,
    "start_time": "2022-03-19T14:33:12.543Z"
   },
   {
    "duration": 18,
    "start_time": "2022-03-19T14:33:12.594Z"
   },
   {
    "duration": 132,
    "start_time": "2022-03-19T14:33:12.614Z"
   },
   {
    "duration": 82,
    "start_time": "2022-03-19T14:33:12.748Z"
   },
   {
    "duration": 83,
    "start_time": "2022-03-19T14:33:12.833Z"
   },
   {
    "duration": 71,
    "start_time": "2022-03-19T14:33:12.918Z"
   },
   {
    "duration": 20,
    "start_time": "2022-03-19T14:33:12.992Z"
   },
   {
    "duration": 27,
    "start_time": "2022-03-19T14:33:13.014Z"
   },
   {
    "duration": 24,
    "start_time": "2022-03-19T14:33:13.074Z"
   },
   {
    "duration": 38,
    "start_time": "2022-03-19T14:33:13.102Z"
   },
   {
    "duration": 61,
    "start_time": "2022-03-19T14:33:13.143Z"
   },
   {
    "duration": 40,
    "start_time": "2022-03-19T14:33:21.539Z"
   },
   {
    "duration": 42,
    "start_time": "2022-03-19T14:34:24.444Z"
   },
   {
    "duration": 108,
    "start_time": "2022-03-19T14:37:00.896Z"
   },
   {
    "duration": 2074,
    "start_time": "2022-03-19T14:37:07.669Z"
   },
   {
    "duration": 0,
    "start_time": "2022-03-19T14:37:12.402Z"
   },
   {
    "duration": 586,
    "start_time": "2022-03-19T14:37:39.329Z"
   },
   {
    "duration": 51,
    "start_time": "2022-03-19T14:37:39.918Z"
   },
   {
    "duration": 19,
    "start_time": "2022-03-19T14:37:39.971Z"
   },
   {
    "duration": 239,
    "start_time": "2022-03-19T14:37:40.001Z"
   },
   {
    "duration": 62,
    "start_time": "2022-03-19T14:37:40.244Z"
   },
   {
    "duration": 138,
    "start_time": "2022-03-19T14:37:40.308Z"
   },
   {
    "duration": 36,
    "start_time": "2022-03-19T14:37:40.448Z"
   },
   {
    "duration": 210,
    "start_time": "2022-03-19T14:37:40.489Z"
   },
   {
    "duration": 31,
    "start_time": "2022-03-19T14:37:40.702Z"
   },
   {
    "duration": 43,
    "start_time": "2022-03-19T14:37:40.737Z"
   },
   {
    "duration": 17,
    "start_time": "2022-03-19T14:37:40.783Z"
   },
   {
    "duration": 138,
    "start_time": "2022-03-19T14:37:40.803Z"
   },
   {
    "duration": 89,
    "start_time": "2022-03-19T14:37:40.944Z"
   },
   {
    "duration": 98,
    "start_time": "2022-03-19T14:37:41.036Z"
   },
   {
    "duration": 77,
    "start_time": "2022-03-19T14:37:41.137Z"
   },
   {
    "duration": 20,
    "start_time": "2022-03-19T14:37:41.216Z"
   },
   {
    "duration": 56,
    "start_time": "2022-03-19T14:37:41.238Z"
   },
   {
    "duration": 43,
    "start_time": "2022-03-19T14:37:41.297Z"
   },
   {
    "duration": 52,
    "start_time": "2022-03-19T14:37:41.343Z"
   },
   {
    "duration": 43,
    "start_time": "2022-03-19T14:37:41.397Z"
   },
   {
    "duration": 2409,
    "start_time": "2022-03-19T14:37:41.443Z"
   },
   {
    "duration": 16,
    "start_time": "2022-03-19T14:37:56.595Z"
   },
   {
    "duration": 16,
    "start_time": "2022-03-19T14:38:14.860Z"
   },
   {
    "duration": 49,
    "start_time": "2022-03-19T14:38:45.362Z"
   },
   {
    "duration": 39,
    "start_time": "2022-03-19T14:38:51.215Z"
   },
   {
    "duration": 20,
    "start_time": "2022-03-19T14:39:38.520Z"
   },
   {
    "duration": 17,
    "start_time": "2022-03-19T14:40:51.792Z"
   },
   {
    "duration": 22,
    "start_time": "2022-03-19T14:54:00.484Z"
   },
   {
    "duration": 19,
    "start_time": "2022-03-19T14:54:23.744Z"
   },
   {
    "duration": 53,
    "start_time": "2022-03-19T14:54:36.573Z"
   },
   {
    "duration": 57,
    "start_time": "2022-03-19T14:55:05.146Z"
   },
   {
    "duration": 33,
    "start_time": "2022-03-19T14:55:12.892Z"
   },
   {
    "duration": 40,
    "start_time": "2022-03-19T14:55:14.701Z"
   },
   {
    "duration": 20,
    "start_time": "2022-03-19T14:55:16.472Z"
   },
   {
    "duration": 15,
    "start_time": "2022-03-19T14:55:17.842Z"
   },
   {
    "duration": 40,
    "start_time": "2022-03-19T14:55:19.731Z"
   },
   {
    "duration": 39,
    "start_time": "2022-03-19T15:01:50.534Z"
   },
   {
    "duration": 40,
    "start_time": "2022-03-19T15:06:07.012Z"
   },
   {
    "duration": 14,
    "start_time": "2022-03-19T15:06:09.833Z"
   },
   {
    "duration": 15,
    "start_time": "2022-03-19T15:06:12.755Z"
   },
   {
    "duration": 2181,
    "start_time": "2022-03-19T15:06:14.513Z"
   },
   {
    "duration": 36,
    "start_time": "2022-03-19T15:06:38.250Z"
   },
   {
    "duration": 30,
    "start_time": "2022-03-19T15:07:29.324Z"
   },
   {
    "duration": 48,
    "start_time": "2022-03-19T15:09:15.850Z"
   },
   {
    "duration": 45,
    "start_time": "2022-03-19T15:10:54.387Z"
   },
   {
    "duration": 15,
    "start_time": "2022-03-19T15:11:55.230Z"
   },
   {
    "duration": 58,
    "start_time": "2022-03-19T15:12:21.122Z"
   },
   {
    "duration": 41,
    "start_time": "2022-03-19T15:12:24.372Z"
   },
   {
    "duration": 47,
    "start_time": "2022-03-19T15:12:26.637Z"
   },
   {
    "duration": 15,
    "start_time": "2022-03-19T15:12:53.082Z"
   },
   {
    "duration": 38,
    "start_time": "2022-03-19T15:13:01.154Z"
   },
   {
    "duration": 48,
    "start_time": "2022-03-19T15:13:15.601Z"
   },
   {
    "duration": 7,
    "start_time": "2022-03-19T15:36:43.628Z"
   },
   {
    "duration": 1903,
    "start_time": "2022-03-19T15:37:46.746Z"
   },
   {
    "duration": 34,
    "start_time": "2022-03-19T15:40:09.715Z"
   },
   {
    "duration": 19,
    "start_time": "2022-03-19T15:40:24.882Z"
   },
   {
    "duration": 43,
    "start_time": "2022-03-19T15:40:34.731Z"
   },
   {
    "duration": 53,
    "start_time": "2022-03-19T15:40:37.971Z"
   },
   {
    "duration": 8,
    "start_time": "2022-03-19T15:40:44.524Z"
   },
   {
    "duration": 2054,
    "start_time": "2022-03-19T15:40:47.188Z"
   },
   {
    "duration": 6,
    "start_time": "2022-03-19T15:41:07.322Z"
   },
   {
    "duration": 1757,
    "start_time": "2022-03-19T15:41:09.429Z"
   },
   {
    "duration": 505,
    "start_time": "2022-03-19T15:41:29.735Z"
   },
   {
    "duration": 45,
    "start_time": "2022-03-19T15:41:30.243Z"
   },
   {
    "duration": 18,
    "start_time": "2022-03-19T15:41:30.290Z"
   },
   {
    "duration": 245,
    "start_time": "2022-03-19T15:41:30.311Z"
   },
   {
    "duration": 54,
    "start_time": "2022-03-19T15:41:30.561Z"
   },
   {
    "duration": 128,
    "start_time": "2022-03-19T15:41:30.618Z"
   },
   {
    "duration": 48,
    "start_time": "2022-03-19T15:41:30.748Z"
   },
   {
    "duration": 207,
    "start_time": "2022-03-19T15:41:30.798Z"
   },
   {
    "duration": 30,
    "start_time": "2022-03-19T15:41:31.007Z"
   },
   {
    "duration": 27,
    "start_time": "2022-03-19T15:41:31.039Z"
   },
   {
    "duration": 18,
    "start_time": "2022-03-19T15:41:31.083Z"
   },
   {
    "duration": 125,
    "start_time": "2022-03-19T15:41:31.104Z"
   },
   {
    "duration": 89,
    "start_time": "2022-03-19T15:41:31.231Z"
   },
   {
    "duration": 94,
    "start_time": "2022-03-19T15:41:31.324Z"
   },
   {
    "duration": 75,
    "start_time": "2022-03-19T15:41:31.421Z"
   },
   {
    "duration": 20,
    "start_time": "2022-03-19T15:41:31.498Z"
   },
   {
    "duration": 27,
    "start_time": "2022-03-19T15:41:31.520Z"
   },
   {
    "duration": 45,
    "start_time": "2022-03-19T15:41:31.573Z"
   },
   {
    "duration": 59,
    "start_time": "2022-03-19T15:41:31.621Z"
   },
   {
    "duration": 16,
    "start_time": "2022-03-19T15:41:31.683Z"
   },
   {
    "duration": 15,
    "start_time": "2022-03-19T15:41:31.701Z"
   },
   {
    "duration": 78,
    "start_time": "2022-03-19T15:41:31.717Z"
   },
   {
    "duration": 49,
    "start_time": "2022-03-19T15:41:31.797Z"
   },
   {
    "duration": 6,
    "start_time": "2022-03-19T15:41:31.848Z"
   },
   {
    "duration": 1796,
    "start_time": "2022-03-19T15:41:31.857Z"
   },
   {
    "duration": 171,
    "start_time": "2022-03-19T15:46:41.781Z"
   },
   {
    "duration": 194,
    "start_time": "2022-03-19T15:46:51.866Z"
   },
   {
    "duration": 35,
    "start_time": "2022-03-19T15:52:58.649Z"
   },
   {
    "duration": 31,
    "start_time": "2022-03-19T15:55:04.841Z"
   },
   {
    "duration": 32,
    "start_time": "2022-03-19T15:59:17.175Z"
   },
   {
    "duration": 32,
    "start_time": "2022-03-19T15:59:28.608Z"
   },
   {
    "duration": 41,
    "start_time": "2022-03-19T15:59:33.552Z"
   },
   {
    "duration": 14,
    "start_time": "2022-03-19T15:59:36.759Z"
   },
   {
    "duration": 15,
    "start_time": "2022-03-19T15:59:52.222Z"
   },
   {
    "duration": 73,
    "start_time": "2022-03-19T16:00:07.724Z"
   },
   {
    "duration": 47,
    "start_time": "2022-03-19T16:00:16.903Z"
   },
   {
    "duration": 7,
    "start_time": "2022-03-19T16:00:39.741Z"
   },
   {
    "duration": 208,
    "start_time": "2022-03-19T16:00:42.679Z"
   },
   {
    "duration": 2435,
    "start_time": "2022-03-19T16:06:37.415Z"
   },
   {
    "duration": 499,
    "start_time": "2022-03-19T16:06:59.988Z"
   },
   {
    "duration": 42,
    "start_time": "2022-03-19T16:07:00.490Z"
   },
   {
    "duration": 17,
    "start_time": "2022-03-19T16:07:00.535Z"
   },
   {
    "duration": 255,
    "start_time": "2022-03-19T16:07:00.555Z"
   },
   {
    "duration": 34,
    "start_time": "2022-03-19T16:07:00.814Z"
   },
   {
    "duration": 150,
    "start_time": "2022-03-19T16:07:00.851Z"
   },
   {
    "duration": 42,
    "start_time": "2022-03-19T16:07:01.003Z"
   },
   {
    "duration": 316,
    "start_time": "2022-03-19T16:07:01.048Z"
   },
   {
    "duration": 35,
    "start_time": "2022-03-19T16:07:01.366Z"
   },
   {
    "duration": 48,
    "start_time": "2022-03-19T16:07:01.403Z"
   },
   {
    "duration": 20,
    "start_time": "2022-03-19T16:07:01.454Z"
   },
   {
    "duration": 136,
    "start_time": "2022-03-19T16:07:01.477Z"
   },
   {
    "duration": 83,
    "start_time": "2022-03-19T16:07:01.615Z"
   },
   {
    "duration": 96,
    "start_time": "2022-03-19T16:07:01.703Z"
   },
   {
    "duration": 74,
    "start_time": "2022-03-19T16:07:01.801Z"
   },
   {
    "duration": 60,
    "start_time": "2022-03-19T16:07:01.877Z"
   },
   {
    "duration": 39,
    "start_time": "2022-03-19T16:07:01.939Z"
   },
   {
    "duration": 34,
    "start_time": "2022-03-19T16:07:01.980Z"
   },
   {
    "duration": 60,
    "start_time": "2022-03-19T16:07:02.016Z"
   },
   {
    "duration": 14,
    "start_time": "2022-03-19T16:07:02.078Z"
   },
   {
    "duration": 14,
    "start_time": "2022-03-19T16:07:02.095Z"
   },
   {
    "duration": 73,
    "start_time": "2022-03-19T16:07:02.111Z"
   },
   {
    "duration": 52,
    "start_time": "2022-03-19T16:07:02.186Z"
   },
   {
    "duration": 8,
    "start_time": "2022-03-19T16:07:02.241Z"
   },
   {
    "duration": 236,
    "start_time": "2022-03-19T16:07:02.251Z"
   },
   {
    "duration": 2215,
    "start_time": "2022-03-19T16:08:02.511Z"
   },
   {
    "duration": 481,
    "start_time": "2022-03-19T16:08:12.819Z"
   },
   {
    "duration": 42,
    "start_time": "2022-03-19T16:08:13.303Z"
   },
   {
    "duration": 26,
    "start_time": "2022-03-19T16:08:13.347Z"
   },
   {
    "duration": 218,
    "start_time": "2022-03-19T16:08:13.376Z"
   },
   {
    "duration": 34,
    "start_time": "2022-03-19T16:08:13.597Z"
   },
   {
    "duration": 141,
    "start_time": "2022-03-19T16:08:13.634Z"
   },
   {
    "duration": 25,
    "start_time": "2022-03-19T16:08:13.777Z"
   },
   {
    "duration": 209,
    "start_time": "2022-03-19T16:08:13.804Z"
   },
   {
    "duration": 31,
    "start_time": "2022-03-19T16:08:14.015Z"
   },
   {
    "duration": 37,
    "start_time": "2022-03-19T16:08:14.048Z"
   },
   {
    "duration": 16,
    "start_time": "2022-03-19T16:08:14.088Z"
   },
   {
    "duration": 137,
    "start_time": "2022-03-19T16:08:14.106Z"
   },
   {
    "duration": 84,
    "start_time": "2022-03-19T16:08:14.245Z"
   },
   {
    "duration": 113,
    "start_time": "2022-03-19T16:08:14.334Z"
   },
   {
    "duration": 83,
    "start_time": "2022-03-19T16:08:14.450Z"
   },
   {
    "duration": 19,
    "start_time": "2022-03-19T16:08:14.535Z"
   },
   {
    "duration": 48,
    "start_time": "2022-03-19T16:08:14.557Z"
   },
   {
    "duration": 67,
    "start_time": "2022-03-19T16:08:14.608Z"
   },
   {
    "duration": 44,
    "start_time": "2022-03-19T16:08:14.677Z"
   },
   {
    "duration": 15,
    "start_time": "2022-03-19T16:08:14.724Z"
   },
   {
    "duration": 44,
    "start_time": "2022-03-19T16:08:14.741Z"
   },
   {
    "duration": 47,
    "start_time": "2022-03-19T16:08:14.787Z"
   },
   {
    "duration": 73,
    "start_time": "2022-03-19T16:08:14.836Z"
   },
   {
    "duration": 6,
    "start_time": "2022-03-19T16:08:14.912Z"
   },
   {
    "duration": 216,
    "start_time": "2022-03-19T16:08:14.920Z"
   },
   {
    "duration": 215,
    "start_time": "2022-03-19T16:10:59.580Z"
   },
   {
    "duration": 568,
    "start_time": "2022-03-19T16:25:07.439Z"
   },
   {
    "duration": 91,
    "start_time": "2022-03-19T17:35:49.116Z"
   },
   {
    "duration": 611,
    "start_time": "2022-03-19T17:38:39.986Z"
   },
   {
    "duration": 20,
    "start_time": "2022-03-19T18:04:27.626Z"
   },
   {
    "duration": 28,
    "start_time": "2022-03-19T18:04:37.368Z"
   },
   {
    "duration": 379,
    "start_time": "2022-03-19T18:30:24.301Z"
   },
   {
    "duration": 26,
    "start_time": "2022-03-19T18:30:45.052Z"
   },
   {
    "duration": 204,
    "start_time": "2022-03-19T18:30:52.962Z"
   },
   {
    "duration": 179,
    "start_time": "2022-03-19T19:52:30.736Z"
   },
   {
    "duration": 2331,
    "start_time": "2022-03-19T19:53:23.863Z"
   },
   {
    "duration": 5,
    "start_time": "2022-03-19T19:55:03.885Z"
   },
   {
    "duration": 1463,
    "start_time": "2022-03-19T19:55:17.087Z"
   },
   {
    "duration": 1430,
    "start_time": "2022-03-19T19:55:31.645Z"
   },
   {
    "duration": 1414,
    "start_time": "2022-03-19T19:56:00.240Z"
   },
   {
    "duration": 1253,
    "start_time": "2022-03-19T19:56:34.882Z"
   },
   {
    "duration": 1410,
    "start_time": "2022-03-19T19:57:23.118Z"
   },
   {
    "duration": 1379,
    "start_time": "2022-03-19T19:58:17.745Z"
   },
   {
    "duration": 77,
    "start_time": "2022-03-20T14:18:52.870Z"
   },
   {
    "duration": 1816,
    "start_time": "2022-03-20T14:19:07.336Z"
   },
   {
    "duration": 42,
    "start_time": "2022-03-20T14:19:09.155Z"
   },
   {
    "duration": 17,
    "start_time": "2022-03-20T14:19:09.199Z"
   },
   {
    "duration": 212,
    "start_time": "2022-03-20T14:19:09.220Z"
   },
   {
    "duration": 44,
    "start_time": "2022-03-20T14:19:09.435Z"
   },
   {
    "duration": 129,
    "start_time": "2022-03-20T14:19:09.481Z"
   },
   {
    "duration": 25,
    "start_time": "2022-03-20T14:19:09.612Z"
   },
   {
    "duration": 194,
    "start_time": "2022-03-20T14:19:09.640Z"
   },
   {
    "duration": 38,
    "start_time": "2022-03-20T14:19:09.836Z"
   },
   {
    "duration": 26,
    "start_time": "2022-03-20T14:19:09.876Z"
   },
   {
    "duration": 24,
    "start_time": "2022-03-20T14:19:09.905Z"
   },
   {
    "duration": 192,
    "start_time": "2022-03-20T14:19:09.932Z"
   },
   {
    "duration": 100,
    "start_time": "2022-03-20T14:19:10.128Z"
   },
   {
    "duration": 83,
    "start_time": "2022-03-20T14:19:10.235Z"
   },
   {
    "duration": 68,
    "start_time": "2022-03-20T14:19:10.320Z"
   },
   {
    "duration": 19,
    "start_time": "2022-03-20T14:19:10.391Z"
   },
   {
    "duration": 58,
    "start_time": "2022-03-20T14:19:10.412Z"
   },
   {
    "duration": 31,
    "start_time": "2022-03-20T14:19:10.472Z"
   },
   {
    "duration": 38,
    "start_time": "2022-03-20T14:19:10.505Z"
   },
   {
    "duration": 13,
    "start_time": "2022-03-20T14:19:10.567Z"
   },
   {
    "duration": 15,
    "start_time": "2022-03-20T14:19:10.582Z"
   },
   {
    "duration": 85,
    "start_time": "2022-03-20T14:19:10.600Z"
   },
   {
    "duration": 45,
    "start_time": "2022-03-20T14:19:10.687Z"
   },
   {
    "duration": 6,
    "start_time": "2022-03-20T14:19:10.734Z"
   },
   {
    "duration": 217,
    "start_time": "2022-03-20T14:19:10.743Z"
   },
   {
    "duration": 78,
    "start_time": "2022-03-20T14:19:10.962Z"
   },
   {
    "duration": 1526,
    "start_time": "2022-03-20T14:19:11.042Z"
   },
   {
    "duration": 1583,
    "start_time": "2022-03-20T14:19:32.218Z"
   },
   {
    "duration": 136,
    "start_time": "2022-03-20T14:46:11.618Z"
   },
   {
    "duration": 4,
    "start_time": "2022-03-20T14:51:40.603Z"
   },
   {
    "duration": 47,
    "start_time": "2022-03-20T14:51:48.253Z"
   },
   {
    "duration": 12,
    "start_time": "2022-03-20T14:52:13.649Z"
   },
   {
    "duration": 15,
    "start_time": "2022-03-20T14:52:26.053Z"
   },
   {
    "duration": 99,
    "start_time": "2022-03-20T15:03:41.793Z"
   },
   {
    "duration": 15,
    "start_time": "2022-03-20T15:04:50.695Z"
   },
   {
    "duration": 28,
    "start_time": "2022-03-20T15:13:59.806Z"
   },
   {
    "duration": 23,
    "start_time": "2022-03-20T15:18:29.741Z"
   },
   {
    "duration": 17,
    "start_time": "2022-03-20T15:27:54.751Z"
   },
   {
    "duration": 16,
    "start_time": "2022-03-20T15:29:36.323Z"
   },
   {
    "duration": 17,
    "start_time": "2022-03-20T15:29:40.465Z"
   },
   {
    "duration": 16,
    "start_time": "2022-03-20T15:29:45.906Z"
   },
   {
    "duration": 1474,
    "start_time": "2022-03-20T15:56:08.755Z"
   },
   {
    "duration": 1564,
    "start_time": "2022-03-20T15:56:15.738Z"
   },
   {
    "duration": 44,
    "start_time": "2022-03-20T16:57:24.647Z"
   },
   {
    "duration": 29,
    "start_time": "2022-03-20T16:57:37.605Z"
   },
   {
    "duration": 1172,
    "start_time": "2022-03-31T11:42:19.078Z"
   },
   {
    "duration": 38,
    "start_time": "2022-03-31T11:42:20.253Z"
   },
   {
    "duration": 10,
    "start_time": "2022-03-31T11:42:20.293Z"
   },
   {
    "duration": 146,
    "start_time": "2022-03-31T11:42:20.305Z"
   },
   {
    "duration": 31,
    "start_time": "2022-03-31T11:42:20.453Z"
   },
   {
    "duration": 88,
    "start_time": "2022-03-31T11:42:20.486Z"
   },
   {
    "duration": 19,
    "start_time": "2022-03-31T11:42:20.576Z"
   },
   {
    "duration": 128,
    "start_time": "2022-03-31T11:42:20.597Z"
   },
   {
    "duration": 22,
    "start_time": "2022-03-31T11:42:20.727Z"
   },
   {
    "duration": 28,
    "start_time": "2022-03-31T11:42:20.753Z"
   },
   {
    "duration": 10,
    "start_time": "2022-03-31T11:42:20.782Z"
   },
   {
    "duration": 71,
    "start_time": "2022-03-31T11:42:20.794Z"
   },
   {
    "duration": 55,
    "start_time": "2022-03-31T11:42:20.867Z"
   },
   {
    "duration": 60,
    "start_time": "2022-03-31T11:42:20.924Z"
   },
   {
    "duration": 38,
    "start_time": "2022-03-31T11:42:20.986Z"
   },
   {
    "duration": 12,
    "start_time": "2022-03-31T11:42:21.026Z"
   },
   {
    "duration": 47,
    "start_time": "2022-03-31T11:42:21.041Z"
   },
   {
    "duration": 20,
    "start_time": "2022-03-31T11:42:21.090Z"
   },
   {
    "duration": 28,
    "start_time": "2022-03-31T11:42:21.112Z"
   },
   {
    "duration": 9,
    "start_time": "2022-03-31T11:42:21.142Z"
   },
   {
    "duration": 10,
    "start_time": "2022-03-31T11:42:21.180Z"
   },
   {
    "duration": 25,
    "start_time": "2022-03-31T11:42:21.192Z"
   },
   {
    "duration": 28,
    "start_time": "2022-03-31T11:42:21.219Z"
   },
   {
    "duration": 5,
    "start_time": "2022-03-31T11:42:21.248Z"
   },
   {
    "duration": 128,
    "start_time": "2022-03-31T11:42:21.254Z"
   },
   {
    "duration": 47,
    "start_time": "2022-03-31T11:42:21.383Z"
   },
   {
    "duration": 912,
    "start_time": "2022-03-31T11:42:21.432Z"
   },
   {
    "duration": 10,
    "start_time": "2022-03-31T11:42:22.347Z"
   },
   {
    "duration": 27,
    "start_time": "2022-03-31T11:42:22.358Z"
   },
   {
    "duration": 193,
    "start_time": "2022-03-31T11:44:29.621Z"
   },
   {
    "duration": 9,
    "start_time": "2022-03-31T12:00:23.751Z"
   },
   {
    "duration": 4,
    "start_time": "2022-03-31T12:02:45.536Z"
   },
   {
    "duration": 113,
    "start_time": "2022-03-31T12:02:47.685Z"
   },
   {
    "duration": 9,
    "start_time": "2022-03-31T12:02:51.268Z"
   },
   {
    "duration": 4,
    "start_time": "2022-03-31T12:03:08.034Z"
   },
   {
    "duration": 98,
    "start_time": "2022-03-31T12:03:09.815Z"
   },
   {
    "duration": 9,
    "start_time": "2022-03-31T12:03:13.537Z"
   },
   {
    "duration": 70,
    "start_time": "2022-03-31T16:48:58.724Z"
   },
   {
    "duration": 1748,
    "start_time": "2022-03-31T16:49:11.653Z"
   },
   {
    "duration": 42,
    "start_time": "2022-03-31T16:49:13.404Z"
   },
   {
    "duration": 17,
    "start_time": "2022-03-31T16:49:13.448Z"
   },
   {
    "duration": 201,
    "start_time": "2022-03-31T16:49:13.473Z"
   },
   {
    "duration": 33,
    "start_time": "2022-03-31T16:49:13.676Z"
   },
   {
    "duration": 126,
    "start_time": "2022-03-31T16:49:13.712Z"
   },
   {
    "duration": 34,
    "start_time": "2022-03-31T16:49:13.840Z"
   },
   {
    "duration": 197,
    "start_time": "2022-03-31T16:49:13.877Z"
   },
   {
    "duration": 28,
    "start_time": "2022-03-31T16:49:14.077Z"
   },
   {
    "duration": 20,
    "start_time": "2022-03-31T16:49:14.109Z"
   },
   {
    "duration": 15,
    "start_time": "2022-03-31T16:49:14.131Z"
   },
   {
    "duration": 121,
    "start_time": "2022-03-31T16:49:14.174Z"
   },
   {
    "duration": 82,
    "start_time": "2022-03-31T16:49:14.297Z"
   },
   {
    "duration": 5,
    "start_time": "2022-03-31T16:49:14.381Z"
   },
   {
    "duration": 85,
    "start_time": "2022-03-31T16:49:14.388Z"
   },
   {
    "duration": 77,
    "start_time": "2022-03-31T16:49:14.476Z"
   },
   {
    "duration": 34,
    "start_time": "2022-03-31T16:49:14.555Z"
   },
   {
    "duration": 2254,
    "start_time": "2022-03-31T16:49:14.591Z"
   },
   {
    "duration": 0,
    "start_time": "2022-03-31T16:49:16.847Z"
   },
   {
    "duration": 0,
    "start_time": "2022-03-31T16:49:16.849Z"
   },
   {
    "duration": 0,
    "start_time": "2022-03-31T16:49:16.851Z"
   },
   {
    "duration": 0,
    "start_time": "2022-03-31T16:49:16.852Z"
   },
   {
    "duration": 0,
    "start_time": "2022-03-31T16:49:16.854Z"
   },
   {
    "duration": 0,
    "start_time": "2022-03-31T16:49:16.855Z"
   },
   {
    "duration": 0,
    "start_time": "2022-03-31T16:49:16.856Z"
   },
   {
    "duration": 0,
    "start_time": "2022-03-31T16:49:16.858Z"
   },
   {
    "duration": 0,
    "start_time": "2022-03-31T16:49:16.859Z"
   },
   {
    "duration": 0,
    "start_time": "2022-03-31T16:49:16.860Z"
   },
   {
    "duration": 0,
    "start_time": "2022-03-31T16:49:16.862Z"
   },
   {
    "duration": 0,
    "start_time": "2022-03-31T16:49:16.863Z"
   },
   {
    "duration": 20,
    "start_time": "2022-03-31T16:50:02.466Z"
   },
   {
    "duration": 6,
    "start_time": "2022-03-31T16:52:39.148Z"
   },
   {
    "duration": 106,
    "start_time": "2022-03-31T16:52:43.795Z"
   },
   {
    "duration": 104,
    "start_time": "2022-03-31T16:52:58.792Z"
   },
   {
    "duration": 88,
    "start_time": "2022-03-31T16:55:07.717Z"
   },
   {
    "duration": 87,
    "start_time": "2022-03-31T16:55:48.238Z"
   },
   {
    "duration": 87,
    "start_time": "2022-03-31T16:56:00.726Z"
   },
   {
    "duration": 73,
    "start_time": "2022-03-31T16:56:05.866Z"
   },
   {
    "duration": 123,
    "start_time": "2022-03-31T16:57:06.567Z"
   },
   {
    "duration": 70,
    "start_time": "2022-03-31T16:57:25.891Z"
   },
   {
    "duration": 30,
    "start_time": "2022-03-31T16:57:37.062Z"
   },
   {
    "duration": 2134,
    "start_time": "2022-03-31T16:57:53.674Z"
   },
   {
    "duration": 1963,
    "start_time": "2022-03-31T16:59:53.136Z"
   },
   {
    "duration": 76,
    "start_time": "2022-03-31T17:00:11.810Z"
   },
   {
    "duration": 67,
    "start_time": "2022-03-31T17:00:15.993Z"
   },
   {
    "duration": 18,
    "start_time": "2022-03-31T17:00:20.896Z"
   },
   {
    "duration": 40,
    "start_time": "2022-03-31T17:00:26.298Z"
   },
   {
    "duration": 2230,
    "start_time": "2022-03-31T17:00:52.469Z"
   },
   {
    "duration": 1583,
    "start_time": "2022-03-31T17:01:38.178Z"
   },
   {
    "duration": 36,
    "start_time": "2022-03-31T17:01:39.764Z"
   },
   {
    "duration": 16,
    "start_time": "2022-03-31T17:01:39.802Z"
   },
   {
    "duration": 216,
    "start_time": "2022-03-31T17:01:39.821Z"
   },
   {
    "duration": 41,
    "start_time": "2022-03-31T17:01:40.039Z"
   },
   {
    "duration": 131,
    "start_time": "2022-03-31T17:01:40.082Z"
   },
   {
    "duration": 25,
    "start_time": "2022-03-31T17:01:40.215Z"
   },
   {
    "duration": 190,
    "start_time": "2022-03-31T17:01:40.242Z"
   },
   {
    "duration": 44,
    "start_time": "2022-03-31T17:01:40.434Z"
   },
   {
    "duration": 25,
    "start_time": "2022-03-31T17:01:40.483Z"
   },
   {
    "duration": 18,
    "start_time": "2022-03-31T17:01:40.510Z"
   },
   {
    "duration": 180,
    "start_time": "2022-03-31T17:01:40.530Z"
   },
   {
    "duration": 106,
    "start_time": "2022-03-31T17:01:40.713Z"
   },
   {
    "duration": 6,
    "start_time": "2022-03-31T17:01:40.822Z"
   },
   {
    "duration": 92,
    "start_time": "2022-03-31T17:01:40.830Z"
   },
   {
    "duration": 77,
    "start_time": "2022-03-31T17:01:40.927Z"
   },
   {
    "duration": 21,
    "start_time": "2022-03-31T17:01:41.006Z"
   },
   {
    "duration": 70,
    "start_time": "2022-03-31T17:01:41.030Z"
   },
   {
    "duration": 159,
    "start_time": "2022-03-31T17:01:41.102Z"
   },
   {
    "duration": 0,
    "start_time": "2022-03-31T17:01:41.273Z"
   },
   {
    "duration": 0,
    "start_time": "2022-03-31T17:01:41.274Z"
   },
   {
    "duration": 0,
    "start_time": "2022-03-31T17:01:41.277Z"
   },
   {
    "duration": 0,
    "start_time": "2022-03-31T17:01:41.279Z"
   },
   {
    "duration": 0,
    "start_time": "2022-03-31T17:01:41.281Z"
   },
   {
    "duration": 0,
    "start_time": "2022-03-31T17:01:41.283Z"
   },
   {
    "duration": 0,
    "start_time": "2022-03-31T17:01:41.286Z"
   },
   {
    "duration": 0,
    "start_time": "2022-03-31T17:01:41.287Z"
   },
   {
    "duration": 0,
    "start_time": "2022-03-31T17:01:41.290Z"
   },
   {
    "duration": 0,
    "start_time": "2022-03-31T17:01:41.292Z"
   },
   {
    "duration": 0,
    "start_time": "2022-03-31T17:01:41.294Z"
   },
   {
    "duration": 32,
    "start_time": "2022-03-31T17:03:42.049Z"
   },
   {
    "duration": 39,
    "start_time": "2022-03-31T17:04:21.161Z"
   },
   {
    "duration": 14,
    "start_time": "2022-03-31T17:04:30.808Z"
   },
   {
    "duration": 15,
    "start_time": "2022-03-31T17:07:30.114Z"
   },
   {
    "duration": 40,
    "start_time": "2022-03-31T17:07:36.010Z"
   },
   {
    "duration": 5,
    "start_time": "2022-03-31T17:10:24.928Z"
   },
   {
    "duration": 19,
    "start_time": "2022-03-31T17:10:30.528Z"
   },
   {
    "duration": 171,
    "start_time": "2022-03-31T17:12:30.219Z"
   },
   {
    "duration": 6,
    "start_time": "2022-03-31T17:12:35.083Z"
   },
   {
    "duration": 2270,
    "start_time": "2022-03-31T17:12:37.582Z"
   },
   {
    "duration": 5,
    "start_time": "2022-03-31T17:13:41.133Z"
   },
   {
    "duration": 183,
    "start_time": "2022-03-31T17:13:44.126Z"
   },
   {
    "duration": 9,
    "start_time": "2022-03-31T17:17:41.789Z"
   },
   {
    "duration": 12,
    "start_time": "2022-03-31T17:17:47.659Z"
   },
   {
    "duration": 13,
    "start_time": "2022-03-31T17:17:57.306Z"
   },
   {
    "duration": 16,
    "start_time": "2022-03-31T17:25:08.891Z"
   },
   {
    "duration": 24,
    "start_time": "2022-03-31T17:25:21.337Z"
   },
   {
    "duration": 84,
    "start_time": "2022-03-31T17:25:34.043Z"
   },
   {
    "duration": 22,
    "start_time": "2022-03-31T17:27:34.026Z"
   },
   {
    "duration": 1574,
    "start_time": "2022-03-31T17:27:59.648Z"
   },
   {
    "duration": 14,
    "start_time": "2022-03-31T17:30:56.759Z"
   },
   {
    "duration": 17,
    "start_time": "2022-03-31T17:31:10.702Z"
   },
   {
    "duration": 16,
    "start_time": "2022-03-31T17:33:03.136Z"
   },
   {
    "duration": 2640,
    "start_time": "2022-03-31T17:41:26.827Z"
   },
   {
    "duration": 14,
    "start_time": "2022-03-31T17:43:48.203Z"
   },
   {
    "duration": 1415,
    "start_time": "2022-03-31T17:46:26.480Z"
   },
   {
    "duration": 42,
    "start_time": "2022-03-31T17:46:27.900Z"
   },
   {
    "duration": 18,
    "start_time": "2022-03-31T17:46:27.945Z"
   },
   {
    "duration": 202,
    "start_time": "2022-03-31T17:46:27.973Z"
   },
   {
    "duration": 33,
    "start_time": "2022-03-31T17:46:28.177Z"
   },
   {
    "duration": 135,
    "start_time": "2022-03-31T17:46:28.212Z"
   },
   {
    "duration": 30,
    "start_time": "2022-03-31T17:46:28.349Z"
   },
   {
    "duration": 184,
    "start_time": "2022-03-31T17:46:28.381Z"
   },
   {
    "duration": 30,
    "start_time": "2022-03-31T17:46:28.568Z"
   },
   {
    "duration": 19,
    "start_time": "2022-03-31T17:46:28.602Z"
   },
   {
    "duration": 16,
    "start_time": "2022-03-31T17:46:28.623Z"
   },
   {
    "duration": 143,
    "start_time": "2022-03-31T17:46:28.641Z"
   },
   {
    "duration": 71,
    "start_time": "2022-03-31T17:46:28.786Z"
   },
   {
    "duration": 18,
    "start_time": "2022-03-31T17:46:28.859Z"
   },
   {
    "duration": 90,
    "start_time": "2022-03-31T17:46:28.879Z"
   },
   {
    "duration": 68,
    "start_time": "2022-03-31T17:46:28.972Z"
   },
   {
    "duration": 37,
    "start_time": "2022-03-31T17:46:29.043Z"
   },
   {
    "duration": 38,
    "start_time": "2022-03-31T17:46:29.083Z"
   },
   {
    "duration": 20,
    "start_time": "2022-03-31T17:46:29.123Z"
   },
   {
    "duration": 30,
    "start_time": "2022-03-31T17:46:29.145Z"
   },
   {
    "duration": 189,
    "start_time": "2022-03-31T17:46:29.177Z"
   },
   {
    "duration": 14,
    "start_time": "2022-03-31T17:46:29.368Z"
   },
   {
    "duration": 110,
    "start_time": "2022-03-31T17:46:29.384Z"
   },
   {
    "duration": 1581,
    "start_time": "2022-03-31T17:46:29.497Z"
   },
   {
    "duration": 15,
    "start_time": "2022-03-31T17:46:31.081Z"
   },
   {
    "duration": 15,
    "start_time": "2022-03-31T17:46:31.099Z"
   },
   {
    "duration": 20,
    "start_time": "2022-03-31T17:47:54.680Z"
   },
   {
    "duration": 1389,
    "start_time": "2022-04-01T06:41:08.600Z"
   },
   {
    "duration": 36,
    "start_time": "2022-04-01T06:41:09.991Z"
   },
   {
    "duration": 13,
    "start_time": "2022-04-01T06:41:10.029Z"
   },
   {
    "duration": 169,
    "start_time": "2022-04-01T06:41:10.044Z"
   },
   {
    "duration": 26,
    "start_time": "2022-04-01T06:41:10.215Z"
   },
   {
    "duration": 103,
    "start_time": "2022-04-01T06:41:10.243Z"
   },
   {
    "duration": 20,
    "start_time": "2022-04-01T06:41:10.348Z"
   },
   {
    "duration": 153,
    "start_time": "2022-04-01T06:41:10.369Z"
   },
   {
    "duration": 23,
    "start_time": "2022-04-01T06:41:10.524Z"
   },
   {
    "duration": 16,
    "start_time": "2022-04-01T06:41:10.551Z"
   },
   {
    "duration": 12,
    "start_time": "2022-04-01T06:41:10.569Z"
   },
   {
    "duration": 102,
    "start_time": "2022-04-01T06:41:10.583Z"
   },
   {
    "duration": 67,
    "start_time": "2022-04-01T06:41:10.686Z"
   },
   {
    "duration": 6,
    "start_time": "2022-04-01T06:41:10.755Z"
   },
   {
    "duration": 76,
    "start_time": "2022-04-01T06:41:10.763Z"
   },
   {
    "duration": 46,
    "start_time": "2022-04-01T06:41:10.841Z"
   },
   {
    "duration": 32,
    "start_time": "2022-04-01T06:41:10.889Z"
   },
   {
    "duration": 26,
    "start_time": "2022-04-01T06:41:10.923Z"
   },
   {
    "duration": 15,
    "start_time": "2022-04-01T06:41:10.951Z"
   },
   {
    "duration": 4,
    "start_time": "2022-04-01T06:41:10.968Z"
   },
   {
    "duration": 151,
    "start_time": "2022-04-01T06:41:10.974Z"
   },
   {
    "duration": 10,
    "start_time": "2022-04-01T06:41:11.127Z"
   },
   {
    "duration": 72,
    "start_time": "2022-04-01T06:41:11.139Z"
   },
   {
    "duration": 1169,
    "start_time": "2022-04-01T06:41:11.212Z"
   },
   {
    "duration": 12,
    "start_time": "2022-04-01T06:41:12.383Z"
   },
   {
    "duration": 13,
    "start_time": "2022-04-01T06:41:12.396Z"
   },
   {
    "duration": 3,
    "start_time": "2022-04-01T06:54:26.426Z"
   },
   {
    "duration": 1166,
    "start_time": "2022-04-01T06:54:38.444Z"
   },
   {
    "duration": 6,
    "start_time": "2022-04-01T06:55:00.131Z"
   },
   {
    "duration": 1316,
    "start_time": "2022-04-01T06:55:20.527Z"
   },
   {
    "duration": 3,
    "start_time": "2022-04-01T06:55:32.629Z"
   },
   {
    "duration": 4,
    "start_time": "2022-04-01T06:55:35.258Z"
   },
   {
    "duration": 5,
    "start_time": "2022-04-01T07:04:16.005Z"
   },
   {
    "duration": 5,
    "start_time": "2022-04-01T07:04:19.204Z"
   },
   {
    "duration": 4,
    "start_time": "2022-04-01T07:04:56.000Z"
   },
   {
    "duration": 4,
    "start_time": "2022-04-01T07:06:28.250Z"
   },
   {
    "duration": 4,
    "start_time": "2022-04-01T07:06:30.401Z"
   },
   {
    "duration": 5,
    "start_time": "2022-04-01T07:07:03.302Z"
   },
   {
    "duration": 5,
    "start_time": "2022-04-01T07:07:06.527Z"
   },
   {
    "duration": 27,
    "start_time": "2022-04-01T07:08:21.663Z"
   },
   {
    "duration": 5,
    "start_time": "2022-04-01T07:08:56.039Z"
   },
   {
    "duration": 4,
    "start_time": "2022-04-01T07:09:02.610Z"
   },
   {
    "duration": 4,
    "start_time": "2022-04-01T07:10:16.151Z"
   },
   {
    "duration": 24,
    "start_time": "2022-04-01T07:11:08.051Z"
   },
   {
    "duration": 4,
    "start_time": "2022-04-01T07:11:19.509Z"
   },
   {
    "duration": 5,
    "start_time": "2022-04-01T07:15:03.703Z"
   },
   {
    "duration": 5,
    "start_time": "2022-04-01T07:15:05.617Z"
   },
   {
    "duration": 26,
    "start_time": "2022-04-01T07:16:33.818Z"
   },
   {
    "duration": 4,
    "start_time": "2022-04-01T07:18:14.386Z"
   },
   {
    "duration": 100,
    "start_time": "2022-04-01T07:18:16.971Z"
   },
   {
    "duration": 10,
    "start_time": "2022-04-01T07:18:47.482Z"
   },
   {
    "duration": 5,
    "start_time": "2022-04-01T07:23:17.782Z"
   },
   {
    "duration": 106,
    "start_time": "2022-04-01T07:23:20.424Z"
   },
   {
    "duration": 10,
    "start_time": "2022-04-01T07:23:23.107Z"
   },
   {
    "duration": 4,
    "start_time": "2022-04-01T07:23:52.442Z"
   },
   {
    "duration": 105,
    "start_time": "2022-04-01T07:23:55.051Z"
   },
   {
    "duration": 10,
    "start_time": "2022-04-01T07:23:58.864Z"
   },
   {
    "duration": 5,
    "start_time": "2022-04-01T07:27:07.391Z"
   },
   {
    "duration": 48,
    "start_time": "2022-04-01T15:56:48.766Z"
   },
   {
    "duration": 1322,
    "start_time": "2022-04-01T15:57:07.838Z"
   },
   {
    "duration": 42,
    "start_time": "2022-04-01T15:57:09.163Z"
   },
   {
    "duration": 12,
    "start_time": "2022-04-01T15:57:09.207Z"
   },
   {
    "duration": 169,
    "start_time": "2022-04-01T15:57:09.220Z"
   },
   {
    "duration": 25,
    "start_time": "2022-04-01T15:57:09.392Z"
   },
   {
    "duration": 98,
    "start_time": "2022-04-01T15:57:09.419Z"
   },
   {
    "duration": 23,
    "start_time": "2022-04-01T15:57:09.519Z"
   },
   {
    "duration": 161,
    "start_time": "2022-04-01T15:57:09.544Z"
   },
   {
    "duration": 37,
    "start_time": "2022-04-01T15:57:09.707Z"
   },
   {
    "duration": 16,
    "start_time": "2022-04-01T15:57:09.747Z"
   },
   {
    "duration": 13,
    "start_time": "2022-04-01T15:57:09.765Z"
   },
   {
    "duration": 98,
    "start_time": "2022-04-01T15:57:09.780Z"
   },
   {
    "duration": 58,
    "start_time": "2022-04-01T15:57:09.880Z"
   },
   {
    "duration": 5,
    "start_time": "2022-04-01T15:57:09.941Z"
   },
   {
    "duration": 62,
    "start_time": "2022-04-01T15:57:09.948Z"
   },
   {
    "duration": 64,
    "start_time": "2022-04-01T15:57:10.011Z"
   },
   {
    "duration": 13,
    "start_time": "2022-04-01T15:57:10.077Z"
   },
   {
    "duration": 47,
    "start_time": "2022-04-01T15:57:10.092Z"
   },
   {
    "duration": 17,
    "start_time": "2022-04-01T15:57:10.141Z"
   },
   {
    "duration": 11,
    "start_time": "2022-04-01T15:57:10.161Z"
   },
   {
    "duration": 125,
    "start_time": "2022-04-01T15:57:10.174Z"
   },
   {
    "duration": 11,
    "start_time": "2022-04-01T15:57:10.301Z"
   },
   {
    "duration": 36,
    "start_time": "2022-04-01T15:57:10.313Z"
   },
   {
    "duration": 59,
    "start_time": "2022-04-01T15:57:10.351Z"
   },
   {
    "duration": 1046,
    "start_time": "2022-04-01T15:57:10.412Z"
   },
   {
    "duration": 11,
    "start_time": "2022-04-01T15:57:11.460Z"
   },
   {
    "duration": 12,
    "start_time": "2022-04-01T15:57:11.473Z"
   },
   {
    "duration": 5,
    "start_time": "2022-04-01T15:57:52.376Z"
   },
   {
    "duration": 57,
    "start_time": "2022-04-01T15:58:39.527Z"
   },
   {
    "duration": 44,
    "start_time": "2022-04-01T15:58:43.822Z"
   },
   {
    "duration": 14,
    "start_time": "2022-04-01T15:58:55.087Z"
   },
   {
    "duration": 25,
    "start_time": "2022-04-01T15:58:59.608Z"
   },
   {
    "duration": 14,
    "start_time": "2022-04-01T15:59:15.431Z"
   },
   {
    "duration": 4,
    "start_time": "2022-04-01T15:59:25.475Z"
   },
   {
    "duration": 99,
    "start_time": "2022-04-01T15:59:29.330Z"
   },
   {
    "duration": 10,
    "start_time": "2022-04-01T15:59:34.107Z"
   },
   {
    "duration": 5,
    "start_time": "2022-04-01T16:00:42.558Z"
   },
   {
    "duration": 98,
    "start_time": "2022-04-01T16:00:44.441Z"
   },
   {
    "duration": 10,
    "start_time": "2022-04-01T16:00:46.569Z"
   },
   {
    "duration": 19,
    "start_time": "2022-04-01T16:02:02.304Z"
   },
   {
    "duration": 967,
    "start_time": "2022-04-01T16:03:55.946Z"
   },
   {
    "duration": 11,
    "start_time": "2022-04-01T16:05:46.541Z"
   },
   {
    "duration": 11,
    "start_time": "2022-04-01T16:06:01.856Z"
   },
   {
    "duration": 11,
    "start_time": "2022-04-01T16:06:07.664Z"
   },
   {
    "duration": 10,
    "start_time": "2022-04-01T16:07:40.106Z"
   },
   {
    "duration": 1160,
    "start_time": "2022-04-01T16:14:36.074Z"
   },
   {
    "duration": 34,
    "start_time": "2022-04-01T16:14:37.238Z"
   },
   {
    "duration": 11,
    "start_time": "2022-04-01T16:14:37.274Z"
   },
   {
    "duration": 166,
    "start_time": "2022-04-01T16:14:37.288Z"
   },
   {
    "duration": 25,
    "start_time": "2022-04-01T16:14:37.455Z"
   },
   {
    "duration": 102,
    "start_time": "2022-04-01T16:14:37.482Z"
   },
   {
    "duration": 18,
    "start_time": "2022-04-01T16:14:37.585Z"
   },
   {
    "duration": 157,
    "start_time": "2022-04-01T16:14:37.605Z"
   },
   {
    "duration": 20,
    "start_time": "2022-04-01T16:14:37.764Z"
   },
   {
    "duration": 15,
    "start_time": "2022-04-01T16:14:37.787Z"
   },
   {
    "duration": 9,
    "start_time": "2022-04-01T16:14:37.804Z"
   },
   {
    "duration": 89,
    "start_time": "2022-04-01T16:14:37.815Z"
   },
   {
    "duration": 57,
    "start_time": "2022-04-01T16:14:37.906Z"
   },
   {
    "duration": 5,
    "start_time": "2022-04-01T16:14:37.965Z"
   },
   {
    "duration": 71,
    "start_time": "2022-04-01T16:14:37.972Z"
   },
   {
    "duration": 44,
    "start_time": "2022-04-01T16:14:38.044Z"
   },
   {
    "duration": 14,
    "start_time": "2022-04-01T16:14:38.090Z"
   },
   {
    "duration": 49,
    "start_time": "2022-04-01T16:14:38.106Z"
   },
   {
    "duration": 13,
    "start_time": "2022-04-01T16:14:38.157Z"
   },
   {
    "duration": 5,
    "start_time": "2022-04-01T16:14:38.172Z"
   },
   {
    "duration": 120,
    "start_time": "2022-04-01T16:14:38.178Z"
   },
   {
    "duration": 10,
    "start_time": "2022-04-01T16:14:38.300Z"
   },
   {
    "duration": 7,
    "start_time": "2022-04-01T16:14:38.312Z"
   },
   {
    "duration": 52,
    "start_time": "2022-04-01T16:14:38.338Z"
   },
   {
    "duration": 950,
    "start_time": "2022-04-01T16:14:38.392Z"
   },
   {
    "duration": 11,
    "start_time": "2022-04-01T16:14:39.344Z"
   },
   {
    "duration": 13,
    "start_time": "2022-04-01T16:14:39.357Z"
   },
   {
    "duration": 4,
    "start_time": "2022-04-01T16:18:36.576Z"
   },
   {
    "duration": 101,
    "start_time": "2022-04-01T16:18:41.638Z"
   },
   {
    "duration": 4,
    "start_time": "2022-04-01T16:18:52.085Z"
   },
   {
    "duration": 102,
    "start_time": "2022-04-01T16:18:53.677Z"
   },
   {
    "duration": 1291,
    "start_time": "2022-04-02T06:15:51.919Z"
   },
   {
    "duration": 32,
    "start_time": "2022-04-02T06:15:53.212Z"
   },
   {
    "duration": 10,
    "start_time": "2022-04-02T06:15:53.246Z"
   },
   {
    "duration": 150,
    "start_time": "2022-04-02T06:15:53.258Z"
   },
   {
    "duration": 25,
    "start_time": "2022-04-02T06:15:53.409Z"
   },
   {
    "duration": 93,
    "start_time": "2022-04-02T06:15:53.436Z"
   },
   {
    "duration": 18,
    "start_time": "2022-04-02T06:15:53.531Z"
   },
   {
    "duration": 145,
    "start_time": "2022-04-02T06:15:53.550Z"
   },
   {
    "duration": 27,
    "start_time": "2022-04-02T06:15:53.696Z"
   },
   {
    "duration": 15,
    "start_time": "2022-04-02T06:15:53.726Z"
   },
   {
    "duration": 10,
    "start_time": "2022-04-02T06:15:53.742Z"
   },
   {
    "duration": 92,
    "start_time": "2022-04-02T06:15:53.754Z"
   },
   {
    "duration": 50,
    "start_time": "2022-04-02T06:15:53.847Z"
   },
   {
    "duration": 5,
    "start_time": "2022-04-02T06:15:53.908Z"
   },
   {
    "duration": 55,
    "start_time": "2022-04-02T06:15:53.915Z"
   },
   {
    "duration": 58,
    "start_time": "2022-04-02T06:15:53.971Z"
   },
   {
    "duration": 11,
    "start_time": "2022-04-02T06:15:54.031Z"
   },
   {
    "duration": 22,
    "start_time": "2022-04-02T06:15:54.044Z"
   },
   {
    "duration": 12,
    "start_time": "2022-04-02T06:15:54.067Z"
   },
   {
    "duration": 29,
    "start_time": "2022-04-02T06:15:54.081Z"
   },
   {
    "duration": 111,
    "start_time": "2022-04-02T06:15:54.112Z"
   },
   {
    "duration": 9,
    "start_time": "2022-04-02T06:15:54.224Z"
   },
   {
    "duration": 6,
    "start_time": "2022-04-02T06:15:54.234Z"
   },
   {
    "duration": 51,
    "start_time": "2022-04-02T06:15:54.241Z"
   },
   {
    "duration": 1036,
    "start_time": "2022-04-02T06:15:54.309Z"
   },
   {
    "duration": 11,
    "start_time": "2022-04-02T06:15:55.346Z"
   },
   {
    "duration": 10,
    "start_time": "2022-04-02T06:15:55.359Z"
   },
   {
    "duration": 1047,
    "start_time": "2022-04-02T06:23:29.063Z"
   },
   {
    "duration": 34,
    "start_time": "2022-04-02T06:23:30.111Z"
   },
   {
    "duration": 11,
    "start_time": "2022-04-02T06:23:30.147Z"
   },
   {
    "duration": 164,
    "start_time": "2022-04-02T06:23:30.160Z"
   },
   {
    "duration": 26,
    "start_time": "2022-04-02T06:23:30.325Z"
   },
   {
    "duration": 123,
    "start_time": "2022-04-02T06:23:30.353Z"
   },
   {
    "duration": 19,
    "start_time": "2022-04-02T06:23:30.478Z"
   },
   {
    "duration": 153,
    "start_time": "2022-04-02T06:23:30.498Z"
   },
   {
    "duration": 23,
    "start_time": "2022-04-02T06:23:30.652Z"
   },
   {
    "duration": 16,
    "start_time": "2022-04-02T06:23:30.677Z"
   },
   {
    "duration": 11,
    "start_time": "2022-04-02T06:23:30.708Z"
   },
   {
    "duration": 96,
    "start_time": "2022-04-02T06:23:30.721Z"
   },
   {
    "duration": 53,
    "start_time": "2022-04-02T06:23:30.819Z"
   },
   {
    "duration": 5,
    "start_time": "2022-04-02T06:23:30.874Z"
   },
   {
    "duration": 70,
    "start_time": "2022-04-02T06:23:30.881Z"
   },
   {
    "duration": 43,
    "start_time": "2022-04-02T06:23:30.953Z"
   },
   {
    "duration": 22,
    "start_time": "2022-04-02T06:23:30.997Z"
   },
   {
    "duration": 29,
    "start_time": "2022-04-02T06:23:31.020Z"
   },
   {
    "duration": 14,
    "start_time": "2022-04-02T06:23:31.051Z"
   },
   {
    "duration": 6,
    "start_time": "2022-04-02T06:23:31.067Z"
   },
   {
    "duration": 139,
    "start_time": "2022-04-02T06:23:31.075Z"
   },
   {
    "duration": 8,
    "start_time": "2022-04-02T06:23:31.216Z"
   },
   {
    "duration": 9,
    "start_time": "2022-04-02T06:23:31.226Z"
   },
   {
    "duration": 62,
    "start_time": "2022-04-02T06:23:31.237Z"
   },
   {
    "duration": 1005,
    "start_time": "2022-04-02T06:23:31.300Z"
   },
   {
    "duration": 10,
    "start_time": "2022-04-02T06:23:32.307Z"
   },
   {
    "duration": 11,
    "start_time": "2022-04-02T06:23:32.319Z"
   },
   {
    "duration": 1130,
    "start_time": "2022-04-02T06:26:50.377Z"
   },
   {
    "duration": 32,
    "start_time": "2022-04-02T06:26:51.509Z"
   },
   {
    "duration": 12,
    "start_time": "2022-04-02T06:26:51.542Z"
   },
   {
    "duration": 156,
    "start_time": "2022-04-02T06:26:51.556Z"
   },
   {
    "duration": 25,
    "start_time": "2022-04-02T06:26:51.714Z"
   },
   {
    "duration": 102,
    "start_time": "2022-04-02T06:26:51.741Z"
   },
   {
    "duration": 19,
    "start_time": "2022-04-02T06:26:51.845Z"
   },
   {
    "duration": 152,
    "start_time": "2022-04-02T06:26:51.865Z"
   },
   {
    "duration": 21,
    "start_time": "2022-04-02T06:26:52.018Z"
   },
   {
    "duration": 16,
    "start_time": "2022-04-02T06:26:52.042Z"
   },
   {
    "duration": 11,
    "start_time": "2022-04-02T06:26:52.059Z"
   },
   {
    "duration": 94,
    "start_time": "2022-04-02T06:26:52.072Z"
   },
   {
    "duration": 59,
    "start_time": "2022-04-02T06:26:52.168Z"
   },
   {
    "duration": 5,
    "start_time": "2022-04-02T06:26:52.228Z"
   },
   {
    "duration": 56,
    "start_time": "2022-04-02T06:26:52.234Z"
   },
   {
    "duration": 56,
    "start_time": "2022-04-02T06:26:52.292Z"
   },
   {
    "duration": 11,
    "start_time": "2022-04-02T06:26:52.350Z"
   },
   {
    "duration": 46,
    "start_time": "2022-04-02T06:26:52.363Z"
   },
   {
    "duration": 13,
    "start_time": "2022-04-02T06:26:52.411Z"
   },
   {
    "duration": 5,
    "start_time": "2022-04-02T06:26:52.425Z"
   },
   {
    "duration": 126,
    "start_time": "2022-04-02T06:26:52.431Z"
   },
   {
    "duration": 9,
    "start_time": "2022-04-02T06:26:52.559Z"
   },
   {
    "duration": 5,
    "start_time": "2022-04-02T06:26:52.570Z"
   },
   {
    "duration": 69,
    "start_time": "2022-04-02T06:26:52.576Z"
   },
   {
    "duration": 947,
    "start_time": "2022-04-02T06:26:52.646Z"
   },
   {
    "duration": 11,
    "start_time": "2022-04-02T06:26:53.594Z"
   },
   {
    "duration": 9,
    "start_time": "2022-04-02T06:26:53.606Z"
   },
   {
    "duration": 10,
    "start_time": "2022-04-02T06:28:14.661Z"
   },
   {
    "duration": 1055,
    "start_time": "2022-04-02T06:32:00.160Z"
   },
   {
    "duration": 32,
    "start_time": "2022-04-02T06:32:01.216Z"
   },
   {
    "duration": 11,
    "start_time": "2022-04-02T06:32:01.249Z"
   },
   {
    "duration": 158,
    "start_time": "2022-04-02T06:32:01.262Z"
   },
   {
    "duration": 25,
    "start_time": "2022-04-02T06:32:01.422Z"
   },
   {
    "duration": 97,
    "start_time": "2022-04-02T06:32:01.448Z"
   },
   {
    "duration": 19,
    "start_time": "2022-04-02T06:32:01.546Z"
   },
   {
    "duration": 143,
    "start_time": "2022-04-02T06:32:01.566Z"
   },
   {
    "duration": 22,
    "start_time": "2022-04-02T06:32:01.710Z"
   },
   {
    "duration": 15,
    "start_time": "2022-04-02T06:32:01.734Z"
   },
   {
    "duration": 9,
    "start_time": "2022-04-02T06:32:01.751Z"
   },
   {
    "duration": 96,
    "start_time": "2022-04-02T06:32:01.762Z"
   },
   {
    "duration": 56,
    "start_time": "2022-04-02T06:32:01.860Z"
   },
   {
    "duration": 4,
    "start_time": "2022-04-02T06:32:01.918Z"
   },
   {
    "duration": 69,
    "start_time": "2022-04-02T06:32:01.924Z"
   },
   {
    "duration": 49,
    "start_time": "2022-04-02T06:32:01.995Z"
   },
   {
    "duration": 12,
    "start_time": "2022-04-02T06:32:02.045Z"
   },
   {
    "duration": 25,
    "start_time": "2022-04-02T06:32:02.059Z"
   },
   {
    "duration": 34,
    "start_time": "2022-04-02T06:32:02.086Z"
   },
   {
    "duration": 8,
    "start_time": "2022-04-02T06:32:02.122Z"
   },
   {
    "duration": 113,
    "start_time": "2022-04-02T06:32:02.132Z"
   },
   {
    "duration": 9,
    "start_time": "2022-04-02T06:32:02.247Z"
   },
   {
    "duration": 13,
    "start_time": "2022-04-02T06:32:02.258Z"
   },
   {
    "duration": 4,
    "start_time": "2022-04-02T06:32:02.273Z"
   },
   {
    "duration": 80,
    "start_time": "2022-04-02T06:32:02.279Z"
   },
   {
    "duration": 989,
    "start_time": "2022-04-02T06:32:02.360Z"
   },
   {
    "duration": 12,
    "start_time": "2022-04-02T06:32:03.351Z"
   },
   {
    "duration": 12,
    "start_time": "2022-04-02T06:32:03.366Z"
   },
   {
    "duration": 111,
    "start_time": "2022-04-02T06:37:41.914Z"
   },
   {
    "duration": 1203,
    "start_time": "2022-04-02T06:39:06.410Z"
   },
   {
    "duration": 34,
    "start_time": "2022-04-02T06:39:07.615Z"
   },
   {
    "duration": 13,
    "start_time": "2022-04-02T06:39:07.651Z"
   },
   {
    "duration": 175,
    "start_time": "2022-04-02T06:39:07.667Z"
   },
   {
    "duration": 27,
    "start_time": "2022-04-02T06:39:07.844Z"
   },
   {
    "duration": 104,
    "start_time": "2022-04-02T06:39:07.873Z"
   },
   {
    "duration": 20,
    "start_time": "2022-04-02T06:39:07.978Z"
   },
   {
    "duration": 143,
    "start_time": "2022-04-02T06:39:08.008Z"
   },
   {
    "duration": 22,
    "start_time": "2022-04-02T06:39:08.152Z"
   },
   {
    "duration": 15,
    "start_time": "2022-04-02T06:39:08.177Z"
   },
   {
    "duration": 23,
    "start_time": "2022-04-02T06:39:08.193Z"
   },
   {
    "duration": 73,
    "start_time": "2022-04-02T06:39:08.218Z"
   },
   {
    "duration": 64,
    "start_time": "2022-04-02T06:39:08.293Z"
   },
   {
    "duration": 5,
    "start_time": "2022-04-02T06:39:08.358Z"
   },
   {
    "duration": 73,
    "start_time": "2022-04-02T06:39:08.365Z"
   },
   {
    "duration": 45,
    "start_time": "2022-04-02T06:39:08.440Z"
   },
   {
    "duration": 27,
    "start_time": "2022-04-02T06:39:08.486Z"
   },
   {
    "duration": 27,
    "start_time": "2022-04-02T06:39:08.514Z"
   },
   {
    "duration": 14,
    "start_time": "2022-04-02T06:39:08.542Z"
   },
   {
    "duration": 5,
    "start_time": "2022-04-02T06:39:08.557Z"
   },
   {
    "duration": 138,
    "start_time": "2022-04-02T06:39:08.563Z"
   },
   {
    "duration": 13,
    "start_time": "2022-04-02T06:39:08.702Z"
   },
   {
    "duration": 6,
    "start_time": "2022-04-02T06:39:08.716Z"
   },
   {
    "duration": 126,
    "start_time": "2022-04-02T06:39:08.724Z"
   },
   {
    "duration": 11,
    "start_time": "2022-04-02T06:39:08.852Z"
   },
   {
    "duration": 108,
    "start_time": "2022-04-02T06:39:08.864Z"
   },
   {
    "duration": 0,
    "start_time": "2022-04-02T06:39:08.973Z"
   },
   {
    "duration": 0,
    "start_time": "2022-04-02T06:39:08.974Z"
   },
   {
    "duration": 0,
    "start_time": "2022-04-02T06:39:08.975Z"
   },
   {
    "duration": 0,
    "start_time": "2022-04-02T06:39:08.976Z"
   },
   {
    "duration": 1107,
    "start_time": "2022-04-02T06:39:34.949Z"
   },
   {
    "duration": 33,
    "start_time": "2022-04-02T06:39:36.058Z"
   },
   {
    "duration": 10,
    "start_time": "2022-04-02T06:39:36.093Z"
   },
   {
    "duration": 153,
    "start_time": "2022-04-02T06:39:36.108Z"
   },
   {
    "duration": 26,
    "start_time": "2022-04-02T06:39:36.262Z"
   },
   {
    "duration": 99,
    "start_time": "2022-04-02T06:39:36.289Z"
   },
   {
    "duration": 23,
    "start_time": "2022-04-02T06:39:36.390Z"
   },
   {
    "duration": 136,
    "start_time": "2022-04-02T06:39:36.415Z"
   },
   {
    "duration": 20,
    "start_time": "2022-04-02T06:39:36.553Z"
   },
   {
    "duration": 15,
    "start_time": "2022-04-02T06:39:36.575Z"
   },
   {
    "duration": 20,
    "start_time": "2022-04-02T06:39:36.592Z"
   },
   {
    "duration": 75,
    "start_time": "2022-04-02T06:39:36.614Z"
   },
   {
    "duration": 60,
    "start_time": "2022-04-02T06:39:36.691Z"
   },
   {
    "duration": 5,
    "start_time": "2022-04-02T06:39:36.752Z"
   },
   {
    "duration": 72,
    "start_time": "2022-04-02T06:39:36.759Z"
   },
   {
    "duration": 44,
    "start_time": "2022-04-02T06:39:36.833Z"
   },
   {
    "duration": 31,
    "start_time": "2022-04-02T06:39:36.878Z"
   },
   {
    "duration": 25,
    "start_time": "2022-04-02T06:39:36.911Z"
   },
   {
    "duration": 13,
    "start_time": "2022-04-02T06:39:36.938Z"
   },
   {
    "duration": 5,
    "start_time": "2022-04-02T06:39:36.952Z"
   },
   {
    "duration": 130,
    "start_time": "2022-04-02T06:39:36.959Z"
   },
   {
    "duration": 18,
    "start_time": "2022-04-02T06:39:37.091Z"
   },
   {
    "duration": 7,
    "start_time": "2022-04-02T06:39:37.111Z"
   },
   {
    "duration": 121,
    "start_time": "2022-04-02T06:39:37.119Z"
   },
   {
    "duration": 12,
    "start_time": "2022-04-02T06:39:37.242Z"
   },
   {
    "duration": 5,
    "start_time": "2022-04-02T06:39:37.256Z"
   },
   {
    "duration": 72,
    "start_time": "2022-04-02T06:39:37.263Z"
   },
   {
    "duration": 983,
    "start_time": "2022-04-02T06:39:37.338Z"
   },
   {
    "duration": 11,
    "start_time": "2022-04-02T06:39:38.323Z"
   },
   {
    "duration": 11,
    "start_time": "2022-04-02T06:39:38.335Z"
   },
   {
    "duration": 24,
    "start_time": "2022-04-02T06:40:20.559Z"
   },
   {
    "duration": 1064,
    "start_time": "2022-04-02T06:46:22.357Z"
   },
   {
    "duration": 33,
    "start_time": "2022-04-02T06:46:23.423Z"
   },
   {
    "duration": 12,
    "start_time": "2022-04-02T06:46:23.458Z"
   },
   {
    "duration": 160,
    "start_time": "2022-04-02T06:46:23.472Z"
   },
   {
    "duration": 25,
    "start_time": "2022-04-02T06:46:23.634Z"
   },
   {
    "duration": 96,
    "start_time": "2022-04-02T06:46:23.661Z"
   },
   {
    "duration": 18,
    "start_time": "2022-04-02T06:46:23.759Z"
   },
   {
    "duration": 147,
    "start_time": "2022-04-02T06:46:23.779Z"
   },
   {
    "duration": 21,
    "start_time": "2022-04-02T06:46:23.928Z"
   },
   {
    "duration": 15,
    "start_time": "2022-04-02T06:46:23.952Z"
   },
   {
    "duration": 11,
    "start_time": "2022-04-02T06:46:23.969Z"
   },
   {
    "duration": 102,
    "start_time": "2022-04-02T06:46:23.982Z"
   },
   {
    "duration": 63,
    "start_time": "2022-04-02T06:46:24.086Z"
   },
   {
    "duration": 6,
    "start_time": "2022-04-02T06:46:24.151Z"
   },
   {
    "duration": 71,
    "start_time": "2022-04-02T06:46:24.158Z"
   },
   {
    "duration": 44,
    "start_time": "2022-04-02T06:46:24.231Z"
   },
   {
    "duration": 12,
    "start_time": "2022-04-02T06:46:24.276Z"
   },
   {
    "duration": 41,
    "start_time": "2022-04-02T06:46:24.290Z"
   },
   {
    "duration": 11,
    "start_time": "2022-04-02T06:46:24.333Z"
   },
   {
    "duration": 4,
    "start_time": "2022-04-02T06:46:24.346Z"
   },
   {
    "duration": 123,
    "start_time": "2022-04-02T06:46:24.352Z"
   },
   {
    "duration": 8,
    "start_time": "2022-04-02T06:46:24.477Z"
   },
   {
    "duration": 5,
    "start_time": "2022-04-02T06:46:24.486Z"
   },
   {
    "duration": 124,
    "start_time": "2022-04-02T06:46:24.492Z"
   },
   {
    "duration": 11,
    "start_time": "2022-04-02T06:46:24.618Z"
   },
   {
    "duration": 23,
    "start_time": "2022-04-02T06:46:24.631Z"
   },
   {
    "duration": 81,
    "start_time": "2022-04-02T06:46:24.655Z"
   },
   {
    "duration": 974,
    "start_time": "2022-04-02T06:46:24.739Z"
   },
   {
    "duration": 10,
    "start_time": "2022-04-02T06:46:25.714Z"
   },
   {
    "duration": 11,
    "start_time": "2022-04-02T06:46:25.726Z"
   },
   {
    "duration": 51,
    "start_time": "2022-04-02T15:42:44.203Z"
   },
   {
    "duration": 1301,
    "start_time": "2022-04-02T15:43:02.382Z"
   },
   {
    "duration": 35,
    "start_time": "2022-04-02T15:43:03.685Z"
   },
   {
    "duration": 12,
    "start_time": "2022-04-02T15:43:03.722Z"
   },
   {
    "duration": 159,
    "start_time": "2022-04-02T15:43:03.736Z"
   },
   {
    "duration": 25,
    "start_time": "2022-04-02T15:43:03.896Z"
   },
   {
    "duration": 108,
    "start_time": "2022-04-02T15:43:03.923Z"
   },
   {
    "duration": 21,
    "start_time": "2022-04-02T15:43:04.037Z"
   },
   {
    "duration": 147,
    "start_time": "2022-04-02T15:43:04.060Z"
   },
   {
    "duration": 29,
    "start_time": "2022-04-02T15:43:04.209Z"
   },
   {
    "duration": 16,
    "start_time": "2022-04-02T15:43:04.241Z"
   },
   {
    "duration": 11,
    "start_time": "2022-04-02T15:43:04.259Z"
   },
   {
    "duration": 91,
    "start_time": "2022-04-02T15:43:04.271Z"
   },
   {
    "duration": 50,
    "start_time": "2022-04-02T15:43:04.363Z"
   },
   {
    "duration": 5,
    "start_time": "2022-04-02T15:43:04.414Z"
   },
   {
    "duration": 65,
    "start_time": "2022-04-02T15:43:04.421Z"
   },
   {
    "duration": 56,
    "start_time": "2022-04-02T15:43:04.487Z"
   },
   {
    "duration": 13,
    "start_time": "2022-04-02T15:43:04.545Z"
   },
   {
    "duration": 25,
    "start_time": "2022-04-02T15:43:04.560Z"
   },
   {
    "duration": 14,
    "start_time": "2022-04-02T15:43:04.587Z"
   },
   {
    "duration": 35,
    "start_time": "2022-04-02T15:43:04.603Z"
   },
   {
    "duration": 108,
    "start_time": "2022-04-02T15:43:04.640Z"
   },
   {
    "duration": 10,
    "start_time": "2022-04-02T15:43:04.751Z"
   },
   {
    "duration": 7,
    "start_time": "2022-04-02T15:43:04.763Z"
   },
   {
    "duration": 133,
    "start_time": "2022-04-02T15:43:04.772Z"
   },
   {
    "duration": 13,
    "start_time": "2022-04-02T15:43:04.907Z"
   },
   {
    "duration": 38,
    "start_time": "2022-04-02T15:43:04.922Z"
   },
   {
    "duration": 53,
    "start_time": "2022-04-02T15:43:04.962Z"
   },
   {
    "duration": 1033,
    "start_time": "2022-04-02T15:43:05.037Z"
   },
   {
    "duration": 11,
    "start_time": "2022-04-02T15:43:06.073Z"
   },
   {
    "duration": 12,
    "start_time": "2022-04-02T15:43:06.086Z"
   },
   {
    "duration": 1507,
    "start_time": "2022-04-02T15:45:18.712Z"
   },
   {
    "duration": 1107,
    "start_time": "2022-04-02T15:46:19.425Z"
   },
   {
    "duration": 34,
    "start_time": "2022-04-02T15:46:20.534Z"
   },
   {
    "duration": 11,
    "start_time": "2022-04-02T15:46:20.569Z"
   },
   {
    "duration": 165,
    "start_time": "2022-04-02T15:46:20.581Z"
   },
   {
    "duration": 25,
    "start_time": "2022-04-02T15:46:20.748Z"
   },
   {
    "duration": 102,
    "start_time": "2022-04-02T15:46:20.774Z"
   },
   {
    "duration": 20,
    "start_time": "2022-04-02T15:46:20.878Z"
   },
   {
    "duration": 150,
    "start_time": "2022-04-02T15:46:20.900Z"
   },
   {
    "duration": 22,
    "start_time": "2022-04-02T15:46:21.051Z"
   },
   {
    "duration": 17,
    "start_time": "2022-04-02T15:46:21.075Z"
   },
   {
    "duration": 12,
    "start_time": "2022-04-02T15:46:21.093Z"
   },
   {
    "duration": 94,
    "start_time": "2022-04-02T15:46:21.107Z"
   },
   {
    "duration": 57,
    "start_time": "2022-04-02T15:46:21.203Z"
   },
   {
    "duration": 6,
    "start_time": "2022-04-02T15:46:21.263Z"
   },
   {
    "duration": 70,
    "start_time": "2022-04-02T15:46:21.271Z"
   },
   {
    "duration": 41,
    "start_time": "2022-04-02T15:46:21.343Z"
   },
   {
    "duration": 13,
    "start_time": "2022-04-02T15:46:21.385Z"
   },
   {
    "duration": 40,
    "start_time": "2022-04-02T15:46:21.399Z"
   },
   {
    "duration": 13,
    "start_time": "2022-04-02T15:46:21.440Z"
   },
   {
    "duration": 5,
    "start_time": "2022-04-02T15:46:21.454Z"
   },
   {
    "duration": 116,
    "start_time": "2022-04-02T15:46:21.460Z"
   },
   {
    "duration": 9,
    "start_time": "2022-04-02T15:46:21.577Z"
   },
   {
    "duration": 23,
    "start_time": "2022-04-02T15:46:21.588Z"
   },
   {
    "duration": 114,
    "start_time": "2022-04-02T15:46:21.612Z"
   },
   {
    "duration": 12,
    "start_time": "2022-04-02T15:46:21.728Z"
   },
   {
    "duration": 22,
    "start_time": "2022-04-02T15:46:21.742Z"
   },
   {
    "duration": 50,
    "start_time": "2022-04-02T15:46:21.766Z"
   },
   {
    "duration": 941,
    "start_time": "2022-04-02T15:46:21.817Z"
   },
   {
    "duration": 10,
    "start_time": "2022-04-02T15:46:22.760Z"
   },
   {
    "duration": 25,
    "start_time": "2022-04-02T15:46:22.771Z"
   },
   {
    "duration": 5,
    "start_time": "2022-04-02T15:49:23.812Z"
   },
   {
    "duration": 99,
    "start_time": "2022-04-02T15:49:27.699Z"
   },
   {
    "duration": 11,
    "start_time": "2022-04-02T15:49:34.916Z"
   },
   {
    "duration": 1111,
    "start_time": "2022-04-02T15:50:15.733Z"
   },
   {
    "duration": 28,
    "start_time": "2022-04-02T15:50:16.846Z"
   },
   {
    "duration": 12,
    "start_time": "2022-04-02T15:50:16.876Z"
   },
   {
    "duration": 159,
    "start_time": "2022-04-02T15:50:16.890Z"
   },
   {
    "duration": 24,
    "start_time": "2022-04-02T15:50:17.051Z"
   },
   {
    "duration": 92,
    "start_time": "2022-04-02T15:50:17.077Z"
   },
   {
    "duration": 20,
    "start_time": "2022-04-02T15:50:17.170Z"
   },
   {
    "duration": 153,
    "start_time": "2022-04-02T15:50:17.191Z"
   },
   {
    "duration": 21,
    "start_time": "2022-04-02T15:50:17.346Z"
   },
   {
    "duration": 16,
    "start_time": "2022-04-02T15:50:17.370Z"
   },
   {
    "duration": 10,
    "start_time": "2022-04-02T15:50:17.388Z"
   },
   {
    "duration": 98,
    "start_time": "2022-04-02T15:50:17.400Z"
   },
   {
    "duration": 56,
    "start_time": "2022-04-02T15:50:17.500Z"
   },
   {
    "duration": 6,
    "start_time": "2022-04-02T15:50:17.557Z"
   },
   {
    "duration": 59,
    "start_time": "2022-04-02T15:50:17.564Z"
   },
   {
    "duration": 43,
    "start_time": "2022-04-02T15:50:17.637Z"
   },
   {
    "duration": 12,
    "start_time": "2022-04-02T15:50:17.682Z"
   },
   {
    "duration": 43,
    "start_time": "2022-04-02T15:50:17.696Z"
   },
   {
    "duration": 13,
    "start_time": "2022-04-02T15:50:17.741Z"
   },
   {
    "duration": 5,
    "start_time": "2022-04-02T15:50:17.755Z"
   },
   {
    "duration": 116,
    "start_time": "2022-04-02T15:50:17.761Z"
   },
   {
    "duration": 9,
    "start_time": "2022-04-02T15:50:17.878Z"
   },
   {
    "duration": 4,
    "start_time": "2022-04-02T15:50:17.889Z"
   },
   {
    "duration": 124,
    "start_time": "2022-04-02T15:50:17.894Z"
   },
   {
    "duration": 20,
    "start_time": "2022-04-02T15:50:18.020Z"
   },
   {
    "duration": 22,
    "start_time": "2022-04-02T15:50:18.042Z"
   },
   {
    "duration": 52,
    "start_time": "2022-04-02T15:50:18.066Z"
   },
   {
    "duration": 980,
    "start_time": "2022-04-02T15:50:18.138Z"
   },
   {
    "duration": 13,
    "start_time": "2022-04-02T15:50:19.120Z"
   },
   {
    "duration": 14,
    "start_time": "2022-04-02T15:50:19.134Z"
   },
   {
    "duration": 5,
    "start_time": "2022-04-02T15:53:07.270Z"
   },
   {
    "duration": 112,
    "start_time": "2022-04-02T15:53:12.342Z"
   },
   {
    "duration": 4,
    "start_time": "2022-04-02T15:54:40.608Z"
   },
   {
    "duration": 27,
    "start_time": "2022-04-02T15:54:43.709Z"
   },
   {
    "duration": 1136,
    "start_time": "2022-04-02T15:55:27.444Z"
   },
   {
    "duration": 34,
    "start_time": "2022-04-02T15:55:28.582Z"
   },
   {
    "duration": 13,
    "start_time": "2022-04-02T15:55:28.618Z"
   },
   {
    "duration": 159,
    "start_time": "2022-04-02T15:55:28.633Z"
   },
   {
    "duration": 25,
    "start_time": "2022-04-02T15:55:28.793Z"
   },
   {
    "duration": 96,
    "start_time": "2022-04-02T15:55:28.820Z"
   },
   {
    "duration": 23,
    "start_time": "2022-04-02T15:55:28.918Z"
   },
   {
    "duration": 146,
    "start_time": "2022-04-02T15:55:28.943Z"
   },
   {
    "duration": 22,
    "start_time": "2022-04-02T15:55:29.090Z"
   },
   {
    "duration": 24,
    "start_time": "2022-04-02T15:55:29.115Z"
   },
   {
    "duration": 9,
    "start_time": "2022-04-02T15:55:29.141Z"
   },
   {
    "duration": 85,
    "start_time": "2022-04-02T15:55:29.152Z"
   },
   {
    "duration": 50,
    "start_time": "2022-04-02T15:55:29.239Z"
   },
   {
    "duration": 5,
    "start_time": "2022-04-02T15:55:29.291Z"
   },
   {
    "duration": 74,
    "start_time": "2022-04-02T15:55:29.297Z"
   },
   {
    "duration": 43,
    "start_time": "2022-04-02T15:55:29.373Z"
   },
   {
    "duration": 25,
    "start_time": "2022-04-02T15:55:29.418Z"
   },
   {
    "duration": 25,
    "start_time": "2022-04-02T15:55:29.445Z"
   },
   {
    "duration": 12,
    "start_time": "2022-04-02T15:55:29.472Z"
   },
   {
    "duration": 4,
    "start_time": "2022-04-02T15:55:29.486Z"
   },
   {
    "duration": 148,
    "start_time": "2022-04-02T15:55:29.492Z"
   },
   {
    "duration": 0,
    "start_time": "2022-04-02T15:55:29.643Z"
   },
   {
    "duration": 0,
    "start_time": "2022-04-02T15:55:29.644Z"
   },
   {
    "duration": 0,
    "start_time": "2022-04-02T15:55:29.646Z"
   },
   {
    "duration": 0,
    "start_time": "2022-04-02T15:55:29.647Z"
   },
   {
    "duration": 0,
    "start_time": "2022-04-02T15:55:29.648Z"
   },
   {
    "duration": 0,
    "start_time": "2022-04-02T15:55:29.649Z"
   },
   {
    "duration": 0,
    "start_time": "2022-04-02T15:55:29.650Z"
   },
   {
    "duration": 0,
    "start_time": "2022-04-02T15:55:29.651Z"
   },
   {
    "duration": 0,
    "start_time": "2022-04-02T15:55:29.652Z"
   },
   {
    "duration": 4,
    "start_time": "2022-04-02T15:57:37.740Z"
   },
   {
    "duration": 26,
    "start_time": "2022-04-02T15:57:41.308Z"
   },
   {
    "duration": 10,
    "start_time": "2022-04-02T15:58:22.516Z"
   },
   {
    "duration": 25,
    "start_time": "2022-04-02T15:58:36.477Z"
   },
   {
    "duration": 5,
    "start_time": "2022-04-02T15:59:51.044Z"
   },
   {
    "duration": 116,
    "start_time": "2022-04-02T15:59:52.676Z"
   },
   {
    "duration": 4,
    "start_time": "2022-04-02T16:06:18.340Z"
   },
   {
    "duration": 100,
    "start_time": "2022-04-02T16:06:20.740Z"
   },
   {
    "duration": 81,
    "start_time": "2022-04-02T16:06:25.231Z"
   },
   {
    "duration": 99,
    "start_time": "2022-04-02T16:06:29.686Z"
   },
   {
    "duration": 10,
    "start_time": "2022-04-02T16:06:35.206Z"
   },
   {
    "duration": 12,
    "start_time": "2022-04-02T16:07:35.155Z"
   },
   {
    "duration": 11,
    "start_time": "2022-04-02T16:07:48.156Z"
   },
   {
    "duration": 4,
    "start_time": "2022-04-02T16:08:41.699Z"
   },
   {
    "duration": 102,
    "start_time": "2022-04-02T16:08:43.708Z"
   },
   {
    "duration": 11,
    "start_time": "2022-04-02T16:08:46.748Z"
   },
   {
    "duration": 10,
    "start_time": "2022-04-02T16:12:05.135Z"
   },
   {
    "duration": 24,
    "start_time": "2022-04-02T16:12:07.716Z"
   },
   {
    "duration": 5,
    "start_time": "2022-04-02T16:17:47.442Z"
   },
   {
    "duration": 137,
    "start_time": "2022-04-02T16:17:50.525Z"
   },
   {
    "duration": 11,
    "start_time": "2022-04-02T16:17:57.262Z"
   },
   {
    "duration": 9,
    "start_time": "2022-04-03T22:39:32.893Z"
   },
   {
    "duration": 40,
    "start_time": "2022-04-03T22:39:35.664Z"
   },
   {
    "duration": 6,
    "start_time": "2022-04-03T22:39:38.024Z"
   },
   {
    "duration": 1088,
    "start_time": "2022-04-03T22:39:47.146Z"
   },
   {
    "duration": 47,
    "start_time": "2022-04-03T22:39:48.236Z"
   },
   {
    "duration": 12,
    "start_time": "2022-04-03T22:39:48.285Z"
   },
   {
    "duration": 217,
    "start_time": "2022-04-03T22:39:48.300Z"
   },
   {
    "duration": 25,
    "start_time": "2022-04-03T22:39:48.519Z"
   },
   {
    "duration": 121,
    "start_time": "2022-04-03T22:39:48.546Z"
   },
   {
    "duration": 18,
    "start_time": "2022-04-03T22:39:48.669Z"
   },
   {
    "duration": 397,
    "start_time": "2022-04-03T22:39:48.689Z"
   },
   {
    "duration": 22,
    "start_time": "2022-04-03T22:39:49.088Z"
   },
   {
    "duration": 31,
    "start_time": "2022-04-03T22:39:49.113Z"
   },
   {
    "duration": 11,
    "start_time": "2022-04-03T22:39:49.146Z"
   },
   {
    "duration": 82,
    "start_time": "2022-04-03T22:39:49.159Z"
   },
   {
    "duration": 51,
    "start_time": "2022-04-03T22:39:49.243Z"
   },
   {
    "duration": 6,
    "start_time": "2022-04-03T22:39:49.295Z"
   },
   {
    "duration": 79,
    "start_time": "2022-04-03T22:39:49.303Z"
   },
   {
    "duration": 50,
    "start_time": "2022-04-03T22:39:49.384Z"
   },
   {
    "duration": 13,
    "start_time": "2022-04-03T22:39:49.436Z"
   },
   {
    "duration": 25,
    "start_time": "2022-04-03T22:39:49.451Z"
   },
   {
    "duration": 15,
    "start_time": "2022-04-03T22:39:49.477Z"
   },
   {
    "duration": 5,
    "start_time": "2022-04-03T22:39:49.493Z"
   },
   {
    "duration": 103,
    "start_time": "2022-04-03T22:39:49.533Z"
   },
   {
    "duration": 12,
    "start_time": "2022-04-03T22:39:49.638Z"
   },
   {
    "duration": 4,
    "start_time": "2022-04-03T22:39:49.651Z"
   },
   {
    "duration": 116,
    "start_time": "2022-04-03T22:39:49.657Z"
   },
   {
    "duration": 10,
    "start_time": "2022-04-03T22:39:49.775Z"
   },
   {
    "duration": 23,
    "start_time": "2022-04-03T22:39:49.787Z"
   },
   {
    "duration": 71,
    "start_time": "2022-04-03T22:39:49.812Z"
   },
   {
    "duration": 870,
    "start_time": "2022-04-03T22:39:49.887Z"
   },
   {
    "duration": 11,
    "start_time": "2022-04-03T22:39:50.759Z"
   },
   {
    "duration": 9,
    "start_time": "2022-04-03T22:39:50.772Z"
   },
   {
    "duration": 4,
    "start_time": "2022-04-03T22:40:53.480Z"
   },
   {
    "duration": 114,
    "start_time": "2022-04-03T22:40:54.695Z"
   },
   {
    "duration": 10,
    "start_time": "2022-04-03T22:40:56.927Z"
   },
   {
    "duration": 18,
    "start_time": "2022-04-03T23:50:08.287Z"
   },
   {
    "duration": 903,
    "start_time": "2022-04-03T23:50:31.943Z"
   },
   {
    "duration": 11,
    "start_time": "2022-04-03T23:50:51.976Z"
   },
   {
    "duration": 10,
    "start_time": "2022-04-03T23:51:04.023Z"
   },
   {
    "duration": 1164,
    "start_time": "2022-08-26T17:07:16.188Z"
   },
   {
    "duration": 3,
    "start_time": "2022-08-26T17:25:22.519Z"
   },
   {
    "duration": 1118,
    "start_time": "2022-08-26T17:25:54.499Z"
   },
   {
    "duration": 13,
    "start_time": "2022-08-26T17:26:10.442Z"
   },
   {
    "duration": 3,
    "start_time": "2022-08-26T17:26:31.268Z"
   },
   {
    "duration": 22,
    "start_time": "2022-08-26T17:26:33.595Z"
   },
   {
    "duration": 3,
    "start_time": "2022-08-26T17:26:41.907Z"
   },
   {
    "duration": 19,
    "start_time": "2022-08-26T17:26:44.193Z"
   },
   {
    "duration": 28,
    "start_time": "2022-08-26T17:27:51.813Z"
   },
   {
    "duration": 2,
    "start_time": "2022-08-26T17:27:59.285Z"
   },
   {
    "duration": 16,
    "start_time": "2022-08-26T17:28:01.267Z"
   },
   {
    "duration": 30,
    "start_time": "2022-08-26T17:28:03.708Z"
   },
   {
    "duration": 3,
    "start_time": "2022-08-26T17:28:19.795Z"
   },
   {
    "duration": 16,
    "start_time": "2022-08-26T17:28:22.451Z"
   },
   {
    "duration": 33,
    "start_time": "2022-08-26T17:28:26.186Z"
   },
   {
    "duration": 26,
    "start_time": "2022-08-26T17:28:50.203Z"
   },
   {
    "duration": 25,
    "start_time": "2022-08-26T17:29:13.292Z"
   },
   {
    "duration": 14,
    "start_time": "2022-08-26T17:29:35.748Z"
   },
   {
    "duration": 69,
    "start_time": "2022-08-26T17:32:04.850Z"
   },
   {
    "duration": 46,
    "start_time": "2022-08-26T17:32:16.721Z"
   },
   {
    "duration": 5,
    "start_time": "2022-08-26T17:32:24.834Z"
   },
   {
    "duration": 97,
    "start_time": "2022-08-26T17:32:56.790Z"
   },
   {
    "duration": 4,
    "start_time": "2022-08-26T17:33:04.627Z"
   },
   {
    "duration": 48,
    "start_time": "2022-08-26T17:33:05.019Z"
   },
   {
    "duration": 38,
    "start_time": "2022-08-26T17:33:05.417Z"
   },
   {
    "duration": 16,
    "start_time": "2022-08-26T17:33:09.802Z"
   },
   {
    "duration": 29,
    "start_time": "2022-08-26T17:33:48.371Z"
   },
   {
    "duration": 17,
    "start_time": "2022-08-26T17:33:50.318Z"
   },
   {
    "duration": 25,
    "start_time": "2022-08-26T17:34:29.292Z"
   },
   {
    "duration": 14,
    "start_time": "2022-08-26T17:35:25.985Z"
   },
   {
    "duration": 10,
    "start_time": "2022-08-26T17:36:36.027Z"
   },
   {
    "duration": 4,
    "start_time": "2022-08-26T17:36:39.820Z"
   },
   {
    "duration": 135,
    "start_time": "2022-08-26T17:36:40.362Z"
   },
   {
    "duration": 11,
    "start_time": "2022-08-26T17:37:13.067Z"
   },
   {
    "duration": 52,
    "start_time": "2022-08-26T17:38:22.397Z"
   },
   {
    "duration": 983,
    "start_time": "2022-08-26T17:39:35.105Z"
   },
   {
    "duration": 9,
    "start_time": "2022-08-26T17:40:52.133Z"
   },
   {
    "duration": 13,
    "start_time": "2022-08-26T17:41:17.525Z"
   }
  ],
  "kernelspec": {
   "display_name": "Python 3 (ipykernel)",
   "language": "python",
   "name": "python3"
  },
  "language_info": {
   "codemirror_mode": {
    "name": "ipython",
    "version": 3
   },
   "file_extension": ".py",
   "mimetype": "text/x-python",
   "name": "python",
   "nbconvert_exporter": "python",
   "pygments_lexer": "ipython3",
   "version": "3.9.7"
  },
  "toc": {
   "base_numbering": 1,
   "nav_menu": {
    "height": "180px",
    "width": "211px"
   },
   "number_sections": true,
   "sideBar": true,
   "skip_h1_title": true,
   "title_cell": "Table of Contents",
   "title_sidebar": "Contents",
   "toc_cell": false,
   "toc_position": {},
   "toc_section_display": true,
   "toc_window_display": true
  }
 },
 "nbformat": 4,
 "nbformat_minor": 2
}
